{
  "nbformat": 4,
  "nbformat_minor": 0,
  "metadata": {
    "accelerator": "GPU",
    "colab": {
      "name": "RC_rocket.ipynb",
      "provenance": []
    },
    "kernelspec": {
      "display_name": "Python 3",
      "language": "python",
      "name": "python3"
    },
    "language_info": {
      "codemirror_mode": {
        "name": "ipython",
        "version": 3
      },
      "file_extension": ".py",
      "mimetype": "text/x-python",
      "name": "python",
      "nbconvert_exporter": "python",
      "pygments_lexer": "ipython3",
      "version": "3.7.9"
    }
  },
  "cells": [
    {
      "cell_type": "code",
      "metadata": {
        "colab": {
          "base_uri": "https://localhost:8080/"
        },
        "id": "pQDiOBtuabDu",
        "outputId": "f5b97aa3-0831-4120-afc8-59e3279c243c"
      },
      "source": [
        "from google.colab import drive\n",
        "\n",
        "drive.mount('/content/gdrive')"
      ],
      "execution_count": null,
      "outputs": [
        {
          "output_type": "stream",
          "text": [
            "Mounted at /content/gdrive\n"
          ],
          "name": "stdout"
        }
      ]
    },
    {
      "cell_type": "code",
      "metadata": {
        "id": "ORKU2ajDZnY6"
      },
      "source": [
        "# only for pubmed data!!! \n",
        "train_x_single = []\n",
        "train_y_single = []\n",
        "train_x_sequence = []\n",
        "train_y_sequence = []\n",
        "dev_x_single = []\n",
        "dev_y_single = []\n",
        "dev_x_sequence = []\n",
        "dev_y_sequence = []\n",
        "test_x_single = []\n",
        "test_y_single = []\n",
        "test_x_sequence = []\n",
        "test_y_sequence = []\n",
        "new_x = []\n",
        "new_y = []\n",
        "\n",
        "# single sentence preprocessing\n",
        "\n",
        "f = open(\"/content/gdrive/My Drive/imrd_data_pubmed/train.txt\", \"r\")\n",
        "for x in f:\n",
        "    if x[:3] != \"###\" and x != \"\\n\":\n",
        "        splitted = x.split('\\t')\n",
        "        if len(splitted) < 2:\n",
        "            continue\n",
        "# digits were eliminated\n",
        "\n",
        "        abstract_ = splitted[1].strip('\\n')\n",
        "        abstract_result = ''.join(i for i in abstract_ if not i.isdigit())\n",
        "        train_x_single.append(abstract_result)\n",
        "        label_ = splitted[0].strip('\\n')\n",
        "        train_y_single.append(label_)\n",
        "\n",
        "f.close()\n",
        "\n",
        "# for x in f:\n",
        "#     if x[:3] != \"###\" and x != \"\\n\":\n",
        "#         splitted = x.split('|')\n",
        "#         if len(splitted) < 2:\n",
        "#             continue\n",
        "#         new_x.append(splitted[2].strip('\\n'))\n",
        "#         new_y.append(splitted[1].strip('\\n'))\n",
        "# f.close()\n",
        "\n",
        "# from sklearn.model_selection import train_test_split\n",
        "# train_x_single, dev_x_single, train_y_single, dev_y_single = train_test_split(new_x, new_y, test_size=0.5)\n",
        "f = open(\"/content/gdrive/My Drive/imrd_data_pubmed/dev.txt\", \"r\")\n",
        "for x in f:\n",
        "    if x[:3] != \"###\" and x != \"\\n\":\n",
        "        splitted = x.split('\\t')\n",
        "        if len(splitted) < 2:\n",
        "            continue\n",
        "# digits were eliminated\n",
        "        abstract_ = splitted[1].strip('\\n')\n",
        "        abstract_result = ''.join(i for i in abstract_ if not i.isdigit())\n",
        "        dev_x_single.append(abstract_result)\n",
        "        label_ = splitted[0].strip('\\n')\n",
        "        dev_y_single.append(label_)\n",
        "\n",
        "\n",
        "f.close()\n",
        "\n",
        "f = open(\"/content/gdrive/My Drive/imrd_data_pubmed/test.txt\", \"r\")\n",
        "for x in f:\n",
        "    if x[:3] != \"###\" and x != \"\\n\":\n",
        "        splitted = x.split('\\t')\n",
        "        if len(splitted) < 2:\n",
        "            continue\n",
        "# digits were eliminated\n",
        "        abstract_ = splitted[1].strip('\\n')\n",
        "        abstract_result = ''.join(i for i in abstract_ if not i.isdigit())\n",
        "        test_x_single.append(abstract_result)\n",
        "        label_ = splitted[0].strip('\\n')\n",
        "        test_y_single.append(label_)\n",
        "\n",
        "f.close()\n",
        "\n",
        "\n",
        "abstract = []\n",
        "label = []\n",
        "f = open(\"/content/gdrive/My Drive/imrd_data_pubmed/train.txt\", \"r\")\n",
        "for x in f:\n",
        "    if x[:3] == \"###\":\n",
        "        if abstract != []:\n",
        "            train_x_sequence.append(abstract)\n",
        "            train_y_sequence.append(label)\n",
        "        abstract = []\n",
        "        label = []\n",
        "    if x[:3] != \"###\" and x != \"\\n\":\n",
        "        splitted = x.split('\\t')\n",
        "        if len(splitted) < 2:\n",
        "            continue\n",
        "        abstract_ = splitted[1].strip('\\n')\n",
        "        abstract_result = ''.join(i for i in abstract_ if not i.isdigit())\n",
        "        abstract.append(abstract_result)\n",
        "        label_ = splitted[0].strip('\\n')\n",
        "        \n",
        "        label.append(label_)\n",
        "\n",
        "train_x_sequence.append(abstract)\n",
        "train_y_sequence.append(label)\n",
        "f.close()\n",
        "\n",
        "abstract = []\n",
        "label = []\n",
        "\n",
        "f = open(\"/content/gdrive/My Drive/imrd_data_pubmed/dev.txt\", \"r\")\n",
        "for x in f:\n",
        "    if x[:3] == \"###\":\n",
        "        if abstract != []:\n",
        "            dev_x_sequence.append(abstract)\n",
        "            dev_y_sequence.append(label)\n",
        "        abstract = []\n",
        "        label = []\n",
        "    if x[:3] != \"###\" and x != \"\\n\":\n",
        "        splitted = x.split('\\t')\n",
        "        if len(splitted) < 2:\n",
        "            continue\n",
        "        abstract_ = splitted[1].strip('\\n')\n",
        "        abstract_result = ''.join(i for i in abstract_ if not i.isdigit())\n",
        "        abstract.append(abstract_result)\n",
        "        label_ = splitted[0].strip('\\n')\n",
        "        label.append(label_)\n",
        "dev_x_sequence.append(abstract)\n",
        "dev_y_sequence.append(label)\n",
        "f.close()\n",
        "\n",
        "f = open(\"/content/gdrive/My Drive/imrd_data_pubmed/test.txt\", \"r\")\n",
        "for x in f:\n",
        "    if x[:3] == \"###\":\n",
        "        if abstract != []:\n",
        "            test_x_sequence.append(abstract)\n",
        "            test_y_sequence.append(label)\n",
        "        abstract = []\n",
        "        label = []\n",
        "    if x[:3] != \"###\" and x != \"\\n\":\n",
        "        splitted = x.split('\\t')\n",
        "        if len(splitted) < 2:\n",
        "            continue\n",
        "        abstract_ = splitted[1].strip('\\n')\n",
        "        abstract_result = ''.join(i for i in abstract_ if not i.isdigit())\n",
        "        abstract.append(abstract_result)\n",
        "        label_ = splitted[0].strip('\\n')\n",
        "        label.append(label_)\n",
        "test_x_sequence.append(abstract)\n",
        "test_y_sequence.append(label)\n",
        "f.close()\n"
      ],
      "execution_count": null,
      "outputs": []
    },
    {
      "cell_type": "code",
      "metadata": {
        "id": "5SqKEG1qZnY6"
      },
      "source": [
        "# only for pubmed!!!\n",
        "\n",
        "def convert_label(labelset):\n",
        "    \n",
        "    res = list(map(lambda st: str.replace(st, \"BACKGROUND\", \"B\"), labelset))\n",
        "    res = list(map(lambda st: str.replace(st, \"OBJECTIVE\", \"O\"), res))\n",
        "    res = list(map(lambda st: str.replace(st, \"METHODS\", \"M\"), res))\n",
        "    res = list(map(lambda st: str.replace(st, \"RESULTS\", \"R\"), res))\n",
        "    res = list(map(lambda st: str.replace(st, \"CONCLUSIONS\", \"C\"), res))\n",
        "    return res\n",
        "def convert_label_2(label):\n",
        "    \n",
        "    if label == \"BACKGROUND\":\n",
        "        return \"B\"\n",
        "    if label == \"OBJECTIVE\":\n",
        "        return \"O\"    \n",
        "    if label == \"METHODS\":\n",
        "        return \"M\"    \n",
        "    if label == \"RESULTS\":\n",
        "        return \"R\"    \n",
        "    if label == \"CONCLUSIONS\":\n",
        "        return \"C\"    \n",
        "    return \"\"\n",
        "\n",
        "train_y_single = convert_label(train_y_single)\n",
        "\n",
        "dev_y_single = convert_label(dev_y_single)\n",
        "\n",
        "test_y_single = convert_label(test_y_single)\n",
        "\n",
        "# def convert_label_2(labelset):\n",
        "#     res = [w.replace(\"BACKGROUND\", \"B\") for s in labelset for w in s]\n",
        "#     res = [w.replace(\"OBJECTIVE\", \"O\") for s in res for w in s]\n",
        "#     res = [w.replace(\"METHODS\", \"M\") for s in res for w in s]\n",
        "#     res = [w.replace(\"RESULTS\", \"R\") for s in res for w in s]\n",
        "#     res = [w.replace(\"CONCLUSIONS\", \"C\") for s in res for w in s]\n",
        "#     return res\n",
        "\n",
        "\n",
        "# train_y_sequence = convert_label_2(train_y_sequence)\n",
        "\n",
        "# dev_y_sequence = convert_label_2(dev_y_sequence)\n",
        "\n"
      ],
      "execution_count": null,
      "outputs": []
    },
    {
      "cell_type": "code",
      "metadata": {
        "id": "cxM3U4j-ZnY8"
      },
      "source": [
        "import tensorflow as tf\n",
        "from tensorflow import keras\n",
        "from tensorflow.keras.preprocessing.text import Tokenizer\n",
        "import numpy as np\n",
        "from tensorflow.keras.preprocessing.sequence import pad_sequences\n",
        "import numpy as np\n",
        "from sklearn.metrics import confusion_matrix\n",
        "from sklearn.metrics import accuracy_score\n"
      ],
      "execution_count": null,
      "outputs": []
    },
    {
      "cell_type": "code",
      "metadata": {
        "id": "RK03EEiPZnY8"
      },
      "source": [
        "tokenizer = Tokenizer(num_words = 15000)\n",
        "tokenizer.fit_on_texts(train_x_single)\n",
        "word_index = tokenizer.word_index"
      ],
      "execution_count": null,
      "outputs": []
    },
    {
      "cell_type": "code",
      "metadata": {
        "id": "aTcgNGITZnY8"
      },
      "source": [
        "word_index = tokenizer.word_index"
      ],
      "execution_count": null,
      "outputs": []
    },
    {
      "cell_type": "code",
      "metadata": {
        "colab": {
          "base_uri": "https://localhost:8080/"
        },
        "id": "CP6JYGObZnY9",
        "outputId": "5c4f670d-bd75-44e0-a30c-a1dbf56ca6aa"
      },
      "source": [
        "len(word_index)"
      ],
      "execution_count": null,
      "outputs": [
        {
          "output_type": "execute_result",
          "data": {
            "text/plain": [
              "137328"
            ]
          },
          "metadata": {
            "tags": []
          },
          "execution_count": 7
        }
      ]
    },
    {
      "cell_type": "code",
      "metadata": {
        "id": "_gkug5BtZnY-"
      },
      "source": [
        "# abc = \"_AMPIRCO\"\n",
        "abc = \"_BOMRC\"\n",
        "# pad for single sentences\n",
        "\n",
        "# abc = \"_IMRD\"\n",
        "\n",
        "sequences_train = tokenizer.texts_to_sequences(train_x_single)\n",
        "sequences_dev = tokenizer.texts_to_sequences(dev_x_single)\n",
        "sequences_test = tokenizer.texts_to_sequences(test_x_single)\n",
        "\n",
        "padded_x_train = pad_sequences(sequences_train, padding = 'post', truncating = 'post', maxlen = 100)\n",
        "padded_x_dev = pad_sequences(sequences_dev, padding = 'post', truncating = 'post', maxlen = 100)\n",
        "padded_x_test = pad_sequences(sequences_test, padding = 'post', truncating = 'post', maxlen = 100)\n",
        "\n",
        "padded_x_train = np.array(padded_x_train)\n",
        "padded_x_dev = np.array(padded_x_dev)\n",
        "padded_x_test = np.array(padded_x_test)\n",
        "\n",
        "y_train = np.array([abc.find(i) for i in train_y_single])\n",
        "y_dev = np.array([abc.find(i) for i in dev_y_single])\n",
        "y_test = np.array([abc.find(i) for i in test_y_single])\n",
        "\n",
        "padded_y_train = np.array(y_train)\n",
        "padded_y_dev = np.array(y_dev)\n",
        "padded_y_test = np.array(y_test)\n"
      ],
      "execution_count": null,
      "outputs": []
    },
    {
      "cell_type": "code",
      "metadata": {
        "id": "OZbnIoyyZnY_"
      },
      "source": [
        "# data preparation for the sequence model\n",
        "\n",
        "padded_x_train_sequence = []\n",
        "# abc = \"_AMPIRCO\"\n",
        "# abc = \"_IMRD\"\n",
        "abs = \"_BOMRC\"\n",
        "before = 0\n",
        "\n",
        "for i in range(len(train_x_sequence)):\n",
        "    tokens = tokenizer.texts_to_sequences(train_x_sequence[i])\n",
        "    total_length = sum(len(row) for row in tokens)\n",
        "\n",
        "    for j in range(len(tokens)):\n",
        "        start = (sum(len(row) for row in tokens[:j]) + 1)/total_length\n",
        "        end =  sum(len(row) for row in tokens[:j+1])/total_length\n",
        "        position = (j + 1)/len(tokens)\n",
        "        padded_x_train_sequence.append([start, end, position, before])\n",
        "        before_label = train_y_sequence[i][j]\n",
        "        before = abc.find(convert_label_2(before_label))\n",
        "    before = 0\n",
        "padded_x_train_sequence = np.array(padded_x_train_sequence)\n",
        "\n",
        "before = 0\n",
        "\n",
        "padded_x_dev_sequence = []\n",
        "\n",
        "for i in range(len(dev_x_sequence)):\n",
        "    tokens = tokenizer.texts_to_sequences(dev_x_sequence[i])\n",
        "    total_length = sum(len(row) for row in tokens)\n",
        "\n",
        "    for j in range(len(tokens)):\n",
        "        start = (sum(len(row) for row in tokens[:j]) + 1)/total_length\n",
        "        end =  sum(len(row) for row in tokens[:j+1])/total_length\n",
        "        position = (j + 1)/len(tokens)\n",
        "        padded_x_dev_sequence.append([start, end, position, before])\n",
        "        before_label = convert_label_2(dev_y_sequence[i][j])\n",
        "        before = abc.find(before_label)\n",
        "    before = 0\n",
        "padded_x_dev_sequence = np.array(padded_x_dev_sequence)\n",
        "\n",
        "padded_x_test_sequence = []\n",
        "\n",
        "for i in range(len(test_x_sequence)):\n",
        "    tokens = tokenizer.texts_to_sequences(test_x_sequence[i])\n",
        "    total_length = sum(len(row) for row in tokens)\n",
        "\n",
        "    for j in range(len(tokens)):\n",
        "        start = (sum(len(row) for row in tokens[:j]) + 1)/total_length\n",
        "        end =  sum(len(row) for row in tokens[:j+1])/total_length\n",
        "        position = (j + 1)/len(tokens)\n",
        "        padded_x_test_sequence.append([start, end, position, before])\n",
        "        before_label = convert_label_2(test_y_sequence[i][j])\n",
        "        before = abc.find(before_label)\n",
        "    before = 0\n",
        "padded_x_test_sequence = np.array(padded_x_test_sequence)\n",
        "\n",
        "y_sequence_train = []\n",
        "\n",
        "for item in train_y_sequence: \n",
        "    label_list = []\n",
        "    for i in item:\n",
        "        label_list.append(abc.find(i))\n",
        "    \n",
        "    y_sequence_train.append(label_list)\n",
        "\n",
        "y_sequence_dev = []\n",
        "\n",
        "for item in dev_y_sequence: \n",
        "    label_list = []\n",
        "    for i in item:\n",
        "        label_list.append(abc.find(i) )\n",
        "    \n",
        "    y_sequence_dev.append(label_list)\n",
        "\n",
        "y_sequence_test = []\n",
        "\n",
        "for item in test_y_sequence: \n",
        "    label_list = []\n",
        "    for i in item:\n",
        "        label_list.append(abc.find(i) )\n",
        "    \n",
        "    y_sequence_test.append(label_list)\n",
        "    \n",
        "y_sequence_train_ = [j for sub in y_sequence_train for j in sub]\n",
        "# padded_y_train_sequence = np.array(y_sequence_train_)\n",
        "padded_y_train_sequence = padded_y_train\n",
        "\n",
        "y_sequence_dev_ = [j for sub in y_sequence_dev for j in sub]\n",
        "# padded_y_dev_sequence = np.array(y_sequence_dev_)\n",
        "padded_y_dev_sequence = padded_y_dev\n",
        "\n",
        "y_sequence_test_ = [j for sub in y_sequence_test for j in sub]\n",
        "# padded_y_dev_sequence = np.array(y_sequence_dev_)\n",
        "padded_y_test_sequence = padded_y_test\n"
      ],
      "execution_count": null,
      "outputs": []
    },
    {
      "cell_type": "markdown",
      "metadata": {
        "id": "HahJuDATZnY_"
      },
      "source": [
        "## padded_y_train_sequence"
      ]
    },
    {
      "cell_type": "code",
      "metadata": {
        "id": "MnMccrjVZnZD"
      },
      "source": [
        "b = np.zeros((padded_y_train_sequence.size, padded_y_train_sequence.max()+1))\n",
        "b[np.arange(padded_y_train_sequence.size),padded_y_train_sequence] = 1\n",
        "\n",
        "b_ = np.zeros((padded_y_dev_sequence.size, padded_y_dev_sequence.max()+1))\n",
        "b_[np.arange(padded_y_dev_sequence.size),padded_y_dev_sequence] = 1\n",
        "\n",
        "b_test = np.zeros((padded_y_test_sequence.size, padded_y_test_sequence.max()+1))\n",
        "b_test[np.arange(padded_y_test_sequence.size),padded_y_test_sequence] = 1\n"
      ],
      "execution_count": null,
      "outputs": []
    },
    {
      "cell_type": "code",
      "metadata": {
        "id": "1AYVJfv2ZnZE"
      },
      "source": [
        "# model for sequence\n",
        "\n",
        "n_features = padded_x_train_sequence.shape[1]\n",
        "\n",
        "model_sequence = tf.keras.Sequential([\n",
        "tf.keras.layers.Dense(12, activation='tanh', kernel_initializer='he_normal', input_shape=(n_features,)),\n",
        "tf.keras.layers.Dense(12, activation='relu', kernel_initializer='he_normal', input_shape=(n_features,)),\n",
        "tf.keras.layers.Dense(8, activation='relu', kernel_initializer='he_normal'),\n",
        "# tf.keras.layers.Dense(5, activation='sigmoid'),\n",
        "tf.keras.layers.Dense(6, activation='sigmoid'),\n",
        "\n",
        "\n",
        "])\n",
        "\n",
        "opt = keras.optimizers.Adam(learning_rate=0.001)\n",
        "model_sequence.compile(loss = 'binary_crossentropy', optimizer = opt, metrics = ['accuracy'])\n"
      ],
      "execution_count": null,
      "outputs": []
    },
    {
      "cell_type": "code",
      "metadata": {
        "colab": {
          "base_uri": "https://localhost:8080/"
        },
        "id": "p_rB0zvMfzC-",
        "outputId": "4bf49cac-faa4-40c0-ad76-75d3db4bcb99"
      },
      "source": [
        "from tensorflow.python.client import device_lib\n",
        "device_lib.list_local_devices()"
      ],
      "execution_count": null,
      "outputs": [
        {
          "output_type": "execute_result",
          "data": {
            "text/plain": [
              "[name: \"/device:CPU:0\"\n",
              " device_type: \"CPU\"\n",
              " memory_limit: 268435456\n",
              " locality {\n",
              " }\n",
              " incarnation: 3824254340255124024, name: \"/device:GPU:0\"\n",
              " device_type: \"GPU\"\n",
              " memory_limit: 15703311680\n",
              " locality {\n",
              "   bus_id: 1\n",
              "   links {\n",
              "   }\n",
              " }\n",
              " incarnation: 7485443850618133606\n",
              " physical_device_desc: \"device: 0, name: Tesla P100-PCIE-16GB, pci bus id: 0000:00:04.0, compute capability: 6.0\"]"
            ]
          },
          "metadata": {
            "tags": []
          },
          "execution_count": 12
        }
      ]
    },
    {
      "cell_type": "code",
      "metadata": {
        "colab": {
          "base_uri": "https://localhost:8080/"
        },
        "id": "71zRKTNJZnZE",
        "outputId": "4cde40ce-6253-435a-de91-1f2029a83b38"
      },
      "source": [
        "import os\n",
        "num_epochs = 5\n",
        "\n",
        "\n",
        "checkpoint_path = \"training_sequence/cp.ckpt\"\n",
        "checkpoint_dir = os.path.dirname(checkpoint_path)\n",
        "\n",
        "# Create a callback that saves the model's weights\n",
        "cp_callback = tf.keras.callbacks.ModelCheckpoint(filepath=checkpoint_path,\n",
        "                                                 save_weights_only=True,\n",
        "                                                 monitor='val_accuracy',\n",
        "                                                 mode='max',\n",
        "                                                 save_best_only=True)\n",
        "\n",
        "history_sequence = model_sequence.fit(padded_x_train_sequence, b,\n",
        "         epochs = num_epochs,\n",
        "         validation_data = (padded_x_dev_sequence, b_),\n",
        "           batch_size=10, callbacks=[cp_callback])\n",
        "model_sequence.load_weights(checkpoint_path)"
      ],
      "execution_count": null,
      "outputs": [
        {
          "output_type": "stream",
          "text": [
            "Epoch 1/5\n",
            "221187/221187 [==============================] - 478s 2ms/step - loss: 0.1574 - accuracy: 0.7805 - val_loss: 0.1415 - val_accuracy: 0.8007\n",
            "Epoch 2/5\n",
            "221187/221187 [==============================] - 476s 2ms/step - loss: 0.1428 - accuracy: 0.7986 - val_loss: 0.1391 - val_accuracy: 0.8051\n",
            "Epoch 3/5\n",
            "221187/221187 [==============================] - 475s 2ms/step - loss: 0.1412 - accuracy: 0.8015 - val_loss: 0.1497 - val_accuracy: 0.7944\n",
            "Epoch 4/5\n",
            "221187/221187 [==============================] - 476s 2ms/step - loss: 0.1403 - accuracy: 0.8027 - val_loss: 0.1381 - val_accuracy: 0.8056\n",
            "Epoch 5/5\n",
            "221187/221187 [==============================] - 468s 2ms/step - loss: 0.1399 - accuracy: 0.8029 - val_loss: 0.1382 - val_accuracy: 0.8045\n"
          ],
          "name": "stdout"
        },
        {
          "output_type": "execute_result",
          "data": {
            "text/plain": [
              "<tensorflow.python.training.tracking.util.CheckpointLoadStatus at 0x7fe28b692390>"
            ]
          },
          "metadata": {
            "tags": []
          },
          "execution_count": 13
        }
      ]
    },
    {
      "cell_type": "code",
      "metadata": {
        "id": "15jeFABsZnZE"
      },
      "source": [
        "pred = model_sequence.predict(padded_x_dev_sequence)\n",
        "pred = np.argmax(pred, axis=1)\n",
        "acc = accuracy_score(pred, padded_y_dev_sequence)"
      ],
      "execution_count": null,
      "outputs": []
    },
    {
      "cell_type": "code",
      "metadata": {
        "colab": {
          "base_uri": "https://localhost:8080/"
        },
        "id": "qkxnrcH5ZnZF",
        "outputId": "7ed31cbd-345b-454b-8160-552661581956"
      },
      "source": [
        "acc"
      ],
      "execution_count": null,
      "outputs": [
        {
          "output_type": "execute_result",
          "data": {
            "text/plain": [
              "0.8056131618968616"
            ]
          },
          "metadata": {
            "tags": []
          },
          "execution_count": 15
        }
      ]
    },
    {
      "cell_type": "code",
      "metadata": {
        "colab": {
          "base_uri": "https://localhost:8080/",
          "height": 542
        },
        "id": "_7LMoek4ZnZF",
        "outputId": "239a3320-b449-428a-b149-cc3025557c4d"
      },
      "source": [
        "import matplotlib.pyplot as plt\n",
        "\n",
        "\n",
        "def plot_graphs(history, string):\n",
        "    plt.plot(history.history[string])\n",
        "    plt.plot(history.history['val_'+string])\n",
        "    plt.xlabel(\"Epochs\")\n",
        "    plt.ylabel(string)\n",
        "    plt.legend([string, 'val_'+string])\n",
        "    plt.show()\n",
        "  \n",
        "plot_graphs(history_sequence, \"accuracy\")\n",
        "plot_graphs(history_sequence, \"loss\")"
      ],
      "execution_count": null,
      "outputs": [
        {
          "output_type": "display_data",
          "data": {
            "image/png": "[encoded data removed]",
            "text/plain": [
              "<Figure size 432x288 with 1 Axes>"
            ]
          },
          "metadata": {
            "tags": []
          }
        },
        {
          "output_type": "display_data",
          "data": {
            "image/png": "[encoded data removed]",
            "text/plain": [
              "<Figure size 432x288 with 1 Axes>"
            ]
          },
          "metadata": {
            "tags": []
          }
        }
      ]
    },
    {
      "cell_type": "code",
      "metadata": {
        "colab": {
          "base_uri": "https://localhost:8080/"
        },
        "id": "sjNwADhgZnZF",
        "outputId": "266a04f6-2624-409a-f9cf-748197290cdf"
      },
      "source": [
        "# confusion matrix for model_sequence (train)\n",
        "\n",
        "labels = padded_y_dev_sequence\n",
        "predictions = model_sequence.predict(padded_x_dev_sequence)\n",
        "pred = np.argmax(predictions, axis=1)\n",
        "\n",
        "confusion_matrix(pred, labels)"
      ],
      "execution_count": null,
      "outputs": [
        {
          "output_type": "execute_result",
          "data": {
            "text/plain": [
              "array([[1709,  612,  316,   11,   27],\n",
              "       [ 518, 1250,  112,    0,    0],\n",
              "       [ 273,  561, 8661, 1555,    7],\n",
              "       [   1,    0,  439, 7946,  620],\n",
              "       [  74,    2,   31,  465, 3742]])"
            ]
          },
          "metadata": {
            "tags": []
          },
          "execution_count": 17
        }
      ]
    },
    {
      "cell_type": "code",
      "metadata": {
        "colab": {
          "base_uri": "https://localhost:8080/"
        },
        "id": "F4cXhsVOZnZF",
        "outputId": "cc162533-000b-46be-a12b-8c3757d32e7d"
      },
      "source": [
        "from sklearn.metrics import precision_recall_fscore_support\n",
        "from sklearn.metrics import accuracy_score\n",
        "\n",
        "print(precision_recall_fscore_support(pred, labels, average = \"weighted\"))\n",
        "print(accuracy_score(pred, labels))\n"
      ],
      "execution_count": null,
      "outputs": [
        {
          "output_type": "stream",
          "text": [
            "(0.8159677402913581, 0.8056131618968616, 0.80775462496255, None)\n",
            "0.8056131618968616\n"
          ],
          "name": "stdout"
        }
      ]
    },
    {
      "cell_type": "code",
      "metadata": {
        "colab": {
          "base_uri": "https://localhost:8080/"
        },
        "id": "H-shN7cSZnZG",
        "outputId": "085a4e55-d867-4188-8733-f623cfed6d7a"
      },
      "source": [
        "# confusion matrix for model_sequence (dev)\n",
        "\n",
        "labels = padded_y_dev_sequence\n",
        "predictions = model_sequence.predict(padded_x_dev_sequence)\n",
        "pred = np.argmax(predictions, axis=1)\n",
        "\n",
        "confusion_matrix(pred, labels)"
      ],
      "execution_count": null,
      "outputs": [
        {
          "output_type": "execute_result",
          "data": {
            "text/plain": [
              "array([[1709,  612,  316,   11,   27],\n",
              "       [ 518, 1250,  112,    0,    0],\n",
              "       [ 273,  561, 8661, 1555,    7],\n",
              "       [   1,    0,  439, 7946,  620],\n",
              "       [  74,    2,   31,  465, 3742]])"
            ]
          },
          "metadata": {
            "tags": []
          },
          "execution_count": 19
        }
      ]
    },
    {
      "cell_type": "code",
      "metadata": {
        "id": "JaspQdoIZnZG"
      },
      "source": [
        "# model for single sentence\n",
        "batch_size = 64\n",
        "vocab_size = 10392  # vocab is number of unique characters\n",
        "embedding_dim = 256\n",
        "rnn_units = 1024\n",
        "\n",
        "model1 = tf.keras.Sequential([\n",
        "\n",
        "    tf.keras.layers.Embedding(15000+1, 10, input_length = 100),\n",
        "    tf.keras.layers.Bidirectional(tf.keras.layers.LSTM(64)),\n",
        "#    tf.keras.layers.LSTM(200, input_shape=(100, 100)),\n",
        "    tf.keras.layers.Dense(100, activation = 'tanh'),\n",
        "    tf.keras.layers.Dense(50, activation = 'relu'),\n",
        "\n",
        "#     tf.keras.layers.Dense(5, activation = 'sigmoid')\n",
        "    tf.keras.layers.Dense(6, activation='sigmoid'),\n",
        "    \n",
        "])\n",
        "opt = keras.optimizers.Adam(learning_rate=0.01)\n",
        "model1.compile(loss = 'binary_crossentropy', optimizer = opt, metrics = ['accuracy'])\n"
      ],
      "execution_count": null,
      "outputs": []
    },
    {
      "cell_type": "code",
      "metadata": {
        "colab": {
          "base_uri": "https://localhost:8080/"
        },
        "id": "8l8kevzAZnZG",
        "outputId": "66f0e1f7-95f4-4eb6-98cb-5190f77a5bdf"
      },
      "source": [
        "num_epochs = 10\n",
        "\n",
        "checkpoint_path = \"training_biLSTM/cp.ckpt\"\n",
        "checkpoint_dir = os.path.dirname(checkpoint_path)\n",
        "\n",
        "# Create a callback that saves the model's weights\n",
        "cp_callback = tf.keras.callbacks.ModelCheckpoint(filepath=checkpoint_path,\n",
        "                                                 save_weights_only=True,\n",
        "                                                 monitor='val_accuracy',\n",
        "                                                 mode='max',\n",
        "                                                 save_best_only=True)\n",
        "\n",
        "\n",
        "history_sequence = model1.fit(padded_x_train, b,\n",
        "         epochs = num_epochs,\n",
        "         validation_data = (padded_x_dev, b_),\n",
        "         batch_size=200, callbacks=[cp_callback])\n",
        "model1.load_weights(checkpoint_path)"
      ],
      "execution_count": null,
      "outputs": [
        {
          "output_type": "stream",
          "text": [
            "Epoch 1/10\n",
            "11060/11060 [==============================] - 223s 18ms/step - loss: 0.1518 - accuracy: 0.8108 - val_loss: 0.1229 - val_accuracy: 0.8492\n",
            "Epoch 2/10\n",
            "11060/11060 [==============================] - 194s 17ms/step - loss: 0.1230 - accuracy: 0.8512 - val_loss: 0.1219 - val_accuracy: 0.8504\n",
            "Epoch 3/10\n",
            "11060/11060 [==============================] - 196s 18ms/step - loss: 0.1208 - accuracy: 0.8541 - val_loss: 0.1227 - val_accuracy: 0.8509\n",
            "Epoch 4/10\n",
            "11060/11060 [==============================] - 196s 18ms/step - loss: 0.1204 - accuracy: 0.8548 - val_loss: 0.1272 - val_accuracy: 0.8436\n",
            "Epoch 5/10\n",
            "11060/11060 [==============================] - 196s 18ms/step - loss: 0.1242 - accuracy: 0.8499 - val_loss: 0.1284 - val_accuracy: 0.8452\n",
            "Epoch 6/10\n",
            "11060/11060 [==============================] - 195s 18ms/step - loss: 0.1243 - accuracy: 0.8496 - val_loss: 0.1249 - val_accuracy: 0.8499\n",
            "Epoch 7/10\n",
            "11060/11060 [==============================] - 196s 18ms/step - loss: 0.1231 - accuracy: 0.8513 - val_loss: 0.1249 - val_accuracy: 0.8498\n",
            "Epoch 8/10\n",
            "11060/11060 [==============================] - 195s 18ms/step - loss: 0.1231 - accuracy: 0.8514 - val_loss: 0.1249 - val_accuracy: 0.8496\n",
            "Epoch 9/10\n",
            "11060/11060 [==============================] - 196s 18ms/step - loss: 0.1225 - accuracy: 0.8526 - val_loss: 0.1264 - val_accuracy: 0.8470\n",
            "Epoch 10/10\n",
            "11060/11060 [==============================] - 197s 18ms/step - loss: 0.1247 - accuracy: 0.8493 - val_loss: 0.1279 - val_accuracy: 0.8432\n"
          ],
          "name": "stdout"
        },
        {
          "output_type": "execute_result",
          "data": {
            "text/plain": [
              "<tensorflow.python.training.tracking.util.CheckpointLoadStatus at 0x7fe28a36e5d0>"
            ]
          },
          "metadata": {
            "tags": []
          },
          "execution_count": 21
        }
      ]
    },
    {
      "cell_type": "code",
      "metadata": {
        "colab": {
          "base_uri": "https://localhost:8080/",
          "height": 541
        },
        "id": "qvOeoZFjZnZH",
        "outputId": "1784048d-3ea4-46be-fbd5-9a4d34912dd5"
      },
      "source": [
        "import matplotlib.pyplot as plt\n",
        "\n",
        "\n",
        "def plot_graphs(history, string):\n",
        "    plt.plot(history.history[string])\n",
        "    plt.plot(history.history['val_'+string])\n",
        "    plt.xlabel(\"Epochs\")\n",
        "    plt.ylabel(string)\n",
        "    plt.legend([string, 'val_'+string])\n",
        "    plt.show()\n",
        "  \n",
        "plot_graphs(history_sequence, \"accuracy\")\n",
        "plot_graphs(history_sequence, \"loss\")"
      ],
      "execution_count": null,
      "outputs": [
        {
          "output_type": "display_data",
          "data": {
            "image/png": "[encoded data removed]",
            "text/plain": [
              "<Figure size 432x288 with 1 Axes>"
            ]
          },
          "metadata": {
            "tags": []
          }
        },
        {
          "output_type": "display_data",
          "data": {
            "image/png": "[encoded data removed]",
            "text/plain": [
              "<Figure size 432x288 with 1 Axes>"
            ]
          },
          "metadata": {
            "tags": []
          }
        }
      ]
    },
    {
      "cell_type": "code",
      "metadata": {
        "colab": {
          "base_uri": "https://localhost:8080/"
        },
        "id": "t9kFcCe6ZnZH",
        "outputId": "4432e8df-2b0b-40d6-9362-8e5f0ba9d28a"
      },
      "source": [
        "# confusion matrix for single sentence model (dev)\n",
        "\n",
        "labels = padded_y_dev\n",
        "predictions = model1.predict(padded_x_dev)\n",
        "pred = np.argmax(predictions, axis=1)\n",
        "confusion_matrix(pred, labels)"
      ],
      "execution_count": null,
      "outputs": [
        {
          "output_type": "execute_result",
          "data": {
            "text/plain": [
              "array([[1522,  501,   56,    9,  139],\n",
              "       [ 422, 1572,   75,    5,   10],\n",
              "       [ 140,  150, 8962,  600,   57],\n",
              "       [  16,   15,  402, 8815,  442],\n",
              "       [ 475,  187,   64,  548, 3748]])"
            ]
          },
          "metadata": {
            "tags": []
          },
          "execution_count": 23
        }
      ]
    },
    {
      "cell_type": "code",
      "metadata": {
        "colab": {
          "base_uri": "https://localhost:8080/"
        },
        "id": "zl4NQvM4ZnZH",
        "outputId": "90e895a5-8d2e-44bb-d662-17e207b618d3"
      },
      "source": [
        "print(precision_recall_fscore_support(pred, labels, average = \"weighted\"))\n",
        "print(accuracy_score(pred, labels))\n"
      ],
      "execution_count": null,
      "outputs": [
        {
          "output_type": "stream",
          "text": [
            "(0.8572012533753616, 0.8509263099682013, 0.8527382698459841, None)\n",
            "0.8509263099682013\n"
          ],
          "name": "stdout"
        }
      ]
    },
    {
      "cell_type": "code",
      "metadata": {
        "id": "rFPqRE4DZnZH"
      },
      "source": [
        "# trade off model\n",
        "\n",
        "labels = padded_y_dev\n",
        "prediction_single_train = model1.predict(padded_x_train)\n",
        "prediction_sequence_train = model_sequence.predict(padded_x_train_sequence)\n",
        "prediction_single = model1.predict(padded_x_dev)\n",
        "prediction_sequence = model_sequence.predict(padded_x_dev_sequence)\n"
      ],
      "execution_count": null,
      "outputs": []
    },
    {
      "cell_type": "code",
      "metadata": {
        "id": "IOU_Vl8rZnZJ"
      },
      "source": [
        "integrate_x_train = np.concatenate((prediction_single_train, prediction_sequence_train), axis=1)\n",
        "integrate_x_dev = np.concatenate((prediction_single, prediction_sequence), axis=1)"
      ],
      "execution_count": null,
      "outputs": []
    },
    {
      "cell_type": "code",
      "metadata": {
        "colab": {
          "base_uri": "https://localhost:8080/"
        },
        "id": "yKgLW4d8ZnZJ",
        "outputId": "83ebb00e-ab0a-4e50-a7a0-b168366cbe5d"
      },
      "source": [
        "integrate_x_dev.shape"
      ],
      "execution_count": null,
      "outputs": [
        {
          "output_type": "execute_result",
          "data": {
            "text/plain": [
              "(28932, 12)"
            ]
          },
          "metadata": {
            "tags": []
          },
          "execution_count": 27
        }
      ]
    },
    {
      "cell_type": "code",
      "metadata": {
        "colab": {
          "base_uri": "https://localhost:8080/"
        },
        "id": "JwYR7SGqZnZK",
        "outputId": "8b7f8eb4-be83-49f5-8f2c-446b36a53e9c"
      },
      "source": [
        "b_.shape"
      ],
      "execution_count": null,
      "outputs": [
        {
          "output_type": "execute_result",
          "data": {
            "text/plain": [
              "(28932, 6)"
            ]
          },
          "metadata": {
            "tags": []
          },
          "execution_count": 28
        }
      ]
    },
    {
      "cell_type": "code",
      "metadata": {
        "id": "Ka92jTgFZnZK"
      },
      "source": [
        "n_features = integrate_x_train.shape[1]\n",
        "\n",
        "model_integrate_new= tf.keras.Sequential([\n",
        "tf.keras.layers.Dense(12, activation='tanh', kernel_initializer='he_normal', input_shape=(12,)),\n",
        "tf.keras.layers.Dense(12, activation='relu', kernel_initializer='he_normal', input_shape=(12,)),\n",
        "tf.keras.layers.Dense(8, activation='relu', kernel_initializer='he_normal'),\n",
        "# tf.keras.layers.Dense(5, activation='sigmoid'),\n",
        "tf.keras.layers.Dense(6, activation='sigmoid')\n",
        "])\n",
        "\n",
        "opt = keras.optimizers.Adam(learning_rate=0.001)\n",
        "model_integrate_new.compile(loss = 'binary_crossentropy', optimizer = opt, metrics = ['accuracy'])\n"
      ],
      "execution_count": null,
      "outputs": []
    },
    {
      "cell_type": "code",
      "metadata": {
        "id": "5XDsjttBZnZK"
      },
      "source": [
        "checkpoint_path = \"training_integrate/cp.ckpt\"\n",
        "checkpoint_dir = os.path.dirname(checkpoint_path)\n",
        "\n",
        "# Create a callback that saves the model's weights\n",
        "cp_callback = tf.keras.callbacks.ModelCheckpoint(filepath=checkpoint_path,\n",
        "                                                 save_weights_only=True,\n",
        "                                                 monitor='val_accuracy',\n",
        "                                                 mode='max',\n",
        "                                                 save_best_only=True)\n"
      ],
      "execution_count": null,
      "outputs": []
    },
    {
      "cell_type": "code",
      "metadata": {
        "colab": {
          "background_save": true,
          "base_uri": "https://localhost:8080/"
        },
        "id": "owkgjU0UZnZK",
        "outputId": "accb5cb7-920b-43d7-a398-a072356d8d32"
      },
      "source": [
        "num_epochs = 3\n",
        "history_sequence = model_integrate_new.fit(integrate_x_train, b,\n",
        "         epochs = num_epochs,\n",
        "         validation_data = (integrate_x_dev, b_),\n",
        "           batch_size=10, callbacks=[cp_callback])\n"
      ],
      "execution_count": null,
      "outputs": [
        {
          "output_type": "stream",
          "text": [
            "Epoch 1/3\n",
            "221187/221187 [==============================] - 488s 2ms/step - loss: 0.0581 - accuracy: 0.9350 - val_loss: 0.0588 - val_accuracy: 0.9326\n",
            "Epoch 2/3\n",
            "221187/221187 [==============================] - 490s 2ms/step - loss: 0.0578 - accuracy: 0.9352 - val_loss: 0.0586 - val_accuracy: 0.9325\n",
            "Epoch 3/3\n",
            "221187/221187 [==============================] - 450s 2ms/step - loss: 0.0576 - accuracy: 0.9354 - val_loss: 0.0592 - val_accuracy: 0.9318\n"
          ],
          "name": "stdout"
        }
      ]
    },
    {
      "cell_type": "code",
      "metadata": {
        "colab": {
          "base_uri": "https://localhost:8080/"
        },
        "id": "GYCNnTXnIxpN",
        "outputId": "34e944e7-008c-466f-bcad-982733cc1e7c"
      },
      "source": [
        "model_integrate_new.load_weights(checkpoint_path)"
      ],
      "execution_count": null,
      "outputs": [
        {
          "output_type": "execute_result",
          "data": {
            "text/plain": [
              "<tensorflow.python.training.tracking.util.CheckpointLoadStatus at 0x7fe2857f7090>"
            ]
          },
          "metadata": {
            "tags": []
          },
          "execution_count": 36
        }
      ]
    },
    {
      "cell_type": "code",
      "metadata": {
        "id": "6vInSOiDZnZL",
        "colab": {
          "base_uri": "https://localhost:8080/"
        },
        "outputId": "99b2d788-a93c-4cc3-e112-baa2e1de0afc"
      },
      "source": [
        "labels = padded_y_dev\n",
        "predictions = model_integrate_new.predict(integrate_x_dev)\n",
        "pred = np.argmax(predictions, axis=1)\n",
        "confusion_matrix(pred, labels)"
      ],
      "execution_count": null,
      "outputs": [
        {
          "output_type": "execute_result",
          "data": {
            "text/plain": [
              "array([[2316,  550,   69,    5,   27],\n",
              "       [ 199, 1793,   47,    2,    0],\n",
              "       [  46,   79, 9163,  276,   11],\n",
              "       [   0,    1,  270, 9555,  203],\n",
              "       [  14,    2,   10,  139, 4155]])"
            ]
          },
          "metadata": {
            "tags": []
          },
          "execution_count": 37
        }
      ]
    },
    {
      "cell_type": "code",
      "metadata": {
        "id": "OJ_Gy2MYZnZL",
        "colab": {
          "base_uri": "https://localhost:8080/"
        },
        "outputId": "a5eeead8-3d74-4398-d898-0ae2a89da97e"
      },
      "source": [
        "print(precision_recall_fscore_support(pred, labels, average = \"weighted\"))\n",
        "print(accuracy_score(pred, labels))\n"
      ],
      "execution_count": null,
      "outputs": [
        {
          "output_type": "stream",
          "text": [
            "(0.9347419259531695, 0.9326005806719203, 0.9328050941655954, None)\n",
            "0.9326005806719203\n"
          ],
          "name": "stdout"
        }
      ]
    },
    {
      "cell_type": "code",
      "metadata": {
        "id": "KXuRlZrtZnZL",
        "colab": {
          "base_uri": "https://localhost:8080/"
        },
        "outputId": "f5221ae4-31c9-4d55-9975-6e308677b111"
      },
      "source": [
        "model_integrate_new.load_weights(checkpoint_path)"
      ],
      "execution_count": null,
      "outputs": [
        {
          "output_type": "execute_result",
          "data": {
            "text/plain": [
              "<tensorflow.python.training.tracking.util.CheckpointLoadStatus at 0x7fe28c2a5450>"
            ]
          },
          "metadata": {
            "tags": []
          },
          "execution_count": 35
        }
      ]
    },
    {
      "cell_type": "code",
      "metadata": {
        "id": "Y_3DLGF0aaCg"
      },
      "source": [
        ""
      ],
      "execution_count": null,
      "outputs": []
    }
  ]
}