{
  "nbformat": 4,
  "nbformat_minor": 0,
  "metadata": {
    "accelerator": "GPU",
    "colab": {
      "name": "Pytorch_bert_manual_set.ipynb",
      "provenance": [],
      "collapsed_sections": []
    },
    "kernelspec": {
      "display_name": "Python 3",
      "name": "python3"
    },
    "language_info": {
      "name": "python"
    }
  },
  "cells": [
    {
      "cell_type": "code",
      "metadata": {
        "colab": {
          "base_uri": "https://localhost:8080/"
        },
        "id": "95T1fb1B0jTB",
        "outputId": "a07c108a-f0b0-4cbc-e6c6-e49b9997af18"
      },
      "source": [
        "! pip install transformers==3"
      ],
      "execution_count": null,
      "outputs": [
        {
          "output_type": "stream",
          "name": "stdout",
          "text": [
            "Collecting transformers==3\n",
            "  Downloading transformers-3.0.0-py3-none-any.whl (754 kB)\n",
            "\u001b[?25l\r\u001b[K     |▍                               | 10 kB 15.2 MB/s eta 0:00:01\r\u001b[K     |▉                               | 20 kB 13.4 MB/s eta 0:00:01\r\u001b[K     |█▎                              | 30 kB 9.6 MB/s eta 0:00:01\r\u001b[K     |█▊                              | 40 kB 8.8 MB/s eta 0:00:01\r\u001b[K     |██▏                             | 51 kB 5.5 MB/s eta 0:00:01\r\u001b[K     |██▋                             | 61 kB 6.1 MB/s eta 0:00:01\r\u001b[K     |███                             | 71 kB 5.3 MB/s eta 0:00:01\r\u001b[K     |███▌                            | 81 kB 6.0 MB/s eta 0:00:01\r\u001b[K     |████                            | 92 kB 6.3 MB/s eta 0:00:01\r\u001b[K     |████▍                           | 102 kB 5.3 MB/s eta 0:00:01\r\u001b[K     |████▊                           | 112 kB 5.3 MB/s eta 0:00:01\r\u001b[K     |█████▏                          | 122 kB 5.3 MB/s eta 0:00:01\r\u001b[K     |█████▋                          | 133 kB 5.3 MB/s eta 0:00:01\r\u001b[K     |██████                          | 143 kB 5.3 MB/s eta 0:00:01\r\u001b[K     |██████▌                         | 153 kB 5.3 MB/s eta 0:00:01\r\u001b[K     |███████                         | 163 kB 5.3 MB/s eta 0:00:01\r\u001b[K     |███████▍                        | 174 kB 5.3 MB/s eta 0:00:01\r\u001b[K     |███████▉                        | 184 kB 5.3 MB/s eta 0:00:01\r\u001b[K     |████████▎                       | 194 kB 5.3 MB/s eta 0:00:01\r\u001b[K     |████████▊                       | 204 kB 5.3 MB/s eta 0:00:01\r\u001b[K     |█████████▏                      | 215 kB 5.3 MB/s eta 0:00:01\r\u001b[K     |█████████▌                      | 225 kB 5.3 MB/s eta 0:00:01\r\u001b[K     |██████████                      | 235 kB 5.3 MB/s eta 0:00:01\r\u001b[K     |██████████▍                     | 245 kB 5.3 MB/s eta 0:00:01\r\u001b[K     |██████████▉                     | 256 kB 5.3 MB/s eta 0:00:01\r\u001b[K     |███████████▎                    | 266 kB 5.3 MB/s eta 0:00:01\r\u001b[K     |███████████▊                    | 276 kB 5.3 MB/s eta 0:00:01\r\u001b[K     |████████████▏                   | 286 kB 5.3 MB/s eta 0:00:01\r\u001b[K     |████████████▋                   | 296 kB 5.3 MB/s eta 0:00:01\r\u001b[K     |█████████████                   | 307 kB 5.3 MB/s eta 0:00:01\r\u001b[K     |█████████████▌                  | 317 kB 5.3 MB/s eta 0:00:01\r\u001b[K     |██████████████                  | 327 kB 5.3 MB/s eta 0:00:01\r\u001b[K     |██████████████▎                 | 337 kB 5.3 MB/s eta 0:00:01\r\u001b[K     |██████████████▊                 | 348 kB 5.3 MB/s eta 0:00:01\r\u001b[K     |███████████████▏                | 358 kB 5.3 MB/s eta 0:00:01\r\u001b[K     |███████████████▋                | 368 kB 5.3 MB/s eta 0:00:01\r\u001b[K     |████████████████                | 378 kB 5.3 MB/s eta 0:00:01\r\u001b[K     |████████████████▌               | 389 kB 5.3 MB/s eta 0:00:01\r\u001b[K     |█████████████████               | 399 kB 5.3 MB/s eta 0:00:01\r\u001b[K     |█████████████████▍              | 409 kB 5.3 MB/s eta 0:00:01\r\u001b[K     |█████████████████▉              | 419 kB 5.3 MB/s eta 0:00:01\r\u001b[K     |██████████████████▎             | 430 kB 5.3 MB/s eta 0:00:01\r\u001b[K     |██████████████████▊             | 440 kB 5.3 MB/s eta 0:00:01\r\u001b[K     |███████████████████             | 450 kB 5.3 MB/s eta 0:00:01\r\u001b[K     |███████████████████▌            | 460 kB 5.3 MB/s eta 0:00:01\r\u001b[K     |████████████████████            | 471 kB 5.3 MB/s eta 0:00:01\r\u001b[K     |████████████████████▍           | 481 kB 5.3 MB/s eta 0:00:01\r\u001b[K     |████████████████████▉           | 491 kB 5.3 MB/s eta 0:00:01\r\u001b[K     |█████████████████████▎          | 501 kB 5.3 MB/s eta 0:00:01\r\u001b[K     |█████████████████████▊          | 512 kB 5.3 MB/s eta 0:00:01\r\u001b[K     |██████████████████████▏         | 522 kB 5.3 MB/s eta 0:00:01\r\u001b[K     |██████████████████████▋         | 532 kB 5.3 MB/s eta 0:00:01\r\u001b[K     |███████████████████████         | 542 kB 5.3 MB/s eta 0:00:01\r\u001b[K     |███████████████████████▌        | 552 kB 5.3 MB/s eta 0:00:01\r\u001b[K     |███████████████████████▉        | 563 kB 5.3 MB/s eta 0:00:01\r\u001b[K     |████████████████████████▎       | 573 kB 5.3 MB/s eta 0:00:01\r\u001b[K     |████████████████████████▊       | 583 kB 5.3 MB/s eta 0:00:01\r\u001b[K     |█████████████████████████▏      | 593 kB 5.3 MB/s eta 0:00:01\r\u001b[K     |█████████████████████████▋      | 604 kB 5.3 MB/s eta 0:00:01\r\u001b[K     |██████████████████████████      | 614 kB 5.3 MB/s eta 0:00:01\r\u001b[K     |██████████████████████████▌     | 624 kB 5.3 MB/s eta 0:00:01\r\u001b[K     |███████████████████████████     | 634 kB 5.3 MB/s eta 0:00:01\r\u001b[K     |███████████████████████████▍    | 645 kB 5.3 MB/s eta 0:00:01\r\u001b[K     |███████████████████████████▉    | 655 kB 5.3 MB/s eta 0:00:01\r\u001b[K     |████████████████████████████▎   | 665 kB 5.3 MB/s eta 0:00:01\r\u001b[K     |████████████████████████████▋   | 675 kB 5.3 MB/s eta 0:00:01\r\u001b[K     |█████████████████████████████   | 686 kB 5.3 MB/s eta 0:00:01\r\u001b[K     |█████████████████████████████▌  | 696 kB 5.3 MB/s eta 0:00:01\r\u001b[K     |██████████████████████████████  | 706 kB 5.3 MB/s eta 0:00:01\r\u001b[K     |██████████████████████████████▍ | 716 kB 5.3 MB/s eta 0:00:01\r\u001b[K     |██████████████████████████████▉ | 727 kB 5.3 MB/s eta 0:00:01\r\u001b[K     |███████████████████████████████▎| 737 kB 5.3 MB/s eta 0:00:01\r\u001b[K     |███████████████████████████████▊| 747 kB 5.3 MB/s eta 0:00:01\r\u001b[K     |████████████████████████████████| 754 kB 5.3 MB/s \n",
            "\u001b[?25hRequirement already satisfied: filelock in /usr/local/lib/python3.7/dist-packages (from transformers==3) (3.0.12)\n",
            "Requirement already satisfied: regex!=2019.12.17 in /usr/local/lib/python3.7/dist-packages (from transformers==3) (2019.12.20)\n",
            "Requirement already satisfied: numpy in /usr/local/lib/python3.7/dist-packages (from transformers==3) (1.19.5)\n",
            "Requirement already satisfied: packaging in /usr/local/lib/python3.7/dist-packages (from transformers==3) (21.0)\n",
            "Collecting tokenizers==0.8.0-rc4\n",
            "  Downloading tokenizers-0.8.0rc4-cp37-cp37m-manylinux1_x86_64.whl (3.0 MB)\n",
            "\u001b[K     |████████████████████████████████| 3.0 MB 35.3 MB/s \n",
            "\u001b[?25hRequirement already satisfied: requests in /usr/local/lib/python3.7/dist-packages (from transformers==3) (2.23.0)\n",
            "Collecting sacremoses\n",
            "  Downloading sacremoses-0.0.45-py3-none-any.whl (895 kB)\n",
            "\u001b[K     |████████████████████████████████| 895 kB 41.8 MB/s \n",
            "\u001b[?25hCollecting sentencepiece\n",
            "  Downloading sentencepiece-0.1.96-cp37-cp37m-manylinux_2_17_x86_64.manylinux2014_x86_64.whl (1.2 MB)\n",
            "\u001b[K     |████████████████████████████████| 1.2 MB 33.6 MB/s \n",
            "\u001b[?25hRequirement already satisfied: tqdm>=4.27 in /usr/local/lib/python3.7/dist-packages (from transformers==3) (4.62.0)\n",
            "Requirement already satisfied: pyparsing>=2.0.2 in /usr/local/lib/python3.7/dist-packages (from packaging->transformers==3) (2.4.7)\n",
            "Requirement already satisfied: certifi>=2017.4.17 in /usr/local/lib/python3.7/dist-packages (from requests->transformers==3) (2021.5.30)\n",
            "Requirement already satisfied: idna<3,>=2.5 in /usr/local/lib/python3.7/dist-packages (from requests->transformers==3) (2.10)\n",
            "Requirement already satisfied: urllib3!=1.25.0,!=1.25.1,<1.26,>=1.21.1 in /usr/local/lib/python3.7/dist-packages (from requests->transformers==3) (1.24.3)\n",
            "Requirement already satisfied: chardet<4,>=3.0.2 in /usr/local/lib/python3.7/dist-packages (from requests->transformers==3) (3.0.4)\n",
            "Requirement already satisfied: six in /usr/local/lib/python3.7/dist-packages (from sacremoses->transformers==3) (1.15.0)\n",
            "Requirement already satisfied: click in /usr/local/lib/python3.7/dist-packages (from sacremoses->transformers==3) (7.1.2)\n",
            "Requirement already satisfied: joblib in /usr/local/lib/python3.7/dist-packages (from sacremoses->transformers==3) (1.0.1)\n",
            "Installing collected packages: tokenizers, sentencepiece, sacremoses, transformers\n",
            "Successfully installed sacremoses-0.0.45 sentencepiece-0.1.96 tokenizers-0.8.0rc4 transformers-3.0.0\n"
          ]
        }
      ]
    },
    {
      "cell_type": "code",
      "metadata": {
        "colab": {
          "base_uri": "https://localhost:8080/"
        },
        "id": "cQbv9LrDhueJ",
        "outputId": "c96a381a-f86c-4319-97dc-40f9b018852e"
      },
      "source": [
        "! apt install psmisc"
      ],
      "execution_count": null,
      "outputs": [
        {
          "output_type": "stream",
          "name": "stdout",
          "text": [
            "Reading package lists... Done\n",
            "Building dependency tree       \n",
            "Reading state information... Done\n",
            "psmisc is already the newest version (23.1-1ubuntu0.1).\n",
            "0 upgraded, 0 newly installed, 0 to remove and 40 not upgraded.\n"
          ]
        }
      ]
    },
    {
      "cell_type": "code",
      "metadata": {
        "id": "OmtY7y5BhwMz"
      },
      "source": [
        "! sudo fuser /dev/nvidia*"
      ],
      "execution_count": null,
      "outputs": []
    },
    {
      "cell_type": "code",
      "metadata": {
        "id": "Ymt31Rmuhymx"
      },
      "source": [
        "! kill -9 62"
      ],
      "execution_count": null,
      "outputs": []
    },
    {
      "cell_type": "code",
      "metadata": {
        "colab": {
          "base_uri": "https://localhost:8080/"
        },
        "id": "--qiAFNSh2m8",
        "outputId": "33de02f8-fb43-4485-d9fe-335aac328567"
      },
      "source": [
        "!ln -sf /opt/bin/nvidia-smi /usr/bin/nvidia-smi\n",
        "!pip install gputil\n",
        "!pip install psutil\n",
        "!pip install humanize"
      ],
      "execution_count": null,
      "outputs": [
        {
          "output_type": "stream",
          "name": "stdout",
          "text": [
            "Collecting gputil\n",
            "  Downloading GPUtil-1.4.0.tar.gz (5.5 kB)\n",
            "Building wheels for collected packages: gputil\n",
            "  Building wheel for gputil (setup.py) ... \u001b[?25l\u001b[?25hdone\n",
            "  Created wheel for gputil: filename=GPUtil-1.4.0-py3-none-any.whl size=7411 sha256=203231ebfb7549d22cdaa1c1bdbea824203a4c77158a4be6cfb0b83181f7d5e2\n",
            "  Stored in directory: /root/.cache/pip/wheels/6e/f8/83/534c52482d6da64622ddbf72cd93c35d2ef2881b78fd08ff0c\n",
            "Successfully built gputil\n",
            "Installing collected packages: gputil\n",
            "Successfully installed gputil-1.4.0\n",
            "Requirement already satisfied: psutil in /usr/local/lib/python3.7/dist-packages (5.4.8)\n",
            "Requirement already satisfied: humanize in /usr/local/lib/python3.7/dist-packages (0.5.1)\n"
          ]
        }
      ]
    },
    {
      "cell_type": "code",
      "metadata": {
        "colab": {
          "base_uri": "https://localhost:8080/"
        },
        "id": "COqjlbW8h0lP",
        "outputId": "ce0f4fcd-1be0-4843-f51d-82f12cea4109"
      },
      "source": [
        "import psutil\n",
        "import humanize\n",
        "import os\n",
        "import GPUtil as GPU\n",
        "\n",
        "GPUs = GPU.getGPUs()\n",
        "# XXX: only one GPU on Colab and isn’t guaranteed\n",
        "gpu = GPUs[0]\n",
        "def printm():\n",
        "    process = psutil.Process(os.getpid())\n",
        "    print(\"Gen RAM Free:\" + humanize.naturalsize(psutil.virtual_memory().available),\" |     Proc size:\" + humanize.naturalsize(process.memory_info().rss))\n",
        "    print(\"GPU RAM Free: {0:.0f}MB | Used: {1:.0f}MB | Util {2:3.0f}% | Total     {3:.0f}MB\".format(gpu.memoryFree, gpu.memoryUsed, gpu.memoryUtil*100, gpu.memoryTotal))\n",
        "printm()"
      ],
      "execution_count": null,
      "outputs": [
        {
          "output_type": "stream",
          "name": "stdout",
          "text": [
            "Gen RAM Free:12.7 GB  |     Proc size:118.7 MB\n",
            "GPU RAM Free: 11441MB | Used: 0MB | Util   0% | Total     11441MB\n"
          ]
        }
      ]
    },
    {
      "cell_type": "code",
      "metadata": {
        "colab": {
          "base_uri": "https://localhost:8080/"
        },
        "id": "wTQTaW4ih7iA",
        "outputId": "85be5940-4145-4442-9345-1eca99c73084"
      },
      "source": [
        "import tensorflow as tf\n",
        "\n",
        "# Get the GPU device name.\n",
        "device_name = tf.test.gpu_device_name()\n",
        "\n",
        "# The device name should look like the following:\n",
        "if device_name == '/device:GPU:0':\n",
        "    print('Found GPU at: {}'.format(device_name))\n",
        "else:\n",
        "    raise SystemError('GPU device not found')"
      ],
      "execution_count": null,
      "outputs": [
        {
          "output_type": "stream",
          "name": "stdout",
          "text": [
            "Found GPU at: /device:GPU:0\n"
          ]
        }
      ]
    },
    {
      "cell_type": "code",
      "metadata": {
        "colab": {
          "base_uri": "https://localhost:8080/"
        },
        "id": "OCIz0JCDh9uD",
        "outputId": "22861cf4-5a12-4727-f2d1-053bf4be52b6"
      },
      "source": [
        "import torch\n",
        "\n",
        "# If there's a GPU available...\n",
        "if torch.cuda.is_available():    \n",
        "\n",
        "    # Tell PyTorch to use the GPU.    \n",
        "    device = torch.device(\"cuda\")\n",
        "\n",
        "    print('There are %d GPU(s) available.' % torch.cuda.device_count())\n",
        "\n",
        "    print('We will use the GPU:', torch.cuda.get_device_name(0))\n",
        "\n",
        "# If not...\n",
        "else:\n",
        "    print('No GPU available, using the CPU instead.')\n",
        "    device = torch.device(\"cpu\")"
      ],
      "execution_count": null,
      "outputs": [
        {
          "output_type": "stream",
          "name": "stdout",
          "text": [
            "There are 1 GPU(s) available.\n",
            "We will use the GPU: Tesla K80\n"
          ]
        }
      ]
    },
    {
      "cell_type": "code",
      "metadata": {
        "id": "1KcpUmIgh_0E"
      },
      "source": [
        "# Importing stock ml libraries\n",
        "import numpy as np\n",
        "import pandas as pd\n",
        "from sklearn import metrics\n",
        "from sklearn.model_selection import train_test_split\n",
        "\n",
        "import transformers\n",
        "import torch\n",
        "from torch.utils.data import Dataset, DataLoader, RandomSampler, SequentialSampler\n",
        "from transformers import BertTokenizer, BertModel, BertConfig"
      ],
      "execution_count": null,
      "outputs": []
    },
    {
      "cell_type": "code",
      "metadata": {
        "colab": {
          "base_uri": "https://localhost:8080/"
        },
        "id": "vxayYkariCVe",
        "outputId": "20c3c589-d09e-4e95-dd1e-b08e8bdcef38"
      },
      "source": [
        "from google.colab import drive\n",
        "drive.mount('/content/gdrive')"
      ],
      "execution_count": null,
      "outputs": [
        {
          "output_type": "stream",
          "name": "stdout",
          "text": [
            "Mounted at /content/gdrive\n"
          ]
        }
      ]
    },
    {
      "cell_type": "code",
      "metadata": {
        "colab": {
          "base_uri": "https://localhost:8080/"
        },
        "id": "L1j10fr4iEwF",
        "outputId": "21048194-6086-4da4-81af-4a2e692ea9fb"
      },
      "source": [
        "import pandas as pd\n",
        "\n",
        "df = pd.read_excel (r'/content/gdrive/My Drive/manually_annotated_data/imrad_labeling_300_reconciled.xlsx')\n",
        "print (df)"
      ],
      "execution_count": null,
      "outputs": [
        {
          "output_type": "stream",
          "name": "stdout",
          "text": [
            "          PMID  ...                                           SENTENCE\n",
            "0     29958222  ...  The aepEXplus monitoring system, which uses mi...\n",
            "1     29958222  ...  Seventy-five patients, 1-18 years of age (stra...\n",
            "2     29958222  ...  The aepEX and the bispectral index (BIS) were ...\n",
            "3     29958222  ...  The ability of the aepEX to detect different l...\n",
            "4     29958222  ...  As a secondary outcome parameter, the relation...\n",
            "...        ...  ...                                                ...\n",
            "3290  29957866  ...  The risk of MSP was greater for AD, female, Ar...\n",
            "3291  29957866  ...  Evidence suggests posttraumatic headache, occu...\n",
            "3292  29957866  ...  Nurses must recognize the consequences militar...\n",
            "3293  29957866  ...  Nurses have an opportunity to positively impac...\n",
            "3294  29957866  ...  The findings from this review underscore consi...\n",
            "\n",
            "[3295 rows x 8 columns]\n"
          ]
        }
      ]
    },
    {
      "cell_type": "code",
      "metadata": {
        "colab": {
          "base_uri": "https://localhost:8080/",
          "height": 419
        },
        "id": "IDv1rQ5dEx31",
        "outputId": "33c07fb8-bca5-43ea-e014-3fd7f542f99f"
      },
      "source": [
        "df"
      ],
      "execution_count": null,
      "outputs": [
        {
          "output_type": "execute_result",
          "data": {
            "text/html": [
              "<div>\n",
              "<style scoped>\n",
              "    .dataframe tbody tr th:only-of-type {\n",
              "        vertical-align: middle;\n",
              "    }\n",
              "\n",
              "    .dataframe tbody tr th {\n",
              "        vertical-align: top;\n",
              "    }\n",
              "\n",
              "    .dataframe thead th {\n",
              "        text-align: right;\n",
              "    }\n",
              "</style>\n",
              "<table border=\"1\" class=\"dataframe\">\n",
              "  <thead>\n",
              "    <tr style=\"text-align: right;\">\n",
              "      <th></th>\n",
              "      <th>PMID</th>\n",
              "      <th>Unnamed: 1</th>\n",
              "      <th>SENTID</th>\n",
              "      <th>Unnamed: 3</th>\n",
              "      <th>STRUCTURED ABSTRACT LABEL</th>\n",
              "      <th>NORMALIZED LABEL/PREDICTION</th>\n",
              "      <th>GOLD</th>\n",
              "      <th>SENTENCE</th>\n",
              "    </tr>\n",
              "  </thead>\n",
              "  <tbody>\n",
              "    <tr>\n",
              "      <th>0</th>\n",
              "      <td>29958222</td>\n",
              "      <td>ab</td>\n",
              "      <td>1</td>\n",
              "      <td>29958222</td>\n",
              "      <td>BACKGROUND</td>\n",
              "      <td>BACKGROUND</td>\n",
              "      <td>OBJECTIVE</td>\n",
              "      <td>The aepEXplus monitoring system, which uses mi...</td>\n",
              "    </tr>\n",
              "    <tr>\n",
              "      <th>1</th>\n",
              "      <td>29958222</td>\n",
              "      <td>ab</td>\n",
              "      <td>2</td>\n",
              "      <td>29958222</td>\n",
              "      <td>METHODS</td>\n",
              "      <td>METHODS</td>\n",
              "      <td>METHODS</td>\n",
              "      <td>Seventy-five patients, 1-18 years of age (stra...</td>\n",
              "    </tr>\n",
              "    <tr>\n",
              "      <th>2</th>\n",
              "      <td>29958222</td>\n",
              "      <td>ab</td>\n",
              "      <td>3</td>\n",
              "      <td>29958222</td>\n",
              "      <td>METHODS</td>\n",
              "      <td>METHODS</td>\n",
              "      <td>METHODS</td>\n",
              "      <td>The aepEX and the bispectral index (BIS) were ...</td>\n",
              "    </tr>\n",
              "    <tr>\n",
              "      <th>3</th>\n",
              "      <td>29958222</td>\n",
              "      <td>ab</td>\n",
              "      <td>4</td>\n",
              "      <td>29958222</td>\n",
              "      <td>METHODS</td>\n",
              "      <td>METHODS</td>\n",
              "      <td>METHODS</td>\n",
              "      <td>The ability of the aepEX to detect different l...</td>\n",
              "    </tr>\n",
              "    <tr>\n",
              "      <th>4</th>\n",
              "      <td>29958222</td>\n",
              "      <td>ab</td>\n",
              "      <td>5</td>\n",
              "      <td>29958222</td>\n",
              "      <td>METHODS</td>\n",
              "      <td>METHODS</td>\n",
              "      <td>METHODS</td>\n",
              "      <td>As a secondary outcome parameter, the relation...</td>\n",
              "    </tr>\n",
              "    <tr>\n",
              "      <th>...</th>\n",
              "      <td>...</td>\n",
              "      <td>...</td>\n",
              "      <td>...</td>\n",
              "      <td>...</td>\n",
              "      <td>...</td>\n",
              "      <td>...</td>\n",
              "      <td>...</td>\n",
              "      <td>...</td>\n",
              "    </tr>\n",
              "    <tr>\n",
              "      <th>3290</th>\n",
              "      <td>29957866</td>\n",
              "      <td>ab</td>\n",
              "      <td>10</td>\n",
              "      <td>29957866</td>\n",
              "      <td>RESULTS</td>\n",
              "      <td>RESULTS</td>\n",
              "      <td>RESULTS</td>\n",
              "      <td>The risk of MSP was greater for AD, female, Ar...</td>\n",
              "    </tr>\n",
              "    <tr>\n",
              "      <th>3291</th>\n",
              "      <td>29957866</td>\n",
              "      <td>ab</td>\n",
              "      <td>11</td>\n",
              "      <td>29957866</td>\n",
              "      <td>RESULTS</td>\n",
              "      <td>RESULTS</td>\n",
              "      <td>RESULTS</td>\n",
              "      <td>Evidence suggests posttraumatic headache, occu...</td>\n",
              "    </tr>\n",
              "    <tr>\n",
              "      <th>3292</th>\n",
              "      <td>29957866</td>\n",
              "      <td>ab</td>\n",
              "      <td>12</td>\n",
              "      <td>29957866</td>\n",
              "      <td>IMPLICATIONS</td>\n",
              "      <td>CONCLUSIONS</td>\n",
              "      <td>CONCLUSIONS</td>\n",
              "      <td>Nurses must recognize the consequences militar...</td>\n",
              "    </tr>\n",
              "    <tr>\n",
              "      <th>3293</th>\n",
              "      <td>29957866</td>\n",
              "      <td>ab</td>\n",
              "      <td>13</td>\n",
              "      <td>29957866</td>\n",
              "      <td>IMPLICATIONS</td>\n",
              "      <td>CONCLUSIONS</td>\n",
              "      <td>CONCLUSIONS</td>\n",
              "      <td>Nurses have an opportunity to positively impac...</td>\n",
              "    </tr>\n",
              "    <tr>\n",
              "      <th>3294</th>\n",
              "      <td>29957866</td>\n",
              "      <td>ab</td>\n",
              "      <td>14</td>\n",
              "      <td>29957866</td>\n",
              "      <td>IMPLICATIONS</td>\n",
              "      <td>CONCLUSIONS</td>\n",
              "      <td>CONCLUSIONS</td>\n",
              "      <td>The findings from this review underscore consi...</td>\n",
              "    </tr>\n",
              "  </tbody>\n",
              "</table>\n",
              "<p>3295 rows × 8 columns</p>\n",
              "</div>"
            ],
            "text/plain": [
              "          PMID  ...                                           SENTENCE\n",
              "0     29958222  ...  The aepEXplus monitoring system, which uses mi...\n",
              "1     29958222  ...  Seventy-five patients, 1-18 years of age (stra...\n",
              "2     29958222  ...  The aepEX and the bispectral index (BIS) were ...\n",
              "3     29958222  ...  The ability of the aepEX to detect different l...\n",
              "4     29958222  ...  As a secondary outcome parameter, the relation...\n",
              "...        ...  ...                                                ...\n",
              "3290  29957866  ...  The risk of MSP was greater for AD, female, Ar...\n",
              "3291  29957866  ...  Evidence suggests posttraumatic headache, occu...\n",
              "3292  29957866  ...  Nurses must recognize the consequences militar...\n",
              "3293  29957866  ...  Nurses have an opportunity to positively impac...\n",
              "3294  29957866  ...  The findings from this review underscore consi...\n",
              "\n",
              "[3295 rows x 8 columns]"
            ]
          },
          "metadata": {},
          "execution_count": 12
        }
      ]
    },
    {
      "cell_type": "code",
      "metadata": {
        "id": "-dLbJrzLotGm"
      },
      "source": [
        "saved_string = \"\"\n",
        "pmid = \"\"\n",
        "for k, i in df.iterrows():\n",
        "  if pmid != i[\"PMID\"] and pmid != \"\":\n",
        "    saved_string += \"\\n\"\n",
        "  saved_string = saved_string + i[\"SENTENCE\"].lower() + \"\\t\" + i[\"GOLD\"].upper() + \"\\n\"\n"
      ],
      "execution_count": null,
      "outputs": []
    },
    {
      "cell_type": "code",
      "metadata": {
        "colab": {
          "base_uri": "https://localhost:8080/",
          "height": 123
        },
        "id": "k2x243dgpSWP",
        "outputId": "4eb800bd-7817-4258-dc77-670579cbc323"
      },
      "source": [
        "saved_string"
      ],
      "execution_count": null,
      "outputs": [
        {
          "output_type": "execute_result",
          "data": {
            "application/vnd.google.colaboratory.intrinsic+json": {
              "type": "string"
            },
            "text/plain": [
              "'the aepexplus monitoring system, which uses mid-latency auditory evoked potentials to measure depth of hypnosis, was evaluated in pediatric patients receiving desflurane-remifentanil anesthesia.\\tOBJECTIVE\\nseventy-five patients, 1-18 years of age (stratified for age; 1-3, 3-6, 6-18 years, for subgroup analyses), were included in this prospective observational study.\\tMETHODS\\nthe aepex and the bispectral index (bis) were recorded simultaneously, the latter serving as a reference.\\tMETHODS\\nthe ability of the aepex to detect different levels of consciousness, defined according to the university of michigan sedation scale, investigated using prediction probability (pk), and receiver operating characteristic (roc) analysis, served as the primary outcome parameter.\\tMETHODS\\nas a secondary outcome parameter, the relationship between end-tidal desflurane and the aepex and bis values were calculated by fitting in a nonlinear regression model.\\tMETHODS\\nthe pk values for the aepex and the bis were, respectively, .68 (95% ci, 0.53-0.82) and .85 (95% ci, 0.73-0.96; p = .02).\\tRESULTS\\nthe aepex and the bis had an area under the roc curve of, respectively, 0.89 (95% ci, 0.80-0.95) and 0.76 (95% ci, 0.68-0.84; p = .04).\\tRESULTS\\nthe maximized sensitivity and specificity were, respectively, 81% (95% ci, 61%-93%) and 86% (95% ci, 74%-94%) for the aepex at a cutoff value of >52, and 69% (95% ci, 56%-81%) and 70% (95% ci, 57%-81%) for the bis at a cutoff value of >65.\\tRESULTS\\nthe age-corrected end-tidal desflurane concentration associated with an index value of 50 (ec50) was 0.59 minimum alveolar concentration (interquartile range: 0.38-0.85) and 0.58 minimum alveolar concentration (interquartile range: 0.41-0.70) for, respectively, the aepex and bis (p = .69).\\tRESULTS\\nage-group analysis showed no evidence of a difference regarding the area under the roc curve or ec50.\\tRESULTS\\nthe aepex can reliably differentiate between a conscious and an unconscious state in pediatric patients receiving desflurane-remifentanil anesthesia.\\tCONCLUSIONS\\nbone-regulating hormones and nutrients play an important role in influencing metabolic health.\\tBACKGROUND\\nthe aim of this study was to determine whether bone-regulating hormones and nutrients, such as parathyroid hormone (pth), 25-hydroxyvitamin d (25ohd), and magnesium (mg) could be used to characterize the metabolically healthy obese (mho) phenotype.\\tOBJECTIVE\\nthis study included 27 overweight or obese participants (14 men/13 women) classified as mho ( n = 14) or metabolically unhealthy obese (muo) ( n = 13) based on the presence or absence of metabolic abnormalities, determined by percentage body fat, percentage trunk fat, and waist circumference.\\tMETHODS\\nbiochemical (serum concentrations of hormones and cytokines such as pth, 25ohd, ionized mg (img), cytokines, lipids, glycemic indices), physiological (percentage body fat, percentage trunk fat, blood pressure (bp)), and dietary intake (mg intake, calcium intake) measurements were obtained.\\tMETHODS\\nserum pth concentrations were significantly lower ( p = 0.005) in the mho group (39.68 +/- 11.06 pg/ml) compared with the muo group (63.78 +/- 25.82 pg/ml).\\tRESULTS\\nserum img concentrations were higher ( p = 0.052) in the mho group (0.565 +/- 0.41 mmol/l) than in the muo group (0.528 +/- 0.050 mmol/l).\\tRESULTS\\nserum concentrations of osteocalcin were also higher (10.37 +/- 3.70 ng/ml) in the mho compared with the muo (6.51 +/- 4.14 ng/ml) group ( p = 0.017).\\tRESULTS\\nthe mho group had significantly lower serum insulin concentrations ( p = 0.006) and diastolic bp ( p = 0.035).\\tRESULTS\\nconcentrations of serum 25ohd, total triglycerides, c-reactive protein and systolic bp did not differ between groups.\\tRESULTS\\nthese findings suggest that bone-regulating hormones and nutrients, especially serum pth, osteocalcin concentrations, and dietary mg intakes, can help to characterize the mho phenotype.\\tCONCLUSIONS\\ngastric cancer (gc) is one of the most prevalent digestive malignancies.\\tBACKGROUND\\nmicrornas (mirnas) are involved in multiple cellular processes, including oncogenesis, and mir-592 itself participates in many malignancies; however, its role in gc remains unknown.\\tBACKGROUND\\nin this study, we investigated the expression and molecular mechanisms of mir-592 in gc.\\tOBJECTIVE\\nquantitative real-time pcr and immunohistochemistry were performed to determine the expression of mir-592 and its putative targets in human tissues and cell lines.\\tMETHODS\\nproliferation, migration, and invasion were evaluated by cell counting kit-8, population doubling time, colony formation, transwell, and wound-healing assays in transfected gc cells in vitro.\\tMETHODS\\na dual-luciferase reporter assay was used to determine whether mir-592 could directly bind its target.\\tMETHODS\\na tumorigenesis assay was used to study whether mir-592 affected gc growth in vivo.\\tMETHODS\\nproteins involved in signaling pathways and the epithelial-mesenchymal transition (emt) were detected with western blot.\\tMETHODS\\nthe ectopic expression of mir-592 promoted gc proliferation, migration, and invasion in vitro and facilitated tumorigenesis in vivo.\\tRESULTS\\nspry2 was a direct target of mir-592 and spry2 overexpression partially counteracted the effects of mir-592.\\tRESULTS\\nmir-592 induced the emt and promoted its progression in gc via the pi3k/akt and mapk/erk signaling pathways by inhibiting spry2.\\tRESULTS\\noverexpression of mir-592 promotes gc proliferation, migration, and invasion and induces the emt via the pi3k/akt and mapk/erk signaling pathways by inhibiting spry2, suggesting a potential therapeutic target for gc.\\tCONCLUSIONS\\nregularity of laminar origin and termination of projections appears to be a common feature of corticocortical connections.\\tBACKGROUND\\nwe tested three models of this regularity, originally formulated for primate cerebral cortex, using quantitative data on the relative supragranular layer origins (sgn%) of 151 projections from 19 areas ( approximately 145,000 neurons) to four areas of cat extrastriate cortex.\\tOBJECTIVE\\npredictive variables in the models were: hierarchical level differences (barone et al., 2000), structural type differences (barbas, 1986), and distances (salin and bullier, 1995) between areas.\\tMETHODS\\nglobal and local hierarchies of cat visual cortex were used to evaluate the hierarchical model.\\tMETHODS\\nranking of areas by their cytoarchitectural differentiation (e.g., relative prominence of layer iv) allowed testing of the structural model, while the distance model was tested for the number of borders separating areas.\\tMETHODS\\nlaminar projection origins correlated moderately with hierarchical differences, and poorly with border distances, but were strongly and consistently correlated with area differences in cytoarchitectural rank.\\tRESULTS\\nmoreover, projection densities were moderately and negatively correlated with area distances and structural differences.\\tRESULTS\\nour findings suggest that the relative cytoarchitectural differentiation of cortical areas is the main determinant of laminar projection origins in cat visual cortex, and may underlie a general laminar regularity of mammalian cortical connections.\\tCONCLUSIONS\\ndespite the growing interest in developing markers for predicting treatment response and optimizing treatment decisions, an appropriate methodology to identify, combine and evaluate such markers has been slow to develop.\\tBACKGROUND\\nwe propose a step-by-step strategy for analysing data from existing randomised trials with the aim of identifying a multi-marker model for guiding decisions about treatment.\\tOBJECTIVE\\nwe start with formulating the treatment selection problem, continue with defining the treatment threshold, prepare a list of candidate markers, develop the model, apply the model to estimate individual treatment effects, and evaluate model performance in the study group of patients who meet the trial eligibility criteria.\\tMETHODS\\nin this process, we rely on some well-known techniques for multivariable prediction modelling, but focus on predicting benefit from treatment, rather than outcome itself.\\tMETHODS\\nwe present our approach using data from a randomised trial in which 808 women with multiple pregnancy were assigned to cervical pessary or control, to prevent adverse perinatal outcomes.\\tMETHODS\\noverall, cervical pessary did not reduce the risk of adverse perinatal outcomes.\\tRESULTS\\nthe treatment threshold was zero.\\tRESULTS\\nwe had a preselected list of 5 potential markers and developed a logistic model including the markers, treatment and all marker-by-treatment interaction terms.\\tRESULTS\\nthe model was well calibrated and identified 35% (95% confidence interval (ci) 32 to 39%) of the trial participants as benefitting from pessary insertion.\\tRESULTS\\nwe estimated that the risk of adverse outcome could be reduced from 13.5 to 8.1% (5.4% risk reduction; 95% ci 2.1 to 8.6%) through model-based selective pessary insertion.\\tRESULTS\\nthe next step is external validation upon existence of independent trial data.\\tCONCLUSIONS\\nwe suggest revisiting existing trials data to explore whether differences in treatment benefit can be explained by differences in baseline characteristics of patients.\\tCONCLUSIONS\\nthis could lead to treatment selection tools which, after validation in comparable existing trials, can be introduced into clinical practice for guiding treatment decisions in future patients.\\tCONCLUSIONS\\ndiabetes mellitus is the most common chronic metabolic disease.\\tBACKGROUND\\nthe raising diabetes epidemic is unfolding as an interaction between several environmental factors and a genetic predisposition.\\tBACKGROUND\\nthe aim of the current study was to evaluate the role of the ppargamma-pro12ala and enpp1-k121q polymorphisms on type 2 diabetes (t2d) risk in a case-control study in the tunisian population.\\tOBJECTIVE\\nto assess for any association of enpp1-k121q and ppargamma-pro12ala polymorphisms with t2d risk, we analysed the genotypic and allelic distributions of each variant in the studied cohort.\\tMETHODS\\nour results support that the genetic variation at enpp1-k121q predisposes to t2d in the tunisian population after adjustment on gender, age and bmi status (or=1.55, 95%ci [1.11-2.16], p=0.007).\\tRESULTS\\nconversely, the ppargamma-pro12ala variant seems not to have a significant effect on t2d risk in our tunisian cohort.\\tRESULTS\\nhowever, the minor a-allele would convey protection against overweight in the tunisian population.\\tRESULTS\\nin fact, the over weighted subjects showed a significantly lower frequency of a-allele than lean controls (or=0.49, 95%ci [0.25-0.97], p=0.02).\\tRESULTS\\nin conclusion, our findings support the hypothesis that enpp1-121q is involved in the genetic susceptibility of t2d in the tunisian population, while the ppargamma-12ala allele may confer protection against overweight.\\tCONCLUSIONS\\nthis systematic review aimed to synthesize the effects of interventions within the scope of occupational therapy to improve performance of activities of daily living (adls) in community-dwelling older adults.\\tOBJECTIVE\\nsearches were conducted in cinahl, the cochrane database of systematic reviews, medline, psycinfo, and otseeker.\\tMETHODS\\nempirical studies published between 1995 and 2015 were individually screened and appraised by two reviewers.\\tMETHODS\\nforty-three studies met the review inclusion and exclusion criteria.\\tRESULTS\\nphysical exercise was the most common intervention approach.\\tRESULTS\\nphysical exercise interventions for frail older adults showed a moderate benefit, but no benefits were found for older adults without noticeable difficulty in adls.\\tRESULTS\\nfor older adults with difficulty in adls, there was a high benefit of using home-based intervention.\\tRESULTS\\nthe findings of this systematic review highlight the importance of addressing older adults\\' living environment in intervention to promote independence in adls.\\tCONCLUSIONS\\nthe prevalence of heart failure (hf) in the population is increasing, concomitant with high incidence of rehospitalizations and mortality.\\tBACKGROUND\\nthe aim of this study was to characterize a prognostic risk score model for patients with chronic hf.\\tOBJECTIVE\\na total of 500 patients followed at the hf clinic were evaluated by clinical, functional, laboratory, imaging, and therapeutic variables that were correlated to mortality during a follow-up period of 25 months.\\tMETHODS\\nrisk stratification was carried out by applying a risk score model based on multivariate analysis.\\tMETHODS\\npredictors correlated with mortality during follow-up were systolic blood pressure <110 mm hg, male sex, age older than 70 years, 6-minute walk distance <300 m, lack of beta-blocker therapy, hyperuricemia (>7.5 mg/dl), hyponatremia, and prolonged qtc interval (>450 ms).\\tRESULTS\\nbased on these variables, a risk score model (score 0-55) was established and included low risk, score <21 (9% mortality during 2-year follow-up); moderate risk, 21 to 29 (22%); high risk, 30 to 35 (35%), and very high risk: >=36 points (62% 2-year mortality).\\tRESULTS\\nthe risk model had good discrimination ability (concordance index 0.75), which was better than the performance of the seattle heart failure model on our cohort (0.69).\\tRESULTS\\nsimple noninvasive characteristics examined during the initial admission to the hf clinic can serve as prognostic markers for mortality and may help in the process of therapeutic decision-making in patients with hf.\\tCONCLUSIONS\\nextracellular high-mobility group box 1 (hmgb1) has been identified as playing a critical role in the pathogenesis of tissue fibrosis.\\tBACKGROUND\\nhowever, the underlying mechanism of its involvement in cardiac fibrosis is still not well-defined.\\tBACKGROUND\\nhere, we aim to investigate whether toll-like receptor 2 (tlr2) contributes to the extracellular hmgb1-mediated development and progression of cardiac fibrosis.\\tOBJECTIVE\\na mouse model of cardiac fibrosis was induced by subcutaneous injection of isoproterenol (iso).\\tMETHODS\\nglycyrrhizic acid (ga), an inhibitor of hmgb1 derived from natural products, was simultaneously administered by intraperitoneal injection.\\tMETHODS\\nechocardiography, h&e and sirius red staining were used to evaluate cardiac function and fibrosis.\\tMETHODS\\nthe myocardial expression of autophagy-associated proteins was examined using immunoblotting.\\tMETHODS\\ncardiac fibroblasts were treated with different concentrations of hmgb1 to examine the expression levels of alpha-sma, collagen i and autophagy markers.\\tMETHODS\\ninteractions of hmgb1/tlr2 and alpha-sma/p62 were examined by immunoprecipitation and immunofluorescence.\\tMETHODS\\niso-treated mice showed characteristic cardiac fibrosis, increased expression and co-localization of hmgb1 and tlr2, as well as impaired autophagic signals in myocardial tissues, which could be prevented by silencing tlr2.\\tRESULTS\\nexogenous administration of hmgb1 blocked the autophagic flux in fibroblasts, which caused extensive accumulation of collagen i and alpha-sma.\\tRESULTS\\nin addition, cardiac fibrosis was alleviated by ga treatment through abrogating the interaction between hmgb1 and tlr2.\\tRESULTS\\nour study suggests that the interaction between tlr2 and hmgb1 contributes to the pathogenesis of cardiac fibrosis via suppressing fibroblast autophagy, and that inhibiting hmgb1 with ga provides therapeutic benefits for the treatment of fibroproliferative heart diseases.\\tCONCLUSIONS\\nthe present guidelines on dermatomyositis (dm) represent an excerpt from the interdisciplinary s2k guidelines on myositis syndromes of the german society of neurology (available at www.awmf.org).\\tOBJECTIVE\\nthe cardinal symptom of myositis in dm is symmetrical proximal muscle weakness.\\tBACKGROUND\\nelevated creatine kinase, crp or esr as well as electromyography and muscle biopsy also provide important diagnostic clues.\\tBACKGROUND\\npharyngeal, respiratory, cardiac, and neck muscles may also be affected.\\tBACKGROUND\\ngiven that approximately 30 % of patients also develop interstitial lung disease, pulmonary function tests should be part of the diagnostic workup.\\tRESULTS\\nalthough the cutaneous manifestations in dm are variable, taken together, they represent a characteristic and crucial diagnostic criterion for dm.\\tRESULTS\\napproximately 5-20 % of individuals exhibit typical skin lesions without any clinically manifest muscle involvement (amyopathic dm).\\tRESULTS\\nabout 30 % of adult dm cases are associated with a malignancy.\\tRESULTS\\nthis fact, however, should not delay the treatment of severe myositis.\\tRESULTS\\ncorticosteroids are the therapy of choice in myositis (1-2 mg/kg).\\tRESULTS\\nadditional immunosuppressive therapy is frequently required (azathioprine, for children methotrexate).\\tRESULTS\\nin case of insufficient therapeutic response, the use of intravenous immunoglobulins is justified.\\tRESULTS\\nthe benefit of rituximab has not been conclusively ascertained yet.\\tRESULTS\\nacute therapeutic management is usually followed by low-dose maintenance therapy for one to three years.\\tRESULTS\\nskin lesions do not always respond sufficiently to myositis therapy.\\tRESULTS\\neffective treatment for such cases consists of topical corticosteroids and sometimes also calcineurin inhibitors.\\tRESULTS\\nsystemic therapies shown to be effective include antimalarial agents (also in combination), methotrexate, and corticosteroids.\\tRESULTS\\nintravenous immunoglobulins or rituximab may also be helpful.\\tRESULTS\\nuv protection is an important prophylactic measure.\\tRESULTS\\nthe retrofacial approach is a feasible approach to the round window niche and that the round window-sigmoid sinus line will help determine the feasibility of retrofacial approach for cochlear implantation unless there is a very high jugular bulb.\\tOBJECTIVE\\nwhen the round window cannot be visualized by facial recess approach during cochlear implantation, other conservative techniques can be used to improve visualization such as the retrofacial approach.\\tBACKGROUND\\nthirteen adult dry cadaveric temporal bones were studied.\\tMETHODS\\ncomputed tomography (ct) scan was obtained on all temporal bones.\\tMETHODS\\nan imaginary round window-sigmoid sinus line was drawn on the axial images.\\tMETHODS\\nwe assessed whether this line is anterior (including intersection) or posterior to the facial nerve (fn).\\tMETHODS\\nthe following closest distances were measured on ct scans: 1) posterior semicircular canal (psc)-fn, 2) psc-stapedius muscle, 3) psc-jugular bulb, 4) lateral semicircular canal (lsc)-jugular bulb, 5) sigmoid sinus-fn.\\tMETHODS\\na canal wall-up mastoidectomy, facial recess, and retrofacial approach were performed in all specimens.\\tMETHODS\\nwe have noted whether we need a standard or an extended mastoidectomy.\\tMETHODS\\nthe round window-sigmoid sinus line was posterior to the fn in all specimens.\\tRESULTS\\nthe retrofacial approach was feasible and the round window was visualized in all specimens.\\tRESULTS\\nextended mastoidectomy was required in seven specimens and the psc-fn was </= 3 mm in five of them.\\tRESULTS\\nretrofacial approach is feasible in cochlear implantation when the round window-sigmoid sinus line is posterior to the fn and the jugular bulb is not obstructing the round window.\\tCONCLUSIONS\\nhealth benefits of physical activity may depend on a concomitant weight loss.\\tBACKGROUND\\nin a randomized, controlled trial, we compared the effects of endurance training with or without weight loss to the effect of weight loss induced by an energy-reduced diet in 48 sedentary, moderately overweight men who completed a 12-week intervention program of training (t), energy-reduced diet (d), training and increased diet (t-id), or control (c).\\tOBJECTIVE\\nan energy deficit of 600 kcal/day was induced by endurance training or diet in t and d and a similar training regimen plus an increased dietary intake of 600 kcal/day defined the t-id group.\\tMETHODS\\nprimary end point was insulin sensitivity as evaluated by homa-ir (mainly reflecting hepatic insulin sensitivity) and hyperinsulinemic, isoglycemic clamps (primarily reflecting peripheral insulin sensitivity).\\tMETHODS\\nbody mass decreased in t and d by 5.9 +/- 0.7 and 5.3 +/- 0.7 kg, respectively, whereas t-id and c remained weight stable.\\tRESULTS\\ntotal and abdominal fat mass were reduced in an additive manner in the t-id, d, and t groups by 1.9 +/- 0.3/0.2 +/- 0.1, 4.4 +/- 0.7/0.5 +/- 0.1, and 7.7 +/- 0.8/0.9 +/- 0.1 kg, respectively.\\tRESULTS\\nhoma-ir was improved in t, d, and t-id, whereas insulin-stimulated glucose clearance and suppression of plasma nonesterified fatty acids (nefas) were increased only in the two training groups.\\tRESULTS\\nthus, loss of fat mass (diet or training induced) improves hepatic insulin sensitivity, whereas peripheral insulin sensitivity in skeletal muscle and adipose tissue is increased by endurance training only.\\tCONCLUSIONS\\nthis demonstrates that endurance training per se increases various metabolic health parameters and that endurance training should preferably always be included in any intervention regimen for improving metabolic health in moderately overweight men.\\tCONCLUSIONS\\nalthough adult and late-onset dm1 phenotypes dm1 present distinct lower limb weaknesses portraits, resulting physical limitations have never been described separately for each phenotype.\\tBACKGROUND\\nto characterize the lower limb weaknesses and physical limitations among the dm1 adult and late-onset phenotypes separately and to document the contribution of weaknesses on mobility to optimize the management of this population.\\tOBJECTIVE\\nthe strength of four muscle groups among 198 participants was quantified.\\tMETHODS\\nparticipants were categorized according to the severity of their muscular involvement using the muscular impairment rating scale (mirs).\\tMETHODS\\nphysical limitations were assessed using the timed up-and-go (tug), berg balance scale (bbs) and 10 meters comfortable walking speed (10mwt).\\tMETHODS\\nmultiple linear regressions were performed to identify the contribution of each muscle group to the mobility tests scores.\\tMETHODS\\nlate-onset demonstrated less weakness and physical limitations (p < 0.001 - 0.002) than the adult phenotype, but 21.9-47.5% of participants with this phenotype showed mobility scores below reference values.\\tRESULTS\\nphysical limitations were observed in the first two mirs grades (37.5-42.1% of the participants) for the tug and 10mwt.\\tRESULTS\\nankle dorsiflexors and knee extensors were the two muscle groups that showed the strongest relationships with mobility scores.\\tRESULTS\\nalthough less impaired, the late-onset phenotype shows significant lower limb muscle weakness associated with physical limitations.\\tCONCLUSIONS\\nthe surprising presence of quantitative lower limb muscle weakness in the first two mirs grades needs to be considered when using this scale.\\tCONCLUSIONS\\nboth ankle dorsiflexors and knee extensors appear to be good indicators of physical limitations in dm1.\\tCONCLUSIONS\\nthe risk of drowning is reported to be 15-19 times greater in people with epilepsy compared to the general population.\\tBACKGROUND\\ndespite this disproportionate burden, there is limited data about the circumstances surrounding drowning deaths in people with epilepsy.\\tBACKGROUND\\nthis population-based case series characterizes drowning deaths in people with epilepsy.\\tOBJECTIVE\\npostmortem data from coroner-ordered autopsies conducted in ontario between 2014 and 2016 were screened for cases of drowning in people with a history of seizures.\\tMETHODS\\ndemographic information, epilepsy characteristics, and circumstances surrounding death were extracted from post mortem reports.\\tMETHODS\\nthe incidence of drowning in people with epilepsy was calculated using government estimates of the ontario population and the number of people with epilepsy.\\tMETHODS\\ntwenty-five people with epilepsy drowned during the three-year study period, giving an estimated incidence of 1.5 per 10,000 epilepsy person-years (95% ci: 0.98, 2.23).\\tRESULTS\\ndecedents were mostly young (mean age 36 years) and without physical or developmental disability.\\tRESULTS\\napproximately one-third had psychiatric comorbidities.\\tRESULTS\\nepilepsy severity ranged from well-controlled to drug refractory.\\tRESULTS\\nonly 3 people had alcohol or illicit drugs detected on toxicological analysis.\\tRESULTS\\nforty-four percent of deaths were the result of an unwitnessed drowning in a bathtub.\\tRESULTS\\nthis population-based case series confirms people with epilepsy drown at a rate nearly ten times greater than the general population (1.5 per 10,000 epilepsy person-years compared to the estimated provincial average of 0.13 per 10,000).\\tCONCLUSIONS\\ndrowning deaths in people with epilepsy most often occur in the bathtub.\\tCONCLUSIONS\\nthese deaths are only rarely associated with intoxication.\\tCONCLUSIONS\\npeople with epilepsy should receive counseling on the increased risk of drowning, including information regarding the significant risk associated with bathtub use, the potential protective roles of anti-epileptic drug (aed) adherence and supervision when in or around water, and the fact that all people with epilepsy remain at an increased risk of drowning regardless of their apparent seizure control.\\tCONCLUSIONS\\nthe success of long-term electrophysiological recordings often depends on the quality of the implantation surgery.\\tBACKGROUND\\nhere we provide useful information for surgeons who are learning the process of implanting electrode systems.\\tOBJECTIVE\\nwe demonstrate the implantation procedure of both a penetrating and a surface electrode.\\tOBJECTIVE\\nthe surgical process is described from start to finish, including detailed descriptions of each step throughout the procedure.\\tMETHODS\\nit should also be noted that this video guide is focused towards procedures conducted in rodent models and other small animal models.\\tMETHODS\\nmodifications of the described procedures are feasible for other animal models.\\tCONCLUSIONS\\namyotrophic lateral sclerosis (als) has been associated with exposures in so-called \\'electrical occupations\\'.\\tBACKGROUND\\nit is unclear if this possible link may be explained by exposure to extremely low-frequency magnetic fields (elf-mf) or by electrical shocks.\\tBACKGROUND\\nwe evaluated als mortality in 2000-2008 and exposure to elf-mf and electrical shocks in the swiss national cohort, using job exposure matrices for occupations at censuses 1990 and 2000.\\tMETHODS\\nwe compared 2.2 million workers with high or medium vs. low exposure to elf-mf and electrical shocks using cox proportional hazard models.\\tMETHODS\\nresults showed that mortality from als was higher in people who had medium or high elf-mf exposure in both censuses (hr 1.55 (95% ci 1.11-2.15)), but closer to unity for electrical shocks (hr 1.17 (95% ci 0.83-1.65)).\\tRESULTS\\nwhen both exposures were included in the same model, the hr for elf-mf changed little (hr 1.56), but the hr for electric shocks was attenuated to 0.97.\\tRESULTS\\nin conclusion, there was an association between exposure to elf-mf and mortality from als among workers with a higher likelihood of long-term exposure.\\tCONCLUSIONS\\nthe suprachiasmatic nucleus (scn) of the hypothalamus is a multioscillator system that drives daily rhythms in mammalian behavior and physiology.\\tBACKGROUND\\nbased on recent data implicating vasoactive intestinal polypeptide (vip) as the key intercellular synchronizing agent, we developed a multicellular scn model to investigate the effects of cellular heterogeneity and intercellular connectivity on circadian behavior.\\tOBJECTIVE\\na 2-dimensional grid was populated with 400 model cells that were heterogeneous with respect to their uncoupled rhythmic behavior (intrinsic and damped pacemakers with a range of oscillation periods) and vip release characteristics (vip producers and nonproducers).\\tMETHODS\\nwe constructed small-world network architectures in which local connections between vip producing cells and their 4 nearest neighbors were augmented with random connections, resulting in long-range coupling across the grid.\\tMETHODS\\nwith only 10% of the total possible connections, the small-world network model was able to produce similar phase synchronization indices as a mean-field model with vip producing cells connected to all other cells.\\tRESULTS\\npartial removal of random connections decreased the synchrony among neurons, the amplitude of vip and camp response element binding protein oscillations, the mean period of intrinsic periods across the population, and the percentage of oscillating cells.\\tRESULTS\\nthese results indicate that small-world connectivity provides the optimal compromise between the number of connections and control of circadian amplitude and synchrony.\\tCONCLUSIONS\\nthis model predicts that small decreases in long-range vip connections in the scn could have dramatic effects on period and amplitude of daily rhythms, features commonly described with aging.\\tCONCLUSIONS\\nzika virus (zikv) is linked to deleterious foetal and neonate outcomes.\\tBACKGROUND\\nmaternal exposure to zikv through mosquitoes and sexual fluids creates a public health challenge for communities and policymakers, which is exacerbated by high levels of chronic non-communicable diseases in american samoa.\\tBACKGROUND\\nthis study aimed to identify structural barriers to zikv prevention in american samoa and situate them within locally relevant cultural and epidemiological contexts.\\tOBJECTIVE\\nthis study assessed knowledge, attitudes and access to zikv prevention among 180 adults in american samoan public health clinics.\\tMETHODS\\nit queried knowledge about pre-natal care, protection against mosquitoes and condom use.\\tMETHODS\\nwomen were most likely to identify pre-natal care as important.\\tRESULTS\\nthe majority of participants were able to identify how to prevent mosquito bites, but may have been unable to follow through due to socioeconomic and infrastructure limitations.\\tRESULTS\\nfew participants identified condom use as a preventative measure against zikv.\\tRESULTS\\nprevention misconceptions were most pronounced in women of low socioeconomic status.\\tRESULTS\\nthese findings reinforce the need for a multi-pronged approach to zikv.\\tCONCLUSIONS\\nthis study highlights the need for information on culturally specific barriers and recognition of additional challenges associated with dual burden in marginal populations where social inequalities exacerbate health issues.\\tCONCLUSIONS\\nuniform mesoporous tio(2) nanospheres were successfully developed via an interfacial confined formation process for application in dye-sensitized solar cells.\\tMETHODS\\nthe mesoporous spherical structures greatly promote the dye-loading capacity, electron transfer, and light scattering, resulting in remarkable enhancement of the cell performance.\\tBACKGROUND\\nthe designed interfacial platform caused a reaction-limited aggregation of the tio(2) nanocrystals, resulting in the formation of mesoporous spherical nanostructures with sphere diameter of 216 nm and pore size of 8 nm.\\tRESULTS\\nthe oriented attachment of adjacent tio(2) nanocrystals facilitated the electron transfer process when the mesoporous tio(2) nanospheres were used as electrode films.\\tRESULTS\\nthe dye coverage was enhanced remarkably in the mesoporous spherical tio(2) samples.\\tRESULTS\\nowing to the enhanced light-harvesting efficiency, solar conversion efficiency was enhanced about 30% for the dye-sensitized solar cell (dssc) based on mesoporous spherical tio(2) in comparison with that made by commercial tio(2) nanoparticles.\\tCONCLUSIONS\\nfocal segmental glomerulosclerosis (fsgs) is a heterogeneous clinicopathological entity.\\tBACKGROUND\\ntwo frameworks for the classification of fsgs have been described: etiologic and morphologic.\\tBACKGROUND\\nthe etiologic classification is distinguished among genetic, adaptive, virus-associated, drug-induced, and idiopathic types.\\tBACKGROUND\\nmorphologic classification is commonly referred to as the columbia classification published in 2004, which distinguishes five variants: collapsing, tip, cellular, perihilar, and not otherwise specified (nos).\\tBACKGROUND\\nthis classification is based on light microscopic patterns with rigorously defined specific criteria, which can be applied to primary and secondary forms of fsgs, and has been widely used over the past 10 years both as a diagnostic and as a prognostic clinical tool.\\tBACKGROUND\\nthis paper defines common histopathological features of fsgs, distinguished characters among five variants, and points out the confusion about terminology of variants, because most were proposed in the past with different definitions.\\tOBJECTIVE\\ndespite good interobserver reproducibility of this classification system, difficulty in its application may arise in the interpretation of lesions with mixed features of more than one variant in the same tissue specimen and with late lesions, because other variants may evolve into the nos variant over time.\\tCONCLUSIONS\\nemphysematous destruction of lung parenchyma visible in computed tomography (ct) can be attributed to chronic obstructive pulmonary disease (copd) or to alpha1-antitrypsin deficiency (aatd).\\tBACKGROUND\\nwe evaluated if visual semiquantitative phenotyping of ct data helps identifying individuals with aatd in a group of smokers with severe emphysema and airflow limitation.\\tOBJECTIVE\\nn = 14 patients with aatd and n = 15 with copd and a minimum of 10 pack years underwent ct, clinical assessment, and full-body plethysmography.\\tMETHODS\\nthe extent and type of emphysema as well as large and small airway changes were rated semiquantitatively for each lobe using a standardized previously published scoring system.\\tMETHODS\\nlastly, a final diagnosis for each patient was proposed.\\tMETHODS\\naatd had a significantly lower mean emphysema score than copd, with 8.9 +/- 3.4 versus 11.9 +/- 3.2 (p < 0.001), respectively.\\tRESULTS\\nwithin both groups, there was significantly more emphysema in the lower lobes (p < 0.05-0.001).\\tRESULTS\\nthe copd group showed an upper- and middle-lobe predominance of emphysema distribution when compared to the aatd group (p < 0.001).\\tRESULTS\\ncentrilobular (cle) and panlobular (ple) emphysema patterns showed a uniform distribution within both groups, with a cle predominance in the upper lung and a ple predominance in the lower lung regions.\\tRESULTS\\naatd and copd both showed significantly more airway changes in lower lobes compared to upper lobes (p = 0.05-0.001), without significant differences between both groups.\\tRESULTS\\nthe typical emphysema distribution patterns seen on ct traditionally assigned to aatd and copd were of little use in discriminating both entities.\\tCONCLUSIONS\\nalso, airway changes could not contribute to a more precise differentiation.\\tCONCLUSIONS\\nwe conclude that a concise standardized phenotyping-driven approach to chest ct in emphysema is not sufficient to identify patients with aatd in a cohort of smokers with advanced emphysema.\\tCONCLUSIONS\\nin 2013, we reported a case of combined anterior and posterior reconstruction after three-level en bloc vertebral body replacement and replacement of the aorta for chondrosarcoma of the thoracic spine.\\tBACKGROUND\\neight years after, we observed an implant failure and now report on revision strategy and 2-year follow-up (f/u) after revision.\\tBACKGROUND\\nwe report about the 2-year f/u of the same now 51-year-old gravedigger who needed to undergo revision surgery after implant failure.\\tMETHODS\\nwe did a combined anterior and posterior correction vertebral interbody fusion by (1) removal of broken screws in th9 and l2, removal of broken titanium bars, correction of kyphosis, enhancement of the vertebral interbody fusion from th8 to l4 using monoaxial titanium screws and cancellous bone transplantation and (2) removal of the broken plate and the loose cage, implantation of a novel expandable peek cage from th11 to l1 and anterior stabilization from th9/10 to l2/3, as well as autologous and allogeneic cancellous bone transplantation.\\tMETHODS\\ntwo years after revision surgery, the patient presented fully reintegrated without any complains.\\tRESULTS\\nno painkillers needed to be taken.\\tRESULTS\\npain was reported with 2 out of 10 on the vas.\\tRESULTS\\nboth procedures offer a good primary stabilization with excellent pain reduction and good return to life.\\tCONCLUSIONS\\nlimited information on long-term survivors is known.\\tCONCLUSIONS\\ntherefore, the theoretical advantage of a biological solution needs to be checked in the long-term f/u for consistency.\\tCONCLUSIONS\\nanastomotic leak is a leading cause of morbidity and mortality in gastrointestinal surgery.\\tBACKGROUND\\nthe serosal aspect of staple lines is commonly observed for integrity, but the mucosal surface and state of mucosa after firing is less often inspected.\\tBACKGROUND\\nwe sought to assess the degree of mucosal capture when using stapling devices and determine whether incomplete capture influences staple line integrity.\\tOBJECTIVE\\nporcine ileum was transected in vivo and staple lines were collected and rated for degree of mucosal capture on a 5-point scale from 1 (mucosa mainly captured on both sides) to 5 (majority of mucosa not captured).\\tMETHODS\\nmucosal capture was also assessed in ex vivo staple lines, and fluid leakage pressure and location of first leak was assessed.\\tMETHODS\\nstapling devices studied were echelon flex gst with 60-mm blue (gst60b) and green (gst60g) cartridges, and medtronic endogia universal with tri-staple technology with 60 mm medium (egia60amt) reloads (purple).\\tMETHODS\\ngst60b and gst60g staple lines produced significantly better mucosal capture scores than the egia60amt staple lines (p < 0.001, in all tests).\\tRESULTS\\ncompared to egia60amt, leak pressures were 39% higher for gst60b (p < 0.001) and 23% higher for gst60g (p = 0.022).\\tRESULTS\\ninitial staple line leak site was associated with incomplete mucosal capture 78% of the time.\\tRESULTS\\nthere are differences in degree of mucosal capture between commercial staplers, and the devices that produce better mucosal capture had significantly higher leak pressures.\\tCONCLUSIONS\\nfurther research is needed to determine the significance of these findings on staple line healing throughout the postoperative period.\\tCONCLUSIONS\\nthe aim of this retrospective study was to determine the effect of skeletal muscle and body fat on liver function in patients with nonalcoholic fatty liver disease (nafld) diagnosed by liver biopsy.\\tOBJECTIVE\\namong the 219 patients with nafld enrolled in this study was a cohort of 139 patients who had their body composition measured with inbody720 at baseline and at >/= 1 year postbaseline, to elucidate the relationship between liver function and changes in skeletal muscle and body fat mass.\\tMETHODS\\nmultivariate analysis was used to identify factors influencing low skeletal muscle mass index (smi, defined as 7 kg/m(2) in men, and 5.7 kg/m(2) in women) and the skeletal muscle mass to body fat mass ratio (sf ratio).\\tMETHODS\\nof the 219 patients enrolled, 27 (12.3%) had a low smi.\\tRESULTS\\npatient age (> 70 years) and female gender were identified as risk factors for low smi.\\tRESULTS\\nhepatic fibrosis was not associated with smi.\\tRESULTS\\nin the cohort followed up at baseline and 12 months later, transaminase activity, body fat mass, and smi significantly decreased over time.\\tRESULTS\\nchanges in the sf ratio were significantly associated with changes in liver function.\\tRESULTS\\nan increase in the sf ratio [hazard ratio (hr) 10.99 in men, 6.849 in women] was a predictor of reduced alt, independent of age and other backgrounds.\\tRESULTS\\nin the patients with nafld, smi was decreased, even in the early stages of nafld.\\tCONCLUSIONS\\ntherapeutic strategies for nafld require a reduction in body fat mass and the maintenance of skeletal muscle is also needed.\\tCONCLUSIONS\\ncaffeine is a widely used ergogenic aid with most research suggesting it confers the greatest effects during endurance activities.\\tBACKGROUND\\ndespite the growing body of literature around the use of caffeine as an ergogenic aid, there are few recent meta-analyses that quantitatively assess the effect of caffeine on endurance exercise.\\tBACKGROUND\\nto summarise studies that have investigated the ergogenic effects of caffeine on endurance time-trial performance and to quantitatively analyse the results of these studies to gain a better understanding of the magnitude of the ergogenic effect of caffeine on endurance time-trial performance.\\tOBJECTIVE\\na systematic review was carried out on randomised placebo-controlled studies investigating the effects of caffeine on endurance performance and a meta-analysis was conducted to determine the ergogenic effect of caffeine on endurance time-trial performance.\\tMETHODS\\nforty-six studies met the inclusion criteria and were included in the meta-analysis.\\tMETHODS\\ncaffeine has a small but evident effect on endurance performance when taken in moderate doses (3-6 mg/kg) as well as an overall improvement following caffeine compared to placebo in mean power output (3.03 +/- 3.07%; effect size = 0.23 +/- 0.15) and time-trial completion time (2.22 +/- 2.59%; effect size = 0.41 +/- 0.2).\\tRESULTS\\nhowever, differences in responses to caffeine ingestion have been shown, with two studies reporting slower time-trial performance, while five studies reported lower mean power output during the time-trial.\\tRESULTS\\ncaffeine can be used effectively as an ergogenic aid when taken in moderate doses, such as during sports when a small increase in endurance performance can lead to significant differences in placements as athletes are often separated by small margins.\\tCONCLUSIONS\\nrecent treatment studies with cognitive behavioural therapy for insomnia (cbt-i) have demonstrated effects on both sleep problems and depression.\\tBACKGROUND\\ntwo previous studies have indicated that the beneficial effect from cbt-i on depression may come through improved sleep, although insomnia severity during treatment had not previously been investigated as a mediator.\\tBACKGROUND\\nour aim was to investigate if insomnia severity during treatment mediated between cbt-i and depression severity after treatment, in a sample with co-morbid insomnia and depressive symptomology.\\tOBJECTIVE\\nwe also examined whether depressive severity during treatment mediated between cbt-i and insomnia after treatment.\\tOBJECTIVE\\nthe participants were recruited from advertisements and fulfilled criteria for insomnia diagnosis, and had depressive symptomatology (beck depression inventory-second edition: bdi-ii > 13).\\tMETHODS\\ntwo-thirds of the participants were diagnosed with major depressive disorder.\\tMETHODS\\nthe participants received four biweekly group sessions of cbt-i or relaxation training (active control).\\tMETHODS\\ninsomnia severity (insomnia severity index) and depressive severity (bdi-ii) were measured at baseline, mid-treatment, post-treatment and 6-month follow-up.\\tMETHODS\\nthe mid-treatment measures were used as mediators.\\tMETHODS\\nmediational analyses demonstrated a significant reciprocal relationship between insomnia severity and depressive severity throughout cbt-i, although mid-treatment insomnia had a stronger effect on depression than mid-treatment depression had on insomnia.\\tRESULTS\\nthe results were similar for both post-treatment and follow-up.\\tRESULTS\\nsome improvement in depressive severity after cbt-i is explained by improved sleep.\\tCONCLUSIONS\\nthe findings emphasize the importance of making comorbid insomnia a treatment focus in its own right.\\tCONCLUSIONS\\nhealth activists often see the uptake of antiretroviral drugs and adherence to antiretroviral treatment as the outcome of \\'treatment literacy.\\'\\tBACKGROUND\\norganizations have invested considerable resources into educating the public in conventional scientific understandings of hiv and aids.\\tBACKGROUND\\ndrawing on the results of fieldwork in south africa and the life history of a man living with aids, i highlight the complex and unstable relationship that exists between therapeutic literacy and treatment efficacy.\\tOBJECTIVE\\nfactors that have little to do with treatment literacy have impacted upon uptake and adherence.\\tRESULTS\\nthese include a lack of political support, stigma generated by labelling, access to social welfare, and gender constructs.\\tRESULTS\\nmoreover, in situations of medical pluralism, marked by multiple, constantly shifting understandings of sickness, it is very difficult to ascertain treatment literacy, and treatment literacy neither implies therapeutic efficacy, nor vice versa.\\tCONCLUSIONS\\n(r)-(+)-pulegone (plg), a biotransformation of monoterpene ketones, is one of essential oils of labiatae family.\\tBACKGROUND\\nalthough plg was reported to have anti-inflammatory and anti-histamine effects, the therapeutic effects of plg on atopic dermatitis (ad) have not been reported yet.\\tBACKGROUND\\nthis study investigated the anti-ad effects and underlying mechanisms of plg in ad-induced mice.\\tOBJECTIVE\\nbalb/c male mice were challenged with 2, 4-dinitrochlorobenzene (dncb, 1%) to induce ad.\\tMETHODS\\nafter 4 days of rest, plg (0.1, 1 and 10 mum) were topically applied to dorsal skin for 2 weeks with secondary elicitation using 0.5% dncb.\\tMETHODS\\nhistological changes were identified by h&e staining and mast cells were evaluated by toluidine blue staining.\\tMETHODS\\npro-inflammatory cytokines and serum ige levels were analyzed by elisa.\\tMETHODS\\ninflammatory mediators were measured by western blotting assay.\\tMETHODS\\ntopical treatment with plg significantly suppressed skin thickness and scratching behavior compared with control group.\\tRESULTS\\nexpression of nerve growth factor was also decreased by plg treatment.\\tRESULTS\\nplg administration decreased serum ige levels and the number of mast cells in mice model of dncb-induced ad.\\tRESULTS\\nthe levels of il-4, ifn-gamma, il-6, tnf-alpha and il-1beta in dorsal skin of plg-treated group were lower than those in the control group.\\tRESULTS\\nplg inhibited the phosphorylation of mapks, as well as ikappabalpha degradation and nf-kappab activation.\\tRESULTS\\nplg attenuated the symptoms of ad by suppressing cytokines production, the phosphorylation of mapks and the activation of nf-kappab signaling.\\tCONCLUSIONS\\nthese data suggest that plg may be an effective natural compound for the treatment of inflammatory skin diseases.\\tCONCLUSIONS\\nto evaluate the efficacy of endovascular repair of non-traumatic rupture of the descending thoracic aorta.\\tOBJECTIVE\\nfrom january 2011 to august 2017, 22 consecutive patients (16 men, mean age 73.7 years, range 63-92 years) with non-traumatic rupture of the descending thoracic aorta were treated endovascularly.\\tMETHODS\\nthirty-day mortality as well as procedure-related morbidity including stroke, renal, pulmonary and spinal complications were retrospectively assessed.\\tMETHODS\\nmedian follow-up was 29 months (range 6-65 months).\\tMETHODS\\nnine patients had type b dissections, and 13 had atherosclerotic aortic aneurysms.\\tRESULTS\\nthe technical success was 100%; 86.3% of patients (19/22) were treated percutaneously.\\tRESULTS\\nthirteen patients (59%) received a single endograft, 8 (36%) received 2 endografts, and 1 received 3 endografts.\\tRESULTS\\nthe endograft diameters ranged between 28 and 46 mm.\\tRESULTS\\ntwo dissection patients received additional distal bare metal true lumen stents.\\tRESULTS\\neleven patients required additional drainage of thoracic hematoma.\\tRESULTS\\nthree primary percutaneous sites (15.7%) required surgical revision.\\tRESULTS\\nno spinal cord ischemic or renal complications were observed.\\tRESULTS\\nstroke was observed in 2 patients (9%), both with full coverage of left subclavian artery origin.\\tRESULTS\\nfour patients (18%) required tracheostomy with prolonged respiratory support (range 10-15 days).\\tRESULTS\\nthe median intensive care unit stay was 5 days (range 1-27 days).\\tRESULTS\\nthe 30-day mortality was 18.1% (4/22).\\tRESULTS\\nendoluminal repair of non-traumatic rupture of the descending thoracic aorta can be performed percutaneously.\\tCONCLUSIONS\\nit showed a 30-day mortality of 18.1%, and no spinal cord injury or renal complications were observed in surviving patients at follow-up.\\tCONCLUSIONS\\nlevel 4, case series.\\tNONE\\nhemin is an important sterile component that induces a neuroinflammatory response after intracerebral hemorrhage, in which nlrp3 inflammasome activation has also proved to be involved.\\tBACKGROUND\\nalthough microglial activation acts as a key contributor in the neuroinflammatory response, the relationship between hemin and nlrp3 in microglia remains poorly understood.\\tBACKGROUND\\nto investigate whether or not hemin regulates microglia-mediated secondary injury through activating the nlrp3/caspase-1 signaling pathway in microglia.\\tOBJECTIVE\\nin this study, n9 microglial cells were treated with hemin, and subsequently used to detect the production of caspase-1 p10 and nlrp3 inflammasome assembly.\\tMETHODS\\nan elisa was subsequently performed to measure the secretion of il-1beta.\\tMETHODS\\nit was found that the production of activated caspase-1 was dose- and time-dependent with regards to hemin.\\tRESULTS\\nmoreover, hemin was observed to be capable of inducing the assembly of the nlrp3 inflammasome without any increase in il-1beta.\\tRESULTS\\nsimilarly, the supernatant of hemin-treated primary microglial cells did not increase in il-1beta secretion.\\tRESULTS\\nfurthermore, hemin-induced nlrp3 inflammasome activation did not significantly affect pyroptosis.\\tRESULTS\\nhemin is a potential sterile danger signal molecule that can induce inflammasome activation without directly mediating inflammation damage on microglia.\\tCONCLUSIONS\\nrecent analyses of data show a warming trend in global average air and sea surface ocean temperatures.\\tBACKGROUND\\nthe atmosphere and ocean have warmed, the amounts of snow and ice have diminished, the sea level has risen, and the concentrations of greenhouse gases have increased.\\tBACKGROUND\\nthis article will focus on climate change and projected effects on venomous marine and amphibious creatures with the potential impact on human health.\\tOBJECTIVE\\nretrospective analysis of environmental, ecological, and medical literature with a focus on climate change, toxinology, and future modeling specific to venomous aquatic and amphibious creatures.\\tMETHODS\\nspecies included venomous jellyfish, poisonous fish, crown-of-thorns starfish, sea snakes, and toxic frogs.\\tMETHODS\\nin several projected scenarios, rising temperatures, weather extremes, and shifts in seasons will increase poisonous population numbers, particularly with certain marine creatures like jellyfish and crown-of-thorns starfish.\\tRESULTS\\nhabitat expansions by lionfish and sea snakes are projected to occur.\\tRESULTS\\nthese phenomena, along with increases in human populations and coastal development will likely increase human-animal encounters.\\tRESULTS\\nother species, particularly amphibious toxic frogs, are declining rapidly due to their sensitivity to any temperature change or subtle alterations in the stability of their environment.\\tRESULTS\\nif temperatures continue to rise to record levels over the next decades, it is predicted that the populations of these once plentiful and critically important animals to the aquatic ecosystem will decline and their geographic distributions will shrink.\\tRESULTS\\nreview of the literature investigating the effect and forecasts of climate change on venomous marine and amphibious creatures has demonstrated that temperature extremes and changes to climatic norms will likely have a dramatic effect on these toxicological organisms.\\tCONCLUSIONS\\nthe effects of climate change on these species through temperature alteration and rising coastal waters will influence each species differently and in turn potentially affect commercial industries, travel, tourism, and human health.\\tCONCLUSIONS\\nthere is no single standard chemotherapy regimen for elderly patients with advanced gastric cancer (agc).\\tBACKGROUND\\na phase iii trial has confirmed that both capecitabine monotherapy and capecitabine plus oxaliplatin are well tolerated for elderly patients with agc, but their economic influence in china is unknown.\\tBACKGROUND\\nthe purpose of this cost-effectiveness analysis was to estimate the effects of capecitabine monotherapy and capecitabine plus oxaliplatin in elderly patients with agc on health and economic outcomes in china.\\tOBJECTIVE\\nwe created a markov model based on data from a korean clinical phase iii trial to analyze the cost-effectiveness of the treatment of elderly patients in the capecitabine monotherapy (x) group and capecitabine plus oxaliplatin (xelox) group.\\tMETHODS\\nthe costs were obtained from published reports and the local health system.\\tMETHODS\\nthe utilities were assumed on the basis of the published literature.\\tMETHODS\\ncosts, quality-adjusted life years (qalys), and incremental cost-effectiveness ratios (icer) were estimated.\\tMETHODS\\none-way and probabilistic sensitivity analyses (monte carlo simulations) were performed.\\tMETHODS\\nin the cost-effectiveness analysis, x had a lower total cost ($45,731.68) and cost-effectiveness ratio ($65,918.93/qaly).\\tRESULTS\\nthe one-way sensitivity analysis suggested that the most influential parameter was the risk of requiring second-line chemotherapy in xelox group.\\tRESULTS\\nthe probabilistic sensitivity analysis predicted that the x regimen was cost-effective 100% of the time, given a willingness-to-pay threshold of $26,598.\\tRESULTS\\nour findings show that the xelox regimen is less cost-effective compared to the x regimen for elderly patients with agc in china from a chinese healthcare perspective.\\tCONCLUSIONS\\nautologous fat grafting (afg; lipofilling, lipografting) has been used in delayed breast reconstruction.\\tBACKGROUND\\nrecently, it has also been investigated as an alternative for immediate reconstruction in patients submitted to breast-conserving surgery (bcs).\\tBACKGROUND\\nalthough good aesthetic results have been reported, the oncologic safety of the procedure remains under investigation.\\tBACKGROUND\\nthis article aims to assess oncologic outcomes of patients submitted to bcs with immediate afg reconstruction.\\tOBJECTIVE\\nthis study consisted of 65 patients undergoing bcs with afg between january 2010 and january 2017.\\tMETHODS\\nthey were closely followed after surgery for a median period of 40.8 months.\\tMETHODS\\nlocoregional and systemic recurrences were the primary endpoints of this study.\\tMETHODS\\nten patients developed cancer recurrence (15.4%).\\tRESULTS\\nthe median time for recurrence was 58.9 months.\\tRESULTS\\nonly two patients presented locoregional recurrence (lrr) (3.07%).\\tRESULTS\\nfive patients had systemic recurrence (7.69%), and three had both systemic and lrr (4.61%).\\tRESULTS\\nmedian disease-free survival (dfs) was 42.2 months, and overall survival (ov) was 44.3 months.\\tRESULTS\\nrecurrences were significantly associated with the number of metastatic axillary lymph nodes detected.\\tRESULTS\\noncologic outcomes of immediate afg are similar to the results previously reported in bcs without afg.\\tCONCLUSIONS\\nlocoregional and systemic recurrences are associated with the presence of axillary metastases.\\tCONCLUSIONS\\nthis journal requires that authors assign a level of evidence to each article.\\tNONE\\nfor a full description of these evidence-based medicine ratings, please refer to the table of contents or the online instructions to authors www.springer.com/00266 .\\tNONE\\nchinese immigrants are the third largest immigrant group in australia.\\tBACKGROUND\\nrecent qualitative evidence from victorian maternal and child health nurses indicate that infants of chinese parents commonly have rapid growth trajectories and that high value is placed on rapid growth and having a fatter child; with low breastfeeding rates and overfeeding of infant formula.\\tBACKGROUND\\nthe aim of this study was to compare infant feeding practices (breastfeeding, infant formula, other liquids, solids) of chinese-born and australian-born mothers living in australia.\\tOBJECTIVE\\nusing the australian national infant feeding survey dataset (2010-2011), infant feeding data from chinese-born mothers (n = 602) were compared with a random sub-sample of australian-born mothers (n = 602).\\tMETHODS\\ngroup differences on feeding practices were tested using chi-square or t-tests and the effect of ethnicity on infant feeding behaviours assessed using regression.\\tMETHODS\\ncompared to infants of australian-born mothers, infants of chinese-born mothers were younger when they first consumed infant formula, water-based drinks and fruit juice and older when they first ate solid foods (p < 0.05).\\tRESULTS\\nfurthermore, infants of chinese-born mothers were less likely to have ever had cow\\'s milk (or: 0.37 95%ci:, 0.18-0.78) and solids (0.41, 0.25-0.68); but were more likely to have ever had infant formula (2.19, 1.32-3.62), water (2.45, 1.55-3.87), toddler milk (3.39, 1.60-7.18), water-based drinks (e.g. cordial, soft drink, tea; 2.48, 1.12-5.49), and fruit juice (4.03, 2.50-6.51).\\tRESULTS\\nthose </=4 months of age were more likely to have had water-based drinks (7.77, 1.96-30.77) and fruit juice (3.44, 1.14-10.38) (p < 0.05) compared to infants of australian-born mothers.\\tRESULTS\\ndifferences in mothers\\' early infant feeding practices exist between chinese-born and australian-born mothers living in australia.\\tCONCLUSIONS\\nbetter understanding these ethnically patterned infant feeding practices is important for identifying key opportunities to promote best nutrition and growth in early life in different ethnic groups within our population.\\tCONCLUSIONS\\na clear gap exists in regard to emotional eating and the effects of affect and expressive suppression on emotional eating among older individuals.\\tBACKGROUND\\nthe aim was to compare the emotional eating patterns of younger and older individuals and assess the role of expressive suppression in the association between affectivity and emotional eating in each of the age groups.\\tOBJECTIVE\\nparticipants were 210 individuals recruited by means of a convenience sampling, which intentionally included a wide age range, along with varied socio-economic and education levels.\\tMETHODS\\nparticipants completed the short version of the dutch eating behavior questionnaire, the positive affect (pa) and negative affect (na) schedule and the courtauld emotional control scale.\\tMETHODS\\ndata was analyzed for three age groups - young adults (aged 20-40), middle-aged adults (aged 41-60) and older adults (aged 61-87).\\tMETHODS\\nemotional eating was present among all three age groups, but it gradually decreased with age.\\tRESULTS\\nthe use of expressive suppression increased with age.\\tRESULTS\\nlevels of pa and na did not differ across the age groups and were not associated with emotional eating, but expressive suppression predicted higher emotional eating.\\tRESULTS\\nthe association between expressive suppression and emotional eating was moderated by age: with a stronger association for the younger group, a moderate association for the middle-aged group and no association for the older adults.\\tRESULTS\\nemotional eating is present among older adults, although in lower intensity than younger individuals, and should be identified and treated by health and mental health practitioners.\\tCONCLUSIONS\\nseveral minimally invasive anatomic reconstruction techniques of the lateral ligaments have been introduced for the treatment of chronic lateral ankle instability.\\tBACKGROUND\\nhowever, these strategies may not always follow accurate ligament anatomic attachments, especially in the construction of the fibular bone tunnels.\\tBACKGROUND\\nthis study reported a new percutaneous technique for reconstruction of the ligaments of lateral ankle anatomically with a tightrope system.\\tOBJECTIVE\\nfrom april 2016 to august 2016, 25 ankles of 24 patients with chronic ankle instability underwent our new percutaneous anatomic reconstruction of the lateral ligaments with a tightrope system.\\tMETHODS\\nthe operation was performed through several small incisions.\\tMETHODS\\nthe fibular tunnel was made obliquely from the anteromedial side of lateral malleolus tip towards retro-malleolar cortex.\\tMETHODS\\nthe graft was fixed in the tunnel with the help of a tightrope system.\\tMETHODS\\nthe calcaneal tunnel and talar tunnel were made as our previous method.\\tMETHODS\\nthe mean final follow-up was 12.2 months (range 10-14).\\tMETHODS\\nvisual analogue scale for pain, american orthopaedic foot and ankle society score, and patients\\' subjective satisfaction were used to measure clinical outcomes.\\tMETHODS\\npreoperative and postoperative stress tests were performed and radiographic parameters were measured.\\tMETHODS\\nthe visual analogue scale decreased from 3.0 +/- 1.4 to 1.3 +/- 0.8 at the last follow-up (p < 0.01).\\tRESULTS\\nthe american orthopaedic foot and ankle society score was improved from 70.2 +/- 5.4 preoperatively to 92.4 +/- 5.3 at the final follow-up (p < 0.01).\\tRESULTS\\nradiologically, the mean anterior talar displacement was 13.1 +/- 2.7 mm preoperatively versus 5.6 +/- 1.3 mm at last follow-up (p < 0.01),and the mean varus talar tilt angle was 15.0 degrees +/- 2.4 degrees preoperatively versus 5.6 degrees +/- 1.9 degrees at the last follow-up (p < 0.01).\\tRESULTS\\npatients were satisfied (\\'excellent\\' or \\'good\\') in 23 ankles (92%).\\tRESULTS\\ntwo patients reported residual instability but less apprehension than the preoperative condition.\\tRESULTS\\npercutaneous anatomic reconstruction of the lateral ligaments of the ankle with a tightrope system is an anatomic and effective procedure for the treatment of chronic lateral ankle instability.\\tCONCLUSIONS\\nnt-probnp (n-terminal pro-b-type natriuretic peptide) and cardiac troponin t (ctnt) are associated with cognitive performance.\\tBACKGROUND\\nwhether this extends to individuals <60 years of age is unclear.\\tBACKGROUND\\nwe investigated whether age modified the associations between nt-probnp and ctnt and cognitive performance and structural brain changes.\\tOBJECTIVE\\nin 3011 individuals (60+/-8 years; 49% women), nt-probnp and ctnt, memory, information processing speed and executive functioning, grey matter (gm) and white matter, and white matter hyperintensity (wmh) volumes were determined.\\tMETHODS\\nwe used regression, adjusted for educational level, cardiovascular factors, and lifestyle factors, to test whether cross-sectional associations between biomarkers and cognitive performance and structural brain changes were modified by age (<60 versus >/=60 years).\\tMETHODS\\n>/=60 years, higher nt-probnp was associated with lower memory (beta [sd] per 10-fold higher level [95% confidence interval (ci)], -0.11 [-0.22 to -0.00]), information processing speed (-0.12 [95% ci, -0.21 to -0.03]), executive functioning (-0.12 [95% ci, -0.22 to -0.03]), and smaller gm (beta [ml] per 10-fold higher level, -6.89 [95% ci, -11.58 to -2.20]).\\tRESULTS\\nadditionally, higher ctnt was associated with lower memory (-0.33 [95% ci, -0.53 to -0.12]) and information processing speed (-0.17 [95% ci, -0.3 to -0.01]); with smaller gm (-16.07 [95% ci, -24.90 to -7.24]) and greater wmh (10(beta) wmh per 10-fold higher level, 0.31 [95% ci, 0.10-0.52]).\\tRESULTS\\n<60 years, nt-probnp and ctnt were not associated with cognitive performance (pinteraction, <0.10).\\tRESULTS\\nin contrast, higher nt-probnp was associated with smaller gm (-7.43 [95% ci, -11.70 to -3.16]) and greater wmh (0.13 [95% ci, 0.01-0.25]; pinteraction,>0.10).\\tRESULTS\\nhigher ctnt was associated with greater wmh (0.18 [95% ci, -0.01 to 0.37]; pinteraction,>0.10) but not with gm (0.07 [95% ci, -6.87 to 7.02]; pinteraction,<0.10).\\tRESULTS\\nbiomarkers of cardiac injury are continuously associated with structural brain changes in both older and younger individuals but with poorer cognitive performance only in older individuals.\\tCONCLUSIONS\\nthese findings stress the continuous nature of the heart-brain axis in the development of cognitive impairment.\\tCONCLUSIONS\\ntreatments for metastatic pancreatic cancer include monotherapy with gemcitabine (gem); combinations of gem with oxaliplatin (ox + gem), cisplatin (cis + gem), capecitabine (cap + gem), or nab-paclitaxel (nab-p + gem); and the non-gem combination folfirinox.\\tBACKGROUND\\ncombination therapies have yielded better survival outcomes than gem alone.\\tBACKGROUND\\na sponsor-independent economic evaluation of these regimens has not been conducted for usa.\\tBACKGROUND\\nthe objective of this study was to estimate the cost utility and cost effectiveness of these regimens from the payer perspective for usa.\\tOBJECTIVE\\na three-state markov model (progression-free, progressed disease, death) simulating the total costs and health outcomes (quality-adjusted life-years; life-years) was developed to estimate the incremental cost-utility and cost-effectiveness ratios.\\tMETHODS\\nfolfirinox clinical data were obtained from trial and indirect estimates were obtained from network meta-analyses.\\tMETHODS\\nlifetime horizon and 3%/year discount rates were used.\\tMETHODS\\nfolfirinox was the most expensive regimen and gem the least costly regimen.\\tRESULTS\\ncompared to gem, all but one (cis + gem) regimen were found to be more effective in quality-adjusted life-years and life-years.\\tRESULTS\\ncompared to gem, the incremental cost-utility ratios for cap + gem, ox-gem, nab-p + gem, and folfirinox, were us$180,503, us$197,993, us$204,833, and us$265,718 per additional quality-adjusted life-year, respectively; and the incremental cost-effectiveness ratios were us$88,181, us$87,620, us$135,683, and us$167,040 per additional life-year, respectively.\\tRESULTS\\na probabilistic sensitivity analysis confirmed the base-case analysis.\\tRESULTS\\nthis sponsor-independent economic evaluation for usa found that ox + gem, cap + gem, folfirinox, and nab-p + gem, but not cis + gem, were more expensive but also more effective than gem alone in terms of quality-adjusted life-years and life-years gained.\\tCONCLUSIONS\\nthe nab-p + gem regimen appears to be the most cost effective in usa at a willingness-to-pay threshold of us$200,000/quality-adjusted life-year.\\tCONCLUSIONS\\nbone splitting and osteotome are common ridge expansion choices for patients with a narrow alveolar ridge requiring dental implant restoration.\\tBACKGROUND\\ndespite the effectiveness of the 2 techniques in horizontal ridge augmentation, they could also result in severe complications, which is thus considered a contraindication.\\tBACKGROUND\\na modification of the bone splitting and the osteotome techniques is proposed hereby as an alternative.\\tOBJECTIVE\\nthe modified procedure reduces the tension of labial bone plate by creating a partial bone fracture at the most depressed area of labial defect where the thinner bone exists.\\tRESULTS\\nthis technique is primarily useful for cases with a facial concavity.\\tCONCLUSIONS\\nthe modification could prevent iatrogenic labial bone defect during the surgery, and compared with onlay bone grafting, it may shorten the overall treatment time and avoid traumatizing the bone donor site.\\tCONCLUSIONS\\nfiji has undergone an epidemiological transition, characterised by declining infectious disease and childhood mortality, that has been offset by rising cardiovascular disease mortality.\\tBACKGROUND\\nother pacific island states are in a comparable situation.\\tBACKGROUND\\nwith a focus on fiji, this study reviews and contextualises research performed by the authors and others that examines cardiovascular disease (cvd) and type 2 diabetes (t2dm) and their risk factors in pacific island states.\\tOBJECTIVE\\nthis overview covers evidence for the causes and consequences of cvd risk factors and the epidemiological transition and reflects on biological and evolutionary hypotheses.\\tMETHODS\\nit is based on studies the authors carried out that synthesised disparate population-based cvd risk factor surveys conducted in fiji over 1980-2012.\\tMETHODS\\nprevalences of obesity, t2dm and hypertension continue to increase in the fiji population.\\tRESULTS\\ntobacco smoking prevalence has decreased, but remains relatively high in men compared to many developed countries.\\tRESULTS\\nt2dm and hypertension trends, and cvd consequences related to diet, exercise and tobacco smoking, have placed the fiji population in a variant of the epidemiological transition manifesting as a plateau in life expectancy similar to that of numerous developed countries during the mid-20th century.\\tRESULTS\\nthere is evidence that risk factors and consequent cvd mortality can be reduced in populations.\\tCONCLUSIONS\\nobesity and t2dm reductions have been observed only in populations surviving in dire circumstances.\\tCONCLUSIONS\\ninterventions to lower the prevalence of cvd and t2dm risk factors in the fiji population require multi-faceted approaches, with continual monitoring and evaluation for their impact on these risk factors and morbidity and mortality outcomes.\\tCONCLUSIONS\\nnon-thermal plasma treatment could increase the bond strength of resin cements to zirconia, but studies are lacking.\\tBACKGROUND\\nthe purpose of this in vitro study was to evaluate zirconia bond strength, surface roughness, and contact angle and to measure the infrared spectrum after different surface treatments.\\tOBJECTIVE\\nyttria-tetragonal zirconia polycrystal (y-tzp; n=9) blocks were sectioned into 36 slices (12x11x3 mm) and divided (n=4) into surface treatment groups as follows: 2 control groups, consisting of airborne-particle abrasion plus primer (app) and 10% hydrofluoric acid etching plus primer (hfp), and 3 experimental groups consisting of a nonthermal plasma (np) application; a nonthermal plasma plus primer application (npp); and a 10% hydrofluoric acid etching plus nonthermal plasma plus primer (hfnpp) application.\\tMETHODS\\neach zirconia disk was cemented to a prepolymerized resin block.\\tMETHODS\\nafter cementation, the specimens were sectioned for microtensile strength testing and for surface roughness analysis and contact angle analysis.\\tMETHODS\\nresults were submitted to analysis of variance and tukey tests (alpha=.05).\\tMETHODS\\nresults showed no statistically significant differences between the app and hfnpp groups, but these 2 groups showed statistically better bonding than those of hfp, np, and npp.\\tRESULTS\\nairborne-particle abrasion resulted in a significant increase in surface roughness compared with the other groups.\\tRESULTS\\nafter nonthermal plasma treatment, the contact angle of the zirconia surface decreased within 48 hours.\\tRESULTS\\nnonthermal plasma application for surface treatment of zirconia showed no significant difference in bond strength when compared with airborne-particle abrasion.\\tCONCLUSIONS\\nhealth campaigns have struggled to gain traction with young adults using social media, even though more than 80% of young adults are using social media at least once per day.\\tBACKGROUND\\nmany food industry and lifestyle brands have been successful in achieving high levels of user engagement and promoting their messages; therefore, there may be lessons to be learned by examining the successful strategies commercial brands employ.\\tBACKGROUND\\nthis study aims to identify and quantify social media strategies used by the food industry and lifestyle brands, and health promotion organizations across the social networking sites facebook and instagram.\\tOBJECTIVE\\nthe six most engaging posts from the 10 most popular food industry and lifestyle brands and six health promotion organizations were included in this study.\\tMETHODS\\na coding framework was developed to categorize social media strategies, and engagement metrics were collected.\\tMETHODS\\nexploratory linear regression models were used to examine associations between strategies used and interactions on facebook and instagram.\\tMETHODS\\nposts from facebook (143/227, 63.0%) and instagram (84/227, 37.0%) were included.\\tMETHODS\\nphotos (64%) and videos (34%) were used to enhance most posts.\\tMETHODS\\ndifferent strategies were most effective for facebook and instagram.\\tRESULTS\\nstrategies associated with higher facebook interactions included links to purchasable items (beta=0.81, 95% ci 0.50 to 1.13, p<.001) featuring body image messages compared with food content (beta=1.96, 95% ci 1.29 to 2.64, p<.001), and where the content induced positive emotions (beta=0.31, 95% ci 0.04 to 0.57, p=.02).\\tRESULTS\\nfacebook interactions were negatively associated with using pop culture (beta=-0.67, 95% ci -0.99 to -0.34, p<.001), storytelling (beta=-0.86, 95% ci -1.29 to -0.43, p<.001) or visually appealing graphics (beta=-0.53, 95% ci -0.78 to -0.28, p<.001) in their posts compared with other strategies.\\tRESULTS\\nposting relatable content was negatively associated with interactions on facebook (beta=-0.29, 95% ci -0.53 to -0.06, p=.01), but positively associated on instagram (beta=0.50, 95% ci 0.05 to 0.95, p=.03).\\tRESULTS\\ninstagram interactions were negatively associated with weight loss (beta=-1.45, 95% ci -2.69 to -0.21, p=.02) and other content (beta=-0.81, 95% ci -1.57 to -.06, p=.04) compared with food content.\\tRESULTS\\nhealth promotion professionals and organizations can improve engagement using positive messaging and tailoring posts appropriate for different social media channels.\\tCONCLUSIONS\\nmobile mammography can improve access to screening mammography in rural areas and underserved populations.\\tBACKGROUND\\nwe evaluated the frequency of incomplete reports in mobile mammography screening and the relationships between prior mammograms and recall rates.\\tOBJECTIVE\\nthe frequency of incomplete mammogram reports, the subgroups of those needing prior comparison mammograms, recalls for additional imaging, and availability of prior mammograms of a mobile screening mammography unit were compared with fixed site mammography from january 1, 2007 through december 31, 2009.\\tMETHODS\\nall mobile unit mammograms were full field digital mammography (ffdm).\\tMETHODS\\ndifferences between rates of recall, incomplete reports, and availability of prior mammograms were calculated using the chi-square statistic.\\tMETHODS\\nof 2640 mobile mammography cases, 21.9% (578) reports were incomplete, versus 15.2% (7653) (p </= 0.001) of 50325 fixed site reports.\\tRESULTS\\nof incomplete cases, recall for additional imaging occurred among 8.3% (218) of mobile mammography reports versus 11.3% (5708) (p </= 0.001) of fixed site reports.\\tRESULTS\\nprior mammograms were needed among 13.6% (360) of mobile mammography versus 3.9% (1945) (p </= 0.001) of fixed site reports.\\tRESULTS\\nmobile mammography recall rate varied with availability of prior mammograms: 16.0% (54) when no prior mammograms, 7.6% (127) when prior mammograms were elsewhere but unavailable and 5.9% (37) when prior ffdm were immediately available (p </= 0.001).\\tRESULTS\\nincomplete reports were more frequent in mobile mammography than the fixed site.\\tCONCLUSIONS\\nthe availability of prior comparison mammograms at time of interpretation decreased the rate of incomplete mammogram reports.\\tCONCLUSIONS\\nrecall rates were higher without prior comparison mammograms and lowest when comparison ffdm mammograms were available.\\tCONCLUSIONS\\nthe essential trace element selenium and polyunsaturated fatty acids (pufa) have been used for the prevention of cancer.\\tBACKGROUND\\nboth nutrients enhance the apoptosis of malignant cells and provide health benefits.\\tBACKGROUND\\nhowever, an increased dietary intake of pufa augments the susceptibility of lipid peroxidation and oxidative damage in many cells.\\tBACKGROUND\\nso far, relatively few data are available about the interaction of selenium and pufa in testis and thus a possible effect of both dietary components on the prevention of testicular cancer or on the apoptosis of testicular germ cells.\\tBACKGROUND\\nmale germ cells in the rat contain most of the testicular phospholipid hydroperoxide glutathione peroxidase (phgpx), mainly as the mitochondrial isoform of this selenoprotein (m-phgpx).\\tBACKGROUND\\nan experiment was therefore carried out to determine the action of fish oil, a nutrient rich in pufa, on the testicular expression of phgpx.\\tOBJECTIVE\\nbecause the phgpx formation remains nearly unchanged in the animals fed the pufa-enriched diet, we conclude that no apoptosis of testicular germ cells is induced by an increased intake of this nutrient.\\tRESULTS\\nthe intake of fish oil in the selenium-deficient animal led to a markedly altered formation of several selenium-containing proteins, including sperm nuclei glutathione peroxidase (sngpx), also designated as the nuclear form of phgpx (n-phgpx), and a 10-kda selenium-containing protein.\\tCONCLUSIONS\\nthis commentary summarizes the experience and learnings from a site visit in may 2008 to a drop-in centre for vulnerable women in downtown cairo run by el-shehab institution for comprehensive development, which provides street outreach for the prevention of sexually transmitted infection (sti).\\tOBJECTIVE\\nthe centre successfully provides services and support for women, many of who are displaced or refugees and are from the most marginalized areas in cairo.\\tBACKGROUND\\nthrough a rights-based approach to the work, the centre helps people living in the slums fight and win the right to access clean water, sewerage and electrical power in their communities.\\tRESULTS\\nan individual-based approach to human rights is also used.\\tRESULTS\\nin the last year el-shehab have helped 67 women go to court and win their marriage rights from husbands who have abandoned them.\\tRESULTS\\ntheir approach is an example of a successful way to achieve access to basic health determinants.\\tCONCLUSIONS\\nadult acne is a chronic disease with uncontrolled exacerbations, associated with a psychological burden of the patient and medical expenses.\\tBACKGROUND\\nthe aim of the study was to check the efficacy of maintenance therapy of adult acne.\\tOBJECTIVE\\nit is essential part of treatment as adult acne usually has a long-lasting and recurring course.\\tBACKGROUND\\nin the study the efficacy of maintenance therapy in patients with adult acne is evaluated.\\tOBJECTIVE\\nin this study, 100 patients (aged 25-39 years of age) with mild and moderate adult acne were enrolled.\\tMETHODS\\nthe maintenance therapy (adapalene 0.1% three times a week and low doses of alpha and beta hydroxy acids) led to a significant decrease in the number of acne lesions (from 31.3 to 12.25; p < 0.001) and severity of seborrhoea (p < 0.001).\\tRESULTS\\nmaintenance therapy brings significant improvements in the reduction of non-inflammatory and inflammatory lesions in patients with mild and moderate adult acne.\\tCONCLUSIONS\\nthe prognostic value of preoperative controlling nutritional status (conut) has been reported in many malignancies.\\tBACKGROUND\\nin present study, we aimed to clarify the prognostic impact of conut in gastric cancer (gc) receiving curative resection and adjuvant chemotherapy.\\tOBJECTIVE\\nwe retrospectively reviewed 697 consecutive patients undergoing curative surgery followed by adjuvant chemotherapy for stage ii-iii gc between november 2000 and september 2012.\\tMETHODS\\npatients were classified into high (>/=3) and low (</=2) conut groups according to the receiver operating characteristic (roc) analysis.\\tMETHODS\\nof the included patients, 217 (31.1%) belonged to the high conut group.\\tRESULTS\\nthe high conut group had a significantly lower 5-year cancer-specific survival (css) rate than the low conut group (39.3 vs. 55.5%, p < 0.001).\\tRESULTS\\nhigh conut score was significantly associated with larger tumor size, more lymph node metastasis, and poorer nutritional status, including lower body mass index (bmi), higher prognostic nutritional index (pni) and the presence of preoperative anemia (all p < 0.05).\\tRESULTS\\nmultivariate analysis revealed that conut score was an independent prognostic factor (hr: 1.553; 95% ci: 1.080-2.232; p = 0.017).\\tRESULTS\\nof note, in the low pni group, conut score still effectively stratified css (p = 0.016).\\tRESULTS\\nfurthermore, the prognostic significance of conut score was also maintained when stratified by tnm stage (all p < 0.05).\\tRESULTS\\nconut score is considered a useful nutritional marker for predicting prognosis in stage ii-iii gc patients undergoing curative resection and adjuvant chemotherapy, and may help to facilitate the planning of preoperative nutritional interventions.\\tCONCLUSIONS\\nadaptation of bacterial pathogens to an intracellular environment requires resetting of the expression levels of a wide range of both virulence and housekeeping genes.\\tBACKGROUND\\nwe investigated the possibility that changes in dna supercoiling could modulate the expression of genes known to be important in the intracellular growth of the pathogen salmonella enterica serovar typhimurium.\\tOBJECTIVE\\nour data show that dna becomes relaxed when salmonella grows in murine macrophage but not in epithelial cells, indicating that dna supercoiling plays a role in discrimination between two types of intracellular environment.\\tRESULTS\\nthe ssra regulatory gene within the spi-2 pathogenicity island that is required for survival in macrophage was found to be upregulated by dna relaxation.\\tRESULTS\\nthis enhancement of expression also required the fis nucleoid-associated protein.\\tRESULTS\\nmanipulating the level of the fis protein modulated both the level of dna supercoiling and ssra transcription.\\tRESULTS\\nwe discuss a model of bacterial intracellular adaptation in which fis and dna supercoiling collaborate to fine-tune virulence gene expression.\\tCONCLUSIONS\\nthis study sought to validate exercise capacity (ec) as a surrogate for mortality, hospitalization, and health-related quality of life (hrqol).\\tOBJECTIVE\\nec is often used as a primary outcome in exercise-based cardiac rehabilitation (cr) trials of heart failure (hf) via direct cardiorespiratory assessment of maximum oxygen uptake (vo2peak) or through submaximal tests, such as the 6-min walk test (6mwt).\\tBACKGROUND\\nafter a systematic review, 31 randomized trials of exercise-based cr compared with no exercise control (4,784 hf patients) were included.\\tMETHODS\\noutcomes were pooled using random effects meta-analyses, and inverse variance weighted linear regression equations were fitted to estimate the relationship between the cr on ec and all-cause mortality, hospitalization, and hrqol.\\tMETHODS\\nspearman correlation coefficient (rho), r(2) at trial level, and surrogate threshold effect (ste) were calculated.\\tMETHODS\\nste represents the intercept of the prediction band of the regression line with null effect on the final outcome.\\tMETHODS\\nexercise-based cr is associated with positive effects on ec measured through vo2peak (+3.10 ml/kg/min; 95% confidence interval [ci]: 2.01 to 4.20) or 6mwt (+41.15 m; 95% ci: 16.68 to 65.63) compared to control.\\tRESULTS\\nthe analyses showed a low level of association between improvements in ec (vo2peak or 6mwt) and mortality and hospitalization.\\tRESULTS\\nmoderate levels of correlation between ec with hrqol were seen (e.g., r(2) <52%;\\tRESULTS\\nestimated ste was an increase of 5 ml/kg/min for vo2peak and 80 m for 6mwt to predict a significant improvement in hrqol.\\tRESULTS\\nthe study results indicate that ec is a poor surrogate endpoint for mortality and hospitalization but has moderate validity as a surrogate for hrqol.\\tCONCLUSIONS\\nfurther research is needed to confirm these findings across other hf interventions.\\tCONCLUSIONS\\notitis media (om) is a major reason for children\\'s visits to physicians and a major cause of their being treated with antibiotics.\\tBACKGROUND\\nit not only causes economic burdens but also influences hearing, speech, and education.\\tBACKGROUND\\nto our knowledge, no nationwide population-based study has assessed the association between air pollution and om.\\tBACKGROUND\\ntherefore, this study evaluated the association between air pollution levels and the incidence of om.\\tOBJECTIVE\\nwe identified cases of om that occurred in south korea between january 2011 and december 2012 from the korea national health insurance service-national sample cohort database, and evaluated its relationship with five air pollutants: particulate matter (pm10, particulates </=10 mum in diameter), nitrogen dioxide (no2), ozone (o3), sulfur dioxide, and carbon monoxide.\\tMETHODS\\nassociations between the weekly incidence of om and the five air pollutants were analyzed using generalized estimating equations.\\tMETHODS\\nconditional logistic regression analysis was used to obtain odds ratios (ors) and their 99.9% bonferroni-corrected confidence intervals after adjusting for gender, age, season, and region.\\tMETHODS\\nwe based our analysis on 160,875 hospital visits for om by children aged <15 years.\\tRESULTS\\ncorrelations with higher concentrations of the five pollutants showed higher ors than did the reference values at most time lags.\\tRESULTS\\npm10 had the largest influence on the om incidence at a time lag of 0 weeks, whereas no2 and o3 had the largest impacts on om incidence at time lags of 1 and 4 weeks, respectively.\\tRESULTS\\nthese findings support the notion that the incidence of om is associated with ambient air pollution.\\tCONCLUSIONS\\nyoung people who begin to smoke at an early age are at a higher risk of becoming occasional or regular smokers and establishing a premature dependence.\\tBACKGROUND\\nit is fundamental to act as soon as possible, from very early childhood, to prevent harmful behaviors for health such as smoking and drinking alcohol.\\tBACKGROUND\\nyoung people must be encouraged to adopt healthy lifestyles.\\tBACKGROUND\\nthe aim of the study is two-fold.\\tOBJECTIVE\\nfirst, increasing the knowledge about the negative health effects of cigarette smoking and alcohol consumption among children aged 9-10 years; and second, to introduce and reinforce life skills in order to learn how to tackle social influences that encourage children to smoke and to drink alcohol.\\tOBJECTIVE\\na pilot randomized field trial was conducted in may-june 2017.\\tMETHODS\\nfour primary school classes in rome were randomized to either the intervention or the control group.\\tMETHODS\\nboth groups participated in an oral presentation about the risks and consequences of smoking and alcohol consumption, and the concept of life skills.\\tMETHODS\\nthe intervention group participated in two gaming sessions, each lasting 1.5 hours.\\tMETHODS\\nchildren were involved in six games aiming to deliver and reinforce knowledge about the target themes of the study.\\tMETHODS\\na 21 multi-response questions questionnaire was handed out to both groups at the beginning and at the end of the study.\\tMETHODS\\neleven questions were about smoking; five questions about alcohol; five questions about life skills.\\tMETHODS\\neach question item included one correct answer.\\tMETHODS\\nfor each domain, a score was computed (total; smoking; alcohol; life skills).\\tMETHODS\\n67 children participated in the study (34 in the intervention and 33 in the control group).\\tRESULTS\\nunivariate analyses showed significant differences among the intervention group before and after the intervention for total score (p<0.001), smoke score (p<0.001), and life skills score (p=0.003).\\tRESULTS\\nno significant differences among the intervention group before and after the intervention were reported for alcohol score (p=0.076).\\tRESULTS\\nregarding the control group univariate analysis showed significant differences in total score (p=0,001) and life skills score (p=0.005).\\tRESULTS\\nmultivariate analysis revealed that enrollment in the intervention was the only variable that had a significant positive influence on smoking knowledge score (beta=1.070, p=0.05).\\tRESULTS\\nthis pilot study shows that the intervention was effective among the intervention group for all the scores: total score, smoke score and life skills score, but ineffective for alcohol.\\tCONCLUSIONS\\noverall, the combination of a presentation and games was effective in increasing life skills knowledge.\\tCONCLUSIONS\\nin this paper, we carried out experiments to investigate dome-shaped microlaser based on the whispering gallery modes for remote wall temperature sensing.\\tOBJECTIVE\\nthe dome-shaped resonator was made of norland blocking adhesive (nba 107) doped with a solution of rhodamine 6g and ethanol.\\tMETHODS\\ntwo different configurations are considered: (i) resonator placed on top of a thin layer of 10:1 polydimethylsiloxane (10:1 pdms), and (ii) resonator encapsulated in a thin layer of 10:1 pdms.\\tMETHODS\\nthe microlaser was remotely pumped using a q switch nd:yag laser with pulse repetition rate of 10 hz, pulse linewidth of 10 ns, and pulse energy of 100 muj/cm(2).\\tMETHODS\\nthe excited optical modes showed an average optical quality factor of 10(4) for both configurations.\\tRESULTS\\nin addition, the measurements showed sensitivity to temperature of ~0.06 nm/ degrees c and a resolution of 1 degrees c for both configurations.\\tRESULTS\\nthis sensitivity was limited by the resolution of the experimental setup used in these studies.\\tCONCLUSIONS\\nrate of progression of periodontitis has been used to inform the design of classifications of periodontal diseases.\\tBACKGROUND\\nhowever, the evidence underpinning this topic is unclear and no systematic review has yet been conducted.\\tBACKGROUND\\nthe focused question for this systematic review was: in adults, what is the progression of periodontitis in terms of clinical attachment loss, radiographic bone loss, and tooth loss?\\tOBJECTIVE\\nhighly sensitive electronic search was conducted for published data in medline, embase, lilacs, and unpublished grey literature in opengrey up to february 2016.\\tMETHODS\\nreference lists of retrieved studies for full-text screening and reviews were hand-searched for potentially eligible studies.\\tMETHODS\\nprospective, longitudinal observational studies with follow-up of at least 12 months and presenting data on the primary outcome, change in clinical attachment level, in adults (age >/=18 years).\\tMETHODS\\nsecondary outcomes, tooth loss and bone level change, were only assessed in studies reporting the primary outcome.\\tMETHODS\\nstudies investigating specific disease populations or only on treated periodontitis patients were excluded.\\tMETHODS\\nrisk of bias and methodology were assessed using the newcastle-ottawa scale with two additional questions on security of outcome assessment.\\tMETHODS\\nstudies were pooled by abstracting or estimating mean annual attachment or bone level change and annual tooth loss.\\tMETHODS\\nrandom effects meta-analysis was conducted with investigation of effect of potential modifiers where possible.\\tMETHODS\\na total 11,482 records were screened for eligibility; 33 publications of 16 original studies reporting on more than 8,600 participants were finally included as eligible for the review.\\tMETHODS\\nthe studies represented populations from both developing and developed economies.\\tRESULTS\\nmean annual attachment loss was 0.1 mm per year (95% ci 0.068, 0.132; i(2 ) = 99%) and mean annual tooth loss was 0.2 teeth per year (95% ci 0.10, 0.33; i(2 ) = 94%).\\tRESULTS\\nobservational analysis of highest and lowest mean attachment change quintiles suggested substantial differences between groups with minimal annual change in the lowest quintile and an average deterioration of 0.45 mm mean attachment loss per year in the highest group.\\tRESULTS\\nthis value increased to 0.6 mm per year with periodontitis alone.\\tRESULTS\\nthere was surprisingly little effect of age or gender on attachment level change.\\tRESULTS\\ngeographic location, however, was associated with more than three times higher mean annual attachment loss in sri lanka and china (0.20 mm, 95% ci 0.15, 0.27; i(2) = 83%) vs north america and europe (0.056 mm, 95% ci 0.025, 0.087; i(2) = 99%) p < 0.001.\\tRESULTS\\nthere were a limited number of studies (n = 16), high variability of design in key study components (sampling frames, included ages, data analyses), and high statistical heterogeneity that could not be explained.\\tCONCLUSIONS\\nwithin the limitations of the research, the data show that mean annual attachment level change varies considerably both within and between populations.\\tCONCLUSIONS\\noverall, the evidence does not support or refute the differentiation between forms of periodontal diseases based upon progression of attachment level change.\\tCONCLUSIONS\\ndespite recent advances in the treatment of eliminating accessory pathways (aps), catheter-induced mechanical block (bump) of aps has been reported to result in a less favorable outcome with high primary failure and recurrence rates.\\tBACKGROUND\\nthe real bump site cannot always be precisely reapproached under fluoroscopy so physicians can perform ablation to a location different from where the mechanical block was encountered.\\tBACKGROUND\\nin this paper, we describe this novel use of a 3-dimensional (3d) mapping system (playback ablation) with a case series.\\tOBJECTIVE\\nthe ensite velocity system (st. jude medical, st. paul, mn, usa), a 3d mapping system, has a unique function that records the positional information of catheters in a 3d geometric map and the local potential of catheters continuously.\\tMETHODS\\nthis function enables physicians to specify the bump site in a 3d geometric map and apply ablation to the bump site even if the catheter moves away from the bump site.\\tMETHODS\\nthis technique helped us eliminate aps in two patients with bump of aps, and they have been free of preexcitation and arrhythmias without the use of anti-arrhythmic drugs for more than 3 months.\\tRESULTS\\nthis technique may contribute to improving long-term success in patients with mechanical block of aps.\\tCONCLUSIONS\\nporcine epidemic diarrhea virus (pedv) has continued to cause sporadic outbreaks in thailand since 2007 and a pandemic variant containing an insertion and deletion in the spike gene was responsible for outbreaks.\\tBACKGROUND\\nin 2014, there were further outbreaks of the disease occurring within four months of each other.\\tBACKGROUND\\nin this study, the full-length genome sequences of two genetically distinct pedv isolates from the outbreaks were characterized.\\tOBJECTIVE\\nthe two pedv isolates, cbr1/2014 and eas1/2014, were 28,039 and 28,033 nucleotides in length and showed 96.2% and 93.6% similarities at nucleotide and amino acid levels respectively.\\tRESULTS\\nin total, we have observed 1048 nucleotide substitutions throughout the genome.\\tRESULTS\\ncompared to eas1/2014, cbr1/2014 has 2 insertions of 4 ((56)genq(59)) and 1 ((140)n) amino acid positions 56-59 and 140, and 2 deletions of 2 ((160)dg(161)) and 1 ((1199)y) amino acid positions 160-161 and 1199.\\tRESULTS\\nthe phylogenetic analysis based on full-length genome of cbr1/2014 isolate has grouped the virus with the pandemic variants.\\tRESULTS\\nin contrast, eas1/2014 isolate was grouped with cv777, lzc and sm98, a classical variant.\\tRESULTS\\nour findings demonstrated the emergence of eas1/2014, a classical variant which is novel to thailand and genetically distinct from the currently circulating endemic variants.\\tCONCLUSIONS\\nthis study warrants further investigations into molecular epidemiology and genetic evolution of the pedv in thailand.\\tCONCLUSIONS\\nwe experimentally study the effects of a uniform electric field on the conformation of single dna molecules.\\tOBJECTIVE\\nwe demonstrate that a moderate electric field (~200 v/cm) strongly compresses isolated dna polymer coils into isotropic globules.\\tRESULTS\\ninsight into the nature of these compressed states is gained by following the expansion of the molecules back to equilibrium after halting the electric field.\\tRESULTS\\nwe observe two distinct types of expansion modes: a continuous molecular expansion analogous to a compressed spring expanding, and a much slower expansion characterized by two long-lived metastable states.\\tRESULTS\\nfluorescence microscopy and stretching experiments reveal that the metastable states are the result of intramolecular self-entanglements induced by the electric field.\\tRESULTS\\nthese results have broad importance in dna separations and single molecule genomics, polymer rheology, and dna-based nanofabrication.\\tCONCLUSIONS\\nto demonstrate the possibilities of differential diagnostics of dsm with hc using modern instrumental diagnostic methods.\\tOBJECTIVE\\nthe study involved two clinical cases of patients with dsm and hc, who underwent comprehensive ophthalmological examination including edi-oct and oct angiography, fluorescent angiography (fa), indocyanine-green angiography (icg) and magnetic resonance imaging of brain and orbits (mri).\\tMETHODS\\nthe most simple and highly informative method for differential diagnostic of dsm with hc is currently edi-oct.\\tRESULTS\\nin difficult differential diagnostic cases, it is recommended to use fa and mri.\\tRESULTS\\nadditionally, for identification of the cause of srd in dsm, oct-angiography and icg-angiography can be used.\\tRESULTS\\nthus, diagnostics of dsm is difficult today primarily because of the low awareness of ophthalmologists about the presence of such macula pathology.\\tCONCLUSIONS\\ndetection of this anatomical feature by means of ophthalmoscopy alone can be difficult and requires special skills and experience.\\tCONCLUSIONS\\nthe use of edi-oct, as well as fa and mri in difficult differential diagnostic cases, and correct interpretation of the obtained data can help avoid diagnostic errors.\\tCONCLUSIONS\\nhippocampal mean diffusivity (md) measured by diffusion-tensor imaging is a promising diagnostic marker for mild cognitive impairment (mci) and dementia.\\tBACKGROUND\\nits performance has yet to be evaluated in primary care patients, who vary systematically from patients visiting specialized care settings.\\tBACKGROUND\\nwe assessed the diagnostic accuracy of hippocampus diffusivity for detecting mci and dementia in a sample recruited from primary care, compared to a sample from specialized care.\\tOBJECTIVE\\none sample was recruited from a primary care intervention trial (delphi-mv) (n=70), and the other sample was recruited from our memory clinic (n=70).\\tMETHODS\\nthe samples were matched pairwise for diagnosis, mmse, age, gender, and education.\\tMETHODS\\nthey included dementia patients, mci patients and healthy subjects.\\tMETHODS\\nmean md was calculated for the left and right hippocampus, corrected for partial volume effects.\\tMETHODS\\nwithin each sample, left or right hippocampal md served as predictor for diagnostic group in logistic regressions, which were additionally controlled for white matter lesions.\\tMETHODS\\nin the primary care sample, hippocampal md detected dementia with high cross-validated accuracy (left: auc=.92; right: auc=.85), but did not classify mci with an accuracy above chance (left: auc=.58; right: auc=.44).\\tRESULTS\\nin the memory clinic sample, hippocampal md classified both dementia (left: auc=.91; right: auc=.91) and mci (left: auc=.86; right: auc=.83) with high cross-validated accuracy.\\tRESULTS\\nhippocampal md supported the identification of dementia but did not contribute to the detection of mci in the primary care patient population.\\tCONCLUSIONS\\nolder adults (50-70 years old) have lower organ donor registration rates than younger adults.\\tBACKGROUND\\nolder adults have different informational needs and donor registration behavior than younger age groups.\\tBACKGROUND\\nthe objective of this qualitative study was to understand insights of older adults about organ donation to effectively address the barriers to becoming an organ donor.\\tOBJECTIVE\\nthis study identified turning points as \"aha!\" moments that occurred during a dialogue intervention where older adults discussed benefits, barriers, and process to organ donation.\\tOBJECTIVE\\ndialogues were held with small groups of older adults in 11 communities in a midwestern organ procurement organization service area.\\tMETHODS\\nparticipants were positive to organ donation, but not registered as an organ donor.\\tMETHODS\\nmethods/approach: qualitative analysis of verbatim comments from the dialogue and a follow-up survey were used to examine turning points or \"aha!\" moments of participants\\' decision-making about organ donation and organ donor registration.\\tMETHODS\\ntwenty-one separate in-depth dialogues were conducted with 198 participants, with mean age of 60.57 years.\\tRESULTS\\nthere were 2757 separate comments coded with 465 of the comments (17%) identified as providing aha! moments during the dialogue.\\tRESULTS\\nthree themes include benefits of organ donation (30%), barriers about organ donation (39%), and organ donation process (31%).\\tRESULTS\\nthe research identified moments in the dialogue where possible learning about organ donation may have occurred.\\tCONCLUSIONS\\nafter participation in the dialogue process, there was an increase in intent to register to be an organ donor, organ donation discussion with family and friends, and organ donor registration.\\tCONCLUSIONS\\nintensified treatment of head and neck cancers (hnc): by radiotherapy (rth) commonly combined with cytotoxic drugs is associated with oral mucositis (om).\\tBACKGROUND\\nchanges in the functioning of nucleotide synthesis pathway (rnr1, coded by rrm1 gene) can modulate the efficiency of cellular dna repair mechanisms and influence the risk of occurrence and severity of om in hnc patients after rth.\\tBACKGROUND\\nthe objective of this study was to evaluate the correlation between expression of rrm1 gene measured in free circulating rna (cfrna) and the risk of more severe om and disease-free survival (dfs) and overall survival (os) in patients undergoing rth for hnc.\\tOBJECTIVE\\nthe study included 60 patients treated with rth for hnc.\\tMETHODS\\nrrm1 gene expression was examined in circulating rna isolated from peripheral blood plasma (before treatment).\\tMETHODS\\nhigh rrm1 gene expression was significantly associated with higher risk of grade 3 om after 5 (or = 4.97), 6 (or = 4.33) and 7 (or = 3.50) weeks of rth.\\tRESULTS\\nexpression of rrm1 gene was not significantly related with risk of dfs and os shortening (however well separated kaplan-meier curves might suggest its potential prognostic impact).\\tRESULTS\\nthe evaluation of rrm1 gene expression in cfrna allows for estimation of the risk of severe om in patients subjected to rth.\\tCONCLUSIONS\\ndendrite morphology is pivotal for neural circuitry functioning.\\tBACKGROUND\\nwhile the causative relationship between small-scale dendrite morphological abnormalities (shape, density of dendritic spines) and neurodevelopmental disorders is well established, such relationship remains elusive for larger-scale dendrite morphological impairments (size, shape, branching pattern of dendritic trees).\\tBACKGROUND\\nhere, we summarize published data on dendrite morphological irregularities in human patients and animal models for neurodevelopmental disorders, with focus on autism and schizophrenia.\\tOBJECTIVE\\nwe next discuss high-risk genes for these disorders and their role in dendrite morphogenesis.\\tOBJECTIVE\\nwe finally overview recent developments in therapeutic attempts and we discuss how they relate to dendrite morphology.\\tOBJECTIVE\\nwe find that both autism and schizophrenia are accompanied by dendritic arbor morphological irregularities, and that majority of their high-risk genes regulate dendrite morphogenesis.\\tRESULTS\\nthus, we present a compelling argument that, along with smaller-scale morphological impairments in dendrites (spines and synapse), irregularities in larger-scale dendrite morphology (arbor shape, size) may be an important part of neurodevelopmental disorders\\' etiology.\\tCONCLUSIONS\\nwe suggest that this should not be ignored when developing future therapeutic treatments.\\tCONCLUSIONS\\nflow cytometric immunophenotyping is considered an indispensable tool for the diagnosis, classification and monitoring of disease in monoclonal gammopathies.\\tBACKGROUND\\nthe clinical sensitivity of flow cytometry is comparable with advanced molecular methods.\\tBACKGROUND\\nclinical application of flow cytometry in monoclonal gammopathies has various dimensions, such as differential diagnosis of malignant plasma cell disorder from reactive plasmacytosis, identifying the progression risk in monoclonal gammopathy of undetermined significance (mgus) and asymptomatic multiple myeloma (mm), and minimal residual disease detection.\\tBACKGROUND\\nflow cytometry-based clonality assessment with immunophenotyping encourages and enables the most stringent method of diagnosis and follow-up.\\tBACKGROUND\\nthe objective of this review is to update the malignant plasma cells phenotypic profile of mgus and mm.\\tOBJECTIVE\\nthe most comprehensive antigens, such as cd19, cd27, cd28, cd45, cd56 and cd117, play a significant role in the characterization of normal and malignant plasma cells.\\tRESULTS\\nseveral research groups described the putative phenotype of myeloma cell progenitors, but no remarkable suggestion could be made because of disparity.\\tRESULTS\\nthis review also focuses on the association of malignant phenotypic markers and chromosomal aberrations that identify the specific prognostic features in monoclonal gammopathies.\\tCONCLUSIONS\\nthe purpose of this study was to assess the role of remote magnetic navigation (rmn) in the ablation of ventricular premature complexes (vpcs) arising from outflow tracts (ot) and valve annuli by comparing to manual control navigation (mcn).\\tOBJECTIVE\\na total of 152 patients with frequent vpcs were prospectively enrolled.\\tMETHODS\\n64 (42%) patients underwent ablation guided by rmn.\\tMETHODS\\nacute success rate was defined as the complete elimination and non-inducibility of clinical vpcs during the procedure.\\tMETHODS\\noverall, acute success rate of rmn group was not different from mcn group (87.5% vs 84.1%, p=0.56).\\tRESULTS\\ncompared to mcn group, the fluoroscopic time of ot-vpcs ablation in the rmn group was significantly reduced by 67% (2.9+/-2.3min vs 8.9+/-9.7min, p=0.006), and the ablation applications in successful cases were significantly reduced (11+/-7 vs 15+/-11, p=0.018).\\tRESULTS\\ncompared to mcn, rmn significantly decreased ablation applications (15+/-9 vs 23+/-9, p=0.013) in the acute success rates of ablating vpcs of valve annulus, and has a trend of a higher success rate for vpcs arising from tricuspid annulus (10/11 vs 7/12, p=0.193).\\tRESULTS\\nno complications occurred in the rmn group.\\tRESULTS\\nthree cases of cardiac tamponade and one case of transient atrioventricular block occurred in the mcn group (p=0.22).\\tRESULTS\\nafter a mean follow up of 16.2months, 2/56 and 3/74 patients had a recurrence of vpcs in the rmn group and mcn group respectively (p=0.75).\\tRESULTS\\nwhen compared to mcn, rmn-guided ablation for vpcs was just as effective and safe, with the added benefit of reduced fluoroscopic time and fewer ablation applications.\\tCONCLUSIONS\\nthe in vitro effects of polyalkyl-imide hydrogel (pai) containing 96% pyrogen-free water on the viability, apoptosis, cell shape and metabolic activities of murine 3t3 and human detroit 555 fibroblasts were investigated.\\tOBJECTIVE\\nanalysis of the viscous-elastic properties and the ultrastructure of pai, performed by rheometer and afm respectively, showed that the material has the typical characteristics of hydrogel, including a three-dimensional configuration of molecules arranged in a regular network with many discrete caveolae where most of the water is captured.\\tRESULTS\\nhydrogel biocompatibility was found to be high for both cell lines, with some differences.\\tRESULTS\\ncell viability decreased more in 3t3 cells than detroit 550 fibroblasts when cultured in the presence of 100 mg/ml hydrogel but not at concentrations of 25 and 50 mg/ml hydrogel.\\tRESULTS\\nthe period of incubation with pai (24 and 48 h) only partially affected cell viability.\\tRESULTS\\napoptosis, most likely due to cells\\' inability to adhere to the polymer, was the only type of cell death observed.\\tRESULTS\\nfibroblasts grown in the presence of polymer were always metabolically active since they continued to synthesize collagen.\\tRESULTS\\nin conclusion, pai hydrogel, even at high concentrations, was biocompatible for both fibroblasts, but in particular for human cells, thus encouraging its use as a dermal filler.\\tCONCLUSIONS\\nthere is an increasing interest in the medical use of cannabis, particularly in the treatment of chronic pain.\\tBACKGROUND\\nthe aim is to evaluate the effects of cannabis use and the associated benefits reported by patients with various chronic pain diagnoses.\\tOBJECTIVE\\na total of 338 patients with different chro- nic pain conditions were treated with a cannabis flos 19% decoction for 12 months, in addition to their pharmacological therapy.\\tMETHODS\\nbaseline levels for pain medications, pain intensity, pain disability, anxiety and depression were recorded at 1, 3, 6 and 12 months.\\tMETHODS\\npain intensity records a statistically significant reduction from baseline to 12 months follow up (x(2) 61.375; p<0,001); the im- provements from baseline to 12 months follow up are also recorded in pain disability (x(2) 39.423; p<0,001) and in anxiety and depression symptoms (x(2)30.362; p<0,001; x(2)27.786; p<0,001).\\tRESULTS\\nour study suggest that cannabis therapy, as an adjun- ct a traditional analgesic therapy, can be an efficacious tool to make more effective the management of chronic pain and its consequences on functional and psychological dimension.\\tCONCLUSIONS\\nfurther randomized, controlled trials are needed to confirm our conclusions.\\tCONCLUSIONS\\naging-associated cognitive impairment is an important health care issue since individuals with mild cognitive impairment are more likely to develop alzheimer\\'s disease.\\tBACKGROUND\\nin the present study, the protective effect of gossypium herbaceam extracts (ghe) on learning and memory impairment associated with aging were examined in vivo using morris water maze and step through task.\\tOBJECTIVE\\nfurthermore, the antioxidant activity and neuroprotective effect of ghe was investigated with methods of histochemistry and biochemistry.\\tOBJECTIVE\\nthese data showed that oral administration with ghe at the doses of 35, 70, and 140 mg/kg exerted an improved effect on the learning and memory impairment in aged rats.\\tRESULTS\\nsubsequently, ghe afforded a beneficial action on eradication of free radicals without influence on the activity of glutathione peroxidase and superoxide dismutase.\\tRESULTS\\nghe treatment enhanced the expression levels of nerve growth factor.\\tRESULTS\\nmeanwhile, proliferation of neural progenitor cells was elevated in hippocampus after treatment with ghe.\\tRESULTS\\ntaken together, neurogenic niche improvement could be involved in the mechanism underlying neuroprotection of ghe against aging-associated cognitive impairment.\\tCONCLUSIONS\\nthese findings suggested that ghe might be a potential agent as cognitive-enhancing drugs that delay or halt mild cognitive impairment progression to alzheimer\\'s disease or treatment of aging-associated cognitive impairment.\\tCONCLUSIONS\\nto investigate the effects of arsenic trioxide (as2o3) on cdc20 and mad2 in process of aml hl-60 cell proliferation.\\tOBJECTIVE\\nthe proliferation of hl-60 cells was detected by cck-8 method at different concentrations of arsenic trioxide for 24, 48 and 72 hours.\\tMETHODS\\nthe cell morphological changes were observed by inverted microscopy.\\tMETHODS\\nthe expressions of mad2 and cdc20 mrna and protein in hl-60 cells treated with as2o3 for 48 h were detected by real-time pcr and western blot respectively.\\tMETHODS\\narsenic trioxide significantly inhibited the hl-60 cell proliferation and displayed a good time-dose correlation.\\tRESULTS\\nrt-pcr and western blot showed that the expression of mad2 was up-regulated and the expression of cdc20 was down-regulated in hl-60 cells treated with arsenic trioxide of different concentration (4,8,10 micromol/l).\\tRESULTS\\narsenic trioxide can inhibit the human acute myeloid leukemia hl-60 cell proliferation, and its mechanism may be related with up-regulation of mad2 expression and down-regulation of cdc20 expression.\\tCONCLUSIONS\\nescherichia coli survives ph 2 environments through an acid resistance (ar) system regulated by the transcriptional activator gade.\\tBACKGROUND\\nnumerous proteins control gade at an upstream, conserved, 798 bp intergenic region.\\tBACKGROUND\\nwe show this region produces three transcripts starting at -124 (t1), -324/-317 (t2) and -566 (t3) bp from the gade start codon.\\tRESULTS\\ntranscriptional lacz fusions to gade promoter regions revealed p1 and p3 were active while p2 alone was not.\\tRESULTS\\nhowever, pairing p3 with p2 activated p2 and increased expression 20-fold above p3 alone.\\tRESULTS\\nthe fusions were transferred to salmonella, which lacks this ar system, and plasmid-borne e. coli-specific regulators evga, ydeo, gade and gadx were introduced.\\tRESULTS\\ndata revealed that ydeo and gadx activate p3, p2 and p3p2, while gade autoactivates p1 and represses p3 and p3p2.\\tRESULTS\\nthe developing model indicates that different signals activate ydeo, gadx, or an mnme-dependent regulator, which stimulate gade transcription from the p3 and p2 promoters.\\tRESULTS\\nonce made, gade activates p1 and represses p3 and p2.\\tRESULTS\\nthe p1 region also enables efficient downstream transcription and translation of the p3 or p2 transcripts.\\tRESULTS\\nevidence indicates the entire 750 bp sensory integration locus is necessary for a versatile response.\\tCONCLUSIONS\\nliver elastography have been reported in hepatocellular carcinoma (hcc) with higher values; however, it is unclear to identify morbimortality risk on liver transplantation waiting list.\\tBACKGROUND\\nto assess liver stiffness, ultrasound and clinical findings in cirrhotic patients with and without hcc on screening for liver transplant and compare the morbimortality risk with elastography and meld score.\\tOBJECTIVE\\npatients with cirrhosis and hcc on screening for liver transplant were enrolled with clinical, radiological and laboratory assessments, and transient elastography.\\tMETHODS\\n103 patients were included (without hcc n=58 (66%); hcc n=45 (44%).\\tRESULTS\\nthe mean meld score was 14.7+/-6.4, the portal hypertension present on 83.9% and the mean transient elastography value was 32.73+/-22.5 kpa.\\tRESULTS\\nthe median acoustic radiation force impulse value of liver parenchyma was 1.98 (0.65-3.2) m/s and 2.16 (0.59-2.8) m/s in hcc group.\\tRESULTS\\nthe hcc group was significantly associated with hcv infection (or 26.84; p<0.0001), higher levels of serum alpha-fetoprotein (or 5.51; p=0.015), clinical portal hypertension (or 0.25; p=0.032) and similar meld score (p=0.693).\\tRESULTS\\nthe area under the receiver operating characteristics (auroc) showed sensitivity and specificity for serum alpha-fetoprotein (cutoff 9.1 ng/ml), transient elastography value (cutoff value 9 kpa), and acoustic radiation force impulse value (cutoff value 2.56 m/s) of 50% and 86%, 92% and 17% and 21% and 92%, respectively.\\tRESULTS\\nthe survival group had a mean transient elastography value of 31.65+/-22.2 kpa vs.\\tRESULTS\\n50.87+/-20.9 kpa (p=0.098) and higher meld scores (p=0.035).\\tRESULTS\\nelastography, ultrasound and clinical findings are important non-invasive tools for cirrhosis and hcc on screening for liver transplant.\\tCONCLUSIONS\\nhigher values in liver elastography and meld scores predict mortality.\\tCONCLUSIONS\\ncorneal endothelial transplantation has become the gold standard for the treatment of corneal endothelial dysfunctions, replacing full thickness transplantation, known as penetrating keratoplasty.\\tBACKGROUND\\ncorneal endothelial transplantation has been described using two different techniques: descemet\\'s membrane endothelial keratoplasty (dmek) and descemet\\'s stripping automated endothelial keratoplasty (dsaek).\\tBACKGROUND\\nboth are still performed worldwide.\\tBACKGROUND\\nto compare the effectiveness and safety of descemet\\'s membrane endothelial keratoplasty (dmek) versus descemet\\'s stripping automated endothelial keratoplasty (dsaek) for the treatment of corneal endothelial failure in people with fuch\\'s endothelial dystropy (fed) and pseudophakic bullous keratopathy (pbk).\\tOBJECTIVE\\nthe date of the search was 11 august 2017.\\tMETHODS\\nwe included randomised controlled trials (rcts) and non-randomised paired, contralateral-eye studies in any setting where dmek was compared with dsaek to treat people with corneal endothelial failure.\\tMETHODS\\ntwo review authors independently screened the search results, assessed trial quality and extracted data using the standard methodological procedures expected by cochrane.\\tMETHODS\\nour primary outcome was best corrected visual acuity (bcva) measured in logarithm of the minimum angle of resolution (logmar).\\tMETHODS\\nsecondary outcomes were endothelial cell count, graft rejection, primary graft failure and graft dislocation.\\tMETHODS\\nwe graded the risk of bias of non-randomised studies (nrss) using robins-i.\\tMETHODS\\nwe did not identify any rcts but found four non-randomised studies (nrss) including 72 participants (144 eyes), who had received dsaek in the first eye followed by dmek in the fellow eye.\\tRESULTS\\nall the studies included adult participants where there was evidence of fed and endothelial failure requiring a corneal transplant for the treatment of visual impairment.\\tRESULTS\\nwe did not find any studies that included pbk.\\tRESULTS\\nthe trials were published between 2011 and 2015, and we assessed them as high risk of bias due to potential unknown confounding factors since dsaek preceded dmek in all participants.\\tRESULTS\\ntwo studies reported results at 12 months, one at 6 months, and one between 6 and 24 months.\\tRESULTS\\nat one year, using dmek in cases of endothelial failure may result in better bcva compared with dsaek (mean difference (md) -0.14, 95% confidence interval (ci) -0.18 to -0.10 logmar, 4 studies, 140 eyes, low-certainty evidence).\\tRESULTS\\nnone of the participants had severe visual loss (bcva of 1.0 logmar or more; very low-certainty evidence).\\tRESULTS\\nregarding endothelial cell count data (4 studies, 134 eyes) it is hard to draw any conclusions since two studies suggested no difference and the other two reported that dmek provides a higher cell density at one year (very low-certainty evidence).\\tRESULTS\\nno primary graft failure and only one graft rejection were recorded over four studies (144 eyes) (very low-certainty evidence).\\tRESULTS\\nthe most common complications reported were graft dislocations, which were recorded in one or two out of 100 participants with dsaek but were more common using dmek, although this difference could not be precisely estimated (risk ratio (rr) 5.40, 95% ci 1.51 to 19.3; 4 studies, 144 eyes, very low-certainty evidence).\\tRESULTS\\nthis review included studies conducted on people with corneal endothelium failure due to fed for whom both dmek and dsaek can be considered, and found low-certainty evidence that dmek provides some advantage in terms of final bcva, at the cost of more graft dislocations needing \\'re-bubbling\\' (very low-certainty of evidence).\\tCONCLUSIONS\\nchilaiditi\\'s sign is defined as the interposition of bowels between the liver and the right diaphragm.\\tBACKGROUND\\nwhen the patient is symptomatic due to the intestinal obstruction, the case is referred to as chilaiditi\\'s syndrome.\\tBACKGROUND\\nto emphasize the importance of accurate diagnose of chilaiditi\\'s syndrome in patients with psychotic disturbances.\\tOBJECTIVE\\na 46 years old male was admitted to our department suffering from a constant epigastric and right upper quadrant pain with radiation to the right shoulder.\\tMETHODS\\nthe pain started 10 hours before the admission of the patient and was accompanied with vomiting.\\tMETHODS\\npatient has a history of schizophrenia and intellectual disability.\\tMETHODS\\nhe was in a stimulatory situation and unable to give any information about his state of health.\\tMETHODS\\npatient was afebrile, tachycardic and laboratory results were normal.\\tRESULTS\\nthe chest and abdomen x-ray showed the chilaiditi\\'s sign.\\tRESULTS\\nwith the ultrasound procedure the case of the pneumoperitoneum was excluded.\\tRESULTS\\na conservative treatment with iv fluid hydration, pain management, diet modification, laxatives and enemas, was used.\\tRESULTS\\nafter a week of hospitalization, the patient felt well, having proper diet and regular evacuations and at the chilaiditi\\'s sign was no more observed.\\tRESULTS\\nthe etiology of the chilaiditi\\'s syndrome is multifactoral and it has been reported that it is associated with psychotropic medication and intellectual disability.\\tCONCLUSIONS\\nthe diagnosis of the syndrome is vital in order to avoid unnecessary and dangerous surgical interventions.\\tCONCLUSIONS\\nonly few publications of a chilaiditi syndrome in patients with psychosis are cited in the literature.\\tCONCLUSIONS\\na missense variant (rs373863828:g > a; p.arg457gln) of the crebrf gene is strongly associated with a higher body mass index (bmi; kg/m(2)) in polynesian populations.\\tBACKGROUND\\nthis variant has also been reported to be associated with lower total cholesterol in samoans.\\tBACKGROUND\\nthe aim of this study is to examine the association of rs373863828:g > a with levels of serum lipids in four pacific populations.\\tOBJECTIVE\\na total of 613 adult subjects were recruited from tonga (polynesians) and the solomon islands (melanesians and micronesians).\\tMETHODS\\nmultiple regression analyses adjusted for age and sex were performed to examine the association of rs373863828 with levels of serum lipids in each population.\\tMETHODS\\na significant association of rs373863828:g > a with lower level of hdl-cholesterol was detected in the tonga population (beta = -3.32 and p-value = 0.030).\\tRESULTS\\nthe expected change in hdl-cholesterol with respect to a single copy of the rs373863828-a allele was 3.32 mg/dl.\\tRESULTS\\nhowever, the association between rs373863828-a and lower levels of hdl-cholesterol was not significant after further adjustment for bmi in the tonga population (beta = -2.32 and p-value = 0.13).\\tRESULTS\\nthe rs373863828-a allele may not directly affect the level of serum hdl-cholesterol independent of bmi.\\tCONCLUSIONS\\nto confirm the present findings, association studies with large sample sizes and functional analyses are required.\\tCONCLUSIONS\\nto investigate the effect of silencing nsd2 gene by rna interference on the proliferation, apoptosis and the alteration of akt /mtor signaling pathway in diffuse large b cell lymphoma oci-ly3 cells.\\tOBJECTIVE\\nthe shrna targeting nsd2 gene was transfected into oci-ly3 cells by lentivirus infection.\\tMETHODS\\nthe nsd2 mrna and protein were detected by real time q-pcr and western blot, respectively.\\tMETHODS\\nthe cell proliferation was detected by cck-8 and apoptosis was measured by flow cytometry.\\tMETHODS\\nthe expressions of bcl-2, bax, caspase-3, akt, p-akt, p-mtor, p-p70s6k, h3k36me2 were detected by western blot.\\tMETHODS\\nafter transfecting the oci-ly3 cells by nsd2-shrna for 72 h, the expressions of nsd2 mrna and protein both were down-regulated(p<0.05), the proliferation rate of cells in nsd2 shrna group was significantly lower than that in control and neg shrna groups (p<0.05); the apoptosis rate of cells in nsd2 shrna group was significantly higher than that in control and neg-shrna group (30.37+/-4.22)% vs 1.36+/-0.52 % and 2.17+/-1.43)%(p<0.05); the expressions of bax and caspase-3 were up-regulated, while the expression of bcl-2 was down-regulated; the h3k36me2 level significantly decreased as compared with control group, no obvious decrease of the total protein level of akt was found, but the expressions of p-akt, p-mtor and p-70s6k were down-regulated.\\tRESULTS\\nthe silencing nsd2 gene can inhibit the proliferation and induce the apoptosis of oci-ly3 cells, their mechanisms may relate with regulating the h3k36me2 level, specifically inhibiting the activivty of akt/mtor signal pathway.\\tCONCLUSIONS\\nthere is a need for greater understanding of the epidemiology of primary care patient safety in order to generate solutions to prevent future harm.\\tBACKGROUND\\nto estimate the rate of failures in processing actions requested in hospital discharge summaries, and to determine factors associated with these failures.\\tOBJECTIVE\\nthe authors undertook a retrospective records review.\\tMETHODS\\nthe study population was emergency admissions for patients aged >/=75 years, drawn from 10 practices in three areas of england.\\tMETHODS\\none gp researcher reviewed the records for 300 patients after hospital discharge to determine the rate of compliance with actions requested in the discharge summary, and to estimate the rate of associated harm from non-compliance.\\tMETHODS\\nin cases where gps documented decision-making contrary to what was requested, these instances did not constitute failures.\\tMETHODS\\ndata were also collected on time taken to process discharge communications.\\tMETHODS\\nthere were failures in processing actions requested in 46% (112/246) of discharge summaries (95% confidence interval [ci] = 39 to 52%).\\tRESULTS\\nmedications changes were not made in 17% (124/750) of requests (95% ci = 14 to 19%).\\tRESULTS\\ntests were not completed for 26% of requests (95% ci = 16 to 35%), and 27% of requested follow-ups were not arranged (95% ci = 20 to 33%).\\tRESULTS\\nthe harm rate associated with these failures was 8%.\\tRESULTS\\nincreased risk of failure to process test requests was significantly associated with the type of clinical it system, and male patients.\\tRESULTS\\nfailures occurred in the processing of requested actions in almost half of all discharge summaries, and with all types of action requested.\\tCONCLUSIONS\\nassociated harms were uncommon and most were of moderate severity.\\tCONCLUSIONS\\ncryoglobulinaemic vasculitis (cv) is a lymphoproliferative disorder related to hepatitis c virus (hcv) infection; anti-viral therapy is the first therapeutic option.\\tBACKGROUND\\ncv can be incapacitating, compromising the patients\\' quality of life (qol).\\tBACKGROUND\\nin a controlled study, interferon-based therapy was associated with a lower virological response in vasculitic patients than in patients without vasculitis.\\tBACKGROUND\\nlimited, uncontrolled data on direct-acting anti-virals are available.\\tBACKGROUND\\nto evaluate safety, clinical efficacy, virological response and the impact of interferon-free treatment on qol in hcv patients with and without mixed cryoglobulinaemia (mc).\\tOBJECTIVE\\nwe prospectively studied hcv patients with cryoglobulinaemia (with vasculitis-cv- and without vasculitis-mc-) and without cryoglobulinaemia (controls), treated with direct-acting anti-virals.\\tMETHODS\\nhepato-virological parameters, cv clinical response and impact on qol were assessed.\\tMETHODS\\none hundred and eighty-two hcv patients were recruited (85 with cv, 54 with mc and 43 controls).\\tRESULTS\\na sustained virological response at 12 weeks (svr12) was achieved in 166 (91.2%) patients (77/85 cv, 48/54 mc, 41/43 controls).\\tRESULTS\\nin cv svr patients, cryocrit levels progressively decreased and clinical response progressively improved, reaching 96.7%, 24 weeks after treatment.\\tRESULTS\\nqol, baseline physical and mental component summaries were lower in the cv group compared to the other groups (p < 0.05).\\tRESULTS\\nscores improved in all groups, and significantly in cv patients after svr.\\tRESULTS\\nno significant differences in svr rates were recorded between cryoglobulinaemic patients and controls and a high clinical and immunological efficacy was confirmed in cv, supporting the role of interferon-free therapy as the first therapeutic option.\\tCONCLUSIONS\\ninterestingly, cv patients had worse baseline qol than other hcv-positive groups and interferon-free therapy was effective in significantly increasing qol, suggesting the important role of direct-acting anti-viral-based therapy in improving cv\\'s individual and social burden.\\tCONCLUSIONS\\nlaparoscopic ileo-pouch-anal anastomosis (ipaa) has been reported as having low morbidity and several advantages.\\tBACKGROUND\\nto evaluate safety, efficacy and long-term results of laparoscopic ipaa, performed in elective or emergency settings, in consecutive unselected ibd patients.\\tOBJECTIVE\\nall the patients received totally laparoscopic 2-stage (proctocolectomy and ipaa - stoma closure) or 3-stage (colectomy - proctectomy and ipaa - stoma closure) procedure according to their presentation.\\tMETHODS\\nfrom july 2007 to july 2016, 160 patients entered the study.\\tRESULTS\\n50.6% underwent a 3-stage procedure and 49.4% a 2-stage procedure.\\tRESULTS\\nmortality and morbidity were 0.6% and 24.6%.\\tRESULTS\\nconversion rate was 3.75%.\\tRESULTS\\n8.7% septic complications were associated with steroids and infliximab treatment (p=0.0001).\\tRESULTS\\n3-stage patients were younger (p=0.0001), with shorter disease duration (p=0.0001), minor asa scores of 2 and 3 (p=0.0007), lower inflammatory index and better nutritional status (p=0.003 and 0.0001), fewer clavien-dindo\\'s grade ii complications (p=.0001), reduced rates of readmission and reoperation at 90days (p=0.03), and shorter hospitalization (p=.0001), but with similar pouch and ipaa leakage, compared to 2-stage patients.\\tRESULTS\\n8 years pouch failure and definitive ileostomy were 5.1% and 3.7%.\\tRESULTS\\na totally laparoscopic approach is safe and feasible, with very low mortality and morbidity rates and very low conversion rate, even in multi-stage procedures and high-risk patients.\\tCONCLUSIONS\\n3d rapid acquisition with relaxation enhancement or turbo spin-echo sequence is promising for black-blood angiography.\\tBACKGROUND\\nin this paper, we propose a new scheme of sequence parameter optimization for \"flow-void enhanced\" volumetric black-blood angiography.\\tOBJECTIVE\\nalthough black-blood imaging has numerous applications, we focused on the carotid artery in this study.\\tOBJECTIVE\\nall experiments were performed on a 3.0-t imager.\\tMETHODS\\nthe methods used were a flow phantom study and a volunteer study.\\tMETHODS\\nfrom the results, the optimal parameters for black-blood angiography were the use of very-low refocusing flip angles, use of a \"90 degrees + alpha/2\" refocusing flip angle sweep, and \"flow sensitization\" at the \"in-plane flow\" situational imaging plane.\\tRESULTS\\nthis sequence can be used for 3d volumetric black-blood angiography and vessel wall imaging.\\tCONCLUSIONS\\nacting with integrity is a central part of nursing practice.\\tBACKGROUND\\nhowever, literature shows that professional integrity can be absent and where this is present it can face challenges.\\tBACKGROUND\\ngovernmental inquiries have revealed deficits in the expression of nursing values which underpin professional integrity, in particular caring, compassionate and competent practice that maintains the dignity of patients.\\tBACKGROUND\\nevidence also suggests that it cannot be taken for granted that pre-registration education will have a positive impact on student nurses\\' ability to practice with integrity.\\tBACKGROUND\\nthis research explored students\\', mentors\\' and lecturers\\' experiences of professional integrity in pre-registration nurse education.\\tOBJECTIVE\\na grounded theory approach was informed by the work of charmaz (2004, 2006).\\tMETHODS\\nthe study, which took place in a uk university, involved four fields of nursing practice: adult, children, mental health and learning disabilities.\\tMETHODS\\n12 student nurses, 5 practice-based mentors and 6 lecturers participated.\\tMETHODS\\nsemi-structured interviews and focus groups revealed three main themes: meanings, enactment and growth of professional integrity.\\tRESULTS\\npre-registration education can influence the growth of professional integrity by improving students\\' understanding of the boundaries of nursing practice and potential threats to these, skills to speak up on behalf of patients, and knowledge of the processes involved in raising concerns about practice and potential barriers to this.\\tCONCLUSIONS\\nthe proactive development of student nurses\\' strategies to cope, alongside increasing their understanding of the importance of this is also likely to be beneficial.\\tCONCLUSIONS\\naim was to develop a full automatic clustering approach of the time-activity curves (tac) from dynamic 18f-fet pet and evaluate its association with idh1 mutation status and survival in patients with gliomas.\\tOBJECTIVE\\nthirty-seven patients (mean age: 45+/-13 y) with newly diagnosed gliomas and dynamic 18f-fet pet before any histopathologic investigation or treatment were retrospectively included.\\tMETHODS\\neach dynamic 18f-fet pet was realigned to the first image and spatially normalized in the montreal neurological institute template.\\tMETHODS\\na tumor mask was semi-automatically generated from z-score maps.\\tMETHODS\\neach brain tumor voxel was clustered in one of the 3 following centroids using dynamic time warping and k-means clustering (centroid #1: slowly increasing slope; centroid #2: rapidly increasing followed by slowly decreasing slope; and centroid #3: rapidly increasing followed by rapidly decreasing slope).\\tMETHODS\\nthe percentage of each dynamic 18f-fet tac within tumors and other conventional 18f-fet pet parameters (maximum and mean tumor-to-brain ratios [tbrmax and tbrmean], time-to-peak [ttp] and slope) was compared between wild-type and idh1 mutant tumors.\\tMETHODS\\ntheir prognostic value was assessed in terms of progression free-survival (pfs) and overall survival (os) by kaplan-meier estimates.\\tMETHODS\\ntwenty patients were idh1 wild-type and 17 idh1 mutant.\\tRESULTS\\nhigher percentage of centroid #1 and centroid #3 within tumors were positively (p = 0.016) and negatively (p = 0.01) correlated with idh1 mutated status.\\tRESULTS\\nalso, tbrmax, tbrmean, ttp, and slope discriminated significantly between tumors with and without idh1 mutation (p range 0.01 to 0.04).\\tRESULTS\\nprogression occurred in 22 patients (59%) at a median of 13.1 months (7.6-37.6 months) and 13 patients (35%) died from tumor progression.\\tRESULTS\\npatients with a percentage of centroid #1 > 90% had a longer survival compared with those with a percentage of centroid #1 < 90% (p = 0.003 for pfs and p = 0.028 for os).\\tRESULTS\\nthis remained significant after stratification on idh1 mutation status (p = 0.029 for pfs and p = 0.034 for os).\\tRESULTS\\ncompared to other conventional 18f-fet pet parameters, ttp and slope were associated with pfs and os (p range 0.009 to 0.04).\\tRESULTS\\nbased on dynamic 18f-fet pet acquisition, we developed a full automatic clustering approach of tac which appears to be a valuable noninvasive diagnostic and prognostic marker in patients with gliomas.\\tCONCLUSIONS\\nin this pilot study, the purpose is to investigate if a series of sphenopalatine ganglion (spg) blockade treatments modulate the functional connectivity within the salience and central executive network (cen) in chronic migraine with medication overuse headaches (cm(w/moh) ).\\tOBJECTIVE\\nusing intranasal local anesthesia to block the spg for the treatment of various headache disorders has been employed in clinical practice since the early 1900s.\\tBACKGROUND\\nhowever, the exact mechanism of how spg modulate resting state intrinsic functional brain networks connectivity remains to be elucidated.\\tBACKGROUND\\nthis pilot study seeks to understand the resting state connectivity changes in salience and cens, with emphasis on the mesocorticolimbic systems, before and after a series of spg block treatments.\\tOBJECTIVE\\nusing fmri, resting state connectivity was derived from predefined networks of nodes (regions of interests) for the salience (27 nodes, 351 connections) and cens (17 nodes, 136 connections).\\tMETHODS\\nafter treatments, a paired samples t-test (with 10,000 permutations to correct for multiple comparison) was used to evaluate changes in the intranetwork resting state functional connectivity within the salience and executive networks, as well as the overall network connectivity strength.\\tMETHODS\\nwhen comparing connectivity strength at baseline to that at the end of treatment in our cohort of 10 cm(w/moh) participants, there were several connections within the salience (n = 9) and executive (n = 8) networks that were significantly improved.\\tRESULTS\\nwithin the salience network, improved connectivity was observed between the prefrontal cortex and various regions of the insula, basal ganglia, motor, and frontal cortex.\\tRESULTS\\nadditionally, changes in connectivity were observed between regions of the temporal cortex with the basal ganglia and supramarginal gyrus.\\tRESULTS\\nwithin the cen, improved connectivity was observed between the prefrontal cortex and regions of the anterior thalamus, caudate, and frontal cortex.\\tRESULTS\\nafter treatment, the overall cen connectivity was significantly improved (baseline 0.00 +/- 0.08; 6 weeks 0.03 +/- 0.09, p = .01); however, the overall salience network connectivity was not significantly improved (baseline -0.01 +/- 0.10; 6 weeks 0.01 +/- 0.12, p = .26).\\tRESULTS\\nadditionally, after treatment, there was a significant reduction in the number of moderate/severe headache days per month (baseline 21.1 +/- 6.6; 6 weeks 11.2 +/- 6.5, p < .001), hit-6 (baseline 66.1 +/- 2.6; 6 weeks 60.2 +/- 3.6, p < .001), and phq-9 (baseline 12.4 +/- 5.7; 6 weeks 6.1 +/- 3.6, p = .008) scores.\\tRESULTS\\nin this longitudinal fmri study, we observed improved functional connectivity within both networks, primarily involving connectivity between regions of the prefrontal cortex and limbic (cortical-limbic) structures, and between different cortical (cortical-cortical) regions after a series of repetitive spg blockades.\\tCONCLUSIONS\\nthe overall cen strength was also improved.\\tCONCLUSIONS\\nour results suggest that recurrent parasympathetic inhibition via spg is associated with improved functional connectivity in brain regions critical to pain processing in cm(w/moh) .\\tCONCLUSIONS\\nthere is a need for valid approaches to measure sexual interactions to assess the impact of behavioural interventions and to predict the impact of behaviour changes.\\tBACKGROUND\\ndifferent methods of asking about sexual behaviour often yield conflicting answers and men often report higher levels of heterosexual activity than women.\\tBACKGROUND\\nto better understand self-reported sexual behaviour data and how best to collect it, we analyzed data collected as part of a larger project (st impacts) on the social and behavioural impact of introducing community-level hiv self-testing (hivst) with counseling (semi-supervised with pre- and generic post-test counseling provided on delivery or collection of test kits) in an urban malawian setting.\\tOBJECTIVE\\ninformation on sexual behaviour was collected from hiv self-testers over a three-month period.\\tMETHODS\\nthree different methods were used: retrospective face-to-face interviews (ftfi); audio computer assisted self-interviews (acasi) and a prospective coital diary.\\tMETHODS\\nboth retrospective instruments were used before and after the three-month study period.\\tMETHODS\\nfrequency and cross-tabulation, as well as scatterplots, were used for exploratory analyses.\\tMETHODS\\nchi-square tests were used to test for differences in proportions.\\tMETHODS\\nspearman\\'s correlation coefficient was used to explore associations between both continuous and ordinal variables and wilcoxon\\'s paired sample and mann-whitney test was used to test for differences in such variables or between variables.\\tMETHODS\\nthere was reasonable agreement between the two retrospective methods although both yielded inconsistent answers e.g. with lower reported numbers of life-time sexual partners at the end than at the beginning of the study period.\\tRESULTS\\nthe diary method elicited higher reported levels of sex with multiple partners than both retrospective instruments which may be due to inadequate recall.\\tRESULTS\\nover the study period 37.4% of men and 19.7% of women reported multiple sexual partners using the diary.\\tRESULTS\\nthere was no clear relationship between reported sexual behaviour and hiv status (prevalence 9.6%).\\tRESULTS\\ndiaries may therefore have higher validity for sensitive behaviour reporting and thus be the preferred method in similar african contexts in measuring sexual behaviours.\\tCONCLUSIONS\\ncommunity ecology involves studying the interdependence of species with each other and their environment to predict their geographical distribution and abundance.\\tBACKGROUND\\nmodern species distribution analyses characterise species-environment dependency well, but offer only crude approximations of species interdependency.\\tBACKGROUND\\ntypically, the dependency between focal species and other species is characterised using other species\\' point occurrences as spatial covariates to constrain the focal species\\' predicted range.\\tBACKGROUND\\nthis implicitly assumes that the strength of interdependency is homogeneous across space, which is not generally supported by analyses of species interactions.\\tBACKGROUND\\nthis discrepancy has an important bearing on the accuracy of inferences about habitat suitability for species.\\tBACKGROUND\\nwe introduce a framework that integrates principles from consumer-resource analyses, resource selection theory and species distribution modelling to enhance quantitative prediction of species geographical distributions.\\tMETHODS\\nwe show how to apply the framework using a case study of lynx and snowshoe hare interactions with each other and their environment.\\tMETHODS\\nthe analysis shows how the framework offers a spatially refined understanding of species distribution that is sensitive to nuances in biophysical attributes of the environment that determine the location and strength of species interactions.\\tCONCLUSIONS\\nconventional thermal processes have been very reliable in offering safe sterilized meat products, but some of those products are of questionable overall quality.\\tBACKGROUND\\nflavor, aroma, and texture, among other attributes, are significantly affected during such processes.\\tBACKGROUND\\nto improve those quality attributes, alternative approaches to sterilizing meat and meat products have been explored in the last few years.\\tBACKGROUND\\nmost of the new strategies for sterilizing meat products rely on using thermal approaches, but in a more efficient way than in conventional methods.\\tRESULTS\\nsome of these emerging technologies have proven to be reliable and have been formally approved by regulatory agencies such as the fda.\\tRESULTS\\nadditional work needs to be done in order for these technologies to be fully adopted by the food industry and to optimize their use.\\tRESULTS\\nsome of these emerging technologies for sterilizing meat include pressure assisted thermal sterilization (pats), microwaves, and advanced retorting.\\tRESULTS\\nthis review deals with fundamental and applied aspects of these new and very promising approaches to sterilization of meat products.\\tCONCLUSIONS\\nthe frequency of invasive fungal diseases (ifds) has increased in recent years.\\tBACKGROUND\\nwithin a context where both treatments and guidelines are fast evolving, we aim to shed new light on ifd management in hematologic departments in france.\\tOBJECTIVE\\na multicenter cross-sectional observational study was prospectively conducted in 24 french centers in september and october 2013.\\tMETHODS\\nfour hundred ninety-four hospitalized children and adult patients suffering from hematologic malignancy were enrolled: 147 (30%) were allogeneic hematopoietic stem cell transplant (hsct) recipients, 131 (27%) were patients with acute myeloblastic leukemia or myelodysplastic syndrome (mds), 71 (14%) were patients with acute lymphoblastic leukemia who did not undergo allogeneic hsct, and the 145 (29%) remaining patients did not belong to the three above groups.\\tRESULTS\\ntwo hundred forty-six patients (50%) received antifungal treatment, which was prophylactic in 187 (76%) treated patients.\\tRESULTS\\nthese rates were similar across all groups (63-80%).\\tRESULTS\\npatients received prophylaxis with an azole (79%), intravenous amphotericin b formulation (10%), echinocandin (9%), or two combination drugs (2%).\\tRESULTS\\nresults indicate that prophylaxis is the leading antifungal strategy in french hematology units, regardless of the disease condition, representing 76% of prescriptions for antifungal therapy.\\tCONCLUSIONS\\nastellas pharma france.\\tNONE\\nto assess the impact of bloodstream infection (bsi) in patients with head and neck cancer (hnc) in the cetuximab era.\\tOBJECTIVE\\nwe prospectively analysed the epidemiology, microbiology and outcomes of 51 bsi episodes occurring in 48 patients with hnc (2006-2017).\\tMETHODS\\nwe performed a retrospective matched-cohort study (1:2) to determine the risk factors for bsi.\\tMETHODS\\nfinally, we compared patients who died with those who survived to identify risk factors for mortality.\\tMETHODS\\nthe most frequent hnc localization was the oropharynx (43%), and pneumonia was the most frequent source (25%).\\tRESULTS\\ngram-positive bsi occurred in 55% cases, mainly due to streptococcus pneumoniae (21%), and among gram-negatives, escherichia coli, pseudomonas aeruginosa, and klebsiella pneumoniae were the most frequent.\\tRESULTS\\nhypoalbuminemia (or 8.4; 95% ci, 3.5-19.9), previous chemotherapy (or, 3.2; 95% ci, 1.3-7.4) and cetuximab therapy (or, 2.8; 95% ci, 1.6-6.7) were significant risk factors for bsi.\\tRESULTS\\npatients with bsi had a higher overall case-fatality rate than patients without bsi (or, 4.4; 95% ci, 1.7-11.8).\\tRESULTS\\nhypoalbuminemia was an independent risk factor for the early (7 day) and overall (30 day) case-fatalities, with ors of 0.8 (95% ci, 0.6-0.9) and 0.8 (95% ci, 0.7-0.97), respectively.\\tRESULTS\\nthe presence of comorbidities (or, 7; 95% ci, 1.4-34) was also an independent risk factor for overall case-fatality.\\tRESULTS\\nbsi causes high mortality in patients with hnc and is most often secondary to pneumonia.\\tCONCLUSIONS\\nit occurs mainly among patients with hypoalbuminemia who receive treatment with cetuximab or chemotherapy.\\tCONCLUSIONS\\nthe development of bsi in patients with hnc impairs their outcome, especially in the presence of hypoalbuminemia and comorbidities.\\tCONCLUSIONS\\nto compare and evaluate the reliability, validity, feasibility, clinical utility, and nurses\\' preference of the premature infant pain profile-revised, the neonatal pain, agitation, and sedation scale, and the neonatal infant acute pain assessment scale used for procedural pain in ventilated neonates.\\tOBJECTIVE\\nprocedural pain is a common phenomenon but is undermanaged and underassessed in hospitalised neonates.\\tBACKGROUND\\ninformation for clinician selecting pain measurements to improve neonatal care and outcomes is still limited.\\tBACKGROUND\\na prospective observational study was used.\\tMETHODS\\na total of 1,080 pain assessments were made at 90 neonates by two nurses independently, using three scales viewing three phases of videotaped painful (arterial blood sampling) and nonpainful procedures (diaper change).\\tMETHODS\\ninternal consistency, inter-rater reliability, discriminant validity, concurrent validity and convergent validity of scales were analysed.\\tMETHODS\\nfeasibility, clinical utility and nurses\\' preference of scales were also investigated.\\tMETHODS\\nall three scales showed excellent inter-rater coefficients (from 0.991-0.992) and good internal consistency (0.733 for the premature infant pain profile-revised, 0.837 for the neonatal pain, agitation, and sedation scale and 0.836 for the neonatal infant acute pain assessment scale, respectively).\\tRESULTS\\nscores of painful and nonpainful procedures on the three scales changed significantly across the phases.\\tRESULTS\\nthere was a strong correlation between the three scales with adequate limits of agreement.\\tRESULTS\\nthe mean scores of the neonatal pain, agitation, and sedation scale for feasibility and utility were significantly higher than those of the neonatal infant acute pain assessment scale, but not significantly higher than those of the premature infant pain profile-revised.\\tRESULTS\\nthe neonatal pain, agitation, and sedation scale was mostly preferred by 55.9% of the nurses, followed by the neonatal infant acute pain assessment scale (23.5%) and the premature infant pain profile-revised (20.6%).\\tRESULTS\\nthe three scales are all reliable and valid, but the neonatal pain, agitation, and sedation scale and the neonatal infant acute pain assessment scale perform better in reliability.\\tCONCLUSIONS\\nthe neonatal pain, agitation, and sedation scale appears to be a better choice for frontier nurses to assess procedural pain in ventilated neonates based on its good feasibility, utility and nurses\\' preference.\\tCONCLUSIONS\\nchoosing a valid, reliable, feasible and practical measurement is the key step for better management of procedural pain for ventilated newborns.\\tCONCLUSIONS\\nusing the right and suitable tool is helpful to accurately identify pain, ultimately improve the neonatal care and outcomes.\\tCONCLUSIONS\\nthe aim of this systematic review and meta-analysis was to determine the impact of lower urinary tract symptoms (luts) on work productivity in female workers.\\tOBJECTIVE\\na comprehensive literature search was conducted using eight electronic databases (medline, pedro, cinahl, cochrane library, embase, pubmed, scopus, and psycinfo) to identify articles published before july 2017 that studied the work productivity in female workers with luts.\\tMETHODS\\ntwo reviewers independently assessed the quality of studies using the joanna briggs institute.\\tMETHODS\\nmeta-analyses were performed on studies having measured work productivity between females with and without luts, and odds ratios (ors) or the mean differences were used.\\tMETHODS\\nfourteen articles (n = 48 223 females) were included in the review, and meta-analyses were performed with six of those articles.\\tRESULTS\\nlower urinary tract symptoms were significantly associated with work productivity loss (or = 1.11, 95%ci = 1.06-1.15), presenteeism (or = 1.10, 95%ci = 1.05-1.14), and activity impairment (or = 1.11, 95%ci = 1.09-1.14).\\tRESULTS\\nhowever, there was no significant difference in the probability of absenteeism between females with and without luts (or = 1.03, 95%ci = 0.94-1.13).\\tRESULTS\\nevidence suggests that female workers with luts had significantly greater work productivity impairment compared to those without luts.\\tCONCLUSIONS\\nstress increases the risk of developing and maintaining alcohol addiction.\\tBACKGROUND\\nmechanism for reacting to, and coping with, stress in persons with alcohol addiction are an important factor enabling them to maintain abstinence in everyday life.\\tBACKGROUND\\nalso of relevance for abstinence, and in particular craving for alcohol, is the severity of the dependence.\\tBACKGROUND\\nnumerous studies have focused on the duration of abstinence, but not on the severity of the disease.\\tBACKGROUND\\nthis study investigates if, in addition to abstinence duration, also the severity of the alcohol addiction influences stress responsiveness and ability to cope with stress.\\tOBJECTIVE\\nanother objective is to ascertain in which patients such an influence can be found.\\tOBJECTIVE\\nthe results can shed light on the complex bidirectional relationship between alcoholism and stress, but are also potentially useful in treating patients with this disease.\\tOBJECTIVE\\nin a cross-sectional design, 64 alcohol-dependent patients and 30 healthy controls were examined.\\tMETHODS\\nthe alcoholics sample was divided in two groups according to a duration of abstinence of seven days and, 70 days.\\tMETHODS\\neach group was further divided in a subgroup of individuals with mild to moderate alcohol addiction and in a subgroup of patients with severe alcohol addiction (a7-severe and a70-severe).\\tMETHODS\\nusing the trierer social stress test (tsst), all participants were subjected to acute stress.\\tMETHODS\\nparameters measured were salivary cortisol, skin conductance -response, heart rate, addiction-related variables (addiction severity, duration of alcohol abuse, drinking quantity, craving, liver enzymes, family history of alcoholism, number of therapies, smoking), psychopathological variables (anxiety, depression, live events, personality disorders), acute and long-term stress coping, and level of strain on everyday life.\\tMETHODS\\nin patients with severe addiction, the reaction to stress is weaker and slightly retarded, but also of a longer duration than that patients with mild and moderate addiction and of healthy controls.\\tRESULTS\\nthis is independent of the length of abstinence (7 days and 70 days).\\tRESULTS\\nin severely ill patients, strategies for coping with acute stress differed from those of the other groups in that they consisted in stronger flight and avoidance responses, a stronger need for social support, and a more intense mental preoccupation.\\tRESULTS\\nincreased levels of social tension, lack of social recognition, and isolation indicated chronic stress.\\tRESULTS\\npatients with severe alcohol addiction also showed a more pronounced familial predisposition, stronger craving, increased anxiety, a longer history of alcohol abuse, and a higher frequency of incisive life events than patients with mild to moderate alcohol addiction.\\tRESULTS\\nthe results indicate that a more differentiated evaluation of stress responsiveness and stress coping in persons with an alcohol addiction not only length of abstinence, but also severity of disease have to be taken into account.\\tCONCLUSIONS\\nfurther research is necessary to adjust treatment accordingly.\\tCONCLUSIONS\\nin gamma-aminobutyric acid type a (gaba(a)) receptors, the structural elements that couple ligand binding to channel opening remain poorly defined.\\tBACKGROUND\\nhere, site-directed mutagenesis was used to determine if loop 9 on the non-gaba binding site interface of the beta2-subunit may be involved in gaba(a) receptor activation.\\tOBJECTIVE\\nspecifically, residues gly(170)-gln(185) of the beta2-subunit were mutated to alanine, co-expressed with wild-type alpha1- and gamma2s-subunits in human embryonic kidney (hek) 293 cells and assayed for their activation by gaba, the intravenous anesthetic propofol and the endogenous neurosteroid pregnanolone using whole cell macroscopic recordings.\\tMETHODS\\nthree mutants, g170a, v175a, and g177a, produced 2.5-, 6.7-, and 5.6-fold increases in gaba ec(50) whereas one mutant, q185a, produced a 5.2-fold decrease in gaba ec(50).\\tRESULTS\\nnone of the mutations affected the ability of propofol or pregnanolone to potentiate a submaximal gaba response, but the q185a mutant exhibited 8.3- and 3.5-fold increases in the percent direct activation by propofol and pregnanolone, respectively.\\tRESULTS\\nmutant q185a receptors also had an increased leak current that was sensitive to picrotoxin, indicating an increased gating efficiency.\\tRESULTS\\nfurther q185e, q185l, and q185w substitutions revealed a strong correlation between the hydropathy of the amino acid at this position and the gaba ec(50).\\tRESULTS\\ntaken together, these results indicate that beta2 loop 9 is involved in receptor activation by gaba, propofol, and pregnanolone and that beta2(q185) participates in hydrophilic interactions that are important for stabilizing the closed state of the gaba(a) receptor.\\tCONCLUSIONS\\nlowering the likelihood of hospitalization in older adults is a major public health goal for modern health care systems.\\tBACKGROUND\\nemerging data suggest that financial literacy is an important determinant of health outcomes in old age, but the relationship with hospitalization has not been explored.\\tBACKGROUND\\nto test the hypothesis that better financial literacy is related to lower risk of hospitalization in older persons.\\tOBJECTIVE\\nprospective cohort study.\\tMETHODS\\ndata came from community-dwelling older adults (n=388) without dementia enrolled in the rush memory and aging project.\\tMETHODS\\nparticipants underwent detailed assessment of financial literacy and cognition.\\tMETHODS\\ndata on hospitalizations were obtained from linked medicare claims records (medpar file).\\tMETHODS\\nover an average of 1.8 years, 117 participants (30%) were hospitalized, and a third of those hospitalized experienced multiple hospitalizations.\\tRESULTS\\nin a modified poisson regression model adjusted for age, sex, education, and cognition, better financial literacy was associated with lower risk of hospitalization.\\tRESULTS\\nin a model further adjusted for income, physical activity, body mass index, smoking, social network size, chronic conditions, basic and instrumental activities of daily living disability, and depressive symptoms, the association was unchanged.\\tRESULTS\\nsecondary analyses showed the association was primarily driven by conceptual knowledge rather than numeracy.\\tRESULTS\\nhigher financial literacy is related to a lower risk of hospitalization in older persons without dementia, after adjusting for cognitive, health, functional, and socioeconomic factors.\\tCONCLUSIONS\\nthe ability to understand and utilize financial concepts may represent a potentially modifiable risk factor for hospitalization in later life.\\tCONCLUSIONS\\nwe report on a proteomic analysis of ex vivo human immunodeficiency virus (hiv) type 1 infection in human primary cd4 cells by shotgun liquid chromatography-tandem mass spectrometry analysis, revealing two distinct proteomic profiles at two phases of virus replication.\\tMETHODS\\nrelative to mock-infected cells, 168 signature proteins exhibited abundance changes at the first sign of gag p24 production (8 h postinfection [p.i.]) or the peak of virus replication (24 h p.i.); interestingly, most of the changes were exclusive to only one phase of virus replication.\\tRESULTS\\nbased on characterization by functional ontology and known human-hiv protein interactions, we observed the enrichment for protein abundance increases pertaining to protein synthesis and nucleasomal reorganization amid an otherwise placid cellular proteome at the first sign of hiv replication.\\tRESULTS\\nin contrast, we observed indications of decreased protein turnover, concomitant with heightened dna repair activities and preludes to apoptosis, in the presence of robust virus replication.\\tRESULTS\\nwe also observed hints of disruptions in protein and small molecule trafficking.\\tRESULTS\\nour label-free proteomic strategy allowed us to perform multiplexed comparisons-we buttressed our detection specificity with the use of a reverse transcriptase inhibitor as a counterscreen, enabling highlighting of cellular protein abundance changes unique to robust virus replication as opposed to viral entry.\\tRESULTS\\nin conjunction with complementary high-throughput screens for cellular partners of hiv, we put forth a model pinpointing specific rerouting of cellular biosynthetic, energetic, and trafficking pathways as hiv replication accelerates in human primary cd4 cells.\\tCONCLUSIONS\\nserine/threonine phosphatase regulation of phosphorylation-mediated intracellular signaling controls a number of important processes in mammalian cells.\\tBACKGROUND\\nin this study, we show that constitutively active protein phosphatase 2a (pp2a), which is a serine/threonine phosphatase, is essential for t leukemia cell survival.\\tOBJECTIVE\\njurkat and ccrf-cem t leukemia cells treated with the pp2a-selective inhibitor okadaic acid (oa) showed a dose- and time-dependent induction of apoptosis, as indicated by loss of mitochondrial transmembrane potential (delta psi(m)), cleavage-induced activation of caspase-3, -8, and -9, and dna fragmentation.\\tRESULTS\\nin addition, caspase-8 or caspase-9 inhibition with z-ietd-fmk or z-lehd-fmk, respectively, largely prevented oa-induced apoptosis.\\tRESULTS\\nalthough oa treatment did not affect constitutive bcl-2 expression, overexpression of bcl-2 prevented both oa-induced dna fragmentation and dissipation of delta psi(m).\\tRESULTS\\nfurthermore, inhibition of caspase-3, -8, or -9 partially protected against oa-induced loss of delta psi(m).\\tRESULTS\\nin addition, caspase-9 and caspase-3 inhibition largely prevented procaspase-3 and procaspase-8 cleavage, respectively, while caspase-8 inhibition partially interfered with procaspase-9 cleavage in oa-treated t leukemia cells.\\tRESULTS\\nthus, pp2a inhibition triggered the intrinsic pathway of apoptosis, which was enhanced by a mitochondrial feedback amplification loop.\\tRESULTS\\npp2a has also been implicated in the regulation of p38 mitogen-activated protein kinase (mapk).\\tRESULTS\\nco-immunoprecipitation analysis revealed a physical association between the catalytic subunit of pp2a and p38 mapk in t leukemia cells.\\tRESULTS\\nmoreover, oa treatment caused p38 mapk to be phosphorylated in a dose- and time-dependent fashion, indicating that pp2a prevented p38 mapk activation.\\tRESULTS\\nalthough p38 mapk activation usually promotes apoptosis, pharmacologic inhibition of p38 mapk exacerbated oa-induced dna fragmentation and loss of delta psi(m) in t leukemia cells, suggesting that, in this instance, the p38 mapk signaling pathway promoted cell survival.\\tRESULTS\\ncollectively, these findings indicate that pp2a and p38 mapk have coordinate effects on signaling pathways that regulate the survival of t leukemia cells.\\tCONCLUSIONS\\npressure ulcers (pus) in individuals with spinal cord injury (sci) present a persistent and costly problem.\\tBACKGROUND\\ncontinuing effort in developing new technologies that support self-managed care is an important prevention strategy.\\tBACKGROUND\\nspecifically, the aims of this scoping review are to review the key concepts and factors related to self-managed prevention of pus in individuals with sci and appraise the technologies available to assist patients in self-management of pu prevention practices.\\tOBJECTIVE\\nthere is broad consensus that sustaining long-term adherence to prevention regimens is a major concern.\\tRESULTS\\nrecent literature highlights the interactions between behavioral and physiological risk factors.\\tRESULTS\\nwe identify four technology categories that support self-management: computer-based educational technologies demonstrated improved short-term gains in knowledge (2 studies), interface pressure mapping technologies demonstrated improved adherence to pressure-relief schedules up to 3 mo (5 studies), electrical stimulation confirmed improvements in tissue tolerance after 8 wk of training (3 studies), and telemedicine programs demonstrated improvements in independence and reduced hospital visits over 6 mo (2 studies).\\tRESULTS\\noverall, self-management technologies demonstrated low-to-moderate effectiveness in addressing a subset of risk factors.\\tRESULTS\\nhowever, the effectiveness of technologies in preventing pus is limited due to a lack of incidence reporting.\\tRESULTS\\nin light of the key findings, we recommend developing integrated technologies that address multiple risk factors.\\tCONCLUSIONS\\ncyanoacrylates, also known as tissue adhesives or skin glues, are commonly used as sealants for lacerations and incisions and have found utility in excisional and cosmetic surgeries in both outpatient and operating room settings.\\tBACKGROUND\\nto review the surgical literature on the utilities, advantages, disadvantages, and special uses of cyanoacrylates applicable to dermatology.\\tOBJECTIVE\\npubmed was reviewed for relevant articles related to cyanoacrylates and their use in skin closures.\\tMETHODS\\narticles unrelated to cutaneous closures were excluded.\\tMETHODS\\ntissue adhesives polymerize to a water resistant, pliable film after application to approximated wound edges and have antibacterial properties.\\tRESULTS\\nadhesives slowly slough off as the wound heals, typically after 5 days.\\tRESULTS\\ncompared with 5-0 nonabsorbable suture, adhesives provide similar tensile strength and similar patient and surgeon satisfaction.\\tRESULTS\\nalthough slightly more expensive than sutures, tissue adhesives obviate the need for wound dressings and suture removal.\\tRESULTS\\nthey do not perform as well as sutures for wounds under higher tension or in the setting of moisture and inadequate hemostasis.\\tRESULTS\\ncyanoacrylates serve as a safe and effective suture alternative in appropriate dermatologic surgeries and procedures.\\tCONCLUSIONS\\npolycomb complexes function as enforcers of epigenetically repressed state, balanced by an antagonist state mediated by trithorax.\\tBACKGROUND\\nusing sensitive methods of sequence analysis, we show here that polycomb-like proteins (pcls) contain a tandem of intimately associated domains, which we named pwapa and which is also present in ash2l, a member of the trithorax group.\\tOBJECTIVE\\npolycomb-like proteins and ash2l belong to the pcr2 and mll histone methyltransferase complexes, respectively.\\tRESULTS\\na pwapa cassette is also present in atac2, a component of the atac histone acetyltransferase complex.\\tRESULTS\\nthe recently solved structure of the pwapa tandem of ash2l has revealed that it consist in a phd-like finger followed by a helix-winged-helix (wh) domain, able to bind dna.\\tRESULTS\\nthe modeling of the 3d structure of the different members of the pwapa family suggests that the phd-like finger might be able, at least for some proteins of the family, to bind methylated marks on histones.\\tRESULTS\\nthe pwapa phd/wh cassette might thus be involved in the combined recognition of dna and specific (perhaps methylation) mark(s) on histones, thereby allowing the recruitment of specific chromatin-modifying activities at these sites.\\tCONCLUSIONS\\nthe observations reported here should help to unravel the exact role played by the pwapa cassette in the different proteins of the pwapa family, and especially in the antagonistic activities of pcg and trxg proteins.\\tCONCLUSIONS\\nthe purpose of this study was to determine the prevalence of unroofed coronary sinus (cs) syndrome at a tertiary hospital and analyze the clinical information, cardiovascular ct angiography (ccta) imaging findings, associated anomalies, and surgical treatment of the identified cases.\\tOBJECTIVE\\nwe retrospectively searched the database of a tertiary hospital for cases of unroofed cs syndrome among patients who underwent ccta for known or suspected congenital heart disease.\\tMETHODS\\nafter the prevalence of unroofed cs syndrome was determined, ccta findings, associated cardiovascular abnormalities, presence or absence of airway compression, clinical information, and surgical outcome were recorded.\\tMETHODS\\na total of 23 patients with unroofed cs syndrome were identified, with the syndrome therefore having a prevalence of 0.36% among patients with congenital heart disease who underwent ccta.\\tRESULTS\\nthe diagnostic accuracy of ccta for unroofed cs syndrome was 100%, whereas that of echocardiography was 69%.\\tRESULTS\\ntype i unroofed cs syndrome was the most commonly noted type (52% of patients).\\tRESULTS\\nall 23 patients had associated cardiovascular anomalies, including persistent left superior vena cava (65% of patients) and atrial septal defect (65%).\\tRESULTS\\nsurgery was performed for 70% of patients because of cardiovascular anomalies.\\tRESULTS\\nseven patients (30%) had associated secondary airway compression but did not require surgical correction.\\tRESULTS\\nat our institution, the prevalence of unroofed cs syndrome was 0.36% among patients with congenital heart disease who underwent ccta.\\tCONCLUSIONS\\nccta has excellent diagnostic performance, delineating different subtypes of unroofed cs syndrome and associated cardiovascular planning for treatment of unroofed cs syndrome abnormalities, improving clinical decision making, and permitting preoperative planning for treatment of unroofed cs syndrome.\\tCONCLUSIONS\\norganization of the stromal compartments in secondary lymphoid tissue is a prerequisite for an efficient immune reaction.\\tBACKGROUND\\nin particular, follicular dendritic cells (fdc) are pivotal for the activation and differentiation of b cells.\\tBACKGROUND\\nto investigate the development of fdc, fdc together with tightly associated b cells (fdc networks) were micro-dissected from frozen tissue sections and follicular b cells were sorted by facs.\\tMETHODS\\nusing an in silico subtraction approach, gene expression of fdc was determined and compared with that of follicular stromal cells micro-dissected from the spleen of scid mice.\\tMETHODS\\nnearly 90% of the fdc genes were expressed in follicular stromal cells of the scid mouse, providing further evidence that fdc develop from the residual network of reticular cells.\\tRESULTS\\nthus, it suggests that rather minor modifications in the gene expression profile are sufficient for differentiation into mature fdc.\\tRESULTS\\nthe analysis of different immune-deficient mouse strains shows that a complex pattern of gene regulation controls the development of residual stromal cells into mature fdc.\\tCONCLUSIONS\\nthe in silico subtraction approach provides a molecular framework within which to determine the diverse roles of fdc in support of b cells and to investigate the differentiation of fdc from their mesenchymal precursor cells.\\tCONCLUSIONS\\nclonorchis sinensis causes the important food-borne zoonosis, clonorchiasis, which is endemic in east asia, especially in china mainly in guangdong, guangxi and heilongjiang provinces and korea.\\tBACKGROUND\\nalthough comparisons on isoenzymes and some molecular profiles of c. sinensis collected from different parts of china and korea have been studied, few works on the genetic variation among the individuals from different regions of china has been reported.\\tBACKGROUND\\nin the present study, individual adults of c. sinensis were collected from cats in two geographic locations (guangdong province in the south and heilongjiang province in the north) of china and 44 of them were examined by using random amplified polymorphic dna (rapd)-pcr and mobile genetic elements (mges)-pcr techniques to assess the individual genetic variability within and between the two groups of this parasite.\\tMETHODS\\nsix arbitrary primers and two pairs of mge primers were employed in the genomic dna amplification.\\tMETHODS\\nthe molecular patterns showed significant polymorphism among the individuals.\\tRESULTS\\nthe rapd data displayed that the similarity coefficient (sc) of the individuals within heilongjiang group was much higher than that of the guangdong group, which was further confirmed by mge-pcr results.\\tRESULTS\\nindividuals from heilongjiang were found genetically closer with lesser polymorphisms than those collected from guangdong province.\\tRESULTS\\nthese results demonstrated that rapd and mge-pcr techniques, particularly rapd method, could be useful for investigating genetic variations among c. sinensis individuals.\\tCONCLUSIONS\\nthey may also indicate that the genetic variation of c. sinensis occurs in the subtropical region--guangdong--faster than that in the cold-region--heilongjiang province--due to more generations (life cycle) occurred.\\tCONCLUSIONS\\nbody image dissatisfaction has been linked to belonging to the gay community and poor self-esteem among gay men.\\tBACKGROUND\\nthis study was designed to explore the applicability of a moderation model and a mediation model in explaining the relations between sense of belonging to the gay community, body image dissatisfaction and self-esteem among 90 self-identified australian gay men.\\tOBJECTIVE\\nparticipants completed the psychological subscale of the sense of belonging instrument, the body satisfaction scale, and the rosenberg self-esteem scale.\\tMETHODS\\nresults supported the moderation model; the relation between body image dissatisfaction and self-esteem was found to be statistically significant only at average and high levels of belonging to the gay community.\\tRESULTS\\nthe mediation model was also supported; body image dissatisfaction partially mediated the sense of belonging-self-esteem relation.\\tRESULTS\\neducating gay men and health professionals about the possible negative outcomes of \"belonging\" to an appearance-oriented community is important.\\tCONCLUSIONS\\nficus carica fruit, a source of bioactive functional ingredients, have been traditionally long time used for its medicinal benefits as they improve the digestive system, treating constipation and used as a natural laxative.\\tBACKGROUND\\nthe recent study was investigated the ameliorative effect of ficus carica l. aqueous extract (fcae) on delayed gastric emptying and ulcerative colitis-improved motility disturbances in dextran sulfate sodium (dss)-induced acute colitis in rats.\\tOBJECTIVE\\nwistar rats were assigned randomly and received 5% dss for seven days.\\tMETHODS\\nulcerative colitis diagnosis was confirmed by clinical signs, visible fecal blood and histopatological evaluation.\\tMETHODS\\nthe estimation of the action of colitis on tgi and constipation as well as the protective effect of extract, the intestinal biochemical and physiological parameters were measured using the charcoal meal test, loperamide (lop)-induced constipation as well as spectrophotometric assays.\\tMETHODS\\nfcae (150 and 300mgkg(-1)) was administered orally once per day for seven days 1h after the loperamide treatment.\\tMETHODS\\nphenol-red colorimetric method was used to explore the action of fcae on gastric emptying process.\\tMETHODS\\nulcerative colitis caused a significantly gastrointestinal motility inhibition in normal rats and notably aggravated the constipation in lop group.\\tRESULTS\\noppositely, fcae oral intake significantly increased levels of the gastrointestinal transit ratio and gastric emptying by accelerating of their times.\\tRESULTS\\nmoreover, constipation severity induced by colitis was remarkably reduced in the fcae treatment group, as demonstrated by a marked management of fecal parameters, water content, oxidative stress indicators, lipid metabolism, and intracellular mediators.\\tRESULTS\\nphytochemical analysis of fcae revealed the presence of carbohydrates, polysaccharides, phenolic acids as gallic acid, chlorogenic acid, syringic acid and ellagic acid, and flavonoids (e.g. rutin, catechin, epicatechin and apeginine).\\tRESULTS\\nthe obtained results indicated that fcae exhibits a natural laxative effect without provoking diarrhea and ameliorates functional gastrointestinal (gi) and motility disorders thus justifying its traditional usage.\\tCONCLUSIONS\\nfragile, dilated moyamoya vessels are the main source of hemorrhagic stroke in moyamoya disease (mmd).\\tBACKGROUND\\nhowever, the prevalence of hemorrhagic stroke largely differs between asian and western countries, although the underlying pathophysiology has not been clarified.\\tBACKGROUND\\nto systematically analyze the difference of collateral angioarchitectures between japanese and european caucasians with mmd.\\tOBJECTIVE\\nthis study included 71 patients with mmd, including japanese (n = 41) and european caucasians (n = 30).\\tMETHODS\\nusing preoperative cerebral angiography, the developments of lenticulostriate artery (lsa), anterior choroidal artery (achoa), posterior communicating artery (pcoma), and posterior choroidal artery (pchoa) were precisely evaluated, and ethic difference was analyzed in terms of patients\\' age and the onset type.\\tMETHODS\\ncerebral angiography demonstrated that the marked dilatation of achoa and pchoa were significantly more remarkable in japanese than in european caucasians (p = .004 and p = .002, respectively).\\tRESULTS\\nageing advanced the dilatation and extension of pchoa and pcoma, and diminished the development of lsa in japanese patients (p < .001, p = .03, and p = .03, respectively).\\tRESULTS\\neuropean caucasian patients did not have the specific dilated pattern like japanese patients.\\tRESULTS\\nthe marked dilatation of pchoa and pcoma is considered a powerful predictive marker of hemorrhage in mmd.\\tCONCLUSIONS\\ncollateral channels spontaneously shift from the anterior to posterior circulation in japanese patients during ageing but not in european caucasian patients.\\tCONCLUSIONS\\nthese different dilation patterns of the collateral pathway may be associated with an ethnic difference of the clinical onset type in mmd.\\tCONCLUSIONS\\ncongenital bone marrow failure syndromes (cbmfs) are extremely uncommon diseases that can present in the neonate.\\tBACKGROUND\\nthe objective of this article is to review the presentation, diagnosis, pathophysiology, and management of cbmfs in relation to neonatology.\\tOBJECTIVE\\ncbmfs should be considered when a single or multiple blood cell lineages are low secondary to failure of production.\\tRESULTS\\ndiagnosis in the neonatal period requires a high index of suspicion.\\tRESULTS\\nin this particular age group, cbmfs should be considered when the neonate has a family history of cbmfs, is small for gestational age, or has other physical abnormalities.\\tRESULTS\\nhistory and physical examination can lead to the diagnosis.\\tRESULTS\\ncbmfs are often associated with a predisposition to cancer later in life.\\tRESULTS\\nresearch suggests that reduced retail alcohol outlet density may be associated with lower prevalence of hiv and other sexually transmitted infections (stis).\\tBACKGROUND\\non-premise sale of alcohol for immediate consumption is theorized as increasing social interactions that can lead to sexual encounters.\\tBACKGROUND\\nwe examined associations between on- and off-premise retail alcohol sales licenses and number of newly diagnosed hiv and sti cases in texas counties.\\tOBJECTIVE\\nretail alcohol sales license data were obtained from the texas alcoholic beverage commission.\\tMETHODS\\nhiv and bacterial sti data were obtained from the texas department of state health services.\\tMETHODS\\nassociations between retail alcohol sales licenses and stis were estimated using spatial linear models and poisson mixed effects models for over-dispersed count data.\\tMETHODS\\nadjusting for county-specific confounders, there was no evidence of residual spatial correlation.\\tRESULTS\\nin poisson models, each additional on-premise (e.g., bar and restaurant) alcohol license per 10,000 population in a county was associated with a 1.5% increase (95% ci: 0.4%, 2.6%) in the rate of hiv and a 2.4% increase (95% ci: 1.9%, 3.0%) in the rate of bacterial stis, adjusting for potential confounders.\\tRESULTS\\nin contrast, number of off-premise licenses (e.g., take-out stores) was inversely associated with the incidence of sti and hiv, although the association with hiv was not statistically significant.\\tRESULTS\\nthis study adds to the limited literature on the association between retail alcohol availability and stis.\\tCONCLUSIONS\\nadditional research is needed on the role of alcohol availability (and policies affecting availability) in the spread of hiv and other stis.\\tCONCLUSIONS\\nacute kidney injury (aki) is common in neonates admitted to the neonatal intensive care unit (nicu).\\tBACKGROUND\\naki is associated with increased morbidity and mortality and a greater long-term risk of chronic kidney disease.\\tBACKGROUND\\nto study the incidence and outcome of neonatal aki in a single saudi arabian center, level 2\\\\3 nicu.\\tOBJECTIVE\\nthis single-center prospective cohort study included all infants who received level ii or iii nicu care during 2015 (january to december).\\tMETHODS\\nwe excluded infants who survived less than 48 h after admission, had evidence of congenital renal anomalies, or had insufficient data.\\tMETHODS\\naki was defined according to the kidney disease: improving global outcomes (kdigo) criteria.\\tMETHODS\\nboth aki and non-aki neonates were prospectively followed up until nicu discharge.\\tMETHODS\\noutcomes studied included mortality and length of nicu stay.\\tMETHODS\\nthe results of adjusted risk analyses were expressed as relative risk (rr) with 95% confidence interval (95% ci).\\tMETHODS\\nthe incidence of aki (modified neonatal kdigo stages) was 56% (120/214 patients).\\tRESULTS\\ncompared with neonates without aki, those with aki had a lower birth weight (2202 +/- 816 vs. 1570 +/- 776 g; p < 0.001) and a lower gestational age (35 +/- 3 vs. 32 +/- 4 weeks; p < 0.001).\\tRESULTS\\nafter adjustment for potential confounders, only gestational age (rr, 4.8; 95% ci, 3-9) and perinatal depression (rr, 10; 95% ci, 2-46) were significantly associated with an increased risk of aki.\\tRESULTS\\nfor infants with gestational age < 32 weeks, only the clinical risk index for babies (crib ii) score was associated with an increased risk of aki (rr, 1.9; 95% ci, 1-3).\\tRESULTS\\nafter adjustment for gestational age, aki was significantly associated with mortality (rr, 5.4; 95% ci, 2-14), but not with the length of hospital stay (los) (p = 0.133).\\tRESULTS\\nhowever, the aki group had a significantly longer los (mean difference: 14 days; 95% ci, 5.5-23 days), and 33 patients (27.5%) with aki were discharged with abnormally high serum creatinine levels (> 65 mumol/l).\\tRESULTS\\naki occurred in more than half of all nicu admissions, was associated with an increased risk of mortality, and had a higher incidence among smaller and sicker infants.\\tCONCLUSIONS\\ntherefore, close monitoring of renal function during hospitalization and after discharge is warranted in such infants.\\tCONCLUSIONS\\na 2000 mm long saturated laboratory soil column was used to simulate soil aquifer treatment under saturated conditions to assess the removal of chemical and biochemical oxygen demand (cod and bod), dissolved organic carbon (doc), nitrogen and phosphate, using high strength artificial wastewater.\\tMETHODS\\nthe removal rates were determined under a combination of constant hydraulic loading rates (hlr) and variable cod concentrations as well as variable hlr under a constant cod.\\tMETHODS\\nwithin the range of cod concentrations considered (42 mg l-1-135 mg l-1) it was found that at fixed hydraulic loading rate, a decrease in the influent concentrations of dissolved organic carbon (doc), biochemical oxygen demand (bod), total nitrogen and phosphate improved their removal efficiencies.\\tRESULTS\\nat the high cod concentrations applied residence times influenced the redox conditions in the soil column.\\tRESULTS\\nlong residence times were detrimental to the removal process for cod, bod and doc as anoxic processes and sulphate reduction played an important role as electron acceptors.\\tRESULTS\\nit was found that total cod mass loading within the range of 911 mg d-1-1780 mg d-1 applied as low cod wastewater infiltrated coupled with short residence times would provide better effluent quality than the same mass applied as a cod with higher concentration at long residence times.\\tRESULTS\\nthe opposite was true for organic nitrogen where relatively high concentrations coupled with long residence time gave better removal efficiency.\\tRESULTS\\nglucose biosensors are key components of closed-loop glycaemic control (insulin delivery) systems for effective management of diabetes.\\tBACKGROUND\\nby providing a fast return of the analytical information in a timely fashion, such sensors offer direct and reliable assessment of rapid changes in the glucose level, as desired for making optimal and timely therapeutic interventions in cases of hypo- and hyperglycemia.\\tBACKGROUND\\nthe majority of sensors used for continuous glucose monitoring are amperometric enzyme electrodes.\\tBACKGROUND\\nthe successful realization of closed-loop glycaemic control requires innovative approaches for addressing major challenges of biofouling, inflammatory response, calibration, stability, selectivity, power, miniaturization, common to other remote sensor systems.\\tBACKGROUND\\nthe goal of this review article is to demonstrate how these challenges are being addressed towards achieving reliable continuous subcutaneous monitoring of glucose.\\tOBJECTIVE\\nwhile the concept is presented here in connection to the management of diabetes, such loop-based individualized integrated (sensing/release) medical systems should lead to a fine-tune drug therapy and should have an enormous impact upon the treatment and management of different diseases.\\tCONCLUSIONS\\nasthma is a chronic respiratory condition that affects over 300 million adults and children worldwide.\\tBACKGROUND\\nit is characterised by wheeze, cough, chest tightness, and shortness of breath.\\tBACKGROUND\\nsymptoms typically are intermittent and may worsen over a short time, leading to an exacerbation.\\tBACKGROUND\\nasthma exacerbations can be serious, leading to hospitalisation or even death in rare cases.\\tBACKGROUND\\nexacerbations may be treated by increasing an individual\\'s usual medication and providing additional medication, such as oral steroids.\\tBACKGROUND\\nalthough antibiotics are sometimes included in the treatment regimen, bacterial infections are thought to be responsible for only a minority of exacerbations, and current guidance states that antibiotics should be reserved for cases in which clear signs, symptoms, or laboratory test results are suggestive of bacterial infection.\\tBACKGROUND\\nto determine the efficacy and safety of antibiotics in the treatment of asthma exacerbations.\\tOBJECTIVE\\nwe searched the cochrane airways trials register, which contains records compiled from multiple electronic and handsearched resources.\\tMETHODS\\nwe also searched trial registries and reference lists of primary studies.\\tMETHODS\\nwe conducted the most recent search in october 2017.\\tMETHODS\\nwe included studies comparing antibiotic therapy for asthma exacerbations in adults or children versus placebo or usual care not involving an antibiotic.\\tMETHODS\\nwe allowed studies including any type of antibiotic, any dose, and any duration, providing the aim was to treat the exacerbation.\\tMETHODS\\nwe included parallel studies of any duration conducted in any setting and planned to include cluster trials.\\tMETHODS\\nwe excluded cross-over trials.\\tMETHODS\\nwe included studies reported as full-text articles, those published as abstracts only, and unpublished data.\\tMETHODS\\nat least two review authors screened the search results for eligible studies.\\tMETHODS\\nwe extracted outcome data, assessed risk of bias in duplicate, and resolved discrepancies by involving another review author.\\tMETHODS\\nwe analysed dichotomous data as odds ratios (ors) or risk differences (rds), and continuous data as mean differences (mds), all with a fixed-effect model.\\tMETHODS\\nwe described skewed data narratively.\\tMETHODS\\nwe graded the results and presented evidence in \\'summary of findings\\' tables for each comparison.\\tMETHODS\\nprimary outcomes were intensive care unit/high dependence unit (icu/hdu) admission, duration of symptoms/exacerbations, and all adverse events.\\tMETHODS\\nseconday outcomes were mortality, length of hospital admission, relapse after index presentation, and peak expiratory flow rate (pefr).\\tMETHODS\\nsix studies met our inclusion criteria and included a total of 681 adults and children with exacerbations of asthma.\\tRESULTS\\nmean age in the three studies in adults ranged from 36.2 to 41.2 years.\\tRESULTS\\nthe three studies in children applied varied inclusion criteria, ranging from one to 18 years of age.\\tRESULTS\\nfive studies explicitly excluded participants with obvious signs and symptoms of bacterial infection (i.e. those clearly meeting current guidance to receive antibiotics).\\tRESULTS\\nfour studies investigated macrolide antibiotics, and two studies investigated penicillin (amoxicillin and ampicillin) antibiotics; both studies using penicillin were conducted over 35 years ago.\\tRESULTS\\nfive studies compared antibiotics versus placebo, and one was open-label.\\tRESULTS\\nstudy follow-up ranged from one to twelve weeks.\\tRESULTS\\ntrials were of varied methodological quality, and we were able to perform only limited meta-analysis.\\tRESULTS\\nnone of the included trials reported icu/hdu admission, although one participant in the placebo group of a study including children with status asthmaticus experienced a respiratory arrest and was ventilated.\\tRESULTS\\nfour studies reported asthma symptoms, but we were able to combine results for only two macrolide studies of 416 participants; the md in diary card symptom score was -0.34 (95% confidence interval (ci) -0.60 to -0.08), with lower scores (on a 7 point scale) denoting improved symptoms.\\tRESULTS\\ntwo macrolide studies reported symptom-free days.\\tRESULTS\\none study of 255 adults authors reported the percentage of symptom-free days at 10 days as 16% in the antibiotic group and 8% in the placebo group.\\tRESULTS\\nin a further study of 40 children study authors reported significantly more symptom-free days at all time points in the antibiotic group compared with the usual care group.\\tRESULTS\\nthe same study reported the duration in days of the index asthma exacerbation, again favouring the antibiotic group.\\tRESULTS\\none study of a penicillin including 69 participants reported asthma symptoms at hospital discharge; the between-group difference for both studies was reported as non-significant.we combined data for serious adverse events from three studies involving 502 participants, but events were rare; the three trials reported only 10 events: five in the antibiotic group and five in the placebo group.\\tRESULTS\\nwe combined data for all adverse events (aes) from three studies, but the effect estimate is imprecise (or 0.99, 95% ci 0.69 to 1.43).\\tRESULTS\\nno deaths were reported in any of the included studies.two studies investigating penicillins reported admission duration; neither study reported a between-group difference.\\tRESULTS\\nin one study (263 participants) of macrolides, two participants in each arm were reported as experiencing a relapse, defined as a further exacerbation, by the six-week time points.\\tRESULTS\\nwe combined pefr endpoint results at 10 days for two macrolide studies; the result favoured antibiotics over placebo (md 23.42 l/min, 95% ci 5.23 to 41.60).\\tRESULTS\\none study in children reported the maximum peak flow recorded during the follow-up period, favouring the clarithromycin group, but the confidence interval includes no difference (md 38.80, 95% ci -11.19 to 88.79).\\tRESULTS\\ngrading of outcomes ranged from moderate to very low quality, with quality of outcomes downgraded for suspicion of publication bias, indirectness, imprecision, and poor methodological quality of studies.\\tRESULTS\\nwe found limited evidence that antibiotics given at the time of an asthma exacerbation may improve symptoms and pefr at follow-up compared with standard care or placebo.\\tCONCLUSIONS\\nhowever, findings were inconsistent across the six heterogeneous studies included, two of the studies were conducted over 30 years ago and most of the participants included in this review were recruited from emergency departments, limiting the applicability of findings to this population.\\tCONCLUSIONS\\ntherefore we have limited confidence in the results.\\tCONCLUSIONS\\nwe found insufficient evidence about several patient-important outcomes (e.g. hospital admission) to form conclusions.\\tCONCLUSIONS\\nwe were unable to rule out a difference between groups in terms of all adverse events, but serious adverse events were rare.\\tCONCLUSIONS\\nreptiles have proven to have a versatile and efficient nonspecific immune system adapted to the environments in which they commonly live.\\tBACKGROUND\\nphospholipase a(2) (pla(2)) is important hydrolytic enzyme involved in the regulation of specific types of messengers, with significant roles in the innate immune response.\\tBACKGROUND\\na number of agents that exert effects on cellular receptors emit a series of signals leading to the increased activity of pla(2).\\tBACKGROUND\\nphospholipase a(2) has been identified and characterized in temperature, plasma concentration, and kinetic dependence in two species of caiman.\\tRESULTS\\nthe results of these studies suggest that the high pla(2) activities observed in caiman plasma may be an important component of a well-developed innate immunity.\\tCONCLUSIONS\\nbased on the knowledge of their properties, this powerful immunologic component should be evaluated as a possible application in the veterinary or even human therapeutic industry.\\tCONCLUSIONS\\nadditionally, this is another reason to consider these animals excellent models for the study of immune phylogenetic mechanisms.\\tCONCLUSIONS\\ncurrent level of asthma control can be easily assessed by validated instruments, but it is currently difficult to assess individuals\\' level of future risk.\\tBACKGROUND\\ndevelop, and validate, a risk prediction score for level of future risk, including patient characteristics and information on early treatment response.\\tOBJECTIVE\\nwe used data of 304 adult patients with asthma from a 12-month primary care randomized controlled trial with 3-monthly assessments.\\tMETHODS\\nwith logistic regression we modeled the association between the level of future risk and patient characteristics including early treatment response.\\tMETHODS\\nfuture risk was defined as asthma control questionnaire (acq) score of 1.5 or more at 12 months or the experience of at least 1 exacerbation during the final 6 months.\\tMETHODS\\nwe developed a risk prediction score on the basis of regression coefficients.\\tMETHODS\\nperformance of the risk prediction score improved, taking into account data on early treatment response (area under receiver-operating curve [auroc] = 0.84) compared with a model containing only baseline characteristics (auroc = 0.78).\\tRESULTS\\nthe score includes 6 easy-to-obtain predictors: sex, acq score and exacerbations in the previous year at baseline and at first follow-up, and smoking status and exacerbations in the previous 3 months (indicating early treatment response).\\tRESULTS\\nexternal validation yielded an auroc of 0.77.\\tRESULTS\\nthe risk prediction score classified patients into 3 risk groups: low (absolute risk, 11.7%), intermediate (47.0%), and high (72.7%).\\tRESULTS\\nwe developed and externally validated a risk prediction score, quantifying both level of current asthma control and the guideline-defined future risk.\\tCONCLUSIONS\\npatients\\' individual risk can now be estimated in an easy way, as proposed but not specified, by asthma management guidelines.\\tCONCLUSIONS\\nthe aetiology of infantile colic remains unknown.\\tBACKGROUND\\nhowever, altered gut microbiota composition has been reported in children with the disorder.\\tBACKGROUND\\nthe objective of this study was to determine the associations between perinatal factors potentially affecting gut colonization and infantile colic.\\tOBJECTIVE\\naltogether 48 infants with colic and 29 controls were selected from 2 ongoing clinical studies.\\tMETHODS\\ninfants with and without colic were comparable with regard to their background characteristics.\\tMETHODS\\na significant difference was detected in intrapartum antibiotic use and breastfeeding rates between infants with and without colic.\\tRESULTS\\nthe association between exposure to intrapartum antibiotics and infantile colic remained statistically significant after adjusting for potential confounding factors.\\tRESULTS\\nsince intrapartum antibiotic exposure may have an effect on early gut colonization, our finding is consistent with the association between aberrant early gut microbiota composition and development of colic.\\tCONCLUSIONS\\nantibiotic-exposed neonates may represent a novel target group for preventive intervention studies.\\tCONCLUSIONS\\nphotodynamic molecules represent an alternative approach for cancer therapy for their property (i) to be photo-reactive; (ii) to be not-toxic for target cells in absence of light; (iii) to accumulate specifically into tumour tissues; (iv) to be activable by a light beam only at the tumour site and (v) to exert cytotoxic activity against tumour cells.\\tBACKGROUND\\nhowever, to date their clinical use is limited by the side effects elicited by systemic administration.\\tBACKGROUND\\nextracellular vesicles are endogenous nanosized-carriers that have been recently introduced as a natural delivery system for therapeutic molecules.\\tBACKGROUND\\nwe have recently shown the ability of human exosomes to deliver photodynamic molecules.\\tBACKGROUND\\ntherefore, this review focussed on extracellular vesicles as a novel strategy for the delivery of photodynamic molecules at cancer sites.\\tOBJECTIVE\\nthis completely new approach may enhance the delivery and decrease the toxicity of photodynamic molecules, therefore, represent the future for photodynamic therapy for cancer treatment.\\tCONCLUSIONS\\nweight loss from exercise is often less than expected.\\tBACKGROUND\\nputative compensatory mechanisms may limit exercise-induced reductions in body fat and might be proportional to exercise energy expenditure.\\tBACKGROUND\\nto determine compensation (difference between accumulated exercise energy expenditure and changes in body tissue energy stores) and compensatory responses to 1500 or 3000 kcal/week of exercise energy expenditure.\\tOBJECTIVE\\noverweight to obese (n=36) sedentary men and women were randomized to groups expending 300 or 600 kcal/exercise session, 5 days/week, for 12 weeks.\\tMETHODS\\n14 participants in the 300 kcal group and 15 in the 600 kcal group completed the study.\\tMETHODS\\nthe primary outcome was energy compensation assessed through changes in body tissue energy stores.\\tMETHODS\\nsecondary outcomes were putative compensatory responses of resting metabolic rate (rmr), food reinforcement, dietary intake, and serum acylated ghrelin and glucagon-like peptide-1 (glp-1).\\tMETHODS\\nall measures were determined pre- and post-training.\\tMETHODS\\nthe 3000 kcal/week group decreased (<0.01) percentage and kg body fat while the 1500 kcal/week group did not.\\tRESULTS\\nthe 1500 and 3000 kcal/week groups compensated 943 (-164 to 2050) and 1007 (32 to 1982) kcal/week (mean, 95% ci, p>0.93), or 62.9% and 33.6% of exercise energy expenditure, respectively.\\tRESULTS\\nrmr and energy intake did not change.\\tRESULTS\\nfood reinforcement and glp-1 decreased (p<0.02), while acylated ghrelin increased (p<0.02).\\tRESULTS\\ncompensation is not proportional to exercise energy expenditure.\\tCONCLUSIONS\\nsimilar energy compensation occurred in response to1500 kcal/week and 3000 kcal/week of exercise energy expenditure.\\tCONCLUSIONS\\nexercise energy expenditure of 3000 kcal/week is great enough to exceed compensatory responses and reduce fat mass.\\tCONCLUSIONS\\nammonia conductance is highly regulated.\\tBACKGROUND\\na p(ii) signal transduction protein, glnk, is the final regulator of transmembrane ammonia conductance by the ammonia channel amtb in escherichia coli.\\tBACKGROUND\\nthe complex formed between amtb and inhibitory glnk at 1.96-a resolution shows that the trimeric channel is blocked directly by glnk and how, in response to intracellular nitrogen status, the ability of glnk to block the channel is regulated by uridylylation/deuridylylation at y51.\\tRESULTS\\natp and mg(2+) augment the interaction of glnk.\\tRESULTS\\nthe hydrolyzed product, adenosine 5\\'-diphosphate orients the surface of glnk for amtb blockade.\\tRESULTS\\n2-oxoglutarate diminishes amtb/glnk association, and sites for 2-oxoglutarate are evaluated.\\tRESULTS\\neach year, 5% to 8% of iranian newborns require care in a neonatal unit (nu).\\tBACKGROUND\\nreasons for admission include prematurity, infection, and congenital anomalies.\\tBACKGROUND\\nlittle research has been conducted on the culture of iranian nus and the impact this has on mothers\\' emotional caregiving experiences.\\tBACKGROUND\\nto explore the emotional caregiving experiences of mothers in an iranian nu.\\tOBJECTIVE\\nfocused ethnography was used for this study.\\tMETHODS\\nmothers (n = 19) of term and preterm infants participated.\\tMETHODS\\ndata were collected using observations and interviews.\\tMETHODS\\nroper and shapira\\'s 5-step framework was used to analyze the data.\\tMETHODS\\nfour major themes emerged: (a) fear, (b) loneliness, (c) competence, and (d) pleasure.\\tRESULTS\\nfear occurred when mothers felt unprepared to care for their infants.\\tRESULTS\\nthey were afraid of harming their infant or repeating previous mistakes.\\tRESULTS\\nloneliness consisted of bearing the burden of care while feeling alone.\\tRESULTS\\ncompetence occurred when the mothers experienced an increasing ability to provide care for their infants and a growing self-confidence.\\tRESULTS\\nfinally, the mothers described pleasure as they began to feel worthiness as mothers and intense love for their infants.\\tRESULTS\\nthe sense of fear and loneliness shared by these mothers has significant implications for practice.\\tCONCLUSIONS\\nwhile it may be a challenge for nurses to provide adequate support for mothers due to the heavy workload of iranian nus, close relatives and other support persons may play a key role.\\tCONCLUSIONS\\nfuture research should be conducted on the impact of maternal support on mothers\\' nu experiences in iran.\\tCONCLUSIONS\\nto search out novel biomarkers for monitoring diabetes prognosis, we examined the effect of hypoglycemic fungal exopolysaccharides (eps) on the differential levels of plasma proteins in streptozotocin-induced diabetic rats.\\tOBJECTIVE\\nthe orally administrated eps exhibited an excellent hypoglycemic effect, lowering the average plasma glucose level, and increasing insulin secretion in diabetic rats.\\tRESULTS\\nthe 2-de analysis of rat plasma demonstrated that about 500 visualized spots were differentially regulated, of which 20 spots were identified as principal diabetes-associated proteins.\\tRESULTS\\nthe distinct effect of diabetes induction on the pattern of rat plasma proteins includes the down-regulation of albumin, apolipoprotein e (apo e), alpha1-inhibitor-3, fetuin beta, gc-globulin, hemopexin, vitronectin, and transthyretin (ttr) monomer, and the up-regulation of apo a-i, apo a-iv, ceruloplasmin, alpha1-antitrypsin, serine protease inhibitor iii, and transferrin.\\tRESULTS\\nthose protein levels were interestingly restored to those of healthy rats by eps treatment, although the order of magnitude of the changes differed widely.\\tRESULTS\\ntwo proteins of interest showed distinct differential expression with opposite trends: ttr tetramer was significantly down-regulated and immunoglobulin (ig) kappa light chain was significantly up-regulated upon diabetes induction, both of which were also normalized to those of healthy groups after eps treatment.\\tRESULTS\\ntrimethylamine n-oxide (tmao) is a small organic compound whose concentration in blood increases after ingesting dietary l-carnitine and phosphatidylcholine.\\tBACKGROUND\\nrecent clinical studies show a positive correlation between elevated plasma levels of tmao and an increased risk for major adverse cardiovascular events defined as death, myocardial infarction, or stroke.\\tBACKGROUND\\nseveral experimental studies suggest a possible contribution of tmao to the etiology of cardiovascular diseases by affecting lipid and hormonal homeostasis.\\tBACKGROUND\\non the other hand, tmao-rich seafood, which is an important source of protein and vitamins in the mediterranean diet, has been considered beneficial for the circulatory system.\\tBACKGROUND\\nalthough in humans tmao is known mainly as a waste product of choline metabolism, a number of studies suggest an involvement of tmao in important biological functions in numerous organisms, ranging from bacteria to mammals.\\tBACKGROUND\\nfor example, cells use tmao to maintain cell volume under conditions of osmotic and hydrostatic pressure stresses.\\tBACKGROUND\\nin this article, we reviewed well-established chemical and biological properties of tmao and dietary sources of tmao, as well as looked at the studies suggesting possible involvement of tmao in the etiology of cardiovascular and other diseases, such as kidney failure, diabetes, and cancer.\\tOBJECTIVE\\nthe remarkable progress made in confronting the global hiv epidemic offers a unique opportunity to address the increasing threat of noncommunicable diseases (ncds).\\tBACKGROUND\\nhowever, questions remain about how to enhance the hiv platforms to deliver integrated hiv and ncd care to people living with hiv (plhiv) in sub-saharan africa (ssa).\\tBACKGROUND\\nwe aimed to develop a priority research agenda to advance this effort.\\tOBJECTIVE\\nresearchers, policymakers, and implementers from the united states and ssa conducted three scoping reviews on hiv/ncd prevention and care focused on clinical, health system, and community levels.\\tMETHODS\\nbased on the review findings and expert inputs, we conducted iterative consensus-development activities to generate a prioritized research agenda.\\tMETHODS\\npopulation-level data on ncd prevalence among plhiv in ssa are sparse.\\tRESULTS\\nthe review identified ncd screening and management approaches that could be integrated into hiv programs in ssa.\\tRESULTS\\nhowever, few studies focused on the effectiveness, cost, and best practices for integrated chronic care platforms, making it difficult to derive policy recommendations.\\tRESULTS\\nto address these gaps, we propose a prioritized research agenda focused on developing evidence-based service delivery models, increasing human capacity through workforce education, generating data through informatics platforms and research, managing the medication supply chain, developing new financing and sustainability models, advancing research-informed policy, and addressing other crosscutting health system issues.\\tCONCLUSIONS\\nbased on collaborative, interdisciplinary efforts, a research agenda was developed to provide guidance that advances efforts to adapt the current health system to deliver integrated chronic care for plhiv and the population at large.\\tCONCLUSIONS\\ncurrent advances in molecular biology enable us to access the rapidly increasing body of genetic information.\\tBACKGROUND\\nit is still challenging to model gene systems at the molecular level.\\tBACKGROUND\\nhere, we propose two types of reaction kinetic models for constructing genetic networks.\\tOBJECTIVE\\ntime delays involved in transcription and translation are explicitly considered to explore the effects of delays, which may be significant in genetic networks featured with feedback loops.\\tOBJECTIVE\\none type of model is based on delayed effective reactions, each reaction modeling a biochemical process like transcription without involving intermediate reactions.\\tMETHODS\\nthe other is based on delayed virtual reactions, each reaction being converted from a mathematical function to model a biochemical function like gene inhibition.\\tMETHODS\\nthe latter stochastic models are derived from the corresponding mean-field models.\\tMETHODS\\nthe former ones are composed of single gene expression modules.\\tMETHODS\\nwe thus design a model of gene expression.\\tMETHODS\\nthis model is verified by our simulations using a delayed stochastic simulation algorithm, which accurately reproduces the stochastic kinetics in a recent experimental study.\\tMETHODS\\nvarious simplified versions of the model are given and evaluated.\\tMETHODS\\nwe then use the two methods to study the genetic toggle switch and the repressilator.\\tMETHODS\\nwe define the \"on\" and \"off\" states of genes and extract a binary code from the stochastic time series.\\tMETHODS\\nthe binary code can be described by the corresponding boolean network models in certain conditions.\\tMETHODS\\nwe discuss these conditions, suggesting a method to connect boolean models, mean-field models, and stochastic chemical models.\\tRESULTS\\ndealing with a child who suffers from functional abdominal pain (fap) is a major challenge for the child\\'s parents.\\tBACKGROUND\\nhowever, little is known about the quality of life (qol) of this group of parents.\\tBACKGROUND\\ntherefore, this cross-sectional study aimed to provide a comprehensive analysis of parental qol among parents seeking treatment for their child\\'s abdominal pain.\\tOBJECTIVE\\n133 parents of 7-13-year-old children diagnosed with fap reported on their health-related qol (hrqol), as assessed by the sf-12, and on caregiver-related qol, as assessed by two chq-pf50 scales (emotional impact, time impact).\\tMETHODS\\nt tests were used to compare the parents\\' scores on these measures with reference scores.\\tMETHODS\\nsubgroups which were at risk of impairment were defined by cut-off scores.\\tMETHODS\\ndeterminants of parental qol were identified by hierarchical regression analyses.\\tMETHODS\\nwhile the parents showed significantly poorer mental health compared to population-based reference samples (d = 0.33-0.58), their physical health did not differ.\\tRESULTS\\nhowever, parents were severely strained with respect to the time impact and emotional impact of their child\\'s health (d = 0.33-1.58).\\tRESULTS\\nwhile 12.7-27.9% of the parents were at risk of poor hrqol, 60.6-70.1% were highly strained due to the demands of their role as caregivers.\\tRESULTS\\nphysical and mental health were best explained by parents\\' psychiatric symptoms, while parents\\' perception of their child\\'s impairment additionally determined the high time and emotional impact.\\tRESULTS\\nphysical hrqol is not impaired in the majority of parents seeking treatment for their child\\'s functional abdominal pain.\\tCONCLUSIONS\\nhowever, the time demands and worries due to the child\\'s pain deserve specific attention.\\tCONCLUSIONS\\npsychosocial interventions for a child\\'s fap should include information provided to the parents about coping with time constraints and emotional impact.\\tCONCLUSIONS\\nfurther prospective studies are warranted.\\tCONCLUSIONS\\nthe biomimetic reproduction of adhesion organs, as found in flies, beetles and geckoes, has become a topic of intense research over the past years.\\tBACKGROUND\\nsuccesses, however, have so far been limited.\\tBACKGROUND\\nthis is due to the vast range of parameters involved, including fibril size, elastic modulus, contact shape, surface roughness and ambient humidity.\\tBACKGROUND\\nin previous studies, design and materials selection charts to determine the optimum materials and design combination for dry adhesive systems have been established.\\tBACKGROUND\\nthe effect of shape on the adhesive properties of single fibers and fiber arrays has also been a research focus.\\tBACKGROUND\\nin this paper both approaches are combined to provide more advanced guidelines for the design of optimal adhesive structures.\\tRESULTS\\nbreastmilk is the only dietary source of zinc for exclusively breastfed young infants, and it remains a potentially important source of zinc for older infants and young children who continue breastfeeding beyond early infancy.\\tBACKGROUND\\ntherefore, we examined available information on breastmilk zinc concentration and total milk consumption to develop estimates of the amount of zinc transferred in breastmilk to children of different ages.\\tOBJECTIVE\\nbreastmilk zinc concentration declines rapidly during the first few months postpartum and more slowly thereafter.\\tRESULTS\\nbreastmilk supplies all of the theoretical zinc needs for at least the first several months of life, although the period during which breastmilk alone remains sufficient is uncertain.\\tRESULTS\\nbreastmilk continues to provide more than half of children\\'s estimated zinc requirements after the introduction of complementary foods, even into the second year of life.\\tRESULTS\\npublic health programs to promote and support breastfeeding should be included among the strategies to ensure adequate zinc status of young children.\\tCONCLUSIONS\\npresentation of two typical cases with characteristic leopard retinopathy secondary to bilateral diffuse uveal melanocytic proliferation (bdump) and idiopathic uveal effusion syndrome (iues) and brief review of the literature about leopard spot retinopathy.\\tOBJECTIVE\\na 43-year-old women, who was a known case of ovarian carcinoma, referred with gradual bilateral visual loss.\\tMETHODS\\nin ophthalmic examination, subretinal fluid, multiple patchy subretinal hyperpigmented lesions and leopard spot chorioretinopathy were evident in her both eyes.\\tMETHODS\\nfluorescein angiography showed multiple nummular hyperfluorescent lesions surrounded by zones of hypofluorescence.\\tMETHODS\\nspectral domain optical coherence tomography revealed increased retinal thickness, subretinal fluid and rpe irregularities in both eyes.\\tMETHODS\\nenhanced depth imaging oct (edi-oct) showed bilateral subfoveal choroidal thickening.\\tMETHODS\\nduring next 2-year follow-up, she underwent cataract surgery and later on developed neovascular glaucoma in her both eyes.\\tMETHODS\\nthe second case was a 45-year-old man who had developed decreased visual acuity in his left eye for 3 years.\\tMETHODS\\nanterior segment examination was unremarkable, and both eyes had normal intraocular pressure.\\tMETHODS\\nno vitreous inflammation was observed.\\tMETHODS\\nfundoscopy revealed diffuse exudative retinal detachment in his left eye.\\tMETHODS\\nfluorescein angiography showed leopard spot retinopathy of posterior pole, and edi-oct disclosed subfoveal choroidal thickening.\\tMETHODS\\nafter exclusion of other causes of exudative retinal detachment and with diagnosis of iues, he underwent intravitreal triamcinolone injection (2 mg) which improved his final vision to 20/40.\\tMETHODS\\nleopard spot retinopathy is an uncommon but clinically distinct manifestation of various disorders.\\tCONCLUSIONS\\nbdump may present with leopard spot retinopathy, anterior uveal tract involvement and neovascular glaucoma.\\tCONCLUSIONS\\nas edi-oct showed involvement and increased thickening of choroid in both cases of bdump and iues, it may be better to consider such cases as leopard chorioretinopathy and categorize these entities as a member of pachychoroid pigment retinopathy disorders.\\tCONCLUSIONS\\nthe reliability of using between-visit variation in fev1 to diagnose asthma is understudied, and hence uncertain.\\tBACKGROUND\\nto determine if fev1 variability measured over recurrent visits is significantly associated with a diagnosis of current asthma.\\tOBJECTIVE\\nrandomly-selected adults (n=964) with a history of physician-diagnosed asthma were studied from 2005-2007 and from 2012-2016.\\tMETHODS\\na diagnosis of current asthma was confirmed in those participants who exhibited bronchial hyper-responsiveness to methacholine and/or acute worsening of asthma symptoms while being weaned off asthma medications.\\tMETHODS\\nregression analyses and receiver operating curves were used to evaluate the ability of between-visit fev1 variability to diagnose asthma.\\tMETHODS\\na current diagnosis of asthma was confirmed in 584 of 964 participants (60%).\\tRESULTS\\nbetween-visit absolute variability in fev1 was significantly greater in those in whom current asthma was confirmed, compared to those in whom current asthma was ruled out (7.3% vs 4.8%, mean difference between the 2 groups = 2.5%; 95% ci: 1.7-3.3%).\\tRESULTS\\nhowever, a 12 percent and 200 ml between-visit variation in fev1, which is the diagnostic threshold recommended by gina, exhibited a sensitivity of only 0.17 and a specificity of 0.94 for confirming current asthma.\\tRESULTS\\na between-visit absolute variability in fev1 >/= 12% and 200 ml increased the pre-test probability of asthma from 60% to a post-test probability of 81%.\\tRESULTS\\na 12% and 200 ml between-visit variation in fev1, if present, has reasonably good specificity for diagnosing asthma, but has poor sensitivity compared to bronchial challenge testing.\\tCONCLUSIONS\\nbetween-visit variability in fev1 is a relatively unhelpful test to establish a diagnosis of asthma.\\tCONCLUSIONS\\ncystinuria is an autosomal recessive disorder due to intestinal and renal transport defects in cystine and dibasic amino acids, which result in recurrent urolithiasis and surgical interventions.\\tBACKGROUND\\nthis study aimed to assess the impact of surgical interventions on renal function by analyzing estimated glomerular filtration rates.\\tOBJECTIVE\\nthirteen pediatric patients with cystinuria, who were followed-up in a single tertiary institution between 2004 and 2016, were included in the study.\\tMETHODS\\nmedical records were reviewed to collect data on clinical presentation of patients, urine parameters, stone formation, medical treatment, surgical intervention, stone recurrence after surgical procedure, stone analysis, ultrasonography, 99m-technetium dimercaptosuccinic acid (99mtc-dmsa) radionuclide imaging results, and follow-up time.\\tMETHODS\\ncreatinine clearances estimated by modified schwartz (egfr) formula before and after surgery were used to assess renal function and compared statistically.\\tMETHODS\\nnine patients (69.2%) had renal scarring which were detected with 99mtc-dmsa radionuclide imaging.\\tRESULTS\\nin ten patients (76.9%), open surgical intervention for stones were needed during follow-up.\\tRESULTS\\nsignificant difference was not detected between egfr before and after surgical intervention (mean 92 versus 106, p = 0.36).\\tRESULTS\\nnine of the patients (69.2%) were stone free in the last ultrasonographic examination.\\tRESULTS\\nrelapses of stone after surgery were seen in 66.6% of patients who underwent surgical intervention.\\tRESULTS\\nsurgical interventions for urinary stones are commonly required in patients with cystinuria.\\tCONCLUSIONS\\nrenal scarring is a prevalent finding in cystinuric patients.\\tCONCLUSIONS\\nsurgical interventions have no negative impact on egfr in patients with cystinuria according to the present study.\\tCONCLUSIONS\\ntomato pectinmethylesterase (pme) was successfully purified by a two-step method consisting of affinity chromatography followed by cation exchange chromatography.\\tMETHODS\\naccording to this procedure, four different isoenzymes were identified representing molar masses around 34.5-35.0 kda.\\tMETHODS\\nthermal and high-pressure inactivation kinetics of the two major isoenzymes of tomato pme were studied.\\tMETHODS\\na striking difference between their process stability was found.\\tRESULTS\\nthe thermostable isoenzyme was completely inactivated after 5.0 min at 70 degrees c, whereas for the thermolabile isoenzyme, temperatures at around 60 degrees c were sufficient for complete inactivation.\\tRESULTS\\nthe thermostable isoenzyme was also found to be pressure stable since no inactivation was observed after 5.0 min of treatment at 800 mpa and 20 or 40 degrees c.\\tRESULTS\\nthe thermolabile isoenzyme appeared to be pressure labile since it could be completely inactivated after 5.0 min of treatment at 700 mpa and 20 degrees c or 650 mpa and 40 degrees c.\\tRESULTS\\ninactivation kinetics at ph 6.0 could be accurately described by a first-order model.\\tCONCLUSIONS\\nwe have investigated the effect of adding a pressurized metered dose inhaler (pmdi) training device to verbal counselling on pulmonary function and inhalation technique.\\tOBJECTIVE\\na total of 304 adult asthmatic subjects (> 18 years old) were enrolled in a 3-month study of assessment and education.\\tMETHODS\\nthey were divided into an investigation group (trainhaler plus flo-tone and verbal counselling, n = 261, mean age 49.2 years) and a control group (verbal counselling only, n = 43, mean age 48.7 years).\\tMETHODS\\npulmonary function and inhalation technique were evaluated, mistakes noted, and the correct technique advised at three consecutive monthly visits.\\tMETHODS\\nvisits also included verbal pmdi counselling (both groups) and training device coaching (investigation group).\\tMETHODS\\nby visit 2, the mean number of technique errors decreased significantly (p < 0.05) in both groups (investigation group p < 0.001).\\tRESULTS\\nthe investigation group demonstrated a marked decrease in the frequency of the critical error of maintaining a slow inhalation rate until the lungs are full-a technique difficult to learn via verbal counselling alone.\\tRESULTS\\nthe improvement in pulmonary function was significant from the second clinic visit in the investigation group (p < 0.05) and from the third visit in both groups (p < 0.001).\\tRESULTS\\nuse of a training device combined with verbal counselling improved inhalation technique.\\tCONCLUSIONS\\nan earlier, significant improvement was also noted in pulmonary function.\\tCONCLUSIONS\\ndespite evidence highlighting the importance of the forearm flexor muscles of elite baseball players, no studies have reported on the epidemiology of flexor strains and their associated outcomes.\\tBACKGROUND\\nto examine the incidence, associated injuries, and outcomes associated with forearm flexor injuries among major and minor league baseball players.\\tOBJECTIVE\\ncohort study; level of evidence, 3.\\tMETHODS\\ninjury data attributed to forearm flexor injuries among major league baseball (mlb) and minor league teams between 2010 and 2014 were obtained from the professional baseball health and injury tracking system.\\tMETHODS\\nthis analysis included the number of players injured, seasonal timing of injury, days spent on the disabled list (dl), preinjury performance data, and subsequent injuries.\\tMETHODS\\na total of 134 and 629 forearm flexor injuries occurred in mlb and the minor leagues, respectively.\\tRESULTS\\nthe mean player age was 28.6 and 22.8 years in the mlb and minor leagues, respectively.\\tRESULTS\\nthe mean time spent on the dl for mlb players was 117.0 days, as opposed to 93.9 days in the minor leagues ( p = .272).\\tRESULTS\\ninterestingly, pitcher performance declined in all categories examined leading up to the season of injury, with significant differences in walks plus hits per inning pitched ( p = .04) and strike percentage ( p = .036).\\tRESULTS\\nof mlb players with a forearm injury, subsequent injuries included 50 (37.3%) shoulder, 48 (35.8%) elbow, and 24 (17.9%) forearm injuries.\\tRESULTS\\namong injured minor league players, subsequent injuries included 170 (27.0%) shoulder, 156 (24.8%) elbow, and 83 (13.2%) forearm injuries.\\tRESULTS\\nthese rates of subsequent injuries were significantly higher compared with the rates of injuries sustained among players without forearm injuries in both leagues ( p < .001).\\tRESULTS\\nfinally, 26 (19.4%) mlb and 56 (8.9%) minor league players required an ulnar collateral ligament reconstruction, rates that were significantly higher compared with players without a flexor strain ( p < .001).\\tRESULTS\\nflexor-pronator injuries are responsible for considerable time spent on the dl for elite players in mlb and the minor leagues.\\tCONCLUSIONS\\nthe most significant findings of this investigation illustrate that a flexor strain may be a significant risk factor for subsequent upper extremity injuries, including an ulnar collateral ligament tear.\\tCONCLUSIONS\\nvascular pathologies are associated with changes in the presence and expression of morphologically distinct vascular smooth muscle cells.\\tBACKGROUND\\nin particular, in complex human vascular lesions and models of disease in pigs and rodents, an intimal smooth muscle cell (ismc) which exhibits a stable epithelioid or rhomboid phenotype in culture is often found to be present in high numbers, and may represent the reemergence of a distinct developmental vascular smooth muscle cell phenotype.\\tBACKGROUND\\nthe cyp450-oxylipin - soluble epoxide hydrolase (seh) pathway is currently of great interest in targeting for cardiovascular disease.\\tBACKGROUND\\nseh inhibitors limit the development of hypertension, diabetes, atherosclerosis and aneurysm formation in animal models.\\tBACKGROUND\\nwe have investigated the expression of cyp450-oxylipin-seh pathway enzymes and their metabolites in paired intimal (ismc) and medial (msmc) cells isolated from rat aorta.\\tMETHODS\\nismc basally released significantly larger amounts of epoxy-oxylipin cyp450 products from eicosapentaenoic acid > docosahexaenoic acid > arachidonic acid > linoleic acid, and expressed higher levels of cyp2c12, cyp2b1, but not cyp2j mrna compared to msmc.\\tRESULTS\\nwhen stimulated with the pro-inflammatory tlr4 ligand lps, epoxy-oxylipin production did not change greatly in ismc.\\tRESULTS\\nin contrast, lps induced epoxy-oxylipin products in msmc and induced cyp2j4.\\tRESULTS\\nismc and msmc express seh which metabolizes primary epoxy-oxylipins to their dihydroxy-counterparts.\\tRESULTS\\nthe seh inhibitors tppu or auda inhibited lps-induced nfkappab activation and inos induction in msmc, but had no effect on nfkappab nuclear localization or inducible nitric oxide synthase in ismc; effects which were recapitulated in part by addition of authentic epoxy-oxylipins.\\tRESULTS\\nismcs are a rich source but not a sensor of anti-inflammatory epoxy-oxylipins.\\tCONCLUSIONS\\ncomplex lesions that contain high levels of ismcs may be more resistant to the protective effects of seh inhibitors.\\tCONCLUSIONS\\nmultiple myeloma is a hematologic malignancy affecting bone marrow derived plasma cells.\\tBACKGROUND\\ncurrent therapies are not able to eradicate the disease and most patients become refractory to the treatment.\\tBACKGROUND\\nlenalidomide and bortezomib have proved effective in the second-line treatment of these patients.\\tBACKGROUND\\nto evaluate the cost-effectiveness of lenalidomide in combination with dexamethasone compared to bortezomib in combination with dexamethasone in patients with multiple myeloma previously treated with bortezomib, from the perspective of the chilean national health service.\\tOBJECTIVE\\na four-state markov model (preprogression on treatment; preprogression off treatment, progression and death) was used to simulate the evolution of a cohort of multiple myeloma patients over a 25-year time horizon.\\tMETHODS\\nefficacy data, resource use and frequency of adverse events were extracted from mm009/010 studies and a retrospective analysis of retreatment with bortezomib.\\tMETHODS\\nall inputs were validated by experts.\\tMETHODS\\na 3% annual discount rate was used for costs and health outcomes.\\tMETHODS\\nthe robustness of the results was evaluated through univariate and probabilistic sensitivity analyses.\\tMETHODS\\nlenalidomide in combination with dexamethasone treatment provided 1.41 incremental life years and 0.83 incremental quality-adjusted life years in comparison with bortezomib in combination with dexamethasone, with an incremental cost of 11 864 597.86 clp (19 589.86 us$).\\tRESULTS\\nthe incremental cost-effectiveness and cost-utility ratio were estimated at 8 410 266.92 clp (13 886,35 us$) / incremental life year and 14 271 896.16 clp (23 564,59 us$)/incremental quality-adjusted life years, respectively.\\tRESULTS\\nlenalidomide in combination with dexamethasone represents a potentially cost-effective alternative for the second-line treatment of patients with multiple myeloma who are not eligible for transplantation, from the perspective of the chilean national health service.\\tCONCLUSIONS\\nhand eczema (he) in healthcare workers (hcws) is common.\\tBACKGROUND\\nbesides wet work, healthcare work also implies exposure to contact allergens.\\tBACKGROUND\\nto assess he and contact allergy related to occupational exposures in hcws.\\tOBJECTIVE\\nin a cross-sectional study, 311 hcws with he within the preceding 12 months and a control group of 114 hcws without he were investigated with the baseline series and a special patch test series based on substances found in the gloves, soaps, alcoholic hand disinfectants and hand creams provided at the hospitals.\\tMETHODS\\ncontact allergy to rubber additives was significantly more common in hcws with he (6%) than in hcws without he (1%, p = .02).\\tRESULTS\\nthe corresponding percentages for fragrances were 11% and 3%, respectively (p = .004).\\tRESULTS\\noccupational he was found in 193 of 311 (62%) hcws.\\tRESULTS\\nof these, 22 of 193 (11%) had occupational allergic contact dermatitis, including 17 with glove-related rubber contact allergy.\\tRESULTS\\ncontact allergy to diphenylguanidine was as common as contact allergy to thiurams.\\tRESULTS\\noccupational contact allergy to rubber additives was significantly associated with sick-leave related to he.\\tRESULTS\\ncontact allergy to rubber additives in medical gloves is the most common cause of occupational allergic contact dermatitis in hcws.\\tCONCLUSIONS\\naimed patch testing with relevant rubber additives is mandatory when he in hcws is investigated.\\tCONCLUSIONS\\nit is hypothesized that the quality of health care decreases during trainee turnovers at the beginning of the academic year.\\tBACKGROUND\\nthe influx of new gynecology and surgery residents into hospitals in this setting may be associated with poorer surgical outcomes, known as the july effect.\\tBACKGROUND\\nwe sought to systematically study hysterectomy outcomes in the state of maryland during the 3-month period july through september as compared to all other months of the academic year, in order to assess for the presence of a july effect in hysterectomy surgery.\\tOBJECTIVE\\nthis is a retrospective study of the maryland health services cost review commission database from july 2012 through september 2015 focused on women undergoing hysterectomies for benign or malignant disease, either by obstetricians and gynecologists or gynecologic oncologists, during july through september vs october through june.\\tMETHODS\\nmultivariable logistic regressions accounted for clustering by hospitals and adjusted for several cofactors.\\tMETHODS\\nthe primary outcome includes at least 1 of 11 major perioperative in-hospital complications; the secondary outcomes were extended postoperative length of stay (defined as >2 days) and 30-day inpatient readmission rates.\\tMETHODS\\nwe identified 6311 hysterectomies (78.2% benign) performed by 424 surgeons at 20 academic hospitals.\\tRESULTS\\npatients were primarily white (42.8%), 45-64 years old (54.4%), and had private insurance (66.3%).\\tRESULTS\\nthe unadjusted rate of in-hospital complications was 16.8%, extended length of stay was 30.3%, and 30-day readmissions was 6.6%.\\tRESULTS\\nafter adjustment, patients undergoing hysterectomies during july through september did not have more adverse outcomes relative to those undergoing surgery at other times of the year: complications (adjusted odds ratio, 0.87; 95% confidence interval, 0.75-1.01), length of stay >2 days (adjusted odds ratio, 1.03; 95% confidence interval, 0.90-1.19), and 30-day readmissions (adjusted odds ratio, 0.99; 95% confidence interval, 0.80-1.23).\\tRESULTS\\nsensitivity analyses assessing individual complications, hysterectomy outcomes at nonacademic hospitals, and benign vs malignant indications for hysterectomies yielded similar findings.\\tRESULTS\\nwomen in maryland undergoing hysterectomy surgery at academic hospitals during july through september of the academic year did not experience worse outcomes relative to women having surgery in other months.\\tCONCLUSIONS\\nadditional studies are necessary to further assess the possibility of a july effect in hysterectomy on a national basis.\\tCONCLUSIONS\\ninstitutions should continue to provide effective surgical training environments for new interns and residents transitioning to more senior roles, while maintaining optimal patient safety.\\tCONCLUSIONS\\nendophthalmitis is a serious complication of intraocular procedures: knowledge of its causative organisms and outcomes may guide prevention and treatment.\\tBACKGROUND\\nto determine the outcomes and spectrum of causative organisms in acute post-procedural endophthalmitis.\\tOBJECTIVE\\na retrospective observational case series performed at a tertiary referral hospital during the period 1 july 2012 to 31 july 2017.\\tMETHODS\\ntwo hundred and forty-eight patients diagnosed with acute (</= 6 weeks post-inciting event) endophthalmitis.\\tMETHODS\\nchart review of microbiological and clinical data.\\tMETHODS\\nthe main outcome measure was odds of any improvement in visual acuity (3 months versus presentation).\\tMETHODS\\nsecondary outcomes included causative organism, likelihood of vitrectomy and likelihood of evisceration.\\tMETHODS\\none hundred and ninty cases were post-cataract surgery or post-intravitreal injection (49 and 141, respectively).\\tRESULTS\\ncausative organisms were identified in 45% of post-cataract surgery and 54% of post-injection cases (or = 0.69; p = 0.61).\\tRESULTS\\nstreptococcus epidermidis was the most frequent causative organism.\\tRESULTS\\nstreptococcus species accounted for 32% of post-surgical and 7% of culture-positive post-injection cases (or = 6.63; p = 0.02).\\tRESULTS\\nat 3 months, 81% of post-surgical and 84% of post-injection cases had improved bcva over presentation (or 0.59; p = 0.61).\\tRESULTS\\ns. epidermidis is the most common causative organism.\\tCONCLUSIONS\\nin contrast to other studies, we did not find evidence for an increased odds of streptococcus spp. endophthalmitis following intravitreal injection.\\tCONCLUSIONS\\nthis may in turn reflect guideline-driven changes in practice.\\tCONCLUSIONS\\nthe role of sweat gland in inflammation has not received sufficient attention.\\tBACKGROUND\\nthe thermal stress during the summer months in tropical areas provides an opportunity to study the morphological patterns of inflammation produced primarily by the sweat gland.\\tBACKGROUND\\nto collect clinical data on sweat-induced dermatitis during the summer months.\\tOBJECTIVE\\na hospital-based descriptive cross-sectional study was done during the hot and humid summer months of april to june in a tertiary care institute in puducherry.\\tMETHODS\\npatients clinically diagnosed with sweat-induced dermatitis (dermatitis primarily due to retention or extravasation of sweat) were included in the study.\\tMETHODS\\na detailed history was taken, and clinical examination was done.\\tMETHODS\\none hundred and fifty patients were included in the study.\\tRESULTS\\nvarious typical and atypical manifestations of sweat-induced dermatitis were seen.\\tRESULTS\\nsweat dermatitis presenting with dry, hyperpigmented, fissured \"parchment\"-like skin, shiny \"crinkled cellophane paper\"-like skin, or asymptomatic hyperpigmented macules was seen.\\tRESULTS\\nother atypical presentations included miliaria pustulosa with \"hypopyon sign\" and \"linear and parallel ridge pattern\" of dermatitis in patients with miliaria rubra affecting the lower neck and upper chest.\\tRESULTS\\na wide spectrum of sweat-induced dermatitis was seen during the summer months in a tropical region.\\tCONCLUSIONS\\nit reflects the role of the sweat gland in cutaneous inflammation.\\tCONCLUSIONS\\nan increased awareness of atypical manifestations is needed.\\tCONCLUSIONS\\nthis study aims to evaluate ezscan detection in pilots and the general population, and determine the significance of ezscan detection in the identification of a pilot\\'s health.\\tOBJECTIVE\\na total of 87 cases of non-diabetic air force pilots (pilot group) and 49 cases from the general population without diabetes were collected.\\tMETHODS\\nthese two groups of subjects underwent ezscan detection, as well as the detection of blood glucose, lipid and uric acid levels.\\tMETHODS\\nsubjects in the pilot group had the highest detection rate of no risk and the lowest detection rate of high risk, while the general population had the highest detection rate of high risk, followed by low risk.\\tRESULTS\\nthe difference in diabetic risk between these two groups were statistically significant (p < 0.01).\\tRESULTS\\nvarious indicators were compared according to different risk levels.\\tRESULTS\\nin the no risk group, age, bmi and the triglyceride of pilots were lower than in the general population; and the difference was statistically significant (p < 0.05).\\tRESULTS\\nin high risk group, bmi and blood uric acid of pilots were lower than in the general population; and the difference was statistically significant (p < 0.05).\\tRESULTS\\nbmi and blood uric acid are positively correlated to diabetic risk.\\tCONCLUSIONS\\nthe ezscan detection system can be used for assessment of pilot\\'s diabetic risk, and has certain significance in a pilot\\'s health identification.\\tCONCLUSIONS\\neven after decades of clinical use, our ability to quantify wear across total hip replacement implant surfaces is largely limited to single value measurements.\\tBACKGROUND\\nthe influence of patient factors on wear remains enigmatic.\\tBACKGROUND\\nthis pilot study for the development of three-dimensional laser micrometry (3dlm) introduces an easy, accurate means of \\'mapping\\' and quantifying material removal.\\tOBJECTIVE\\na three-dimensional laser micrometer was constructed using a laser micrometer having an accuracy of 0.5 microm.\\tMETHODS\\na 3d surface map is triangulated from a point cloud consisting of approximately 140,000 individual points.\\tMETHODS\\ncomparison to a reference sphere determines radial wear over the entire surface.\\tMETHODS\\n3dlm was able to map and quantify fine scale surface features.\\tRESULTS\\neven for zirconia on relatively soft ultra-high molecular weight polyethylene, this technique maps the contributions of localized wear at the macroscopic level.\\tRESULTS\\nthe 0.5 microm (or greater) accuracy of these lasers allows us to image surfaces with a high degree of confidence.\\tRESULTS\\nthis analysis lends itself well to automation, and we anticipate that this advance will prove valuable in establishing that each head and cup combination emerging from a given clinical environment has unique wear patterns as observed in this trial data set.\\tCONCLUSIONS\\nwith the continuing increase in the older population, being able to communicate with the elderly is one of the many important skills in caring for older people.\\tBACKGROUND\\ntherefore, student nurses need support during education to be prepared with the necessary communication skills to meet these demands.\\tBACKGROUND\\nthe aim of this study was to describe the development of communication skills during nursing education.\\tOBJECTIVE\\na quantitative descriptive and comparative study.\\tMETHODS\\nthe nursing programme at a university in an urban area of sweden.\\tMETHODS\\nstudent nurses in the first and third year in a nursing programme in sweden in 2015.\\tMETHODS\\ndata were collected with a self-efficacy questionnaire and analysed with descriptive and comparative statistics.\\tMETHODS\\nthe student nurses in the final semester had a higher self-rated ability to communicate with older people than students in the second semester of the education year.\\tRESULTS\\nthere was also a difference in self efficacy between students with or without former experience of health care work or work in care with older persons in the second semester.\\tRESULTS\\nhowever, these differences were not seen in the final semester.\\tRESULTS\\nthe age of the students did not affect the self-efficacy rate in either semester.\\tRESULTS\\nstudent nurses in the present study scored themselves relatively highly, while student nurses in previous studies expressed a need for more communication skills training.\\tCONCLUSIONS\\nfurther studies with observations of student nurses\\' actual communicative skills in clinical and simulations settings are needed, to pinpoint weak spots and targets for such an education.\\tCONCLUSIONS\\nthis study aimed to evaluate the impact of the secondary cytoreductive surgery on survival parameters in women with platinum-sensitive recurrent ovarian cancer who undergone secondary cytoreduction following chemotherapy compared to women who recieved chemotherapy alone.\\tOBJECTIVE\\nin a retrospective study, data were rewieved from women who were diagnosed and treated with ovarian cancer and its primary platinum-sensitive recurrence at the university hospital brno in the czech republic between november 2009 and march 2016.\\tMETHODS\\nout of the total number of 62 patients with recurrence, 30 women underwent cytoreductive surgery plus chemotherapy and 32 were treated with chemotherapy alone.\\tMETHODS\\nthe good performance status expressed by ecog score 0-1, the single site of recurrence regardless of platinum-free interval or multiple sites of recurrence but no carcinomatosis and platinum-free interval >12 months, and no or small-volume ascites (<500ml) were considered inclusion criteria for cytoreductive surgery.\\tMETHODS\\nwomen not meeting these criteria were treated by chemotherapy alone.\\tMETHODS\\ndescriptive statistics, kaplan-meier survival curves and log-rank test were used for statistical estimations.\\tMETHODS\\nthe analysis confirmed more favorable prognosis in patient group treated with a combination secondary cytoreduction and chemotherapy.\\tRESULTS\\nmean disease-free survival (dfs) was 49.8 months (95% ci; 33.2-66.3) and mean overall survival (os) stood at 54.0 months (95% ci; 39.4-68.6) in this patient cohort, while in patient group treated with chemotherapy alone it was found that mean dfs was 16.6 months (95% ci; 7.4-25.8) and mean os stood at 26.2 months (95% ci; 16.6-35.8).\\tRESULTS\\nwhen testing the difference between survival curves, statistically significant differences were observed in both dfs (p=0.010) and os (p=0.007) rates between two treatment groups.\\tRESULTS\\nage < 60 years at the time of recurrence and zero macroscopic residual disease after secondary cytoreduction were identified as favorable prognostic factors for both dfs and os in a multivariate analysis.\\tRESULTS\\nsecondary cytoreductive surgery is acceptable as a viable treatment option for highly selected women with ovarian cancer recurrence.\\tCONCLUSIONS\\ncomplete resection is considered ultimate goal of secondary cytoreduction on condition that the balance between maximal survival gain and minimal operative morbidity will be kept.\\tCONCLUSIONS\\nto evaluate the diagnostic value of mr-derived ct-like images and simulated radiographs compared with conventional radiographs in patients with benign and malignant bone tumors.\\tOBJECTIVE\\nin 32 patients with a benign or malignant bone lesion (mean age 33.9 +/- 18.5 years, 17 females), 3-t mr imaging was performed including a 3d t1-weighted gradient echo sequence as the basis for the ct-like images.\\tMETHODS\\nfrom these, intensity-inverted mr image volumes were converted into 2d images via a forward projection to obtain simulated radiographs.\\tMETHODS\\ntwo radiologists assessed these images as well as conventional radiographs for the type of periosteal reaction, matrix mineralization and destruction pattern.\\tMETHODS\\nagreement between the modalities was calculated using cohen\\'s kappa.\\tMETHODS\\nthe agreement between conventional radiographs and mr-derived ct-like images in combination with simulated radiographs was substantial (periosteal reaction, kappa = 0.67; destruction pattern, kappa = 0.75), and the sensitivity of both modalities for the final diagnosis of the lesion (aggressive vs. nonaggressive) was high (mr-derived ct-like images, 86.2% vs. conventional radiographs, 90.0%).\\tRESULTS\\nadditional information on soft tissue extension (mr-derived ct-like images, 21.9% vs. conventional radiographs, 12.5%; p = 0.009) and lobulation (9.4% vs. 0%; p < 0.001) was significantly more often found on mr-derived ct-like images compared with conventional radiographs.\\tRESULTS\\nthe assessment of the destruction patterns, periosteal reaction and distinction between aggressive and nonaggressive tumors was feasible using mr-derived ct-like images and simulated radiographs and is comparable to that of conventional radiographs.\\tCONCLUSIONS\\nmoreover, mr-derived ct-like images provided additional information on soft tissue extension and tumor architecture.\\tCONCLUSIONS\\n* ct-like images and simulated radiographs can be generated from 3d mri.\\tCONCLUSIONS\\n* evaluation of bone tumors is feasible with mr-derived images.\\tCONCLUSIONS\\n* ct-like images and simulated radiographs provide additional information on bone tumors.\\tCONCLUSIONS\\nshigella flexneri is a leading cause of bacterial dysentery in developing countries.\\tBACKGROUND\\namong the 15 known serotypes, four (1b, 3a, 3b and 4b) contain a group 6 epitope due to an acetyl group connected to the o-2 position of rhamnose iii on the tetrasaccharide structure of the lipopolysaccharide.\\tBACKGROUND\\no-acetyltransferase encoded by a bacteriophage, sf6, mediates the acetylation reaction.\\tBACKGROUND\\nwe found that the oac gene in serotype 1b strains was very different from that in serotypes 3a, 3b and 4b strains and is herein after referred to as oac 1b which shares with oac 88%-89% identity at the dna level and 85% identity at the protein level.\\tRESULTS\\nconsidering that s. flexneri strains of serotypes 1-5 share a recent common ancestry, the divergent oac 1b is more likely to have been obtained from outside s. flexneri than to have undergone rapid divergence from the oac gene in the other serotypes (3a, 3b and 4b) within s. flexneri.\\tRESULTS\\nthe cloned oac 1b gene was found to perform the same acetylation function as oac.\\tRESULTS\\nanalysis of the genomic regions flanking oac 1b showed that it was present in a prophage on the chromosome and the organizational structure is different from that of phage sf6.\\tRESULTS\\nadditionally, phage conversion assay showed that serotype 1b cannot be generated by infecting serotype 1a strains with sf6.\\tRESULTS\\nwe conclude that oac 1b was carried by a non-sf6 phage and is uniquely present in serotype 1b.\\tCONCLUSIONS\\nto analyze the renal function and outcome after delayed (>6 hours) endovascular revascularization of acute renal artery occlusion (rao) in patients with fenestrated-branched endovascular aneurysm repairs (evars) or open visceral debranching.\\tOBJECTIVE\\na single-center retrospective analysis was conducted involving 7 patients (mean age 61 years, range 49-72; 5 women) with 9 raos treated with endovascular revascularization between december 2014 and march 2017.\\tMETHODS\\nthree patients had a solitary kidney with chronic renal insufficiency; 1 patient had bilateral occlusions as the acute event.\\tMETHODS\\ninitial aortic surgery included 5 branched and 1 fenestrated evar as well as 1 open visceral debranching operation.\\tMETHODS\\nrevascularization of the rao was performed using aspiration thrombectomy, local lysis therapy, and stent-graft relining.\\tMETHODS\\nthe median time between initial aortic surgery and rao was 10 months (range 0.5-17).\\tMETHODS\\nmedian renal ischemic time to revascularization was 24 hours (range 7-168).\\tRESULTS\\ntechnical success was 100%, with 1 procedure-related access complication.\\tRESULTS\\ntemporary dialysis dependency occurred in 4 patients.\\tRESULTS\\nmean in-hospital stay was 17 days (range 7-32) with 1 postoperative death at day 10 due to cardiac arrest of unknown cause.\\tRESULTS\\nmean follow-up was 10.3 months (range 1.5-27) in 5 of 6 discharged patients.\\tRESULTS\\nduring follow-up, 1 reintervention for recurrent occlusion was performed.\\tRESULTS\\nat follow-up imaging, all renal arteries were patent.\\tRESULTS\\nno permanent dialysis dependency occurred.\\tRESULTS\\nrenal function can be salvaged by delayed revascularization for rao with prolonged renal ischemia.\\tCONCLUSIONS\\nthe endovascular approach with aspiration thrombectomy, local lysis, and stent-graft relining is a feasible technique for revascularization after rao in patients with fenestrated-branched evar or open visceral debranching.\\tCONCLUSIONS\\nlittle is known regarding real-world health outcomes data among us psoriasis patients, but electronic health records (ehr) that collect structured data at point-of-care may provide opportunities to investigate real-world health outcomes among psoriasis patients.\\tBACKGROUND\\nour objective was to investigate patient-perceived treatment effectiveness, patterns of medication use (duration, switching, and/or discontinuation), healthcare resource utilization, and medication costs using real-world data from psoriasis patients.\\tOBJECTIVE\\ndata for adults (>/=18-years) with a dermatology provider-given diagnosis of psoriasis from 9/2014-9/2015 were obtained from dermatology practices using a widely used us dermatology-specific ehr containing over 500,000 psoriasis patients.\\tMETHODS\\ndisease severity was captured by static physician\\'s global assessment and body surface area.\\tMETHODS\\npatient-perceived treatment effectiveness was assessed by a pre-defined question.\\tMETHODS\\ntreatment switching and duration were documented.\\tMETHODS\\nreasons for discontinuations were assessed using pre-defined selections.\\tMETHODS\\nhealthcare resource utilization was defined by visit frequency and complexity.\\tMETHODS\\nfrom 82,621 patients with psoriasis during the study period, patient-perceived treatment effectiveness was investigated in 2200 patients.\\tRESULTS\\nthe proportion of patients reporting \"strongly agree\" when asked if their treatment was effective was highest for biologics (73%) and those reporting treatment adherence (55%).\\tRESULTS\\nin 16,000 patients who received oral systemics and 21,087 patients who received biologics, median treatment duration was longer for those who received biologics (160 vs. 113 days, respectively).\\tRESULTS\\ntreatment switching was less frequent among patients on systemic monotherapies compared to those on combination therapies.\\tRESULTS\\nthe most common reason for discontinuing biologics was loss of efficacy; the most common reason for discontinuing orals was side effects.\\tRESULTS\\nin 28,754 patients, higher disease severity was associated with increased healthcare resource utilization (increased visit frequency and complexity).\\tRESULTS\\nwhen compared between treatment groups (n = 10,454), healthcare resource utilization was highest for phototherapy.\\tRESULTS\\nannual medication costs were higher for biologics ($21,977) than oral systemics ($3413).\\tRESULTS\\nreal-world research using a widely implemented dermatology ehr provided valuable insights on patient perceived treatment effectiveness, patterns of medication usage, healthcare resource utilization, and medication costs for psoriasis patients in the us.\\tCONCLUSIONS\\nthis study and others utilizing ehrs for real-world research may assist clinical and payer decisions regarding the management of psoriasis.\\tCONCLUSIONS\\npatient safety (ps) is one of the essential elements of health care quality and a priority of healthcare systems in most countries.\\tBACKGROUND\\nthus the creation of validated instruments and the implementation of systems that measure patient safety are considered to be of great importance worldwide.\\tBACKGROUND\\nthe present paper aims to illustrate the process of linguistic validation, cross-cultural verification and adaptation of the bulgarian version of the hospital survey on patient safety culture (b-hsopsc) and its test-retest reliability.\\tOBJECTIVE\\nthe study design is cross-sectional.\\tMETHODS\\nthe hsopsc questionnaire consists of 42 questions, grouped in 12 different subscales that measure patient safety culture.\\tMETHODS\\ninternal con-sistency was assessed using cronbach\\'s alpha.\\tMETHODS\\nthe wilcoxon signed-rank test and the split-half method were used; the spear-man-brown coefficient was calculated.\\tMETHODS\\nthe overall cronbach\\'s alpha for b-hsopsc is 0.918.\\tRESULTS\\nsubscales 7 staffing and 12 overall perceptions of safety had the lowest coefficients.\\tRESULTS\\nthe high reliability of the instrument was confirmed by the split-half method (0.97) and icc-coefficient (0.95).\\tRESULTS\\nthe lowest values of spearmen-broun coefficients were found in items a13 and a14.\\tRESULTS\\nthe study offers an analysis of the results of the linguistic validation of the b-hsopsc and its test-retest reliability.\\tCONCLUSIONS\\nthe psychometric characteristics of the questions revealed good validity and reliability, except two questions.\\tCONCLUSIONS\\nin the future, the instrument will be administered to the target population in the main study so that the psychometric properties of the instrument can be verified.\\tCONCLUSIONS\\nfamily therapy is a potential strategy to increase family support for those suffering from perinatal depression.\\tBACKGROUND\\nfamily therapeutic interventions for this population typically target depressed women and their adult family members to improve family functioning and reduce depressive symptoms.\\tBACKGROUND\\nthis systematic review and meta-analysis is a synthesis of the current evidence on the usefulness of family therapy interventions in the prevention and treatment of perinatal depression and impacts on maternal depressive symptoms and family functioning.\\tOBJECTIVE\\nthis study used the cochrane collaboration guidelines for systematic reviews and meta-analyses.\\tMETHODS\\nsix electronic databases were searched for randomized controlled trials and cluster randomized trials.\\tMETHODS\\nthe primary outcomes included maternal depressive symptoms and family functioning.\\tMETHODS\\nseven studies were included in the qualitative and quantitative analyses.\\tMETHODS\\nfixed effects models showed statistically significant reductions in depressive symptoms at post-intervention in intervention group mothers.\\tRESULTS\\nintervention intensity and level of family involvement moderated intervention impacts on maternal depression.\\tRESULTS\\na fixed effects model showed a trend in improving family functioning at post-intervention in intervention group couples.\\tRESULTS\\nalthough a limited number of controlled trials on family therapeutic interventions for this population exist, the findings show that these types of interventions are effective in both the prevention and treatment of perinatal depression.\\tCONCLUSIONS\\nrecommendations for future research are addressed.\\tCONCLUSIONS\\nsystematic review and meta-analysis  prospero, crd42017075150.\\tNONE\\na computationally rich algorithm of synaptic plasticity has been proposed based on the experimental observation that the sign and amplitude of the change in synaptic weight is dictated by the temporal order and temporal contiguity between pre- and postsynaptic activities.\\tBACKGROUND\\nfor more than a decade, this spike-timing-dependent plasticity (stdp) has been studied mainly in brain slices of different brain structures and cultured neurons.\\tBACKGROUND\\nalthough not yet compelling, evidences for the stdp rule in the intact brain, including primary sensory cortices, have been provided lastly.\\tBACKGROUND\\nfrom insects to mammals, the presentation of precisely timed sensory inputs drives synaptic and functional plasticity in the intact central nervous system, with similar timing requirements than the in vitro defined stdp rule.\\tRESULTS\\nthe convergent evolution of this plasticity rule in species belonging to so distant phylogenic groups points to the efficiency of stdp, as a mechanism for modifying synaptic weights, as the basis of activity-dependent development, learning and memory.\\tRESULTS\\nin spite of the ubiquity of stdp phenomena, a number of significant variations of the rule are observed in different structures, neuronal types and even synapses on the same neuron, as well as between in vitro and in vivo conditions.\\tCONCLUSIONS\\nin addition, the state of the neuronal network, its ongoing activity and the activation of ascending neuromodulatory systems in different behavioral conditions have dramatic consequences on the expression of spike-timing-dependent synaptic plasticity, and should be further explored.\\tCONCLUSIONS\\noligodendrocyte progenitor cells (opcs) have the ability to divide or to growth arrest and differentiate into myelinating oligodendrocytes in the developing brain.\\tBACKGROUND\\ndue to their high number and the persistence of their proliferative capacity in the adult brain, opcs are being studied as potential targets for myelin repair and also as a potential source of brain tumors.\\tBACKGROUND\\nthis study addresses the molecular mechanisms regulating the transcriptional changes occurring at the critical transition between proliferation and cell cycle exit in cultured opcs.\\tOBJECTIVE\\nusing bioinformatic analysis of existing datasets, we identified c-myc as a key transcriptional regulator of this transition and confirmed direct binding of this transcription factor to identified target genes using chromatin immunoprecipitation.\\tMETHODS\\nthe expression of c-myc was elevated in proliferating opcs, where it also bound to the promoter of genes involved in cell cycle regulation (i.e. cdc2) or chromosome organization (i.e. h2afz).\\tRESULTS\\nsilencing of c-myc was associated with decreased histone acetylation at target gene promoters and consequent decrease of gene transcripts. c-myc silencing also induced a global increase of repressive histone methylation and premature peripheral nuclear chromatin compaction while promoting the progression towards differentiation.\\tRESULTS\\nwe conclude that c-myc is an important modulator of the transition between proliferation and differentiation of opcs, although its decrease is not sufficient to induce progression into a myelinating phenotype.\\tCONCLUSIONS\\nthe potential of boron-containing lipids with three different structures, which were intended for use in boron neutron capture therapy, was investigated.\\tOBJECTIVE\\nall three types of boron lipids contained the anionic dodecaborate cluster as the headgroup.\\tBACKGROUND\\ntheir effects on two different tumor models in mice following intravenous injection were tested; for this, liposomes with boron lipid, distearoyl phosphatidylcholine, and cholesterol as helper lipids, and containing a polyethylene glycol lipid for steric protection, were administered intravenously into tumor-bearing mice (c3h mice for sccvii squamous cell carcinoma and balb/c mice for ct26/wt colon carcinoma).\\tMETHODS\\nwith the exception of one lipid (b-thf-14), the lipids were well tolerated, and no other animal was lost due to systemic toxicity.\\tRESULTS\\nthe lipid which led to death was not found to be much more toxic in cell culture than the other boron lipids.\\tRESULTS\\nall of the lipids that were well tolerated showed hemorrhage in both tumor models within a few hours after administration.\\tRESULTS\\nthe hemorrhage could be seen by in vivo magnetic resonance and histology, and was found to occur within a few hours.\\tRESULTS\\nthe degree of hemorrhage depended on the amount of boron administered and on the tumor model.\\tRESULTS\\nthe observed unwanted effect of the lipids precludes their use in boron neutron capture therapy.\\tCONCLUSIONS\\na two-day-old male neonate was inadvertently immunized with 20-times the recommended dose of bacillus calmette-guerin (bcg) vaccine (1.0 ml instead of 0.05 ml).\\tBACKGROUND\\nexamination of the neonate after one day revealed no signs of local reaction at the site of injection or systemic manifestation.\\tRESULTS\\nhowever, nine days later, he developed a swelling (4 x 3 cm) at the site of injection without any enlargement of the lymph node, pallor, or jaundice.\\tRESULTS\\na needle aspiration of the swelling was done and sent for culture.\\tMETHODS\\nthe culture showed the bcg strain only.\\tRESULTS\\nthe infant was not started on antituberculosis medication, due to the absence of symptoms suggestive of systemic disease.\\tRESULTS\\nthere were no other complications up to the age of 18 months.\\tRESULTS\\nthe case highlights the importance of administering the correct dose and using the appropriate technique of the bcg vaccine, and explains the management options to prevent local and systematic complications that may occur due to overdose.\\tCONCLUSIONS\\ninternational case definitions recommended by the centers for disease control and prevention (cdc), the european centre for disease prevention and control (ecdc), and the world health organization (who) are commonly used for influenza surveillance.\\tBACKGROUND\\nwe evaluated clinical factors associated with the laboratory-confirmed diagnosis of influenza and the performance of these influenza case definitions by using a complete dataset of 14,994 patients with acute respiratory infection (ari) from whom a specimen was collected between august 2009 and april 2014 by the groupes regionaux d\\'observation de la grippe (grog), a french national influenza surveillance network.\\tMETHODS\\ncough and fever >/= 39 degrees c most accurately predicted an influenza infection in all age groups.\\tRESULTS\\nseveral other symptoms were associated with an increased risk of influenza (headache, weakness, myalgia, coryza) or decreased risk (adenopathy, pharyngitis, shortness of breath, otitis/otalgia, bronchitis/ bronchiolitis), but not throughout all age groups.\\tRESULTS\\nthe who case definition for influenza-like illness (ili) had the highest specificity with 21.4%, while the ecdc ili case definition had the highest sensitivity with 96.1%.\\tRESULTS\\nthe diagnosis among children younger than 5 years remains challenging.\\tCONCLUSIONS\\nthe study compared the performance of clinical influenza definitions based on outpatient surveillance and will contribute to improving the comparability of data shared at international level.\\tCONCLUSIONS\\ncognitive models of reading predict that high frequency regular words can be read in more than one way.\\tBACKGROUND\\nwe investigated this hypothesis using functional mri and covariance analysis in 43 healthy skilled readers.\\tMETHODS\\nour results dissociated two sets of regions that were differentially engaged across subjects who were reading the same familiar words.\\tRESULTS\\nsome subjects showed more activation in left inferior frontal and anterior occipito-temporal regions while other subjects showed more activation in right inferior parietal and left posterior occipito-temporal regions.\\tRESULTS\\nto explore the behavioural correlates of these systems, we measured the difference between reading speed for irregularly spelled words relative to pseudowords outside the scanner in fifteen of our subjects and correlated this measure with fmri activation for reading familiar words.\\tMETHODS\\nthe faster the lexical reading the greater the activation in left posterior occipito-temporal and right inferior parietal regions.\\tRESULTS\\nconversely, the slower the lexical reading the greater the activation in left anterior occipito-temporal and left ventral inferior frontal regions.\\tRESULTS\\nthus, the double dissociation in irregular and pseudoword reading behaviour predicted the double dissociation in neuronal activation for reading familiar words.\\tCONCLUSIONS\\nwe discuss the implications of these results which may be important for understanding how reading is learnt in childhood or re-learnt following brain damage in adulthood.\\tCONCLUSIONS\\nsupporting an adult with autism spectrum disorder (asd) can be associated with family stress but also with personal growth and resilience.\\tBACKGROUND\\nresearch providing insight into how typically developing siblings make sense of their unique sibling relationships in adulthood remains limited.\\tBACKGROUND\\nusing interpretative phenomenological analysis, this study explored subjective experiences of eight siblings of adults with asd and co-occurring intellectual disability.\\tOBJECTIVE\\nanalysis of interview transcripts revealed a complex lived experience explained by the overarching theme \"engaging with and navigating limbo\", which was characterized by commitment to the sibling relationship, power tensions in the family, uncertainty about the future and negotiating the tension between relational closeness and distance.\\tRESULTS\\nusing family systems theory, overregulation and closed communication emerged as processes relevant to families living with asd.\\tRESULTS\\nclinical opportunities to support family communication, change tolerance and belonging are discussed.\\tCONCLUSIONS\\nsmall group work is an effective teaching-learning approach in nursing education to enhance students\\' learning in theoretical knowledge and skill development.\\tBACKGROUND\\ndespite its potential advantageous effects on learning, little is known about its actual effects on students\\' learning from students\\' and educators\\' perspectives.\\tBACKGROUND\\nto understand students\\' learning through small group work from the perspectives of students and educators.\\tOBJECTIVE\\na qualitative study with focus group interviews was carried out.\\tMETHODS\\nsemi-structured interviews with open-ended questions were performed with 13 undergraduate nursing students and 10 educators.\\tMETHODS\\nfour main themes, \"initiative learning\", \"empowerment of interactive group dynamics\", \"factors for creating effective learning environment\", and \"barriers influencing students\\' learning\", were derived regarding students\\' learning in small group work based on the perspectives of the participants.\\tRESULTS\\nthe results showed the importance of learning attitudes of students in individual and group learning.\\tRESULTS\\nfactors for creating an effective learning environment, including preference for forming groups, effective group size, and adequacy of discussion, facilitate students\\' learning with the enhancement of learning engagement in small group work.\\tRESULTS\\nthe identified barriers, such as \"excessive group work\", \"conflicts\", and \"passive team members\" can reduce students\\' motivation and enjoyment of learning.\\tRESULTS\\nsmall group work is recognized as an effective teaching method for knowledge enhancement and skill development in nursing education.\\tCONCLUSIONS\\nall identified themes are important to understand the initiatives of students and group learning, factors influencing an effective learning environment, and barriers hindering students\\' learning.\\tCONCLUSIONS\\nnurse educators should pay more attention to the factors that influence an effective learning environment and reduce students\\' commitment and group dynamics.\\tCONCLUSIONS\\nmoreover, students may need further support to reduce barriers that impede students\\' learning motivation and enjoyment.\\tCONCLUSIONS\\nalthough uterine fibroids (ufs) continue to place a major burden on female reproductive health, the mechanisms behind their origin remain undetermined.\\tBACKGROUND\\nnormal myometrial stem cells may be transformed into tumor-initiating stem cells, causing ufs, due to unknown causes of somatic mutations in med12, found in up to 85% of sporadically formed ufs.\\tBACKGROUND\\nit is well established in other tumor types that defective dna repair increases the risk of such tumorigenic somatic mutations, mechanisms not yet studied in ufs.\\tBACKGROUND\\nto examine the putative cause(s) of this stem cell transformation, we analyzed dna repair within stem cells from human ufs compared to those from adjacent myometrium to determine whether dna repair in fibroid stem cells is compromised.\\tOBJECTIVE\\nhuman fibroid (f) and adjacent myometrial (myo) stem cells were isolated from fresh tissues, and gene expression relating to dna repair was analyzed.\\tMETHODS\\nfibroid stem cells differentially expressed dna repair genes related to dna double- (dsbs) and single-strand breaks.\\tMETHODS\\ndna damage was measured using alkaline comet assay.\\tMETHODS\\nadditionally, dna dsbs were induced in these stem cells and dna dsb repair evaluated (1) by determining changes in phosphorylation of dna dsb-related proteins and (2) by determining differences in gamma-h2ax foci formation and relative dna repair protein rad50 expression.\\tMETHODS\\noverall, f stem cells demonstrated increased dna damage and altered dna repair gene expression and signaling, suggesting that human f stem cells demonstrate impaired dna repair.\\tRESULTS\\ncompromised f stem cell dna repair may contribute to further mutagenesis and, consequently, further growth and propagation of uf tumors.\\tCONCLUSIONS\\nrecent studies have shown a lower prevalence of metabolic syndrome (msyn) in vegetarians (veg) despite the inconclusive evidence from others.\\tBACKGROUND\\nto verify the association between diet and other lifestyle characteristics and the prevalence of msyn, cardiovascular risk factors (crf), and framingham risk score (frs) in apparently healthy veg and omnivorous (omn) men.\\tOBJECTIVE\\nin this cross-sectional study, 88 apparently healthy men >/= 35 years, 44 veg and 44 omn, were assessed for anthropometric data, blood pressure, blood lipids, glucose, c-reactive protein (crp) and frs.\\tMETHODS\\nto test the association between lifestyle and msyn, student t test, chi-square test, and multiple logistic regression model were used.\\tMETHODS\\na significance level of 5% was considered in all statistical analyses.\\tMETHODS\\nseveral crf were significantly lower in veg than in omn: body mass index, systolic blood pressure, diastolic blood pressure, fasting serum total cholesterol, ldl-cholesterol, apolipoprotein b, glucose, and glycated hemoglobin (all p < 0.05).\\tRESULTS\\nthe frs mean was lower in veg than in omn (2.98 +/- 3.7 vs 4.82 +/- 4.8, p = 0.029).\\tRESULTS\\nthe percentage of individuals with msyn was higher among omn than among veg (52.3 vs.15.9%) (p < 0.001).\\tRESULTS\\nthe omn diet was associated with msyn (or: 6.28 95%ci 2.11-18.71) and alterations in most msyn components in the multiple regression model independently of caloric intake, age and physical activity.\\tRESULTS\\nthe veg diet was associated with lower crf, frs and percentage of individuals with msyn.\\tCONCLUSIONS\\nreducing readmissions is an important quality improvement metric.\\tBACKGROUND\\nwe sought to investigate patterns of 90-day readmission after hepato-pancreatic (hp) procedures.\\tOBJECTIVE\\nthe nationwide readmissions database (nrd) was used to identify patients undergoing hp procedures between 2010 and 2014.\\tMETHODS\\npatients were stratified according to benign versus malignant hp diagnoses and as index (same hospital as operation) versus non-index (different hospital) readmissions.\\tMETHODS\\namong the 41 059 patients who underwent hp procedures, 26 563 (65%) underwent a liver resection while 14 496 (35%) pancreatic resection.\\tRESULTS\\namong all patients, 11 902 (29%) had a benign diagnosis versus 29 157 (71%) who had a cancer diagnosis.\\tRESULTS\\noverall 90-day readmission was 22% (n = 8 998) with a slight increase in readmissions among patients with a malignant (n = 6 655;23%) versus benign (n = 2 343;20%) diagnosis (p < 0.001).\\tRESULTS\\nreadmission to an index hospital was more common (n = 7 316 81%) versus a non-index hospital (n = 1 682 19%).\\tRESULTS\\nnon-index hospital readmissions were more frequent among patients with malignant hp diagnoses (or, 1.41;p = 0.001).\\tRESULTS\\nup to one in four patients were readmitted after hp surgery.\\tCONCLUSIONS\\nlate readmission was more common among patients with a cancer-diagnosis.\\tCONCLUSIONS\\nwhile most readmissions occurred at the index hospital, 19% of all readmissions occurred at a non-index hospital and were more frequent among patients with malignant diagnoses.\\tCONCLUSIONS\\nin computed tomography there are different situations where reconstruction has to be performed with limited raw data.\\tBACKGROUND\\nin the past few years it has been shown that algorithms which are based on compressed sensing theory are able to handle incomplete datasets quite well.\\tBACKGROUND\\nas a cost function these algorithms use the l(1)-norm of the image after it has been transformed by a sparsifying transformation.\\tBACKGROUND\\nthis yields to an inequality-constrained convex optimization problem.\\tBACKGROUND\\ndue to the large size of the optimization problem some heuristic optimization algorithms have been proposed in the past few years.\\tBACKGROUND\\nthe most popular way is optimizing the raw data and sparsity cost functions separately in an alternating manner.\\tBACKGROUND\\nin this paper we will follow this strategy and present a new method to adapt these optimization steps.\\tOBJECTIVE\\ncompared to existing methods which perform similarly, the proposed method needs no a priori knowledge about the raw data consistency.\\tMETHODS\\nit is ensured that the algorithm converges to the lowest possible value of the raw data cost function, while holding the sparsity constraint at a low value.\\tMETHODS\\nthis is achieved by transferring the step-size determination of both optimization procedures into the raw data domain, where they are adapted to each other.\\tMETHODS\\nto evaluate the algorithm, we process measured clinical datasets.\\tMETHODS\\nto cover a wide field of possible applications, we focus on the problems of angular undersampling, data lost due to metal implants, limited view angle tomography and interior tomography.\\tMETHODS\\nin all cases the presented method reaches convergence within less than 25 iteration steps, while using a constant set of algorithm control parameters.\\tRESULTS\\nthe image artifacts caused by incomplete raw data are mostly removed without introducing new effects like staircasing.\\tRESULTS\\nall scenarios are compared to an existing implementation of the asd-pocs algorithm, which realizes the step-size adaption in a different way.\\tCONCLUSIONS\\nadditional prior information as proposed by the piccs algorithm can be incorporated easily into the optimization process.\\tCONCLUSIONS\\ndata about the molecular pathogenesis of hepatitis c-related hepatocellular carcinoma (hcc) are still challenging.\\tBACKGROUND\\ntherefore, we tried to investigate the epigenetic study of three nominated genes (apc, p14, and e-cadherin) in the pathogenesis of hcv-related hcc in egyptian.\\tOBJECTIVE\\nbetween march 2016 and march 2017, the dna methylation, and quantification using (epigenetic elisa kit) for e-cadherin, apc, and p14 genes were studied in three groups of patients: hcv related liver cirrhosis without hcc group (lc-group; n= 20), hcc on top of hcv-related cirrhosis (hcc-group; n= 20), and a third apparently healthy control group (control-group; n= 10).\\tMETHODS\\ne-cad methylation showed non-significant differences between groups.\\tRESULTS\\np14 methylation was occurred only in hcc-group (45%).\\tRESULTS\\napc methylation was the highest in hcc group (70%).\\tRESULTS\\nmethylation level was high in hcc group in comparison to both lc and control groups (p< 0.001).\\tRESULTS\\ndna methylation at a cutoff point > 2.9 ng/ml predicts hcc in lc-group with 90% sensitivity and 80% specificity and at level > 2.3 ng/ml had 95% sensitivity and 90% specificity in control-group.\\tRESULTS\\nthe pooled sensitivity, specificity, positive and negative predictive values and accuracy were 90%, 60%, 69.2, 85.7 and 75% respectively.\\tRESULTS\\naberrant dna methylation of multiple genes is associated with disease progression in hcv related cirrhosis.\\tCONCLUSIONS\\nmoreover, early detection of promotor methylation of these may sever as good biomarker for early detection and therapeutic targets in high risk patients.\\tCONCLUSIONS\\nhemovigilance like quality systems and audits has become an integral part of the blood transfusion service (bts) in the developed world and has contributed greatly to the development of the blood service.\\tBACKGROUND\\nhowever developing countries are still grappling with donor recruitment and efforts towards sufficiency and safety of the blood supply.\\tBACKGROUND\\nin these countries the bts is generally fragmented and a national hemovigilance program would be difficult to implement.\\tBACKGROUND\\nhowever a few developing countries have an effective and sustainable blood program that can deliver equitable, safe and sufficient blood supply to the nation.\\tBACKGROUND\\ndifferent models of hemovigilance program have been introduced with variable success.\\tBACKGROUND\\nthere are deficiencies but the data collected provided important information that can be presented to the health authorities for effective interventions.\\tRESULTS\\nhemovigilance program modeled from developed countries require expertise and resources that are not available in many developing countries.\\tCONCLUSIONS\\nwhatever resources that are available should be utilized to correct deficiencies that are already apparent and obvious.\\tCONCLUSIONS\\nbesides there are other tools that can be used to monitor the blood program in the developing countries depending on the need and the resources available.\\tCONCLUSIONS\\nmore importantly the data collected should be accurate and are used and taken into consideration in formulating guidelines, standards and policies and to affect appropriate interventions.\\tCONCLUSIONS\\nany surveillance program should be introduced in a stepwise manner as the blood transfusion service develops.\\tCONCLUSIONS\\ncontinuous video electroencephalographic (eeg) (cveeg) monitoring is emerging as the standard of care for diagnosis and management of neonatal seizures.\\tBACKGROUND\\nhowever, cveeg is labor-intensive and the need to initiate and interpret studies on a 24-hour basis is a major limitation.\\tBACKGROUND\\nthis study aims at establishing consistency in monitoring of newborns admitted to 2 different neonatal intensive care units (nicus) managed by the same neurocritical care team.\\tOBJECTIVE\\nneonatal nurses were trained to apply scalp electrodes, troubleshoot technical issues, and identify amplitude-integrated eeg abnormalities.\\tMETHODS\\nguidelines, checklists, and visual training modules were developed.\\tMETHODS\\na central network system allowed remote access to the cveegs by the epileptologist for timely interpretation and feedback.\\tMETHODS\\na cohort of 100 infants with moderate to severe hypoxic-ischemic encephalopathy before and after the training program was compared.\\tMETHODS\\nduring the study period, 192 cveegs were obtained.\\tRESULTS\\nthe time to initiate brain monitoring decreased by 31.5 hours posttraining; this, in turn, led to an increase in electrographic seizure detection (20% before vs 34% after), decrease in seizure clinical misdiagnosis (65% before and 36% after), and reduction in antiseizure medication burden.\\tRESULTS\\ntraining experienced nicu nurses to set up, start, and monitor cveegs can decrease the time to initiate cveegs, which may lead to better seizure diagnosis and management.\\tCONCLUSIONS\\nfurther understanding of practice bundles for best supporting infants at risk and being treated for seizures needs to be evaluated for integration into practice.\\tCONCLUSIONS\\nvideo abstract available at https://journals.lww.com/advancesinneonatalcare/pages/videogallery.aspx.\\tNONE\\nthe tumour necrosis factor (tnf)-alpha -238 and -308 polymorphisms are potential candidate genes that may serve as modulators in susceptibility to acne.\\tBACKGROUND\\nwe performed a meta-analysis of case-control studies to assess the association of the tnf-alpha -238 and -308 polymorphisms with acne susceptibility.\\tOBJECTIVE\\nthe pubmed, embase, scopus, sinomed and china national knowledge infrastructure databases were systematically searched to identify eligible studies.\\tMETHODS\\nor and 95% ci were calculated to evaluate the association.\\tMETHODS\\nwe identified seven independent case-control studies up to september 2017.\\tRESULTS\\nthe results revealed an association between the a allele of the tnf-alpha -238 polymorphism and increased susceptibility to acne in asian (or = 1.61, 95% ci 1.08-2.40) but not in european (or = 1.10, 95% ci 0.63-1.93) populations.\\tRESULTS\\nfor the tnf-alpha -308 polymorphism, the minor a allele was associated with increased acne susceptibility in asian (or = 1.93, 95% ci 1.15-3.24) and turkish (or = 4.14, 95% ci 2.25-7.61) populations, but not in european (or = 1.17, 95% ci 0.66-2.06) or arab (or = 0.88, 95% ci 0.64-1.22) populations.\\tRESULTS\\negger test found no evidence of publication bias.\\tRESULTS\\nour findings suggest that the tnf-alpha -238 a allele is associated with increased susceptibility to acne in asian but not in european populations, while the tnf-alpha -308 a allele is associated with increased susceptibility to acne in asian and turkish populations but not in european or arab populations.\\tCONCLUSIONS\\nto create a gene expression signature (ges) to represent the biological effects of a combination of known drugs for bipolar disorder (bd) on cultured human neuronal cells (nt2-n) and rat brains, which also has evidence of differential expression in individuals with bd.\\tOBJECTIVE\\nto use the ges to identify new drugs for bd using connectivity map (cmap).\\tOBJECTIVE\\nnt2-n (n = 20) cells and rats (n = 8) were treated with a bd drug combination (lithium, valproate, quetiapine and lamotrigine) or vehicle for 24 and 6 hours, respectively.\\tMETHODS\\nfollowing next generation sequencing, the differential expression of genes was assessed using edger in r.\\tMETHODS\\nthe derived ges was compared to differentially expressed genes in post-mortem brains of individuals with bd.\\tMETHODS\\nthe ges was then used in cmap analysis to identify similarly acting drugs.\\tMETHODS\\na total of 88 genes showed evidence of differential expression in response to the drug combination in both models, and therefore comprised the ges.\\tRESULTS\\nsix of these genes showed evidence of differential expression in post-mortem brains of individuals with bd.\\tRESULTS\\ncmap analysis identified 10 compounds (camptothecin, chlorambucil, flupenthixol, valdecoxib, rescinnamine, gw-8510, cinnarizine, lomustine, mifepristone and nimesulide) acting similarly to the bd drug combination.\\tRESULTS\\nthis study shows that ges and cmap can be used as tools to repurpose drugs for bd.\\tCONCLUSIONS\\nlysis of rbcs during numerous clinical settings such as severe hemolytic anemia, infection, tissue injury, or blood transfusion releases the endogenous damage-associated molecular pattern, hemoglobin (hb), into the plasma.\\tBACKGROUND\\nthe redox-reactive hb generates cytotoxic reactive oxygen species, disrupting the redox balance and impairing the immune-responsive blood cells.\\tBACKGROUND\\ntherefore, it is crucial to understand how the immune system defends against the cytotoxic hb.\\tOBJECTIVE\\nwe identified a shortcut \"capture and quench\" mechanism of detoxification of hb by the monocyte scavenger receptor cd163, independent of the well-known dominant antioxidant, haptoglobin.\\tRESULTS\\nour findings support a highly efficient two-pass mechanism of detoxification and clearance of hb: 1) a direct suppression of hb-pseudoperoxidase activity by cd163, involving an autocrine loop of cd163 shedding, sequestration of hb, recycling, and homeostasis of cd163 in human monocytes and 2) paracrine transactivation of endothelial cells by the shedded soluble cd163 (scd163), which further detoxifies and clears residual hb.\\tRESULTS\\nwe showed that scd163 and igg interact with free hb in the plasma and subsequently the scd163-hb-igg complex is endocytosed into monocytes via fcgammar.\\tRESULTS\\nthe endocytosed scd163 is recycled to restore the homeostasis of cd163 on the monocyte membrane in an autocrine cycle, whereas the internalized hb is catabolized.\\tRESULTS\\nusing ex vivo coculture experiments, we demonstrated that the monocyte-derived scd163 and igg shuttle residual plasma hb into the proximal endothelial cells.\\tRESULTS\\nthese findings suggest that cd163 and igg collaborate to engage monocytes and endothelial cells in a two-pass detoxification mechanism to mount a systemic defense against hb-induced oxidative stress.\\tCONCLUSIONS\\nthe immune system plays an important role in the breast cancer development.\\tBACKGROUND\\nox40l (also known as tnfsf4), a membrane protein, which is a member of the tumor necrosis factor super family binds to its receptor ox40 and this co-stimulation has a crucial role in t cell proliferation, survival and cytokine release.\\tBACKGROUND\\nprevious studies have shown that ox40l is associated with cancer.\\tBACKGROUND\\ndue to the importance of the t cells in antitumor activities of ox40l we studied the association of rs3850641 (a-->g) polymorphism of ox40l gene with the breast cancer.\\tOBJECTIVE\\nthe study included 123 women with breast cancer and 126 healthy volunteers with no signs of cancer.\\tMETHODS\\ngenomic dna was extracted from blood leucocytes.\\tMETHODS\\ngenotype and allele frequencies were determined in patients and control cases with the method of polymerase chain reaction-restriction fragment length polymorphism and the statistical analysis was performed by med calc.\\tMETHODS\\nthe prevalence of genotype frequencies of aa/ag/gg were 60.9%, 30.08% and 8.9% in patients with breast cancer cases and 74.6%, 18.25% and 7.14% in healthy volunteers while the a and g allelic frequency was 76.01 and 23.98% in patients and 83.73 and 16.26% in healthy controls, respectively.\\tRESULTS\\nstatistical analysis has shown signi fi cant difference from the comparison of genotype (p = 0.03).\\tRESULTS\\nit is concluded that the rs3850641 snp is significantly associated with the breast cancer susceptibility in iranian population.\\tCONCLUSIONS\\nhowever, further studies in larger populations including other genetic and environmental factors are required to achieve conclusion.\\tCONCLUSIONS\\nto review the level of standardization of frontalis-orbicularis muscle advancement to correct severe blepharoptosis and the degree of scientific evidence supporting the procedure as a useful modality of blepharoptosis repair.\\tOBJECTIVE\\nthe authors searched the medline, lilacs, and scopus databases for all articles in english, spanish, and french that used as keywords the terms \"frontalis muscle flap,\" \"orbicularis muscle flap,\" and \"ptosis.\"\\tMETHODS\\ndata retrieved included authorship specialty, geographic region where the surgeries were performed, characteristics of the samples reported, type and dimensions of the flaps used, time of follow-up, rate of undercorrection, and complications.\\tMETHODS\\nthirty-eight articles were retrieved and analyzed.\\tRESULTS\\nmost studies originated from asian countries, especially china, taiwan, and korea.\\tRESULTS\\nmany variations of the procedure were encountered, including location of incisions and frontalis flap design.\\tRESULTS\\nthere were 23 case series with more than 10 patients.\\tRESULTS\\nnone compared the procedure to conventional frontalis suspension surgery.\\tRESULTS\\nthe samples were not homogeneous, including patients with different type of ptosis, variable degrees of levator function, and using distinct methods of evaluating eyelid position.\\tRESULTS\\nundercorrection rates ranged from 1.8% to 38% with a median value of 12.2%.\\tRESULTS\\nthe rate of complications (eyelid crease abnormalities, entropion, hematoma, and supraorbital nerve injury) was low.\\tRESULTS\\nthe direct frontalis-orbicularis muscle advancement has been judged positively in all reports analyzed.\\tCONCLUSIONS\\nhowever, the level of standardization of the surgery is low, and the reported series are not homogeneous.\\tCONCLUSIONS\\nfurther studies are needed to better evaluate this operation.\\tCONCLUSIONS\\nthe state of development of advanced embryos of the direct-developing ecuadorian caecilian caecilia orientalis (caeciliidae: gymnophiona: amphibia) was examined.\\tOBJECTIVE\\nbecause it is established that development is correlated with reproductive modes in a number of features, we included comparison with taxa that represent the major reproductive modes and all of the modern normal tables and ossification sequences.\\tBACKGROUND\\nthe embryos of c. orientalis most closely resemble those of stage 47/48 gegeneophis ramaswamii, an indian caeciliid, and stage 47/48 hypogeophis rostratus, a seychellian caeciliid, both direct developers, in details of bone mineralization, chondrocranial degeneration, and vertebrogenesis.\\tRESULTS\\nthey are most like stage 45 h. rostratus in external features (gills, pigmentation, etc.).\\tRESULTS\\nthey are less similar to prehatchings of ichthyophis kohtaoensis, an ichthyophiid with free-living larvae, and to fetuses of the viviparous caeciliid dermophis mexicanus and the viviparous typhlonectid typhlonectes compressicauda at comparable total lengths in both skeletal development and external features.\\tRESULTS\\nthe similarity of developmental features among the direct-developers suggests a correlation with mode of life history.\\tRESULTS\\na noteworthy feature is that c. orientalis has an armature of multiple rows of teeth on the lower jaw with tooth crowns that resemble the \"fetal\" teeth of viviparous taxa and that are covered with a layer of oral mucosal epithelium until full development and eruption, but the upper jaw bears a single row of widely spaced, elongate, slightly recurved teeth that resemble those of the adult.\\tCONCLUSIONS\\nthere are minimal data regarding clinical outcomes and echocardiographic findings after transcatheter mitral valve-in-valve replacement (tmvr) compared with redo surgical mitral valve replacement (smvr).\\tBACKGROUND\\ntmvr therapy has emerged as therapy for a degenerated bioprosthetic valve failure.\\tBACKGROUND\\nthe authors retrospectively identified patients with degenerated mitral bioprostheses who underwent redo smvr or tmvr at 3 u.s. institutions.\\tMETHODS\\nthe authors compared clinical and echocardiographic outcomes of patients who had tmvr with those of patients who underwent redo smvr.\\tOBJECTIVE\\nsixty-two patients underwent tmvr and 59 patients underwent smvr during the study period.\\tRESULTS\\nmean age and the society of thoracic surgeons predicted risk of mortality (sts prom) scores were significantly higher in patients with tmvr than in those with smvr (age 74.9 +/- 9.4 years vs. 63.7 +/- 14.9 years; p < 0.001; sts prom 12.7 +/- 8.0% vs. 8.7 +/- 10.1%; p < 0.0001).\\tRESULTS\\ntotal procedure time, intensive care unit hours, and post-procedure length of stay were all significantly shorter in the tmvr group.\\tRESULTS\\nthere was no difference in mortality at 1 year between the 2 groups (tmvr 11.3% vs. smvr 11.9%; p = 0.92).\\tRESULTS\\nmean mitral valve pressure gradient and the grade of mitral regurgitation (mr) were similar between the tmvr group and the smvr group (mitral valve pressure gradient 7.1 +/- 2.5 mm hg vs. 6.5 +/- 2.5 mm hg; p = 0.42; mr [>/=moderate] 3.8% vs. 5.6%; p = 1.00) at 30 days.\\tRESULTS\\nat 1 year, the mitral valve pressure gradient was higher in the tmvr group (tmvr 7.2 +/- 2.7 vs. smvr 5.5 +/- 1.8; p = 0.01), although there was no difference in the grade of mr.\\tRESULTS\\ndespite the higher sts prom in tmvr patients, there was no difference in 1-year mortality between the tmvr and smvr groups.\\tCONCLUSIONS\\nechocardiographic findings after tmvr were similar to smvr at 30 days.\\tCONCLUSIONS\\nthere was a statistically significant difference in mitral gradient at 1 year, though this is likely not clinically important.\\tCONCLUSIONS\\ntmvr may be an alternative to smvr in patients with previous mitral bioprosthetic valves.\\tCONCLUSIONS\\nepidermal growth factor (egf) is one of the important peptides in wound healing process.\\tBACKGROUND\\nthe effects of egf have been increasingly studied in various types of ulcers.\\tBACKGROUND\\nhowever, data on postablative laser resurfacing wound is still limited.\\tBACKGROUND\\nto evaluate the effects of the topical egf ointment on wound healing process and postinflammatory hyperpigmentation (pih) prevention after fractional ablative laser resurfacing.\\tOBJECTIVE\\nthis is a randomized split-face study.\\tMETHODS\\nnineteen healthy subjects were enrolled and completed follow up protocol.\\tMETHODS\\npatients received single treatment of fractional carbon dioxide laser on both cheeks.\\tMETHODS\\nafter randomization, each patient was assigned to apply one side of the face with topical egf ointment and another side with petrolatum.\\tMETHODS\\nwound healing was evaluated by duration of scab shedding, duration of postlaser erythema, erythema index, and transepidermal water loss on the daily follow up period of seven days after treatment.\\tMETHODS\\npih was evaluated at 2, 3 weeks and 1, 2 months follow up by photographs and melanin index.\\tMETHODS\\nmost of patients were female with fitzpatrick skin phototype iii to v.\\tRESULTS\\ncomparing with control (petrolatum), egf treated side showed no significant difference in duration of scab shedding, duration of postlaser erythema, erythema index, and transepidermal water loss (p-value = .58, .22, .78, and .51, respectively).\\tRESULTS\\nincidence of pih was 52.6% on egf side and 57.9% on petrolatum side, however, it was not statistically different (p = .56).\\tRESULTS\\nthe melanin index was also not different as well (p = .96).\\tRESULTS\\ntopical egf might provide significant wound healing stimulation for chronic wound more than acute wound.\\tCONCLUSIONS\\nfurther studies, especially in post laser wound or other cosmetic purposes are needed.\\tCONCLUSIONS\\nto investigate the presence of leukemia stem cells (lsc) in acute myeloid leukemia (aml) and find out the relative position of leukemia cells in the figures of flow cytometry, and to analyze the relationship between minimal residual diseases (mrd) and the level of lsc, so as to explore the correlation of lsc changes with the curative effect and the prognosis during chemical therapy.\\tOBJECTIVE\\na total of 85 samples were collected from 50 aml (except m3) patients, including 50 samples from the newly diagnosed patients, 7 samples of aml patients with non-remission and 28 samples of aml patients with complete remission.\\tMETHODS\\nall samples were used for detection of lsc from immune phenotype of cd34(+)/cd38(-)/cd123(+) by flow cytometry.\\tMETHODS\\nthe detection of immune phenotypic of leukemia cells was performed in the newly diagnosed patients.\\tMETHODS\\nthe detection of leukemia- associated immune phenotypes (laip) was implemented in the non-newly diagnosed patients.\\tMETHODS\\nthe lsc was identified in the cd34(+)/ cd38(-)/ cd123(+) in aml and consistent with the relative position of the leukemia cell in flow cytometry figures.\\tRESULTS\\nstatistical analysis showed significant difference in lsc content between the newly diagnosed aml group and the post-chemotherapy complete remission group(p<0.01),but did not between the newly diagnosed aml group and the post-chemotherapy non-remission group(p>0.05).\\tRESULTS\\nthere was significant positive correlation between the lsc content and mrd level in 28 aml patients with complete remission (r=0.680,p<0.01).\\tRESULTS\\nlsc exist in aml and the relative position are consistent with the leukemia cells in flow cytometry figures, the size characteristics and weak expression of cd45 are also similar to leukemia cells.\\tCONCLUSIONS\\nthe proportion of lsc decreases after chemotherapy.\\tCONCLUSIONS\\ndetecting and tracking the lsc changes in bone marrow and combination with detecting minimal resident disease(mrd) may contribute to evaluate the theraputic efficacy and prognosis of leukemia patients.\\tCONCLUSIONS\\ngalangin, a natural flavonoid, is found in honey and alpinia officinarum hance (zingiberaceae).\\tBACKGROUND\\ngalangin has antiviral, antimicrobial, antidiabetic and anticancer properties, without side effects.\\tBACKGROUND\\nthe effects of galangin on hyperglycaemia and lipid abnormalities are not known.\\tBACKGROUND\\nto elucidate the effectiveness of galangin on hyperglycaemia-associated complications and lipid changes in rats with streptozotocin (stz)-induced hyperglycaemia.\\tOBJECTIVE\\ndiabetes was induced in adult wistar rats by administering 40 mg/kg of stz.\\tMETHODS\\nin our previous study, galangin had no toxicity at concentrations up to 320 mg/kg.\\tMETHODS\\ntherefore three doses of galangin (4, 8 or 16 mg/kg bw) or glibenclamide (600 microg/kg bw) were administered daily to diabetic rats orally for 45 days.\\tMETHODS\\ndiabetic rats showed a significant (p < 0.05) increased levels of plasma glucose (281.10 mg/dl) and decreased levels of insulin (6.01 muu/ml).\\tRESULTS\\nadditionally, diabetic rats showed a significant (p < 0.05) increased levels of plasma lipid profiles such as total cholesterol (149.05 mg/dl), triglycerides (143.28 mg/dl), free fatty acids (139.37 mg/dl), phospholipids (127.53 mg/dl), plasma low-density lipoprotein-cholesterol (98.72 mg/dl), plasma very low-density lipoprotein-cholesterol (28.65 mg/dl), and significant (p < 0.05) decreased in plasma high-density lipoprotein-cholesterol (21.68 mg/dl).\\tRESULTS\\nwhen galangin was administered to the hyperglycaemic rats, plasma glucose and insulin levels and lipid profiles reverted to levels similar to those in healthy control rats.\\tRESULTS\\nadministration of galangin reduced hyperlipidaemia related to the risk of diabetic complications and could be beneficial for diabetic hyperlipidaemic patients.\\tCONCLUSIONS\\nfurther work detailing its mechanism-of-action for improving hyperglycaemic-associated lipid abnormalities is needed.\\tCONCLUSIONS\\nthe composition of potatoes as determined by chemical extraction has been described extensively.\\tBACKGROUND\\nit is thus quite well known that, among other compounds, potato is rich in polyphenols, vitamins and in some minerals.\\tBACKGROUND\\nthis paper underlines the important role of simulated gastro-intestinal in vitro digestion in the bioaccessibility of polyphenols (chlorogenic acid and derivatives, and rutin) from potatoes and sweet potatoes and their impact on iron uptake.\\tOBJECTIVE\\nconcentrations of polyphenols in the flesh of two potato cultivars (nicola, white potato, and vitelotte, purple potato) and sweet potato were measured by ultra performance liquid chromatography after boiling and after in vitro digestion.\\tMETHODS\\nchemical extraction underestimates polyphenol amounts that can be released during digestion and that are actually bioaccessible.\\tRESULTS\\niron uptake, as evaluated by a ferritin assay, by intestinal human cells was decreased after incubation with the intestinal phase of in vitro digestion, presumably due to the presence of polyphenols.\\tCONCLUSIONS\\npatients with severely elevated creatine kinase (ck) concentrations are commonly referred to rheumatologists to evaluate for the presence of an idiopathic inflammatory myopathy (iim).\\tBACKGROUND\\nhowever, no studies have evaluated the frequency with which iims are encountered in this clinical scenario.\\tBACKGROUND\\nthe vanderbilt synthetic derivative, a de-identified copy of over 2 million patient records, was searched to identify adult patients with a ck greater than 1000 iu/l who had been evaluated by a rheumatologist.\\tMETHODS\\neach patient was assigned a diagnosis using a pre-determined algorithm.\\tMETHODS\\nthe records were then reviewed for pertinent demographic data and clinical characteristics.\\tMETHODS\\na total of 192 patients were included for analysis.\\tRESULTS\\nof these patients, 105 (55 %) were diagnosed with an iim.\\tRESULTS\\nthe non-iim causes were drug/toxin exposure (n = 16, 8 %), infection (n = 12, 6 %), trauma (n = 10, 5 %), myocardial injury (n = 5, 3 %), hypothyroidism (n = 4, 2 %), muscular dystrophy (n = 4, 2 %), neuropsychiatric disorder (n = 3, 2 %), metabolic myopathy (n = 2, 1 %), idiopathic ck elevation (n = 11, 6 %), and other diagnoses (n = 20, 10 %).\\tRESULTS\\nseveral characteristics were found to be significantly different between iim and non-iim cases.\\tRESULTS\\nin particular, patients with an iim were more likely to be female, have a positive ana, have interstitial lung disease, and have proximal, symmetric weakness.\\tCONCLUSIONS\\nthis study found that approximately half of patients referred to our division of rheumatology with a ck greater than 1000 iu/l were diagnosed with an iim.\\tCONCLUSIONS\\ngiven the importance of prompt diagnosis and treatment of these disorders, rapid assessment by the consulting rheumatologist for these patients is recommended.\\tCONCLUSIONS\\nnon-muscle-invasive bladder cancer (nmibc) represents approximately 75% of newly diagnosed patients with bladder cancer.\\tBACKGROUND\\nnon-muscle-invasive bladder cancer survivors have unique chronic burdens including frequent recurrences, repeated surveillance cystoscopies and treatments, and the highest lifetime medical cost per person among all cancers.\\tBACKGROUND\\nthe purpose of this study was to summarize studies assessing quality of life (qol) in nmibc survivors.\\tOBJECTIVE\\nthe literature from january 2005 to march 2017 found in pubmed, cinahl, and psycinfo databases was reviewed systematically.\\tMETHODS\\ninclusion criteria were as follows: (1) research about nmibc survivors, (2) outcomes included qol, (3) original research article published in peer-reviewed journals, and (4) published in english.\\tMETHODS\\na total of 15 studies were included: 14 quantitative studies and 1 mixed-methods study.\\tRESULTS\\nnon-muscle-invasive bladder cancer survivors had significantly lower qol compared with the general population, especially in fatigue, physical and role functioning, and mental health.\\tRESULTS\\nrepeated transurethral resections and intravesical treatments were associated with impaired physical function and mental health.\\tRESULTS\\nmost nmibc survivors had concerns of urinary and bowel problems and sexual function.\\tRESULTS\\ndespite a good prognosis, nmibc and its treatment have a significant impact on qol in survivors.\\tCONCLUSIONS\\nthe findings showed large burdens in nmibc survivors and suggest that further research is needed to better understand potential opportunities to improve qol in this population.\\tCONCLUSIONS\\noncology nurses are in the critical position for assessing symptoms and concerns.\\tCONCLUSIONS\\noncology nurses should pay special attention to nmibc survivors who have unique symptoms and burden with the aim of improving survivors\\' qol.\\tCONCLUSIONS\\nperioperative dose-dense chemotherapy (ddct) with granulocyte-colony stimulating factor (g-csf) prophylaxis is a standard treatment for patients with high-risk breast cancer.\\tBACKGROUND\\nthe approval of this approach in japan led to the widespread adoption of ddct, despite limited efficacy and safety data among japanese patients.\\tBACKGROUND\\nwe evaluated the efficacy and safety of neoadjuvant ddct for japanese patients with breast cancer.\\tOBJECTIVE\\nthis prospective, multicenter, phase ii study evaluated 52 women with operable human epidermal growth factor receptor 2-negative breast cancer and axillary lymph node metastasis.\\tMETHODS\\nneoadjuvant ddct (adriamycin plus cyclophosphamide or epirubicin plus cyclophosphamide followed by paclitaxel) was administrated every 2 weeks with g-csf support.\\tMETHODS\\nthe study endpoints were the rates of pathological complete response (pcr), febrile neutropenia, treatment completion, toxicities, and the relative dose intensity (rdi).\\tMETHODS\\nthe pcr rate was 21.9% (9/41) and the triple-negative (tn) subtype was significantly associated with a high pcr rate (triple-negative: 53.3% vs. luminal a: 7.7% and luminal b: 0%; p = 0.003).\\tRESULTS\\nthe treatment completion rate was 80.8% (42/52) and the average rdi was 98.9%.\\tRESULTS\\nmost adverse events were manageable and tolerable.\\tRESULTS\\nsix patients (11.5%) developed febrile neutropenia.\\tRESULTS\\ngrade 3-4 adverse events were slightly more common among older patients (57%) with a low protocol completion rate (>/= 65 years: 42.9% vs.\\tRESULTS\\n<65 years: 86.7%, p = 0.0062).\\tRESULTS\\nthe pcr rate for ddct was similar to that of standard chemotherapy, although it was remarkably effective for the tn subtype.\\tCONCLUSIONS\\nddct may be feasible for japanese patients with breast cancer although caution is needed for older patients.\\tCONCLUSIONS\\ngiven the current explosion of data within original publications generated in the field of genomics, a recognized bottleneck is the transfer of such knowledge into comprehensive databases.\\tBACKGROUND\\nwe have for years organized knowledge on transcriptional regulation reported in the original literature of escherichia coli k-12 into regulondb (http://regulondb.ccg.unam.mx), our database that is currently supported by >5000 papers.\\tBACKGROUND\\nhere, we report a first step towards the automatic biocuration of growth conditions in this corpus.\\tOBJECTIVE\\nusing the ontogene text-mining system (http://www.ontogene.org), we extracted and manually validated regulatory interactions and growth conditions in a new approach based on filters that enable the curator to select informative sentences from preprocessed full papers.\\tMETHODS\\nbased on a set of 48 papers dealing with oxidative stress by oxyr, we were able to retrieve 100% of the oxyr regulatory interactions present in regulondb, including the transcription factors and their effect on target genes.\\tRESULTS\\nour strategy was designed to extract, as we did, their growth conditions.\\tRESULTS\\nthis result provides a proof of concept for a more direct and efficient curation process, and enables us to define the strategy of the subsequent steps to be implemented for a semi-automatic curation of original literature dealing with regulation of gene expression in bacteria.\\tCONCLUSIONS\\nthis project will enhance the efficiency and quality of the curation of knowledge present in the literature of gene regulation, and contribute to a significant increase in the encoding of the regulatory network of e. coli.\\tCONCLUSIONS\\nregulondb database url: http://regulondb.ccg.unam.mx ontogene url: http://www.ontogene.org.\\tNONE\\ntype 2 diabetes mellitus impairs osteogenesis in bone marrow stromal cells (bmscs).\\tBACKGROUND\\nbone morphogenetic protein 2 (bmp2) has been extensively applied for bone defect restoration and has been shown to activate the wnt signaling pathway.\\tBACKGROUND\\nthe objective of this study was to investigate the effects of bmp2 on the cell proliferation and osteogenesis of type 2 diabetic bmscs in rats and explore whether bmp2 induced osteogenesis via the stimulation of wnt signaling pathway.\\tOBJECTIVE\\nthe cell experiments were divided into dm (diabetic bmscs), bmp25 (induced with 25ng/ml bmp2), bmp100 (induced with 100ng/ml bmp2) and bmp25 +xav groups.\\tMETHODS\\nall cells with or without the different concentrations of bmp2 were cultured under the same experimental conditions.\\tMETHODS\\nthe in vitro results indicated that bmp2 enhanced cell proliferation by 130%-157% and osteogenic differentiation by approximately two-fold in type 2 diabetic bmscs.\\tRESULTS\\nthe expression levels of beta-catenin, cyclin d1, runx2 and c-myc related to the wnt signaling pathway were also upregulated from 180% to 212% in bmp2-induced type 2 diabetic rat bmscs, while the level of gsk3beta decreased to 43%.\\tRESULTS\\nin bmp2-induced type 2 diabetic bmscs with calcium phosphate cement (cpc) scaffolds for osteoblast study in vivo, the appearance of newly formed bone dramatically increased to 175% compared with type 2 diabetic bmscs.\\tRESULTS\\nthese data demonstrated that bmp2 enhanced bone regeneration in diabetic bmscs by stimulating the wnt signaling pathway with the accumulation of beta-catenin and the depressed expression of gsk3beta.\\tCONCLUSIONS\\ndiabetic bmscs associated with bmp2 might be a potential tissue-engineered construct for bone defects in type 2 diabetes mellitus.\\tCONCLUSIONS\\nunderstanding of the mechanisms of how food insecurity and poor physical and mental health status are interrelated with nutritional status among older adults is needed due to their unique health and social needs.\\tBACKGROUND\\nto examine the complex relationships between self-care capacity, depressive symptoms, food insecurity, and nutritional status among low-income older adults.\\tOBJECTIVE\\nthe cross-sectional study was conducted from february 2017 to may 2017.\\tMETHODS\\na total of 372 low-income older adults, 60 years of age and older, living in the state of alabama participated.\\tMETHODS\\nparticipants completed a validated survey measuring food insecurity (six-item us food security survey module), self-care capacity (self-care capacity scale), depressive symptoms (10-item geriatric depression scale), and nutritional status (mini nutritional assessment short-form).\\tMETHODS\\ngeneralized structural equation modeling was used to include the simultaneous equations and multiple mediators in one model.\\tMETHODS\\nthe akaike information criterion, bayesian information criterion, and likelihood ratio tests were conducted to compare the fit of competing model specifications.\\tMETHODS\\nlower self-care capacity was associated with greater food insecurity (beta [b]=.11, odds ratio [or]=1.11, p=0.03) and higher depressive symptoms (b=.08, p=0.005).\\tRESULTS\\npoorer self-care capacity and higher depressive symptoms were associated with poorer nutritional status (b=.24, or=1.27, p<0.001; b=.13, or=1.43, p=0.001, respectively).\\tRESULTS\\nhigher food insecurity was associated with increased depressive symptoms (b=.40, p<0.001).\\tRESULTS\\nself-care capacity was associated with nutritional status directly and indirectly through depressive symptoms (b=.04, p=0.048).\\tRESULTS\\nalthough food insecurity was not significantly associated with nutritional status, a significant indirect association between food insecurity and nutritional status through depressive symptoms was observed (b=.02, p=0.04).\\tRESULTS\\nstudy results indicate functionally impaired low-income older adults encounter greater food insecurity.\\tCONCLUSIONS\\ninability to afford food combined with limited ability to take care of oneself contributes to an increased self-report of depressive symptoms, resulting in less favorable nutritional status.\\tCONCLUSIONS\\nthe role of underlying genetic factors in the pathogenesis of nonsyndromic orofacial clefts (nsoc) remains poorly understood.\\tBACKGROUND\\nalthough genomewide association studies (gwass) of nsoc have successfully identified a large number of novel genetic risk loci, association results of replication studies are inconsistent across different populations.\\tBACKGROUND\\nsix single nucleotide polymorphisms (snps) (rs7922405 at 10q26.3, rs73039426 at 19q13.11, rs7552 at 2p24.2, rs1788160 at 8q22.2, rs9381107 at 6p24.3, and rs17095681 at 10q25.3) were analyzed for an association with nsoc in 1062 participants of chinese descent (596 patients and 466 controls).\\tMETHODS\\nwe applied the multifactor dimensionality reduction (mdr) method to detect potential gene-gene (g x g) interactions in the six snps.\\tMETHODS\\nthe genotype or allele frequencies of snps rs7922405, rs73039426, and rs7552 showed significant differences between the controls and patients with nsoc, whereas no association was shown between three snps (rs1788160, rs17095681, and rs9381107) and nsoc.\\tRESULTS\\nmdr analysis did not reveal significant g x g interactions for susceptibility to nsoc.\\tRESULTS\\nwe confirmed that three genes (rs7922405 of mgmt, rs73039426 of rhpn2, and rs7552 of fam49a) may contribute to nsoc in chinese populations.\\tCONCLUSIONS\\nmgmt and rhpn2 are associated with nsoc, which is herein demonstrated for the first time.\\tCONCLUSIONS\\nto determine the effectiveness of simulation in improving staff confidence to provide safe patient care in a new or unfamiliar patient care area.\\tOBJECTIVE\\nhospitals undergo constant renovation to meet the needs of the populations they serve.\\tBACKGROUND\\nrelocating to a newly renovated care area can potentially impact patient safety through workflow process changes.\\tBACKGROUND\\nsimulated patient care scenarios were used to assess functionality of equipment and staff orientation to a newly renovated ward.\\tMETHODS\\nadditionally, staff confidence to provide safe patient care was assessed prior to patient relocation.\\tMETHODS\\nall participating staff reported feeling confident in their ability to provide safe patient care within the newly renovated ward at the conclusion of the exercise.\\tRESULTS\\nin this case study, the use of simulated patient care scenarios was successful to orientate staff to a new clinical space.\\tCONCLUSIONS\\nadditionally, staff were able to identify workflow changes and access the functionality of newly installed equipment.\\tCONCLUSIONS\\nthis exercise allowed staff to gain confidence in their ability to provide safe patient care in a newly renovated area.\\tCONCLUSIONS\\nworldwide populations are aging and countries have to prepare for the effects of demographic change in health care.\\tBACKGROUND\\nhealth information exchange (hie), which is the process of moving patient information across health care providers electronically, can help overcome health data fragmentation and open opportunities to improve patient care in terms of quality, economy and efficiency.\\tBACKGROUND\\nsince japan and germany are among the first countries strongly impacted by demographic changes of aging populations, we report on current developments about health information systems carrying out hie based on case studies in both countries.\\tOBJECTIVE\\nfour projects that address the improvement of hie within a defined region have been selected and investigated: the german project of the lower saxony bank of health and the japanese projects chiba itnet, nagasaki ajisainet and the national disaster and backup system of japan.\\tMETHODS\\nthe project descriptions are based on relevant english publications, on-site visits and interviews with developers and users.\\tRESULTS\\nthe projects are introduced in terms of their basic architecture and implementation, their present status and future objectives.\\tRESULTS\\nthe projects\\' developments are still in progress and all have to cope with significant challenges before they will be able to provide a fully working trans-institutional health network solution.\\tCONCLUSIONS\\nprevious studies have shown that a subgroup of children with suspected (central) auditory processing disorder (suscapd) have insufficient ability to use binaural cues to benefit from spatial processing.\\tBACKGROUND\\nthus, they experience considerable listening difficulties in challenging auditory environments, such as classrooms.\\tBACKGROUND\\nsome researchers have also indicated the probable role of binaural temporal fine structure (tfs) in the perceptual segregation of target signal from noise and hence in speech perception in noise.\\tBACKGROUND\\ntherefore, in the present study, in order to further investigate the underlying reason for listening problems against background noise in this group of children, their performance was measured using binaural tfs sensitivity test (tfs-lf) as well as behavioral auditory lateralization in noise test, both of which are based on binaural temporal cues processing.\\tOBJECTIVE\\nparticipants in this analytical study included 91 children with normal hearing and no listening problems and 41 children (9-12 years old) with suscapd who found it challenging to understand speech in noise.\\tMETHODS\\ninitially, the ability to use binaural tfs was measured at three frequencies (250, 500 and 750hz) in both the groups, and the results of preliminary evaluations were compared between normal children and those with suscapd who participated in the study.\\tMETHODS\\nthereafter, the binaural performance of the 16 children with suscapd who had higher thresholds than the normal group at all three frequencies tested in tfs-lf test was examined using the lateralization test in 7 spatial locations.\\tMETHODS\\ntotal 16 of the 41 children with suscapd who participated in this study (39%) showed poor performance on the tfs-lf test at all three frequencies, compared to both normal children and other children in the apd group (p<0.05).\\tRESULTS\\nfurthermore, children in the apd group with binaural tfs coding deficits at all three frequencies revealed significant differences in the lateralization test results compared to normal children (p<0.05).\\tRESULTS\\nfindings of the current study demonstrated that one of the underlying causes for the difficulty understanding speech in noisy environments experienced by a subgroup of children with suscapd can be the reduced ability to benefit from binaural tfs information.\\tCONCLUSIONS\\nthis study also showed that a reduced ability to use binaural tfs cues in the group of children with suscapd was accompanied by reduced binaural processing abilities in the lateralization test which also admit the presence of binaural temporal processing deficits in this group of children.\\tCONCLUSIONS\\nheart failure readmissions are associated with significant morbidity and mortality.\\tBACKGROUND\\nadequate education on adherence and self-care behaviours can affect readmission rates positively and nurses are at the frontline of patient education.\\tBACKGROUND\\nsuch education is valuable when establishing heart failure programmes in developing countries, in light of the challenging socioeconomic circumstances in these.\\tBACKGROUND\\nthis study aimed to evaluate nurses\\' heart failure knowledge, to assess patients\\' baseline knowledge, and to evaluate the effectiveness of structured nurse-driven education.\\tOBJECTIVE\\na total of 131 cardiac centre-based nurses and 30 chronic heart failure patients participated in the study in kuwait.\\tMETHODS\\npatients were surveyed a second time 3 to 6 months later, while being followed at an advanced heart failure clinic by dedicated heart failure nurses.\\tMETHODS\\nthe majority of the nurses (80%) had not received heart failure education previously, although they were able to recognise most heart failure symptoms.\\tRESULTS\\nsignificant improvement in patients\\' knowledge was noted between the initial and follow-up surveys.\\tRESULTS\\nestablishing a dedicated advanced heart failure programme to care for patients in a developing country can result in significant improvement in disease awareness and self-care behaviours when led by well-trained heart failure nurses.\\tCONCLUSIONS\\nmore research is needed to determine if these findings are shared by other countries in the middle-east and other developing countries.\\tCONCLUSIONS\\nthe mutagenic effect of hepatitis b (hbv) integration in predisposing risk to hepatocellular carcinoma (hcc) remains elusive.\\tBACKGROUND\\nin this study, we performed transcriptome sequencing of hbv-positive hcc cell lines and showed transcription of viral-human gene fusions from the site of genome integrations.\\tMETHODS\\nwe discovered tumor-promoting properties of a chimeric hbx-line1 that, intriguingly, functions as a hybrid rna.\\tRESULTS\\nhbx-line1 can be detected in 23.3% of hbv-associated hcc tumors and correlates with poorer patient survival.\\tRESULTS\\nhbx-line1 transgenic mice showed heightened susceptibility to diethylnitrosamine-induced tumor formation.\\tRESULTS\\nwe further show that hbx-line1 expression affects beta-catenin transactivity, which underlines a role in activating wnt signaling.\\tCONCLUSIONS\\nthus, this study identifies a viral-human chimeric fusion transcript that functions like a long noncoding rna to promote hcc.\\tCONCLUSIONS\\nthe standard of care for patients with acute respiratory distress syndrome (ards) has been developed based on studies that usually excluded patients with major comorbidities.\\tBACKGROUND\\nto describe treatments and outcomes according to comorbidities in patients with ards admitted to 19 icus (1997-2014).\\tOBJECTIVE\\npatients were grouped based on comorbidities.\\tMETHODS\\ndeterminants of day-28 mortality were identified by multivariable cox analysis stratified on center.\\tMETHODS\\namong 4953 ards patients, 2545 (51.4%) had major comorbidities; the proportion with major comorbidities increased after 2008.\\tRESULTS\\nhematological malignancy was associated with severe ards and rescue therapies for refractory hypoxemia.\\tRESULTS\\ncopd, hiv infection, and hematological malignancy were associated with a lower likelihood of invasive mechanical ventilation on the admission day.\\tRESULTS\\nadmission-day sofa score was higher in patients with major comorbidities, who more often received vasopressors, dialysis, or treatment-limitation decisions.\\tRESULTS\\nday-28 mortality was 33.7% overall, 27.2% in patients without major comorbidities, and 31.1% (copd) to 56% (hematological malignancy) in patients with major comorbidities.\\tRESULTS\\nby multivariable analysis, mortality was lower in patients with copd and higher in those with chronic heart failure, solid tumors, or hematological malignancies.\\tRESULTS\\nmortality was independently associated with pao2/fio2 and paco2 on day 1, ards of pulmonary origin, worse sofa score, and icu-acquired events.\\tRESULTS\\nhalf the patients with ards had major comorbidities, which were associated with severe ards, multiple organ dysfunction, and day-28 mortality.\\tCONCLUSIONS\\nthese findings do not support the exclusion of ards patients with severe comorbidities from randomized clinical trials.\\tCONCLUSIONS\\ntrials in ards patients with whatever comorbidities are warranted.\\tCONCLUSIONS\\nto assess the biofilm inhibition activity of biosynthesized silver nanoparticles (agnps) using curcuma longa.\\tOBJECTIVE\\ncharacterizations of these biogenic nanoparticles were done by uv-vis spectroscopy, tem, edx and nanoparticles tracking analyzer.\\tMETHODS\\nantibiofilm activity of agnps against s. aureus and s. pneumoniae was carried out by 96 well plate method.\\tMETHODS\\nfurther the combined effect of agnps with the antibiotic was studied against s. aureus and s. pneumoniae.\\tMETHODS\\nuv-spectroscopic analysis showed a surface plasmon resonance peak at 415nm.\\tRESULTS\\nshape of agnps is spherical with average size of 20-40 nm while the elemental silver was confirmed by edx analysis.\\tRESULTS\\nthese biosynthesized agnps have anti-biofilm activity against s. aureus and s. pneumoniae.\\tRESULTS\\nfurthermore, the combined effect of agnps with antibiotic, showed enhanced anti-biofilm activity against both the strains under study.\\tRESULTS\\nc.longa mediated agnps showed potent antibiofilm activity.\\tCONCLUSIONS\\nblockade of angiotensin ii type 1 receptor (at1) signaling attenuates heart failure following myocardial infarction (mi), perhaps through reduction of fibrosis in the noninfarcted myocardium.\\tBACKGROUND\\nhowever, its specific effect on the infarct tissue itself has not been fully clarified, which we examined in the present study.\\tOBJECTIVE\\nafter mi induction in mice, treatment with the at1 blocker olmesartan, beginning on the 3rd day post-mi, significantly improved survival (94%) 4 wk post-mi, compared with saline (53%) and hydralazine (73%).\\tMETHODS\\nolmesartan-treated mice also showed significant attenuation of left ventricular dilatation and dysfunction, as well as significantly greater infarct wall thickness, although the absolute size of the infarct scar was unchanged.\\tRESULTS\\nin addition, significantly greater numbers of nonmyocytes (mainly vascular cells and myofibroblasts) were present within the infarct scar in olmesartan-treated hearts.\\tRESULTS\\nten days post-mi, apoptosis among granulation tissue cells was significantly suppressed in the olmesartan-treated hearts, where expression of fas, bax, procaspase-3, and daxx and activation of caspase-3, c-jun nh(2)-terminal kinase, and c-jun were all significantly attenuated.\\tRESULTS\\nby contrast, expression of fas ligand, bcl-2, and fas-associated death domain and activation of caspase-8 were unaffected, suggesting olmesartan exerts a negative regulatory effect on the alternate pathway downstream of fas receptor.\\tRESULTS\\nin vitro, olmesartan dose-dependently inhibited fas-mediated apoptosis in granulation tissue-derived myofibroblasts.\\tRESULTS\\nthe present study proposes this antiapoptotic effect as another important mechanism for an at1 blocker in improving post-mi ventricular remodeling, as well as its antifibrotic effect, and also suggests a significant link between renin-angiotensin and fas/fas ligand systems in postinfarction hearts.\\tCONCLUSIONS\\nas rates of suicide continue to rise, there is urgent need for innovative approaches to better understand, predict, and care for those at high risk of suicide.\\tBACKGROUND\\nnumerous mobile and sensor technology solutions have already been proposed, are in development, or are already available today.\\tBACKGROUND\\nthis review seeks to assess their clinical evidence and help the reader understand the current state of the field.\\tOBJECTIVE\\nadvances in smartphone sensing, machine learning methods, and mobile apps directed towards reducing suicide offer promising evidence; however, most of these innovative approaches are still nascent.\\tRESULTS\\nfurther replication and validation of preliminary results is needed.\\tRESULTS\\nwhereas numerous promising mobile and sensor technology based solutions for real time understanding, predicting, and caring for those at highest risk of suicide are being studied today, their clinical utility remains largely unproven.\\tRESULTS\\nhowever, given both the rapid pace and vast scale of current research efforts, we expect clinicians will soon see useful and impactful digital tools for this space within the next 2 to 5 years.\\tRESULTS\\nthe purpose of this study was to compare clinical and virological differences between non-cytopathic (ncp) bovine viral diarrhea virus (bvdv)-1 and ncp bvdv-2 isolated from korean field cases.\\tOBJECTIVE\\neach five naive calves were experimentally infected with korean ncp bvdv-1 or bvdv-2 isolates.\\tMETHODS\\ntwo additional age-matched animals were used as uninfected controls.\\tMETHODS\\nleukocyte, lymphocyte, and platelet counts declined in all infected calves, but were significantly lower and remained decreased longer in calves infected with ncp bvdv-2 isolate.\\tRESULTS\\nthe number of monocytes was greater in calves infected with ncp bvdv-2.\\tRESULTS\\nflow cytometric assay showed that lymphocyte apoptosis occurred with an increase of annexin-v positive cells in all infected calves by day 6.\\tRESULTS\\ntumor necrosis factor alpha (tnf-alpha) concentration in all infected calves was lower than in control calves.\\tRESULTS\\nin ncp bvdv-1 infected calves, interferon gamma (ifn-gamma) levels in the serum were increased by day 6 compared to calves infected with ncp bvdv-2.\\tRESULTS\\nthese results demonstrated that the korean ncp bvdv-2 isolate shows a reduced ifn-gamma production, indicating prevention of the antiviral activity, and therefore promotes the development of pathological effects.\\tCONCLUSIONS\\nmuscle-invasive bladder cancer (mibc) is an aggressive disease for which treatment strategies are continuously evolving.\\tBACKGROUND\\nwe characterized trends in treatment modalities for mibc from 2004 to 2013 (the \"pre-immunotherapy era\") and identified predictors of receiving the current standard of care treatment: neoadjuvant chemotherapy (nac) followed by radical cystectomy (rc).\\tOBJECTIVE\\nwe used the national cancer database to identify individuals diagnosed with clinically localized mibc from 2004 to 2013.\\tMETHODS\\nwe calculated the yearly prevalence of nac followed by rc, rc as first treatment, trimodal therapy, chemotherapy and/or radiation alone, and no treatment.\\tMETHODS\\nwe then identified factors associated with receiving nac prior to rc.\\tMETHODS\\nthere was a notable increase in the use of nac followed by rc over the study period, from 3.68% in 2004 to 14.83% in 2013 (p < 0.001).\\tRESULTS\\nfactors associated with decreased odds of receiving this regimen included being older, black, uninsured, less educated, and more burdened by comorbidities.\\tRESULTS\\nrates of trimodal therapy and chemotherapy and/or radiation alone remained relatively constant (approximately 5 and 17%, respectively).\\tRESULTS\\nthere was a consistent decline in the proportion of patients who did not receive any treatment, down to 34.20% in 2013.\\tRESULTS\\ntrends in localized mibc treatment have evolved substantially since the early 2000s, and certain patient characteristics are associated with lower odds of receiving the current standard of care.\\tCONCLUSIONS\\nthis serves as a foundation from which to judge the impact of the upcoming immunotherapy era on the treatment landscape for this disease.\\tCONCLUSIONS\\ndengue is a febrile illness transmitted by mosquitoes, causing disease across the tropical and sub-tropical world.\\tBACKGROUND\\nantibody prevalence data and serotype distributions describe population-level risk and inform public health decision-making.\\tBACKGROUND\\nin this cross-sectional study we used data from a pediatric dengue seroprevalence study to describe historical dengue serotype circulation, according to age and geographic location.\\tOBJECTIVE\\na sub-sample of 780 dengue igg-positive sera, collected from 30 sites across urban indonesia in 2014, were tested by the plaque reduction neutralization test (prnt) to measure the prevalence and concentration of serotype-specific neutralizing antibodies according to subject age and geography.\\tMETHODS\\nprnt results were obtained from 776 subjects with mean age of 9.6 years.\\tRESULTS\\n765 (98.6%) neutralized one or more dengue serotype at a threshold of >10 (1/dil).\\tRESULTS\\nmultitypic profiles were observed in 50.9% of the samples; a proportion which increased to 63.1% in subjects aged 15-18 years.\\tRESULTS\\namongst monotypic samples, the highest proportion was reactive against denv-2, followed by denv-1, and denv-3, with some variation across the country.\\tRESULTS\\ndenv-4 was the least common serotype.\\tRESULTS\\nthe highest anti-dengue antibody titers were recorded against denv-2, and increased with age to a geometric mean of 516.5 [1/dil] in the oldest age group.\\tRESULTS\\nwe found that all four dengue serotypes have been widely circulating in most of urban indonesia, and more than half of children had already been exposed to >1 dengue serotype, demonstrating intense transmission often associated with more severe clinical episodes.\\tCONCLUSIONS\\nthese data will help inform policymakers and highlight the importance of dengue surveillance, prevention and control.\\tCONCLUSIONS\\nwe examined whether the early initiation of sexual activity is associated with hypertension in us adults, and whether the timing of first menstruation is meaningful in regard of this association.\\tOBJECTIVE\\nwe also assessed the effect modification by ethnicity.\\tOBJECTIVE\\nusing data from 2001 to 2016 national health and nutrition examination survey, we included 39 788 women.\\tMETHODS\\nthe association of age at the first sexual intercourse (fsi) and hypertension (sbp >/= 130 mmhg or dbp >/= 80 mmhg) was examined using multivariate logistic regression.\\tMETHODS\\neffect modification by ethnicity was assessed through a cross-product interaction term between age at fsi and ethnicity.\\tMETHODS\\namong women with fsi after their first menstruation, the odds of hypertension decrease by 20% [95% confidence interval (ci) -27 to -13%] in those who experienced fsi after 19 years of age, relative to those with fsi before 19 years of age.\\tRESULTS\\nethnicity significantly modified the inverse association between age at fsi and hypertension (p value for interaction: 0.0003).\\tRESULTS\\namong non-hispanic white, having fsi aged at least 19 years reduced the odds of hypertension by 34% (95% ci -41 to -27%).\\tRESULTS\\nturning to latina women, the fsi before 19 years of age and before first menstruation resulted to a marked increase in the odds of hypertension [odds ratio = 1.38 (95% ci 1.15-1.65)].\\tRESULTS\\nin non-hispanic black, the age at fsi was not linked to hypertension.\\tRESULTS\\nthe fsi before 19 years of age is associated with hypertension during adulthood in us non-hispanic white and hispanic women, but not in non-hispanic black.\\tCONCLUSIONS\\nin the united states, most deaths occur in hospitals, with approximately 25% of hospitalized patients having palliative care needs.\\tBACKGROUND\\ntherefore, the provision of good end-of-life (eol) care to these patients is a priority.\\tBACKGROUND\\nhowever, research assessing staff preparedness for the provision of eol care to hospitalized patients is lacking.\\tBACKGROUND\\nto assess health-care professionals\\' self-perceived competencies regarding the provision of eol care in hospitalized patients.\\tOBJECTIVE\\ndescriptive study of self-perceived eol care competencies among health-care professionals.\\tMETHODS\\nthe study instrument (end-of-life questionnaire) contains 28 questions assessing knowledge, attitudes, and behaviors related to the provision of eol care.\\tMETHODS\\nhealth-care professionals (nursing, medicine, social work, psychology, physical, occupational and respiratory therapist, and spiritual care) at a large academic medical center participated in the study.\\tMETHODS\\nmeans were calculated for each item, and comparisons of mean scores were conducted via t tests.\\tMETHODS\\nanalysis of variance was used to identify differences among groups.\\tMETHODS\\na total of 1197 questionnaires was completed.\\tRESULTS\\nthe greatest self-perceived competency was in providing emotional support for patients/families, and the least self-perceived competency was in providing continuity of care.\\tRESULTS\\nwhen compared to nurses, physicians had higher scores on eol care attitudes, behaviors, and communication.\\tRESULTS\\nphysicians and nurses had higher scores on most subscales than other health-care providers.\\tRESULTS\\ndifferences in self-perceived eol care competencies were identified among disciplines, particularly between physicians and nurses.\\tCONCLUSIONS\\nthe results provide evidence for assessing health-care providers to identify their specific training needs before implementing educational programs on eol care.\\tCONCLUSIONS\\nto describe functional and histopathological findings after macular peeling using different dyes.\\tOBJECTIVE\\nprospective, randomized, comparative, interventional, and immunohistochemical study.\\tMETHODS\\nforty-five eyes from 45 patients with idiopathic epiretinal membrane (erm) underwent pars plana chromovitrectomy with erm and inner limiting membrane (ilm) using trypan blue 0.15% + brilliant blue 0.05% + lutein 2% in group 1 (15 eyes), trypan blue 0.15% + brilliant blue 0.025% + polyethylene glycol 3350 4% in group 2 (15 eyes), and indocyanine green 0.05% in group 3 (15 eyes).\\tMETHODS\\nwe evaluated visual acuity (va) and macular sensitivity (ms) preoperatively, 1, 3, and 6 months after surgery.\\tMETHODS\\nthe expression of glial fibrillary acidic protein (gfap) and neurofilament protein (nf) was assessed immunohistochemically on the ilms peeled as markers of glial and neuronal cells.\\tMETHODS\\nin group 1, both mean va and ms were significantly better at 1 and 3 months after surgery (p < 0.05), whereas no significant difference was found after 6 months.\\tRESULTS\\ngfap and nf expression was significantly lower in group 1 (p < 0.05).\\tRESULTS\\nthe erm/ilm peeling is thought to rip off the intraretinal tissue, based on the amounts of gfap and nf in the specimens.\\tCONCLUSIONS\\nthe use of lutein dyes reduces iatrogenic stress to the retinal tissue and allows a faster functional recovery in the first 3 months after surgery, suggesting a less iatrogenic adhesion to the retinal tissue.\\tCONCLUSIONS\\nfor gastric neuroendocrine neoplasms (gnen), the current ajcc lymph node (n) stage classifies patients into n0/n1 disease (with/without locoregional nodal metastases); however, this does not account for the number of involved nodes.\\tBACKGROUND\\nthe objective of this study was to evaluate the prognostic significance of the number of involved locoregional nodes among resected gnen.\\tOBJECTIVE\\nthe national cancer database (2004-2014) was queried for gnen patients who had undergone partial/total gastrectomy with known nodal status.\\tMETHODS\\nnearest-neighborhood grouping was used to identify survival clusters by number of metastatic nodes and to use these groupings to construct a new n classification (pn).\\tMETHODS\\nexternal validation was performed using the seer database.\\tMETHODS\\nkaplan-meier analysis and cox regression models were used to assess the prognostic strength of the pn classification.\\tMETHODS\\none thousand two hundred seventy-five patients met study inclusion criteria.\\tRESULTS\\npatients with 1-6 positive nodes (pn1) demonstrated a distinct survival pattern from patients with > 6 positive nodes (pn2) as well as those with no positive nodes (n0) {5-year os n0: 80% (95% ci 77-83%) vs.\\tRESULTS\\n65% (95% ci 61-69%) vs.\\tRESULTS\\n43% (95% ci 33-53%), p < 0.001}.\\tRESULTS\\non external validation, the pn classification demonstrated strong discriminatory ability for survival {5-year os n0: 70% (95% ci 65-75%) vs.\\tRESULTS\\npn1:53% (95% ci 46-59%) vs.\\tRESULTS\\npn2:18% (95% ci 9-29%), p < 0.001}.\\tRESULTS\\non multivariable analysis, the pn classification remained an independent predictor of os.\\tRESULTS\\nthe number of metastatic lymph nodes is an independent prognostic factor in gnen.\\tCONCLUSIONS\\ncurrent ajcc n1 disease contains two groups of patients with distinctive prognoses, hence needs to be subclassified into pn1 (1-6 positive lymph nodes) and pn2 (> 6 positive nodes).\\tCONCLUSIONS\\nup to 50% of pediatric patients with crohn\\'s disease (cd) report oral manifestations, but less is known about their oral health when they become adults.\\tBACKGROUND\\nour aim was to provide detailed descriptions of the presence of oral and otorhinolaryngological manifestations in patients with pediatric onset cd once they reached adulthood, to look for predisposing factors and to compare the findings to matched controls.\\tOBJECTIVE\\nadult patients diagnosed with cd in childhood at the children\\'s hospital, university of helsinki, finland, after 2000 were invited for a follow-up appointment in 2016 and 24 were examined by a dentist and otorhinolaryngologist.\\tMETHODS\\nthey were compared with 22 matched controls from the population register centre.\\tMETHODS\\nthe participants completed questionnaires about their general health, any special diets, and their health-related quality of life.\\tMETHODS\\ntheir nutrition was evaluated from food records.\\tMETHODS\\npatients with cd had minor oral manifestations at a median of 9 years after their childhood diagnosis and the most common was angular cheilitis, which affected 6 patients and 1 control, but was not statistically significant (p=0.0984).\\tRESULTS\\ncd with perianal abscessing disease correlated to orofacial findings (p=0.0312).\\tRESULTS\\nmost of the patients had normal otorhinolaryngological findings.\\tRESULTS\\nsubjects with oral lesions had lower mean health-related quality of life scores than subjects without oral findings and the differences were clinically but not statistically significant.\\tRESULTS\\noral manifestations were not associated with differences in energy intake.\\tRESULTS\\noral manifestations in adult patients with pediatric onset cd were mild and were not associated with otorhinolaryngological pathology.\\tCONCLUSIONS\\nvirtual screening (vs) has emerged as an important tool in the drug development process, as it conducts efficient in silico searches over millions of compounds, ultimately increasing yields of potential drug leads.\\tBACKGROUND\\nas a subset of artificial intelligence (ai), machine learning (ml) is a powerful way of conducting vs for drug leads.\\tBACKGROUND\\nml for vs generally involves assembling a filtered training set of compounds, comprised of known actives and inactives.\\tBACKGROUND\\nafter training the model, it is validated and, if sufficiently accurate, used on previously unseen databases to screen for novel compounds with desired drug target binding activity.\\tBACKGROUND\\nthe study aims to review ml-based methods used for vs and applications to alzheimer\\'s disease (ad) drug discovery.\\tOBJECTIVE\\nto update the current knowledge on ml for vs, we review thorough backgrounds, explanations, and vs applications of the following ml techniques: naive bayes (nb), k-nearest neighbors (knn), support vector machines (svm), random forests (rf), and artificial neural networks (ann).\\tMETHODS\\nall techniques have found success in vs, but the future of vs is likely to lean more heavily toward the use of neural networks - and more specifically, convolutional neural networks (cnn), which are a subset of ann that utilize convolution.\\tRESULTS\\nwe additionally conceptualize a work flow for conducting ml-based vs for potential therapeutics of for ad, a complex neurodegenerative disease with no known cure and prevention.\\tRESULTS\\nthis both serves as an example of how to apply the concepts introduced earlier in the review and as a potential workflow for future implementation.\\tRESULTS\\ndifferent ml techniques are powerful tools for vs, and they have advantages and disadvantages albeit.\\tCONCLUSIONS\\nml-based vs can be applied to ad drug development.\\tCONCLUSIONS\\na pivotal period in the development of language occurs in the second year of life, when language comprehension undergoes rapid acceleration.\\tBACKGROUND\\nhowever, the brain bases of these advances remain speculative as there is currently no functional magnetic resonance imaging (fmri) data from healthy, typically developing toddlers at this age.\\tBACKGROUND\\nwe investigated the neural basis of speech comprehension in this critical age period by measuring fmri activity during passive speech comprehension in 10 toddlers (mean +/- sd; 21 +/- 4 mo) and 10 3-year-old children (39 +/- 3 mo) during natural sleep.\\tMETHODS\\nduring sleep, the children were presented passages of forward and backward speech in 20-second blocks separated by 20-second periods of no sound presentation.\\tMETHODS\\ntoddlers produced significantly greater activation in frontal, occipital, and cerebellar regions than 3-year-old children in response to forward speech.\\tRESULTS\\nour results suggest that rapid language acquisition during the second year of life may require the utilization of frontal, cerebellar, and occipital regions in addition to classical superior temporal language areas.\\tCONCLUSIONS\\nthese findings are consistent with the interactive specialization hypothesis, which proposes that cognitive abilities develop from the interaction of brain regions that include and extend beyond those used in the adult brain.\\tCONCLUSIONS\\nanthracyclines are antineoplastic agents that are effective against solid tumors and hematological malignancies.\\tBACKGROUND\\nhowever, drug-induced cardiotoxicity imposes dose limitations.\\tBACKGROUND\\nmyocardial damage due to anthracyclines has been assessed by measuring left ventricular ejection fraction (lvef) or fraction shortening (fs) by echocardiography and criteria for discontinuing treatment have been established based on these indexes.\\tBACKGROUND\\nhowever, cardiotoxicity is already irreversible when either lvef or fs fulfills these criteria.\\tBACKGROUND\\nthe tei-index has recently been established to assess combined systolic and diastolic myocardial function during echocardiography.\\tBACKGROUND\\nit can also detect small changes in cardiac function.\\tBACKGROUND\\nwe therefore surmised that the tei-index would reflect early myocardial damage induced by anthracyclines.\\tOBJECTIVE\\nwe treated 23 patients with the anthracycline, doxorubicin (dxr), and examined them at least twice during the treatment.\\tMETHODS\\nan additional dose of dxr significantly correlated with a change in the tei-index (deltatei-index).\\tRESULTS\\nin contrast, a change in lvef did not correlate with increased doses of dxr.\\tRESULTS\\nthe deltatei-index did not correlate with either lvef or the tei-index before treatment.\\tRESULTS\\nthese results suggested that the deltatei-index is a more sensitive indicator of early cardiotoxicity induced by anthracyclines than lvef regardless of its value before treatment.\\tCONCLUSIONS\\nrheumatology and dermatology are two medical disciplines, which are closely interwoven with each other.\\tBACKGROUND\\nfrequent direct areas of cooperation are with psoriasis, psoriatic arthritis, connective tissue diseases and vasculitis.\\tRESULTS\\nas a whole, chronic inflammatory diseases are frequently associated with cutaneous manifestations and require a specialized dermatological treatment.\\tRESULTS\\nthe diagnosis and treatment of adverse cutaneous reactions to systemic rheumatological treatment creates an additional area requiring a collaborative effort.\\tRESULTS\\nthe close cooperation between rheumatology and dermatology clinics, beeing established in many institutions, has many advantages for our patients, especially in those with a complex course of the disease.\\tCONCLUSIONS\\nfurthermore, it presents a valuable opportunity to learn from each other.\\tCONCLUSIONS\\nthe successful establishment of inflammation centers in some larger hospitals is proof for the development of an intensified interdisciplinary treatment of patients.\\tCONCLUSIONS\\nlong-term efficacy and safety of mepolizumab in patients with severe eosinophilic asthma has been evaluated by large-scale double-blinded placebo control studies.\\tBACKGROUND\\nhowever, a prospective open-label study of a long-term subcutaneous administration of mepolizumab in japanese patients with severe eosinophilic asthma has not been reported.\\tBACKGROUND\\nthis study was a prospective, 48-week, open-label trial in 32 japanese patients with severe eosinophilic asthma who received subcutaneous administration of 100 mg mepolizumab every 4 weeks.\\tMETHODS\\nnine patients required daily use of oral corticosteroid despite the use of high-dose inhaled corticosteroid.\\tMETHODS\\nsix patients with aspirin-exacerbated respiratory disease were involved.\\tMETHODS\\nno patients failed to be continued mepolizumab administration for an entire trial period.\\tRESULTS\\nall patients experienced no adverse events during the treatment.\\tRESULTS\\nnone of the patients experienced asthma exacerbations during an entire period.\\tRESULTS\\nin fact, forced expiratory volume in one second was increased significantly at 24 week (p < 0.01) and at 48 week (p < 0.05).\\tRESULTS\\nnumber of eosinophils in peripheral blood was reduced after the first administration of mepolizumab in all patients, which was continued until 48 weeks with mepolizumab administration.\\tRESULTS\\nafter the start of mepolizumab administration, all of oral corticosteroid-dependent asthmatics successfully withdrew from the use of corticosteroid without exacerbations in parallel with sustained reduction in peripheral blood eosinophil count.\\tRESULTS\\nblood levels of thymus and activation-regulated chemokine and ige were not changed with 48-week administration of mepolizumab.\\tRESULTS\\nthis first prospective open-label pilot study in japan showed a long-term efficacy and safety of mepolizumab in patients with severe eosinophilic asthma.\\tCONCLUSIONS\\ncollege is a time of major transition in the lives of many young adults.\\tBACKGROUND\\nroughly 30% of college students have reported that anxiety and depressive symptoms negatively affect their lives and academic functioning.\\tBACKGROUND\\ncurrently, anxiety has surpassed depression as the reason college students seek help at counseling centers.\\tBACKGROUND\\nunfortunately, only one third of students receive treatment for anxiety and only 25% of students receive treatment for their depression.\\tBACKGROUND\\nthe objectives of this pilot project were to (a) assess levels of depression and anxiety in identified \"at risk\" college students who present to the college student health services (primary care), (b) implement a new cognitive behavioral therapy-based intervention titled \"creating opportunities for personal empowerment\" (cope), and (c) evaluate the effectiveness of the intervention on students\\' levels of depression and anxiety as well as satisfaction with the intervention.\\tOBJECTIVE\\na one group pre- and post-test design was used.\\tMETHODS\\nstudents who received cope demonstrated clinically meaningful improvement in depressive and anxiety symptoms as measured by the beck depression inventory-ii and the state-trait anxiety inventory.\\tRESULTS\\ncope is an effective brief program for reducing depression and anxiety in college-age youth.\\tCONCLUSIONS\\nimplementation of evidenced-based programs into the college experience could lead to less severe depression and anxiety and better academic performance, ultimately increasing the likelihood of students successfully completing their academic programs.\\tCONCLUSIONS\\nwe investigated early tumor shrinkage (ets) and depth of response (dpr) using data from the g-sox study comparing s-1 plus oxaliplatin with s-1 plus cisplatin as the first-line treatment for advanced gastric cancer (agc).\\tOBJECTIVE\\nets was determined as % decrease in the sum of the longest diameters of the target lesions at the first evaluation of week 6 compared to baseline.\\tMETHODS\\ndpr was the maximum % shrinkage during the study treatment.\\tMETHODS\\nthe impact of ets (cutoff value 20%) and dpr (continuous value) on progression-free survival (pfs) and overall survival (os) were assessed by the log-rank test and cox regression analysis including prognostic factors obtained in the g-sox study; ecog performance status, baseline sum of tumor diameters, disease status (recurrent/unresectable), and histology (diffuse/intestinal).\\tMETHODS\\namong 685 patients enrolled in the g-sox study, 632 patients who had the first tumor evaluation were analyzed.\\tRESULTS\\npatients with ets >/= 20% had longer pfs (median 4.5 vs. 2.8 months, p < 0.0001) and os (median 14.8 vs. 10.5 months, p < 0.0001) than those with ets < 20%.\\tRESULTS\\nadjusted hazard ratios of ets < 20 vs.\\tRESULTS\\n>/= 20% were 0.606 (95% confidence interval (ci) 0.506-0.725) for pfs and 0.589 (95% ci 0.492-0.704) for os.\\tRESULTS\\ndpr was also significantly associated with pfs and os (both p < 0.0001).\\tRESULTS\\nthese results were similar between the sox and cs groups.\\tRESULTS\\nin agc patients receiving the first-line therapy, ets and dpr might be predictors for pfs and os.\\tCONCLUSIONS\\nto determine the iron intake and status of infants following a version of baby-led weaning (blw) modified to prevent iron deficiency (baby-led introduction to solids; bliss) compared with those of infants following traditional spoon-feeding.\\tOBJECTIVE\\nthis randomised controlled trial included 206 participants assigned to control (n=101) or bliss (n=105) groups.\\tBACKGROUND\\nboth groups received standard midwifery and \\'well child\\' care.\\tBACKGROUND\\nbliss participants received eight additional visits (from before birth to 9 months) providing education and support on the bliss approach to complementary feeding (ie, blw modified to increase iron intake).\\tBACKGROUND\\nthe primary outcome of the bliss study (growth) has been previously reported.\\tBACKGROUND\\nthis paper reports the key prespecified secondary outcomes, iron intake and iron status.\\tOBJECTIVE\\nintake of iron and key absorption modifiers were assessed using weighed 3-day diet records at 7 and 12 months.\\tMETHODS\\na venipuncture blood sample was collected at 12 months to determine plasma ferritin, haemoglobin, soluble transferrin receptor, c-reactive protein and alpha1-acid glycoprotein concentrations; and body iron was calculated.\\tMETHODS\\ndifferences in median dietary iron intakes between the control and bliss groups were not significant at 7 (difference 0.6 mg/day; 95% ci -1.0 to 2.3) or 12 (-0.1 mg/day; -1.6 to 1.4) months of age.\\tRESULTS\\nsimilarly, there were no significant differences in plasma ferritin concentration (difference -2.6 microg/l; 95% ci -10.9 to 5.8), body iron (0.04 mg/kg; -1.1 to 1.2) or the prevalence of depleted iron stores, early functional iron deficiency or iron deficiency anaemia (all p>/=0.65) at 12 months of age.\\tRESULTS\\na baby-led approach to complementary feeding does not appear to increase the risk of iron deficiency in infants when their parents are given advice to offer \\'high-iron\\' foods with each meal.\\tCONCLUSIONS\\nthe diagnosis of antineutrophil cytoplasmic antibody (anca) associated vasculitis (aav) is rare in pregnancy but potentially life threatening.\\tBACKGROUND\\nthere are no randomized controlled trials to guide the management of aav in pregnancy and fetal safety data remains limited.\\tBACKGROUND\\nrituximab administration, a treatment for aav, has been reported in pregnant women with reassuring fetal outcomes in the oncology and rheumatology literature; however, no published reports describe its use in aav.\\tBACKGROUND\\nwe present a case of de novo myeloperoxidase positive (mpo) aav diagnosed at 22 weeks gestation.\\tOBJECTIVE\\nclinical presentation included elevated serum creatinine at 177 mumol/l, hematuria and nephrotic range proteinuria along with high-titre mpo.\\tMETHODS\\ndiagnosis was confirmed by renal biopsy.\\tMETHODS\\npatient was treated with methylprednisolone iv followed by oral prednisone 70 mg daily and rituximab 650 mg iv weekly for four weeks followed by azathioprine maintenance therapy and prednisone taper.\\tMETHODS\\ndelivery occurred at 29 weeks gestation via cesarean section for maternal neurologic symptoms concerning for preeclampsia.\\tMETHODS\\nmaternal and fetal cd + 19 cells were depleted at time of delivery with associated fetal lymphopenia in the absence of infection or other complications related to rituximab use.\\tRESULTS\\nthe patient experienced a reduction in proteinuria and inflammatory markers following rituximab therapy; however, serum creatinine increased to 375 mumol/l by 11 weeks post-partum.\\tRESULTS\\nwe report the first use, to our knowledge, of rituximab with corticosteroids for induction therapy of aav in pregnancy.\\tCONCLUSIONS\\nmyeloid-derived suppressor cells (mdsc) play an important role in tumor-mediated immune evasion.\\tBACKGROUND\\nlevels of mdsc in peripheral blood are increased in patients with cancer, correlating with cancer stage and outcome.\\tBACKGROUND\\nstudies have confirmed the associations between mdsc and various cytokines in the peripheral blood of murine and human cancer hosts.\\tBACKGROUND\\nhowever, little is known about the association between parenchymal mdsc subsets and cytokines, or the mechanism drawing mdsc into tumor parenchyma.\\tBACKGROUND\\nthe aim of this study was to analyze the correlation between mdsc subsets and tumor grade as well as stage in renal cell carcinoma (rcc) patients.\\tOBJECTIVE\\nthe expression of chemokine (c-c motif) ligand 2 (ccl2), interleukin 17 (il-17) and interleukin 18 (il-18) in the peripheral blood and parenchyma of rcc patients was also detected to explore its correlation with mdsc accumulation.\\tOBJECTIVE\\ntotal mdsc, granulocytic mdsc (g-mdsc), monocytic mdsc (m-mdsc), and immature mdsc (i-mdsc) from the blood and parenchyma were isolated and analyzed by flow cytometry.\\tMETHODS\\ncytokines were detected by the enzyme-linked immunosorbent assay (elisa), real-time polymerase chain reaction (pcr) and western blot in blood and tumors.\\tMETHODS\\nparenchymal levels of mdsc had a positive correlation with levels of ccl2, il-17, and il-18, suggesting these cytokines may attract mdsc into the parenchyma.\\tRESULTS\\nmoreover, peripheral total mdsc, g-mdsc and i-mdsc were shown to correlate with tumor grade and stage.\\tRESULTS\\ngene and protein expression of ccl2, il-17, and il-18 was significantly increased in blood and tumors of rcc patients.\\tRESULTS\\nour study has provided potential new targets for the risk stratification of patients with limited stages of renal carcinoma, in addition to elucidating a possible association between mdsc subsets and cytokine-induced migration into the tumor tissue.\\tCONCLUSIONS\\nhuman embryonic kidney (hek) 293 cells were characterised as an expression system for voltage-activated cationic channels.\\tBACKGROUND\\ncurrent density for cationic channels intrinsically expressed in hek 293 cells as well as cell ultrastructure was described after 7-11, 29-30 and 49-63 days of cell culture.\\tRESULTS\\nslowly activating outward potassium current with the current density varying between +10 and +26 pa/pf was observed in 72% to 95% of investigated cells.\\tRESULTS\\nrapidly inactivating outward potassium current with the current density varying between +7 and +10 pa/pf was present in 38% to 48% of all cells.\\tRESULTS\\n30% of cells exhibited voltage-activated calcium channel with the current density less than -1 pa/pf.\\tRESULTS\\ntetrodotoxin-sensitive sodium current with amplitudes between -1.4 and -2.2 pa/pf was initially present in 5% of cells, nevertheless, after 49-63 days of cell culture this proportion increased to 35%.\\tRESULTS\\nultrastructure of hek 293 cell surface, but not of cell\\'s interior changed during cell culture.\\tRESULTS\\nthe longer the time after thawing the more microvilli and protrusions appear on the cell surface.\\tRESULTS\\nirregular cell contours hinder the cells to appose and only small patches of membranes form attachments.\\tRESULTS\\nstaining of cells with a polycationic dye ruthenium red initially increased and decreased again following prolonged period of time in culture indicating regression of negatively charged layers of the cell surface coat.\\tRESULTS\\nwe suggest that the optimal time window for patch clamp experiment is between days 7 and 63 of cell culture due to alterations of cell surface.\\tCONCLUSIONS\\nthe aim of the present study was to evaluate the diagnostic performances of strain and wall thickening analysis in discriminating among three types of myocardium after acute myocardial infarction: non-infarcted myocardium, infarcted myocardium without microvascular obstruction (mvo) and infarcted myocardium with mvo.\\tOBJECTIVE\\nseventy-one patients with a successfully treated st-segment elevation myocardial infarction underwent cardiovascular magnetic resonance imaging at 2-6 days after reperfusion.\\tMETHODS\\nthe imaging protocol included conventional cine imaging, myocardial tissue tagging and late gadolinium enhancement.\\tMETHODS\\nregional circumferential and radial strain and associated strain rates were analyzed in a 16-segment model as were the absolute and relative wall thickening.\\tMETHODS\\nhyperenhancement was detected in 418 (38%) of 1096 segments and was accompanied by mvo in 145 (35%) of hyperenhanced segments.\\tRESULTS\\nwall thickening, circumferential and radial strain were all significantly diminished in segments with hyperenhancement and decreased even further if mvo was also present (all p < 0.001).\\tRESULTS\\npeak circumferential strain (cs) surpassed all other strain and wall thickening parameters in its ability to discriminate between hyperenhanced and non-enhanced myocardium (all p < 0.05).\\tRESULTS\\nfurthermore, cs was superior to both absolute and relative wall thickening in differentiating infarcted segments with mvo from infarcted segments without mvo (p = 0.02 and p = 0.001, respectively).\\tRESULTS\\nstrain analysis is superior to wall thickening in differentiating between non-infarcted myocardium, infarcted myocardium without mvo and infarcted myocardium with mvo.\\tCONCLUSIONS\\npeak circumferential strain is the most accurate marker of regional function.\\tCONCLUSIONS\\n* cmr can quantify regional myocardial function by analysis of wall thickening on cine images and strain analysis of tissue tagged images.\\tCONCLUSIONS\\n* strain analysis is superior to wall thickening in differentiating between different degrees of myocardial injury after acute myocardial infarction.\\tCONCLUSIONS\\n* peak circumferential strain is the most accurate marker of regional function.\\tCONCLUSIONS\\nthe berg balance scale (bbs) is often used in clinical practice to predict falls in the older adults.\\tBACKGROUND\\nhowever, there is no consensus in research regarding its ability to predict falls.\\tBACKGROUND\\nto verify whether the bbs can predict falls risk in older adults.\\tOBJECTIVE\\nmanual and electronic searches (medline, embase, cinahl, ageline, lilacs, web of science, cochrane library and pedro) were conducted using blocks of words (older adults, falls, bbs, study design) and their synonyms, with no language restrictions and published since 1989.\\tMETHODS\\nprognostic studies or clinical trials were used to assess the bbs and falls history.\\tMETHODS\\nin this narrative synthesis, two independent assessors extracted data from articles and a third reviewer provided consensus, in case of disagreement.\\tMETHODS\\nthe methodological quality was assessed using the quality in prognosis studies tool.\\tMETHODS\\n1047 studies were found and 8 studies were included in this review.\\tRESULTS\\nthe mean bbs score was high, regardless of the history of falls.\\tRESULTS\\nthree studies presented cut-off scores for bbs, ranging from 45 to 51 points.\\tRESULTS\\ntwo studies reported a difference in the bbs score between fallers and non-fallers.\\tRESULTS\\nstudies presented low to moderate risk of bias.\\tRESULTS\\nunfeasible to conduct a meta-analysis due the heterogeneity of included studies.\\tCONCLUSIONS\\nthe evidence to support the use of bbs to predict falls is insufficient, and should not be used alone to determine the risk of falling in older adults.\\tCONCLUSIONS\\nprospero crd42016032309.\\tNONE\\nmicroarrays of biomolecules hold great promise in the fields of genomics, proteomics, and clinical assays on account of their remarkably parallel and high-throughput assay capability.\\tBACKGROUND\\nhowever, the fluorescence detection used in most conventional dna microarrays is still limited by sensitivity.\\tBACKGROUND\\nin this study, we have demonstrated a novel universal and highly sensitive platform for fluorescent detection of sequence specific dna at the femtomolar level by combining dextran-coated microarrays with hybridization chain reaction (hcr) signal amplification.\\tOBJECTIVE\\nthree-dimensional dextran matrix was covalently coated on glass surface as the scaffold to immobilize dna recognition probes to increase the surface binding capacity and accessibility.\\tMETHODS\\ndna nanowire tentacles were formed on the matrix surface for efficient signal amplification by capturing multiple fluorescent molecules in a highly ordered way.\\tMETHODS\\nby quantifying microscopic fluorescent signals, the synergetic effects of dextran and hcr greatly improved sensitivity of dna microarrays, with a detection limit of 10fm (1x10(5) molecules).\\tRESULTS\\nthis detection assay could recognize one-base mismatch with fluorescence signals dropped down to ~20%.\\tRESULTS\\nthis cost-effective microarray platform also worked well with samples in serum and thus shows great potential for clinical diagnosis.\\tCONCLUSIONS\\npeptide-based epitope tagging technology is universally used in nearly all kind of research projects that involve biochemical characterization of a target protein, but not many systems are fully compatible with purification purpose.\\tBACKGROUND\\nby utilizing an anti-human podoplanin antibody nz-1, we constructed a novel epitope tag system.\\tOBJECTIVE\\nnz-1 possesses exceptionally high affinity toward a dodecapeptide dubbed \"pa tag\", with a characteristic slow dissociation kinetics.\\tBACKGROUND\\nbecause of its high affinity, pa-tagged proteins in a dilute sample can be captured by immobilized nz-1 resin in a near complete fashion and eluted by a solution of free pa peptide.\\tBACKGROUND\\nthis enabled efficient one-step purification of various proteins including soluble (an ectodomain fragment of neuropilin-1) and membrane (epidermal growth factor receptor) proteins expressed in mammalian cells.\\tRESULTS\\nmild regeneration condition of the peptide-bound antibody ensures repeated use of the antibody resin, indicating a cost-efficient nature of the system.\\tRESULTS\\ntogether with its outstanding performance in the immunodetection experiments (i.e., western blotting and flow cytometry), pa tag/nz-1 system will offer a great chance to facilitate protein production in many biomedical research projects.\\tCONCLUSIONS\\nto investigate the long-term efficacy of polyethylene glycol (peg) during maintenance treatment of childhood functional constipation (fc) in a randomized, double-blinded, placebo-controlled trial.\\tOBJECTIVE\\nchildren (2-16y) with fc according to the rome iii criteria were randomly assigned to maintenance treatment with peg or placebo for 24 wk.\\tMETHODS\\nchildren reporting treatment failure before 24 wk were switched to conventional treatment.\\tMETHODS\\nprimary outcome was successful treatment, defined as absence of any rome iii criteria with or without use of medication after 24 wk.\\tMETHODS\\n102 children were included: peg/placebo: 49/53.\\tRESULTS\\nat 24 wk, significantly more patients in the peg group, compared to the placebo group, were successfully treated (33 (67%) vs. 19 (36%) hz = 3.21 [1.73-5.94]).\\tRESULTS\\nsignificantly fewer children in the peg group switched to rescue medication (2 (4%) vs. 30 (57%), p < 0.001).\\tRESULTS\\ntime before the change to rescue medication was 13 and 27 days, respectively, for each of the 2 children in the peg group who required rescue medication.\\tRESULTS\\nmedian time to shift to rescue medication was 27 days (range: 3-64 days) in the placebo group.\\tRESULTS\\nat 24 wk after initiation of treatment, 33 children (67%) in the peg group were successfully treated, compared to 19 children (32%) in the placebo group (hz = 3.21 [1.73-5.94]).\\tRESULTS\\nno serious adverse event related to use of the medication was registered.\\tRESULTS\\nmaintenance treatment with peg is significantly more effective than placebo in preventing relapse of constipation symptoms during long-term maintenance treatment in childhood fc.\\tCONCLUSIONS\\nwe therefore recommend that maintenance treatment commence after disimpaction.\\tCONCLUSIONS\\ntransient chromatic pattern visual evoked potentials (veps) have been found to be less repeatable in morphology in children than in adults at low to moderate chromatic contrasts.\\tBACKGROUND\\nthe purpose of this study is to investigate whether low repeatability of vep components can be associated with high alpha power, in a comparison of alpha activity in children and adults.\\tOBJECTIVE\\ntransient chromatic contrast and achromatic resolution veps were recorded in children (n = 14, mean 9.6 years) and adults (n = 12, mean 21.8 years) with normal vision and assessed for repeatability.\\tMETHODS\\nisoluminant chromatic (magenta-cyan) and luminance-modulated achromatic grating stimuli were presented at and above psychophysical threshold levels, in pattern onset-offset at 2 hz temporal frequency.\\tMETHODS\\neegs (eyes closed and open) were recorded as single sweeps (1 s long) over three 30 s periods while facing a uniform computer display.\\tMETHODS\\nan index of vep detectability by observation was developed based on vep component repeatability.\\tMETHODS\\nthe index was examined for correlations with alpha-wave parameters.\\tMETHODS\\nalpha power was calculated as the sum of the powers of 8-13 hz frequencies of the eeg sweeps (using the discrete fourier transform).\\tMETHODS\\nalpha power variability was calculated using the standard deviation of the powers of each sweep in a 30 s time period.\\tMETHODS\\nthe children had significantly higher alpha powers than the adults for both the eyes-open and eyes-closed conditions.\\tRESULTS\\nalpha power variability was significantly higher for the eyes-open condition only.\\tRESULTS\\nthere was no relationship between alpha power parameters and index of vep detectability by observation for both the chromatic and achromatic grating stimuli.\\tRESULTS\\npoor repeatability of transient pattern veps is not associated with high alpha power or its variability in eeg measurements in older children or young adults at oz.\\tCONCLUSIONS\\ninsomnia often coexists with depression, and there is compelling evidence for a genetic component in the etiologies of both disorders.\\tBACKGROUND\\nwe genotyped an exonic variant, rs4290270, in tryptophan hydroxylase-2 (tph-2) gene to investigate its association with primary insomnia in han chinese, and further with depression symptoms in patients with primary insomnia.\\tOBJECTIVE\\nretrospective cross-sectional study.\\tMETHODS\\nthis study included 152 patients with primary insomnia and 164 age- and gender-matched normal controls.\\tMETHODS\\nneuropsychological tests were performed.\\tMETHODS\\nthe genotype distributions of tph-2 gene rs4290270 met the hardy-weinberg equilibrium in both patients and controls (p>0.05).\\tRESULTS\\nthe allele and genotype distributions of this variant were comparable between patients and controls in all subjects and by genders (all p>0.05).\\tRESULTS\\nthe impact of rs4290270 on sds score changes was statistically significant (p=0.002), with carriers of a/a genotype having the highest self-rating depression scale (sds) score (mean +/- standard deviation: 52.73+/-12.88), followed by a/t genotype (50.94+/-11.29, p=0.35) and t/t genotype (43.48+/-7.78, p<0.01), and this impact was more obvious in women (p<0.001).\\tRESULTS\\nour findings indicate that tph-2 gene rs4290270 may not be a susceptibility locus for primary insomnia in han chinese, but may be a marker of depressive symptoms, especially sds score, in patients with primary insomnia.\\tCONCLUSIONS\\nbackground the pathogenesis of immune thrombocytopenia (itp) has not been fully clarified.\\tBACKGROUND\\nanti-alphavbeta3 integrin autoantibody is detected in chronic itp patients, but its contribution to itp is still unclear.\\tBACKGROUND\\nobjectives to clarify the potential role of anti-alphavbeta3 integrin autoantibody in chronic itp and the related mechanism.\\tOBJECTIVE\\nmethods relationship between levels of anti-alphavbeta3 autoantibody and platelets in chronic itp patients was evaluated.\\tMETHODS\\nthe influence of anti-alphavbeta3 antibody on megakaryocyte (mk) survival, differentiation, migration and adhesion was assessed, and the associated signal pathways were investigated.\\tMETHODS\\nplatelet recovery and mks\\' distribution were observed in an itp mouse model pretreated with different antibodies.\\tMETHODS\\nresult in this study, we showed that the anti-alphavbeta3 autoantibody usually coexists with anti-alphaiibbeta3 autoantibody in chronic itp patients, and patients with both autoantibodies have lower platelets.\\tRESULTS\\nin in vitro studies, we showed that the anti-alphavbeta3 antibody had no significant effect on the survival and proliferation of mks, whereas it decreased formations of proplatelet significantly.\\tRESULTS\\nanti-alphavbeta3 antibody impeded stromal cell derived facor-1 alpha (sdf-1alpha)- mediated migration and inhibited the phosphorylation of protein kinase b.\\tRESULTS\\nanti-alphavbeta3 antibody significantly inhibited mks\\' adhesion to endothelial cells and fibrogen.\\tRESULTS\\nthe phosphorylation of focal adhesion kinase and proto-oncogene tyrosine-protein kinase src induced by adhesion was inhibited when mks were pretreated with anti-alphavbeta3 antibody.\\tRESULTS\\nin in vivo studies, we showed that injection with anti-alphav antibody delayed platelet recovery in a mouse model of itp.\\tRESULTS\\nconclusions these findings demonstrate that the autoantibody against integrin alphav beta3 may aggravate thrombocytopenia in itp patients by impeding mk migration and adhesion to the vascular niche, which provides new insights into the pathogenesis of itp.\\tCONCLUSIONS\\nwe compared the clinical characteristics and outcomes of young patients with myocardial infarction with nonobstructive coronary arteries (minoca) versus obstructive disease (myocardial infarction due to coronary artery disease [mi-cad]) and among patients with minoca by sex and subtype.\\tOBJECTIVE\\nbetween 2008 and 2012, virgo (variation in recovery: role of gender on outcomes of young ami patients) prospectively enrolled acute myocardial infarction patients aged 18 to 55 years in 103 hospitals at a 2:1 ratio of women to men.\\tMETHODS\\nusing an angiographically driven taxonomy, we defined patients as having mi-cad if there was revascularization or plaque >/=50% and as having minoca if there was <50% obstruction or a nonplaque mechanism.\\tMETHODS\\npatients who did not have an angiogram or who received thrombolytics before an angiogram were excluded.\\tMETHODS\\noutcomes included 1- and 12-month mortality and functional (seattle angina questionnaire [saq]) and psychosocial status.\\tMETHODS\\nof 2690 patients undergoing angiography, 2374 (88.4%) had mi-cad, 299 (11.1%) had minoca, and 17 (0.6%) remained unclassified.\\tRESULTS\\nwomen had 5 times higher odds of having minoca than men (14.9% versus 3.5%; odds ratio: 4.84; 95% confidence interval, 3.29-7.13).\\tRESULTS\\nminoca patients were more likely to be without traditional cardiac risk factors (8.7% versus 1.3%; p<0.001) but more predisposed to hypercoaguable states than mi-cad patients (3.0% versus 1.3%; p=0.036).\\tRESULTS\\nwomen with mi-cad were more likely than those with minoca to be menopausal (55.2% versus 41.2%; p<0.001) or to have a history of gestational diabetes mellitus (16.8% versus 11.0%; p=0.028).\\tRESULTS\\nthe minoca mechanisms varied: a nonplaque mechanism was identified for 75 patients (25.1%), and their clinical profiles and management also varied.\\tRESULTS\\none- and 12-month mortality with minoca and mi-cad was similar (1-month: 1.1% and 1.7% [p=0.43]; 12-month: 0.6% and 2.3% [p=0.68], respectively), as was adjusted 12-month saq quality of life (76.5 versus 73.5, respectively; p=0.06).\\tRESULTS\\nyoung patients with minoca were more likely women, had a heterogeneous mechanistic profile, and had clinical outcomes that were comparable to those of mi-cad patients.\\tCONCLUSIONS\\ntranscranial direct current stimulation (tdcs) is a non-invasive brain stimulation technique with potential for cost-effective therapeutic neuromodulation.\\tBACKGROUND\\nalthough positive therapeutic effects were found by stimulating the dorsolateral prefrontal cortex (dlpfc), few studies have investigated physiological effects of dlpfc-tdcs.\\tBACKGROUND\\nto investigate effects of tdcs with different parameter settings applied to the left dlpfc on cortical responses, measured by resting-state electroencephalography (rs-eeg) and transcranial magnetic stimulation (tms)-evoked/induced eeg responses.\\tOBJECTIVE\\n22 healthy subjects underwent 5 tdcs sessions with different tdcs parameter settings in a double-blinded randomized crossover design (1: 1.5ma, anode left-dlpfc, cathode right-dlpfc; 2: 1.5ma, cathode left-dlpfc, anode right-dlpfc; 3: 0.5ma, anode left-dlpfc, cathode right-dlpfc; 4: 1.5ma, anode left-dlpfc, cathode left deltoid muscle; 5: sham stimulation).\\tMETHODS\\nrs-eeg and tms-eeg were recorded before and after tdcs.\\tMETHODS\\nrs-eeg power spectrum analysis showed no difference comparing baseline with post stimulation in any of the tdcs conditions.\\tRESULTS\\ntms-eeg evoked potential amplitude decreased in parietal cortex after 1.5ma left-dlpfc anodal tdcs, and tms-induced gamma and theta oscillations decreased after all conditions using left-dlpfc anodal tdcs.\\tRESULTS\\nleft-dlpfc cathodal tdcs did not lead to significant change.\\tRESULTS\\nnone of the post-intervention changes was different when comparing the effects across conditions, including sham.\\tRESULTS\\nour study does not provide evidence that a single tdcs session results in significant changes in rs-eeg, using the current stimulation parameters.\\tCONCLUSIONS\\nsignificant changes in eeg responses to tms pulses were observed following the anodal 1.5ma tdcs interventions, although these changes were not statistically significant in a group comparison.\\tCONCLUSIONS\\nzirconium - a bioinert metal - in comparison with titanium implants, offers a variety of potential advantages for use in the esthetic area of dentistry due to its tooth-like color.\\tBACKGROUND\\nzirconium dental implants are considered to be an alternative method of treatment to conventional titanium dental implants for patients with a thin gingival biotype.\\tBACKGROUND\\nthis study was designed to study the bone tissue response to new zirconia implants with modified surfaces in comparison with commercially available titanium dental implants and commercially available zirconia implants.\\tOBJECTIVE\\nthe study was carried out on a group of 12 16-month-old minipigs.\\tMETHODS\\nnew zirconia implants with 3 different surfaces were used: m1 - blasted surface, m2 - etched surface and m3 - blasted and etched surface (maxon motor gmbh, sexau, germany) and compared to conventional titanium implants with an sandblasted and acid etched (sla) surface (straumann gmbh, freiburg, germany) and commercially available zirconia implants (ziterion gmbh, uffenheim, germany).\\tMETHODS\\nhistological and micro-computed tomopgraphy (micro-ct) evaluation was performed.\\tMETHODS\\nin the micro-ct assessment, the average bone-implant contact (bic) of the zirconia experimental implants was 41.44%.\\tRESULTS\\nin particular, the bic% for m1 was 39.72%, for m2 it was 43.97%, and for m3 - 40.63%; in the control group it was 49.63% and 27.77% for ceramic and titanium control implants, respectively.\\tRESULTS\\nthe intra-group analysis showed no statistically important differences between the bic values for implants in any group.\\tRESULTS\\nhowever, the analysis of bic for different regions of the same implant showed statistically significant differences in all of the groups between the results of the threaded region and the neck and the apex.\\tRESULTS\\nthe results of our study suggest that zirconia implants with modified surfaces display features of osseointegration similar to those of titanium implants.\\tCONCLUSIONS\\nthese results are promising in using zirconia implants for dental applications in the future.\\tCONCLUSIONS\\nto report the finding of transmural rectal involvement, in four children with lesions which seemed to be neoplastic in appearance and progression.\\tOBJECTIVE\\nthe case records of four children presenting with rectal involvement by the fungus basidiobolus ranarum, were retrospectively analyzed for clinical presentation, hematological and radiological investigations, the procurement of histopathological material for diagnosis and the findings thereof, the treatment of these patients and the follow-up.\\tMETHODS\\nthe four children presented with non-specific symptoms of fever, loss of weight and appetite, constipation and bleeding per rectum.\\tRESULTS\\none presented with excoriation and ulceration of the perineum and perianal skin.\\tRESULTS\\nexamination generally unremarkable, however, showed the rectum extensively involved by a lesion which narrowed the lumen.\\tRESULTS\\nhematological investigations showed leukocytosis with eosinophilia and raised levels of acute phase reactants like esr, platelets, and c-reactive proteins.\\tRESULTS\\nultrasonogram (usg) and ct scan confirmed the lesion to be involving all layers of the rectum and compromising the rectal lumen.\\tRESULTS\\nthe right colon was also involved in one patient.\\tRESULTS\\none underwent a colonoscopy and biopsy which proved inconclusive.\\tRESULTS\\nall four underwent a tru-cut biopsy which was diagnostic.\\tRESULTS\\nhistopathologically the disease was based in basidiobolus ranarum, a fungus which is emerging as a cause of visceral abdominal involvement.\\tRESULTS\\nlesions involving the rectum, and appearing to be neoplastic may be caused by the fungus basidiobolus ranarum.\\tCONCLUSIONS\\nthe symptomatology and presentation may be non-specific.\\tCONCLUSIONS\\nhigh levels of eosinophils in the blood, a raised esr, and c-reactive protein may be useful pointers to the diagnosis.\\tCONCLUSIONS\\nusg and ct scans localize the lesions and also provide a guide for biopsies.\\tCONCLUSIONS\\nthe characteristic histopathological findings are diagnostic and based on these, treatment with itroconazole / voriconazole is beneficial.\\tCONCLUSIONS\\nemergency room utilization and hospital readmission rates are disproportionately high for heart failure patients (hf).\\tBACKGROUND\\nemergency department (ed) utilization is intimately intertwined with hospital readmissions.\\tBACKGROUND\\ndescribe the arrival time distribution of hf patients presenting to the ed.\\tOBJECTIVE\\nthe study analyzed heart failure discharge data from the florida state emergency department database and the florida state inpatient database from the healthcare cost and utilization project of the agency for healthcare research and quality.\\tMETHODS\\ndata were treated as a poisson process and analyzed using functional data analysis tools.\\tMETHODS\\nhf arrivals are multi-modal with the largest peak arrival time in the middle of the day as well as a smaller peak in the early morning hours, especially in rural areas.\\tRESULTS\\nthe arrival pattern has minor differences in rural and urban areas.\\tCONCLUSIONS\\nhf clinic appointments should be established in the early morning hours when these patients utilize the ed.\\tCONCLUSIONS\\ncontrast-enhanced cardiac computed tomography (ce-ct) provides useful substrate characterization in patients with ventricular tachycardia (vt).\\tBACKGROUND\\nthe purpose of this study was to describe the association between endocardial electrogram measurements and myocardial characteristics on ce-ct, in particular the field of view of electrogram features.\\tOBJECTIVE\\nfifteen patients with postinfarct vt who underwent catheter ablation with preprocedural ce-ct were included.\\tMETHODS\\nelectroanatomic maps were registered to ce-ct, and myocardial attenuation surrounding each endocardial point was measured at a radius of 5, 10, and 15 mm.\\tMETHODS\\nthe association between endocardial voltage and attenuation was assessed using a multilevel random effects linear regression model, clustered by patient, with best model fit defined by highest log likelihood.\\tMETHODS\\na total of 4698 points were included.\\tRESULTS\\nthere was a significant association of bipolar and unipolar voltage with myocardial attenuation at all radii.\\tRESULTS\\nfor unipolar voltage, the best model fit was at an analysis radius of 15 mm regardless of the mapping catheter used.\\tRESULTS\\nfor bipolar voltage, the best model fit was at an analysis radius of 15 mm for points acquired with a conventional ablation catheter.\\tRESULTS\\nin contrast, the best model fit for points acquired with a multipolar mapping catheter was at an analysis radius of 5 mm.\\tRESULTS\\nmyocardial attenuation on ce-ct indicates a smaller myocardial field of view of bipolar electrograms using multipolar catheters with smaller electrodes in comparison to standard ablation catheters despite similar interelectrode spacing.\\tCONCLUSIONS\\nsmaller electrodes may provide improved spatial resolution for the definition of myocardial substrate for vt ablation.\\tCONCLUSIONS\\nthe aim of this study was to use the same quantitative measure and scale to directly compare the neurodynamic information/organizations of individual team members with those of the team.\\tOBJECTIVE\\nteam processes are difficult to separate from those of individual team members due to the lack of quantitative measures that can be applied to both process sets.\\tBACKGROUND\\nsecond-by-second symbolic representations were created of each team member\\'s electroencephalographic power, and quantitative estimates of their neurodynamic organizations were calculated from the shannon entropy of the symbolic data streams.\\tMETHODS\\nthe information in the neurodynamic data streams of health care ( n = 24), submarine navigation ( n = 12), and high school problem-solving ( n = 13) dyads was separated into the information of each team member, the information shared by team members, and the overall team information.\\tMETHODS\\nmost of the team information was the sum of each individual\\'s neurodynamic information.\\tRESULTS\\nthe remaining team information was shared among the team members.\\tRESULTS\\nthis shared information averaged ~15% of the individual information, with momentary levels of 1% to 80%.\\tRESULTS\\ncontinuous quantitative estimates can be made from the shared, individual, and team neurodynamic information about the contributions of different team members to the overall neurodynamic organization of a team and the neurodynamic interdependencies among the team members.\\tCONCLUSIONS\\ninformation models provide a generalizable quantitative method for separating a team\\'s neurodynamic organization into that of individual team members and that shared among team members.\\tCONCLUSIONS\\nthat breast carcinoma is the most common malignant lesion in women.\\tBACKGROUND\\nthis study aimed to differentiate benign from malignant breast lesions and to predict grading of the latter by comparing the diagnostic value of different parameters in intravoxel incoherent motion diffusion-weighted imaging (ivim-dwi).\\tOBJECTIVE\\nretrospective analysis was performed utilizing imaging and pathological data from 112 patients with 124 breast lesions that underwent ivim-dwi examination with 3.0 t mri.\\tMETHODS\\nout of 124, 47 benign and 77 malignant lesions were confirmed by pathological diagnosis.\\tMETHODS\\nthe diagnostic performance of f, d, and d* value to distinguish benign from malignant breast lesions, was evaluated using pathological results as the gold standard.\\tMETHODS\\ncorrelation between d value and ki-67 index was evaluated to predict grading of malignant breast lesions.\\tMETHODS\\nthe d value (0.99 +/- 0.21) of patients with malignant lesions was significantly lower than that (1.34 +/- 0.18) of patients harboring benign lesions (p = .00).\\tRESULTS\\nthe d* value (7.60 +/- 2.10) in malignant lesion group was higher than that (6.83 +/- 2.13) of the benign lesion group (p = .113).\\tRESULTS\\nthe f value (8.50 +/- 2.13) in malignant lesion group was remarkably higher than that (7.68 +/- 1.98) of benign lesion group (p = .035).\\tRESULTS\\nfor differential diagnosis of benign from malignant breast lesions, optimal diagnostic threshold of d value and f value were 1.21 and 7.86, respectively.\\tRESULTS\\nthe areas of d and f values under the roc curve were 0.883 and 0.601, respectively.\\tRESULTS\\nthe sensitivity, specificity, and accuracy of d value were 83.0%, 86.7%, and 85.5%, respectively.\\tRESULTS\\naccordingly, those indexes of f value were 64.9%, 57.4%, and 62.1%, respectively.\\tRESULTS\\nfurthermore, the ki-67 staining index of malignant lesions was robustly negatively correlated with d value (r = -0.395, p < .01).\\tRESULTS\\nconcrete parameters of ivim-dwi can help to improve the specificity and accuracy in differential diagnosis of breast benign and malignant lesions.\\tCONCLUSIONS\\nd value is most relevant and valuable in predicting the grading of malignant breast lesions.\\tCONCLUSIONS\\nin this article, we seek to determine how sensitive road cyclists are to vertical vibration transmitted while riding a road bicycle and to propose metrics for the evaluation of dynamic comfort.\\tOBJECTIVE\\nroad cyclists are exposed to random-type excitation due to road roughness.\\tBACKGROUND\\nvibration transmitted affects dynamic comfort.\\tBACKGROUND\\nbut how sensitive are cyclists to vibration level?\\tBACKGROUND\\nwhat are the best metrics to measure the amount of vibration transmitted to cyclists?\\tBACKGROUND\\nprevious studies used sinusoidal excitation with participants on rigid seats and measured acceleration.\\tBACKGROUND\\nwe use a psychophysical estimation of just noticeable differences in level (jndl) for vertical vibration transmitted to cyclists on a road simulator.\\tMETHODS\\nin experiment 1, we estimate the jndl for whole-body vibration using vertical excitation on both wheels simultaneously (20 male cyclists).\\tMETHODS\\nin experiment 2, we estimate the jndl at two different points of contact by applying the same signal to only the hands or the buttocks (9 male cyclists).\\tMETHODS\\nthe jndls are expressed in terms of acceleration and power transmitted to the cyclist.\\tMETHODS\\nwe compare the jndls expressed with these 2 metrics and measured at different points of contact.\\tMETHODS\\nusing these two metrics and at all points of contact, vibration magnitude needs to be reduced by at least 15%, for the change to be detectable by road cyclists.\\tRESULTS\\na road bicycle needs to transmit at least 15% less vibration for male cyclists to detect an improvement in dynamic comfort.\\tRESULTS\\ndynamic bicycle comfort can be measured in terms of a new metric: power transmitted to the cyclist.\\tCONCLUSIONS\\nin eukaryotes, the creation of ligatable nicks in dna from flap structures generated by dna polymerase delta-catalyzed displacement dna synthesis during okazaki fragment processing depends on the combined action of fen1 and dna2.\\tBACKGROUND\\nthese two enzymes contain partially overlapping but distinct endonuclease activities.\\tBACKGROUND\\ndna2 is well-suited to process long flaps, which are converted to nicks by the subsequent action of fen1.\\tBACKGROUND\\nin this report, we purified human dna2 as a recombinant protein from human cells transfected with the cdna of the human homologue of saccharomyces cerevisiae dna2.\\tMETHODS\\nwe demonstrated that the purified human dna2 enzyme contains intrinsic endonuclease and dna-dependent atpase activities, but is devoid of detectable dna helicase activity.\\tRESULTS\\nwe determined a number of enzymatic properties of human dna2 including its substrate specificity.\\tRESULTS\\nwhen both 5\\' and 3\\' tailed ssdnas were present in a substrate, such as a forked-structured one, both single-stranded regions were cleaved by human dna2 (hdna2) with equal efficiency.\\tRESULTS\\nbased on this and other properties of hdna2, it is likely that this enzyme facilitates the removal of 5\\' and 3\\' regions in equilibrating flaps that are likely to arise during the processing of okazaki fragments in human cells.\\tCONCLUSIONS\\nsince the 1950\\'s, hydrocephalus can be treated with cerebrospinal fluid shunts, usually to the peritoneal cavity or to the right cardiac atrium.\\tBACKGROUND\\nhowever, due to their siphoning effect, these shunts lead to non-physiological cerebrospinal fluid drainage, with possible co-morbidity and high revision rates.\\tBACKGROUND\\nmore sophisticated shunt valve systems significantly increase costs and technical complexity and remain unsuccessful in a subgroup of patients.\\tBACKGROUND\\nin an attempt to obtain physiological cerebrospinal fluid shunting, many neurosurgical pioneers shunted towards the dural sinuses, taking advantage of the physiological anti-siphoning effect of the internal jugular veins.\\tBACKGROUND\\ndespite several promising reports, the ventriculosinus shunts did not yet become standard neurosurgical practice.\\tBACKGROUND\\nin this mono-centric prospective clinical study, we implanted the retrograde ventriculosinus shunt, as advocated by el-shafei, in 10 patients.\\tMETHODS\\nthis article reports on our operation technique and long-term outcome, including 4 patients in whom this shunt was implanted as a rescue.\\tMETHODS\\nimplantation of a ventriculosinus shunt proved to be a feasible technique, warranting physiological drainage of cerebrospinal fluid.\\tRESULTS\\nhowever, only in 3 out of 14 patients, functionality of the retrograde ventriculosinus shunt was maintained during more than 6 years follow-up.\\tRESULTS\\nin our opinion, these shunts fail because present venous access devices are difficult to implant correctly and get too easily obstructed.\\tRESULTS\\nafter discussing possible causes of this frequent obstruction, a new dural venous sinus access device is presented.\\tRESULTS\\nan easy to implant and thrombogenic-resistant dural venous sinus access device needs to be developed before ventriculosinus shunting can become general practice.\\tCONCLUSIONS\\nhumans alter gait in response to unusual gait circumstances to accomplish the task of walking.\\tBACKGROUND\\nfor instance, subjects spontaneously increase leg compliance at a step length threshold as step length increases.\\tBACKGROUND\\nhere we test the hypothesis that this transition occurs based on the level of energy expenditure, where compliant walking becomes less energetically demanding at long step lengths.\\tOBJECTIVE\\nto map and compare the metabolic cost of normal and compliant walking as step length increases.\\tOBJECTIVE\\n10 healthy individuals walked on a treadmill using progressively increasing step lengths (100%, 120%, 140% and 160% of preferred step length), in both normal and compliant leg walking as energy expenditure was recorded via indirect calorimetry.\\tMETHODS\\nleg compliance was controlled by lowering the center-of-mass trajectory during stance, forcing the leg to flex and extend as the body moved over the foot contact.\\tMETHODS\\nfor normal step lengths, compliant leg walking was more costly than normal walking gait, but compliant leg walking energetic cost did not increase as rapidly for longer step lengths.\\tRESULTS\\nthis led to an intersection between normal and compliant walking cost curves at 114% relative step length (regression analysis; r(2)=0.92 for normal walking; r(2)=0.65 for compliant walking).\\tRESULTS\\ncompliant leg walking is less energetically demanding at longer step lengths where a spontaneous shift to compliant walking has been observed, suggesting the human motor control system is sensitive to energetic requirements and will employ alternate movement patterns if advantageous strategies are available.\\tCONCLUSIONS\\nthe transition could be attributed to the interplay between (i) leg work controlling body travel during single stance and (ii) leg work to control energy loss in the step-to-step transition.\\tCONCLUSIONS\\ncompliant leg walking requires more stance leg work at normal step lengths, but involves less energy loss at the step-to-step transition for very long steps.\\tCONCLUSIONS\\nsingle photon emission computed tomography (spect) is obtained by the injection of one of a series of compounds that cross the blood-brain barrier and are distributed in the brain according to regional perfusion or to the density of a given receptor.\\tBACKGROUND\\nthe regional brain distribution of the injected compound can be measured because it is bound to a radioactive substance that emits photons.\\tBACKGROUND\\nemitted photons are collimated to facilitate determining their source and detected with sodium iodine crystal detectors.\\tBACKGROUND\\nfinally, the techniques of ct are used to reconstruct the density of photons emitted by each volume element (voxel) of the brain.\\tBACKGROUND\\nless expensive and more widely distributed in nuclear medicine departments than positron emission tomography, spect is currently used mainly in the evaluation for epilepsy surgery, of cerebrovascular disease, and of the parkinsonian and other neurodegenerative syndromes.\\tBACKGROUND\\nin this article, we discuss the technological aspects of brain spect and its clinical neurological applications.\\tOBJECTIVE\\nthe therapeutic practices for distress management (tpdm) project was carried out to support clinicians in integrating recommendations from four clinical practice guidelines (cpgs) in routine care at five pan canadian cancer care sites.\\tOBJECTIVE\\nusing a concurrent, mixed-method study design and knowledge translation (kt) activities, this project included two phases: phase i-a baseline/preparation phase and phase ii-an intervention phase plus evaluation.\\tMETHODS\\nthe intervention phase (the focus of this report) included a one-year education and supervision program (24 hours in virtual class; 12-hour group supervision).\\tMETHODS\\nprimary outcomes were knowledge and self-efficacy in practicing cpgs as measured by a knowledge and self-efficacy survey (kses).\\tMETHODS\\na secondary outcome was observer-rated performances with standardized patients (objective structured clinical exams).\\tMETHODS\\nparticipants included 80 (90%) nurses, and 9 (10%) social workers (n = 89).\\tMETHODS\\nthe tpdm program was effective in accomplishing change in knowledge, self-efficacy, and performance.\\tRESULTS\\nall measures demonstrated significant change pre and post module, with evidence of increasing knowledge (p < .01) and confidence (p < .01) over time.\\tRESULTS\\nfurther, there was evidence of a shift in barriers and enablers to practicing in alignment with the cpgs.\\tRESULTS\\na tailored education program using case-based learning and supervision over time improves knowledge and practice among front line clinicians.\\tCONCLUSIONS\\nthe findings have implications for quality improvement in cancer care.\\tCONCLUSIONS\\nto test the hypothesis of whether cellular blue nevi (cbn) may originate from \"ordinary\" compound and dermal nevi, a total of 275 melanocytic nevi including 59 cbn, 34 ordinary blue nevi, 87 combined nevi (including 43 so-called clonal nevi), 35 deep penetrating nevi, and 60 ordinary compound and dermal nevi (30 of each) were studied for the presence of so-called ball-in-mitts and microalveolar structures.\\tOBJECTIVE\\na ball-in-mitts structure was defined as a single centrally placed melanocyte with a round to oval nucleus (the \"ball\" cell) and a clear, dusty, or pigmented cytoplasm encircled by a single dendritic cell (the \"mitt\" cell) with an oval to spindle-shaped nucleus and slender bipolar processes containing melanin and surrounding at least one fourth of the ball\\'s diameter.\\tMETHODS\\na microalveolar structure was defined as a group of 2 to 10 centrally placed melanocytes with round to oval nuclei and clear, dusty, or pigmented cytoplasm (balls) surrounded by one or more cells (mitts) with spindle-shaped nuclei and slender bipolar processes containing melanin.\\tMETHODS\\nmicroscopically, ball-in-mitt and microalveolar structures were detected in all types of nevi studied, with the highest incidence in combined nevi (82%), cbn (76%), and ordinary \"nonblue\" nevi (73%).\\tRESULTS\\nin cbn, ball-in-mitts and microalveolar structures tended to be located in the deeper portion of the lesions, whereas in ordinary nonblue nevi, they were most often found superficially, just below the epidermis; in clonal nevi, these structures were often confined to the \"clonal\" parts.\\tRESULTS\\nimmunohistochemically, ball-in-mitts and microalveolar structures were positive for hmb45.\\tRESULTS\\nultrastructurally, the balls tended to have round to oval nuclei, whereas the mitts possessed oval, elongated to spindled nuclei.\\tRESULTS\\nmelanosomes were found in various stages in the cells of both structures.\\tRESULTS\\nthe cytoplasm of the mitts typically formed elongated polar processes, sometimes with club-like widenings at the ends, completely or partially encircling the balls.\\tRESULTS\\nin the microalveolar structures, the adjacent cells forming the mitts surrounded the ball cells like a chain.\\tRESULTS\\nour study suggests that some or even most cases of cbn may evolve from ordinary nonblue nevi.\\tCONCLUSIONS\\nthis process may involve several steps and is probably reflected by the appearances of combined nevi, deep penetrating nevi, and cbn.\\tCONCLUSIONS\\nthese nevi often show a morphological overlap, and ball-in-mitts and microalveolar structures found in various stages of their development seem to greatly account for this overlap.\\tCONCLUSIONS\\nmirnas are a class of endogenous non-coding rna, which can regulate downstream target genes through binding to the 3\\'utr of those genes.\\tBACKGROUND\\nnumerous studies have indicated that abnormal expression of mirnas is implicated in tumor development.\\tBACKGROUND\\naberrant expression of mir-31 has been found in various cancers, including colorectal cancer.\\tBACKGROUND\\nhere, we show that mir-31 is upregulated in human colon cancer tissues and cell lines, and that repression of mir-31 inhibited colon cancer cell proliferation and colony formation in soft agarose.\\tRESULTS\\nto further elucidate the mechanism underlying the role of mir-31 in promoting colon cancer, we used online mirna target prediction databases and found that the tumor suppressor rhotbt1 may be a target of mir-31.\\tMETHODS\\nimunohistochemistry assay revealed that rhobtb1 was significantly decreased in ht29 cells.\\tRESULTS\\nin addition, ectopic expression of mir-31 reduced rhobtb1 in the colon cancer cell line ht29.\\tRESULTS\\nthe results suggested that suppression of rhobtb1 may be responsible for colon tumorigenesis, which was inhibited directly by mir-31.\\tRESULTS\\nthe results of mtt and soft agarose colony-formation assays showed that knockdown of rhobtb1 by rnai induced cell proliferation, and colony formation in soft agarose, which mimicked the function of mir-31.\\tRESULTS\\nthis further suggested that suppression of rhobtb1 was responsible for colon tumorigenesis.\\tRESULTS\\nin conclusion, we found that mir-31 acts as an oncogene in colon cancer and identified rhobtb1 as a new target of mir-31 further study demonstrated that mir-31 contributed to the development of colon cancer at least partly by targeting rhobtb1.\\tCONCLUSIONS\\nthe serve-hf study has raised questions concerning the higher mortality under adaptive servoventilation.\\tBACKGROUND\\nthe ventilatory mode was discussed as a possible aggravating factor.\\tBACKGROUND\\nwe wondered if the data recorded by the adaptive servo-ventilation (asv)-devices in heart failure patients with csa-csr +/- osa are different in terms of respiratory parameters and therapeutic pressures compared to patients with cpap-resistant/emergent-csa with normal bnp/nt-pro-bnp.\\tOBJECTIVE\\npatients were included, if asv had normalized respiratory disturbance index in the first night of application and after at least 6 weeks.\\tMETHODS\\nasv-device data were analyzed in terms of respiratory rate (rr), min ventilation (mv), endexpiratory (eep), peak inspiratory pressure (ppeak) and median pressure.\\tMETHODS\\ncompared to cpap-resistant/emergent-csa with normal bnp/nt-pro-bnp (n = 25), csa-csr- (n = 13) csa-csr+osa-patients (n = 32) with elevated bnp/nt-pro-bnp had higher rr (p < 0.01) in the first night of asv therapy and during follow-up (15.3 +/- 1.3 vs. 17.3 +/- 2.4/min) with similar mv (6.5 +/- 1.3 vs. 6.6 +/- 1.3 l), resulting in significantly lower tidal volumes.\\tRESULTS\\neep (5.6 +/- 1.1 vs. 5.5 +/- 1.1 hpa), pmedian and ppeak (9.8 +/- 1.5 vs. 9.7 +/- 1.2 hpa) were comparable.\\tRESULTS\\nventilatory parameters were not different between lvef < 40, 40-49, and >/=50%, neither within the whole group nor the group of csa-csr +/- osa and heart failure.\\tRESULTS\\npatients with heart failure and csa-csr +/- osa have higher rrs but similar mv under asv-therapy than patients with csa and normal bnp.\\tCONCLUSIONS\\nthis indicates higher dead space ventilation.\\tCONCLUSIONS\\nef was not found to have an influence on the ventilatory parameters.\\tCONCLUSIONS\\nan outbreak of gastroenteritis (ge) occurred in community-dwelling adults in the central region of urban singapore, in may 2016.\\tBACKGROUND\\nto investigate the cause of the outbreak.\\tOBJECTIVE\\nwe conducted a case-cohort study on ge patients linked to the outbreak who presented to the emergency department of a tertiary-care hospital near the outbreak area, from 18 may to 11 june 2016.\\tMETHODS\\nstools were tested for gastrointestinal pathogens including rotavirus antigen and positive rotavirus samples were subject to genotyping.\\tMETHODS\\na total of 57 adult ge patients, with a median age of 40 (range 18 to 84) years, were included.\\tRESULTS\\npredominant symptoms were diarrhoea (98.2%), vomiting (64.9%), and abdominal discomfort (38.6%).\\tRESULTS\\nage 65 years and above (adjusted or 21.78, 95% ci 1.49-318.84; p=0.02) was the only predictor of admission, after adjusting for comorbidities and clinical severity.\\tRESULTS\\nmolecular microbiological investigations confirmed that the outbreak was caused by a novel human-bovine reassortant strain of rotavirus g8p[8] with ds-1-like backbone.\\tRESULTS\\nexposure to the market in the outbreak area was strongly associated with rotavirus infection (or 46.14; 95% ci 43.04-49.25, p<0.01).\\tRESULTS\\nno particular food item could be identified as the outbreak cause.\\tRESULTS\\nthis is the first report of an outbreak of rotavirus g8p[8] in adults in an urban community that is not waterborne.\\tCONCLUSIONS\\ntransmission was likely through fomites in the market and its surrounding areas, via consumption or contact with contaminated food items purchased from the market, and from person-to-person.\\tCONCLUSIONS\\nthe potential for novel g8p[8] strains to cause outbreaks cannot be overemphasized.\\tCONCLUSIONS\\nablative lesions are current treatments for epilepsy and brain tumors.\\tBACKGROUND\\ninterstitial magnetic resonance (mr) guided focused ultrasound (imrgfus) may be an alternate ablation technique which limits thermal tissue charring as compared to laser therapy (litt) and can produce larger ablation patterns nearer the surface than transcranial mr guided focused ultrasound (tcmrgfus).\\tBACKGROUND\\nto describe our experience with interstitial focused ultrasound (ifus) ablations in swine, using mr-guided robotically assisted (mrgra) delivery.\\tOBJECTIVE\\nin an initial 3 animals, we optimized the workflow of the robot in the mr suite and made modifications to the robotic arm to allow range of motion.\\tMETHODS\\nthen, 6 farm pigs (4 acute, 2 survival) underwent 7 imrgfus ablations using mrgra.\\tMETHODS\\nwe altered dosing to explore differences between thermal dosing in brain as compared to other tissues.\\tMETHODS\\nimaging was compared to gross examination.\\tMETHODS\\nour work culminated in adjustments to the mrgra, imrgfus probes, and dosing, culminating in 2 survival surgeries; swine had ablations with no neurological sequelae at 2 wk postprocedure.\\tRESULTS\\nimmediately following imrgfus therapy, diffusion-weighted imaging, and t1 weighted mr were accurate reflections of the ablation volume.\\tRESULTS\\nt2 and fluid-attenuated inversion-recovery (flair) images were accurate reflections of ablation volume 1-wk postprocedure.\\tRESULTS\\nwe successfully performed mrgra ifus ablation in swine and found intraoperative and postoperative imaging to correlate with histological examination.\\tCONCLUSIONS\\nthese data are useful to validate our system and to guide imaging follow-up for thermal ablation lesions in brain tissue from our therapy, tcmrgfus, and litt.\\tCONCLUSIONS\\nsynpolydactyly (spd) is a rare congenital limb disorder characterized by syndactyly between the third and fourth fingers and an additional digit in the syndactylous web.\\tBACKGROUND\\nin most cases spd is caused by heterozygous mutations in hoxd13 resulting in the expansion of a n-terminal polyalanine tract.\\tBACKGROUND\\nif homozygous, the mutation results in severe shortening of all metacarpals and phalanges with a morphological transformation of metacarpals to carpals.\\tBACKGROUND\\nhere, we describe a novel homozygous missense mutation in a family with unaffected consanguineous parents and severe brachydactyly and metacarpal-to-carpal transformation in the affected child.\\tOBJECTIVE\\nwe performed whole exome sequencing on the index patient, followed by sanger sequencing of parents and patient to investigate cosegregation.\\tMETHODS\\nthe dna-binding ability of the mutant protein was tested with electrophoretic mobility shift assays.\\tMETHODS\\nwe demonstrate that the c.938c>g (p.313t>r) mutation in the dna-binding domain of hoxd13 prevents binding to dna in vitro.\\tRESULTS\\nour results show to our knowledge for the first time that a missense mutation in hoxd13 underlies severe brachydactyly with metacarpal-to-carpal transformation.\\tRESULTS\\nthe mutation is non-penetrant in heterozygous carriers.\\tRESULTS\\nin conjunction with the literature we propose the possibility that the metacarpal-to-carpal transformation results from a homozygous loss of functional hoxd13 protein in humans in combination with an accumulation of non-functional hoxd13 that might be able to interact with other transcription factors in the developing limb.\\tCONCLUSIONS\\n(c) 2015 wiley periodicals, inc.\\tNONE\\npsoriasis is a chronic, hyper-proliferative dermatological condition associated with joint symptoms known as psoriatic arthritis (psa).\\tBACKGROUND\\nin a 2013 review, the total economic burden of psa was estimated at $51.7-$63.2 billion.\\tBACKGROUND\\nthe economic burden of moderate to severe psoriasis patients has reduced significantly with the advent of biologics, but there remains a dearth of real-world evidence of the impact of treatment persistence on the economic burden of moderate to severe psoriasis and/or psa patients.\\tBACKGROUND\\nto evaluate the overall and psoriasis and/or psa-related health care utilization and costs among patients who were persistent versus those nonpersistent on index biologic among the moderate to severe psoriasis and/or psa population.\\tOBJECTIVE\\nadult patients with >/= 2 claims with diagnosis of psoriasis and/or psa during the period of november 2010-october 2015 were identified from the u.s.\\tMETHODS\\ndepartment of defense database; the first diagnosis date during november 2011-october 2014 was defined as the index date.\\tMETHODS\\nas of the index date, patients were considered to have moderate to severe psoriasis or psa if they had >/= 1 nontopical systemic therapy or phototherapy during the 1-year pre- or 1-month post-index date.\\tMETHODS\\npersistence to index therapy, defined as the first biologic used (etanercept, adalimumab, ustekinumab, infliximab) on or within 30 days post-index date, was determined based on the biologic dosing schedule and a 90-day gap.\\tMETHODS\\ngeneralized linear models were used to compare the health care utilization and costs between persistent and nonpersistent patients during the 1-year post-index period.\\tMETHODS\\na total of 2,945 moderate to severe psoriasis and/or psa patients were identified.\\tRESULTS\\nof those, 1,899 (64.5%) were persistent and 1,046 (35.5%) were nonpersistent.\\tRESULTS\\ncompared with nonpersistent patients, persistent patients were older (49.2 vs. 45.5 years; p < 0.001) and more likely to be male (52% vs. 45%; p < 0.001).\\tRESULTS\\nmore persistent patients were diagnosed with dyslipidemia (40% vs. 35%; p = 0.002), had lower antidepressant use (23.4% vs. 27.4%; p < 0.001), and had lower anxiolytic use (30% vs. 37%; p < 0.001) compared with nonpersistent patients.\\tRESULTS\\nafter adjusting for demographic and clinical characteristics, nonpersistent patients had higher total medical costs ($12,457 vs. $8,964; p < 0.001) compared with persistent patients, and ambulatory visits (23.9 vs. 21.4; p = 0.007) were a major contributor.\\tRESULTS\\napproximately 40% of the total overall medical costs were attributed to psoriasis and psa.\\tRESULTS\\nalthough persistent patients incurred higher pharmacy costs ($10,684 vs. $7,849; p < 0.001) due to higher biologic use and the potentially high per-unit cost of biologics, their psoriasis- and/or psa-related medical costs were significantly lower than those of nonpersistent patients ($3,395 vs. $5,041; p < 0.001).\\tRESULTS\\ntotal overall costs combining medical and pharmacy costs were similar between the cohorts ($22,678 vs. $21,477; p = 0.122).\\tRESULTS\\nmoderate to severe psoriasis and/or psa patients who were persistent on index biologic treatment had higher pharmacy utilization and costs, albeit with lower medical costs and similar total costs, compared with nonpersistent patients.\\tCONCLUSIONS\\nthis study was funded by janssen scientific affairs.\\tNONE\\nlee is a paid employee of janssen scientific affairs.\\tNONE\\nxie, wang, vaidya, and baser are paid employees of statinmed research, which is a paid consultant to janssen scientific affairs.\\tNONE\\nthis study was presented as an abstract at the academy of managed care pharmacy 2017 annual meeting, march 27-30, 2017, in denver, co.\\tNONE\\ncognitive biases refer to automatic attentional and interpretational tendencies, which could be retained by cognitive bias modification interventions.\\tBACKGROUND\\ncristea et al and jones et al have published reviews (in 2016 and 2017 respectively) on the effectiveness of such interventions.\\tBACKGROUND\\nthe advancement of technologies such as electronic health (ehealth) and mobile health (mhealth) has led to them being harnessed for the delivery of cognitive bias modification.\\tBACKGROUND\\nto date, at least eight studies have demonstrated the feasibility of mobile technologies for the delivery of cognitive bias modification.\\tBACKGROUND\\nmost of the studies are limited to a description of the conventional cognitive bias modification methodology that has been adopted.\\tBACKGROUND\\nnone of the studies shared the developmental process for the methodology involved, such that future studies could adopt it in the cost-effective replication of such interventions.\\tBACKGROUND\\nit is important to have a common platform that could facilitate the design and customization of cognitive bias modification interventions for a variety of psychiatric and addictive disorders.\\tOBJECTIVE\\nit is the aim of the current research protocol to describe the design of a research platform that allows for customization of cognitive bias modification interventions for addictive disorders.\\tOBJECTIVE\\na multidisciplinary team of 2 addiction psychiatrists, a psychologist with expertise in cognitive bias modification, and a computer engineer, were involved in the development of the intervention.\\tMETHODS\\nthe proposed platform would comprise of a mobile phone version of the cognitive bias task which is controlled by a server that could customize the algorithm for the tasks and collate the reaction-time data in realtime.\\tMETHODS\\nthe server would also allow the researcher to program the specific set of images that will be present in the task.\\tMETHODS\\nthe mobile phone app would synchronize with the backend server in real-time.\\tMETHODS\\nan open-sourced cross-platform gaming software from react native was used in the current development.\\tMETHODS\\nmultimedia appendix 1 contains a video demonstrating the operation of the app, as well as a sample dataset of the reaction times (used for the computation of attentional biases) captured by the app.\\tRESULTS\\nthe current design can be utilized for cognitive bias modification across a spectrum of disorders and is not limited to one disorder.\\tCONCLUSIONS\\nit will be of value for future research to utilize the above platform and compare the efficacy of mhealth approaches, such as the one described in this study, with conventional web-based approaches in the delivery of attentional bias modification interventions.\\tCONCLUSIONS\\nregistered report  rr1-10.2196/9740.\\tNONE\\nthe potent anti-hiv microbicide griffithsin was expressed to high levels in tobacco chloroplasts, enabling efficient purification from both fresh and dried biomass, thus providing storable material for inexpensive production and scale-up on demand.\\tCONCLUSIONS\\nthe global hiv epidemic continues to grow, with 1.8 million new infections occurring per year.\\tBACKGROUND\\nin the absence of a cure and an aids vaccine, there is a pressing need to prevent new infections in order to curb the disease.\\tBACKGROUND\\ntopical microbicides that block viral entry into human cells can potentially prevent hiv infection.\\tBACKGROUND\\nthe antiviral lectin griffithsin has been identified as a highly potent inhibitor of hiv entry into human cells.\\tBACKGROUND\\nhere we have explored the possibility to use transplastomic plants as an inexpensive production platform for griffithsin.\\tOBJECTIVE\\nwe show that griffithsin accumulates in stably transformed tobacco chloroplasts to up to 5% of the total soluble protein of the plant.\\tRESULTS\\ngriffithsin can be easily purified from leaf material and shows similarly high virus neutralization activity as griffithsin protein recombinantly expressed in bacteria.\\tRESULTS\\nwe also show that dried tobacco provides a storable source material for griffithsin purification, thus enabling quick scale-up of production on demand.\\tRESULTS\\nin spite of several proposed predictors for premature ventricular complex (pvc)-induced cardiomyopathy (pvc-cmp), the specific ecg features of idiopathic right ventricular outflow tract (rvot) pvc-cmp remain unknown.\\tOBJECTIVE\\na total of 130 patients (49 males, mean age 44 years) with symptomatic and drug-refractory idiopathic rvot pvcs undergoing radiofrequency catheter ablation (rfca) were enrolled.\\tMETHODS\\nthe patients were categorized into two groups, including those with and without rvot pvc-cmp (left ventricular ejection fraction (lvef) < 50%, n = 25 and lvef >/= 50%, n = 105, respectively).\\tMETHODS\\nthe 12-lead pvc morphologies were assessed.\\tMETHODS\\npatients with rvot pvc-cmp had a lower lvef (42 +/- 5% vs. 60 +/- 7%, p < 0.01) and higher pvc burden (24 +/- 14% vs. 15 +/- 11%, p = 0.02) when compared to patients without rvot pvc-cmp.\\tRESULTS\\nthe pvc features in those with pvc-cmp displayed a significantly wider qrs duration (143 +/- 14 ms vs. 132 +/- 17 ms, p < 0.01) and higher peak deflection index (pdi; 0.60 +/- 0.07 vs. 0.55 +/- 0.08, p < 0.01).\\tRESULTS\\na multivariate analysis demonstrated that the qrs duration (odds ratio (or) 1.130, 95% confidence interval (ci) 1.020-1.253, p = 0.02) and pdi (or 1.240, 95% ci 1.004-1.532, p = 0.04) were independently associated with rvot pvc-cmp.\\tRESULTS\\nbased on the receiver-operating characteristic analysis, a qrs duration > 139 ms and pdi > 0.57 could predict rvot pvc-cmp (area under the curve (auc) 0.710 and auc 0.690, respectively).\\tRESULTS\\nthe elimination and suppression of pvcs by rfca resulted in the recovery of the lvef in rvot pvc-cmp.\\tRESULTS\\nthe ecg parameters, including a wider qrs duration and higher pdi, could predict the development of rvot pvc-cmp, which could be effectively treated by rfca.\\tCONCLUSIONS\\nin this study, we test whether established non-native species induce functional changes in natural assemblages.\\tOBJECTIVE\\nwe combined data on the body size of freshwater fish species and a worldwide data set of native and non-native fish species for 1058 river basins.\\tMETHODS\\nwe show that non-native fish species are significantly larger than their native counterparts and are a non-random subset of the worldwide set of fish species.\\tRESULTS\\nwe further show that the median body size of fish assemblages increases in the course of introductions.\\tRESULTS\\nthese changes are the opposite of those expected under several null models.\\tRESULTS\\nintroductions shift body size patterns related to several abiotic factors (e.g. glacier coverage and temperature) in a way that modifies latitudinal patterns (i.e. bergmann\\'s rule), especially in the southern hemisphere.\\tRESULTS\\ntogether, these results show that over just the last two centuries human beings have induced changes in the global biogeography of freshwater fish body size, which could affect ecosystem properties.\\tCONCLUSIONS\\nto investigate the association between iron supplementation during early pregnancy and the presence of de novo hypertension after 20 weeks\\' gestation (either gestational hypertension or pre-eclampsia).\\tOBJECTIVE\\nretrospective cohort study.\\tMETHODS\\nthis study retrospectively reviewed the medical records of non-anemic pregnant women who received first antenatal care at the department of obstetrics and gynecology, faculty of medicine vajira hospital, navamindradhiraj university, bangkok, thailand, during the june 2009-december 2010 study period.\\tMETHODS\\nall included women had blood pressure and urine albumin level data that were recorded at each antenatal visit.\\tMETHODS\\nthe study population was divided into one of the two following groups: iron supplementation starting at gestational age (ga) < 16 weeks (study group) or ga >/= 16 weeks (control group).\\tMETHODS\\na comparison of the proportion of de novo hypertension arising after 20 weeks\\' gestation was then performed between groups.\\tMETHODS\\nfour hundred non-anemic pregnant women were included, with 200 patients allocated to each groups.\\tRESULTS\\nthe overall incidence of de novo hypertension after 20 weeks\\' gestation was 10% (40/400), with significantly higher prevalence in the study group than that in the control group [13.5% (27/200) vs.\\tRESULTS\\n6.5% (13/200); relative risk: 2.14, 95%, ci 1.22-3.73; p = 0.008].\\tRESULTS\\nnone of the women in this study developed anemia at time of delivery.\\tRESULTS\\nthere was no significant difference between groups for ga at delivery, birth weight, or birth asphyxia.\\tRESULTS\\nin our study population, iron supplementation before 16 weeks\\' ga was significantly associated with increased risk of developing de novo hypertension after 20 weeks\\' gestation.\\tCONCLUSIONS\\nmutagenesis assistant program (map) is a web-based statistical tool to develop directed evolution strategies by investigating the consequences at the amino acid level of the mutational biases of random mutagenesis methods on any given gene.\\tBACKGROUND\\nthe latest development of the program, the map(2.0)3d server, correlates the generated amino acid substitution patterns of a specific random mutagenesis method to the sequence and structural information of the target protein.\\tRESULTS\\nthe combined information can be used to select an experimental strategy that improves the chances of obtaining functionally efficient and/or stable enzyme variants.\\tRESULTS\\nhence, the map(2.0)3d server facilitates the \"in silico\" prescreening of the target gene by predicting the amino acid diversity generated in a random mutagenesis library.\\tRESULTS\\nhere, we describe the features of map(2.0)3d server by analyzing, as an example, the cytochrome p450bm3 monooxygenase (cyp102a1).\\tOBJECTIVE\\nthe map(2.0)3d server is available publicly at http://map.jacobs-university.de/map3d.html.\\tCONCLUSIONS\\nas effector cells in host defence, neutrophils actively destroy invading microorganisms via a potent antimicrobial arsenal composed of oxidants and antimicrobial peptides.\\tBACKGROUND\\npsoriasin, an escherichia coli-cidal antimicrobial protein, has been found to be overexpressed in psoriasis, a skin disease characterized by infiltration of neutrophils.\\tBACKGROUND\\nin addition to its microbicidal activities and chemotaxis of neutrophils reported previously, we hypothesized that psoriasin might regulate other neutrophil functions such as cytokine and chemokine production, reactive oxygen species generation, and release of antimicrobial peptides.\\tOBJECTIVE\\nin the current study, we demonstrate that psoriasin activates neutrophils to produce a range of cytokines and chemokines including interleukin-6 (il-6), il-8/cxcl8, tumour necrosis factor-alpha, macrophage inflammatory protein-1alpha (mip-1alpha)/ccl3, mip-1beta/ccl4 and mip-3alpha/ccl20.\\tRESULTS\\nfurthermore, psoriasin induces phosphorylation of mitogen-activated protein kinase p38 and extracellular signal-regulated kinase (erk), but not c-jun n-terminal kinase (jnk), both of which are required for the production of cytokines and chemokines as evidenced by the inhibitory effects of p38 and erk inhibitors on psoriasin-mediated neutrophil activation.\\tRESULTS\\nmoreover, psoriasin stimulates the generation of reactive oxygen species from neutrophils, most likely via nicotinamide adenine dinucleotide phosphate oxidase activation.\\tRESULTS\\nfinally, we demonstrate that psoriasin enhances messenger rna expression of alpha-defensins, termed human neutrophil peptides (hnp) 1 to 3, and induces their extracellular release.\\tRESULTS\\nbesides its antimicrobial properties, therefore, psoriasin may contribute to innate immunity through enhancing neutrophil host defence functions at sites of inflammation or infection.\\tCONCLUSIONS\\nisotopic tracers have been used to examine lipid trafficking for many years, and data from those studies have typically yielded novel insight regarding the pathophysiology of dyslipidemia.\\tBACKGROUND\\nprevious experimental designs were suitable for studies in humans because relatively large volumes of plasma could be regularly sampled.\\tBACKGROUND\\nwe have expanded on the earlier logic by applying high-throughput analytical methods that require reduced sample volumes.\\tOBJECTIVE\\nspecifically, we have examined the possibility of coupling gel-based separations of lipoproteins (e.g., lipoprint) with lc-ms/ms analyses of complex lipid mixtures as a way to routinely measure the labeling profiles of distinct lipids in discrete lipoprotein subfractions.\\tMETHODS\\nwe demonstrate the ability to measure the incorporation of [u-(13)c]oleate into triglycerides (tg), pls (pl), and cholesterol esters (ce) in vldl, ldl, and hdl particles in mice.\\tRESULTS\\nalthough rodent models of dyslipidemia are inherently different from humans because of alterations in enzyme activities and underlying metabolism, rodent models can be used to screen novel compounds for efficacy in altering a given biochemical pathway and therein enable studies of target engagement in vivo.\\tCONCLUSIONS\\nwe expect that it is possible to translate our approach for application in other systems, including studies in humans.\\tCONCLUSIONS\\nreliable reference intervals for serum progastrin-releasing peptide (progrp) in healthy chinese adults with electrochemiluminescence immunoassay (eclia) are still lacking in the chinese population.\\tBACKGROUND\\nthe study aims to establish reference intervals for progrp with eclia in apparently healthy chinese adults.\\tOBJECTIVE\\na total of 384 apparently healthy individuals from six representative geographical regions in china were enrolled: 200 males and 184 females with a mean age of 43.4+/-12.2 years, and an age range from 21 to 85 years.\\tMETHODS\\nserum progrp levels were analyzed on cobas e601 automatic immunoassay analyzer with eclia.\\tMETHODS\\nreference intervals for serum progrp with eclia were determined following clsi c28-a3 guidelines using a nonparametric method.\\tMETHODS\\nin an apparently healthy chinese population, the reference intervals for serum progrp with eclia were 53.92 ng/l for adults aged 21-70 years and 75.69 ng/l for adults aged >70 years, respectively.\\tRESULTS\\nthe reference values for serum progrp with eclia in an apparently healthy chinese population were established according to the clsi c28-a3 document, providing a reference for the clinical work.\\tCONCLUSIONS\\nzumba fitness (zf) is a well-known exercise program involving dance and fitness.\\tBACKGROUND\\ndespite its increasing popularity, no analysis has been conducted on studies focusing on the cardiovascular (cv) profile of women who performed this activity.\\tBACKGROUND\\nthe aim of this systematic review is to provide insights into the impact of zf on women\\'s cv health.\\tOBJECTIVE\\nfive clinical databases were searched.\\tMETHODS\\nto be included, the articles had to include (1) women with or without cv risk factors (cvrf) and (2) cv-related outcomes resulting from a zf program.\\tMETHODS\\nten studies (322 women; 181 healthy, 141 with cvrf) were included.\\tRESULTS\\nin healthy women, low absolute effect sizes for maximal oxygen uptake (vo2max), anthropometric and body composition profile after 8 and 12 wk of zf were found compared with nonparticipants.\\tRESULTS\\nmoderate to large absolute effect sizes were recorded for vo2max and body composition following 40 wk of zf.\\tRESULTS\\nfindings proved promising but less consistent for zf studies involving women with cvrf due to the absence of control groups.\\tRESULTS\\ndata describe zf as feasible for healthy women and a promising fitness option for those with cvrf.\\tCONCLUSIONS\\nbecause of the low quality of the studies on women with cvrf and the overall small sample size along with discrepancies such as the average length of the studies on healthy women, cautious interpretation of the findings is recommended.\\tCONCLUSIONS\\nfurther investigations with a standardized design are needed to verify whether zf may be considered as an alternative fitness option in primary prevention of cv disease in women.\\tCONCLUSIONS\\na cross-sectional seroepidemiological survey of leishmaniasis was carried out among children and adults from four villages and one district of denizli province located in the southern aegean region of turkey where 14 human visceral leishmaniasis (hvl) cases including 4 adults were reported between 1993 and 2000.\\tOBJECTIVE\\nblood samples were taken from 329 children, 217 adults and 140 dogs and a physical examination was also done.\\tMETHODS\\nindirect fluorescent antibody test and enzyme linked immunosorbent assay were performed for all sera.\\tMETHODS\\nall 329 sera collected from children were found to be negative while 2 (0.09%) out of 217 adult sera were found to be seropositive.\\tRESULTS\\none seropositive adult patient was confirmed parasitologically as hvl after bone marrow aspiration and treated with ambisome while the other was followed only serologically because of the absence of symptoms.\\tRESULTS\\nthe overall canine leishmaniasis seroprevalence was found to be 20.7%.\\tRESULTS\\nsand flies were collected using cdc light traps in three out of five study sites and midguts of females were checked for promastigotes after dissection/identification.\\tRESULTS\\neight phlebotomus species were found in the region.\\tRESULTS\\nphlebotomus neglectus and p. papatasi were determined as dominant species with the ratio of 43.52% and 37.35%, respectively.\\tRESULTS\\nno promastigotes were found in the midgut specimens.\\tRESULTS\\nin addition, the results showed the presence of vector sand fly species, as well as a high seroprevalence of anti-leishmania antibodies among dogs from rural and a suburban area of denizli province with a large proportion of asymptomatic seropositive dogs.\\tRESULTS\\nrapidly rising temperatures are expected to cause latitudinal and elevational range shifts as species track their optimal climate north and upward.\\tBACKGROUND\\nhowever, a lack of adaptation to environmental conditions other than climate - for example photoperiod, biotic interactions, or edaphic conditions - might limit the success of immigrants in a new location despite hospitable climatic conditions.\\tBACKGROUND\\nhere, we present one of the first direct experimental tests of the hypothesis that warmer temperatures at northern latitudes will confer a fitness advantage to southern immigrants relative to native populations.\\tOBJECTIVE\\nas rates of warming in the arctic are more than double the global average, understanding the impacts of warming in arctic ecosystems is especially urgent.\\tOBJECTIVE\\nwe established experimentally warmed and nonwarmed common garden plots at alexandra fiord, ellesmere island in the canadian high arctic with seeds of two forb species (oxyria digyna and papaver radicatum) originating from three to five populations at different latitudes across the arctic.\\tMETHODS\\nwe found that plants from the local populations generally had higher survival and obtained a greater maximum size than foreign individuals, regardless of warming treatment.\\tRESULTS\\nphenological traits varied with latitude of the source population, such that southern populations demonstrated substantially delayed leaf-out and senescence relative to northern populations.\\tRESULTS\\nour results suggest that environmental conditions other than temperature may influence the ability of foreign populations and species to establish at more northerly latitudes as the climate warms, potentially leading to lags in northward range shifts for some species.\\tCONCLUSIONS\\nin assessing hazard for human health posed by newly engineered nanomaterials (enm), approaches such as weight of evidence (woe) and expert judgment are required to develop conclusions about the hazard of enm.\\tBACKGROUND\\nthis is because all factors affecting hazard are not currently well defined and are often subject to different interpretation.\\tBACKGROUND\\nhere we report the application of a woe procedure to assess the potential of enm to cause harm for human health, by integrating and combining physicochemical properties of nm and toxicity data obtained within the eu-funded particle risk project.\\tMETHODS\\nthe procedure was applied to carbon black (cb), single-walled carbon nanotubes (swnt), c60 fullerene and quantum dots (qd) enm tested during the particle risk project.\\tMETHODS\\nthe results show that some of the investigated enm present a relatively higher hazardousness level on the basis of the integration of their physicochemical properties and toxicological effects, and that their hazard may be ranked as follow: qd >> c60 > swnt > cb.\\tRESULTS\\nthis case study shows the utility of woe approach to obtain a hazard ranking of enm.\\tCONCLUSIONS\\nto investigate the efficacy and safety of estradiol valerate (ev)/dienogest (dng) for the management of heavy menstrual bleeding (hmb) in asian and non-asian women desiring contraception.\\tOBJECTIVE\\nin this multicenter, double-blind, phase iii study, women were randomized 2:1 to receive ev/dng or placebo tablets daily for seven 28-day cycles.\\tMETHODS\\nthe primary endpoint was the absolute change in menstrual blood loss (mbl) volume between the run-in and efficacy phases (90 days each).\\tMETHODS\\nsecondary endpoints included the proportion of women with successful treatment (i.e., no episodes of mbl >/=80 ml and a decrease of <50% in mbl), percent change in mbl from the run-in phase, and change in hemoglobin and serum ferritin levels.\\tMETHODS\\nadverse events (aes) were monitored throughout the study.\\tMETHODS\\nof the 341 women (mean age 34.7 +/- 7.7 years; 309 asians, 32 non-asians) randomized, 270 completed the study.\\tRESULTS\\nmean reduction in mbl volume from run-in phase was significantly greater with ev/dng than placebo (366.75 ml vs. 149.14 ml; p < 0.0001), with approximately 52% and 12% of women, respectively, experiencing successful treatment.\\tRESULTS\\npercent decrease in mbl volume from the run-in phase was significantly greater with ev/dng than placebo (63.5% vs. 24.8%; p < 0.0001).\\tRESULTS\\nhemoglobin and serum ferritin levels were increased with ev/dng compared with placebo.\\tRESULTS\\nstudy drug-related aes were reported in 16.3% and 8.2% of women with ev/dng and placebo, respectively, none of which were of severe intensity.\\tRESULTS\\nev/dng may be a safe and effective option in the treatment of hmb in asian and non-asian women who desire contraception.\\tCONCLUSIONS\\na calcaneal spur, also known as enthesophyte, is an abnormal bone outgrowth at the inferior part of the calcaneus, which is the most common site of bony spur occurrence.\\tBACKGROUND\\nalthough there is consensus that a calcaneal spur is a common cause of heel pain, approximately 20% of calcaneal spurs are asymptomatic and its pathology remains not fully understood.\\tBACKGROUND\\nin this report, we present a rare case of a very large and bizarre calcaneal spur in a young adult man.\\tMETHODS\\nthe calcaneal spur was painful, which affected his foot function and was associated with plantar fasciitis.\\tMETHODS\\nthe spur length was measured in the radiograph and exhibited the longest calcaneal spur reported in the literature.\\tMETHODS\\nthe patient was treated conservatively, and he fully recovered his foot function.\\tMETHODS\\nthis case was unique because although the patient presented with an extremely large unilateral calcaneal spur, he was young and did not have any chronic disease; hence, he was treated conservatively.\\tRESULTS\\nthe pain subsided and he regained full function of his foot.\\tRESULTS\\nthis case questions the association between calcaneal spur length and plantar fasciitis symptoms.\\tCONCLUSIONS\\nthis case confirms that the length of calcaneal spurs, even extremely long ones, is not associated with the pathology of plantar fasciitis and that surgical treatment is not necessary.\\tCONCLUSIONS\\ndespite varied non-surgical alternatives for the treatment of osteoarthritis, many patients remain symptomatic.\\tBACKGROUND\\nin the last decade, the use of intra-articular platelet-rich plasma (prp) has been proposed as an option.\\tBACKGROUND\\nhowever, there is controversy about its clinical benefit and safety.\\tBACKGROUND\\nto answer this question we used epistemonikos, the largest database of systematic reviews in health, which is maintained by screening multiple information sources, including medline, embase, cochrane, among others.\\tMETHODS\\nwe extracted data from the systematic reviews, reanalyzed data of primary studies, conducted a meta-analysis and generated a summary of findings table using the grade approach.\\tMETHODS\\nwe identified twelve systematic reviews including four studies overall, of which all corresponded to randomized trials.\\tRESULTS\\nwe concluded that intra-articular injection of platelet-rich plasma might slightly decrease joint pain and improve patient satisfaction,vut it is not clear whether it has any effect on functionality because the certainty of the evidence is very low.\\tCONCLUSIONS\\nas for the adverse effects, if they exist, they would be non-severe and self-limited.\\tCONCLUSIONS\\nthe association between the checkpoint kinase 2*1100delc (chek2*1100delc) and breast cancer has been extensively explored.\\tBACKGROUND\\nin light of the recent publication of studies on these specific findings, particularly regarding male patients with breast cancer, we performed an updated meta-analysis to investigate a more reliable estimate.\\tOBJECTIVE\\nthis meta-analysis included 26 published studies selected in a search of electronic databases up to january 2018, including 118,735 breast cancer cases and 195,807 controls.\\tMETHODS\\nodds ratios (ors) with 95% confidence intervals (cis) were used to assess the association between 1100delc and breast cancer.\\tMETHODS\\nmeta-analysis results suggested that 1100delc contributed to an increased breast cancer risk in overall populations (or 2.89; 95% ci 2.63-3.16).\\tRESULTS\\nsubgroup analysis found ors of 3.13 (95% ci 1.94-5.07) for male breast cancer, 2.88 (95% ci 2.63-3.16) for female breast cancer, 2.87 (95% ci 1.85-4.47) for early-onset breast cancer, 2.92 (95% ci 2.65-3.22) for invasive breast cancer, and 3.21 (95% ci 2.41-4.29) for familial breast cancer.\\tRESULTS\\nthe sensitivity analysis suggested that results of this meta-analysis were generally robust.\\tRESULTS\\nchek2*1100delc is associated with an increased risk of both female and male breast cancer.\\tCONCLUSIONS\\nadherence to quality measures has become an important indicator of cancer center performance for high-quality cancer care.\\tBACKGROUND\\nwe examined regional variation in performance for commission on cancer breast quality measures and its impact on overall survival (os) for those measures that have been shown to impact os.\\tOBJECTIVE\\nsix breast quality measures were analyzed using the national cancer data base from 2014 to 2015, and a multivariable model was used to assess performance for each measure by region.\\tMETHODS\\nkaplan-meier and cox proportional hazard models were used to examine os between high- and low-performing centers from 2007 to 2012.\\tMETHODS\\noverall, 305,391 women had surgery at 1322 institutions in nine us regions; 90.8% underwent needle biopsy (range 86.0-92.6% between regions, p < 0.01), 69.8% had breast-conserving surgery (bcs) for stage 0-ii cancer (60.9-79.3%, p < 0.01), 85.2% aged < 70 years had radiation therapy (rt) after bcs (79.6-90.8%, p < 0.01), 78.3% of women with four or more positive nodes had post-mastectomy rt (70.9-84.5%, p < 0.01), 90.9% with hormone receptor (hr)-positive stage ib-iii cancer had hormone therapy (83.7-95.1%, p < 0.01), and 89.4% aged < 70 years with hr-negative stage ib-iii cancer had chemotherapy (87.6-91.4%, p < 0.01).\\tRESULTS\\nmultivariate analyses adjusted for patient and facility factors found that region was the only consistent predictor of non-compliance across measures.\\tRESULTS\\nwith median 65-month follow-up, there was no difference in os between high- and low-performing centers for the three measures that have been shown to impact os.\\tRESULTS\\nthere is significant regional variation in performance on the breast quality measures but this variation did not impact os.\\tCONCLUSIONS\\ntargeted efforts in certain areas of the country may help improve performance on these measures.\\tCONCLUSIONS\\nmany dental bleaching techniques are now available, several of them using a laser source.\\tBACKGROUND\\nhowever, the literature on the exact role of coherent light in the biochemical reaction of the whitening process is very discordant.\\tBACKGROUND\\nthe aims of this in vitro study were: (1) to compare two different laser sources, a ktp laser with a wavelength of 532 nm and a diode laser with a wavelength of 808 nm, during dental bleaching, and (2) to investigate the relationships among changes in gel temperature, tooth shade and hydrogen peroxide (hp) concentration during laser irradiation.\\tOBJECTIVE\\naltogether, 116 bovine teeth were bleached using a 30% hp gel, some of them with gel only and others with gel plus one of the two lasers (532 or 808 nm) at two different powers (2 and 4 w).\\tMETHODS\\nthe ktp laser produced a significant shade variation with a minimal temperature increase.\\tMETHODS\\nthe diode laser led to a higher temperature increase with a greater reduction in hp concentration, but the change in shade was only statistically significant with a power of 4 w.\\tRESULTS\\nat a power of 2 w, the ktp laser caused a greater change in shade than the diode laser.\\tRESULTS\\nno significant correlations were found among temperature, hp concentration and shade variation.\\tRESULTS\\nthe ktp laser appears to provide better results with less dangerous thermal increases than the diode laser.\\tCONCLUSIONS\\nthis might call into question most of the literature affirming that the action of laser bleaching is by increasing the gel temperature and, consequently, the speed of the redox reaction.\\tCONCLUSIONS\\nfurther study is required to investigate the correlations between the parameters investigated and efficacy of the bleaching process.\\tCONCLUSIONS\\nlittle is known about the clinical characteristics and health-related quality of life (hqol) of elderly patients with pulmonary mycobacterium avium complex (pmac) disease.\\tBACKGROUND\\nto evaluate hqol using the 36-item short-form health survey and st george\\'s respiratory questionnaire (sgrq) and to investigate the predictors of hqol changes among elderly patients with pmac disease.\\tOBJECTIVE\\nthis prospective cohort registry was conducted at keio university hospital, tokyo, japan, between may 2012 and july 2015 and included 84 patients with pmac disease aged >/=75 years who had completed the hqol questionnaire and 48 patients with pmac disease who had been followed up and completed the hqol questionnaire in cross-sectional and longitudinal analyses, respectively.\\tMETHODS\\nin cross-sectional analyses, elderly patients with pmac disease had significantly lower role-physical, general health, vitality, social functioning, role-emotional and role/social component scores than the general japanese elderly population.\\tRESULTS\\nanalysis of covariance revealed that patients with cavitary lesions had significantly worse physical functioning and sgrq scores (p < 0.05).\\tRESULTS\\nlongitudinal analysis showed that under-treatment, short duration of disease and positive sputum smear at baseline were predictors of worse hqol at 12 months.\\tRESULTS\\nelderly patients with pmac disease have reduced hqol.\\tCONCLUSIONS\\nfurther large studies on hqol are required to refine the use of this parameter in the treatment of these patients.\\tCONCLUSIONS\\nradiation-induced ureteral stricture disease poses significant surgical challenges.\\tBACKGROUND\\nureteral substitution with ileum has long been a versatile option for reconstruction.\\tBACKGROUND\\nwe evaluated outcomes in patients undergoing ileal ureter replacement for ureteral reconstruction due to radiation-induced ureteral stricture versus other causes.\\tOBJECTIVE\\nbetween july 1989 and june 2013, 155 patients underwent consecutive ileal ureter creation.\\tMETHODS\\nthe study cohort included 104 patients with complete data sets and at least 7 months of follow up.\\tMETHODS\\nrecords were retrospectively reviewed with regard to demographics, indications, complications, and renal deterioration.\\tMETHODS\\nsurgical indications included radiation-induced stricture in 23 (22%) and non-radiation-induced stricture in 81 (78%).\\tRESULTS\\ncomparing ileal ureter substitution due to radiation versus other stricture etiologies, no statistical significance was observed in regard to age (45.6 vs. 51.2, p = 0.141), hospital length of stay in days (8.8 vs. 7.7, p = 0.216), percent gfr loss (mdrd-4 vs. -5%, p = 0.670 and ckd-epi-7 vs. -6%, p = 0.914), 30-day surgical complications (26.1 vs. 30.1%, p = 0.658), metabolic acidosis (8.7 vs. 1.2%, p = 0.059), and renal failure requiring dialysis (4.3 vs. 1.2%, p = 0.337).\\tRESULTS\\nfistula formation (13.0 vs. 3.7%, p = 0.095), partial small bowel obstructions (21.7 vs. 7.4%, p = 0.063), and small bowel obstructions requiring reoperation (13.0 vs. 1.2%, p = 0.033) approached or reached statistical significance.\\tRESULTS\\nusing kaplan-meier methodology, there was no difference in time to worsening renal outcome between the radiation and non-radiation groups (p > 0.05).\\tRESULTS\\nureteral substitution with ileum is an effective reconstructive option for radiation-induced ureteral strictures in carefully selected patients.\\tCONCLUSIONS\\nkiwifruit is a subtropical fruit that is very popular among consumers.\\tBACKGROUND\\nkiwifruit \\'hayward\\' ( actinidia deliciosa c.f. liang et a.r. ferguson) is an important source of bioactive compounds and possesses high antioxidant capacity, but its value can be changed during ripening.\\tBACKGROUND\\nthe aim of this study was to compare the levels of total polyphenols (tp), ascorbic acid (aa), and total antioxidant capacities (tacs) of ethylene-treated and nontreated kiwifruits \\'hayward\\' from conventional and organic farming.\\tOBJECTIVE\\nthe influence of these fruits on lipid profile, tac, and liver enzymes in plasma of rats fed diets with cholesterol was studied.\\tMETHODS\\nethylene treatment shortened the ripening of kiwifruits.\\tMETHODS\\nethylene-treated kiwifruits from organic farming (ohe) have the highest contents of tp and tac.\\tMETHODS\\nthe experiment in vivo was performed during 33 days on male wistar rats (111 +/- 5 g), divided into six groups: one without cholesterol, control (c), and five groups with 1% of cholesterol (chol).\\tMETHODS\\nfour groups with cholesterol were supplemented with 5% of lyophilized kiwifruits: ethylene treated, organic (chol/ohe) or conventional (chol/che); and untreated, organic (chol/ohc) or conventional (chol/chc).\\tMETHODS\\ncholesterol diets supplemented with kiwifruit influenced the palatability and feed intake, body gain, and fer.\\tRESULTS\\ndiets containing kiwifruits significantly influenced the decrease of tg (61%), tc (29%), ldl-c (38%), atherogenic index tc/hdl-c (25%), and atherogenic index (ai, 32%), without differences between treatments.\\tRESULTS\\na significant increase of tac in plasma of rats fed kiwifruit was obtained by dpph (18%), frap (55%), and abts (55%).\\tRESULTS\\naspartate aminotransferase (ast) activity in serum was significantly lower for all groups with kiwifruit supplementation.\\tRESULTS\\nalanine aminotransferase (alt) was lower only in diet groups supplemented with conventional fruits in comparison with the cholesterol group.\\tRESULTS\\nglucose levels were higher in groups with kiwifruit supplementation than in c and chol groups.\\tRESULTS\\nsupplementation of chol groups with organic kiwifruits influenced the prothrombin index and significantly decreased the amount of platelets (plt) in blood.\\tRESULTS\\nin conclusion, studied kiwifruit \\'hayward\\' can be a very good ingredient of the diet, especially for patients suffering from hypercholesterolemia and with other cardiovascular diseases, but not for diabetic patients.\\tCONCLUSIONS\\nto investigate the possible role of hottip in the pathogenesis of endometrial cancer (ec) and its underlying mechanism.\\tOBJECTIVE\\n76 ec tissues and 76 adjacent normal tissues were collected in this study.\\tMETHODS\\nhottip expression was detected by qrt-pcr (quantitative real-time polymerase chain reaction), and its relationship with clinical prognosis of ec patients was then analyzed.\\tMETHODS\\nthe effect of in vitro hottip on proliferation, cell cycle, apoptosis, colony formation, and migration was examined, respectively.\\tMETHODS\\nfurthermore, the impact of hottip on pi3k/akt pathway was explored.\\tMETHODS\\nhottip was remarkably overexpressed in ec patients.\\tRESULTS\\nthe survival rate of ec patients with high expression of hottip was lower than that of patients with low expression, whereas the pathological grade and tumor size in high expression group were markedly higher than those of low expression group.\\tRESULTS\\nafter upregulation of hottip by lentivirus transfection, the proliferation, colony formation, and migration of ec cells showed a remarkable increase, whereas cell apoptosis was remarkably inhibited.\\tRESULTS\\nin addition, high expression of hottip promoted the ec development by activating pi3k/akt pathway.\\tRESULTS\\noverexpressed hottip promotes the development of endometrial cancer via activating pi3k/akt pathway.\\tCONCLUSIONS\\nthis study investigated the occupational health risk factors among nurses who work in public hospital surgical units.\\tOBJECTIVE\\nnursing has a significant place in healthcare systems around the world.\\tBACKGROUND\\nsurgical units are environments with certain risks, especially because of the possibility of exposure to various chemical, biologic or physical hazards.\\tBACKGROUND\\nthis study was conducted with 229 nurses who were working in the 11 surgery units of a big university hospital.\\tMETHODS\\nin this cross-sectional study, a personal information form and an occupational risk factors scale were administered to respondents.\\tMETHODS\\nwe performed factor and reliability analyses for the scale; the overall reliability of the 41 items was alpha = 0.924, and the factor analysis found the scale was feasible.\\tMETHODS\\nbiologic and psychological risk factor levels were found to be high.\\tRESULTS\\nphysical, chemical, ergonomic and radiation risk factor levels were moderate.\\tRESULTS\\nthe general occupational risk factor score was moderate.\\tRESULTS\\nnurses working night duty were confronted with physical and psychological risk factors at a higher rate compared with those working in the daytime.\\tRESULTS\\nreported occupational health problems by nurses were correlated with the descriptive properties of the nurses including age, sex, marital status, education level, working hours, mode of working and status of occupational health and safety training.\\tCONCLUSIONS\\nnurses experience different occupational risks.\\tCONCLUSIONS\\nif these risks are identified, healthier working environments can be provided to the nurses by taking necessary precautions.\\tCONCLUSIONS\\nimplications for social  the health care provided by nurses who work in a healthy environment would be more efficient and of better quality, which will result in better economic and social outcomes for individual and communities.\\tCONCLUSIONS\\nexposure to high dose ionizing radiation leads to premature cell senescence and suppression of cell proliferation.\\tBACKGROUND\\nin contrast, low dose and low dose-rate gamma-irradiation can lead to stimulation of cell proliferation.\\tBACKGROUND\\nwe aimed to examine whether the low dose radiation-induced proliferation of normal human fibroblasts can lead to a progressive depletion of proliferation potential and to an early onset of senescence.\\tOBJECTIVE\\nnormal human embryonic lung fibroblasts (helf-104) at passage 22-24 were gamma-irradiated with doses of 0 (sham-irradiation), 10, 30, 50, 90, 120, 150, 200, 500 mgy as well as 1 and 2 gy.\\tMETHODS\\nafter irradiation, the fraction of cells positively stained for senescence-associated beta-galactosidase activity was measured weekly until the cell culture completely ceased to proliferate.\\tMETHODS\\nwe show that single irradiation of helf-104 cells with 30 and 50 mgy resulted in deceleration of senescence.\\tRESULTS\\nthe suppression of senescence was observed during almost the entire length of the study up to a complete arrest of cell growth.\\tRESULTS\\nour data, together with the previously published observation of delayed stimulation of proliferation in helf-104 cells exposed to 30 mgy, suggest that low dose gamma-irradiation can increase the overall proliferative potential of normal human fibroblasts.\\tCONCLUSIONS\\nacute myocardial infarction (mi) and the ensuing ischemic heart disease are approaching epidemic state.\\tBACKGROUND\\nunfortunately, no definitive therapies are available and human regenerative therapies have conflicting results.\\tBACKGROUND\\nlimited stem cell retention following intracoronary administration has reduced the clinical efficacy of this novel therapy.\\tBACKGROUND\\ncathelicidin related antimicrobial peptides (cramps) enhance chemotactic responsiveness of bmspcs to low sdf-1 gradients, suggesting a potential role in bmspcs engraftment.\\tBACKGROUND\\nhere, we assessed the therapeutic efficacy of cramps in the context of bmspcs recruitment and retention via intracardiac delivery of cramp-treated bmspcs or cramp-releasing hydrogels (hg) post-ami.\\tBACKGROUND\\nfor cell transplantation experiments, mice were randomized into 3 groups: mi followed by injection of pbs, bmmncs alone, and bmmncs pre-incubated with cramp.\\tMETHODS\\nduring the in vivo hg studies, bm gfp chimera mice were randomized into 4 groups: mi followed by injection of hg alone, hg + sdf-1, hg + cramp, hg + sdf-1 + cramp.\\tMETHODS\\nchanges in cardiac function at 5 weeks after mi were assessed using echocardiography.\\tMETHODS\\nangiogenesis was assessed using isolectin staining for capillary density.\\tMETHODS\\nmice treated with bmmncs pre-incubated with cramp had smaller scars, enhanced cardiac recovery and less adverse remodeling.\\tRESULTS\\nhistologically, this group had higher capillary density.\\tRESULTS\\nsimilarly, sustained cramp release from hydrogels enhanced the therapeutic effect of sdf-1, leading to enhanced functional recovery, smaller scar size and higher capillary density.\\tRESULTS\\ncathelicidins enhance bmmnc retention and recruitment after intramyocardial administration post-ami resulting in improvements in heart physiology and recovery.\\tCONCLUSIONS\\ntherapies employing these strategies may represent an attractive method for improving outcomes of regenerative therapies in human studies.\\tCONCLUSIONS\\nalpha (8-14hz) oscillatory power is linked to cortical excitability and corresponding modulations of sensory evoked potentials and perceptual detection performance.\\tBACKGROUND\\nin somatosensory cortex (s1), negative linear and inverted u-shape relationships exist, whereas its effect on the primary motor cortex (m1) is hardly known.\\tBACKGROUND\\nwe used real-time eeg-triggered transcranial magnetic stimulation (tms) of m1 to characterize the relationship between spontaneous sensorimotor mu-alpha power fluctuations at rest and corticospinal excitability.\\tOBJECTIVE\\nin 16 subjects, mu-alpha power was continuously monitored over the left sensorimotor cortex, and each 10%-percentile bin of the individual mu-alpha power distribution was repeatedly targeted in pseudorandomized order by single-pulse tms of left m1, measuring motor evoked potentials (mep) in the contralateral hand.\\tMETHODS\\nwe found a weak positive relationship between mu-alpha power and mep amplitude.\\tRESULTS\\nsensorimotor mu-alpha power may reflect a net facilitation or disinhibition of m1, possibly resulting from mu-alpha based suppression of excitatory and inhibitory input from s1.\\tCONCLUSIONS\\nthe prefrontal cortex (pfc) is involved in higher brain functions altered in schizophrenia.\\tBACKGROUND\\nclassical antipsychotic drugs modulate information processing in cortico-limbic circuits via dopamine d2 receptor blockade in nucleus accumbens (nac) whereas atypical antipsychotic drugs preferentially target cortical serotonin (5-ht) receptors.\\tBACKGROUND\\nthe brain networks involved in the therapeutic action of atypical drugs are not fully understood.\\tBACKGROUND\\nprevious work indicated that medial pfc (mpfc) pyramidal neurons projecting to ventral tegmental area express 5-ht2a receptors suggesting that atypical antipsychotic drugs modulate dopaminergic activity distally, via 5-ht2a receptor (5-ht2a-r) blockade in pfc.\\tBACKGROUND\\nsince the mpfc also projects heavily to nac, we examined whether nac-projecting pyramidal neurons also express 5-ht2a-r.\\tOBJECTIVE\\nusing a combination of retrograde tracing experiments and in situ hybridization we report that a substantial proportion of mpfc-nac pyramidal neurons in rat brain express 5-ht2a-r mrna in a layer- and area-specific manner (up to 68% in layer v of contralateral cingulate).\\tMETHODS\\nthe functional relevance of 5-ht2a-r to modulate mpfc-nac projections was examined in dual-probe microdialysis experiments.\\tMETHODS\\nthe application of the preferential 5-ht2a-r agonist doi into mpfc enhanced glutamate release locally (+66 +/- 18%) and in nac (+74 +/- 12%) indicating that cortical 5-ht2a-r activation augments glutamatergic transmission in nac.\\tRESULTS\\nsince nac integrates glutamatergic and dopaminergic inputs, blockade of 5-ht2a-r by atypical drugs may reduce cortical excitatory inputs onto gabaergic neurons of nac, adding to dopamine d2 receptor blockade.\\tCONCLUSIONS\\ntogether with previous observations, the present results suggest that atypical antipsychotic drugs may control the activity of the mesolimbic pathway at cell body and terminal level.\\tCONCLUSIONS\\nthe 2-fold purpose of this study was to evaluate the effects of acid etching and calcium chloride immersion on removal torque and the bone-cutting ability of orthodontic mini-implants (omis).\\tOBJECTIVE\\nfor the removal torque part of the study, 3 types of omis (titanium alloy) were evaluated in a rabbit model: omis with acid surface etching with and without calcium chloride immersion (ecg and eg, respectively) and a control group (cg), in which the omis had an untreated, machined surface.\\tMETHODS\\nwe inserted 126 omis (42 omis per type) into both tibias of 21 male rabbits (5 months of age) with body weights of 3.0 to 3.5 kg.\\tMETHODS\\nremoval torque was evaluated after 1, 4, and 7 weeks.\\tMETHODS\\nto determine the omis\\' bone-cutting ability, total insertion time to place an omi 6 mm into artificial bone was measured (6 omis per group).\\tMETHODS\\nremoval torque values for the eg (3.97 +/- 0.52 ncm) and ecg (4.21 +/- 0.44 ncm) were statistically and significantly higher than those of the cg (3.02 +/- 0.53 ncm) 1 week after implantation (p <0.05).\\tRESULTS\\nthe ecg (6.54 +/- 0.50, 6.61 +/- 0.66 ncm) showed the highest removal torque value followed by the eg (5.68 +/- 0.58, 5.89 +/- 0.70 ncm) and cg (3.43 +/- 0.62, 3.38 +/- 0.54 ncm) at 4 and 7 weeks after implantation (p <0.05).\\tRESULTS\\nremoval torque did not change over time with the cg, but with the ecg and eg, it was significantly higher in weeks 4 and 7 than in week 1 (p <0.05).\\tRESULTS\\ntotal insertion time was significantly greater for the eg than for the ecg and cg (p <0.05).\\tRESULTS\\ntreating omis with a calcium chloride solution improved the initial bone reaction by preventing contamination of the implant surface, and increasing the surface roughness of omis by acid etching enhanced their stability without decreasing the bone-cutting ability compared with omis without surface treatment.\\tCONCLUSIONS\\nginkgo leaf tablets (glts) and losartan are often simultaneously used for the treatment of hypertension in chinese clinics.\\tBACKGROUND\\nhowever, the herb-drug interaction between glt and losartan is still unknown.\\tBACKGROUND\\nthis study investigates the effects of glt on the pharmacokinetics of losartan and its metabolite exp3174 in rats and its potential mechanism.\\tOBJECTIVE\\nthe pharmacokinetic profiles of losartan and exp3174 of orally administered losartan (10 mg/kg) with or without glt pretreatment (80 mg/kg/day for 10 days) in sprague-dawley rats were determined.\\tMETHODS\\nin vitro, the effects of glt on the metabolic stability of losartan were investigated with rat liver microsomes.\\tMETHODS\\nthe cmax (1.22 +/- 0.25 vs 1.85 +/- 0.37 mug/ml) and the auc(0-t) (6.99 +/- 1.05 vs 11.94 +/- 1.79 mg.h/l) of losartan increased significantly (p < 0.05) with glt pretreatment, while the cmax (1.05 +/- 0.19 vs 0.72 +/- 0.12 mug/ml) of exp3174 decreased significantly (p < 0.05) compared to the control.\\tRESULTS\\nthe t1/2 of losartan was prolonged significantly from 3.94 +/- 0.62 to 4.75 +/- 0.52 h (p < 0.05).\\tRESULTS\\nthe metabolic stability of losartan was increased from 37.4 min to 59.6 min with glt pretreatment.\\tRESULTS\\nthe results indicate that glt might increase the plasma concentration of losartan and decrease the concentration of exp3174 through inhibiting the metabolism of losartan.\\tCONCLUSIONS\\n5-fluorouracil (5-fu) is widely used for the treatment of renal carcinoma.\\tBACKGROUND\\nhowever, drug resistance remains the reason for failure of chemotherapy.\\tBACKGROUND\\noridonin, extracted from chinese herb medicine, displays anti-tumor effect in several types of cancer.\\tBACKGROUND\\nwhether oridonin could enhance the effect of 5-fu in renal carcinoma has not been studied.\\tBACKGROUND\\n786-o cells were used in the current study.\\tMETHODS\\ncell death was measured by mtt assay or live- and dead-cell staining assay.\\tMETHODS\\nglutathione (gsh) level was examined by elisa.\\tMETHODS\\nnecroptosis was identified by protein levels of receptors interaction protein-1 (rip-1) and rip-3, lactate dehydrogenase (ldh) and high mobility group box-1 protein (hmgb1) release, and poly [adp-ribose] polymerase-1 (parp-1) activity.\\tMETHODS\\nusing a xenograft assay in nude mice, we tested the anti-tumor effects of the oridonin combined with 5-fu.\\tMETHODS\\n5-fu only induced apoptosis in 786-o cells.\\tRESULTS\\noridonin activated both apoptosis and necroptosis in 786-o cells.\\tRESULTS\\noridonin-induced necroptosis was reversed by addition of gsh or its precursorn-acetylcysteine (nac).\\tRESULTS\\noridonin-induced necroptosis was associated by activated jnk, p38, and erk in 786-o cells, which were abolished by gsh or nac treatment.\\tRESULTS\\nhowever, jnk, p38, and erk inhibitors showed no effect on oridonin induced-cell death.\\tRESULTS\\ngsh or nac treatment partly abolished the synergistic effects of oridonin and 5-fu on cell death.\\tRESULTS\\noridonin enhanced the cytotoxicity of 5-fu both in vitro and in vivo.\\tRESULTS\\noridonin enhances the cytotoxicity of 5-fu in renal cancer cells partially through inducing necroptosis, providing evidence of using necroptosis inducers in combination with chemotherapeutic agents for cancer treatment.\\tCONCLUSIONS\\nglucose-6-phosphate dehydrogenase (g6pd) deficiency is a common enzyme deficiency affecting more than 300 million individuals worldwide.\\tBACKGROUND\\nextreme neonatal hyperbilirubinemia, with its severe sequelae of bilirubin neurotoxicity and the potential of death, is the most devastating manifestation of g6pd deficiency.\\tBACKGROUND\\nin a recent review of favism, luzzatto and arese state that the pathophysiology of jaundice in g6pd-deficient neonates is different from that of favism, as there is little evidence of hemolysis in these infants.\\tBACKGROUND\\nto explore the role of hemolysis in neonatal hyperbilirubinemia associated with g6pd deficiency.\\tOBJECTIVE\\npreviously published works including studies of endogenous production of carbon monoxide (co), an index of heme catabolism, in hyperbilirubinemic g6pd-deficient neonates were reviewed to determine the role of hemolysis in this condition.\\tMETHODS\\nthree studies demonstrated that endogenous co production is elevated in g6pd-deficient neonates with extreme hyperbilirubinemia.\\tRESULTS\\nhemolysis is an important pathogenetic factor in g6pd deficiency-associated neonatal hyperbilirubinemia.\\tCONCLUSIONS\\nlipin-1 is a multifunctional metabolic regulator, involving in triacylglycerol and bioactive glycerolipids synthesis as an enzyme, transcriptional regulation as a coactivator, and adipogenesis.\\tBACKGROUND\\nin obesity, adipose lipin-1 expression is decreased.\\tBACKGROUND\\nalthough lipin-1 is implicated in the pathogenesis of obesity, the mechanism is still not clear.\\tBACKGROUND\\nsince tnf-alpha is deeply involved in the pathogenesis of obesity, insulin resistance, and diabetes, here we investigated the role of tnf-alpha on lipin-1 expression in adipocytes.\\tOBJECTIVE\\nquantitative pcr studies showed that tnf-alpha suppressed both lipin-1a and -1b isoform expression in time- and dose-dependent manners in mature 3t3-l1 adpocytes.\\tRESULTS\\na jak2 inhibitor, ag490, reversed the suppressive effect of tnf-alpha on both lipin-1a and -1b.\\tRESULTS\\nin contrast, nf-kappab, mapks, ceramide, and beta-catenin pathway tested were not involved in the mechanism.\\tRESULTS\\nthese results suggest that tnf-alpha could be involved in obesity-induced lipin-1 suppression in adipocytes and jak2 may play an important role in the mechanism.\\tCONCLUSIONS\\nthe central nervous system (cns) has been referred to as the \"immunological privileged site\".\\tBACKGROUND\\nhowever, it is now clear that the privileged status of the cns is a result of a balance between immune privilege and effective response.\\tBACKGROUND\\nin vitro, human bone marrow mesenchymal stem cells (mscs) have the ability to differentiate into neurons.\\tBACKGROUND\\nbased on this biological attribute we gain the possibility by means of using mscs as the donors to develop a future cell therapy in clinical application.\\tBACKGROUND\\nbut using mscs as donor cells inevitably raises the question as to whether these donor cells would be immunogenic, and if so, would they be rejected after transplantation.\\tOBJECTIVE\\nto investigate this, human mscs were cultured in vitro and induced to differentiate along neuronal lineage.\\tMETHODS\\nthe expression of human leukocyte antigen (hla) class i and class ii molecules and the co-stimulatory protein cd80 were increased on the surface of mscs in the course of neuronal differentiation.\\tRESULTS\\nbut neither of the co-stimulatory proteins, cd40 or cd86, was expressed.\\tRESULTS\\nafter ifn-gamma exposure, the expression of the hla molecules was further enhanced, but the co-stimulatory proteins were unaffected.\\tRESULTS\\nmscs that had been differentiated along neuronal lineage were not capable of inducing the proliferation of peripheral blood lymphocytes (pbls).\\tRESULTS\\neven after ifn-gamma exposure, pbls remained unresponsive.\\tRESULTS\\nfurthermore, mscs differentiated along neuronal lineage suppressed the proliferation of pbls induced by allogeneic pbls and mitogens.\\tRESULTS\\nthe mechanisms involved in the immunosuppression may be related to the effect of soluble factors and cell-cell interactions of neuronal differentiated mscs and pbls.\\tCONCLUSIONS\\nfrom the above data we suggested that the low immunogenicity and immunomodulatory function of mscs in the course of neuronal differentiation in vitro, which will be helpful to further investigation in order to establish the new way for future medical application.\\tCONCLUSIONS\\nthe aim of this work was to present the development and example application of an automated data mining software platform that preforms bulk analysis of results and patient data passing through the 3d plan and delivery qa system, mobius3d.\\tOBJECTIVE\\npython, matlab, and java were used to create an interface that reads javascript object notation (json) created for every approved mobius3d pre-treatment plan-check.\\tMETHODS\\nthe aforementioned json files contain all the information for every pre-treatment qa check performed by mobius3d, including all 3d dose, ct, structure set information, as well as all plan information and patient demographics.\\tMETHODS\\ntwo graphical user interfaces (guis) were created, the first is called mobius3d-database (m3d-db) and presents the check results in both filterable tabular and graphical form.\\tMETHODS\\nthese data are presented for all patients and includes mean dose differences, 90% coverage, 3d gamma pass rate percentages, treatment sites, machine, beam energy, multi-leaf collimator (mlc) mode, treatment planning system (tps), plan names, approvers, dates and times.\\tMETHODS\\ngroup statistics and statistical process control levels are then calculated based on filter settings.\\tMETHODS\\nthe second gui, called mobius3d organ at risk (m3doar), analyzes dose-volume histogram data for all patients and all organs-at-risk (oar).\\tMETHODS\\nthe design of the software is such that all treatment parameters and treatment site information are able to be filtered and sorted with the results, plots, and statistics updated.\\tMETHODS\\nthe m3d-db software can summarize and filter large numbers of plan-checks from mobius3d.\\tRESULTS\\nthe m3doar software is also able to analyze large amounts of dose-volume data for patient groups which may prove useful in clinical trials, where oar doses for large numbers of patients can be compared and correlated.\\tRESULTS\\ntarget dvhs can also be analyzed en mass.\\tRESULTS\\nthis work demonstrates a method to extract the large amount of treatment data for every patient that is stored by mobius3d but not easily accessible.\\tCONCLUSIONS\\nwith scripting, it is possible to mine this data for research and clinical trials as well as patient and tps qa.\\tCONCLUSIONS\\nfoam sclerotherapy is an effective treatment strategy for venous malformations (vms).\\tBACKGROUND\\nstability is one of the characteristics of sclerosant foams that determine the sclerosing power.\\tBACKGROUND\\nto evaluate the clinical outcomes of sclerotherapy with prolonged half-life of hyaluronic acid (ha)-polidocanol (pol) foam for treating head and neck vms.\\tOBJECTIVE\\nseventy patients with head and neck vms were enrolled between october 2013 and january 2015 in qilu hospital shandong university.\\tMETHODS\\nsclerotherapy was performed with prolonged half-life pol foam by addition of 0.05% ha.\\tMETHODS\\nall patients were followed up at 1, 3, and 6 months.\\tMETHODS\\nreviews on the site and size of the lesion, times and duration of treatments, therapeutic response, and complications were performed to evaluate the end result.\\tMETHODS\\nsites of lesions included face, bucca, parotid region, neck, tongue, floor of mouth, lip, forehead, palate, and nose.\\tRESULTS\\nan overall average of 2.5 treatments was required.\\tRESULTS\\ntotal response rate was 100%.\\tRESULTS\\nresolution was achieved in 21 cases (30%) and a significant response in 49 patients (70%).\\tRESULTS\\nimmediate swelling was the most common complication.\\tRESULTS\\nepidermal extravasation was seen in 1 patient.\\tRESULTS\\nmucosal ulcer was observed in 1 patient.\\tRESULTS\\nno generalized complications occurred.\\tRESULTS\\nthe prolonged half-life of ha-pol foam sclerotherapy of vms in the head and neck is safe and effective.\\tCONCLUSIONS\\nthe direct ion exchange of chloro(2,6-bis(n-methylbenzimidazol-2-yl)pyridine)platinum(ii) ([pt(me(2)bzimpy)cl]+) and chloro(2,2\\':6\\',2\\' \\'-terpyridine)platinum(ii) ([pt(tpy)cl]+) complexes within a zirconium phosphate (zrp) framework has been accomplished.\\tBACKGROUND\\nthe physical and spectroscopic properties of [pt(me(2)bzimpy)cl]+ and [pt(tpy)cl]+ intercalated in zrp were investigated by x-ray powder diffraction and x-ray photoelectron, infrared, absorption, and luminescence spectroscopies.\\tOBJECTIVE\\nin contrast to unintercalated complexes in fluid solution, which do not emit at room temperature, both intercalated materials in the solid state and in colloidal suspensions exhibit intense emissions at room temperature.\\tRESULTS\\na [pt(me(2)bzimpy)cl]+-exchanged zrp colloidal methanol suspension gives rise to an emission at 612 nm that originates from a lowest (3)mmlct[dsigma*(pt) --> pi*(tpy)] state (mmlct = metal-metal-to-ligand charge transfer) characteristic of strong pt...pt interactions.\\tRESULTS\\na [pt(tpy)cl]+-exchanged zrp colloidal aqueous suspension exhibits a strong emission band at 600 nm.\\tRESULTS\\nthe accumulated data demonstrate that at high concentrations, [pt(me(2)bzimpy)cl]+ and [pt(tpy)cl]+ ions can serve as luminescent pillars inside the zrp framework.\\tCONCLUSIONS\\nin patients with an unstable cervical spine, maintenance of cervical immobilization during tracheal intubation is important.\\tBACKGROUND\\nin mcgrath videolaryngoscopic intubation, lifting of the blade to raise the epiglottis is needed to visualize the glottis, but in patients with an unstable cervical spine, this can cause cervical spine movement.\\tBACKGROUND\\nby contrast, the optiscope, a rigid video-stylet, does not require raising of the epiglottis during tracheal intubation.\\tBACKGROUND\\nwe therefore hypothesized that the optiscope would produce less cervical spine movement than the mcgrath videolaryngoscope during tracheal intubation.\\tOBJECTIVE\\nthe aim of this study was to compare the optiscope with the mcgrath videolaryngoscope with respect to cervical spine motion during intubation in patients with simulated cervical immobilization.\\tOBJECTIVE\\nthe primary outcome of the study was the extent of cervical spine motion at the occiput-c1, c1-c2, and c2-c5 segments.\\tMETHODS\\nin this randomized crossover study, the cervical spine angle was measured before and during tracheal intubation using either the optiscope or the mcgrath videolaryngoscope in 21 patients with simulated cervical immobilization.\\tMETHODS\\ncervical spine motion was defined as the change in angle at each cervical segment during tracheal intubation.\\tMETHODS\\nthere was significantly less cervical spine motion at the occiput-c1 segment using the optiscope rather than the mcgrath videolaryngoscope (mean [98.33% ci]: 4.7 degrees [2.4-7.0] vs 10.4 degrees [8.1-12.7]; mean difference [98.33% ci]: -5.7 degrees [-7.5 to -3.9]).\\tRESULTS\\nthere were also fewer cervical spinal motions at the c1-c2 and c2-c5 segments using the optiscope (mean difference versus the mcgrath videolaryngoscope [98.33% ci]: -2.4 degrees [-3.7 to -1.2]) and -3.7 degrees [-5.9 to -1.4], respectively).\\tRESULTS\\nthe optiscope produces less cervical spine motion than the mcgrath videolaryngoscope during tracheal intubation of patients with simulated cervical immobilization.\\tCONCLUSIONS\\nevidence about the anti-inflammatory properties of antipsychotics has grown.\\tBACKGROUND\\nhowever, no previous studies have compared the immunomodulatory effect of risperidone and aripiprazole.\\tBACKGROUND\\nthe main aim of the present work is to compare the anti-inflammatory effect of risperidone and aripiprazole on a large array of serum cytokines at 3months following the onset of treatment.\\tOBJECTIVE\\nthis is a prospective, randomized, open-label study.\\tMETHODS\\npatients were randomly assigned to risperidone or aripiprazole.\\tMETHODS\\nfrom this randomization, 75 patients and 75 healthy volunteers that matched with the selected patients were picked for entry in this study.\\tMETHODS\\nserum concentrations of 21 cytokines/chemokines were measured at baseline and 3months following the initiation of antipsychotic medication.\\tMETHODS\\nthose patients who were randomly assigned to risperidone had higher levels of il-8 (p=0.000) and mip-1beta (p=0.007) than healthy volunteers at baseline, whereas no differences were found between patients initially assigned to aripiprazole and healthy volunteers.\\tRESULTS\\nthree months following the onset of medication several cytokines decreased significantly: il-8, mip-1beta, fractalkine, tnf-alpha, il-7, il-13, il-17alpha, il-23, il-21 (all ps<0.01).\\tRESULTS\\nno differences were found in the percentages of change between both treatments.\\tRESULTS\\nthe effect size of the two antipsychotics was similar, except for tnf-alpha, il-13, il-17alpha and fractalkine, in which aripiprazole seems to have a greater effect size than risperidone, whereas risperidone seems to have a greater effect size than aripiprazole on mip-1beta.\\tRESULTS\\nthis is the first study that has compared the immunomodulatory effect of risperidone and aripiprazole, finding that the anti-inflammatory effect of both treatments was similar.\\tCONCLUSIONS\\nchondroid lipoma, first described in 1993 by meis and enzinger, is a very rare lipomatous tumor.\\tBACKGROUND\\nbecause it is a benign tumor, it does not require radiotherapy, chemotherapy, or extensive resection.\\tBACKGROUND\\nhowever, histologically, it is often confused with a sarcoma.\\tBACKGROUND\\nit is crucial to differentiate chondroid lipoma from sarcoma to avoid choosing an inappropriate treatment strategy.\\tBACKGROUND\\nalthough mri, radiography, and ultrasound have been used to evaluate chondroid lipomas, imaging cannot accurately differentiate chondroid lipoma from sarcoma.\\tBACKGROUND\\na 39-year-old man presented to a local clinic with a 1-month history of a painless mass in his left neck.\\tMETHODS\\nresults of a needle biopsy suggested an atypical lipomatous tumor, and the patient was referred to our hospital.\\tMETHODS\\nphysical examination revealed a hard and mobile mass in the left neck.\\tMETHODS\\nplain x-ray radiographs showed an absence of calcification in the soft tissue mass.\\tMETHODS\\nmri revealed a well-defined and lobulated mass, and on t1-weighted images, the lesion showed heterogeneity, with higher signal intensity than that of muscle.\\tMETHODS\\non t2-weighted images, the septum had low-signal intensity.\\tMETHODS\\non t2-weighted fat-suppressed images, the signal of the mass was completely suppressed.\\tMETHODS\\nthe suvmax of the mass on fdg pet was 1.84.\\tMETHODS\\nan additional needle biopsy was performed, and on the basis of the results, we arrived at a diagnosis of well-differentiated liposarcoma.\\tMETHODS\\nthe mass was resected marginally.\\tMETHODS\\nmacroscopically, the mass was encapsulated and markedly harder than well-differentiated liposarcoma.\\tMETHODS\\nhistologically, the tumor was composed of myxoid and cartilaginous matrix, and mature fat cells and lipoblast-like cells were present.\\tMETHODS\\nthe final diagnosis was chondroid lipoma, and no recurrence was observed 1 year after surgery.\\tMETHODS\\nchondroid lipoma is an extremely rare benign soft tissue tumor that is often confused with sarcoma.\\tCONCLUSIONS\\nit is very important to differentiate chondroid lipoma from sarcoma when the suvmax value of the mass is low, even when biopsy results suggest that it is a sarcoma.\\tCONCLUSIONS\\nnon-invasive imaging can provide essential information for the optimization of new drug delivery-based bone regeneration strategies to repair damaged or impaired bone tissue.\\tBACKGROUND\\nthis study investigates the applicability of nuclear medicine and radiological techniques to monitor growth factor retention profiles and subsequent effects on bone formation.\\tOBJECTIVE\\nrecombinant human bone morphogenetic protein-2 (bmp-2, 6.5 microg/scaffold) was incorporated into a sustained release vehicle consisting of poly(lactic-co-glycolic acid) microspheres embedded in a poly(propylene fumarate) scaffold surrounded by a gelatin hydrogel and implanted subcutaneously and in 5-mm segmental femoral defects in 9 rats for a period of 56 days.\\tMETHODS\\nto determine the pharmacokinetic profile, bmp-2 was radiolabeled with (125)i and the local retention of (125)i-bmp-2 was measured by single photon emission computed tomography (spect), scintillation probes and ex vivo scintillation analysis.\\tMETHODS\\nbone formation was monitored by micro-computed tomography (microct).\\tMETHODS\\nthe scaffolds released bmp-2 in a sustained fashion over the 56-day implantation period.\\tMETHODS\\na good correlation between the spect and scintillation probe measurements was found and there were no significant differences between the non-invasive and ex-vivo counting method after 8 weeks of follow up.\\tRESULTS\\nspect analysis of the total body and thyroid counts showed a limited accumulation of (125)i within the body.\\tRESULTS\\nectopic bone formation was induced in the scaffolds and the femur defects healed completely.\\tRESULTS\\nin vivo microct imaging detected the first signs of bone formation at days 14 and 28 for the orthotopic and ectopic implants, respectively, and provided a detailed profile of the bone formation rate.\\tRESULTS\\noverall, this study clearly demonstrates the benefit of applying non-invasive techniques in drug delivery-based bone regeneration strategies by providing detailed and reliable profiles of the growth factor retention and bone formation at different implantation sites in a limited number of animals.\\tCONCLUSIONS\\nthis report is a comparative evaluation on the interaction of dorzolamide (dza) with bovine and human carbonic anhydrase ii (bca ii and hca ii, respectively) using fluorimetry, uv-vis and circular dichroism (cd) spectroscopy as well as molecular docking and molecular dynamics studies.\\tOBJECTIVE\\nfluorescence data obtained at different temperatures indicated that dza quenched the intrinsic fluorescence of both enzymes through a static mechanism.\\tRESULTS\\nthermodynamic analysis of the quenching data revealed that hydrogen bonding and van der waals interactions play important roles in drug binding.\\tRESULTS\\ncalculations of the protein surface hydrophobicity (psh) index, using 1-anilinonaphtalene-8-sulfonate, also indicated a decrease in psh of the hca ii and minor increase in psh value of the bca ii upon drug binding.\\tRESULTS\\nthe results of far- and near-uv cd experiments showed some alterations in the secondary and tertiary structures of both enzymes upon ligation.\\tRESULTS\\nthe structural changes induced by drug binding caused more reduction in the catalytic activity of hca ii than bca ii.\\tRESULTS\\nbased on the experimental data and the possible binding mode revealed by molecular docking and molecular dynamic studies, we concluded that dza binds stronger to hca ii active site cavity compared to bca ii.\\tCONCLUSIONS\\nthis study investigated the generalization of deferred imitation in 6-, 9-, and 12-month-old infants across auditory and visual contexts.\\tOBJECTIVE\\nthe task involved testing for the imitation of demonstrated actions on an animal puppet 24h later.\\tMETHODS\\nthere were two independent variables defined by the background music and room of the infant\\'s home on the test day relative to the music and room present on the demonstration day.\\tMETHODS\\n6-month-olds generalized imitation only when the music and room on the test day were identical to their learning environment 24h earlier.\\tRESULTS\\n9-month-olds were able to generalize deferred imitation across a change in music but not a change in room.\\tRESULTS\\n12-month-olds were able to defer imitation across both a change in the room with the same music as well as a change in both the room and music.\\tRESULTS\\nthese results reveal that the similarity between the contextual conditions of encoding and retrieval across multiple contexts determine whether infants generalize and, furthermore, the necessity of such a similarity decreases with age.\\tCONCLUSIONS\\nthe burden oral anticoagulation is a limitation of mechanical valve prostheses.\\tBACKGROUND\\nthe aim of this study was to test whether patients could be safely managed with dual-antiplatelet therapy (dapt) (aspirin 325 mg and clopidogrel 75 mg) or lower warfarin after on-x mechanical aortic valve replacement (mavr).\\tOBJECTIVE\\nproact (prospective randomized on-x anticoagulation trial) (n = 576) is a multicenter (41 sites) noninferiority trial.\\tMETHODS\\nfrom june 2006 through february 2014, 201 patients >/=18 years of age without thromboembolic risk factors undergoing mavr were randomized to receive dapt (n = 99) or standard warfarin plus aspirin (n = 102) 3 months after mavr (low-risk arm).\\tMETHODS\\nfrom june 2006 through october 2009, 375 patients with 1 or more thromboembolic risk factors were also randomized to lower intensity warfarin plus aspirin (international normalized ratio 1.5 to 2.0; n = 185) or standard warfarin plus aspirin (international normalized ratio 2.0 to 3.0; n = 190) 3 months after mavr (high-risk arm).\\tMETHODS\\nthe low-risk arm was terminated for excess cerebral thromboembolic events (3.12% per patient-year vs. 0.29% per patient-year, p = 0.02) in the dapt group at up to 8.8-year follow-up (631.6 patient-years), with no differences in bleeding or all-cause mortality.\\tRESULTS\\nhigh-risk arm patients experienced significantly lower major (1.59% per patient-year vs. 3.94% per patient-year, p = 0.002) and minor (1.27% per patient-year vs. 3.49% per patient-year, p = 0.002) bleeding up to 8.7-year follow-up (2,035.2 patient-years), with no differences in thromboembolism (0.42% per patient-year vs. 0.09% per patient-year, p = 0.20) and all-cause mortality.\\tRESULTS\\ndapt was associated with higher rates of thromboembolism and valve thrombosis compared with control in the low-risk arm.\\tCONCLUSIONS\\ninternational normalized ratios were safely maintained at 1.5 to 2.0 in high-risk patients, without differences in mortality or thromboembolic complications.\\tCONCLUSIONS\\n(randomized on-x anticoagulation trial [proact]; nct00291525).\\tNONE\\nto study if a three-factor structure of mentors\\' behaviour identified through exploratory factor analysis could be confirmed in a dataset assessing mentors\\' performance using structural equation modelling.\\tOBJECTIVE\\nto measure mentor\\'s behaviour in clinical nursing education in china, a specific instrument was developed and preliminarily validated; a three-factor structure (professional development, facilitating learning and psychosocial support) was identified in a dataset of assessment of the importance of mentors\\' each behaviour using exploratory factor analysis and mokken scale analysis.\\tMETHODS\\na cross-sectional study with online and hard copy survey was applied.\\tMETHODS\\nconvenience sampling was conducted.\\tMETHODS\\nnursing students (n=634) in southwest china participated in the study from july to august 2014.\\tMETHODS\\nconfirmatory factor analysis was used.\\tMETHODS\\nmentors\\' behaviour can be perceived as a secondary order factor with three first order factors: professional development; facilitating learning; and psychosocial support.\\tRESULTS\\nthe three-factor structure of mentors\\' behaviour was confirmed by structural equation modelling.\\tCONCLUSIONS\\nthis structure is visible in mentors\\' real performance and implies that this instrument could be used to assess mentors\\' behaviour in addition to students\\' expectation from mentors.\\tCONCLUSIONS\\nto examine the experience of registered nurses working in renal inpatients wards at an acute national health service (nhs) hospital trust.\\tOBJECTIVE\\nnurse perceptions of their experience particularly in relation to job satisfaction were analysed.\\tOBJECTIVE\\nincreased understanding of workplace organisation and culture can contribute to improved nurse work experience and better patient care.\\tBACKGROUND\\nworldwide many studies conducted on nurse experience and job satisfaction show that job satisfaction level varies across work settings so analysis of job satisfaction at a local level such as in a ward is important for producing useful analysis and recommendations.\\tBACKGROUND\\nusing purposive sampling, semistructured individual interviews were conducted on twelve registered nurses working on renal inpatient wards.\\tMETHODS\\nthe study identified three themes: safe care, organisational culture and work environment.\\tRESULTS\\nalthough staffing was identified as a key element to providing safe care maintaining adequate staffing levels remained a challenge.\\tRESULTS\\nwhilst there were opportunities for professional development more support is needed for newly qualified nurses.\\tRESULTS\\nfindings highlighted that renal patients were complex.\\tCONCLUSIONS\\nit is important to maintain adequate staffing levels.\\tCONCLUSIONS\\ngood clinical leadership is required to support and develop the positive experience of nurses.\\tCONCLUSIONS\\nthe high turnover of newly qualified nurses is a particular problem and nurse managers need to develop strategies to retain such nurses.\\tCONCLUSIONS\\nregular audits on staffing levels as part of improving workforce planning and patient safety need to be conducted.\\tCONCLUSIONS\\nlavatera critica, a leafy green herb, is reported to have many pharmacological activities; but, the improvement of insulin sensitivity against the high gram-fat diet (hgfd)-caused insulin resistance (ir) has not yet been studied.\\tBACKGROUND\\nthis study evaluated the role of lavatera critica leaf extract (lce) in systemic insulin resistance through the alleviation of adipose tissue inflammation and oxidative damage in hgfd fed mice.\\tOBJECTIVE\\nthe mice were fed with hgfd for 10 weeks and the diet was supplemented with lce each day for the next five weeks.\\tMETHODS\\nbody weight, food intake, leptin, blood glucose, insulin, insulin resistance, and pro- and anti-in fl ammatory genes expression were assessed on day 106.\\tMETHODS\\nthe hgfd control mice displayed markedly elevated adipose tissue inflammation, oxidative stress, insulin inactivity, and hyperglycemia.\\tRESULTS\\nadministration of lce in the hgfd mice, especially a dose of 100mg/kg, lowered the body weight, food intake, plasma leptin, plasma glucose, plasma insulin, insulin resistance, and increased the food efficacy ratio when compared with the hgfd control mice.\\tRESULTS\\nthe oral glucose tolerance test (ogtt) revealed that lce prevented further increase in the circulating levels after the glucose load.\\tRESULTS\\nlce-treated mice demonstrated a marked suppression of pro-inflammatory cytokines mrna expression.\\tRESULTS\\non the other hand, the mice showed a higher anti-in fl ammatory genes mrna expression in the adipose tissue.\\tRESULTS\\nin addition, lce treatment improved the oxidative damage as evidenced by the reduced levels of lipid hydroperoxides and thiobarbituric acid reactive substances coupled with the increased antioxidants (superoxide dismutase, total glutathione, glutathione/glutathione disul fi de ratio and glutathione peroxidase) in the adipose tissue, plasma and erythrocytes.\\tRESULTS\\ngas chromatography-mass spectrometry analysis of the bioactive compounds revealed the presence of 9, 12, 15-octadecatrienoic acid, vitamin e, phytol, hexadecanoic acid, benzenepropanoic acid, and stigmasterol.\\tRESULTS\\nthese findings prove that lce improves the insulin-sensitizing activity in the mouse model of hgfd-caused ir, probably due to the amelioration of adipose tissue inflammation and oxidative damage.\\tCONCLUSIONS\\nhence, the lce could serve as a useful anti-diabetic agent.\\tCONCLUSIONS\\nendothelial dysfunction is thought to be a major cause of vascular complications in diabetes.\\tBACKGROUND\\nour research shows that ghrelin attenuates high glucose-induced apoptosis in cultured human umbilical vein endothelial cells (ecv-304).\\tRESULTS\\nexposure to glucose (33.3mm) for 72 h caused a significant increase in apoptosis, as evaluated by tunel and flow cytometry, but pretreatment of ghrelin (10(-7)m) eliminated high glucose-induced apoptosis in ecv-304.\\tRESULTS\\nghrelin also prevented the induction of caspase-3 activation, in cells incubated with glucose (33.3 mm).\\tRESULTS\\nexposure of cells to ghrelin (10(-7)m) caused rapid activation of akt.\\tRESULTS\\npi3k inhibitor, ly294002 attenuated ghrelin\\'s inhibitory effect on caspase-3 activity.\\tRESULTS\\nghrelin protected endothelial cells from high glucose by inhibiting reactive oxygen species (ros) generation.\\tRESULTS\\nresults of our study indicate that ghrelin inhibits both high glucose-induced apoptosis via pi3k/akt pathway and ros production in ecv-304.\\tCONCLUSIONS\\nthis peptide may have potential in preventing diabetic complications, especially in obese patients.\\tCONCLUSIONS\\nimplementation is proposed to be a multiphase, multilevel process.\\tBACKGROUND\\nafter a period of exploration, an adoption decision is made, typically at the upper management or policy level.\\tBACKGROUND\\nnevertheless, movement through each of the subsequent phases of the implementation process involves clinicians or providers at the individual level to adopt the innovation and then change their behavior to use/deliver the innovation.\\tBACKGROUND\\nmultiple behavioral change theories propose that intentions are a critical determinant of implementation behavior.\\tBACKGROUND\\nhowever, there is a need for the development and testing of pragmatic measures of providers\\' intentions to use a specific innovation or evidence-based practice (ebp).\\tBACKGROUND\\nnine items were developed to assess providers\\' intentions to use a specific innovation or ebp.\\tMETHODS\\nmotivational interviewing was the ebp in the study.\\tMETHODS\\nitems were administered, as part of larger survey, to 179 providers across 38 substance use disorder treatment (sudt) programs within five agencies in california, usa.\\tMETHODS\\nrasch analysis was conducted using rumm2030 software to assess the items, their overall fit to the rasch model, the response scale used, individual item fit, differential item functioning (dif), and person separation.\\tMETHODS\\nfollowing a stepwise process, the scale was reduced from nine items to three items to increase the feasibility and acceptability of the scale while maintaining suitable psychometric properties.\\tRESULTS\\nthe three-item unidimensional scale showed good person separation (psi = .872), no disordering of thresholds, and no evidence of uniform or non-uniform dif.\\tRESULTS\\nrasch analysis supported the viability of the scale as a measure of implementation intentions.\\tRESULTS\\nthe measure of innovation-specific implementation intentions (misii) is a sound measure of providers\\' intentions to use a specific innovation or ebp.\\tCONCLUSIONS\\nfuture evaluation of convergent, divergent, and predictive validity are needed.\\tCONCLUSIONS\\nthe study also demonstrates the value of rasch analysis for testing the psychometric properties of pragmatic implementation measures.\\tCONCLUSIONS\\nsmoke from biomass fuels is a risk factor for pneumonia, the leading cause of child death worldwide.\\tBACKGROUND\\nalthough particulate matter (pm) is the metric of choice for studying the health effects of biomass smoke, measuring children\\'s pm exposure is difficult.\\tBACKGROUND\\ncarbon monoxide (co), which is easier to measure, can be used as a proxy for pm exposure.\\tBACKGROUND\\nwe measured the exposure of children <= 5 years of age in the gambia to co using small, passive, color stain diffusion tubes.\\tOBJECTIVE\\nwe conducted multiple co measurements on a subset of children to measure day-to-day exposure variability.\\tMETHODS\\nusual co exposure was modeled using a mixed effects model, which also included individual and household level exposure predictors.\\tMETHODS\\nmean measured co exposure for 1181 children (n=2263 measurements) was 1.04 +/- 1.46 p.p.m., indicating that the gambian children in this study on average have a relatively low co exposure.\\tRESULTS\\nhowever, 25% of children had exposures of 1.3 p.p.m. or higher.\\tRESULTS\\nco exposure was higher during the rainy months (1.33 +/- 1.62 p.p.m.).\\tRESULTS\\nburning insect coils, using charcoal, and measurement done in the rainy season were associated with higher exposure.\\tRESULTS\\na parsimonious model with fuel, season, and other pm sources as covariates explained 39% of between-child variation in exposure and helped remove within-child variability.\\tRESULTS\\nattentional selection in visual search paradigms and perceptual selection in bistable perception paradigms show functional similarities.\\tBACKGROUND\\nfor example, both are sensitive to trial history: they are biased toward previously selected targets or interpretations.\\tBACKGROUND\\nwe investigated whether priming by target selection in visual search and sensory memory for bistable perception are related.\\tOBJECTIVE\\nwe did this by presenting two trial types to observers.\\tMETHODS\\nwe presented either ambiguous spheres that rotated over a central axis and could be perceived as rotating in one of two directions, or search displays in which the unambiguously rotating target and distractor spheres closely resembled the two possible interpretations of the ambiguous stimulus.\\tMETHODS\\nwe interleaved both trial types within experiments, to see whether priming by target selection during search trials would affect the perceptual outcome of bistable perception and, conversely, whether sensory memory during bistable perception would affect target selection times during search.\\tMETHODS\\nwhereas we found intertrial repetition effects among consecutive search trials and among consecutive bistable trials, we did not find cross-paradigm effects.\\tRESULTS\\nthus, even though we could ascertain that our experiments robustly elicited processes of both search priming and sensory memory for bistable perception, these same experiments revealed no interaction between the two.\\tCONCLUSIONS\\nto evaluate the influence of model-based iterative reconstruction (mbir) with lung setting and conventional setting on pulmonary emphysema quantification by ultra-low-dose computed tomography (uldct) compared with standard-dose ct (sdct).\\tOBJECTIVE\\nforty-five patients who underwent uldct (0.18 +/- 0.02 msv) and sdct (6.66 +/- 2.69 msv) were analyzed in this retrospective study.\\tMETHODS\\nimages were reconstructed using filtered back projection (fbp) with smooth and sharp kernels and mbir with conventional and lung settings.\\tMETHODS\\nextent of emphysema was evaluated using fully automated software.\\tMETHODS\\ncorrelation between uldct and sdct was assessed by interclass correlation coefficiency (icc) and bland-altman analysis.\\tMETHODS\\nexcellent correlation was seen between mbir with conventional setting on uldct and fbp with smooth kernel on sdct (icc, 0.97; bias, -0.31%) and between mbir with lung setting on uldct and fbp with sharp kernel on sdct (icc, 0.82; bias, -2.10%).\\tRESULTS\\nmodel-based iterative reconstruction improved the agreement between uldct and sdct on emphysema quantification.\\tCONCLUSIONS\\njunior physiotherapists require satisfactory clinical skills to work effectively within the acute hospital setting for service quality and consistency.\\tBACKGROUND\\nto investigate the effects of stream-specific clinical training on junior physiotherapist self-efficacy, self-rated confidence, and self-rated ability to work independently during weekend shifts.\\tOBJECTIVE\\nprospective cohort study.\\tMETHODS\\neighteen junior physiotherapists.\\tMETHODS\\nphysiotherapists undertook 8 h of stream-specific education in: pediatrics, women\\'s health, neuro-medical, musculoskeletal, cardiorespiratory, and critical care over 8 weeks.\\tMETHODS\\nlearning objectives were evaluated using a self-efficacy (0-100) scale and self-rated confidence was measured with a 4-point likert scale (not confident to independent).\\tMETHODS\\nself-rated ability to independently work weekend shifts was measured dichotomously (yes/no).\\tMETHODS\\nparticipants completed an average of three stream-specific programs in the study period.\\tRESULTS\\npost-training, mean improvement in self-efficacy across objectives ranged from 2.9 (95% ci -8.7 to 14.5) to 43.3 (95% ci 4.8-81.8) points, p < 0.05 for 80% of objectives.\\tRESULTS\\nself-rated confidence scores improved for 45.6% of stream-specific learning objectives; 52.8% were unchanged and 1.7% reported a decrease in confidence.\\tRESULTS\\nself-rated ability to work stream-specific weekend shifts increased from 56-70%, but no stream achieved a significant increase in staff able to independently work weekend shifts (p range 0.10 to 1.0).\\tRESULTS\\na stream-specific education program increased junior physiotherapists\\' self-efficacy and self-rated confidence but not perceived ability to work independently on weekends.\\tCONCLUSIONS\\nresults were non-randomized and actual practice change was not assessed.\\tCONCLUSIONS\\nfuture studies could investigate different educational structures in a blinded, randomized manner on clinical practice change.\\tCONCLUSIONS\\neccrine porocarcinoma (epc) is a rare cutaneous neoplasm with high potential for morbidity and mortality.\\tBACKGROUND\\ndue to its rarity, there is a paucity of data profiling diagnosis, work-up, and management.\\tBACKGROUND\\nto consolidate reported information on demographics, diagnostics, clinical behavior, treatment modalities, and patient outcomes in epc to provide a reference tool to optimize diagnosis and management.\\tOBJECTIVE\\na comprehensive pubmed search was performed from 1963 to november 2017 using prisma guidelines.\\tMETHODS\\nthis yielded 155 articles detailing 206 cases of porocarcinoma.\\tMETHODS\\neccrine porocarcinoma most often presents in elderly patients on the head and neck or lower limbs.\\tRESULTS\\nmetastatic disease at presentation is not uncommon (22%).\\tRESULTS\\nprimary tumor location is significantly correlated with presence of metastasis (p = .038).\\tRESULTS\\nthe most common treatment is excision followed by mohs micrographic surgery (mms), although the outcomes after mms were superior to those after surgical excision.\\tRESULTS\\nthis systematic review of individual patient data reveals that all patients should have a histological diagnosis with imaging considered for high-risk cases.\\tCONCLUSIONS\\nprimary tumor location should also be considered in diagnostic and therapeutic decision-making.\\tCONCLUSIONS\\nalthough wide local excision (wle) is currently the first-line treatment, mms is becoming increasingly used, with evidence indicating improved outcomes as compared to those seen with wle.\\tCONCLUSIONS\\nthe introduction into clinical practice of contrast-enhanced ultrasonographic examination made it possible to assess patency of tibial arteries and perfusion of crural muscles in patients with occlusive lesions of lower-limb arteries.\\tBACKGROUND\\nthese findings are important for planning optimal treatment policy and assessing efficacy of operative or medicamentous treatment.\\tBACKGROUND\\nthe study was aimed at investigating a possibility of contrast-enhanced ultrasound examination for assessment of patency of tibial arteries and quantitative assessment of perfusion of crural muscles in patient with occlusive lesions of lower-limb arteries.\\tOBJECTIVE\\nwe examined a total of 30 patients presenting with atherosclerotic-genesis occlusive lesions of lower limb arteries and symptomatic intermittent claudication.\\tMETHODS\\nfive patients were examined in the postoperative period.\\tMETHODS\\nall patients were subjected to quantitative analysis of crural muscle perfusion in the pre- and postoperative periods, determining the time of onset of contrast medium accumulation and the time to the peak of intensity.\\tMETHODS\\ncontrast-enhanced ultrasound examination demonstrated that in patients with occlusive lesions of lower-limb arteries the start of contrast medium accumulation appeared to occur later than in apparently healthy people: on second 30-88, depending on the degree of limb ischaemia.\\tRESULTS\\nthe contrasting time-to-peak was also increased (from 36 to 120 s).\\tRESULTS\\nin the postoperative period all patients were found to have improved perfusion of the crural muscles, which was confirmed by a decrease in time-to-peak contrasting.\\tRESULTS\\ncontrast-enhanced ultrasonographic examination is currently the only non-invasive, safe method of determining perfusion of crural muscles, which may be used many times for assessment of viability of the ischaemised extremity, as well as for assessment of efficacy of the treatment performed.\\tCONCLUSIONS\\nthe use of swim fins has become popular in various water sport activities.\\tBACKGROUND\\nwhile numerous models of swim fin with various innovative shapes have been subjectively designed, the exact influence of the fin characteristics on swimming performance is still much debated, and remains difficult to quantify.\\tBACKGROUND\\nto date, the most common approach for evaluating swim fin propulsion is based on the study of \"swimmer-fins\" as a global system, where physiological and/or biomechanical responses are considered.\\tBACKGROUND\\nhowever, reproducible swimming technique is difficult (or even impossible) to obtain on human body and may lead to discrepancies in data acquired between trials.\\tBACKGROUND\\nin this study, we present and validate a new automat called hermes which enables an evaluation of various swim fins during an adjustable, standardized and reproducible motion.\\tOBJECTIVE\\nthis test bench reliably and accurately reproduces human fin-swimming motions, and gives resulting dynamic measurements at the ankle joint.\\tMETHODS\\nseven fins with various geometrical and mechanical characteristics were tested.\\tMETHODS\\nfor each swim fin, ankle force and hydromechanical efficiency (useful mechanical power output divided by mechanical power input delivered by the motors) were calculated.\\tMETHODS\\nefficiencies reported in our study were high (close to 70% for some swim fins) over a narrow range of strouhal number (st) and peaks within the interval 0.2<st<0.4, as shown in previous studies on flying or swimming animals.\\tCONCLUSIONS\\ntherefore, an interesting prospect in this work would be to accurately study the impact of adjustable fin kinematics and material (design and mechanical properties) on the wake structure and on efficiency.\\tCONCLUSIONS\\nthere are no reliable biomarkers that could evaluate the disease burden in amyotrophic lateral sclerosis (als).\\tBACKGROUND\\nthe aim of our study is to evaluate the changes in cerebrospinal fluid (csf) and serum neurofilament subunit l (nf-l) in patients with als and to analyze the correlations between the levels of nf-l and clinical parameters.\\tOBJECTIVE\\ncsf and serum samples were obtained from 80 als patients and 40 controls.\\tMETHODS\\nthe levels of nf-l in csf and serum were assessed, and disease progression parameters including duration, revised als functional rating scale (alsfrs-r) score, disease progression rate (dpr), upper motor neuron (umn) score, and survival were analyzed by registered neurologists.\\tMETHODS\\nall samples were measured using a commercial enzyme-linked immunosorbent assay.\\tMETHODS\\nstatistical analyses were performed using prism software.\\tMETHODS\\ncompared to the controls, the als patients displayed significantly increased levels of nf-l; these values were negatively correlated with the alsfrs-r score and positively correlated with the decrease in alsfrs-r score, dpr, and umn score.\\tRESULTS\\nthere was no correlation between levels of nf-l and duration.\\tRESULTS\\nin addition, the cumulative survival rate in als patients with a low level of nf-l was higher than in patients with a high level of nf-l.\\tRESULTS\\nnf-l levels increased in csf and serum of patients with als.\\tCONCLUSIONS\\nnf-l may thus be a neurodegenerative biomarker for predicting als severity and progression, and the survival of patients with this disease.\\tCONCLUSIONS\\nit is extremely important to not only address the short-term success following endoscopic correction of vesicoureteral reflux (vur) but also the long-term efficacy and safety of the tissue augmenting substance utilized for endoscopic correction.\\tBACKGROUND\\nthis study retrospectively evaluated all cases of ureterovesical junction (uvj) obstruction following endoscopic treatment of vur over the last 5 years utilizing two tissue augmenting substances, with special emphasis on the safety of vantris((r)), and performed clinical and histological review of these patients.\\tOBJECTIVE\\nthe study population comprised 2495 patients who underwent endoscopic correction of vur utilizing deflux((r)) (1790) and vantris((r)) (705).\\tMETHODS\\ntissue sections were stained with hematoxylin & eosin and trichrome, and examined under a light microscope.\\tMETHODS\\nnine primary obstructive megaureters after ureteral re-implantation served as controls.\\tMETHODS\\nnine (0.5%) children (three female and six male) in the deflux group and nine (1.3%) (five females and four males) in the vantris group developed uvj obstruction and required ureteral re-implantation.\\tRESULTS\\nobstruction developed during the period ranging 2-49 months (average 16 months) following endoscopic correction.\\tRESULTS\\nthe primary reflux grade was iii in seven, iv in six, and v in six children.\\tRESULTS\\nthe mean volume of the injected material in all obstructed patients was 1.2 +/- 0.6 cc (mean +/- sd).\\tRESULTS\\nhistopathological analysis revealed a pseudocapsule composed of fibrous tissue and foreign-body giant cells surrounding the vantris implant in all patients.\\tRESULTS\\nthe distal part of the ureters demonstrated significant ureteral dilatation without ureteral fibrosis.\\tRESULTS\\nin all patients, additional biopsies from the muscularis propria adjacent to the injection site were examined and showed no significant abnormalities.\\tRESULTS\\nthere was an increased collagen deposition in the juxtavesical segment of the obstructive ureters following deflux and vantris injections, and of primary obstructive megaureter.\\tRESULTS\\nno significant difference was found in the tissue response between deflux and vantris patients and controls.\\tRESULTS\\nstatistical analysis of the nonhomogeneous population demonstrated higher obstruction rates in patients from the vantris group.\\tRESULTS\\nhowever, no statistical difference was demonstrated regarding the obstruction rate in the homogenous group with relation to gender, age and reflux grade group of patients.\\tRESULTS\\nmoreover, univariate analysis revealed that grade v reflux, the presence of beak sign on the reviewed pretreatment, and inflamed bladder mucosa upon injection were significant independent risk factors leading to obstruction.\\tRESULTS\\nthis study suggested that the underlining ureteral pathology lead to uvj obstruction following vantris injection.\\tCONCLUSIONS\\nthere was increased collagen deposition in the juxtavesical segment of the obstructive ureters following vantris injection.\\tCONCLUSIONS\\nfurthermore, these findings were similar to those discovered in patients who underwent endoscopic correction with deflux, and in patients who required ureteral reimplantation due to primary obstructive megaureter.\\tCONCLUSIONS\\nadditional biopsies from the muscularis propria adjacent to the injection site showed no significant abnormalities, ironing out the fact that vantris did not led to adverse tissue reaction following injection.\\tCONCLUSIONS\\nunivariate analysis further ironed out the hypothesis that underlying ureteral pathology was responsible for the increased incidence of uvj obstruction and demonstrated that grade v reflux, the presence of beak sign on the reviewed pretreatment vcug, and inflamed bladder mucosa upon injection were significant independent risk factors leading to obstruction.\\tCONCLUSIONS\\ndata showed that vantris injection did not lead to any different ureteral fibrosis or inflammatory changes to the tissue augmenting substances utilized in past and present clinical practice, and therefore did not seem to increase the incidence of uvj obstruction.\\tCONCLUSIONS\\nhigh reflux grade, presence of obstructive/refluxing megaureter and inflamed bladder mucosa were the only statistically significant and independent predictive factors for uvj obstruction following endoscopic correction of vur.\\tCONCLUSIONS\\nto identify the effect of duration of weight-bearing exercise and team sports participation on bone mineral density (bmd) and body composition among adolescents with anorexia nervosa (an).\\tOBJECTIVE\\nwe retrospectively reviewed electronic medical records of all patients 9-20 years old with a dsm-5 diagnosis of an evaluated by the stanford eating disorders program (1997-2011) who underwent dual-energy x-ray absorptiometry.\\tMETHODS\\na total of 188 adolescents with an were included (178 females and 10 males).\\tRESULTS\\nusing multivariate linear regression, duration of weight-bearing exercise (b = 0.15, p = 0.005) and participation in team sports (b = 0.53, p = 0.001) were associated with higher bmd at the hip and team sports (b = 0.39, p = 0.006) were associated with higher whole body bmc, controlling for covariates.\\tRESULTS\\nparticipation in team sports (b = - 1.06, p = 0.007) was associated with greater deficits in fmi z-score.\\tRESULTS\\nlbmi z-score was positively associated with duration of weight-bearing exercise (b = 0.10, p = 0.018) and may explain the relationship between exercise and bone outcomes.\\tRESULTS\\nduration of weight-bearing exercise and team sports participation may be protective of bmd at the hip and whole body bmc, while participation in team sports was associated with greater fmi deficits among adolescents with an.\\tCONCLUSIONS\\nlevel v, descriptive retrospective study.\\tNONE\\ninvariant nkt (inkt) cells are glycolipid-specific innate lymphocytes emerging as critical players in the immune response to diverse infections and disease.\\tBACKGROUND\\ninkt cells are activated through cognate interactions with lipid-loaded apcs, by ag-independent cytokine-mediated signaling pathways, or a combination of both.\\tBACKGROUND\\nalthough each of these modes of inkt cell activation plays an important role in directing the humoral and cell-mediated immune response, the spatio-temporal nature of these interactions and the cellular requirements for activation are largely undefined.\\tBACKGROUND\\ncombining novel in situ confocal imaging of alphagalactosylceramide-loaded cd1d tetramer labeling to localize the endogenous inkt cell population with cytokine reporter mice, we reveal the choreography of early murine splenic inkt cell activation across diverse settings of glycolipid immunization and systemic infection with streptococcus pneumoniae.\\tMETHODS\\nwe find that inkt cells consolidate in the marginal zone and require dendritic cells lining the splenic marginal zone for activation following administration of cognate glycolipids and during systemic infection but not following exogenous cytokine administration.\\tRESULTS\\nalthough further establishing the importance of cognate inkt cell interactions with apcs, we also show that noncognate inkt-dependent mechanisms are sufficient to mediate effector outcomes, such as stat signaling and dendritic cell licensing throughout the splenic parenchyma.\\tRESULTS\\ncollectively, these data provide new insight into how inkt cells may serve as a natural adjuvant in facilitating adaptive immune responses, irrespective of their tissue localization.\\tCONCLUSIONS\\neisenmenger syndrome represents severe, irreversible, and end-stage pulmonary arterial hypertension (pah) associated with congenital heart defects.\\tBACKGROUND\\nfor long-term outcome optimal right ventricular (rv) adaptation is crucial with precise assessment of its hypertrophy, dilatation and function.\\tBACKGROUND\\nassociations of electrocardiographic (ecg) and echocardiographic (echo) rv characteristics were analyzed.\\tOBJECTIVE\\nincluded were 52 patients (39f/13m), median age 45 years (24-78).\\tMETHODS\\nfollowing ecg parameters were analyzed: butler-leggett formula (b-l), sokolow-lyon criterion (s-l), qrs duration (qrs), maximum spatial qrs vector magnitude (qrs max); and echo parameters: rv diameter (rvd), rv wall thickness (rvaw), rv/lv function.\\tMETHODS\\nfollowing significant ecg-echo associations were demonstrated: s-l criterion and b-l formula with rvaw (p 120 ms only with severely dilated rv (rvd > 45 mm), while qrs max 33 mm); a new combined scoring system was introduced.\\tRESULTS\\nin eisenmenger syndrome rv hypertrophy is compensatory; diagnosis of prognostically unfavorable rv dilatation is therefore important.\\tCONCLUSIONS\\ncombined ecg-echo analysis enables more accurate risk stratification.\\tCONCLUSIONS\\nqrs duration > 120 ms seems to be a late marker; qrs max together with echo parameters may help to distinguish patients at higher risk for clinical deterioration (tab. 3, fig. 8, ref. 53).\\tCONCLUSIONS\\nin the 2009 national health and medical research council (nhmrc) australian guidelines to reduce health risks from drinking, a guideline specific to lactating women was included.\\tBACKGROUND\\nfor the first time the effect of alcohol at this important developmental stage was nationally and internationally acknowledged.\\tBACKGROUND\\nto determine the degree to which maternal health practitioners adopted an australian national policy guideline (guideline 4b) on alcohol and breastfeeding into their everyday health practice and the factors associated with adoption.\\tOBJECTIVE\\na convenience sample of participants completed an online survey based on the nursing practice questionnaire (npq) to elicit measures of knowledge, awareness and practice implementation.\\tMETHODS\\nin total, 240 maternal health practitioners completed the online survey.\\tRESULTS\\nall statistical analyses clearly indicated a higher adoption of guideline 4b by the child health nurses, midwives and general practitioners (gps) than was the case for paediatricians and obstetricians.\\tRESULTS\\na mean adoption score (range 0-4) indicative of \\'some\\' practice implementation of 3.13, 3.04 and 2.73 was obtained by child health nurses, midwives and gps, respectively.\\tRESULTS\\nobstetricians and paediatricians scored a mean of 2.0, indicating they remain to be \\'persuaded about the practice\\' of incorporating discussions around alcohol and breastfeeding into their practice.\\tRESULTS\\ndespite the existence of a national alcohol guideline for breastfeeding women, maternal health practitioners are not incorporating this advice into their everyday practice with lactating women.\\tCONCLUSIONS\\nopportunities exist for all maternal practitioners along the reproductive continuum to protect long-term breastfeeding duration using an evidence-based harm minimisation approach to alcohol consumption.\\tCONCLUSIONS\\nnurses play a key role in the provision of services in relation to sexuality in both primary and sexual and reproductive health-care.\\tBACKGROUND\\ngiven the intersection of sexualities with a range of social injustices, this study reviews research on nursing practice concerning sexuality from an emancipatory/social justice perspective.\\tOBJECTIVE\\na systematic review of english articles published in nursing journals appearing on the web of science database from 2009 to 2014 was conducted.\\tMETHODS\\nthirty-eight articles met the inclusion criteria.\\tMETHODS\\nanalysis consisted of a descriptive phase (types and location of studies, aspects of sexualities focused on, target health users and aspects of nursing practice focused on) and a critical/emancipatory phase.\\tMETHODS\\nin terms of practice, our analysis revealed that: barriers exist to the integration of issues relating to sexuality in nursing practice; the social location of nurses and their personal feelings regarding sexuality influence their practice; content that addresses gendered norms and media that assist in communication underpin some emancipatory practices.\\tRESULTS\\nfew studies locate analyses of nursing practice within gendered, cultural and social norms; consider advocacy as part of the practice of nurses; or analyse the promotion of health user participation in health services and structures.\\tCONCLUSIONS\\nthe implications for emancipatory practice are drawn out.\\tCONCLUSIONS\\nempirical evidence supporting the cost-effectiveness estimates of particular health care technologies may be limited, or it may even be missing entirely.\\tBACKGROUND\\nin these situations, additional information, often in the form of expert judgments, is needed to reach a decision.\\tBACKGROUND\\nthere are formal methods to quantify experts\\' beliefs, termed as structured expert elicitation (see), but only limited research is available in support of methodological choices.\\tBACKGROUND\\nperhaps as a consequence, the use of see in the context of cost-effectiveness modelling is limited.\\tBACKGROUND\\nthis article reviews applications of see in cost-effectiveness modelling with the aim of summarizing the basis for methodological choices made in each application and recording the difficulties and challenges reported by the authors in the design, conduct, and analyses.\\tOBJECTIVE\\nthe methods used in each application were extracted along with the criteria used to support methodological and practical choices and any issues or challenges discussed in the text.\\tMETHODS\\nissues and challenges were extracted using an open field, and then categorised and grouped for reporting.\\tMETHODS\\nthe review demonstrates considerable heterogeneity in methods used, and authors acknowledge great methodological uncertainty in justifying their choices.\\tRESULTS\\nspecificities of the context area emerging as potentially important in determining further methodological research in elicitation are between- expert variation and its interpretation, the fact that substantive experts in the area may not be trained in quantitative subjects, that judgments are often needed on various parameter types, the need for some form of assessment of validity, and the need for more integration with behavioural research to devise relevant debiasing strategies.\\tRESULTS\\nthis review of experiences of see highlights a number of specificities/constraints that can shape the development of guidance and target future research efforts in this area.\\tCONCLUSIONS\\nkaempferol is a member of the flavonoid compounds found in vegetables and fruits.\\tBACKGROUND\\nit is shown to exhibit biological impact and anticancer activity, but no report exists on the angiogenic effect of kaempferol and induction of cell apoptosis in vitro.\\tBACKGROUND\\nin this study, we investigated the role of kaempferol on anti-angiogenic property and the apoptotic mechanism of human umbilical vein endothelial cells (huvecs).\\tOBJECTIVE\\nour results demonstrated that kaempferol decreased huvec viability in a time- and concentration-dependent manner.\\tRESULTS\\nkaempferol also induced morphological changes and sub-g1 phase cell population (apoptotic cells).\\tRESULTS\\nkaempferol triggered apoptosis of huvecs as detecting by dna fragmentation, comet assay and immunofluorescent staining for activated caspase-3.\\tRESULTS\\nthe caspase signals, including caspase-8, -9 and -3, were time-dependently activated in huvecs after kaempferol exposure.\\tRESULTS\\nfurthermore, pre-treatment with a specific inhibitor of caspase-8 (z-ietd-fmk) significantly reduced the activity of caspase-8, -9 and -3, indicating that extrinsic pathway is a major signaling pathway in kaempferol-treated huvecs.\\tRESULTS\\nimportantly, kaempferol promoted reactive oxygen species (ros) evaluated using flow cytometric assay in huvecs.\\tRESULTS\\nwe further investigated the upstream extrinsic pathway and showed that kaempferol stimulated death receptor signals [fas/cd95, death receptor 4 (dr4) and dr5] through increasing the levels of phosphorylated p53 and phosphorylated atm pathways in huvecs, which can be individually confirmed by n-acetylcysteine (nac), atm specific inhibitor (caffeine) and p53 sirna.\\tRESULTS\\nbased on these results, kaempferol-induced huvec apoptosis was involved in an ros-mediated p53/atm/death receptor signaling.\\tCONCLUSIONS\\nkaempferol might possess therapeutic effects on cancer treatment in anti-vascular targeting.\\tCONCLUSIONS\\nacne vulgaris remains a challenging disease to treat in many patients.\\tBACKGROUND\\ntraditional therapies may have limited successes with potential side effects.\\tBACKGROUND\\nlaser and light energy devices may offer a desirable alternative.\\tBACKGROUND\\nto evaluate the effectiveness and safety in using a combination laser approach with both long-pulsed (lp) and q-switched (qs) nd:yag lasers in the treatment of active acne.\\tOBJECTIVE\\ntwenty patients with moderate to severe inflammatory acne were treated with lp yag laser followed immediately with qs yag laser.\\tMETHODS\\npatients received at least 8 treatments.\\tMETHODS\\nfollow-up evaluation occurred at a minimum of 12 months.\\tMETHODS\\npre- and post-treatment photographs were graded by blinded physicians.\\tMETHODS\\nall topical acne medications and oral antibiotics were discontinued throughout the therapy and follow-up period.\\tMETHODS\\nthere was a 81% reduction in acne lesions, with 60% of patients having 90% or greater reduction.\\tRESULTS\\noverall appearance was graded at 84% improvement at follow-up.\\tRESULTS\\nfollow-up occurred at a mean of 22.7 months after completion of therapy.\\tRESULTS\\naside from transient erythema, there were no other adverse effects.\\tRESULTS\\nactive acne can be treated successfully with a combination of lp and qs yag lasers with patients remaining off acne medications throughout laser therapy and the follow-up period.\\tCONCLUSIONS\\nsince 2001, the u.s.\\tBACKGROUND\\narmed forces\\' training and deployment have greatly increased, escalating the risk of injury and pain-related issues both at home station and deployment environments.\\tBACKGROUND\\nthis integrative review examines the incidence, prevalence, and risk factors for musculoskeletal pain (msp) and headaches in active duty (ad) military populations.\\tOBJECTIVE\\npeer-reviewed research published between 2001 and 2016 was identified relevant to msp and headache in ad military personnel using mesh terms in key biomedical databases.\\tMETHODS\\ninclusion criteria were: epidemiological studies examining msp or headache as primary or secondary outcome; samples that included ad populations; and studies conducted in the theater of operations, at home station, and in military treatment or veterans health administration facilities.\\tMETHODS\\ntwenty-six articles met inclusion criteria.\\tRESULTS\\nlow back pain (lbp) was the most prevalent msp diagnosis.\\tRESULTS\\nthe incidence of lbp was 40.5 per 1,000 person-years and was comparable to nonmilitary populations.\\tRESULTS\\ninflammation and pain from overuse comprised the largest proportion of injury mechanism, accounting for about 82% of all injuries among nondeployed military personnel.\\tRESULTS\\nthe risk of msp was greater for ad, female, army, enlisted personnel, and those with greater time in a motor vehicle.\\tRESULTS\\nevidence suggests posttraumatic headache, occurring in up to 92% of military personnel who have sustained a mild traumatic brain injury, is associated with chronic daily headaches.\\tRESULTS\\nnurses must recognize the consequences military service can have on the development of pain.\\tCONCLUSIONS\\nnurses have an opportunity to positively impact the health and well-being of military and veteran populations through early recognition and treatment of pain.\\tCONCLUSIONS\\nthe findings from this review underscore considerable magnitude of msp in military personnel and expose modifiable risk factors and potential targets for designing nurse-led interventions to improve pain and symptoms in military subpopulations.\\tCONCLUSIONS\\n'"
            ]
          },
          "metadata": {},
          "execution_count": 14
        }
      ]
    },
    {
      "cell_type": "code",
      "metadata": {
        "id": "pbDzLWSSpS1Z"
      },
      "source": [
        ""
      ],
      "execution_count": null,
      "outputs": []
    },
    {
      "cell_type": "code",
      "metadata": {
        "colab": {
          "base_uri": "https://localhost:8080/"
        },
        "id": "X0OUS0nBbQuQ",
        "outputId": "a6d058b1-6bf7-4115-cc04-fb89bf267bee"
      },
      "source": [
        "df[\"GOLD\"].value_counts()"
      ],
      "execution_count": null,
      "outputs": [
        {
          "output_type": "execute_result",
          "data": {
            "text/plain": [
              "RESULTS        1154\n",
              "METHODS         785\n",
              "BACKGROUND      538\n",
              "CONCLUSIONS     520\n",
              "OBJECTIVE       282\n",
              "NONE             16\n",
              "Name: GOLD, dtype: int64"
            ]
          },
          "metadata": {},
          "execution_count": 16
        }
      ]
    },
    {
      "cell_type": "code",
      "metadata": {
        "id": "0LXnou9mESMy"
      },
      "source": [
        "unstructured = set()\n",
        "\n",
        "for key, i in df.iterrows():\n",
        "  if str(i[\"STRUCTURED ABSTRACT LABEL\"]) == \"nan\":\n",
        "    unstructured.add(i[\"PMID\"])\n",
        "\n",
        "for key, i in df.iterrows():\n",
        "  if str(i[\"STRUCTURED ABSTRACT LABEL\"]) != \"nan\" and i[\"PMID\"] in unstructured:\n",
        "    unstructured.remove(i[\"PMID\"])"
      ],
      "execution_count": null,
      "outputs": []
    },
    {
      "cell_type": "code",
      "metadata": {
        "colab": {
          "base_uri": "https://localhost:8080/"
        },
        "id": "Qu9dTPiEFmtk",
        "outputId": "0f80fd4f-0e82-4e30-fdaf-41d2adbfae0f"
      },
      "source": [
        "len(unstructured)"
      ],
      "execution_count": null,
      "outputs": [
        {
          "output_type": "execute_result",
          "data": {
            "text/plain": [
              "100"
            ]
          },
          "metadata": {},
          "execution_count": 18
        }
      ]
    },
    {
      "cell_type": "code",
      "metadata": {
        "id": "2J0yfz6MFXi5"
      },
      "source": [
        ""
      ],
      "execution_count": null,
      "outputs": []
    },
    {
      "cell_type": "code",
      "metadata": {
        "id": "sU9ktw0_VFaF"
      },
      "source": [
        "import re\n",
        "\n",
        "flag = 0\n",
        "pubmedid = []\n",
        "abstracts = []\n",
        "for key, i in df.iterrows():\n",
        "  if i.PMID != flag:\n",
        "    if flag != 0:\n",
        "      abstracts.append(new_abstract)\n",
        "    new_abstract = []\n",
        "    pubmedid.append(i.PMID)\n",
        "    flag = i.PMID\n",
        "  SENTENCE = re.sub(\"\\d+\", \"@\", i.SENTENCE)\n",
        "  new_abstract.append(i.GOLD + \"\\t\" + SENTENCE)\n",
        "\n",
        "abstracts.append(new_abstract)\n"
      ],
      "execution_count": null,
      "outputs": []
    },
    {
      "cell_type": "code",
      "metadata": {
        "id": "Q7kwiGMIZJb6"
      },
      "source": [
        "total = 0\n",
        "for i in abstracts:\n",
        "  total = total + len(i)"
      ],
      "execution_count": null,
      "outputs": []
    },
    {
      "cell_type": "code",
      "metadata": {
        "id": "NOjHKvI_XEt1"
      },
      "source": [
        "pmid_train = pubmedid[:200]\n",
        "pmid_test = pubmedid[200:]\n",
        "abstracts_train = abstracts[:200]\n",
        "abstracts_test = abstracts[200:]"
      ],
      "execution_count": null,
      "outputs": []
    },
    {
      "cell_type": "code",
      "metadata": {
        "id": "7e-uYh8sZjUI"
      },
      "source": [
        "total = 0\n",
        "for i in abstracts_train:\n",
        "  total = total + len(i)"
      ],
      "execution_count": null,
      "outputs": []
    },
    {
      "cell_type": "code",
      "metadata": {
        "colab": {
          "base_uri": "https://localhost:8080/"
        },
        "id": "RM2mDdeDZrHr",
        "outputId": "c2b459de-e13c-457c-8cc1-7899e555f035"
      },
      "source": [
        "total"
      ],
      "execution_count": null,
      "outputs": [
        {
          "output_type": "execute_result",
          "data": {
            "text/plain": [
              "2198"
            ]
          },
          "metadata": {},
          "execution_count": 23
        }
      ]
    },
    {
      "cell_type": "code",
      "metadata": {
        "id": "CZRwAOhdENcs"
      },
      "source": [
        ""
      ],
      "execution_count": null,
      "outputs": []
    },
    {
      "cell_type": "code",
      "metadata": {
        "id": "LmIoG1JMJfru"
      },
      "source": [
        "pmid_train_set = set(pmid_train)\n",
        "pmid_test_set = set(pmid_test)"
      ],
      "execution_count": null,
      "outputs": []
    },
    {
      "cell_type": "code",
      "metadata": {
        "id": "Hw5vtFM-Jntc"
      },
      "source": [
        "import random\n",
        "pmid_unstructured_test_set = random.sample(unstructured, 33)"
      ],
      "execution_count": null,
      "outputs": []
    },
    {
      "cell_type": "code",
      "metadata": {
        "id": "x8vPDLyuM4wy"
      },
      "source": [
        "pmid_unstructured_train_set = unstructured - set(pmid_unstructured_test_set)"
      ],
      "execution_count": null,
      "outputs": []
    },
    {
      "cell_type": "code",
      "metadata": {
        "id": "tpBXm30NM5Be"
      },
      "source": [
        "pmid_structured_test_set = random.sample((set(pubmedid) - unstructured), 67)"
      ],
      "execution_count": null,
      "outputs": []
    },
    {
      "cell_type": "code",
      "metadata": {
        "id": "Rgi7HswsNa27"
      },
      "source": [
        "pmid_structured_train_set = set(pubmedid) - unstructured - set(pmid_structured_test_set)"
      ],
      "execution_count": null,
      "outputs": []
    },
    {
      "cell_type": "code",
      "metadata": {
        "colab": {
          "base_uri": "https://localhost:8080/"
        },
        "id": "iCJEXflmK4yZ",
        "outputId": "43098176-28be-40bf-f7f3-bc39a24ccc65"
      },
      "source": [
        "len(pmid_structured_train_set)"
      ],
      "execution_count": null,
      "outputs": [
        {
          "output_type": "execute_result",
          "data": {
            "text/plain": [
              "133"
            ]
          },
          "metadata": {},
          "execution_count": 30
        }
      ]
    },
    {
      "cell_type": "code",
      "metadata": {
        "id": "IStaSeWVN2Gr"
      },
      "source": [
        "import re\n",
        "\n",
        "flag = 0\n",
        "pubmedid = []\n",
        "abstracts_structured_train = []\n",
        "abstracts_structured_test = []\n",
        "abstracts_unstructured_train = []\n",
        "abstracts_unstructured_test = []\n",
        "\n",
        "for key, i in df.iterrows():\n",
        "  if i.PMID != flag:\n",
        "    if flag != 0:\n",
        "      if flag in list(pmid_structured_train_set):\n",
        "        abstracts_structured_train.append(new_abstract)\n",
        "      elif flag in list(pmid_structured_test_set):\n",
        "        abstracts_structured_test.append(new_abstract)\n",
        "      elif flag in list(pmid_unstructured_train_set):\n",
        "        abstracts_unstructured_train.append(new_abstract)\n",
        "      elif flag in list(pmid_unstructured_test_set):\n",
        "        abstracts_unstructured_test.append(new_abstract)        \n",
        "    new_abstract = []\n",
        "    pubmedid.append(i.PMID)\n",
        "    flag = i.PMID\n",
        "  if str(i.GOLD) != \"NONE\":\n",
        "    SENTENCE = re.sub(\"\\d+\", \"@\", i.SENTENCE)\n",
        "    new_abstract.append(i.GOLD + \"\\t\" + SENTENCE)\n",
        "\n",
        "if flag in list(pmid_structured_train_set):\n",
        "  abstracts_structured_train.append(new_abstract)\n",
        "elif flag in list(pmid_structured_test_set):\n",
        "  abstracts_structured_test.append(new_abstract)\n",
        "elif flag in list(pmid_unstructured_train_set):\n",
        "  abstracts_unstructured_train.append(new_abstract)\n",
        "elif flag in list(pmid_unstructured_test_set):\n",
        "  abstracts_unstructured_test.append(new_abstract)   "
      ],
      "execution_count": null,
      "outputs": []
    },
    {
      "cell_type": "code",
      "metadata": {
        "id": "qTpbc4D0ptNI"
      },
      "source": [
        "saved_string_abs_stu_train = \"\"\n",
        "saved_string_abs_stu_test = \"\"\n",
        "saved_string_abs_unstu_train = \"\"\n",
        "saved_string_abs_unstu_test = \"\"\n",
        "for i in abstracts_structured_train:\n",
        "  for j in i:\n",
        "    k = j.split(\"\\t\")\n",
        "    saved_string_abs_stu_train += k[1] +\"\\t\" + k[0] + \"\\n\"\n",
        "  saved_string_abs_stu_train += \"\\n\"\n",
        "for i in abstracts_structured_test:\n",
        "  for j in i:\n",
        "    k = j.split(\"\\t\")\n",
        "    saved_string_abs_stu_test += k[1] +\"\\t\" + k[0] + \"\\n\"\n",
        "  saved_string_abs_stu_test += \"\\n\"\n",
        "for i in abstracts_unstructured_train:\n",
        "  for j in i:\n",
        "    k = j.split(\"\\t\")\n",
        "    saved_string_abs_unstu_train += k[1] +\"\\t\" + k[0] + \"\\n\"\n",
        "  saved_string_abs_unstu_train += \"\\n\"\n",
        "for i in abstracts_unstructured_test:\n",
        "  for j in i:\n",
        "    k = j.split(\"\\t\")\n",
        "    saved_string_abs_unstu_test += k[1] +\"\\t\" + k[0] + \"\\n\"\n",
        "  saved_string_abs_unstu_test += \"\\n\"\n",
        "\n"
      ],
      "execution_count": null,
      "outputs": []
    },
    {
      "cell_type": "code",
      "metadata": {
        "id": "CjciE6Hiq96-"
      },
      "source": [
        "text_file = open(\"/content/gdrive/My Drive/imrd_data_pubmed/manual_stu_train.txt\", \"w\")\n",
        "n = text_file.write(saved_string_abs_stu_train)\n",
        "text_file.close()\n",
        "text_file = open(\"/content/gdrive/My Drive/imrd_data_pubmed/manual_stu_test.txt\", \"w\")\n",
        "n = text_file.write(saved_string_abs_stu_test)\n",
        "text_file.close()\n",
        "text_file = open(\"/content/gdrive/My Drive/imrd_data_pubmed/manual_unstu_train.txt\", \"w\")\n",
        "n = text_file.write(saved_string_abs_unstu_train)\n",
        "text_file.close()\n",
        "text_file = open(\"/content/gdrive/My Drive/imrd_data_pubmed/manual_unstu_test.txt\", \"w\")\n",
        "n = text_file.write(saved_string_abs_unstu_test)\n",
        "text_file.close()"
      ],
      "execution_count": null,
      "outputs": []
    },
    {
      "cell_type": "code",
      "metadata": {
        "id": "WGtjHTpif-3w"
      },
      "source": [
        "import re\n",
        "\n",
        "flag = 0\n",
        "abstracts_structured_test_original = []\n",
        "\n",
        "for key, i in df.iterrows():\n",
        "  if i.PMID != flag:\n",
        "    if flag != 0:\n",
        "      if flag in list(pmid_structured_test_set):\n",
        "        abstracts_structured_test_original.append(new_abstract)     \n",
        "    new_abstract = []\n",
        "    pubmedid.append(i.PMID)\n",
        "    flag = i.PMID\n",
        "  if str(i.GOLD) != \"NONE\" :\n",
        "    SENTENCE = re.sub(\"\\d+\", \"@\", i.SENTENCE)\n",
        "    if str(i[\"NORMALIZED LABEL/PREDICTION\"]) != \"nan\":\n",
        "      new_abstract.append(str(i[\"NORMALIZED LABEL/PREDICTION\"]) + \"\\t\" + SENTENCE)\n",
        "    else:\n",
        "      new_abstract.append(str(i[\"GOLD\"]) + \"\\t\" + SENTENCE)\n",
        "\n",
        "\n",
        "if flag in list(pmid_structured_test_set):\n",
        "  abstracts_structured_test_original.append(new_abstract)   "
      ],
      "execution_count": null,
      "outputs": []
    },
    {
      "cell_type": "code",
      "metadata": {
        "colab": {
          "base_uri": "https://localhost:8080/"
        },
        "id": "ezNqTEyQiAAI",
        "outputId": "8d4e8b6d-42e2-4c88-b9b9-ea996cf4476d"
      },
      "source": [
        "len(abstracts_structured_train)"
      ],
      "execution_count": null,
      "outputs": [
        {
          "output_type": "execute_result",
          "data": {
            "text/plain": [
              "133"
            ]
          },
          "metadata": {},
          "execution_count": 49
        }
      ]
    },
    {
      "cell_type": "code",
      "metadata": {
        "id": "AKFado_FZ5ka"
      },
      "source": [
        "total = 0\n",
        "for i in abstracts_structured_train:\n",
        "  total = total + len(i)"
      ],
      "execution_count": null,
      "outputs": []
    },
    {
      "cell_type": "code",
      "metadata": {
        "colab": {
          "base_uri": "https://localhost:8080/"
        },
        "id": "jwzISE0OaBn3",
        "outputId": "74245e55-be63-4c18-a9a1-1f9a352caa38"
      },
      "source": [
        "print(total)"
      ],
      "execution_count": null,
      "outputs": [
        {
          "output_type": "stream",
          "name": "stdout",
          "text": [
            "1610\n"
          ]
        }
      ]
    },
    {
      "cell_type": "code",
      "metadata": {
        "id": "7a4zgI1bXvLN"
      },
      "source": [
        "ls_train_structured = \"\"\n",
        "for i in range(len(list(pmid_structured_train_set))):\n",
        "  ls_train_structured = ls_train_structured + \"###\" + str(pmid_train[i]) + \"\\n\"\n",
        "  for j in abstracts_structured_train[i]:\n",
        "    ls_train_structured = ls_train_structured + j + \"\\n\"\n",
        "  ls_train_structured = ls_train_structured + \"\\n\"\n",
        "\n",
        "ls_train_unstructured = \"\"\n",
        "for i in range(len(list(pmid_unstructured_train_set))):\n",
        "  ls_train_unstructured = ls_train_unstructured + \"###\" + str(pmid_train[i]) + \"\\n\"\n",
        "  for j in abstracts_unstructured_train[i]:\n",
        "    ls_train_unstructured = ls_train_unstructured + j + \"\\n\"\n",
        "  ls_train_unstructured = ls_train_unstructured + \"\\n\"\n",
        "\n",
        "ls_test_structured = \"\"\n",
        "for i in range(len(list(pmid_structured_test_set))):\n",
        "  ls_test_structured = ls_test_structured + \"###\" + str(pmid_test[i]) + \"\\n\"\n",
        "  for j in abstracts_structured_test[i]:\n",
        "    ls_test_structured = ls_test_structured + j + \"\\n\"\n",
        "  ls_test_structured = ls_test_structured + \"\\n\"\n",
        "\n",
        "ls_test_unstructured = \"\"\n",
        "for i in range(len(list(pmid_unstructured_test_set))):\n",
        "  ls_test_unstructured = ls_test_unstructured + \"###\" + str(pmid_test[i]) + \"\\n\"\n",
        "  for j in abstracts_unstructured_test[i]:\n",
        "    ls_test_unstructured = ls_test_unstructured + j + \"\\n\"\n",
        "  ls_test_unstructured = ls_test_unstructured + \"\\n\"\n",
        "\n",
        "ls_test_structured_original = \"\"\n",
        "for i in range(len(list(pmid_structured_test_set))):\n",
        "  ls_test_structured_original = ls_test_structured_original + \"###\" + str(pmid_test[i]) + \"\\n\"\n",
        "  for j in abstracts_structured_test_original[i]:\n",
        "    ls_test_structured_original = ls_test_structured_original + j + \"\\n\"\n",
        "  ls_test_structured_original = ls_test_structured_original + \"\\n\""
      ],
      "execution_count": null,
      "outputs": []
    },
    {
      "cell_type": "code",
      "metadata": {
        "id": "MUTMx5GwZrkj"
      },
      "source": [
        "file1 = open(\"/content/gdrive/My Drive/manually_annotated_data/manually_annotated_structured_train.txt\",\"w\")\n",
        "file1.write(ls_train_structured)\n",
        "file1.close()\n",
        "\n",
        "file2 = open(\"/content/gdrive/My Drive/manually_annotated_data/manually_annotated_unstructured_train.txt\",\"w\")\n",
        "file2.write(ls_train_unstructured)\n",
        "file2.close()\n",
        "\n",
        "file3 = open(\"/content/gdrive/My Drive/manually_annotated_data/manually_annotated_structured_test.txt\",\"w\")\n",
        "file3.write(ls_test_structured)\n",
        "file3.close()\n",
        "\n",
        "file4 = open(\"/content/gdrive/My Drive/manually_annotated_data/manually_annotated_unstructured_test.txt\",\"w\")\n",
        "file4.write(ls_test_unstructured)\n",
        "file4.close()\n",
        "\n",
        "file5 = open(\"/content/gdrive/My Drive/manually_annotated_data/manually_annotated_train.txt\",\"w\")\n",
        "file5.write(ls_train_structured + ls_train_unstructured)\n",
        "file5.close()\n",
        "\n",
        "file6 = open(\"/content/gdrive/My Drive/manually_annotated_data/manually_annotated_test.txt\",\"w\")\n",
        "file6.write(ls_test_structured + ls_test_unstructured)\n",
        "file6.close()\n",
        "\n",
        "file7 = open(\"/content/gdrive/My Drive/manually_annotated_data/manually_annotated_structured_test_original.txt\",\"w\")\n",
        "file7.write(ls_test_structured_original)\n",
        "file7.close()\n"
      ],
      "execution_count": null,
      "outputs": []
    },
    {
      "cell_type": "code",
      "metadata": {
        "colab": {
          "base_uri": "https://localhost:8080/",
          "height": 164
        },
        "id": "poqTie6iZ_Kt",
        "outputId": "b5704924-f193-49a2-ec7a-4b3e833c149e"
      },
      "source": [
        "ls_test"
      ],
      "execution_count": null,
      "outputs": [
        {
          "output_type": "error",
          "ename": "NameError",
          "evalue": "ignored",
          "traceback": [
            "\u001b[0;31m---------------------------------------------------------------------------\u001b[0m",
            "\u001b[0;31mNameError\u001b[0m                                 Traceback (most recent call last)",
            "\u001b[0;32m<ipython-input-1-d5e2c2eee979>\u001b[0m in \u001b[0;36m<module>\u001b[0;34m()\u001b[0m\n\u001b[0;32m----> 1\u001b[0;31m \u001b[0mls_test\u001b[0m\u001b[0;34m\u001b[0m\u001b[0;34m\u001b[0m\u001b[0m\n\u001b[0m",
            "\u001b[0;31mNameError\u001b[0m: name 'ls_test' is not defined"
          ]
        }
      ]
    },
    {
      "cell_type": "code",
      "metadata": {
        "id": "0lFnlZNwirIz"
      },
      "source": [
        "\n",
        "df[:2716].GOLD.value_counts()"
      ],
      "execution_count": null,
      "outputs": []
    },
    {
      "cell_type": "code",
      "metadata": {
        "id": "m55J0IzfiwGt"
      },
      "source": [
        "def convert_label_2(label):\n",
        "    \n",
        "    if label == \"BACKGROUND\":\n",
        "        return np.array([0.0, 1.0, 0.0, 0.0, 0.0, 0.0])\n",
        "    if label == \"OBJECTIVE\":\n",
        "        return np.array([0.0, 0.0, 1.0, 0.0, 0.0, 0.0])\n",
        "    if label == \"METHODS\":\n",
        "        return np.array([0.0, 0.0, 0.0, 1.0, 0.0, 0.0])\n",
        "    if label == \"RESULTS\":\n",
        "        return np.array([0.0, 0.0, 0.0, 0.0, 1.0, 0.0])\n",
        "    if label == \"CONCLUSIONS\":\n",
        "        return np.array([0.0, 0.0, 0.0, 0.0, 0.0, 1.0])\n",
        "    return None"
      ],
      "execution_count": null,
      "outputs": []
    },
    {
      "cell_type": "code",
      "metadata": {
        "id": "RcxdjRF0jQ1z"
      },
      "source": [
        "df[\"labels\"] = df[\"GOLD\"].apply(convert_label_2)"
      ],
      "execution_count": null,
      "outputs": []
    },
    {
      "cell_type": "code",
      "metadata": {
        "id": "o7BGI2XevDaH"
      },
      "source": [
        "df = df[~df['labels'].isnull()]"
      ],
      "execution_count": null,
      "outputs": []
    },
    {
      "cell_type": "code",
      "metadata": {
        "colab": {
          "base_uri": "https://localhost:8080/",
          "height": 419
        },
        "id": "l_Kqz1-Pvovh",
        "outputId": "36ba6294-3e34-40a9-a4b2-21f62a1a9bf7"
      },
      "source": [
        "df"
      ],
      "execution_count": null,
      "outputs": [
        {
          "output_type": "execute_result",
          "data": {
            "text/html": [
              "<div>\n",
              "<style scoped>\n",
              "    .dataframe tbody tr th:only-of-type {\n",
              "        vertical-align: middle;\n",
              "    }\n",
              "\n",
              "    .dataframe tbody tr th {\n",
              "        vertical-align: top;\n",
              "    }\n",
              "\n",
              "    .dataframe thead th {\n",
              "        text-align: right;\n",
              "    }\n",
              "</style>\n",
              "<table border=\"1\" class=\"dataframe\">\n",
              "  <thead>\n",
              "    <tr style=\"text-align: right;\">\n",
              "      <th></th>\n",
              "      <th>PMID</th>\n",
              "      <th>Unnamed: 1</th>\n",
              "      <th>SENTID</th>\n",
              "      <th>Unnamed: 3</th>\n",
              "      <th>STRUCTURED ABSTRACT LABEL</th>\n",
              "      <th>NORMALIZED LABEL/PREDICTION</th>\n",
              "      <th>GOLD</th>\n",
              "      <th>SENTENCE</th>\n",
              "      <th>labels</th>\n",
              "    </tr>\n",
              "  </thead>\n",
              "  <tbody>\n",
              "    <tr>\n",
              "      <th>0</th>\n",
              "      <td>29958222</td>\n",
              "      <td>ab</td>\n",
              "      <td>1</td>\n",
              "      <td>29958222</td>\n",
              "      <td>BACKGROUND</td>\n",
              "      <td>BACKGROUND</td>\n",
              "      <td>OBJECTIVE</td>\n",
              "      <td>The aepEXplus monitoring system, which uses mi...</td>\n",
              "      <td>[0.0, 0.0, 1.0, 0.0, 0.0, 0.0]</td>\n",
              "    </tr>\n",
              "    <tr>\n",
              "      <th>1</th>\n",
              "      <td>29958222</td>\n",
              "      <td>ab</td>\n",
              "      <td>2</td>\n",
              "      <td>29958222</td>\n",
              "      <td>METHODS</td>\n",
              "      <td>METHODS</td>\n",
              "      <td>METHODS</td>\n",
              "      <td>Seventy-five patients, 1-18 years of age (stra...</td>\n",
              "      <td>[0.0, 0.0, 0.0, 1.0, 0.0, 0.0]</td>\n",
              "    </tr>\n",
              "    <tr>\n",
              "      <th>2</th>\n",
              "      <td>29958222</td>\n",
              "      <td>ab</td>\n",
              "      <td>3</td>\n",
              "      <td>29958222</td>\n",
              "      <td>METHODS</td>\n",
              "      <td>METHODS</td>\n",
              "      <td>METHODS</td>\n",
              "      <td>The aepEX and the bispectral index (BIS) were ...</td>\n",
              "      <td>[0.0, 0.0, 0.0, 1.0, 0.0, 0.0]</td>\n",
              "    </tr>\n",
              "    <tr>\n",
              "      <th>3</th>\n",
              "      <td>29958222</td>\n",
              "      <td>ab</td>\n",
              "      <td>4</td>\n",
              "      <td>29958222</td>\n",
              "      <td>METHODS</td>\n",
              "      <td>METHODS</td>\n",
              "      <td>METHODS</td>\n",
              "      <td>The ability of the aepEX to detect different l...</td>\n",
              "      <td>[0.0, 0.0, 0.0, 1.0, 0.0, 0.0]</td>\n",
              "    </tr>\n",
              "    <tr>\n",
              "      <th>4</th>\n",
              "      <td>29958222</td>\n",
              "      <td>ab</td>\n",
              "      <td>5</td>\n",
              "      <td>29958222</td>\n",
              "      <td>METHODS</td>\n",
              "      <td>METHODS</td>\n",
              "      <td>METHODS</td>\n",
              "      <td>As a secondary outcome parameter, the relation...</td>\n",
              "      <td>[0.0, 0.0, 0.0, 1.0, 0.0, 0.0]</td>\n",
              "    </tr>\n",
              "    <tr>\n",
              "      <th>...</th>\n",
              "      <td>...</td>\n",
              "      <td>...</td>\n",
              "      <td>...</td>\n",
              "      <td>...</td>\n",
              "      <td>...</td>\n",
              "      <td>...</td>\n",
              "      <td>...</td>\n",
              "      <td>...</td>\n",
              "      <td>...</td>\n",
              "    </tr>\n",
              "    <tr>\n",
              "      <th>3290</th>\n",
              "      <td>29957866</td>\n",
              "      <td>ab</td>\n",
              "      <td>10</td>\n",
              "      <td>29957866</td>\n",
              "      <td>RESULTS</td>\n",
              "      <td>RESULTS</td>\n",
              "      <td>RESULTS</td>\n",
              "      <td>The risk of MSP was greater for AD, female, Ar...</td>\n",
              "      <td>[0.0, 0.0, 0.0, 0.0, 1.0, 0.0]</td>\n",
              "    </tr>\n",
              "    <tr>\n",
              "      <th>3291</th>\n",
              "      <td>29957866</td>\n",
              "      <td>ab</td>\n",
              "      <td>11</td>\n",
              "      <td>29957866</td>\n",
              "      <td>RESULTS</td>\n",
              "      <td>RESULTS</td>\n",
              "      <td>RESULTS</td>\n",
              "      <td>Evidence suggests posttraumatic headache, occu...</td>\n",
              "      <td>[0.0, 0.0, 0.0, 0.0, 1.0, 0.0]</td>\n",
              "    </tr>\n",
              "    <tr>\n",
              "      <th>3292</th>\n",
              "      <td>29957866</td>\n",
              "      <td>ab</td>\n",
              "      <td>12</td>\n",
              "      <td>29957866</td>\n",
              "      <td>IMPLICATIONS</td>\n",
              "      <td>CONCLUSIONS</td>\n",
              "      <td>CONCLUSIONS</td>\n",
              "      <td>Nurses must recognize the consequences militar...</td>\n",
              "      <td>[0.0, 0.0, 0.0, 0.0, 0.0, 1.0]</td>\n",
              "    </tr>\n",
              "    <tr>\n",
              "      <th>3293</th>\n",
              "      <td>29957866</td>\n",
              "      <td>ab</td>\n",
              "      <td>13</td>\n",
              "      <td>29957866</td>\n",
              "      <td>IMPLICATIONS</td>\n",
              "      <td>CONCLUSIONS</td>\n",
              "      <td>CONCLUSIONS</td>\n",
              "      <td>Nurses have an opportunity to positively impac...</td>\n",
              "      <td>[0.0, 0.0, 0.0, 0.0, 0.0, 1.0]</td>\n",
              "    </tr>\n",
              "    <tr>\n",
              "      <th>3294</th>\n",
              "      <td>29957866</td>\n",
              "      <td>ab</td>\n",
              "      <td>14</td>\n",
              "      <td>29957866</td>\n",
              "      <td>IMPLICATIONS</td>\n",
              "      <td>CONCLUSIONS</td>\n",
              "      <td>CONCLUSIONS</td>\n",
              "      <td>The findings from this review underscore consi...</td>\n",
              "      <td>[0.0, 0.0, 0.0, 0.0, 0.0, 1.0]</td>\n",
              "    </tr>\n",
              "  </tbody>\n",
              "</table>\n",
              "<p>3279 rows × 9 columns</p>\n",
              "</div>"
            ],
            "text/plain": [
              "          PMID  ...                          labels\n",
              "0     29958222  ...  [0.0, 0.0, 1.0, 0.0, 0.0, 0.0]\n",
              "1     29958222  ...  [0.0, 0.0, 0.0, 1.0, 0.0, 0.0]\n",
              "2     29958222  ...  [0.0, 0.0, 0.0, 1.0, 0.0, 0.0]\n",
              "3     29958222  ...  [0.0, 0.0, 0.0, 1.0, 0.0, 0.0]\n",
              "4     29958222  ...  [0.0, 0.0, 0.0, 1.0, 0.0, 0.0]\n",
              "...        ...  ...                             ...\n",
              "3290  29957866  ...  [0.0, 0.0, 0.0, 0.0, 1.0, 0.0]\n",
              "3291  29957866  ...  [0.0, 0.0, 0.0, 0.0, 1.0, 0.0]\n",
              "3292  29957866  ...  [0.0, 0.0, 0.0, 0.0, 0.0, 1.0]\n",
              "3293  29957866  ...  [0.0, 0.0, 0.0, 0.0, 0.0, 1.0]\n",
              "3294  29957866  ...  [0.0, 0.0, 0.0, 0.0, 0.0, 1.0]\n",
              "\n",
              "[3279 rows x 9 columns]"
            ]
          },
          "metadata": {
            "tags": []
          },
          "execution_count": 17
        }
      ]
    },
    {
      "cell_type": "code",
      "metadata": {
        "colab": {
          "base_uri": "https://localhost:8080/"
        },
        "id": "WYQeYb63O9-e",
        "outputId": "d66baa62-aa63-4197-af93-947ad0fd5e31"
      },
      "source": [
        "df[\"SENTENCE\"] = df[\"SENTENCE\"].str.lower()"
      ],
      "execution_count": null,
      "outputs": [
        {
          "output_type": "stream",
          "text": [
            "/usr/local/lib/python3.7/dist-packages/ipykernel_launcher.py:1: SettingWithCopyWarning: \n",
            "A value is trying to be set on a copy of a slice from a DataFrame.\n",
            "Try using .loc[row_indexer,col_indexer] = value instead\n",
            "\n",
            "See the caveats in the documentation: https://pandas.pydata.org/pandas-docs/stable/user_guide/indexing.html#returning-a-view-versus-a-copy\n",
            "  \"\"\"Entry point for launching an IPython kernel.\n"
          ],
          "name": "stderr"
        }
      ]
    },
    {
      "cell_type": "code",
      "metadata": {
        "id": "cz2Z7HRDlDYg"
      },
      "source": [
        "Text = df[\"SENTENCE\"].tolist()"
      ],
      "execution_count": null,
      "outputs": []
    },
    {
      "cell_type": "code",
      "metadata": {
        "id": "AahNCyiMlIXz"
      },
      "source": [
        "labels = df[\"labels\"].tolist()"
      ],
      "execution_count": null,
      "outputs": []
    },
    {
      "cell_type": "code",
      "metadata": {
        "colab": {
          "base_uri": "https://localhost:8080/"
        },
        "id": "3yvcLZ6t1Lyh",
        "outputId": "1a669f17-5f74-43f1-981a-6a9df33210e3"
      },
      "source": [
        "len(labels)"
      ],
      "execution_count": null,
      "outputs": [
        {
          "output_type": "execute_result",
          "data": {
            "text/plain": [
              "3279"
            ]
          },
          "metadata": {
            "tags": []
          },
          "execution_count": 21
        }
      ]
    },
    {
      "cell_type": "code",
      "metadata": {
        "id": "Bh_KqTxYkGB6"
      },
      "source": [
        "label_dict = {\"BACKGROUND\": 1, \"OBJECTIVE\": 2, \"METHODS\": 3, \"RESULTS\": 4, \"CONCLUSIONS\": 5}\n"
      ],
      "execution_count": null,
      "outputs": []
    },
    {
      "cell_type": "code",
      "metadata": {
        "id": "ZGZicGXYkcIV"
      },
      "source": [
        "df_train = df[:2716]\n",
        "df_test = df[2716:]"
      ],
      "execution_count": null,
      "outputs": []
    },
    {
      "cell_type": "code",
      "metadata": {
        "colab": {
          "base_uri": "https://localhost:8080/",
          "height": 419
        },
        "id": "Lyq_qYE2xr9b",
        "outputId": "9466fd06-a816-423d-9673-2bbc128ddaf0"
      },
      "source": [
        "df_test"
      ],
      "execution_count": null,
      "outputs": [
        {
          "output_type": "execute_result",
          "data": {
            "text/html": [
              "<div>\n",
              "<style scoped>\n",
              "    .dataframe tbody tr th:only-of-type {\n",
              "        vertical-align: middle;\n",
              "    }\n",
              "\n",
              "    .dataframe tbody tr th {\n",
              "        vertical-align: top;\n",
              "    }\n",
              "\n",
              "    .dataframe thead th {\n",
              "        text-align: right;\n",
              "    }\n",
              "</style>\n",
              "<table border=\"1\" class=\"dataframe\">\n",
              "  <thead>\n",
              "    <tr style=\"text-align: right;\">\n",
              "      <th></th>\n",
              "      <th>PMID</th>\n",
              "      <th>Unnamed: 1</th>\n",
              "      <th>SENTID</th>\n",
              "      <th>Unnamed: 3</th>\n",
              "      <th>STRUCTURED ABSTRACT LABEL</th>\n",
              "      <th>NORMALIZED LABEL/PREDICTION</th>\n",
              "      <th>GOLD</th>\n",
              "      <th>SENTENCE</th>\n",
              "      <th>labels</th>\n",
              "    </tr>\n",
              "  </thead>\n",
              "  <tbody>\n",
              "    <tr>\n",
              "      <th>2730</th>\n",
              "      <td>29958266</td>\n",
              "      <td>ab</td>\n",
              "      <td>5</td>\n",
              "      <td>29958266</td>\n",
              "      <td>METHODS</td>\n",
              "      <td>METHODS</td>\n",
              "      <td>METHODS</td>\n",
              "      <td>we extracted data from the systematic reviews,...</td>\n",
              "      <td>[0.0, 0.0, 0.0, 1.0, 0.0, 0.0]</td>\n",
              "    </tr>\n",
              "    <tr>\n",
              "      <th>2731</th>\n",
              "      <td>29958266</td>\n",
              "      <td>ab</td>\n",
              "      <td>6</td>\n",
              "      <td>29958266</td>\n",
              "      <td>CONCLUSIONS</td>\n",
              "      <td>CONCLUSIONS</td>\n",
              "      <td>RESULTS</td>\n",
              "      <td>we identified twelve systematic reviews includ...</td>\n",
              "      <td>[0.0, 0.0, 0.0, 0.0, 1.0, 0.0]</td>\n",
              "    </tr>\n",
              "    <tr>\n",
              "      <th>2732</th>\n",
              "      <td>29958266</td>\n",
              "      <td>ab</td>\n",
              "      <td>7</td>\n",
              "      <td>29958266</td>\n",
              "      <td>CONCLUSIONS</td>\n",
              "      <td>CONCLUSIONS</td>\n",
              "      <td>CONCLUSIONS</td>\n",
              "      <td>we concluded that intra-articular injection of...</td>\n",
              "      <td>[0.0, 0.0, 0.0, 0.0, 0.0, 1.0]</td>\n",
              "    </tr>\n",
              "    <tr>\n",
              "      <th>2733</th>\n",
              "      <td>29958266</td>\n",
              "      <td>ab</td>\n",
              "      <td>8</td>\n",
              "      <td>29958266</td>\n",
              "      <td>CONCLUSIONS</td>\n",
              "      <td>CONCLUSIONS</td>\n",
              "      <td>CONCLUSIONS</td>\n",
              "      <td>as for the adverse effects, if they exist, the...</td>\n",
              "      <td>[0.0, 0.0, 0.0, 0.0, 0.0, 1.0]</td>\n",
              "    </tr>\n",
              "    <tr>\n",
              "      <th>2734</th>\n",
              "      <td>29909568</td>\n",
              "      <td>ab</td>\n",
              "      <td>1</td>\n",
              "      <td>29909568</td>\n",
              "      <td>INTRODUCTION</td>\n",
              "      <td>BACKGROUND</td>\n",
              "      <td>BACKGROUND</td>\n",
              "      <td>the association between the checkpoint kinase ...</td>\n",
              "      <td>[0.0, 1.0, 0.0, 0.0, 0.0, 0.0]</td>\n",
              "    </tr>\n",
              "    <tr>\n",
              "      <th>...</th>\n",
              "      <td>...</td>\n",
              "      <td>...</td>\n",
              "      <td>...</td>\n",
              "      <td>...</td>\n",
              "      <td>...</td>\n",
              "      <td>...</td>\n",
              "      <td>...</td>\n",
              "      <td>...</td>\n",
              "      <td>...</td>\n",
              "    </tr>\n",
              "    <tr>\n",
              "      <th>3290</th>\n",
              "      <td>29957866</td>\n",
              "      <td>ab</td>\n",
              "      <td>10</td>\n",
              "      <td>29957866</td>\n",
              "      <td>RESULTS</td>\n",
              "      <td>RESULTS</td>\n",
              "      <td>RESULTS</td>\n",
              "      <td>the risk of msp was greater for ad, female, ar...</td>\n",
              "      <td>[0.0, 0.0, 0.0, 0.0, 1.0, 0.0]</td>\n",
              "    </tr>\n",
              "    <tr>\n",
              "      <th>3291</th>\n",
              "      <td>29957866</td>\n",
              "      <td>ab</td>\n",
              "      <td>11</td>\n",
              "      <td>29957866</td>\n",
              "      <td>RESULTS</td>\n",
              "      <td>RESULTS</td>\n",
              "      <td>RESULTS</td>\n",
              "      <td>evidence suggests posttraumatic headache, occu...</td>\n",
              "      <td>[0.0, 0.0, 0.0, 0.0, 1.0, 0.0]</td>\n",
              "    </tr>\n",
              "    <tr>\n",
              "      <th>3292</th>\n",
              "      <td>29957866</td>\n",
              "      <td>ab</td>\n",
              "      <td>12</td>\n",
              "      <td>29957866</td>\n",
              "      <td>IMPLICATIONS</td>\n",
              "      <td>CONCLUSIONS</td>\n",
              "      <td>CONCLUSIONS</td>\n",
              "      <td>nurses must recognize the consequences militar...</td>\n",
              "      <td>[0.0, 0.0, 0.0, 0.0, 0.0, 1.0]</td>\n",
              "    </tr>\n",
              "    <tr>\n",
              "      <th>3293</th>\n",
              "      <td>29957866</td>\n",
              "      <td>ab</td>\n",
              "      <td>13</td>\n",
              "      <td>29957866</td>\n",
              "      <td>IMPLICATIONS</td>\n",
              "      <td>CONCLUSIONS</td>\n",
              "      <td>CONCLUSIONS</td>\n",
              "      <td>nurses have an opportunity to positively impac...</td>\n",
              "      <td>[0.0, 0.0, 0.0, 0.0, 0.0, 1.0]</td>\n",
              "    </tr>\n",
              "    <tr>\n",
              "      <th>3294</th>\n",
              "      <td>29957866</td>\n",
              "      <td>ab</td>\n",
              "      <td>14</td>\n",
              "      <td>29957866</td>\n",
              "      <td>IMPLICATIONS</td>\n",
              "      <td>CONCLUSIONS</td>\n",
              "      <td>CONCLUSIONS</td>\n",
              "      <td>the findings from this review underscore consi...</td>\n",
              "      <td>[0.0, 0.0, 0.0, 0.0, 0.0, 1.0]</td>\n",
              "    </tr>\n",
              "  </tbody>\n",
              "</table>\n",
              "<p>563 rows × 9 columns</p>\n",
              "</div>"
            ],
            "text/plain": [
              "          PMID  ...                          labels\n",
              "2730  29958266  ...  [0.0, 0.0, 0.0, 1.0, 0.0, 0.0]\n",
              "2731  29958266  ...  [0.0, 0.0, 0.0, 0.0, 1.0, 0.0]\n",
              "2732  29958266  ...  [0.0, 0.0, 0.0, 0.0, 0.0, 1.0]\n",
              "2733  29958266  ...  [0.0, 0.0, 0.0, 0.0, 0.0, 1.0]\n",
              "2734  29909568  ...  [0.0, 1.0, 0.0, 0.0, 0.0, 0.0]\n",
              "...        ...  ...                             ...\n",
              "3290  29957866  ...  [0.0, 0.0, 0.0, 0.0, 1.0, 0.0]\n",
              "3291  29957866  ...  [0.0, 0.0, 0.0, 0.0, 1.0, 0.0]\n",
              "3292  29957866  ...  [0.0, 0.0, 0.0, 0.0, 0.0, 1.0]\n",
              "3293  29957866  ...  [0.0, 0.0, 0.0, 0.0, 0.0, 1.0]\n",
              "3294  29957866  ...  [0.0, 0.0, 0.0, 0.0, 0.0, 1.0]\n",
              "\n",
              "[563 rows x 9 columns]"
            ]
          },
          "metadata": {
            "tags": []
          },
          "execution_count": 24
        }
      ]
    },
    {
      "cell_type": "code",
      "metadata": {
        "id": "xlYurdnKhyKV"
      },
      "source": [
        "train_dataset = pd.DataFrame(list(zip(Text, labels)),\n",
        "               columns =['text', 'labels'])"
      ],
      "execution_count": null,
      "outputs": []
    },
    {
      "cell_type": "code",
      "metadata": {
        "colab": {
          "base_uri": "https://localhost:8080/",
          "height": 419
        },
        "id": "DMEY58AG1tEM",
        "outputId": "3cc86d00-0c14-425a-adab-f5e81adb0e1a"
      },
      "source": [
        "train_dataset"
      ],
      "execution_count": null,
      "outputs": [
        {
          "output_type": "execute_result",
          "data": {
            "text/html": [
              "<div>\n",
              "<style scoped>\n",
              "    .dataframe tbody tr th:only-of-type {\n",
              "        vertical-align: middle;\n",
              "    }\n",
              "\n",
              "    .dataframe tbody tr th {\n",
              "        vertical-align: top;\n",
              "    }\n",
              "\n",
              "    .dataframe thead th {\n",
              "        text-align: right;\n",
              "    }\n",
              "</style>\n",
              "<table border=\"1\" class=\"dataframe\">\n",
              "  <thead>\n",
              "    <tr style=\"text-align: right;\">\n",
              "      <th></th>\n",
              "      <th>text</th>\n",
              "      <th>labels</th>\n",
              "    </tr>\n",
              "  </thead>\n",
              "  <tbody>\n",
              "    <tr>\n",
              "      <th>0</th>\n",
              "      <td>the aepexplus monitoring system, which uses mi...</td>\n",
              "      <td>[0.0, 0.0, 1.0, 0.0, 0.0, 0.0]</td>\n",
              "    </tr>\n",
              "    <tr>\n",
              "      <th>1</th>\n",
              "      <td>seventy-five patients, 1-18 years of age (stra...</td>\n",
              "      <td>[0.0, 0.0, 0.0, 1.0, 0.0, 0.0]</td>\n",
              "    </tr>\n",
              "    <tr>\n",
              "      <th>2</th>\n",
              "      <td>the aepex and the bispectral index (bis) were ...</td>\n",
              "      <td>[0.0, 0.0, 0.0, 1.0, 0.0, 0.0]</td>\n",
              "    </tr>\n",
              "    <tr>\n",
              "      <th>3</th>\n",
              "      <td>the ability of the aepex to detect different l...</td>\n",
              "      <td>[0.0, 0.0, 0.0, 1.0, 0.0, 0.0]</td>\n",
              "    </tr>\n",
              "    <tr>\n",
              "      <th>4</th>\n",
              "      <td>as a secondary outcome parameter, the relation...</td>\n",
              "      <td>[0.0, 0.0, 0.0, 1.0, 0.0, 0.0]</td>\n",
              "    </tr>\n",
              "    <tr>\n",
              "      <th>...</th>\n",
              "      <td>...</td>\n",
              "      <td>...</td>\n",
              "    </tr>\n",
              "    <tr>\n",
              "      <th>3274</th>\n",
              "      <td>the risk of msp was greater for ad, female, ar...</td>\n",
              "      <td>[0.0, 0.0, 0.0, 0.0, 1.0, 0.0]</td>\n",
              "    </tr>\n",
              "    <tr>\n",
              "      <th>3275</th>\n",
              "      <td>evidence suggests posttraumatic headache, occu...</td>\n",
              "      <td>[0.0, 0.0, 0.0, 0.0, 1.0, 0.0]</td>\n",
              "    </tr>\n",
              "    <tr>\n",
              "      <th>3276</th>\n",
              "      <td>nurses must recognize the consequences militar...</td>\n",
              "      <td>[0.0, 0.0, 0.0, 0.0, 0.0, 1.0]</td>\n",
              "    </tr>\n",
              "    <tr>\n",
              "      <th>3277</th>\n",
              "      <td>nurses have an opportunity to positively impac...</td>\n",
              "      <td>[0.0, 0.0, 0.0, 0.0, 0.0, 1.0]</td>\n",
              "    </tr>\n",
              "    <tr>\n",
              "      <th>3278</th>\n",
              "      <td>the findings from this review underscore consi...</td>\n",
              "      <td>[0.0, 0.0, 0.0, 0.0, 0.0, 1.0]</td>\n",
              "    </tr>\n",
              "  </tbody>\n",
              "</table>\n",
              "<p>3279 rows × 2 columns</p>\n",
              "</div>"
            ],
            "text/plain": [
              "                                                   text                          labels\n",
              "0     the aepexplus monitoring system, which uses mi...  [0.0, 0.0, 1.0, 0.0, 0.0, 0.0]\n",
              "1     seventy-five patients, 1-18 years of age (stra...  [0.0, 0.0, 0.0, 1.0, 0.0, 0.0]\n",
              "2     the aepex and the bispectral index (bis) were ...  [0.0, 0.0, 0.0, 1.0, 0.0, 0.0]\n",
              "3     the ability of the aepex to detect different l...  [0.0, 0.0, 0.0, 1.0, 0.0, 0.0]\n",
              "4     as a secondary outcome parameter, the relation...  [0.0, 0.0, 0.0, 1.0, 0.0, 0.0]\n",
              "...                                                 ...                             ...\n",
              "3274  the risk of msp was greater for ad, female, ar...  [0.0, 0.0, 0.0, 0.0, 1.0, 0.0]\n",
              "3275  evidence suggests posttraumatic headache, occu...  [0.0, 0.0, 0.0, 0.0, 1.0, 0.0]\n",
              "3276  nurses must recognize the consequences militar...  [0.0, 0.0, 0.0, 0.0, 0.0, 1.0]\n",
              "3277  nurses have an opportunity to positively impac...  [0.0, 0.0, 0.0, 0.0, 0.0, 1.0]\n",
              "3278  the findings from this review underscore consi...  [0.0, 0.0, 0.0, 0.0, 0.0, 1.0]\n",
              "\n",
              "[3279 rows x 2 columns]"
            ]
          },
          "metadata": {
            "tags": []
          },
          "execution_count": 26
        }
      ]
    },
    {
      "cell_type": "code",
      "metadata": {
        "id": "YV2TRUDWwgQl"
      },
      "source": [
        "df_train = train_dataset[:2716]\n",
        "df_test = train_dataset[2716:]\n",
        "test_text = df_test[\"text\"].to_list()\n",
        "test_label = df_test[\"labels\"].to_list()"
      ],
      "execution_count": null,
      "outputs": []
    },
    {
      "cell_type": "code",
      "metadata": {
        "id": "LGp8prxO3Mz7"
      },
      "source": [
        "df_test = pd.DataFrame(list(zip(test_text, test_label)),\n",
        "               columns =['text', 'labels'])\n"
      ],
      "execution_count": null,
      "outputs": []
    },
    {
      "cell_type": "code",
      "metadata": {
        "colab": {
          "base_uri": "https://localhost:8080/",
          "height": 419
        },
        "id": "MifqCqWo55-a",
        "outputId": "22c52724-3a71-4e7d-cd7e-c40af9b12ea3"
      },
      "source": [
        "df_test"
      ],
      "execution_count": null,
      "outputs": [
        {
          "output_type": "execute_result",
          "data": {
            "text/html": [
              "<div>\n",
              "<style scoped>\n",
              "    .dataframe tbody tr th:only-of-type {\n",
              "        vertical-align: middle;\n",
              "    }\n",
              "\n",
              "    .dataframe tbody tr th {\n",
              "        vertical-align: top;\n",
              "    }\n",
              "\n",
              "    .dataframe thead th {\n",
              "        text-align: right;\n",
              "    }\n",
              "</style>\n",
              "<table border=\"1\" class=\"dataframe\">\n",
              "  <thead>\n",
              "    <tr style=\"text-align: right;\">\n",
              "      <th></th>\n",
              "      <th>text</th>\n",
              "      <th>labels</th>\n",
              "    </tr>\n",
              "  </thead>\n",
              "  <tbody>\n",
              "    <tr>\n",
              "      <th>0</th>\n",
              "      <td>we extracted data from the systematic reviews,...</td>\n",
              "      <td>[0.0, 0.0, 0.0, 1.0, 0.0, 0.0]</td>\n",
              "    </tr>\n",
              "    <tr>\n",
              "      <th>1</th>\n",
              "      <td>we identified twelve systematic reviews includ...</td>\n",
              "      <td>[0.0, 0.0, 0.0, 0.0, 1.0, 0.0]</td>\n",
              "    </tr>\n",
              "    <tr>\n",
              "      <th>2</th>\n",
              "      <td>we concluded that intra-articular injection of...</td>\n",
              "      <td>[0.0, 0.0, 0.0, 0.0, 0.0, 1.0]</td>\n",
              "    </tr>\n",
              "    <tr>\n",
              "      <th>3</th>\n",
              "      <td>as for the adverse effects, if they exist, the...</td>\n",
              "      <td>[0.0, 0.0, 0.0, 0.0, 0.0, 1.0]</td>\n",
              "    </tr>\n",
              "    <tr>\n",
              "      <th>4</th>\n",
              "      <td>the association between the checkpoint kinase ...</td>\n",
              "      <td>[0.0, 1.0, 0.0, 0.0, 0.0, 0.0]</td>\n",
              "    </tr>\n",
              "    <tr>\n",
              "      <th>...</th>\n",
              "      <td>...</td>\n",
              "      <td>...</td>\n",
              "    </tr>\n",
              "    <tr>\n",
              "      <th>558</th>\n",
              "      <td>the risk of msp was greater for ad, female, ar...</td>\n",
              "      <td>[0.0, 0.0, 0.0, 0.0, 1.0, 0.0]</td>\n",
              "    </tr>\n",
              "    <tr>\n",
              "      <th>559</th>\n",
              "      <td>evidence suggests posttraumatic headache, occu...</td>\n",
              "      <td>[0.0, 0.0, 0.0, 0.0, 1.0, 0.0]</td>\n",
              "    </tr>\n",
              "    <tr>\n",
              "      <th>560</th>\n",
              "      <td>nurses must recognize the consequences militar...</td>\n",
              "      <td>[0.0, 0.0, 0.0, 0.0, 0.0, 1.0]</td>\n",
              "    </tr>\n",
              "    <tr>\n",
              "      <th>561</th>\n",
              "      <td>nurses have an opportunity to positively impac...</td>\n",
              "      <td>[0.0, 0.0, 0.0, 0.0, 0.0, 1.0]</td>\n",
              "    </tr>\n",
              "    <tr>\n",
              "      <th>562</th>\n",
              "      <td>the findings from this review underscore consi...</td>\n",
              "      <td>[0.0, 0.0, 0.0, 0.0, 0.0, 1.0]</td>\n",
              "    </tr>\n",
              "  </tbody>\n",
              "</table>\n",
              "<p>563 rows × 2 columns</p>\n",
              "</div>"
            ],
            "text/plain": [
              "                                                  text                          labels\n",
              "0    we extracted data from the systematic reviews,...  [0.0, 0.0, 0.0, 1.0, 0.0, 0.0]\n",
              "1    we identified twelve systematic reviews includ...  [0.0, 0.0, 0.0, 0.0, 1.0, 0.0]\n",
              "2    we concluded that intra-articular injection of...  [0.0, 0.0, 0.0, 0.0, 0.0, 1.0]\n",
              "3    as for the adverse effects, if they exist, the...  [0.0, 0.0, 0.0, 0.0, 0.0, 1.0]\n",
              "4    the association between the checkpoint kinase ...  [0.0, 1.0, 0.0, 0.0, 0.0, 0.0]\n",
              "..                                                 ...                             ...\n",
              "558  the risk of msp was greater for ad, female, ar...  [0.0, 0.0, 0.0, 0.0, 1.0, 0.0]\n",
              "559  evidence suggests posttraumatic headache, occu...  [0.0, 0.0, 0.0, 0.0, 1.0, 0.0]\n",
              "560  nurses must recognize the consequences militar...  [0.0, 0.0, 0.0, 0.0, 0.0, 1.0]\n",
              "561  nurses have an opportunity to positively impac...  [0.0, 0.0, 0.0, 0.0, 0.0, 1.0]\n",
              "562  the findings from this review underscore consi...  [0.0, 0.0, 0.0, 0.0, 0.0, 1.0]\n",
              "\n",
              "[563 rows x 2 columns]"
            ]
          },
          "metadata": {
            "tags": []
          },
          "execution_count": 29
        }
      ]
    },
    {
      "cell_type": "code",
      "metadata": {
        "id": "rQtpOkjVlGH4"
      },
      "source": [
        "MAX_LEN = 200\n",
        "TRAIN_BATCH_SIZE = 8\n",
        "VALID_BATCH_SIZE = 8\n",
        "EPOCHS = 4\n",
        "LEARNING_RATE = 1e-05\n",
        "tokenizer = BertTokenizer.from_pretrained('dmis-lab/biobert-base-cased-v1.1', do_lower_case=True)"
      ],
      "execution_count": null,
      "outputs": []
    },
    {
      "cell_type": "code",
      "metadata": {
        "id": "_VzpMXVhlUyu"
      },
      "source": [
        "\n",
        "class CustomDataset(Dataset):\n",
        "\n",
        "    def __init__(self, dataframe, tokenizer, max_len, col='text'):\n",
        "        self.tokenizer = tokenizer\n",
        "        self.data = dataframe\n",
        "        self.train_col = dataframe[col]\n",
        "        print(self.data.labels)\n",
        "        self.targets = self.data.labels\n",
        "        self.max_len = max_len\n",
        "\n",
        "    def __len__(self):\n",
        "        return len(self.train_col)\n",
        "\n",
        "    def __getitem__(self, index):\n",
        "        train_col = str(self.train_col[index])\n",
        "        train_col = \" \".join(train_col.split())\n",
        "\n",
        "        inputs = self.tokenizer.encode_plus(\n",
        "            train_col,\n",
        "            None,\n",
        "            add_special_tokens=True,\n",
        "            max_length=self.max_len,\n",
        "            padding='max_length',\n",
        "            return_token_type_ids=True,\n",
        "            truncation=True\n",
        "        )\n",
        "        ids = inputs['input_ids']\n",
        "        mask = inputs['attention_mask']\n",
        "        token_type_ids = inputs[\"token_type_ids\"]\n",
        "\n",
        "\n",
        "        return {\n",
        "            'ids': torch.tensor(ids, dtype=torch.long),\n",
        "            'mask': torch.tensor(mask, dtype=torch.long),\n",
        "            'token_type_ids': torch.tensor(token_type_ids, dtype=torch.long),\n",
        "            'targets': torch.tensor(self.targets[index], dtype=torch.float16)\n",
        "        }"
      ],
      "execution_count": null,
      "outputs": []
    },
    {
      "cell_type": "code",
      "metadata": {
        "colab": {
          "base_uri": "https://localhost:8080/"
        },
        "id": "azH0Ph8NmNNj",
        "outputId": "435c318c-3652-438e-e2dc-242324b1cf8c"
      },
      "source": [
        "training_set = CustomDataset(df_train, tokenizer, MAX_LEN, col='text')\n",
        "validation_set = CustomDataset(df_test, tokenizer, MAX_LEN, col='text')\n",
        "validation_set_ = CustomDataset(train_dataset, tokenizer, MAX_LEN, col='text')\n"
      ],
      "execution_count": null,
      "outputs": [
        {
          "output_type": "stream",
          "text": [
            "0       [0.0, 0.0, 1.0, 0.0, 0.0, 0.0]\n",
            "1       [0.0, 0.0, 0.0, 1.0, 0.0, 0.0]\n",
            "2       [0.0, 0.0, 0.0, 1.0, 0.0, 0.0]\n",
            "3       [0.0, 0.0, 0.0, 1.0, 0.0, 0.0]\n",
            "4       [0.0, 0.0, 0.0, 1.0, 0.0, 0.0]\n",
            "                     ...              \n",
            "2711    [0.0, 0.0, 0.0, 0.0, 0.0, 1.0]\n",
            "2712    [0.0, 1.0, 0.0, 0.0, 0.0, 0.0]\n",
            "2713    [0.0, 1.0, 0.0, 0.0, 0.0, 0.0]\n",
            "2714    [0.0, 1.0, 0.0, 0.0, 0.0, 0.0]\n",
            "2715    [0.0, 0.0, 0.0, 1.0, 0.0, 0.0]\n",
            "Name: labels, Length: 2716, dtype: object\n",
            "0      [0.0, 0.0, 0.0, 1.0, 0.0, 0.0]\n",
            "1      [0.0, 0.0, 0.0, 0.0, 1.0, 0.0]\n",
            "2      [0.0, 0.0, 0.0, 0.0, 0.0, 1.0]\n",
            "3      [0.0, 0.0, 0.0, 0.0, 0.0, 1.0]\n",
            "4      [0.0, 1.0, 0.0, 0.0, 0.0, 0.0]\n",
            "                    ...              \n",
            "558    [0.0, 0.0, 0.0, 0.0, 1.0, 0.0]\n",
            "559    [0.0, 0.0, 0.0, 0.0, 1.0, 0.0]\n",
            "560    [0.0, 0.0, 0.0, 0.0, 0.0, 1.0]\n",
            "561    [0.0, 0.0, 0.0, 0.0, 0.0, 1.0]\n",
            "562    [0.0, 0.0, 0.0, 0.0, 0.0, 1.0]\n",
            "Name: labels, Length: 563, dtype: object\n",
            "0       [0.0, 0.0, 1.0, 0.0, 0.0, 0.0]\n",
            "1       [0.0, 0.0, 0.0, 1.0, 0.0, 0.0]\n",
            "2       [0.0, 0.0, 0.0, 1.0, 0.0, 0.0]\n",
            "3       [0.0, 0.0, 0.0, 1.0, 0.0, 0.0]\n",
            "4       [0.0, 0.0, 0.0, 1.0, 0.0, 0.0]\n",
            "                     ...              \n",
            "3274    [0.0, 0.0, 0.0, 0.0, 1.0, 0.0]\n",
            "3275    [0.0, 0.0, 0.0, 0.0, 1.0, 0.0]\n",
            "3276    [0.0, 0.0, 0.0, 0.0, 0.0, 1.0]\n",
            "3277    [0.0, 0.0, 0.0, 0.0, 0.0, 1.0]\n",
            "3278    [0.0, 0.0, 0.0, 0.0, 0.0, 1.0]\n",
            "Name: labels, Length: 3279, dtype: object\n"
          ],
          "name": "stdout"
        }
      ]
    },
    {
      "cell_type": "code",
      "metadata": {
        "id": "Jc-BKqDdNPeA"
      },
      "source": [
        "train_params = {'batch_size': TRAIN_BATCH_SIZE,\n",
        "                'shuffle': True,\n",
        "                'num_workers': 0\n",
        "                }\n",
        "\n",
        "test_params = {'batch_size': VALID_BATCH_SIZE,\n",
        "                'shuffle': False,\n",
        "                'num_workers': 0\n",
        "                }\n",
        "\n",
        "test_params_ = {'batch_size': VALID_BATCH_SIZE,\n",
        "                'shuffle': False,\n",
        "                'num_workers': 0\n",
        "                }"
      ],
      "execution_count": null,
      "outputs": []
    },
    {
      "cell_type": "code",
      "metadata": {
        "id": "VDvruFMumUvp"
      },
      "source": [
        "training_loader = DataLoader(training_set, **train_params)\n",
        "validation_loader = DataLoader(validation_set, **test_params)\n",
        "validation_loader_ = DataLoader(validation_set_, **test_params_)"
      ],
      "execution_count": null,
      "outputs": []
    },
    {
      "cell_type": "code",
      "metadata": {
        "colab": {
          "base_uri": "https://localhost:8080/"
        },
        "id": "eVWzz5SbmZ50",
        "outputId": "ddd3ad5d-26f6-4437-ee73-ecf2d1ad715e"
      },
      "source": [
        "class BERTClass(torch.nn.Module):\n",
        "    def __init__(self):\n",
        "        super(BERTClass, self).__init__()\n",
        "        self.l1 = transformers.BertModel.from_pretrained('dmis-lab/biobert-base-cased-v1.1')\n",
        "        self.l2 = torch.nn.Dropout(0.3)\n",
        "        self.l3 = torch.nn.Linear(768, 6)\n",
        "    \n",
        "    def forward(self, ids, mask, token_type_ids):\n",
        "        _, output_1= self.l1(ids, attention_mask = mask, token_type_ids = token_type_ids)\n",
        "        output_2 = self.l2(output_1)\n",
        "        output = self.l3(output_2)\n",
        "        return output\n",
        "\n",
        "model = BERTClass()\n",
        "model.to(device)"
      ],
      "execution_count": null,
      "outputs": [
        {
          "output_type": "execute_result",
          "data": {
            "text/plain": [
              "BERTClass(\n",
              "  (l1): BertModel(\n",
              "    (embeddings): BertEmbeddings(\n",
              "      (word_embeddings): Embedding(28996, 768, padding_idx=0)\n",
              "      (position_embeddings): Embedding(512, 768)\n",
              "      (token_type_embeddings): Embedding(2, 768)\n",
              "      (LayerNorm): LayerNorm((768,), eps=1e-12, elementwise_affine=True)\n",
              "      (dropout): Dropout(p=0.1, inplace=False)\n",
              "    )\n",
              "    (encoder): BertEncoder(\n",
              "      (layer): ModuleList(\n",
              "        (0): BertLayer(\n",
              "          (attention): BertAttention(\n",
              "            (self): BertSelfAttention(\n",
              "              (query): Linear(in_features=768, out_features=768, bias=True)\n",
              "              (key): Linear(in_features=768, out_features=768, bias=True)\n",
              "              (value): Linear(in_features=768, out_features=768, bias=True)\n",
              "              (dropout): Dropout(p=0.1, inplace=False)\n",
              "            )\n",
              "            (output): BertSelfOutput(\n",
              "              (dense): Linear(in_features=768, out_features=768, bias=True)\n",
              "              (LayerNorm): LayerNorm((768,), eps=1e-12, elementwise_affine=True)\n",
              "              (dropout): Dropout(p=0.1, inplace=False)\n",
              "            )\n",
              "          )\n",
              "          (intermediate): BertIntermediate(\n",
              "            (dense): Linear(in_features=768, out_features=3072, bias=True)\n",
              "          )\n",
              "          (output): BertOutput(\n",
              "            (dense): Linear(in_features=3072, out_features=768, bias=True)\n",
              "            (LayerNorm): LayerNorm((768,), eps=1e-12, elementwise_affine=True)\n",
              "            (dropout): Dropout(p=0.1, inplace=False)\n",
              "          )\n",
              "        )\n",
              "        (1): BertLayer(\n",
              "          (attention): BertAttention(\n",
              "            (self): BertSelfAttention(\n",
              "              (query): Linear(in_features=768, out_features=768, bias=True)\n",
              "              (key): Linear(in_features=768, out_features=768, bias=True)\n",
              "              (value): Linear(in_features=768, out_features=768, bias=True)\n",
              "              (dropout): Dropout(p=0.1, inplace=False)\n",
              "            )\n",
              "            (output): BertSelfOutput(\n",
              "              (dense): Linear(in_features=768, out_features=768, bias=True)\n",
              "              (LayerNorm): LayerNorm((768,), eps=1e-12, elementwise_affine=True)\n",
              "              (dropout): Dropout(p=0.1, inplace=False)\n",
              "            )\n",
              "          )\n",
              "          (intermediate): BertIntermediate(\n",
              "            (dense): Linear(in_features=768, out_features=3072, bias=True)\n",
              "          )\n",
              "          (output): BertOutput(\n",
              "            (dense): Linear(in_features=3072, out_features=768, bias=True)\n",
              "            (LayerNorm): LayerNorm((768,), eps=1e-12, elementwise_affine=True)\n",
              "            (dropout): Dropout(p=0.1, inplace=False)\n",
              "          )\n",
              "        )\n",
              "        (2): BertLayer(\n",
              "          (attention): BertAttention(\n",
              "            (self): BertSelfAttention(\n",
              "              (query): Linear(in_features=768, out_features=768, bias=True)\n",
              "              (key): Linear(in_features=768, out_features=768, bias=True)\n",
              "              (value): Linear(in_features=768, out_features=768, bias=True)\n",
              "              (dropout): Dropout(p=0.1, inplace=False)\n",
              "            )\n",
              "            (output): BertSelfOutput(\n",
              "              (dense): Linear(in_features=768, out_features=768, bias=True)\n",
              "              (LayerNorm): LayerNorm((768,), eps=1e-12, elementwise_affine=True)\n",
              "              (dropout): Dropout(p=0.1, inplace=False)\n",
              "            )\n",
              "          )\n",
              "          (intermediate): BertIntermediate(\n",
              "            (dense): Linear(in_features=768, out_features=3072, bias=True)\n",
              "          )\n",
              "          (output): BertOutput(\n",
              "            (dense): Linear(in_features=3072, out_features=768, bias=True)\n",
              "            (LayerNorm): LayerNorm((768,), eps=1e-12, elementwise_affine=True)\n",
              "            (dropout): Dropout(p=0.1, inplace=False)\n",
              "          )\n",
              "        )\n",
              "        (3): BertLayer(\n",
              "          (attention): BertAttention(\n",
              "            (self): BertSelfAttention(\n",
              "              (query): Linear(in_features=768, out_features=768, bias=True)\n",
              "              (key): Linear(in_features=768, out_features=768, bias=True)\n",
              "              (value): Linear(in_features=768, out_features=768, bias=True)\n",
              "              (dropout): Dropout(p=0.1, inplace=False)\n",
              "            )\n",
              "            (output): BertSelfOutput(\n",
              "              (dense): Linear(in_features=768, out_features=768, bias=True)\n",
              "              (LayerNorm): LayerNorm((768,), eps=1e-12, elementwise_affine=True)\n",
              "              (dropout): Dropout(p=0.1, inplace=False)\n",
              "            )\n",
              "          )\n",
              "          (intermediate): BertIntermediate(\n",
              "            (dense): Linear(in_features=768, out_features=3072, bias=True)\n",
              "          )\n",
              "          (output): BertOutput(\n",
              "            (dense): Linear(in_features=3072, out_features=768, bias=True)\n",
              "            (LayerNorm): LayerNorm((768,), eps=1e-12, elementwise_affine=True)\n",
              "            (dropout): Dropout(p=0.1, inplace=False)\n",
              "          )\n",
              "        )\n",
              "        (4): BertLayer(\n",
              "          (attention): BertAttention(\n",
              "            (self): BertSelfAttention(\n",
              "              (query): Linear(in_features=768, out_features=768, bias=True)\n",
              "              (key): Linear(in_features=768, out_features=768, bias=True)\n",
              "              (value): Linear(in_features=768, out_features=768, bias=True)\n",
              "              (dropout): Dropout(p=0.1, inplace=False)\n",
              "            )\n",
              "            (output): BertSelfOutput(\n",
              "              (dense): Linear(in_features=768, out_features=768, bias=True)\n",
              "              (LayerNorm): LayerNorm((768,), eps=1e-12, elementwise_affine=True)\n",
              "              (dropout): Dropout(p=0.1, inplace=False)\n",
              "            )\n",
              "          )\n",
              "          (intermediate): BertIntermediate(\n",
              "            (dense): Linear(in_features=768, out_features=3072, bias=True)\n",
              "          )\n",
              "          (output): BertOutput(\n",
              "            (dense): Linear(in_features=3072, out_features=768, bias=True)\n",
              "            (LayerNorm): LayerNorm((768,), eps=1e-12, elementwise_affine=True)\n",
              "            (dropout): Dropout(p=0.1, inplace=False)\n",
              "          )\n",
              "        )\n",
              "        (5): BertLayer(\n",
              "          (attention): BertAttention(\n",
              "            (self): BertSelfAttention(\n",
              "              (query): Linear(in_features=768, out_features=768, bias=True)\n",
              "              (key): Linear(in_features=768, out_features=768, bias=True)\n",
              "              (value): Linear(in_features=768, out_features=768, bias=True)\n",
              "              (dropout): Dropout(p=0.1, inplace=False)\n",
              "            )\n",
              "            (output): BertSelfOutput(\n",
              "              (dense): Linear(in_features=768, out_features=768, bias=True)\n",
              "              (LayerNorm): LayerNorm((768,), eps=1e-12, elementwise_affine=True)\n",
              "              (dropout): Dropout(p=0.1, inplace=False)\n",
              "            )\n",
              "          )\n",
              "          (intermediate): BertIntermediate(\n",
              "            (dense): Linear(in_features=768, out_features=3072, bias=True)\n",
              "          )\n",
              "          (output): BertOutput(\n",
              "            (dense): Linear(in_features=3072, out_features=768, bias=True)\n",
              "            (LayerNorm): LayerNorm((768,), eps=1e-12, elementwise_affine=True)\n",
              "            (dropout): Dropout(p=0.1, inplace=False)\n",
              "          )\n",
              "        )\n",
              "        (6): BertLayer(\n",
              "          (attention): BertAttention(\n",
              "            (self): BertSelfAttention(\n",
              "              (query): Linear(in_features=768, out_features=768, bias=True)\n",
              "              (key): Linear(in_features=768, out_features=768, bias=True)\n",
              "              (value): Linear(in_features=768, out_features=768, bias=True)\n",
              "              (dropout): Dropout(p=0.1, inplace=False)\n",
              "            )\n",
              "            (output): BertSelfOutput(\n",
              "              (dense): Linear(in_features=768, out_features=768, bias=True)\n",
              "              (LayerNorm): LayerNorm((768,), eps=1e-12, elementwise_affine=True)\n",
              "              (dropout): Dropout(p=0.1, inplace=False)\n",
              "            )\n",
              "          )\n",
              "          (intermediate): BertIntermediate(\n",
              "            (dense): Linear(in_features=768, out_features=3072, bias=True)\n",
              "          )\n",
              "          (output): BertOutput(\n",
              "            (dense): Linear(in_features=3072, out_features=768, bias=True)\n",
              "            (LayerNorm): LayerNorm((768,), eps=1e-12, elementwise_affine=True)\n",
              "            (dropout): Dropout(p=0.1, inplace=False)\n",
              "          )\n",
              "        )\n",
              "        (7): BertLayer(\n",
              "          (attention): BertAttention(\n",
              "            (self): BertSelfAttention(\n",
              "              (query): Linear(in_features=768, out_features=768, bias=True)\n",
              "              (key): Linear(in_features=768, out_features=768, bias=True)\n",
              "              (value): Linear(in_features=768, out_features=768, bias=True)\n",
              "              (dropout): Dropout(p=0.1, inplace=False)\n",
              "            )\n",
              "            (output): BertSelfOutput(\n",
              "              (dense): Linear(in_features=768, out_features=768, bias=True)\n",
              "              (LayerNorm): LayerNorm((768,), eps=1e-12, elementwise_affine=True)\n",
              "              (dropout): Dropout(p=0.1, inplace=False)\n",
              "            )\n",
              "          )\n",
              "          (intermediate): BertIntermediate(\n",
              "            (dense): Linear(in_features=768, out_features=3072, bias=True)\n",
              "          )\n",
              "          (output): BertOutput(\n",
              "            (dense): Linear(in_features=3072, out_features=768, bias=True)\n",
              "            (LayerNorm): LayerNorm((768,), eps=1e-12, elementwise_affine=True)\n",
              "            (dropout): Dropout(p=0.1, inplace=False)\n",
              "          )\n",
              "        )\n",
              "        (8): BertLayer(\n",
              "          (attention): BertAttention(\n",
              "            (self): BertSelfAttention(\n",
              "              (query): Linear(in_features=768, out_features=768, bias=True)\n",
              "              (key): Linear(in_features=768, out_features=768, bias=True)\n",
              "              (value): Linear(in_features=768, out_features=768, bias=True)\n",
              "              (dropout): Dropout(p=0.1, inplace=False)\n",
              "            )\n",
              "            (output): BertSelfOutput(\n",
              "              (dense): Linear(in_features=768, out_features=768, bias=True)\n",
              "              (LayerNorm): LayerNorm((768,), eps=1e-12, elementwise_affine=True)\n",
              "              (dropout): Dropout(p=0.1, inplace=False)\n",
              "            )\n",
              "          )\n",
              "          (intermediate): BertIntermediate(\n",
              "            (dense): Linear(in_features=768, out_features=3072, bias=True)\n",
              "          )\n",
              "          (output): BertOutput(\n",
              "            (dense): Linear(in_features=3072, out_features=768, bias=True)\n",
              "            (LayerNorm): LayerNorm((768,), eps=1e-12, elementwise_affine=True)\n",
              "            (dropout): Dropout(p=0.1, inplace=False)\n",
              "          )\n",
              "        )\n",
              "        (9): BertLayer(\n",
              "          (attention): BertAttention(\n",
              "            (self): BertSelfAttention(\n",
              "              (query): Linear(in_features=768, out_features=768, bias=True)\n",
              "              (key): Linear(in_features=768, out_features=768, bias=True)\n",
              "              (value): Linear(in_features=768, out_features=768, bias=True)\n",
              "              (dropout): Dropout(p=0.1, inplace=False)\n",
              "            )\n",
              "            (output): BertSelfOutput(\n",
              "              (dense): Linear(in_features=768, out_features=768, bias=True)\n",
              "              (LayerNorm): LayerNorm((768,), eps=1e-12, elementwise_affine=True)\n",
              "              (dropout): Dropout(p=0.1, inplace=False)\n",
              "            )\n",
              "          )\n",
              "          (intermediate): BertIntermediate(\n",
              "            (dense): Linear(in_features=768, out_features=3072, bias=True)\n",
              "          )\n",
              "          (output): BertOutput(\n",
              "            (dense): Linear(in_features=3072, out_features=768, bias=True)\n",
              "            (LayerNorm): LayerNorm((768,), eps=1e-12, elementwise_affine=True)\n",
              "            (dropout): Dropout(p=0.1, inplace=False)\n",
              "          )\n",
              "        )\n",
              "        (10): BertLayer(\n",
              "          (attention): BertAttention(\n",
              "            (self): BertSelfAttention(\n",
              "              (query): Linear(in_features=768, out_features=768, bias=True)\n",
              "              (key): Linear(in_features=768, out_features=768, bias=True)\n",
              "              (value): Linear(in_features=768, out_features=768, bias=True)\n",
              "              (dropout): Dropout(p=0.1, inplace=False)\n",
              "            )\n",
              "            (output): BertSelfOutput(\n",
              "              (dense): Linear(in_features=768, out_features=768, bias=True)\n",
              "              (LayerNorm): LayerNorm((768,), eps=1e-12, elementwise_affine=True)\n",
              "              (dropout): Dropout(p=0.1, inplace=False)\n",
              "            )\n",
              "          )\n",
              "          (intermediate): BertIntermediate(\n",
              "            (dense): Linear(in_features=768, out_features=3072, bias=True)\n",
              "          )\n",
              "          (output): BertOutput(\n",
              "            (dense): Linear(in_features=3072, out_features=768, bias=True)\n",
              "            (LayerNorm): LayerNorm((768,), eps=1e-12, elementwise_affine=True)\n",
              "            (dropout): Dropout(p=0.1, inplace=False)\n",
              "          )\n",
              "        )\n",
              "        (11): BertLayer(\n",
              "          (attention): BertAttention(\n",
              "            (self): BertSelfAttention(\n",
              "              (query): Linear(in_features=768, out_features=768, bias=True)\n",
              "              (key): Linear(in_features=768, out_features=768, bias=True)\n",
              "              (value): Linear(in_features=768, out_features=768, bias=True)\n",
              "              (dropout): Dropout(p=0.1, inplace=False)\n",
              "            )\n",
              "            (output): BertSelfOutput(\n",
              "              (dense): Linear(in_features=768, out_features=768, bias=True)\n",
              "              (LayerNorm): LayerNorm((768,), eps=1e-12, elementwise_affine=True)\n",
              "              (dropout): Dropout(p=0.1, inplace=False)\n",
              "            )\n",
              "          )\n",
              "          (intermediate): BertIntermediate(\n",
              "            (dense): Linear(in_features=768, out_features=3072, bias=True)\n",
              "          )\n",
              "          (output): BertOutput(\n",
              "            (dense): Linear(in_features=3072, out_features=768, bias=True)\n",
              "            (LayerNorm): LayerNorm((768,), eps=1e-12, elementwise_affine=True)\n",
              "            (dropout): Dropout(p=0.1, inplace=False)\n",
              "          )\n",
              "        )\n",
              "      )\n",
              "    )\n",
              "    (pooler): BertPooler(\n",
              "      (dense): Linear(in_features=768, out_features=768, bias=True)\n",
              "      (activation): Tanh()\n",
              "    )\n",
              "  )\n",
              "  (l2): Dropout(p=0.3, inplace=False)\n",
              "  (l3): Linear(in_features=768, out_features=6, bias=True)\n",
              ")"
            ]
          },
          "metadata": {
            "tags": []
          },
          "execution_count": 35
        }
      ]
    },
    {
      "cell_type": "code",
      "metadata": {
        "id": "Yp8nfP5nmb6k"
      },
      "source": [
        "def loss_fn(outputs, targets):\n",
        "    return torch.nn.BCEWithLogitsLoss()(outputs, targets)\n",
        "\n",
        "optimizer = torch.optim.Adam(params =  model.parameters(), lr=LEARNING_RATE)"
      ],
      "execution_count": null,
      "outputs": []
    },
    {
      "cell_type": "code",
      "metadata": {
        "id": "LNHAIn5NmfTn"
      },
      "source": [
        "def load_ckp(checkpoint_fpath, model, optimizer):\n",
        "    \"\"\"\n",
        "    checkpoint_path: path to save checkpoint\n",
        "    model: model that we want to load checkpoint parameters into       \n",
        "    optimizer: optimizer we defined in previous training\n",
        "    \"\"\"\n",
        "    # load check point\n",
        "    checkpoint = torch.load(checkpoint_fpath)\n",
        "    # initialize state_dict from checkpoint to model\n",
        "    model.load_state_dict(checkpoint['state_dict'])\n",
        "    # initialize optimizer from checkpoint to optimizer\n",
        "    optimizer.load_state_dict(checkpoint['optimizer'])\n",
        "    # initialize valid_loss_min from checkpoint to valid_loss_min\n",
        "    valid_loss_min = checkpoint['valid_loss_min']\n",
        "    # return model, optimizer, epoch value, min validation loss \n",
        "    # return model, optimizer, checkpoint['epoch'], valid_loss_min.item()\n",
        "    return model, optimizer\n",
        "    "
      ],
      "execution_count": null,
      "outputs": []
    },
    {
      "cell_type": "code",
      "metadata": {
        "id": "nUayQANpmiEH"
      },
      "source": [
        "import shutil, sys   \n",
        "def save_ckp(state, is_best, checkpoint_path, best_model_path):\n",
        "    \"\"\"\n",
        "    state: checkpoint we want to save\n",
        "    is_best: is this the best checkpoint; min validation loss\n",
        "    checkpoint_path: path to save checkpoint\n",
        "    best_model_path: path to save best model\n",
        "    \"\"\"\n",
        "    f_path = checkpoint_path\n",
        "    # save checkpoint data to the path given, checkpoint_path\n",
        "    torch.save(state, f_path)\n",
        "    # if it is a best model, min validation loss\n",
        "    if is_best:\n",
        "        best_fpath = best_model_path\n",
        "        # copy that checkpoint file to best path given, best_model_path\n",
        "        shutil.copyfile(f_path, best_fpath)"
      ],
      "execution_count": null,
      "outputs": []
    },
    {
      "cell_type": "code",
      "metadata": {
        "id": "i46l58qTmjvs"
      },
      "source": [
        "val_targets=[]\n",
        "val_outputs=[] "
      ],
      "execution_count": null,
      "outputs": []
    },
    {
      "cell_type": "code",
      "metadata": {
        "id": "lJlVqgO-mlWg"
      },
      "source": [
        "def train_model(start_epochs,  n_epochs, valid_loss_min_input, \n",
        "                training_loader, validation_loader, model, \n",
        "                optimizer, checkpoint_path, best_model_path):\n",
        "   \n",
        "  # initialize tracker for minimum validation loss\n",
        "  valid_loss_min = valid_loss_min_input \n",
        "   \n",
        " \n",
        "  for epoch in range(start_epochs, n_epochs+1):\n",
        "    train_loss = 0\n",
        "    valid_loss = 0\n",
        "\n",
        "    model.train()\n",
        "    print('############# Epoch {}: Training Start   #############'.format(epoch))\n",
        "    for batch_idx, data in enumerate(training_loader):\n",
        "        #print('yyy epoch', batch_idx)\n",
        "        ids = data['ids'].to(device, dtype = torch.long)\n",
        "        mask = data['mask'].to(device, dtype = torch.long)\n",
        "        token_type_ids = data['token_type_ids'].to(device, dtype = torch.long)\n",
        "        targets = data['targets'].to(device, dtype = torch.float)\n",
        "\n",
        "        outputs = model(ids, mask, token_type_ids)\n",
        "\n",
        "        optimizer.zero_grad()\n",
        "        loss = loss_fn(outputs, targets)\n",
        "        #if batch_idx%5000==0:\n",
        "         #   print(f'Epoch: {epoch}, Training Loss:  {loss.item()}')\n",
        "        \n",
        "        optimizer.zero_grad()\n",
        "        loss.backward()\n",
        "        optimizer.step()\n",
        "        #print('before loss data in training', loss.item(), train_loss)\n",
        "        train_loss = int(train_loss + ((1 / (batch_idx + 1)) * (loss- train_loss)))\n",
        "        #print('after loss data in training', loss.item(), train_loss)\n",
        "    \n",
        "    print('############# Epoch {}: Training End     #############'.format(epoch))\n",
        "    \n",
        "    print('############# Epoch {}: Validation Start   #############'.format(epoch))\n",
        "    # model.eval()\n",
        "   \n",
        "    with torch.no_grad():\n",
        "      for batch_idx, data in enumerate(validation_loader, 0):\n",
        "            ids = data['ids'].to(device, dtype = torch.long)\n",
        "            mask = data['mask'].to(device, dtype = torch.long)\n",
        "            token_type_ids = data['token_type_ids'].to(device, dtype = torch.long)\n",
        "            targets = data['targets'].to(device, dtype = torch.float)\n",
        "\n",
        "            outputs = model(ids, mask, token_type_ids)\n",
        "\n",
        "            loss = loss_fn(outputs, targets)\n",
        "            valid_loss = int(valid_loss + ((1 / (batch_idx + 1)) * (loss - valid_loss)))\n",
        "            val_targets.extend(targets.cpu().detach().numpy().tolist())\n",
        "            val_outputs.extend(torch.sigmoid(outputs).cpu().detach().numpy().tolist())\n",
        "\n",
        "      print('############# Epoch {}: Validation End     #############'.format(epoch))\n",
        "      # calculate average losses\n",
        "      #print('before cal avg train loss', train_loss)\n",
        "      train_loss = train_loss/len(training_loader)\n",
        "      valid_loss = valid_loss/len(validation_loader)\n",
        "      # print training/validation statistics \n",
        "      print('Epoch: {} \\tAvgerage Training Loss: {:.6f} \\tAverage Validation Loss: {:.6f}'.format(\n",
        "            epoch, \n",
        "            train_loss,\n",
        "            valid_loss\n",
        "            ))\n",
        "      \n",
        "      # create checkpoint variable and add important data\n",
        "      checkpoint = {\n",
        "            'epoch': epoch + 1,\n",
        "            'valid_loss_min': valid_loss,\n",
        "            'state_dict': model.state_dict(),\n",
        "            'optimizer': optimizer.state_dict()\n",
        "      }\n",
        "        \n",
        "        # save checkpoint\n",
        "      save_ckp(checkpoint, False, checkpoint_path, best_model_path)\n",
        "      ## TODO: save the model if validation loss has decreased\n",
        "      if valid_loss <= valid_loss_min:\n",
        "        print('Validation loss decreased ({:.6f} --> {:.6f}).  Saving model ...'.format(valid_loss_min,valid_loss))\n",
        "        # save checkpoint as best model\n",
        "        save_ckp(checkpoint, True, checkpoint_path, best_model_path)\n",
        "        valid_loss_min = valid_loss\n",
        "\n",
        "    print('############# Epoch {}  Done   #############\\n'.format(epoch))\n",
        "\n",
        "\n",
        "  return model"
      ],
      "execution_count": null,
      "outputs": []
    },
    {
      "cell_type": "code",
      "metadata": {
        "id": "XeWFA9SWmote"
      },
      "source": [
        "import torch\n",
        "torch.cuda.empty_cache()"
      ],
      "execution_count": null,
      "outputs": []
    },
    {
      "cell_type": "code",
      "metadata": {
        "id": "LxZ1fZcmmq0F"
      },
      "source": [
        "checkpoint_path = '/content/gdrive/MyDrive/bert_imrd_models_manually_annotated/current_checkpoint.pt'\n",
        "best_model = '/content/gdrive/MyDrive/bert_imrd_models_manually_annotated//best_model.pt'\n"
      ],
      "execution_count": null,
      "outputs": []
    },
    {
      "cell_type": "code",
      "metadata": {
        "colab": {
          "base_uri": "https://localhost:8080/"
        },
        "id": "9HM2KTNfnmON",
        "outputId": "4531e7e0-89d3-4c03-e6a9-7ab5b856c481"
      },
      "source": [
        "trained_model = train_model(1, 4, np.Inf, training_loader, validation_loader, model, optimizer,checkpoint_path,best_model)"
      ],
      "execution_count": null,
      "outputs": [
        {
          "output_type": "stream",
          "text": [
            "############# Epoch 1: Training Start   #############\n",
            "############# Epoch 1: Training End     #############\n",
            "############# Epoch 1: Validation Start   #############\n",
            "############# Epoch 1: Validation End     #############\n",
            "Epoch: 1 \tAvgerage Training Loss: 0.000000 \tAverage Validation Loss: 0.000000\n",
            "Validation loss decreased (inf --> 0.000000).  Saving model ...\n",
            "############# Epoch 1  Done   #############\n",
            "\n",
            "############# Epoch 2: Training Start   #############\n",
            "############# Epoch 2: Training End     #############\n",
            "############# Epoch 2: Validation Start   #############\n",
            "############# Epoch 2: Validation End     #############\n",
            "Epoch: 2 \tAvgerage Training Loss: 0.000000 \tAverage Validation Loss: 0.000000\n",
            "Validation loss decreased (0.000000 --> 0.000000).  Saving model ...\n",
            "############# Epoch 2  Done   #############\n",
            "\n",
            "############# Epoch 3: Training Start   #############\n",
            "############# Epoch 3: Training End     #############\n",
            "############# Epoch 3: Validation Start   #############\n",
            "############# Epoch 3: Validation End     #############\n",
            "Epoch: 3 \tAvgerage Training Loss: 0.000000 \tAverage Validation Loss: 0.000000\n",
            "Validation loss decreased (0.000000 --> 0.000000).  Saving model ...\n",
            "############# Epoch 3  Done   #############\n",
            "\n",
            "############# Epoch 4: Training Start   #############\n",
            "############# Epoch 4: Training End     #############\n",
            "############# Epoch 4: Validation Start   #############\n",
            "############# Epoch 4: Validation End     #############\n",
            "Epoch: 4 \tAvgerage Training Loss: 0.000000 \tAverage Validation Loss: 0.000000\n",
            "Validation loss decreased (0.000000 --> 0.000000).  Saving model ...\n",
            "############# Epoch 4  Done   #############\n",
            "\n"
          ],
          "name": "stdout"
        }
      ]
    },
    {
      "cell_type": "code",
      "metadata": {
        "id": "sD0Dbf9u5B92"
      },
      "source": [
        "class PrepForPredictionDataset(Dataset):\n",
        "\n",
        "    def __init__(self, dataframe, tokenizer, max_len):\n",
        "        self.tokenizer = tokenizer\n",
        "        self.data = dataframe\n",
        "        self.title = dataframe['text']\n",
        "        #self.targets = self.data.target_list\n",
        "        self.max_len = max_len\n",
        "\n",
        "    def __len__(self):\n",
        "        return len(self.title)\n",
        "\n",
        "    def __getitem__(self, index):\n",
        "        title = str(self.title[index])\n",
        "        title = \" \".join(title.split())\n",
        "\n",
        "        inputs = self.tokenizer.encode_plus(\n",
        "            title,\n",
        "            None,\n",
        "            add_special_tokens=True,\n",
        "            max_length=self.max_len,\n",
        "            padding='max_length',\n",
        "            return_token_type_ids=True,\n",
        "            truncation=True\n",
        "        )\n",
        "        ids = inputs['input_ids']\n",
        "        mask = inputs['attention_mask']\n",
        "        token_type_ids = inputs[\"token_type_ids\"]\n",
        "\n",
        "\n",
        "        return {\n",
        "            'ids': torch.tensor(ids, dtype=torch.long),\n",
        "            'mask': torch.tensor(mask, dtype=torch.long),\n",
        "            'token_type_ids': torch.tensor(token_type_ids, dtype=torch.long),\n",
        "           # 'targets': torch.tensor(self.targets[index], dtype=torch.float)\n",
        "        }"
      ],
      "execution_count": null,
      "outputs": []
    },
    {
      "cell_type": "code",
      "metadata": {
        "colab": {
          "base_uri": "https://localhost:8080/",
          "height": 419
        },
        "id": "t3I7VeSE8L8e",
        "outputId": "2aa5a20b-5c94-41d0-b66f-0d2d51885b27"
      },
      "source": [
        "df_train"
      ],
      "execution_count": null,
      "outputs": [
        {
          "output_type": "execute_result",
          "data": {
            "text/html": [
              "<div>\n",
              "<style scoped>\n",
              "    .dataframe tbody tr th:only-of-type {\n",
              "        vertical-align: middle;\n",
              "    }\n",
              "\n",
              "    .dataframe tbody tr th {\n",
              "        vertical-align: top;\n",
              "    }\n",
              "\n",
              "    .dataframe thead th {\n",
              "        text-align: right;\n",
              "    }\n",
              "</style>\n",
              "<table border=\"1\" class=\"dataframe\">\n",
              "  <thead>\n",
              "    <tr style=\"text-align: right;\">\n",
              "      <th></th>\n",
              "      <th>text</th>\n",
              "      <th>labels</th>\n",
              "    </tr>\n",
              "  </thead>\n",
              "  <tbody>\n",
              "    <tr>\n",
              "      <th>0</th>\n",
              "      <td>the aepexplus monitoring system, which uses mi...</td>\n",
              "      <td>[0.0, 0.0, 1.0, 0.0, 0.0, 0.0]</td>\n",
              "    </tr>\n",
              "    <tr>\n",
              "      <th>1</th>\n",
              "      <td>seventy-five patients, 1-18 years of age (stra...</td>\n",
              "      <td>[0.0, 0.0, 0.0, 1.0, 0.0, 0.0]</td>\n",
              "    </tr>\n",
              "    <tr>\n",
              "      <th>2</th>\n",
              "      <td>the aepex and the bispectral index (bis) were ...</td>\n",
              "      <td>[0.0, 0.0, 0.0, 1.0, 0.0, 0.0]</td>\n",
              "    </tr>\n",
              "    <tr>\n",
              "      <th>3</th>\n",
              "      <td>the ability of the aepex to detect different l...</td>\n",
              "      <td>[0.0, 0.0, 0.0, 1.0, 0.0, 0.0]</td>\n",
              "    </tr>\n",
              "    <tr>\n",
              "      <th>4</th>\n",
              "      <td>as a secondary outcome parameter, the relation...</td>\n",
              "      <td>[0.0, 0.0, 0.0, 1.0, 0.0, 0.0]</td>\n",
              "    </tr>\n",
              "    <tr>\n",
              "      <th>...</th>\n",
              "      <td>...</td>\n",
              "      <td>...</td>\n",
              "    </tr>\n",
              "    <tr>\n",
              "      <th>2711</th>\n",
              "      <td>this case confirms that the length of calcanea...</td>\n",
              "      <td>[0.0, 0.0, 0.0, 0.0, 0.0, 1.0]</td>\n",
              "    </tr>\n",
              "    <tr>\n",
              "      <th>2712</th>\n",
              "      <td>despite varied non-surgical alternatives for t...</td>\n",
              "      <td>[0.0, 1.0, 0.0, 0.0, 0.0, 0.0]</td>\n",
              "    </tr>\n",
              "    <tr>\n",
              "      <th>2713</th>\n",
              "      <td>in the last decade, the use of intra-articular...</td>\n",
              "      <td>[0.0, 1.0, 0.0, 0.0, 0.0, 0.0]</td>\n",
              "    </tr>\n",
              "    <tr>\n",
              "      <th>2714</th>\n",
              "      <td>however, there is controversy about its clinic...</td>\n",
              "      <td>[0.0, 1.0, 0.0, 0.0, 0.0, 0.0]</td>\n",
              "    </tr>\n",
              "    <tr>\n",
              "      <th>2715</th>\n",
              "      <td>to answer this question we used epistemonikos,...</td>\n",
              "      <td>[0.0, 0.0, 0.0, 1.0, 0.0, 0.0]</td>\n",
              "    </tr>\n",
              "  </tbody>\n",
              "</table>\n",
              "<p>2716 rows × 2 columns</p>\n",
              "</div>"
            ],
            "text/plain": [
              "                                                   text                          labels\n",
              "0     the aepexplus monitoring system, which uses mi...  [0.0, 0.0, 1.0, 0.0, 0.0, 0.0]\n",
              "1     seventy-five patients, 1-18 years of age (stra...  [0.0, 0.0, 0.0, 1.0, 0.0, 0.0]\n",
              "2     the aepex and the bispectral index (bis) were ...  [0.0, 0.0, 0.0, 1.0, 0.0, 0.0]\n",
              "3     the ability of the aepex to detect different l...  [0.0, 0.0, 0.0, 1.0, 0.0, 0.0]\n",
              "4     as a secondary outcome parameter, the relation...  [0.0, 0.0, 0.0, 1.0, 0.0, 0.0]\n",
              "...                                                 ...                             ...\n",
              "2711  this case confirms that the length of calcanea...  [0.0, 0.0, 0.0, 0.0, 0.0, 1.0]\n",
              "2712  despite varied non-surgical alternatives for t...  [0.0, 1.0, 0.0, 0.0, 0.0, 0.0]\n",
              "2713  in the last decade, the use of intra-articular...  [0.0, 1.0, 0.0, 0.0, 0.0, 0.0]\n",
              "2714  however, there is controversy about its clinic...  [0.0, 1.0, 0.0, 0.0, 0.0, 0.0]\n",
              "2715  to answer this question we used epistemonikos,...  [0.0, 0.0, 0.0, 1.0, 0.0, 0.0]\n",
              "\n",
              "[2716 rows x 2 columns]"
            ]
          },
          "metadata": {
            "tags": []
          },
          "execution_count": 55
        }
      ]
    },
    {
      "cell_type": "code",
      "metadata": {
        "colab": {
          "base_uri": "https://localhost:8080/",
          "height": 419
        },
        "id": "sDMOtDoHkxhX",
        "outputId": "c1ea48db-9ff4-4a71-873e-4315d5f722c2"
      },
      "source": [
        "df_test"
      ],
      "execution_count": null,
      "outputs": [
        {
          "output_type": "execute_result",
          "data": {
            "text/html": [
              "<div>\n",
              "<style scoped>\n",
              "    .dataframe tbody tr th:only-of-type {\n",
              "        vertical-align: middle;\n",
              "    }\n",
              "\n",
              "    .dataframe tbody tr th {\n",
              "        vertical-align: top;\n",
              "    }\n",
              "\n",
              "    .dataframe thead th {\n",
              "        text-align: right;\n",
              "    }\n",
              "</style>\n",
              "<table border=\"1\" class=\"dataframe\">\n",
              "  <thead>\n",
              "    <tr style=\"text-align: right;\">\n",
              "      <th></th>\n",
              "      <th>text</th>\n",
              "      <th>labels</th>\n",
              "    </tr>\n",
              "  </thead>\n",
              "  <tbody>\n",
              "    <tr>\n",
              "      <th>0</th>\n",
              "      <td>we extracted data from the systematic reviews,...</td>\n",
              "      <td>[0.0, 0.0, 0.0, 1.0, 0.0, 0.0]</td>\n",
              "    </tr>\n",
              "    <tr>\n",
              "      <th>1</th>\n",
              "      <td>we identified twelve systematic reviews includ...</td>\n",
              "      <td>[0.0, 0.0, 0.0, 0.0, 1.0, 0.0]</td>\n",
              "    </tr>\n",
              "    <tr>\n",
              "      <th>2</th>\n",
              "      <td>we concluded that intra-articular injection of...</td>\n",
              "      <td>[0.0, 0.0, 0.0, 0.0, 0.0, 1.0]</td>\n",
              "    </tr>\n",
              "    <tr>\n",
              "      <th>3</th>\n",
              "      <td>as for the adverse effects, if they exist, the...</td>\n",
              "      <td>[0.0, 0.0, 0.0, 0.0, 0.0, 1.0]</td>\n",
              "    </tr>\n",
              "    <tr>\n",
              "      <th>4</th>\n",
              "      <td>the association between the checkpoint kinase ...</td>\n",
              "      <td>[0.0, 1.0, 0.0, 0.0, 0.0, 0.0]</td>\n",
              "    </tr>\n",
              "    <tr>\n",
              "      <th>...</th>\n",
              "      <td>...</td>\n",
              "      <td>...</td>\n",
              "    </tr>\n",
              "    <tr>\n",
              "      <th>558</th>\n",
              "      <td>the risk of msp was greater for ad, female, ar...</td>\n",
              "      <td>[0.0, 0.0, 0.0, 0.0, 1.0, 0.0]</td>\n",
              "    </tr>\n",
              "    <tr>\n",
              "      <th>559</th>\n",
              "      <td>evidence suggests posttraumatic headache, occu...</td>\n",
              "      <td>[0.0, 0.0, 0.0, 0.0, 1.0, 0.0]</td>\n",
              "    </tr>\n",
              "    <tr>\n",
              "      <th>560</th>\n",
              "      <td>nurses must recognize the consequences militar...</td>\n",
              "      <td>[0.0, 0.0, 0.0, 0.0, 0.0, 1.0]</td>\n",
              "    </tr>\n",
              "    <tr>\n",
              "      <th>561</th>\n",
              "      <td>nurses have an opportunity to positively impac...</td>\n",
              "      <td>[0.0, 0.0, 0.0, 0.0, 0.0, 1.0]</td>\n",
              "    </tr>\n",
              "    <tr>\n",
              "      <th>562</th>\n",
              "      <td>the findings from this review underscore consi...</td>\n",
              "      <td>[0.0, 0.0, 0.0, 0.0, 0.0, 1.0]</td>\n",
              "    </tr>\n",
              "  </tbody>\n",
              "</table>\n",
              "<p>563 rows × 2 columns</p>\n",
              "</div>"
            ],
            "text/plain": [
              "                                                  text                          labels\n",
              "0    we extracted data from the systematic reviews,...  [0.0, 0.0, 0.0, 1.0, 0.0, 0.0]\n",
              "1    we identified twelve systematic reviews includ...  [0.0, 0.0, 0.0, 0.0, 1.0, 0.0]\n",
              "2    we concluded that intra-articular injection of...  [0.0, 0.0, 0.0, 0.0, 0.0, 1.0]\n",
              "3    as for the adverse effects, if they exist, the...  [0.0, 0.0, 0.0, 0.0, 0.0, 1.0]\n",
              "4    the association between the checkpoint kinase ...  [0.0, 1.0, 0.0, 0.0, 0.0, 0.0]\n",
              "..                                                 ...                             ...\n",
              "558  the risk of msp was greater for ad, female, ar...  [0.0, 0.0, 0.0, 0.0, 1.0, 0.0]\n",
              "559  evidence suggests posttraumatic headache, occu...  [0.0, 0.0, 0.0, 0.0, 1.0, 0.0]\n",
              "560  nurses must recognize the consequences militar...  [0.0, 0.0, 0.0, 0.0, 0.0, 1.0]\n",
              "561  nurses have an opportunity to positively impac...  [0.0, 0.0, 0.0, 0.0, 0.0, 1.0]\n",
              "562  the findings from this review underscore consi...  [0.0, 0.0, 0.0, 0.0, 0.0, 1.0]\n",
              "\n",
              "[563 rows x 2 columns]"
            ]
          },
          "metadata": {
            "tags": []
          },
          "execution_count": 56
        }
      ]
    },
    {
      "cell_type": "code",
      "metadata": {
        "id": "nD35iapT8SAq"
      },
      "source": [
        "testing_set = PrepForPredictionDataset(df_test, tokenizer, MAX_LEN)\n"
      ],
      "execution_count": null,
      "outputs": []
    },
    {
      "cell_type": "code",
      "metadata": {
        "id": "OLYjgw948pqL"
      },
      "source": [
        "testing_loader = DataLoader(testing_set, **test_params)\n"
      ],
      "execution_count": null,
      "outputs": []
    },
    {
      "cell_type": "code",
      "metadata": {
        "id": "bOdG8J7n8xZo"
      },
      "source": [
        "def do_prediction(loader):\n",
        "    trained_model.eval()\n",
        "   \n",
        "    fin_outputs=[]\n",
        "    with torch.no_grad():\n",
        "        for _, data in enumerate(loader):\n",
        "            ids = data['ids'].to(device, dtype = torch.long)\n",
        "            mask = data['mask'].to(device, dtype = torch.long)\n",
        "            token_type_ids = data['token_type_ids'].to(device, dtype = torch.long)\n",
        "            #targets = data['targets'].to(device, dtype = torch.float)\n",
        "            outputs = model(ids, mask, token_type_ids)\n",
        "            #fin_targets.extend(targets.cpu().detach().numpy().tolist())\n",
        "            fin_outputs.extend(torch.sigmoid(outputs).cpu().detach().numpy().tolist())\n",
        "    return fin_outputs"
      ],
      "execution_count": null,
      "outputs": []
    },
    {
      "cell_type": "code",
      "metadata": {
        "id": "N-akHYto8zZw",
        "colab": {
          "base_uri": "https://localhost:8080/",
          "height": 283
        },
        "outputId": "7a896d69-563f-40ee-97b8-9e3d9d0567b3"
      },
      "source": [
        "pred_outputs = do_prediction(testing_loader)"
      ],
      "execution_count": null,
      "outputs": [
        {
          "output_type": "error",
          "ename": "NameError",
          "evalue": "ignored",
          "traceback": [
            "\u001b[0;31m---------------------------------------------------------------------------\u001b[0m",
            "\u001b[0;31mNameError\u001b[0m                                 Traceback (most recent call last)",
            "\u001b[0;32m<ipython-input-60-82ecde0d08f2>\u001b[0m in \u001b[0;36m<module>\u001b[0;34m()\u001b[0m\n\u001b[0;32m----> 1\u001b[0;31m \u001b[0mpred_outputs\u001b[0m \u001b[0;34m=\u001b[0m \u001b[0mdo_prediction\u001b[0m\u001b[0;34m(\u001b[0m\u001b[0mtesting_loader\u001b[0m\u001b[0;34m)\u001b[0m\u001b[0;34m\u001b[0m\u001b[0;34m\u001b[0m\u001b[0m\n\u001b[0m",
            "\u001b[0;32m<ipython-input-59-8d5f69d028de>\u001b[0m in \u001b[0;36mdo_prediction\u001b[0;34m(loader)\u001b[0m\n\u001b[1;32m      1\u001b[0m \u001b[0;32mdef\u001b[0m \u001b[0mdo_prediction\u001b[0m\u001b[0;34m(\u001b[0m\u001b[0mloader\u001b[0m\u001b[0;34m)\u001b[0m\u001b[0;34m:\u001b[0m\u001b[0;34m\u001b[0m\u001b[0;34m\u001b[0m\u001b[0m\n\u001b[0;32m----> 2\u001b[0;31m     \u001b[0mtrained_model\u001b[0m\u001b[0;34m.\u001b[0m\u001b[0meval\u001b[0m\u001b[0;34m(\u001b[0m\u001b[0;34m)\u001b[0m\u001b[0;34m\u001b[0m\u001b[0;34m\u001b[0m\u001b[0m\n\u001b[0m\u001b[1;32m      3\u001b[0m \u001b[0;34m\u001b[0m\u001b[0m\n\u001b[1;32m      4\u001b[0m     \u001b[0mfin_outputs\u001b[0m\u001b[0;34m=\u001b[0m\u001b[0;34m[\u001b[0m\u001b[0;34m]\u001b[0m\u001b[0;34m\u001b[0m\u001b[0;34m\u001b[0m\u001b[0m\n\u001b[1;32m      5\u001b[0m     \u001b[0;32mwith\u001b[0m \u001b[0mtorch\u001b[0m\u001b[0;34m.\u001b[0m\u001b[0mno_grad\u001b[0m\u001b[0;34m(\u001b[0m\u001b[0;34m)\u001b[0m\u001b[0;34m:\u001b[0m\u001b[0;34m\u001b[0m\u001b[0;34m\u001b[0m\u001b[0m\n",
            "\u001b[0;31mNameError\u001b[0m: name 'trained_model' is not defined"
          ]
        }
      ]
    },
    {
      "cell_type": "code",
      "metadata": {
        "colab": {
          "base_uri": "https://localhost:8080/"
        },
        "id": "mIwLEA6Ck4th",
        "outputId": "f9a055b6-8e1a-4335-daa9-c097e0482a23"
      },
      "source": [
        "len(pred_outputs)"
      ],
      "execution_count": null,
      "outputs": [
        {
          "output_type": "execute_result",
          "data": {
            "text/plain": [
              "479"
            ]
          },
          "metadata": {
            "tags": []
          },
          "execution_count": 103
        }
      ]
    },
    {
      "cell_type": "code",
      "metadata": {
        "id": "YmUDUEiy83BZ"
      },
      "source": [
        "val_pred = (np.array(pred_outputs))\n",
        "val_pred = np.argmax(val_pred, axis=1)"
      ],
      "execution_count": null,
      "outputs": []
    },
    {
      "cell_type": "code",
      "metadata": {
        "colab": {
          "base_uri": "https://localhost:8080/"
        },
        "id": "z-TUPh9Lk-Za",
        "outputId": "067d146b-bb19-485c-d3ea-2b6c4bea32c3"
      },
      "source": [
        "val_pred"
      ],
      "execution_count": null,
      "outputs": [
        {
          "output_type": "execute_result",
          "data": {
            "text/plain": [
              "array([4, 4, 5, 3, 1, 5, 5, 1, 4, 2, 3, 3, 4, 4, 5, 1, 1, 1, 5, 2, 3, 3,\n",
              "       3, 3, 5, 4, 5, 5, 5, 1, 1, 2, 3, 4, 5, 1, 1, 1, 1, 2, 4, 3, 4, 5,\n",
              "       5, 2, 3, 3, 3, 3, 4, 4, 4, 4, 5, 1, 1, 2, 3, 3, 4, 4, 4, 5, 1, 1,\n",
              "       1, 1, 3, 3, 3, 3, 3, 4, 4, 3, 4, 4, 4, 4, 5, 1, 1, 1, 2, 2, 4, 5,\n",
              "       1, 1, 1, 2, 4, 4, 4, 5, 1, 1, 1, 5, 1, 3, 4, 4, 4, 4, 4, 4, 5, 5,\n",
              "       2, 3, 3, 3, 3, 3, 3, 3, 5, 5, 5, 5, 4, 1, 1, 2, 3, 3, 3, 3, 3, 4,\n",
              "       4, 4, 4, 4, 4, 4, 5, 1, 3, 4, 4, 4, 4, 1, 1, 1, 2, 2, 3, 3, 3, 4,\n",
              "       4, 5, 1, 1, 2, 3, 3, 3, 3, 4, 4, 4, 4, 5, 1, 1, 1, 5, 1, 3, 4, 4,\n",
              "       4, 4, 4, 4, 4, 4, 3, 4, 4, 4, 1, 2, 1, 2, 3, 3, 3, 4, 4, 4, 3, 3,\n",
              "       5, 2, 4, 4, 4, 4, 5, 5, 2, 3, 3, 4, 3, 3, 5, 1, 2, 3, 3, 3, 4, 4,\n",
              "       4, 5, 2, 2, 3, 3, 3, 3, 1, 3, 5, 2, 3, 5, 1, 3, 4, 4, 5, 4, 1, 5,\n",
              "       1, 5, 1, 2, 3, 3, 4, 4, 4, 4, 4, 4, 4, 5, 5, 1, 5, 4, 4, 4, 4, 1,\n",
              "       5, 5, 4, 4, 4, 1, 1, 4, 3, 3, 3, 3, 4, 4, 1, 5, 5, 1, 1, 1, 3, 3,\n",
              "       3, 4, 4, 4, 4, 4, 1, 4, 2, 3, 3, 2, 4, 4, 2, 3, 3, 3, 3, 4, 5, 1,\n",
              "       2, 3, 3, 3, 3, 3, 4, 4, 4, 4, 5, 5, 5, 1, 1, 2, 3, 4, 1, 4, 4, 1,\n",
              "       5, 5, 1, 5, 5, 2, 3, 4, 3, 4, 4, 4, 1, 1, 1, 1, 1, 2, 5, 3, 3, 5,\n",
              "       2, 1, 2, 3, 3, 3, 3, 4, 4, 5, 4, 5, 2, 2, 3, 3, 3, 4, 4, 4, 4, 4,\n",
              "       3, 4, 5, 4, 4, 4, 4, 5, 5, 5, 4, 4, 5, 5, 2, 3, 4, 4, 4, 4, 5, 1,\n",
              "       1, 1, 5, 4, 5, 5, 1, 1, 3, 4, 3, 4, 1, 5, 5, 1, 5, 2, 3, 4, 4, 4,\n",
              "       4, 1, 5, 1, 2, 3, 4, 3, 5, 1, 5, 1, 1, 1, 5, 2, 3, 3, 5, 5, 5, 1,\n",
              "       1, 2, 4, 4, 3, 4, 4, 3, 4, 4, 5, 1, 1, 1, 2, 3, 4, 3, 3, 4, 4, 3,\n",
              "       3, 4, 5, 1, 1, 2, 3, 3, 4, 4, 4, 4, 4, 1, 5, 1, 5])"
            ]
          },
          "metadata": {
            "tags": []
          },
          "execution_count": 105
        }
      ]
    },
    {
      "cell_type": "code",
      "metadata": {
        "id": "MRrTICkR85Mg"
      },
      "source": [
        "val_target = np.argmax(labels, axis=1)"
      ],
      "execution_count": null,
      "outputs": []
    },
    {
      "cell_type": "code",
      "metadata": {
        "id": "XDvzhNdh8_LK"
      },
      "source": [
        "val_target = val_target[2800:]"
      ],
      "execution_count": null,
      "outputs": []
    },
    {
      "cell_type": "code",
      "metadata": {
        "colab": {
          "base_uri": "https://localhost:8080/"
        },
        "id": "aOsUX0u79LK0",
        "outputId": "e62c7903-afb5-4a29-e142-2feff70e4ae5"
      },
      "source": [
        "accuracy = metrics.accuracy_score(val_target, val_pred)\n",
        "f1_score_micro = metrics.f1_score(val_target, val_pred, average='micro')\n",
        "f1_score_macro = metrics.f1_score(val_target, val_pred, average='macro')\n",
        "print(f\"Accuracy Score = {accuracy}\")\n",
        "print(f\"F1 Score (Micro) = {f1_score_micro}\") #计算所有类的recall 和 precision，由公式f1=2*(r*p)/(r+p)\n",
        "print(f\"F1 Score (Macro) = {f1_score_macro}\") #所有类的f1值的和除以类别数，eg:(f1+f2+f3)/3"
      ],
      "execution_count": null,
      "outputs": [
        {
          "output_type": "stream",
          "text": [
            "Accuracy Score = 0.7891440501043842\n",
            "F1 Score (Micro) = 0.7891440501043842\n",
            "F1 Score (Macro) = 0.7931282524562374\n"
          ],
          "name": "stdout"
        }
      ]
    },
    {
      "cell_type": "code",
      "metadata": {
        "id": "XDFwYIkN9Vcu"
      },
      "source": [
        "from sklearn.metrics import multilabel_confusion_matrix as mcm, classification_report"
      ],
      "execution_count": null,
      "outputs": []
    },
    {
      "cell_type": "code",
      "metadata": {
        "id": "AlkUBo549Zvi"
      },
      "source": [
        "cm_labels = [\"B\", \"O\", \"M\", \"R\", \"C\"]\n",
        "    \n",
        "cm = mcm(val_target, val_pred)#混淆矩阵"
      ],
      "execution_count": null,
      "outputs": []
    },
    {
      "cell_type": "code",
      "metadata": {
        "colab": {
          "base_uri": "https://localhost:8080/"
        },
        "id": "BTuda7Y29a7n",
        "outputId": "3093d811-4a4d-490e-c5f8-903d4c51728f"
      },
      "source": [
        "print(classification_report(val_target, val_pred,target_names=cm_labels))"
      ],
      "execution_count": null,
      "outputs": [
        {
          "output_type": "stream",
          "text": [
            "              precision    recall  f1-score   support\n",
            "\n",
            "           B       0.82      0.72      0.76        88\n",
            "           O       0.81      0.87      0.84        39\n",
            "           M       0.87      0.79      0.83       120\n",
            "           R       0.78      0.83      0.81       152\n",
            "           C       0.58      0.65      0.61        80\n",
            "\n",
            "    accuracy                           0.77       479\n",
            "   macro avg       0.77      0.77      0.77       479\n",
            "weighted avg       0.78      0.77      0.77       479\n",
            "\n"
          ],
          "name": "stdout"
        }
      ]
    },
    {
      "cell_type": "code",
      "metadata": {
        "id": "Pu_UV65V9cwT"
      },
      "source": [
        "import matplotlib.pyplot as plt\n",
        "import seaborn as sns\n",
        "\n",
        "\n",
        "def print_confusion_matrix(confusion_matrix, axes, class_label, class_names, fontsize=14):\n",
        "\n",
        "    df_cm = pd.DataFrame(\n",
        "        confusion_matrix, index=class_names, columns=class_names,\n",
        "    )\n",
        "\n",
        "    try:\n",
        "        heatmap = sns.heatmap(df_cm, annot=True, fmt=\"d\", cbar=False, ax=axes)\n",
        "    except ValueError:\n",
        "        raise ValueError(\"Confusion matrix values must be integers.\")\n",
        "    heatmap.yaxis.set_ticklabels(heatmap.yaxis.get_ticklabels(), rotation=0, ha='right', fontsize=fontsize)\n",
        "    heatmap.xaxis.set_ticklabels(heatmap.xaxis.get_ticklabels(), rotation=0, ha='right', fontsize=fontsize)\n",
        "    axes.set_xlabel('True label')\n",
        "    axes.set_ylabel('Predicted label')\n",
        "    axes.set_title(\"Confusion Matrix for the class - \" + class_label)"
      ],
      "execution_count": null,
      "outputs": []
    },
    {
      "cell_type": "code",
      "metadata": {
        "colab": {
          "base_uri": "https://localhost:8080/",
          "height": 513
        },
        "id": "9xo6R9qJ9fTU",
        "outputId": "a08ef1f7-7d00-41ee-e648-c2221fced873"
      },
      "source": [
        "sns.set_style(\"whitegrid\")\n",
        "fig, ax = plt.subplots(4, 2, figsize=(12, 7))\n",
        "for axes, cfs_matrix, label in zip(ax.flatten(), cm, cm_labels):\n",
        "  print_confusion_matrix(cfs_matrix, axes, label, [\"1\", \"0\"])\n",
        "fig.tight_layout()\n",
        "plt.show()"
      ],
      "execution_count": null,
      "outputs": [
        {
          "output_type": "display_data",
          "data": {
            "image/png": "[encoded data removed]",
            "text/plain": [
              "<Figure size 864x504 with 8 Axes>"
            ]
          },
          "metadata": {
            "tags": []
          }
        }
      ]
    },
    {
      "cell_type": "code",
      "metadata": {
        "colab": {
          "base_uri": "https://localhost:8080/",
          "height": 419
        },
        "id": "xjoOIVl09goD",
        "outputId": "2831828b-dfc8-4a47-ff20-1a879849994e"
      },
      "source": [
        "df_test"
      ],
      "execution_count": null,
      "outputs": [
        {
          "output_type": "execute_result",
          "data": {
            "text/html": [
              "<div>\n",
              "<style scoped>\n",
              "    .dataframe tbody tr th:only-of-type {\n",
              "        vertical-align: middle;\n",
              "    }\n",
              "\n",
              "    .dataframe tbody tr th {\n",
              "        vertical-align: top;\n",
              "    }\n",
              "\n",
              "    .dataframe thead th {\n",
              "        text-align: right;\n",
              "    }\n",
              "</style>\n",
              "<table border=\"1\" class=\"dataframe\">\n",
              "  <thead>\n",
              "    <tr style=\"text-align: right;\">\n",
              "      <th></th>\n",
              "      <th>text</th>\n",
              "      <th>labels</th>\n",
              "    </tr>\n",
              "  </thead>\n",
              "  <tbody>\n",
              "    <tr>\n",
              "      <th>0</th>\n",
              "      <td>physical, chemical, ergonomic and radiation ri...</td>\n",
              "      <td>[0.0, 0.0, 0.0, 0.0, 1.0, 0.0]</td>\n",
              "    </tr>\n",
              "    <tr>\n",
              "      <th>1</th>\n",
              "      <td>the general occupational risk factor score was...</td>\n",
              "      <td>[0.0, 0.0, 0.0, 0.0, 1.0, 0.0]</td>\n",
              "    </tr>\n",
              "    <tr>\n",
              "      <th>2</th>\n",
              "      <td>nurses working night duty were confronted with...</td>\n",
              "      <td>[0.0, 0.0, 0.0, 0.0, 1.0, 0.0]</td>\n",
              "    </tr>\n",
              "    <tr>\n",
              "      <th>3</th>\n",
              "      <td>reported occupational health problems by nurse...</td>\n",
              "      <td>[0.0, 0.0, 0.0, 0.0, 0.0, 1.0]</td>\n",
              "    </tr>\n",
              "    <tr>\n",
              "      <th>4</th>\n",
              "      <td>nurses experience different occupational risks.</td>\n",
              "      <td>[0.0, 0.0, 0.0, 0.0, 0.0, 1.0]</td>\n",
              "    </tr>\n",
              "    <tr>\n",
              "      <th>...</th>\n",
              "      <td>...</td>\n",
              "      <td>...</td>\n",
              "    </tr>\n",
              "    <tr>\n",
              "      <th>474</th>\n",
              "      <td>the risk of msp was greater for ad, female, ar...</td>\n",
              "      <td>[0.0, 0.0, 0.0, 0.0, 1.0, 0.0]</td>\n",
              "    </tr>\n",
              "    <tr>\n",
              "      <th>475</th>\n",
              "      <td>evidence suggests posttraumatic headache, occu...</td>\n",
              "      <td>[0.0, 0.0, 0.0, 0.0, 1.0, 0.0]</td>\n",
              "    </tr>\n",
              "    <tr>\n",
              "      <th>476</th>\n",
              "      <td>nurses must recognize the consequences militar...</td>\n",
              "      <td>[0.0, 0.0, 0.0, 0.0, 0.0, 1.0]</td>\n",
              "    </tr>\n",
              "    <tr>\n",
              "      <th>477</th>\n",
              "      <td>nurses have an opportunity to positively impac...</td>\n",
              "      <td>[0.0, 0.0, 0.0, 0.0, 0.0, 1.0]</td>\n",
              "    </tr>\n",
              "    <tr>\n",
              "      <th>478</th>\n",
              "      <td>the findings from this review underscore consi...</td>\n",
              "      <td>[0.0, 0.0, 0.0, 0.0, 0.0, 1.0]</td>\n",
              "    </tr>\n",
              "  </tbody>\n",
              "</table>\n",
              "<p>479 rows × 2 columns</p>\n",
              "</div>"
            ],
            "text/plain": [
              "                                                  text                          labels\n",
              "0    physical, chemical, ergonomic and radiation ri...  [0.0, 0.0, 0.0, 0.0, 1.0, 0.0]\n",
              "1    the general occupational risk factor score was...  [0.0, 0.0, 0.0, 0.0, 1.0, 0.0]\n",
              "2    nurses working night duty were confronted with...  [0.0, 0.0, 0.0, 0.0, 1.0, 0.0]\n",
              "3    reported occupational health problems by nurse...  [0.0, 0.0, 0.0, 0.0, 0.0, 1.0]\n",
              "4      nurses experience different occupational risks.  [0.0, 0.0, 0.0, 0.0, 0.0, 1.0]\n",
              "..                                                 ...                             ...\n",
              "474  the risk of msp was greater for ad, female, ar...  [0.0, 0.0, 0.0, 0.0, 1.0, 0.0]\n",
              "475  evidence suggests posttraumatic headache, occu...  [0.0, 0.0, 0.0, 0.0, 1.0, 0.0]\n",
              "476  nurses must recognize the consequences militar...  [0.0, 0.0, 0.0, 0.0, 0.0, 1.0]\n",
              "477  nurses have an opportunity to positively impac...  [0.0, 0.0, 0.0, 0.0, 0.0, 1.0]\n",
              "478  the findings from this review underscore consi...  [0.0, 0.0, 0.0, 0.0, 0.0, 1.0]\n",
              "\n",
              "[479 rows x 2 columns]"
            ]
          },
          "metadata": {
            "tags": []
          },
          "execution_count": 110
        }
      ]
    },
    {
      "cell_type": "code",
      "metadata": {
        "id": "uroumQZk9k0i"
      },
      "source": [
        "val_target = np.argmax(labels, axis=1)\n",
        "val_target = val_target[2800:]"
      ],
      "execution_count": null,
      "outputs": []
    },
    {
      "cell_type": "code",
      "metadata": {
        "id": "Jj9Y2EXZ9v2n"
      },
      "source": [
        "testing_set = PrepForPredictionDataset(df_test, tokenizer, MAX_LEN)\n",
        "testing_loader = DataLoader(testing_set, **test_params)\n",
        "pred_outputs = do_prediction(testing_loader)\n"
      ],
      "execution_count": null,
      "outputs": []
    },
    {
      "cell_type": "code",
      "metadata": {
        "id": "umUT_lW990Kl"
      },
      "source": [
        "val_pred = (np.array(pred_outputs))\n",
        "val_pred = np.argmax(val_pred, axis=1)"
      ],
      "execution_count": null,
      "outputs": []
    },
    {
      "cell_type": "code",
      "metadata": {
        "colab": {
          "base_uri": "https://localhost:8080/"
        },
        "id": "Ozmjm63y92In",
        "outputId": "ced5e1f7-676b-4627-c985-e712e5fbcdd7"
      },
      "source": [
        "accuracy = metrics.accuracy_score(val_target, val_pred)\n",
        "f1_score_micro = metrics.f1_score(val_target, val_pred, average='micro')\n",
        "f1_score_macro = metrics.f1_score(val_target, val_pred, average='macro')\n",
        "print(f\"Accuracy Score = {accuracy}\")\n",
        "print(f\"F1 Score (Micro) = {f1_score_micro}\") \n",
        "print(f\"F1 Score (Macro) = {f1_score_macro}\") "
      ],
      "execution_count": null,
      "outputs": [
        {
          "output_type": "stream",
          "text": [
            "Accuracy Score = 0.7891440501043842\n",
            "F1 Score (Micro) = 0.7891440501043842\n",
            "F1 Score (Macro) = 0.7931282524562374\n"
          ],
          "name": "stdout"
        }
      ]
    },
    {
      "cell_type": "code",
      "metadata": {
        "colab": {
          "base_uri": "https://localhost:8080/"
        },
        "id": "vXGyHwmt9391",
        "outputId": "835e910c-72a7-405e-b42a-db04c6559ff3"
      },
      "source": [
        "len(val_pred)"
      ],
      "execution_count": null,
      "outputs": [
        {
          "output_type": "execute_result",
          "data": {
            "text/plain": [
              "479"
            ]
          },
          "metadata": {
            "tags": []
          },
          "execution_count": 115
        }
      ]
    },
    {
      "cell_type": "code",
      "metadata": {
        "colab": {
          "base_uri": "https://localhost:8080/"
        },
        "id": "j_NbqwaW-ASH",
        "outputId": "4142ea7d-9396-4584-afab-76f5d1cbc41d"
      },
      "source": [
        "cm = mcm(val_target, val_pred)\n",
        "print(classification_report(val_target, val_pred,target_names=cm_labels))"
      ],
      "execution_count": null,
      "outputs": [
        {
          "output_type": "stream",
          "text": [
            "              precision    recall  f1-score   support\n",
            "\n",
            "           B       0.81      0.83      0.82        88\n",
            "           O       0.83      0.87      0.85        39\n",
            "           M       0.84      0.79      0.82       120\n",
            "           R       0.78      0.79      0.78       152\n",
            "           C       0.69      0.70      0.70        80\n",
            "\n",
            "    accuracy                           0.79       479\n",
            "   macro avg       0.79      0.80      0.79       479\n",
            "weighted avg       0.79      0.79      0.79       479\n",
            "\n"
          ],
          "name": "stdout"
        }
      ]
    },
    {
      "cell_type": "code",
      "metadata": {
        "colab": {
          "base_uri": "https://localhost:8080/",
          "height": 513
        },
        "id": "0y8E_fZZ-E2l",
        "outputId": "6a9121f9-5c25-4d50-9af5-3113f8ffe716"
      },
      "source": [
        "sns.set_style(\"whitegrid\")\n",
        "fig, ax = plt.subplots(4, 2, figsize=(12, 7))\n",
        "for axes, cfs_matrix, label in zip(ax.flatten(), cm, cm_labels):\n",
        "  print_confusion_matrix(cfs_matrix, axes, label, [\"1\", \"0\"])\n",
        "fig.tight_layout()\n",
        "plt.show()"
      ],
      "execution_count": null,
      "outputs": [
        {
          "output_type": "display_data",
          "data": {
            "image/png": "[encoded data removed]",
            "text/plain": [
              "<Figure size 864x504 with 8 Axes>"
            ]
          },
          "metadata": {
            "tags": []
          }
        }
      ]
    },
    {
      "cell_type": "code",
      "metadata": {
        "colab": {
          "base_uri": "https://localhost:8080/"
        },
        "id": "4BEnsmG5-JQN",
        "outputId": "54459a10-4712-4035-b3e8-83b5530047a3"
      },
      "source": [
        "cm"
      ],
      "execution_count": null,
      "outputs": [
        {
          "output_type": "execute_result",
          "data": {
            "text/plain": [
              "array([[[369,  22],\n",
              "        [ 20,  68]],\n",
              "\n",
              "       [[433,   7],\n",
              "        [  6,  33]],\n",
              "\n",
              "       [[341,  18],\n",
              "        [ 20, 100]],\n",
              "\n",
              "       [[294,  33],\n",
              "        [ 27, 125]],\n",
              "\n",
              "       [[371,  28],\n",
              "        [ 35,  45]]])"
            ]
          },
          "metadata": {
            "tags": []
          },
          "execution_count": 71
        }
      ]
    },
    {
      "cell_type": "code",
      "metadata": {
        "id": "URw7bbZo-MH_"
      },
      "source": [
        ""
      ],
      "execution_count": null,
      "outputs": []
    },
    {
      "cell_type": "markdown",
      "metadata": {
        "id": "bOFbph4SVs9I"
      },
      "source": [
        "Test on the model trained by the Pubmed 20k"
      ]
    },
    {
      "cell_type": "code",
      "metadata": {
        "id": "ixxn9K2NVxE5"
      },
      "source": [
        "checkpoint_path = '/content/gdrive/MyDrive/bert_imrd_models/current_checkpoint.pt'\n",
        "best_model = '/content/gdrive/MyDrive/bert_imrd_models/best_model.pt'"
      ],
      "execution_count": null,
      "outputs": []
    },
    {
      "cell_type": "code",
      "metadata": {
        "id": "qdjqjMHDV046"
      },
      "source": [
        "class PrepForPredictionDataset(Dataset):\n",
        "\n",
        "    def __init__(self, dataframe, tokenizer, max_len):\n",
        "        self.tokenizer = tokenizer\n",
        "        self.data = dataframe\n",
        "        self.title = dataframe['text']\n",
        "        #self.targets = self.data.target_list\n",
        "        self.max_len = max_len\n",
        "\n",
        "    def __len__(self):\n",
        "        return len(self.title)\n",
        "\n",
        "    def __getitem__(self, index):\n",
        "        title = str(self.title[index])\n",
        "        title = \" \".join(title.split())\n",
        "\n",
        "        inputs = self.tokenizer.encode_plus(\n",
        "            title,\n",
        "            None,\n",
        "            add_special_tokens=True,\n",
        "            max_length=self.max_len,\n",
        "            padding='max_length',\n",
        "            return_token_type_ids=True,\n",
        "            truncation=True\n",
        "        )\n",
        "        ids = inputs['input_ids']\n",
        "        mask = inputs['attention_mask']\n",
        "        token_type_ids = inputs[\"token_type_ids\"]\n",
        "\n",
        "\n",
        "        return {\n",
        "            'ids': torch.tensor(ids, dtype=torch.long),\n",
        "            'mask': torch.tensor(mask, dtype=torch.long),\n",
        "            'token_type_ids': torch.tensor(token_type_ids, dtype=torch.long),\n",
        "           # 'targets': torch.tensor(self.targets[index], dtype=torch.float)\n",
        "        }"
      ],
      "execution_count": null,
      "outputs": []
    },
    {
      "cell_type": "code",
      "metadata": {
        "id": "YR_e9f01V422"
      },
      "source": [
        "def do_prediction(loader):\n",
        "    trained_model.eval()\n",
        "   \n",
        "    fin_outputs=[]\n",
        "    with torch.no_grad():\n",
        "        for _, data in enumerate(loader):\n",
        "            ids = data['ids'].to(device, dtype = torch.long)\n",
        "            mask = data['mask'].to(device, dtype = torch.long)\n",
        "            token_type_ids = data['token_type_ids'].to(device, dtype = torch.long)\n",
        "            #targets = data['targets'].to(device, dtype = torch.float)\n",
        "            outputs = model(ids, mask, token_type_ids)\n",
        "            #fin_targets.extend(targets.cpu().detach().numpy().tolist())\n",
        "            fin_outputs.extend(torch.sigmoid(outputs).cpu().detach().numpy().tolist())\n",
        "    return fin_outputs"
      ],
      "execution_count": null,
      "outputs": []
    },
    {
      "cell_type": "code",
      "metadata": {
        "id": "wF9vTm8VV6-I"
      },
      "source": [
        "import matplotlib.pyplot as plt\n",
        "import seaborn as sns\n",
        "\n",
        "\n",
        "def print_confusion_matrix(confusion_matrix, axes, class_label, class_names, fontsize=14):\n",
        "\n",
        "    df_cm = pd.DataFrame(\n",
        "        confusion_matrix, index=class_names, columns=class_names,\n",
        "    )\n",
        "\n",
        "    try:\n",
        "        heatmap = sns.heatmap(df_cm, annot=True, fmt=\"d\", cbar=False, ax=axes)\n",
        "    except ValueError:\n",
        "        raise ValueError(\"Confusion matrix values must be integers.\")\n",
        "    heatmap.yaxis.set_ticklabels(heatmap.yaxis.get_ticklabels(), rotation=0, ha='right', fontsize=fontsize)\n",
        "    heatmap.xaxis.set_ticklabels(heatmap.xaxis.get_ticklabels(), rotation=0, ha='right', fontsize=fontsize)\n",
        "    axes.set_xlabel('True label')\n",
        "    axes.set_ylabel('Predicted label')\n",
        "    axes.set_title(\"Confusion Matrix for the class - \" + class_label)"
      ],
      "execution_count": null,
      "outputs": []
    },
    {
      "cell_type": "code",
      "metadata": {
        "id": "XKEi1GXOWCAs"
      },
      "source": [
        "trained_model, optimizer = load_ckp(checkpoint_path, model, optimizer)\n"
      ],
      "execution_count": null,
      "outputs": []
    },
    {
      "cell_type": "code",
      "metadata": {
        "id": "m9iyLVT-WIk7"
      },
      "source": [
        "testing_set = PrepForPredictionDataset(df_test, tokenizer, MAX_LEN)\n",
        "testing_loader = DataLoader(testing_set, **test_params)\n",
        "pred_outputs = do_prediction(testing_loader)\n"
      ],
      "execution_count": null,
      "outputs": []
    },
    {
      "cell_type": "code",
      "metadata": {
        "id": "OoS5WScVWNj4"
      },
      "source": [
        "val_pred = (np.array(pred_outputs))\n",
        "val_pred = np.argmax(val_pred, axis=1)"
      ],
      "execution_count": null,
      "outputs": []
    },
    {
      "cell_type": "code",
      "metadata": {
        "colab": {
          "base_uri": "https://localhost:8080/"
        },
        "id": "pT9G1VQmp-kM",
        "outputId": "b5112167-47e2-4b49-a4c7-e5622d340abf"
      },
      "source": [
        "len(val_pred)"
      ],
      "execution_count": null,
      "outputs": [
        {
          "output_type": "execute_result",
          "data": {
            "text/plain": [
              "563"
            ]
          },
          "metadata": {
            "tags": []
          },
          "execution_count": 67
        }
      ]
    },
    {
      "cell_type": "code",
      "metadata": {
        "id": "yEv9P4pVYdgi"
      },
      "source": [
        "val_target = np.argmax(labels, axis=1)"
      ],
      "execution_count": null,
      "outputs": []
    },
    {
      "cell_type": "code",
      "metadata": {
        "id": "bO4rKR5tqFCq"
      },
      "source": [
        "val_target = np.argmax(labels, axis=1)\n",
        "val_target = val_target[2716:]"
      ],
      "execution_count": null,
      "outputs": []
    },
    {
      "cell_type": "code",
      "metadata": {
        "colab": {
          "base_uri": "https://localhost:8080/"
        },
        "id": "s7tD-b-KXcKY",
        "outputId": "9b523794-5a05-4ca0-aadf-d1bd832ecb51"
      },
      "source": [
        "accuracy = metrics.accuracy_score(val_target, val_pred)\n",
        "f1_score_micro = metrics.f1_score(val_target, val_pred, average='micro')\n",
        "f1_score_macro = metrics.f1_score(val_target, val_pred, average='macro')\n",
        "print(f\"Accuracy Score = {accuracy}\")\n",
        "print(f\"F1 Score (Micro) = {f1_score_micro}\") #计算所有类的recall 和 precision，由公式f1=2*(r*p)/(r+p)\n",
        "print(f\"F1 Score (Macro) = {f1_score_macro}\") #所有类的f1值的和除以类别数，eg:(f1+f2+f3)/3"
      ],
      "execution_count": null,
      "outputs": [
        {
          "output_type": "stream",
          "text": [
            "Accuracy Score = 0.7886323268206039\n",
            "F1 Score (Micro) = 0.7886323268206039\n",
            "F1 Score (Macro) = 0.7998818623864894\n"
          ],
          "name": "stdout"
        }
      ]
    },
    {
      "cell_type": "code",
      "metadata": {
        "colab": {
          "base_uri": "https://localhost:8080/"
        },
        "id": "BrW0EydVX2KO",
        "outputId": "d012b3ee-fecd-4a14-8028-3bb4a9efcb65"
      },
      "source": [
        "from sklearn.metrics import confusion_matrix\n",
        "confusion_matrix(val_target, val_pred)"
      ],
      "execution_count": null,
      "outputs": [
        {
          "output_type": "execute_result",
          "data": {
            "text/plain": [
              "array([[ 81,   2,   1,   1,  14],\n",
              "       [  1,  43,   3,   0,   0],\n",
              "       [  0,   6, 117,  16,   4],\n",
              "       [  2,   1,   5, 123,  50],\n",
              "       [ 10,   0,   2,   1,  80]])"
            ]
          },
          "metadata": {
            "tags": []
          },
          "execution_count": 71
        }
      ]
    },
    {
      "cell_type": "code",
      "metadata": {
        "id": "-qNOrsMAOLHy"
      },
      "source": [
        "from sklearn.metrics import multilabel_confusion_matrix as mcm, classification_report"
      ],
      "execution_count": null,
      "outputs": []
    },
    {
      "cell_type": "code",
      "metadata": {
        "colab": {
          "base_uri": "https://localhost:8080/"
        },
        "id": "S28o-w4pOMG_",
        "outputId": "a8259f58-0257-4243-d22f-6f46176060bb"
      },
      "source": [
        "target_names = [\"B\",\"O\",\"M\",\"R\", \"C\"]\n",
        "print(classification_report(val_target, val_pred, target_names = target_names))"
      ],
      "execution_count": null,
      "outputs": [
        {
          "output_type": "stream",
          "text": [
            "              precision    recall  f1-score   support\n",
            "\n",
            "           B       0.86      0.82      0.84        99\n",
            "           O       0.83      0.91      0.87        47\n",
            "           M       0.91      0.82      0.86       143\n",
            "           R       0.87      0.68      0.76       181\n",
            "           C       0.54      0.86      0.66        93\n",
            "\n",
            "    accuracy                           0.79       563\n",
            "   macro avg       0.80      0.82      0.80       563\n",
            "weighted avg       0.82      0.79      0.79       563\n",
            "\n"
          ],
          "name": "stdout"
        }
      ]
    },
    {
      "cell_type": "code",
      "metadata": {
        "colab": {
          "base_uri": "https://localhost:8080/"
        },
        "id": "-ISUiA6LX6IJ",
        "outputId": "f14b6f55-99eb-4f84-b1e8-0c06af9982db"
      },
      "source": [
        "for i in range(len(val_target)):\n",
        "    if val_target[i] != val_pred[i]:\n",
        "        print(train_dataset.iloc[i][\"text\"], 'has been classified as ', val_target[i], 'and should be ', val_pred[i]) \n",
        "    #     print(count)\n",
        "    #     count_ += 1\n",
        "    # count += 1"
      ],
      "execution_count": null,
      "outputs": [
        {
          "output_type": "stream",
          "text": [
            "the aepex and the bispectral index (bis) were recorded simultaneously, the latter serving as a reference. has been classified as  4 and should be  5\n",
            "the ability of the aepex to detect different levels of consciousness, defined according to the university of michigan sedation scale, investigated using prediction probability (pk), and receiver operating characteristic (roc) analysis, served as the primary outcome parameter. has been classified as  5 and should be  3\n",
            "as a secondary outcome parameter, the relationship between end-tidal desflurane and the aepex and bis values were calculated by fitting in a nonlinear regression model. has been classified as  5 and should be  1\n",
            "the age-corrected end-tidal desflurane concentration associated with an index value of 50 (ec50) was 0.59 minimum alveolar concentration (interquartile range: 0.38-0.85) and 0.58 minimum alveolar concentration (interquartile range: 0.41-0.70) for, respectively, the aepex and bis (p = .69). has been classified as  1 and should be  4\n",
            "the mho group had significantly lower serum insulin concentrations ( p = 0.006) and diastolic bp ( p = 0.035). has been classified as  1 and should be  5\n",
            "concentrations of serum 25ohd, total triglycerides, c-reactive protein and systolic bp did not differ between groups. has been classified as  1 and should be  2\n",
            "quantitative real-time pcr and immunohistochemistry were performed to determine the expression of mir-592 and its putative targets in human tissues and cell lines. has been classified as  4 and should be  5\n",
            "a dual-luciferase reporter assay was used to determine whether mir-592 could directly bind its target. has been classified as  4 and should be  5\n",
            "our findings suggest that the relative cytoarchitectural differentiation of cortical areas is the main determinant of laminar projection origins in cat visual cortex, and may underlie a general laminar regularity of mammalian cortical connections. has been classified as  3 and should be  4\n",
            "predictors correlated with mortality during follow-up were systolic blood pressure <110 mm hg, male sex, age older than 70 years, 6-minute walk distance <300 m, lack of beta-blocker therapy, hyperuricemia (>7.5 mg/dl), hyponatremia, and prolonged qtc interval (>450 ms). has been classified as  4 and should be  3\n",
            "the myocardial expression of autophagy-associated proteins was examined using immunoblotting. has been classified as  3 and should be  2\n",
            "about 30 % of adult dm cases are associated with a malignancy. has been classified as  1 and should be  5\n",
            "this fact, however, should not delay the treatment of severe myositis. has been classified as  2 and should be  1\n",
            "a canal wall-up mastoidectomy, facial recess, and retrofacial approach were performed in all specimens. has been classified as  4 and should be  5\n",
            "we have noted whether we need a standard or an extended mastoidectomy. has been classified as  4 and should be  5\n",
            "the round window-sigmoid sinus line was posterior to the fn in all specimens. has been classified as  4 and should be  5\n",
            "extended mastoidectomy was required in seven specimens and the psc-fn was </= 3 mm in five of them. has been classified as  5 and should be  4\n",
            "homa-ir was improved in t, d, and t-id, whereas insulin-stimulated glucose clearance and suppression of plasma nonesterified fatty acids (nefas) were increased only in the two training groups. has been classified as  4 and should be  3\n",
            "physical limitations were observed in the first two mirs grades (37.5-42.1% of the participants) for the tug and 10mwt. has been classified as  2 and should be  3\n",
            "both ankle dorsiflexors and knee extensors appear to be good indicators of physical limitations in dm1. has been classified as  5 and should be  4\n",
            "results showed that mortality from als was higher in people who had medium or high elf-mf exposure in both censuses (hr 1.55 (95% ci 1.11-2.15)), but closer to unity for electrical shocks (hr 1.17 (95% ci 0.83-1.65)). has been classified as  1 and should be  5\n",
            "the suprachiasmatic nucleus (scn) of the hypothalamus is a multioscillator system that drives daily rhythms in mammalian behavior and physiology. has been classified as  3 and should be  4\n",
            "based on recent data implicating vasoactive intestinal polypeptide (vip) as the key intercellular synchronizing agent, we developed a multicellular scn model to investigate the effects of cellular heterogeneity and intercellular connectivity on circadian behavior. has been classified as  3 and should be  4\n",
            "a 2-dimensional grid was populated with 400 model cells that were heterogeneous with respect to their uncoupled rhythmic behavior (intrinsic and damped pacemakers with a range of oscillation periods) and vip release characteristics (vip producers and nonproducers). has been classified as  3 and should be  4\n",
            "we constructed small-world network architectures in which local connections between vip producing cells and their 4 nearest neighbors were augmented with random connections, resulting in long-range coupling across the grid. has been classified as  3 and should be  4\n",
            "with only 10% of the total possible connections, the small-world network model was able to produce similar phase synchronization indices as a mean-field model with vip producing cells connected to all other cells. has been classified as  3 and should be  4\n",
            "partial removal of random connections decreased the synchrony among neurons, the amplitude of vip and camp response element binding protein oscillations, the mean period of intrinsic periods across the population, and the percentage of oscillating cells. has been classified as  3 and should be  4\n",
            "these results indicate that small-world connectivity provides the optimal compromise between the number of connections and control of circadian amplitude and synchrony. has been classified as  3 and should be  4\n",
            "this model predicts that small decreases in long-range vip connections in the scn could have dramatic effects on period and amplitude of daily rhythms, features commonly described with aging. has been classified as  3 and should be  4\n",
            "maternal exposure to zikv through mosquitoes and sexual fluids creates a public health challenge for communities and policymakers, which is exacerbated by high levels of chronic non-communicable diseases in american samoa. has been classified as  3 and should be  4\n",
            "this study aimed to identify structural barriers to zikv prevention in american samoa and situate them within locally relevant cultural and epidemiological contexts. has been classified as  3 and should be  4\n",
            "this study assessed knowledge, attitudes and access to zikv prevention among 180 adults in american samoan public health clinics. has been classified as  3 and should be  4\n",
            "it queried knowledge about pre-natal care, protection against mosquitoes and condom use. has been classified as  5 and should be  1\n",
            "women were most likely to identify pre-natal care as important. has been classified as  5 and should be  2\n",
            "uniform mesoporous tio(2) nanospheres were successfully developed via an interfacial confined formation process for application in dye-sensitized solar cells. has been classified as  3 and should be  4\n",
            "the oriented attachment of adjacent tio(2) nanocrystals facilitated the electron transfer process when the mesoporous tio(2) nanospheres were used as electrode films. has been classified as  4 and should be  3\n",
            "the dye coverage was enhanced remarkably in the mesoporous spherical tio(2) samples. has been classified as  4 and should be  3\n",
            "this paper defines common histopathological features of fsgs, distinguished characters among five variants, and points out the confusion about terminology of variants, because most were proposed in the past with different definitions. has been classified as  4 and should be  5\n",
            "lastly, a final diagnosis for each patient was proposed. has been classified as  4 and should be  3\n",
            "aatd had a significantly lower mean emphysema score than copd, with 8.9 +/- 3.4 versus 11.9 +/- 3.2 (p < 0.001), respectively. has been classified as  4 and should be  3\n",
            "eight years after, we observed an implant failure and now report on revision strategy and 2-year follow-up (f/u) after revision. has been classified as  5 and should be  4\n",
            "two years after revision surgery, the patient presented fully reintegrated without any complains. has been classified as  3 and should be  2\n",
            "therefore, the theoretical advantage of a biological solution needs to be checked in the long-term f/u for consistency. has been classified as  4 and should be  1\n",
            "anastomotic leak is a leading cause of morbidity and mortality in gastrointestinal surgery. has been classified as  5 and should be  3\n",
            "porcine ileum was transected in vivo and staple lines were collected and rated for degree of mucosal capture on a 5-point scale from 1 (mucosa mainly captured on both sides) to 5 (majority of mucosa not captured). has been classified as  2 and should be  3\n",
            "mucosal capture was also assessed in ex vivo staple lines, and fluid leakage pressure and location of first leak was assessed. has been classified as  1 and should be  5\n",
            "there are differences in degree of mucosal capture between commercial staplers, and the devices that produce better mucosal capture had significantly higher leak pressures. has been classified as  4 and should be  5\n",
            "further research is needed to determine the significance of these findings on staple line healing throughout the postoperative period. has been classified as  5 and should be  4\n",
            "the aim of this retrospective study was to determine the effect of skeletal muscle and body fat on liver function in patients with nonalcoholic fatty liver disease (nafld) diagnosed by liver biopsy. has been classified as  5 and should be  1\n",
            "multivariate analysis was used to identify factors influencing low skeletal muscle mass index (smi, defined as 7 kg/m(2) in men, and 5.7 kg/m(2) in women) and the skeletal muscle mass to body fat mass ratio (sf ratio). has been classified as  5 and should be  1\n",
            "caffeine can be used effectively as an ergogenic aid when taken in moderate doses, such as during sports when a small increase in endurance performance can lead to significant differences in placements as athletes are often separated by small margins. has been classified as  4 and should be  5\n",
            "the participants were recruited from advertisements and fulfilled criteria for insomnia diagnosis, and had depressive symptomatology (beck depression inventory-second edition: bdi-ii > 13). has been classified as  4 and should be  1\n",
            "insomnia severity (insomnia severity index) and depressive severity (bdi-ii) were measured at baseline, mid-treatment, post-treatment and 6-month follow-up. has been classified as  1 and should be  4\n",
            "the mid-treatment measures were used as mediators. has been classified as  1 and should be  4\n",
            "mediational analyses demonstrated a significant reciprocal relationship between insomnia severity and depressive severity throughout cbt-i, although mid-treatment insomnia had a stronger effect on depression than mid-treatment depression had on insomnia. has been classified as  1 and should be  4\n",
            "the findings emphasize the importance of making comorbid insomnia a treatment focus in its own right. has been classified as  3 and should be  4\n",
            "factors that have little to do with treatment literacy have impacted upon uptake and adherence. has been classified as  4 and should be  3\n",
            "(r)-(+)-pulegone (plg), a biotransformation of monoterpene ketones, is one of essential oils of labiatae family. has been classified as  5 and should be  1\n",
            "pro-inflammatory cytokines and serum ige levels were analyzed by elisa. has been classified as  2 and should be  3\n",
            "to evaluate the efficacy of endovascular repair of non-traumatic rupture of the descending thoracic aorta. has been classified as  1 and should be  4\n",
            "nine patients had type b dissections, and 13 had atherosclerotic aortic aneurysms. has been classified as  3 and should be  2\n",
            "thirteen patients (59%) received a single endograft, 8 (36%) received 2 endografts, and 1 received 3 endografts. has been classified as  5 and should be  4\n",
            "species included venomous jellyfish, poisonous fish, crown-of-thorns starfish, sea snakes, and toxic frogs. has been classified as  3 and should be  4\n",
            "in several projected scenarios, rising temperatures, weather extremes, and shifts in seasons will increase poisonous population numbers, particularly with certain marine creatures like jellyfish and crown-of-thorns starfish. has been classified as  4 and should be  1\n",
            "other species, particularly amphibious toxic frogs, are declining rapidly due to their sensitivity to any temperature change or subtle alterations in the stability of their environment. has been classified as  4 and should be  1\n",
            "the effects of climate change on these species through temperature alteration and rising coastal waters will influence each species differently and in turn potentially affect commercial industries, travel, tourism, and human health. has been classified as  5 and should be  1\n",
            "there is no single standard chemotherapy regimen for elderly patients with advanced gastric cancer (agc). has been classified as  1 and should be  5\n",
            "a phase iii trial has confirmed that both capecitabine monotherapy and capecitabine plus oxaliplatin are well tolerated for elderly patients with agc, but their economic influence in china is unknown. has been classified as  1 and should be  5\n",
            "the costs were obtained from published reports and the local health system. has been classified as  3 and should be  4\n",
            "the one-way sensitivity analysis suggested that the most influential parameter was the risk of requiring second-line chemotherapy in xelox group. has been classified as  5 and should be  1\n",
            "this article aims to assess oncologic outcomes of patients submitted to bcs with immediate afg reconstruction. has been classified as  3 and should be  5\n",
            "ten patients developed cancer recurrence (15.4%). has been classified as  5 and should be  2\n",
            "recent qualitative evidence from victorian maternal and child health nurses indicate that infants of chinese parents commonly have rapid growth trajectories and that high value is placed on rapid growth and having a fatter child; with low breastfeeding rates and overfeeding of infant formula. has been classified as  4 and should be  5\n",
            "the aim of this study was to compare infant feeding practices (breastfeeding, infant formula, other liquids, solids) of chinese-born and australian-born mothers living in australia. has been classified as  5 and should be  4\n",
            "group differences on feeding practices were tested using chi-square or t-tests and the effect of ethnicity on infant feeding behaviours assessed using regression. has been classified as  1 and should be  2\n",
            "data was analyzed for three age groups - young adults (aged 20-40), middle-aged adults (aged 41-60) and older adults (aged 61-87). has been classified as  4 and should be  3\n",
            "the use of expressive suppression increased with age. has been classified as  4 and should be  5\n",
            "the operation was performed through several small incisions. has been classified as  5 and should be  4\n",
            "the fibular tunnel was made obliquely from the anteromedial side of lateral malleolus tip towards retro-malleolar cortex. has been classified as  5 and should be  4\n",
            "whether this extends to individuals <60 years of age is unclear. has been classified as  3 and should be  5\n",
            "in 3011 individuals (60+/-8 years; 49% women), nt-probnp and ctnt, memory, information processing speed and executive functioning, grey matter (gm) and white matter, and white matter hyperintensity (wmh) volumes were determined. has been classified as  4 and should be  5\n",
            "<60 years, nt-probnp and ctnt were not associated with cognitive performance (pinteraction, <0.10). has been classified as  2 and should be  3\n",
            "in contrast, higher nt-probnp was associated with smaller gm (-7.43 [95% ci, -11.70 to -3.16]) and greater wmh (0.13 [95% ci, 0.01-0.25]; pinteraction,>0.10). has been classified as  3 and should be  4\n",
            "these findings stress the continuous nature of the heart-brain axis in the development of cognitive impairment. has been classified as  5 and should be  1\n",
            "the objective of this study was to estimate the cost utility and cost effectiveness of these regimens from the payer perspective for usa. has been classified as  1 and should be  5\n",
            "a probabilistic sensitivity analysis confirmed the base-case analysis. has been classified as  5 and should be  1\n",
            "a modification of the bone splitting and the osteotome techniques is proposed hereby as an alternative. has been classified as  3 and should be  4\n",
            "this technique is primarily useful for cases with a facial concavity. has been classified as  4 and should be  5\n",
            "the modification could prevent iatrogenic labial bone defect during the surgery, and compared with onlay bone grafting, it may shorten the overall treatment time and avoid traumatizing the bone donor site. has been classified as  5 and should be  1\n",
            "it is based on studies the authors carried out that synthesised disparate population-based cvd risk factor surveys conducted in fiji over 1980-2012. has been classified as  1 and should be  5\n",
            "there is evidence that risk factors and consequent cvd mortality can be reduced in populations. has been classified as  4 and should be  5\n",
            "obesity and t2dm reductions have been observed only in populations surviving in dire circumstances. has been classified as  4 and should be  5\n",
            "results were submitted to analysis of variance and tukey tests (alpha=.05). has been classified as  4 and should be  3\n",
            "after nonthermal plasma treatment, the contact angle of the zirconia surface decreased within 48 hours. has been classified as  4 and should be  3\n",
            "health campaigns have struggled to gain traction with young adults using social media, even though more than 80% of young adults are using social media at least once per day. has been classified as  5 and should be  4\n",
            "photos (64%) and videos (34%) were used to enhance most posts. has been classified as  3 and should be  4\n",
            "facebook interactions were negatively associated with using pop culture (beta=-0.67, 95% ci -0.99 to -0.34, p<.001), storytelling (beta=-0.86, 95% ci -1.29 to -0.43, p<.001) or visually appealing graphics (beta=-0.53, 95% ci -0.78 to -0.28, p<.001) in their posts compared with other strategies. has been classified as  3 and should be  4\n",
            "instagram interactions were negatively associated with weight loss (beta=-1.45, 95% ci -2.69 to -0.21, p=.02) and other content (beta=-0.81, 95% ci -1.57 to -.06, p=.04) compared with food content. has been classified as  4 and should be  3\n",
            "health promotion professionals and organizations can improve engagement using positive messaging and tailoring posts appropriate for different social media channels. has been classified as  4 and should be  3\n",
            "the essential trace element selenium and polyunsaturated fatty acids (pufa) have been used for the prevention of cancer. has been classified as  4 and should be  1\n",
            "however, an increased dietary intake of pufa augments the susceptibility of lipid peroxidation and oxidative damage in many cells. has been classified as  5 and should be  1\n"
          ],
          "name": "stdout"
        }
      ]
    },
    {
      "cell_type": "code",
      "metadata": {
        "colab": {
          "base_uri": "https://localhost:8080/",
          "height": 419
        },
        "id": "vdwqAT-4ZGZt",
        "outputId": "622c5766-d3a9-4673-f417-dd96c0c06a96"
      },
      "source": [
        "train_dataset"
      ],
      "execution_count": null,
      "outputs": [
        {
          "output_type": "execute_result",
          "data": {
            "text/html": [
              "<div>\n",
              "<style scoped>\n",
              "    .dataframe tbody tr th:only-of-type {\n",
              "        vertical-align: middle;\n",
              "    }\n",
              "\n",
              "    .dataframe tbody tr th {\n",
              "        vertical-align: top;\n",
              "    }\n",
              "\n",
              "    .dataframe thead th {\n",
              "        text-align: right;\n",
              "    }\n",
              "</style>\n",
              "<table border=\"1\" class=\"dataframe\">\n",
              "  <thead>\n",
              "    <tr style=\"text-align: right;\">\n",
              "      <th></th>\n",
              "      <th>text</th>\n",
              "      <th>labels</th>\n",
              "    </tr>\n",
              "  </thead>\n",
              "  <tbody>\n",
              "    <tr>\n",
              "      <th>0</th>\n",
              "      <td>the aepexplus monitoring system, which uses mi...</td>\n",
              "      <td>[0.0, 0.0, 1.0, 0.0, 0.0, 0.0]</td>\n",
              "    </tr>\n",
              "    <tr>\n",
              "      <th>1</th>\n",
              "      <td>seventy-five patients, 1-18 years of age (stra...</td>\n",
              "      <td>[0.0, 0.0, 0.0, 1.0, 0.0, 0.0]</td>\n",
              "    </tr>\n",
              "    <tr>\n",
              "      <th>2</th>\n",
              "      <td>the aepex and the bispectral index (bis) were ...</td>\n",
              "      <td>[0.0, 0.0, 0.0, 1.0, 0.0, 0.0]</td>\n",
              "    </tr>\n",
              "    <tr>\n",
              "      <th>3</th>\n",
              "      <td>the ability of the aepex to detect different l...</td>\n",
              "      <td>[0.0, 0.0, 0.0, 1.0, 0.0, 0.0]</td>\n",
              "    </tr>\n",
              "    <tr>\n",
              "      <th>4</th>\n",
              "      <td>as a secondary outcome parameter, the relation...</td>\n",
              "      <td>[0.0, 0.0, 0.0, 1.0, 0.0, 0.0]</td>\n",
              "    </tr>\n",
              "    <tr>\n",
              "      <th>...</th>\n",
              "      <td>...</td>\n",
              "      <td>...</td>\n",
              "    </tr>\n",
              "    <tr>\n",
              "      <th>3274</th>\n",
              "      <td>the risk of msp was greater for ad, female, ar...</td>\n",
              "      <td>[0.0, 0.0, 0.0, 0.0, 1.0, 0.0]</td>\n",
              "    </tr>\n",
              "    <tr>\n",
              "      <th>3275</th>\n",
              "      <td>evidence suggests posttraumatic headache, occu...</td>\n",
              "      <td>[0.0, 0.0, 0.0, 0.0, 1.0, 0.0]</td>\n",
              "    </tr>\n",
              "    <tr>\n",
              "      <th>3276</th>\n",
              "      <td>nurses must recognize the consequences militar...</td>\n",
              "      <td>[0.0, 0.0, 0.0, 0.0, 0.0, 1.0]</td>\n",
              "    </tr>\n",
              "    <tr>\n",
              "      <th>3277</th>\n",
              "      <td>nurses have an opportunity to positively impac...</td>\n",
              "      <td>[0.0, 0.0, 0.0, 0.0, 0.0, 1.0]</td>\n",
              "    </tr>\n",
              "    <tr>\n",
              "      <th>3278</th>\n",
              "      <td>the findings from this review underscore consi...</td>\n",
              "      <td>[0.0, 0.0, 0.0, 0.0, 0.0, 1.0]</td>\n",
              "    </tr>\n",
              "  </tbody>\n",
              "</table>\n",
              "<p>3279 rows × 2 columns</p>\n",
              "</div>"
            ],
            "text/plain": [
              "                                                   text                          labels\n",
              "0     the aepexplus monitoring system, which uses mi...  [0.0, 0.0, 1.0, 0.0, 0.0, 0.0]\n",
              "1     seventy-five patients, 1-18 years of age (stra...  [0.0, 0.0, 0.0, 1.0, 0.0, 0.0]\n",
              "2     the aepex and the bispectral index (bis) were ...  [0.0, 0.0, 0.0, 1.0, 0.0, 0.0]\n",
              "3     the ability of the aepex to detect different l...  [0.0, 0.0, 0.0, 1.0, 0.0, 0.0]\n",
              "4     as a secondary outcome parameter, the relation...  [0.0, 0.0, 0.0, 1.0, 0.0, 0.0]\n",
              "...                                                 ...                             ...\n",
              "3274  the risk of msp was greater for ad, female, ar...  [0.0, 0.0, 0.0, 0.0, 1.0, 0.0]\n",
              "3275  evidence suggests posttraumatic headache, occu...  [0.0, 0.0, 0.0, 0.0, 1.0, 0.0]\n",
              "3276  nurses must recognize the consequences militar...  [0.0, 0.0, 0.0, 0.0, 0.0, 1.0]\n",
              "3277  nurses have an opportunity to positively impac...  [0.0, 0.0, 0.0, 0.0, 0.0, 1.0]\n",
              "3278  the findings from this review underscore consi...  [0.0, 0.0, 0.0, 0.0, 0.0, 1.0]\n",
              "\n",
              "[3279 rows x 2 columns]"
            ]
          },
          "metadata": {
            "tags": []
          },
          "execution_count": 174
        }
      ]
    },
    {
      "cell_type": "code",
      "metadata": {
        "id": "BtsgeGwZZjcp"
      },
      "source": [
        ""
      ],
      "execution_count": null,
      "outputs": []
    }
  ]
}