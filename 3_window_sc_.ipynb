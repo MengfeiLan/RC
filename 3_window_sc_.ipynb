{
  "cells": [
    {
      "cell_type": "code",
      "execution_count": null,
      "metadata": {
        "colab": {
          "base_uri": "https://localhost:8080/"
        },
        "id": "6uBA1wt75-Pw",
        "outputId": "24fd17c3-ee2e-43fd-f380-bf0855bd197e"
      },
      "outputs": [
        {
          "output_type": "stream",
          "name": "stdout",
          "text": [
            "Collecting datasets\n",
            "  Downloading datasets-1.18.2-py3-none-any.whl (312 kB)\n",
            "\u001b[?25l\r\u001b[K     |█                               | 10 kB 26.2 MB/s eta 0:00:01\r\u001b[K     |██                              | 20 kB 23.6 MB/s eta 0:00:01\r\u001b[K     |███▏                            | 30 kB 11.6 MB/s eta 0:00:01\r\u001b[K     |████▏                           | 40 kB 9.2 MB/s eta 0:00:01\r\u001b[K     |█████▎                          | 51 kB 6.3 MB/s eta 0:00:01\r\u001b[K     |██████▎                         | 61 kB 7.4 MB/s eta 0:00:01\r\u001b[K     |███████▍                        | 71 kB 7.6 MB/s eta 0:00:01\r\u001b[K     |████████▍                       | 81 kB 6.5 MB/s eta 0:00:01\r\u001b[K     |█████████▌                      | 92 kB 7.2 MB/s eta 0:00:01\r\u001b[K     |██████████▌                     | 102 kB 7.9 MB/s eta 0:00:01\r\u001b[K     |███████████▌                    | 112 kB 7.9 MB/s eta 0:00:01\r\u001b[K     |████████████▋                   | 122 kB 7.9 MB/s eta 0:00:01\r\u001b[K     |█████████████▋                  | 133 kB 7.9 MB/s eta 0:00:01\r\u001b[K     |██████████████▊                 | 143 kB 7.9 MB/s eta 0:00:01\r\u001b[K     |███████████████▊                | 153 kB 7.9 MB/s eta 0:00:01\r\u001b[K     |████████████████▉               | 163 kB 7.9 MB/s eta 0:00:01\r\u001b[K     |█████████████████▉              | 174 kB 7.9 MB/s eta 0:00:01\r\u001b[K     |███████████████████             | 184 kB 7.9 MB/s eta 0:00:01\r\u001b[K     |████████████████████            | 194 kB 7.9 MB/s eta 0:00:01\r\u001b[K     |█████████████████████           | 204 kB 7.9 MB/s eta 0:00:01\r\u001b[K     |██████████████████████          | 215 kB 7.9 MB/s eta 0:00:01\r\u001b[K     |███████████████████████         | 225 kB 7.9 MB/s eta 0:00:01\r\u001b[K     |████████████████████████▏       | 235 kB 7.9 MB/s eta 0:00:01\r\u001b[K     |█████████████████████████▏      | 245 kB 7.9 MB/s eta 0:00:01\r\u001b[K     |██████████████████████████▎     | 256 kB 7.9 MB/s eta 0:00:01\r\u001b[K     |███████████████████████████▎    | 266 kB 7.9 MB/s eta 0:00:01\r\u001b[K     |████████████████████████████▍   | 276 kB 7.9 MB/s eta 0:00:01\r\u001b[K     |█████████████████████████████▍  | 286 kB 7.9 MB/s eta 0:00:01\r\u001b[K     |██████████████████████████████▌ | 296 kB 7.9 MB/s eta 0:00:01\r\u001b[K     |███████████████████████████████▌| 307 kB 7.9 MB/s eta 0:00:01\r\u001b[K     |████████████████████████████████| 312 kB 7.9 MB/s \n",
            "\u001b[?25hRequirement already satisfied: pyarrow!=4.0.0,>=3.0.0 in /usr/local/lib/python3.7/dist-packages (from datasets) (3.0.0)\n",
            "Collecting xxhash\n",
            "  Downloading xxhash-2.0.2-cp37-cp37m-manylinux2010_x86_64.whl (243 kB)\n",
            "\u001b[K     |████████████████████████████████| 243 kB 39.4 MB/s \n",
            "\u001b[?25hRequirement already satisfied: importlib-metadata in /usr/local/lib/python3.7/dist-packages (from datasets) (4.10.1)\n",
            "Requirement already satisfied: requests>=2.19.0 in /usr/local/lib/python3.7/dist-packages (from datasets) (2.23.0)\n",
            "Requirement already satisfied: tqdm>=4.62.1 in /usr/local/lib/python3.7/dist-packages (from datasets) (4.62.3)\n",
            "Requirement already satisfied: packaging in /usr/local/lib/python3.7/dist-packages (from datasets) (21.3)\n",
            "Requirement already satisfied: pandas in /usr/local/lib/python3.7/dist-packages (from datasets) (1.3.5)\n",
            "Collecting aiohttp\n",
            "  Downloading aiohttp-3.8.1-cp37-cp37m-manylinux_2_5_x86_64.manylinux1_x86_64.manylinux_2_12_x86_64.manylinux2010_x86_64.whl (1.1 MB)\n",
            "\u001b[K     |████████████████████████████████| 1.1 MB 10.7 MB/s \n",
            "\u001b[?25hRequirement already satisfied: numpy>=1.17 in /usr/local/lib/python3.7/dist-packages (from datasets) (1.19.5)\n",
            "Requirement already satisfied: multiprocess in /usr/local/lib/python3.7/dist-packages (from datasets) (0.70.12.2)\n",
            "Collecting fsspec[http]>=2021.05.0\n",
            "  Downloading fsspec-2022.1.0-py3-none-any.whl (133 kB)\n",
            "\u001b[K     |████████████████████████████████| 133 kB 55.9 MB/s \n",
            "\u001b[?25hCollecting huggingface-hub<1.0.0,>=0.1.0\n",
            "  Downloading huggingface_hub-0.4.0-py3-none-any.whl (67 kB)\n",
            "\u001b[K     |████████████████████████████████| 67 kB 3.0 MB/s \n",
            "\u001b[?25hRequirement already satisfied: dill in /usr/local/lib/python3.7/dist-packages (from datasets) (0.3.4)\n",
            "Requirement already satisfied: pyyaml in /usr/local/lib/python3.7/dist-packages (from huggingface-hub<1.0.0,>=0.1.0->datasets) (3.13)\n",
            "Requirement already satisfied: filelock in /usr/local/lib/python3.7/dist-packages (from huggingface-hub<1.0.0,>=0.1.0->datasets) (3.4.2)\n",
            "Requirement already satisfied: typing-extensions>=3.7.4.3 in /usr/local/lib/python3.7/dist-packages (from huggingface-hub<1.0.0,>=0.1.0->datasets) (3.10.0.2)\n",
            "Requirement already satisfied: pyparsing!=3.0.5,>=2.0.2 in /usr/local/lib/python3.7/dist-packages (from packaging->datasets) (3.0.7)\n",
            "Requirement already satisfied: urllib3!=1.25.0,!=1.25.1,<1.26,>=1.21.1 in /usr/local/lib/python3.7/dist-packages (from requests>=2.19.0->datasets) (1.24.3)\n",
            "Requirement already satisfied: idna<3,>=2.5 in /usr/local/lib/python3.7/dist-packages (from requests>=2.19.0->datasets) (2.10)\n",
            "Requirement already satisfied: certifi>=2017.4.17 in /usr/local/lib/python3.7/dist-packages (from requests>=2.19.0->datasets) (2021.10.8)\n",
            "Requirement already satisfied: chardet<4,>=3.0.2 in /usr/local/lib/python3.7/dist-packages (from requests>=2.19.0->datasets) (3.0.4)\n",
            "Collecting async-timeout<5.0,>=4.0.0a3\n",
            "  Downloading async_timeout-4.0.2-py3-none-any.whl (5.8 kB)\n",
            "Collecting frozenlist>=1.1.1\n",
            "  Downloading frozenlist-1.3.0-cp37-cp37m-manylinux_2_5_x86_64.manylinux1_x86_64.manylinux_2_17_x86_64.manylinux2014_x86_64.whl (144 kB)\n",
            "\u001b[K     |████████████████████████████████| 144 kB 45.4 MB/s \n",
            "\u001b[?25hCollecting asynctest==0.13.0\n",
            "  Downloading asynctest-0.13.0-py3-none-any.whl (26 kB)\n",
            "Requirement already satisfied: charset-normalizer<3.0,>=2.0 in /usr/local/lib/python3.7/dist-packages (from aiohttp->datasets) (2.0.11)\n",
            "Requirement already satisfied: attrs>=17.3.0 in /usr/local/lib/python3.7/dist-packages (from aiohttp->datasets) (21.4.0)\n",
            "Collecting aiosignal>=1.1.2\n",
            "  Downloading aiosignal-1.2.0-py3-none-any.whl (8.2 kB)\n",
            "Collecting yarl<2.0,>=1.0\n",
            "  Downloading yarl-1.7.2-cp37-cp37m-manylinux_2_5_x86_64.manylinux1_x86_64.manylinux_2_12_x86_64.manylinux2010_x86_64.whl (271 kB)\n",
            "\u001b[K     |████████████████████████████████| 271 kB 59.1 MB/s \n",
            "\u001b[?25hCollecting multidict<7.0,>=4.5\n",
            "  Downloading multidict-6.0.2-cp37-cp37m-manylinux_2_17_x86_64.manylinux2014_x86_64.whl (94 kB)\n",
            "\u001b[K     |████████████████████████████████| 94 kB 3.9 MB/s \n",
            "\u001b[?25hRequirement already satisfied: zipp>=0.5 in /usr/local/lib/python3.7/dist-packages (from importlib-metadata->datasets) (3.7.0)\n",
            "Requirement already satisfied: python-dateutil>=2.7.3 in /usr/local/lib/python3.7/dist-packages (from pandas->datasets) (2.8.2)\n",
            "Requirement already satisfied: pytz>=2017.3 in /usr/local/lib/python3.7/dist-packages (from pandas->datasets) (2018.9)\n",
            "Requirement already satisfied: six>=1.5 in /usr/local/lib/python3.7/dist-packages (from python-dateutil>=2.7.3->pandas->datasets) (1.15.0)\n",
            "Installing collected packages: multidict, frozenlist, yarl, asynctest, async-timeout, aiosignal, fsspec, aiohttp, xxhash, huggingface-hub, datasets\n",
            "Successfully installed aiohttp-3.8.1 aiosignal-1.2.0 async-timeout-4.0.2 asynctest-0.13.0 datasets-1.18.2 frozenlist-1.3.0 fsspec-2022.1.0 huggingface-hub-0.4.0 multidict-6.0.2 xxhash-2.0.2 yarl-1.7.2\n",
            "Collecting transformers\n",
            "  Downloading transformers-4.16.2-py3-none-any.whl (3.5 MB)\n",
            "\u001b[K     |████████████████████████████████| 3.5 MB 6.5 MB/s \n",
            "\u001b[?25hRequirement already satisfied: tqdm>=4.27 in /usr/local/lib/python3.7/dist-packages (from transformers) (4.62.3)\n",
            "Requirement already satisfied: regex!=2019.12.17 in /usr/local/lib/python3.7/dist-packages (from transformers) (2019.12.20)\n",
            "Requirement already satisfied: importlib-metadata in /usr/local/lib/python3.7/dist-packages (from transformers) (4.10.1)\n",
            "Collecting tokenizers!=0.11.3,>=0.10.1\n",
            "  Downloading tokenizers-0.11.4-cp37-cp37m-manylinux_2_12_x86_64.manylinux2010_x86_64.whl (6.8 MB)\n",
            "\u001b[K     |████████████████████████████████| 6.8 MB 36.5 MB/s \n",
            "\u001b[?25hRequirement already satisfied: numpy>=1.17 in /usr/local/lib/python3.7/dist-packages (from transformers) (1.19.5)\n",
            "Requirement already satisfied: requests in /usr/local/lib/python3.7/dist-packages (from transformers) (2.23.0)\n",
            "Requirement already satisfied: filelock in /usr/local/lib/python3.7/dist-packages (from transformers) (3.4.2)\n",
            "Collecting sacremoses\n",
            "  Downloading sacremoses-0.0.47-py2.py3-none-any.whl (895 kB)\n",
            "\u001b[K     |████████████████████████████████| 895 kB 57.0 MB/s \n",
            "\u001b[?25hRequirement already satisfied: packaging>=20.0 in /usr/local/lib/python3.7/dist-packages (from transformers) (21.3)\n",
            "Collecting pyyaml>=5.1\n",
            "  Downloading PyYAML-6.0-cp37-cp37m-manylinux_2_5_x86_64.manylinux1_x86_64.manylinux_2_12_x86_64.manylinux2010_x86_64.whl (596 kB)\n",
            "\u001b[K     |████████████████████████████████| 596 kB 59.0 MB/s \n",
            "\u001b[?25hRequirement already satisfied: huggingface-hub<1.0,>=0.1.0 in /usr/local/lib/python3.7/dist-packages (from transformers) (0.4.0)\n",
            "Requirement already satisfied: typing-extensions>=3.7.4.3 in /usr/local/lib/python3.7/dist-packages (from huggingface-hub<1.0,>=0.1.0->transformers) (3.10.0.2)\n",
            "Requirement already satisfied: pyparsing!=3.0.5,>=2.0.2 in /usr/local/lib/python3.7/dist-packages (from packaging>=20.0->transformers) (3.0.7)\n",
            "Requirement already satisfied: zipp>=0.5 in /usr/local/lib/python3.7/dist-packages (from importlib-metadata->transformers) (3.7.0)\n",
            "Requirement already satisfied: idna<3,>=2.5 in /usr/local/lib/python3.7/dist-packages (from requests->transformers) (2.10)\n",
            "Requirement already satisfied: urllib3!=1.25.0,!=1.25.1,<1.26,>=1.21.1 in /usr/local/lib/python3.7/dist-packages (from requests->transformers) (1.24.3)\n",
            "Requirement already satisfied: certifi>=2017.4.17 in /usr/local/lib/python3.7/dist-packages (from requests->transformers) (2021.10.8)\n",
            "Requirement already satisfied: chardet<4,>=3.0.2 in /usr/local/lib/python3.7/dist-packages (from requests->transformers) (3.0.4)\n",
            "Requirement already satisfied: click in /usr/local/lib/python3.7/dist-packages (from sacremoses->transformers) (7.1.2)\n",
            "Requirement already satisfied: joblib in /usr/local/lib/python3.7/dist-packages (from sacremoses->transformers) (1.1.0)\n",
            "Requirement already satisfied: six in /usr/local/lib/python3.7/dist-packages (from sacremoses->transformers) (1.15.0)\n",
            "Installing collected packages: pyyaml, tokenizers, sacremoses, transformers\n",
            "  Attempting uninstall: pyyaml\n",
            "    Found existing installation: PyYAML 3.13\n",
            "    Uninstalling PyYAML-3.13:\n",
            "      Successfully uninstalled PyYAML-3.13\n",
            "Successfully installed pyyaml-6.0 sacremoses-0.0.47 tokenizers-0.11.4 transformers-4.16.2\n"
          ]
        }
      ],
      "source": [
        "! pip install datasets\n",
        "! pip install transformers"
      ]
    },
    {
      "cell_type": "code",
      "execution_count": null,
      "metadata": {
        "id": "MwmZ0Vox2hhs"
      },
      "outputs": [],
      "source": [
        "import random\n",
        "import numpy as np\n",
        "import pandas as pd\n",
        "from ast import literal_eval as load\n",
        "from datasets import Dataset\n",
        "import torch\n",
        "import torch.nn as nn\n",
        "from torch.nn import CrossEntropyLoss\n",
        "import torch.nn.functional as F\n",
        "from torch.utils.data import DataLoader\n",
        "from tqdm.auto import tqdm\n",
        "from transformers.models.bert.modeling_bert import BertForTokenClassification\n",
        "from transformers import BertTokenizer, BertConfig, AdamW, get_cosine_schedule_with_warmup\n",
        "from ast import literal_eval as load\n"
      ]
    },
    {
      "cell_type": "code",
      "execution_count": null,
      "metadata": {
        "colab": {
          "base_uri": "https://localhost:8080/"
        },
        "id": "8M6nKQo564jf",
        "outputId": "463a1546-01e0-42c4-a6ec-ea455e6f58a1"
      },
      "outputs": [
        {
          "output_type": "stream",
          "name": "stdout",
          "text": [
            "Mounted at /content/gdrive\n"
          ]
        }
      ],
      "source": [
        "from google.colab import drive \n",
        "drive.mount(\"/content/gdrive\")\n"
      ]
    },
    {
      "cell_type": "code",
      "execution_count": null,
      "metadata": {
        "id": "-YCpjXqT7D-e"
      },
      "outputs": [],
      "source": [
        "model_path = \"/content/gdrive/My Drive/scibert\"\n",
        "tokenizer = BertTokenizer.from_pretrained(model_path)\n",
        "device = torch.device(\n",
        "    \"cuda\") if torch.cuda.is_available() else torch.device(\"cpu\")\n"
      ]
    },
    {
      "cell_type": "code",
      "execution_count": null,
      "metadata": {
        "id": "mhoFfeRs7aJy"
      },
      "outputs": [],
      "source": [
        "# BIO is not required.\n",
        "\n",
        "def to_BIO(label_seqs):\n",
        "  new_label_segs = []\n",
        "  prev = \"\"\n",
        "  for label in label_seqs:\n",
        "    if label == prev:\n",
        "      new_label = \"I_\" + label\n",
        "    else:\n",
        "      new_label = \"B_\" + label\n",
        "    prev = label\n",
        "    new_label_segs.append(new_label)\n",
        "  return new_label_segs"
      ]
    },
    {
      "cell_type": "code",
      "execution_count": null,
      "metadata": {
        "id": "b7sAJlCG7bGO"
      },
      "outputs": [],
      "source": [
        "maxlen = 512\n",
        "pad_token_id = tokenizer.convert_tokens_to_ids([tokenizer.pad_token])[0]\n",
        "ignore_label_id = CrossEntropyLoss().ignore_index\n",
        "\n",
        "\n",
        "def convert(df):\n",
        "    input_ids_ls = []\n",
        "    attention_mask_ls = []\n",
        "    labels_ls = []\n",
        "    for i in range(len(df)):\n",
        "        sents = df.loc[i, 'text']\n",
        "        # labels = df.loc[i, 'labels']\n",
        "        labels = df.loc[i, 'labels_code']\n",
        "        tokens = []\n",
        "        label_ids = []\n",
        "        for j in range(len(sents)):  # loop over each sentence\n",
        "            token_tmp = []\n",
        "            words = tokenizer.tokenize(sents[j]) \n",
        "            words = list(map(lambda x: x.lower(), words))\n",
        "            token_tmp.extend(words)\n",
        "            token_tmp.extend([tokenizer.sep_token])\n",
        "            label_ids.extend([ignore_label_id] *\n",
        "                                (len(token_tmp)-1)+[labels[j]])\n",
        "            tokens.extend(token_tmp)\n",
        "        if len(tokens) > maxlen:\n",
        "            tokens = tokens[:maxlen]\n",
        "            label_ids = label_ids[:maxlen]\n",
        "        input_ids = tokenizer.convert_tokens_to_ids(tokens)\n",
        "        padding_length = maxlen - len(input_ids)\n",
        "        attention_mask = [1]*len(input_ids) + [0]*padding_length\n",
        "        input_ids.extend([pad_token_id] * padding_length)\n",
        "        label_ids.extend([ignore_label_id] * padding_length)\n",
        "        assert len(input_ids) == maxlen\n",
        "        assert len(attention_mask) == maxlen\n",
        "        assert len(label_ids) == maxlen\n",
        "        input_ids_ls.append(input_ids)\n",
        "        attention_mask_ls.append(attention_mask)\n",
        "        labels_ls.append(label_ids)\n",
        "    tokenized_df = pd.DataFrame(\n",
        "        [input_ids_ls, attention_mask_ls, labels_ls]).transpose()\n",
        "    tokenized_df.columns = ['input_ids',\n",
        "                            'attention_mask', 'labels']\n",
        "    return tokenized_df"
      ]
    },
    {
      "cell_type": "code",
      "execution_count": null,
      "metadata": {
        "id": "w-IF84Iv76zW"
      },
      "outputs": [],
      "source": [
        "dow = {\n",
        "    \"BACKGROUND\": 0,\n",
        "    \"OBJECTIVE\": 1,\n",
        "    \"METHODS\": 2,\n",
        "    \"RESULTS\": 3, \n",
        "    \"CONCLUSIONS\": 4\n",
        "}"
      ]
    },
    {
      "cell_type": "code",
      "execution_count": null,
      "metadata": {
        "id": "bRmsKY7HsiUk"
      },
      "outputs": [],
      "source": [
        "train_x_single = []\n",
        "train_y_single = []\n",
        "f = open(\"/content/gdrive/My Drive/manually_annotated_data/manually_annotated_train.txt\", \"r\")\n",
        "for x in f:\n",
        "    if x[:3] != \"###\" and x != \"\\n\":\n",
        "        splitted = x.split('\\t')\n",
        "        if len(splitted) < 2:\n",
        "            continue\n",
        "# digits were eliminated\n",
        "\n",
        "        abstract_ = splitted[1].strip('\\n')\n",
        "        abstract_result = ''.join(i for i in abstract_ if not i.isdigit())\n",
        "        train_x_single.append(abstract_result)\n",
        "        label_ = splitted[0].strip('\\n')\n",
        "        train_y_single.append(label_)\n",
        "\n",
        "f.close()\n",
        "\n",
        "test_x_single = []\n",
        "test_y_single = []\n",
        "f = open(\"/content/gdrive/My Drive/manually_annotated_data/manually_annotated_test.txt\", \"r\")\n",
        "for x in f:\n",
        "    if x[:3] != \"###\" and x != \"\\n\":\n",
        "        splitted = x.split('\\t')\n",
        "        if len(splitted) < 2:\n",
        "            continue\n",
        "# digits were eliminated\n",
        "\n",
        "        abstract_ = splitted[1].strip('\\n')\n",
        "        abstract_result = ''.join(i for i in abstract_ if not i.isdigit())\n",
        "        test_x_single.append(abstract_result)\n",
        "        label_ = splitted[0].strip('\\n')\n",
        "        test_y_single.append(label_)\n",
        "\n",
        "f.close()\n"
      ]
    },
    {
      "cell_type": "code",
      "execution_count": null,
      "metadata": {
        "id": "w6PKOXRl79rr"
      },
      "outputs": [],
      "source": [
        "manually_annotated_train_x_sequence = []\n",
        "manually_annotated_train_y_sequence = []\n",
        "manually_annotated_dev_x_sequence = []\n",
        "manually_annotated_dev_y_sequence = []\n",
        "\n",
        "import re\n",
        "\n",
        "abstract = []\n",
        "label = []\n",
        "PMID = []\n",
        "f = open(\"/content/gdrive/My Drive/manually_annotated_data/manually_annotated_train.txt\", \"r\")\n",
        "for x in f:\n",
        "    if x[:3] == \"###\":\n",
        "        if abstract != []:\n",
        "            manually_annotated_train_x_sequence.append(abstract)\n",
        "            # train_y_sequence.append([dow[x] for x in label])\n",
        "            manually_annotated_train_y_sequence.append(label)\n",
        "            PMID.append(x[3:])\n",
        "        abstract = []\n",
        "        label = []\n",
        "    if x[:3] != \"###\" and x != \"\\n\":\n",
        "        splitted = x.split('\\t')\n",
        "        if len(splitted) < 2:\n",
        "            continue\n",
        "        abstract_ = splitted[1].strip('\\n')\n",
        "        abstract_result = re.sub(\"\\d+\", \"@\", abstract_)\n",
        "        abstract.append(abstract_result)\n",
        "        label_ = splitted[0].strip('\\n')\n",
        "        label.append(label_)\n",
        "\n",
        "manually_annotated_train_x_sequence.append(abstract)\n",
        "manually_annotated_train_y_sequence.append(label)\n",
        "\n",
        "f.close()\n",
        "\n",
        "abstract = []\n",
        "label = []\n",
        "\n",
        "f = open(\"/content/gdrive/My Drive/manually_annotated_data/manually_annotated_test.txt\", \"r\")\n",
        "for x in f:\n",
        "    if x[:3] == \"###\":\n",
        "        if abstract != []:\n",
        "            manually_annotated_dev_x_sequence.append(abstract)\n",
        "            # dev_y_sequence.append([dow[x] for x in label])\n",
        "            manually_annotated_dev_y_sequence.append(label)\n",
        "        abstract = []\n",
        "        label = []\n",
        "    if x[:3] != \"###\" and x != \"\\n\":\n",
        "        splitted = x.split('\\t')\n",
        "        if len(splitted) < 2:\n",
        "            continue\n",
        "        abstract_ = splitted[1].strip('\\n')\n",
        "        abstract_result = ''.join(i for i in abstract_ if not i.isdigit())\n",
        "        abstract.append(abstract_result)\n",
        "        label_ = splitted[0].strip('\\n')\n",
        "        label.append(label_)\n",
        "manually_annotated_dev_x_sequence.append(abstract)\n",
        "manually_annotated_dev_y_sequence.append(label)\n",
        "f.close()"
      ]
    },
    {
      "cell_type": "code",
      "execution_count": null,
      "metadata": {
        "id": "4bpVrXX6Nvxc"
      },
      "outputs": [],
      "source": [
        "manually_annotated_dev_x_sequence_structured = []\n",
        "manually_annotated_dev_y_sequence_structured = []\n",
        "\n",
        "abstract = []\n",
        "label = []\n",
        "\n",
        "f = open(\"/content/gdrive/My Drive/manually_annotated_data/manually_annotated_structured_test.txt\", \"r\")\n",
        "for x in f:\n",
        "    if x[:3] == \"###\":\n",
        "        if abstract != []:\n",
        "            manually_annotated_dev_x_sequence_structured.append(abstract)\n",
        "            # dev_y_sequence.append([dow[x] for x in label])\n",
        "            manually_annotated_dev_y_sequence_structured.append(label)\n",
        "        abstract = []\n",
        "        label = []\n",
        "    if x[:3] != \"###\" and x != \"\\n\":\n",
        "        splitted = x.split('\\t')\n",
        "        if len(splitted) < 2:\n",
        "            continue\n",
        "        abstract_ = splitted[1].strip('\\n')\n",
        "        abstract_result = ''.join(i for i in abstract_ if not i.isdigit())\n",
        "        abstract.append(abstract_result)\n",
        "        label_ = splitted[0].strip('\\n')\n",
        "        label.append(label_)\n",
        "manually_annotated_dev_x_sequence_structured.append(abstract)\n",
        "manually_annotated_dev_y_sequence_structured.append(label)\n",
        "f.close()"
      ]
    },
    {
      "cell_type": "code",
      "execution_count": null,
      "metadata": {
        "id": "pxZ7fzPOPise"
      },
      "outputs": [],
      "source": [
        "manually_annotated_dev_x_sequence_unstructured = []\n",
        "manually_annotated_dev_y_sequence_unstructured = []\n",
        "\n",
        "abstract = []\n",
        "label = []\n",
        "\n",
        "f = open(\"/content/gdrive/My Drive/manually_annotated_data/manually_annotated_unstructured_test.txt\", \"r\")\n",
        "for x in f:\n",
        "    if x[:3] == \"###\":\n",
        "        if abstract != []:\n",
        "            manually_annotated_dev_x_sequence_unstructured.append(abstract)\n",
        "            # dev_y_sequence.append([dow[x] for x in label])\n",
        "            manually_annotated_dev_y_sequence_unstructured.append(label)\n",
        "        abstract = []\n",
        "        label = []\n",
        "    if x[:3] != \"###\" and x != \"\\n\":\n",
        "        splitted = x.split('\\t')\n",
        "        if len(splitted) < 2:\n",
        "            continue\n",
        "        abstract_ = splitted[1].strip('\\n')\n",
        "        abstract_result = ''.join(i for i in abstract_ if not i.isdigit())\n",
        "        abstract.append(abstract_result)\n",
        "        label_ = splitted[0].strip('\\n')\n",
        "        label.append(label_)\n",
        "manually_annotated_dev_x_sequence_unstructured.append(abstract)\n",
        "manually_annotated_dev_y_sequence_unstructured.append(label)\n",
        "f.close()"
      ]
    },
    {
      "cell_type": "code",
      "execution_count": null,
      "metadata": {
        "id": "TJXPG4n88l9b"
      },
      "outputs": [],
      "source": [
        "pubmed_test_x_sequence = []\n",
        "pubmed_test_y_sequence = []\n",
        "\n",
        "abstract = []\n",
        "label = []\n",
        "\n",
        "f = open(\"/content/gdrive/My Drive/imrd_data_pubmed/test.txt\", \"r\")\n",
        "for x in f:\n",
        "    if x[:3] == \"###\":\n",
        "        if abstract != []:\n",
        "            pubmed_test_x_sequence.append(abstract)\n",
        "            # dev_y_sequence.append([dow[x] for x in label])\n",
        "            pubmed_test_y_sequence.append(label)\n",
        "        abstract = []\n",
        "        label = []\n",
        "    if x[:3] != \"###\" and x != \"\\n\":\n",
        "        splitted = x.split('\\t')\n",
        "        if len(splitted) < 2:\n",
        "            continue\n",
        "        abstract_ = splitted[1].strip('\\n')\n",
        "        abstract_result = ''.join(i for i in abstract_ if not i.isdigit())\n",
        "        abstract.append(abstract_result)\n",
        "        label_ = splitted[0].strip('\\n')\n",
        "        label.append(label_)\n",
        "pubmed_test_x_sequence.append(abstract)\n",
        "pubmed_test_y_sequence.append(label)\n",
        "f.close()"
      ]
    },
    {
      "cell_type": "code",
      "execution_count": null,
      "metadata": {
        "id": "TLow3XQX9vne"
      },
      "outputs": [],
      "source": [
        ""
      ]
    },
    {
      "cell_type": "code",
      "execution_count": null,
      "metadata": {
        "id": "umSeIGnr8G8I"
      },
      "outputs": [],
      "source": [
        "manually_annotated_train_df = pd.DataFrame({\"text\": manually_annotated_train_x_sequence, \"labels\": manually_annotated_train_y_sequence})\n",
        "manually_annotated_eval_df = pd.DataFrame({\"text\": manually_annotated_dev_x_sequence, \"labels\": manually_annotated_dev_y_sequence})\n",
        "manually_annotated_eval_df_structured = pd.DataFrame({\"text\": manually_annotated_dev_x_sequence_structured, \"labels\": manually_annotated_dev_y_sequence_structured})\n",
        "manually_annotated_eval_df_unstructured = pd.DataFrame({\"text\": manually_annotated_dev_x_sequence_unstructured, \"labels\": manually_annotated_dev_y_sequence_unstructured})\n",
        "pubmed_eval_df = pd.DataFrame({\"text\": pubmed_test_x_sequence, \"labels\": pubmed_test_y_sequence})"
      ]
    },
    {
      "cell_type": "code",
      "execution_count": null,
      "metadata": {
        "id": "Jns7bW0F8gMJ"
      },
      "outputs": [],
      "source": [
        "l_text = []\n",
        "l_label = []\n",
        "for key, i in manually_annotated_train_df.iterrows():\n",
        "  for j in range(len(i[\"labels\"]) - 2):\n",
        "    l_text.append(i[\"text\"][j:j+3])\n",
        "    l_label.append(i[\"labels\"][j:j+3])\n",
        "df_three_window_train = pd.DataFrame(list(zip(l_text, l_label)), columns =['text', 'labels'])"
      ]
    },
    {
      "cell_type": "code",
      "execution_count": null,
      "metadata": {
        "id": "Ux2ftWhq82BH"
      },
      "outputs": [],
      "source": [
        "l_text = []\n",
        "l_label = []\n",
        "for key, i in manually_annotated_eval_df.iterrows():\n",
        "  for j in range(len(i[\"labels\"]) - 2):\n",
        "    l_text.append(i[\"text\"][j:j+3])\n",
        "    l_label.append(i[\"labels\"][j:j+3])\n",
        "df_three_window_test = pd.DataFrame(list(zip(l_text, l_label)), columns =['text', 'labels'])"
      ]
    },
    {
      "cell_type": "code",
      "execution_count": null,
      "metadata": {
        "id": "HNhYi9u-Qp83"
      },
      "outputs": [],
      "source": [
        "l_text = []\n",
        "l_label = []\n",
        "for key, i in manually_annotated_eval_df_structured.iterrows():\n",
        "  for j in range(len(i[\"labels\"]) - 2):\n",
        "    l_text.append(i[\"text\"][j:j+3])\n",
        "    l_label.append(i[\"labels\"][j:j+3])\n",
        "df_three_window_test_structured = pd.DataFrame(list(zip(l_text, l_label)), columns =['text', 'labels'])"
      ]
    },
    {
      "cell_type": "code",
      "execution_count": null,
      "metadata": {
        "id": "4oDWJCgTQuxY"
      },
      "outputs": [],
      "source": [
        "l_text = []\n",
        "l_label = []\n",
        "for key, i in manually_annotated_eval_df_unstructured.iterrows():\n",
        "  for j in range(len(i[\"labels\"]) - 2):\n",
        "    l_text.append(i[\"text\"][j:j+3])\n",
        "    l_label.append(i[\"labels\"][j:j+3])\n",
        "df_three_window_test_unstructured = pd.DataFrame(list(zip(l_text, l_label)), columns =['text', 'labels'])"
      ]
    },
    {
      "cell_type": "code",
      "execution_count": null,
      "metadata": {
        "id": "VlkbYMl5_Ksv"
      },
      "outputs": [],
      "source": [
        "l_text = []\n",
        "l_label = []\n",
        "for key, i in pubmed_eval_df.iterrows():\n",
        "  for j in range(len(i[\"labels\"]) - 2):\n",
        "    l_text.append(i[\"text\"][j:j+3])\n",
        "    l_label.append(i[\"labels\"][j:j+3])\n",
        "df_three_window_test_pubmed = pd.DataFrame(list(zip(l_text, l_label)), columns =['text', 'labels'])"
      ]
    },
    {
      "cell_type": "code",
      "source": [
        ""
      ],
      "metadata": {
        "id": "qN_WhwB_viQO"
      },
      "execution_count": null,
      "outputs": []
    },
    {
      "cell_type": "code",
      "execution_count": null,
      "metadata": {
        "id": "lo0QkPej55w4"
      },
      "outputs": [],
      "source": [
        "test_y = [[dow[j] for j in i] for i in manually_annotated_dev_y_sequence]\n",
        "test_y_structured = [[dow[j] for j in i] for i in manually_annotated_dev_y_sequence_structured]\n",
        "test_y_unstructured = [[dow[j] for j in i] for i in manually_annotated_dev_y_sequence_unstructured]\n",
        "test_y_pubmed = [[dow[j] for j in i] for i in pubmed_test_y_sequence]"
      ]
    },
    {
      "cell_type": "code",
      "execution_count": null,
      "metadata": {
        "id": "rUT3gfn39A-G"
      },
      "outputs": [],
      "source": [
        "df_three_window_train[\"labels_BIO\"] = df_three_window_train[\"labels\"].apply(to_BIO)\n",
        "df_three_window_test[\"labels_BIO\"] = df_three_window_test[\"labels\"].apply(to_BIO)\n",
        "df_three_window_test_structured[\"labels_BIO\"] = df_three_window_test_structured[\"labels\"].apply(to_BIO)\n",
        "df_three_window_test_unstructured[\"labels_BIO\"] = df_three_window_test_unstructured[\"labels\"].apply(to_BIO)\n",
        "df_three_window_test_pubmed[\"labels_BIO\"] = df_three_window_test_pubmed[\"labels\"].apply(to_BIO)\n",
        "\n",
        "def rep_BIO(seq_label):\n",
        "  dow_with_BIO = {\n",
        "    \"B_BACKGROUND\": 0,\n",
        "    \"I_BACKGROUND\": 1,\n",
        "    \"B_OBJECTIVE\": 2,\n",
        "    \"I_OBJECTIVE\": 3,\n",
        "    \"B_METHODS\": 4,\n",
        "    \"I_METHODS\": 5,\n",
        "    \"B_RESULTS\": 6, \n",
        "    \"I_RESULTS\": 7,\n",
        "    \"B_CONCLUSIONS\": 8,\n",
        "    \"I_CONCLUSIONS\": 9\n",
        "  }\n",
        "  return [dow_with_BIO[x] for x in seq_label]\n"
      ]
    },
    {
      "cell_type": "code",
      "execution_count": null,
      "metadata": {
        "id": "v2FDsy9q-mBx"
      },
      "outputs": [],
      "source": [
        "df_three_window_train[\"labels_code\"] = df_three_window_train[\"labels_BIO\"].apply(rep_BIO)\n",
        "df_three_window_test[\"labels_code\"] = df_three_window_test[\"labels_BIO\"].apply(rep_BIO)\n",
        "df_three_window_test_structured[\"labels_code\"] = df_three_window_test_structured[\"labels_BIO\"].apply(rep_BIO)\n",
        "df_three_window_test_unstructured[\"labels_code\"] = df_three_window_test_unstructured[\"labels_BIO\"].apply(rep_BIO)\n",
        "df_three_window_test_pubmed[\"labels_code\"] = df_three_window_test_pubmed[\"labels_BIO\"].apply(rep_BIO)"
      ]
    },
    {
      "cell_type": "code",
      "execution_count": null,
      "metadata": {
        "id": "btrJfqlv_PnK"
      },
      "outputs": [],
      "source": [
        "# tokenized_train = Dataset.from_pandas(convert(train_df[:4000]))\n",
        "# tokenized_eval = Dataset.from_pandas(convert(eval_df[:1000]))\n",
        "tokenized_train_manually = Dataset.from_pandas(convert(df_three_window_train))\n",
        "tokenized_eval_manually = Dataset.from_pandas(convert(df_three_window_test))\n",
        "tokenized_eval_manually_structured = Dataset.from_pandas(convert(df_three_window_test_structured))\n",
        "tokenized_eval_manually_unstructured = Dataset.from_pandas(convert(df_three_window_test_unstructured))\n",
        "tokenized_eval_pubmed = Dataset.from_pandas(convert(df_three_window_test_pubmed))\n",
        "tokenized_train_manually.set_format(\"torch\")\n",
        "tokenized_eval_manually.set_format(\"torch\")\n",
        "tokenized_eval_manually_structured.set_format(\"torch\")\n",
        "tokenized_eval_manually_unstructured.set_format(\"torch\")\n",
        "tokenized_eval_pubmed.set_format(\"torch\")\n",
        "train_loader_manually = DataLoader(tokenized_train_manually, shuffle=False, batch_size=4)\n",
        "eval_loader_manually = DataLoader(tokenized_eval_manually, shuffle=False, batch_size=4)\n",
        "eval_loader_manually_structured = DataLoader(tokenized_eval_manually_structured, shuffle=False, batch_size=4)\n",
        "eval_loader_manually_unstructured = DataLoader(tokenized_eval_manually_unstructured, shuffle=False, batch_size=4)\n",
        "eval_loader_pubmed = DataLoader(tokenized_eval_pubmed, shuffle=False, batch_size=4)"
      ]
    },
    {
      "cell_type": "code",
      "execution_count": null,
      "metadata": {
        "id": "lkjlZimtAFui"
      },
      "outputs": [],
      "source": [
        "def F1(ref, pred):\n",
        "    tp = fn = fp = 0\n",
        "    for i in range(len(pred)):\n",
        "        for j in range(len(pred[i])):\n",
        "            if pred[i][j] == 1 and ref[i][j] == 1:\n",
        "                tp += 1\n",
        "            elif pred[i][j] == 1 and ref[i][j] == 0:\n",
        "                fp += 1\n",
        "            elif pred[i][j] == 0 and ref[i][j] == 1:\n",
        "                fn += 1\n",
        "    pc = rc = f1 = 0\n",
        "    if tp != 0:\n",
        "        pc = tp/(tp+fp)\n",
        "        rc = tp/(tp+fn)\n",
        "        f1 = 2*pc*rc/(pc+rc)\n",
        "    print(f'precision: {pc}, recall: {rc}, F1: {f1}')\n",
        "    return f1\n"
      ]
    },
    {
      "cell_type": "code",
      "execution_count": null,
      "metadata": {
        "id": "UQtz9iuKAgT7"
      },
      "outputs": [],
      "source": [
        "import torch\n",
        "from torch import nn\n",
        "import torch.nn.functional as F\n",
        "\n",
        "# adapted from https://github.com/DHPO/GHM_Loss.pytorch\n",
        "class GHM_Loss(nn.Module):\n",
        "    def __init__(self, bins, alpha, ignore_label_id=-100):\n",
        "        super(GHM_Loss, self).__init__()\n",
        "        self._bins = bins\n",
        "        self._alpha = alpha\n",
        "        self._last_bin_count = None\n",
        "        self._ignore_label_id = ignore_label_id\n",
        "\n",
        "    def _g2bin(self, g):\n",
        "        return torch.floor(g * (self._bins - 0.0001)).long()\n",
        "\n",
        "    def _custom_loss(self, x, target, weight):\n",
        "        raise NotImplementedError\n",
        "\n",
        "    def _custom_loss_grad(self, x, target):\n",
        "        raise NotImplementedError\n",
        "\n",
        "    def forward(self, x, target):\n",
        "        valid_label = (target != self._ignore_label_id)\n",
        "        x = x[valid_label]\n",
        "        target = target[valid_label]\n",
        "\n",
        "        g = torch.abs(self._custom_loss_grad(x, target)).detach()\n",
        "        bin_idx = self._g2bin(g)\n",
        "        bin_count = torch.zeros((self._bins), device=x.device)\n",
        "        for i in range(self._bins):\n",
        "            bin_count[i] = (bin_idx == i).sum().item()\n",
        "        N = x.size(0)  # N = (x.size(0) * x.size(1))\n",
        "        if self._last_bin_count is None:\n",
        "            self._last_bin_count = bin_count\n",
        "        else:\n",
        "            bin_count = self._alpha * self._last_bin_count + \\\n",
        "                (1 - self._alpha) * bin_count\n",
        "            self._last_bin_count = bin_count\n",
        "        nonempty_bins = (bin_count > 0).sum().item()\n",
        "        gd = bin_count * nonempty_bins\n",
        "        gd = torch.clamp(gd, min=1)  # min=0.0001\n",
        "        beta = N / gd\n",
        "        return self._custom_loss(x, target, beta[bin_idx])\n",
        "\n",
        "\n",
        "class GHMC_Loss(GHM_Loss):\n",
        "    def __init__(self, bins, alpha):\n",
        "        super(GHMC_Loss, self).__init__(bins, alpha)\n",
        "\n",
        "    def _custom_loss(self, x, target, weight):\n",
        "        criterion = CrossEntropyLoss(reduction='none')\n",
        "        loss = criterion(x, target)\n",
        "        loss = torch.mean(loss * weight)\n",
        "        return loss\n",
        "\n",
        "    def _custom_loss_grad(self, x, target):\n",
        "        return torch.gather(F.softmax(x, dim=-1).detach(), 1, target.view(-1, 1)) - 1.0"
      ]
    },
    {
      "cell_type": "code",
      "execution_count": null,
      "metadata": {
        "id": "MXth-151AmN9"
      },
      "outputs": [],
      "source": [
        "from sklearn.metrics import confusion_matrix\n",
        "from sklearn.metrics import multilabel_confusion_matrix as mcm, classification_report\n",
        "\n",
        "def evaluate(model, data_loader, criterion, device=device):\n",
        "    model.eval()\n",
        "    val_true, val_pred = [], []\n",
        "    all_true, all_pred = [], []\n",
        "    i = 0\n",
        "    eval_loss = 0\n",
        "    for batch in data_loader:\n",
        "        i += 1\n",
        "        batch = {k: v.to(device) for k, v in batch.items()}\n",
        "        with torch.no_grad():\n",
        "            outputs = model(**batch)\n",
        "            logits = outputs.logits\n",
        "            eval_loss += criterion(logits.view(-1, 10),\n",
        "                                   batch['labels'].view(-1)).item()\n",
        "        y_pred = torch.argmax(logits, dim=-1).detach().cpu().numpy().tolist()\n",
        "        y_true = batch['labels'].detach().cpu().numpy().tolist()  # .squeeze()\n",
        "        real_len = torch.sum(batch['attention_mask'],\n",
        "                             1).detach().cpu().numpy().tolist()\n",
        "        for j in range(len(real_len)):\n",
        "            pred_tmp = []\n",
        "            true_tmp = []\n",
        "            for k in range(real_len[j]):  # range(len(y_true[j])):\n",
        "                if y_true[j][k] != ignore_label_id:\n",
        "                    pred_tmp.append(y_pred[j][k])\n",
        "                    true_tmp.append(y_true[j][k])\n",
        "            val_true.append(true_tmp)\n",
        "            val_pred.append(pred_tmp)\n",
        "            all_true.extend(true_tmp)\n",
        "            all_pred.extend(pred_tmp)\n",
        "    print(\"true: \", val_true)\n",
        "    print(\"pred: \", val_pred)\n",
        "    eval_loss = eval_loss / (i+1)\n",
        "    f1 = F1(val_true, val_pred)\n",
        "    confusion_matrix_eval = confusion_matrix(all_true, all_pred)\n",
        "    target_names =  [\"B_BACKGROUND\", \"I_BACKGROUND\", \"B_OBJECTIVE\", \"I_OBJECTIVE\", \"B_METHODS\", \"I_METHODS\", \"B_RESULTS\", \"I_RESULTS\", \"B_CONCLUSIONS\", \"I_CONCLUSIONS\"]\n",
        "    classificaiton_report_eval = classification_report(all_true, all_pred, target_names = target_names)\n",
        "\n",
        "\n",
        "\n",
        "    return f1, eval_loss, confusion_matrix_eval, classificaiton_report_eval\n"
      ]
    },
    {
      "cell_type": "code",
      "execution_count": null,
      "metadata": {
        "id": "idO_YYYUApEF"
      },
      "outputs": [],
      "source": [
        "def train_and_eval(model, train_loader, valid_loader, criterion,\n",
        "                   optimizer, scheduler, num_epochs, device=device):\n",
        "    best_acc = 0.0\n",
        "    # patience = 0\n",
        "    progress_bar = tqdm(range(num_training_steps))\n",
        "    for epoch in range(num_epochs):\n",
        "        count = 0\n",
        "        model.train()\n",
        "        print(\"***** Running training epoch {} *****\".format(epoch+1))\n",
        "        running_loss = 0\n",
        "        for batch in train_loader:\n",
        "            batch = {k: v.to(device) for k, v in batch.items()}\n",
        "            outputs = model(**batch)\n",
        "            logits = outputs.logits\n",
        "            loss = criterion(logits.view(-1, 10), batch['labels'].view(-1))\n",
        "            loss /= grad_acu_steps\n",
        "            running_loss += loss.item()\n",
        "            loss.backward()\n",
        "            count += 1\n",
        "            if count % grad_acu_steps == 0:\n",
        "                if count % (grad_acu_steps*20) == 0:\n",
        "                    running_loss /= 20\n",
        "                    print(f'running_loss:{running_loss}')\n",
        "                    running_loss = 0\n",
        "                optimizer.step()\n",
        "                scheduler.step()\n",
        "                optimizer.zero_grad()\n",
        "                progress_bar.update(1)\n",
        "        model.eval()\n",
        "        acc, eval_loss, confusion_matrix_eval, classificaiton_report_eval = evaluate(model, valid_loader, criterion)\n",
        "        print(f'evaluation loss: {eval_loss}')\n",
        "        if acc > best_acc:\n",
        "            best_acc = acc\n",
        "            torch.save(model.state_dict(), \"best_model.pth\")\n",
        "        print(\"current acc is {:.4f}, best acc is {:.4f}\".format(acc, best_acc))"
      ]
    },
    {
      "cell_type": "code",
      "execution_count": null,
      "metadata": {
        "colab": {
          "base_uri": "https://localhost:8080/",
          "height": 1000,
          "referenced_widgets": [
            "176ca1868acb494fb92264cf600256b4",
            "f4ea0bc51e9b4c9898a31e5e7bb5a964",
            "a92358e460bf4e97ae4271b8b918e099",
            "17fb5acd828946afa62e94d755599132",
            "8c1b8e0d2f564daab36782a8c8f09352",
            "2631d9e1d0534e7980aad6f6b8a3067e",
            "823aee64f43c47af87174cabbf2e8c10",
            "3f7377b4e0d24ae89d9e294ed1e56a71",
            "bedf987edb4c4fbc826b822d69722dd7",
            "4959d86bc99d4189be582eb149b5cd89",
            "5cfc075728cd49ee9044b5fe2b4d5afc"
          ]
        },
        "id": "EwOnPjchAsbP",
        "outputId": "2e78ad80-2efb-484d-bdf7-0dc9d8aa07b1"
      },
      "outputs": [
        {
          "output_type": "stream",
          "name": "stderr",
          "text": [
            "Some weights of the model checkpoint at /content/gdrive/My Drive/scibert were not used when initializing BertForTokenClassification: ['cls.predictions.transform.LayerNorm.weight', 'cls.predictions.decoder.bias', 'cls.predictions.bias', 'cls.predictions.decoder.weight', 'cls.seq_relationship.weight', 'cls.predictions.transform.dense.bias', 'cls.predictions.transform.dense.weight', 'cls.seq_relationship.bias', 'cls.predictions.transform.LayerNorm.bias']\n",
            "- This IS expected if you are initializing BertForTokenClassification from the checkpoint of a model trained on another task or with another architecture (e.g. initializing a BertForSequenceClassification model from a BertForPreTraining model).\n",
            "- This IS NOT expected if you are initializing BertForTokenClassification from the checkpoint of a model that you expect to be exactly identical (initializing a BertForSequenceClassification model from a BertForSequenceClassification model).\n",
            "Some weights of BertForTokenClassification were not initialized from the model checkpoint at /content/gdrive/My Drive/scibert and are newly initialized: ['classifier.weight', 'classifier.bias']\n",
            "You should probably TRAIN this model on a down-stream task to be able to use it for predictions and inference.\n",
            "/usr/local/lib/python3.7/dist-packages/transformers/optimization.py:309: FutureWarning: This implementation of AdamW is deprecated and will be removed in a future version. Use thePyTorch implementation torch.optim.AdamW instead, or set `no_deprecation_warning=True` to disable this warning\n",
            "  FutureWarning,\n"
          ]
        },
        {
          "output_type": "display_data",
          "data": {
            "application/vnd.jupyter.widget-view+json": {
              "model_id": "176ca1868acb494fb92264cf600256b4",
              "version_minor": 0,
              "version_major": 2
            },
            "text/plain": [
              "  0%|          | 0/563 [00:00<?, ?it/s]"
            ]
          },
          "metadata": {}
        },
        {
          "output_type": "stream",
          "name": "stdout",
          "text": [
            "***** Running training epoch 1 *****\n",
            "running_loss:2.2057857900857925\n",
            "running_loss:2.257635323703289\n",
            "running_loss:1.6914961449801922\n",
            "running_loss:1.4423181988298892\n",
            "running_loss:1.3809612385928631\n",
            "true:  [[0, 1, 2], [0, 2, 4], [2, 4, 5], [4, 5, 6], [4, 6, 7], [6, 7, 7], [6, 7, 7], [6, 7, 8], [6, 8, 9], [0, 2, 4], [2, 4, 5], [4, 5, 5], [4, 5, 6], [4, 6, 7], [6, 7, 7], [6, 7, 7], [6, 7, 7], [6, 7, 8], [6, 8, 9], [8, 9, 9], [0, 1, 4], [0, 4, 5], [4, 5, 6], [4, 6, 7], [6, 7, 7], [6, 7, 8], [6, 8, 9], [8, 9, 9], [0, 1, 2], [0, 2, 4], [2, 4, 5], [4, 5, 5], [4, 5, 5], [4, 5, 5], [4, 5, 6], [4, 6, 7], [6, 7, 7], [6, 7, 7], [6, 7, 7], [6, 7, 8], [6, 8, 9], [2, 4, 5], [4, 5, 5], [4, 5, 6], [4, 6, 7], [6, 7, 7], [6, 7, 7], [6, 7, 7], [6, 7, 7], [6, 7, 7], [6, 7, 7], [6, 7, 7], [6, 7, 7], [6, 7, 7], [6, 7, 7], [6, 7, 8], [6, 8, 9], [0, 1, 2], [0, 2, 4], [2, 4, 5], [4, 5, 6], [4, 6, 7], [6, 7, 7], [6, 7, 7], [6, 7, 8], [0, 1, 2], [0, 2, 4], [2, 4, 5], [4, 5, 6], [4, 6, 7], [6, 7, 7], [6, 7, 7], [6, 7, 7], [6, 7, 8], [6, 8, 9], [0, 1, 2], [0, 2, 4], [2, 4, 5], [4, 5, 6], [4, 6, 7], [6, 7, 7], [6, 7, 8], [6, 8, 9], [0, 2, 4], [2, 4, 5], [4, 5, 5], [4, 5, 6], [4, 6, 7], [6, 7, 7], [6, 7, 7], [6, 7, 8], [0, 1, 1], [0, 1, 2], [0, 2, 4], [2, 4, 5], [4, 5, 5], [4, 5, 6], [4, 6, 7], [6, 7, 7], [6, 7, 7], [6, 7, 8], [6, 8, 9], [0, 2, 4], [2, 4, 5], [4, 5, 5], [4, 5, 5], [4, 5, 6], [4, 6, 7], [6, 7, 7], [6, 7, 8], [0, 2, 4], [2, 4, 5], [4, 5, 5], [4, 5, 6], [4, 6, 7], [6, 7, 7], [6, 7, 7], [6, 7, 8], [6, 8, 9], [8, 9, 9], [0, 1, 2], [0, 2, 4], [2, 4, 5], [4, 5, 5], [4, 5, 5], [4, 5, 5], [4, 5, 5], [4, 5, 5], [4, 5, 5], [4, 5, 5], [4, 5, 6], [4, 6, 7], [6, 7, 7], [6, 7, 7], [6, 7, 7], [6, 7, 7], [6, 7, 8], [6, 8, 9], [8, 9, 9], [0, 1, 2], [0, 2, 4], [2, 4, 5], [4, 5, 5], [4, 5, 5], [4, 5, 5], [4, 5, 6], [4, 6, 7], [6, 7, 8], [0, 2, 4], [2, 4, 5], [4, 5, 6], [4, 6, 8], [6, 8, 9], [2, 4, 5], [4, 5, 5], [4, 5, 6], [4, 6, 7], [6, 7, 8], [0, 2, 4], [2, 4, 6], [4, 6, 7], [6, 7, 7], [6, 7, 7], [6, 7, 7], [6, 7, 7], [6, 7, 7], [6, 7, 8], [6, 8, 9], [2, 4, 5], [4, 5, 5], [4, 5, 5], [4, 5, 6], [4, 6, 8], [0, 2, 4], [2, 4, 5], [4, 5, 5], [4, 5, 5], [4, 5, 5], [4, 5, 6], [4, 6, 7], [6, 7, 7], [6, 7, 7], [6, 7, 7], [6, 7, 8], [6, 8, 9], [2, 0, 1], [0, 1, 2], [0, 2, 4], [2, 4, 5], [4, 5, 6], [4, 6, 7], [6, 7, 7], [6, 7, 7], [6, 7, 7], [6, 7, 7], [6, 7, 8], [6, 8, 9], [8, 9, 9], [0, 1, 2], [0, 2, 4], [2, 4, 5], [4, 5, 5], [4, 5, 5], [4, 5, 5], [4, 5, 5], [4, 5, 6], [4, 6, 7], [6, 7, 7], [6, 7, 7], [6, 7, 8], [2, 4, 5], [4, 5, 5], [4, 5, 6], [4, 6, 7], [6, 7, 7], [6, 7, 7], [6, 7, 7], [6, 7, 7], [6, 7, 8], [6, 8, 9], [8, 9, 9], [2, 4, 5], [4, 5, 5], [4, 5, 6], [4, 6, 7], [6, 7, 7], [6, 7, 8], [0, 1, 2], [0, 2, 4], [2, 4, 5], [4, 5, 5], [4, 5, 5], [4, 5, 6], [4, 6, 7], [6, 7, 7], [6, 7, 7], [6, 7, 8], [6, 8, 9], [2, 4, 5], [4, 5, 6], [4, 6, 7], [6, 7, 7], [6, 7, 7], [6, 7, 7], [6, 7, 7], [6, 7, 8], [6, 8, 9], [0, 2, 4], [2, 4, 5], [4, 5, 5], [4, 5, 5], [4, 5, 5], [4, 5, 6], [4, 6, 7], [6, 7, 7], [6, 7, 7], [6, 7, 8], [0, 1, 2], [0, 2, 4], [2, 4, 5], [4, 5, 5], [4, 5, 6], [4, 6, 7], [6, 7, 7], [6, 7, 8], [6, 8, 9], [0, 1, 1], [0, 1, 2], [0, 2, 4], [2, 4, 5], [4, 5, 5], [4, 5, 5], [4, 5, 6], [4, 6, 7], [6, 7, 7], [6, 7, 7], [6, 7, 7], [6, 7, 7], [6, 7, 8], [6, 8, 9], [8, 9, 9], [0, 1, 2], [0, 2, 4], [2, 4, 5], [4, 5, 5], [4, 5, 5], [4, 5, 6], [4, 6, 7], [6, 7, 7], [6, 7, 7], [6, 7, 8], [6, 8, 9], [8, 9, 9], [8, 9, 9], [0, 1, 1], [0, 1, 2], [0, 2, 4], [2, 4, 5], [4, 5, 5], [4, 5, 5], [4, 5, 5], [4, 5, 6], [4, 6, 7], [6, 7, 8], [0, 1, 2], [0, 2, 4], [2, 4, 5], [4, 5, 5], [4, 5, 6], [4, 6, 7], [6, 7, 7], [6, 7, 7], [6, 7, 8], [6, 8, 9], [8, 9, 9], [0, 1, 2], [0, 2, 4], [2, 4, 5], [4, 5, 5], [4, 5, 5], [4, 5, 6], [4, 6, 7], [6, 7, 7], [6, 7, 7], [6, 7, 8], [6, 8, 9], [2, 4, 5], [4, 5, 5], [4, 5, 5], [4, 5, 6], [4, 6, 7], [6, 7, 8], [6, 8, 9], [8, 9, 9], [8, 9, 9], [8, 9, 9], [0, 2, 4], [2, 4, 5], [4, 5, 5], [4, 5, 5], [4, 5, 5], [4, 5, 5], [4, 5, 6], [4, 6, 7], [6, 7, 7], [6, 7, 7], [6, 7, 7], [6, 7, 7], [6, 7, 7], [6, 7, 7], [6, 7, 8], [6, 8, 9], [0, 1, 2], [0, 2, 4], [2, 4, 5], [4, 5, 5], [4, 5, 5], [4, 5, 6], [4, 6, 7], [6, 7, 7], [6, 7, 8], [6, 8, 9], [0, 1, 1], [0, 1, 2], [0, 2, 4], [2, 4, 5], [4, 5, 5], [4, 5, 5], [4, 5, 6], [4, 6, 8], [0, 2, 4], [2, 4, 6], [4, 6, 7], [6, 7, 7], [6, 7, 7], [6, 7, 7], [6, 7, 7], [6, 7, 8], [6, 8, 9], [0, 1, 2], [0, 2, 4], [2, 4, 5], [4, 5, 5], [4, 5, 5], [4, 5, 6], [4, 6, 7], [6, 7, 8], [6, 8, 9], [2, 3, 4], [2, 4, 5], [4, 5, 5], [4, 5, 5], [4, 5, 6], [4, 6, 7], [6, 7, 7], [6, 7, 8], [0, 1, 4], [0, 4, 2], [4, 2, 6], [2, 6, 7], [6, 7, 7], [6, 7, 7], [6, 7, 7], [6, 7, 7], [6, 7, 8], [6, 8, 9], [8, 9, 9], [8, 9, 9], [0, 1, 1], [0, 1, 2], [0, 2, 4], [2, 4, 5], [4, 5, 5], [4, 5, 5], [4, 5, 5], [4, 5, 5], [4, 5, 6], [4, 6, 7], [6, 7, 7], [6, 7, 7], [6, 7, 8], [6, 8, 9], [0, 1, 1], [0, 1, 2], [0, 2, 4], [2, 4, 5], [4, 5, 5], [4, 5, 6], [4, 6, 7], [6, 7, 8], [6, 8, 9], [0, 1, 2], [0, 2, 4], [2, 4, 6], [4, 6, 7], [6, 7, 7], [6, 7, 7], [6, 7, 7], [6, 7, 7], [6, 7, 8], [6, 8, 9], [2, 4, 5], [4, 5, 5], [4, 5, 5], [4, 5, 6], [4, 6, 7], [6, 7, 8], [6, 8, 9], [0, 2, 4], [2, 4, 5], [4, 5, 5], [4, 5, 5], [4, 5, 6], [4, 6, 7], [6, 7, 7], [6, 7, 7], [6, 7, 7], [6, 7, 7], [6, 7, 7], [6, 7, 7], [6, 7, 8], [6, 8, 9], [0, 1, 4], [0, 4, 5], [4, 5, 5], [4, 5, 6], [4, 6, 7], [6, 7, 7], [6, 7, 7], [6, 7, 7], [6, 7, 7], [6, 7, 7], [6, 7, 8], [2, 0, 1], [0, 1, 1], [0, 1, 1], [0, 1, 2], [0, 2, 4], [2, 4, 5], [4, 5, 6], [4, 6, 7], [6, 7, 8], [0, 1, 1], [0, 1, 1], [0, 1, 2], [0, 2, 3], [2, 3, 4], [2, 4, 5], [4, 5, 6], [4, 6, 7], [6, 7, 7], [6, 7, 8], [0, 1, 2], [0, 2, 4], [2, 4, 5], [4, 5, 5], [4, 5, 5], [4, 5, 6], [4, 6, 7], [6, 7, 7], [6, 7, 7], [6, 7, 7], [6, 7, 8], [6, 8, 9], [2, 4, 5], [4, 5, 5], [4, 5, 5], [4, 5, 6], [4, 6, 7], [6, 7, 7], [6, 7, 7], [6, 7, 7], [6, 7, 7], [6, 7, 8], [0, 1, 2], [0, 2, 3], [2, 3, 4], [2, 4, 5], [4, 5, 6], [4, 6, 7], [6, 7, 8], [6, 8, 9], [8, 9, 9], [0, 1, 1], [0, 1, 1], [0, 1, 1], [0, 1, 1], [0, 1, 2], [0, 2, 3], [2, 3, 4], [2, 4, 5], [4, 5, 5], [4, 5, 5], [4, 5, 5], [4, 5, 6], [4, 6, 8], [6, 8, 9], [8, 0, 1], [0, 1, 1], [0, 1, 1], [0, 1, 2], [0, 2, 6], [2, 6, 7], [6, 7, 7], [0, 2, 4], [2, 4, 5], [4, 5, 5], [4, 5, 6], [4, 6, 8], [2, 4, 5], [4, 5, 5], [4, 5, 5], [4, 5, 6], [4, 6, 7], [6, 7, 7], [6, 7, 7], [6, 7, 7], [6, 7, 8], [0, 1, 1], [0, 1, 4], [0, 4, 5], [4, 5, 6], [4, 6, 8], [6, 8, 9], [0, 2, 4], [2, 4, 5], [4, 5, 6], [4, 6, 7], [6, 7, 7], [6, 7, 8], [2, 0, 1], [0, 1, 4], [0, 4, 5], [4, 5, 5], [4, 5, 6], [4, 6, 7], [6, 7, 7], [6, 7, 7], [6, 7, 8], [6, 8, 9], [8, 9, 9], [8, 9, 9], [0, 1, 2], [0, 2, 4], [2, 4, 6], [4, 6, 8], [2, 4, 5], [4, 5, 5], [4, 5, 5], [4, 5, 6], [4, 6, 7], [6, 7, 7], [6, 7, 7], [6, 7, 8], [0, 1, 1], [0, 1, 1], [0, 1, 4], [0, 4, 5], [4, 5, 5], [4, 5, 5], [4, 5, 5], [4, 5, 6], [4, 6, 7], [6, 7, 7], [6, 7, 7], [6, 7, 7], [6, 7, 7], [6, 7, 7], [6, 7, 8], [2, 4, 5], [4, 5, 5], [4, 5, 5], [4, 5, 5], [4, 5, 5], [4, 5, 5], [4, 5, 6], [4, 6, 7], [6, 7, 7], [6, 7, 8], [6, 8, 9], [0, 1, 1], [0, 1, 2], [0, 2, 3], [2, 3, 4], [2, 4, 5], [4, 5, 5], [4, 5, 6], [4, 6, 7], [6, 7, 8], [0, 1, 2], [0, 2, 4], [2, 4, 5], [4, 5, 5], [4, 5, 5], [4, 5, 6], [4, 6, 7], [6, 7, 7], [6, 7, 7], [6, 7, 8], [0, 1, 1], [0, 1, 1], [0, 1, 1], [0, 1, 4], [0, 4, 5], [4, 5, 5], [4, 5, 5], [4, 5, 5], [4, 5, 5], [4, 5, 5], [4, 5, 5], [4, 5, 5], [4, 5, 5], [4, 5, 5], [4, 5, 5], [4, 5, 5], [4, 5, 8], [4, 8, 9], [0, 2, 4], [2, 4, 5], [4, 5, 5], [4, 5, 6], [4, 6, 7], [6, 7, 8], [6, 8, 9], [0, 2, 4], [2, 4, 5], [4, 5, 6], [4, 6, 7], [6, 7, 7], [6, 7, 7], [6, 7, 7], [6, 7, 7], [6, 7, 7], [6, 7, 8], [6, 8, 9], [0, 1, 1], [0, 1, 1], [0, 1, 1], [0, 1, 2], [0, 2, 8], [0, 2, 6], [2, 6, 7], [6, 7, 7], [6, 7, 7], [6, 7, 8], [0, 1, 2], [0, 2, 6], [2, 6, 7], [6, 7, 7], [6, 7, 7], [6, 7, 7], [6, 7, 8], [6, 8, 9], [2, 6, 7], [6, 7, 7], [6, 7, 7], [6, 7, 7], [6, 7, 7], [6, 7, 8], [0, 2, 3], [2, 3, 6], [2, 6, 7], [6, 7, 7], [6, 7, 7], [6, 7, 8], [6, 8, 9], [0, 2, 3], [2, 3, 4], [2, 4, 5], [4, 5, 6], [4, 6, 8], [0, 1, 2], [0, 2, 6], [2, 6, 7], [6, 7, 7], [6, 7, 7], [6, 7, 7], [6, 7, 8], [0, 1, 4], [0, 4, 5], [4, 5, 6], [4, 6, 7], [6, 7, 7], [6, 7, 8], [6, 8, 9], [0, 2, 6], [2, 6, 7], [6, 7, 7], [6, 7, 7], [6, 7, 7], [0, 1, 1], [0, 1, 1], [0, 1, 2], [0, 2, 8], [0, 1, 1], [0, 1, 1], [0, 1, 2], [0, 2, 8], [0, 1, 6], [0, 6, 7], [6, 7, 7], [6, 7, 7], [2, 6, 7], [6, 7, 7], [6, 7, 7], [6, 7, 7], [0, 1, 1], [0, 1, 1], [0, 1, 1], [0, 1, 1], [0, 1, 2], [0, 1, 2], [0, 2, 3], [2, 3, 4], [2, 4, 5], [4, 5, 5], [4, 5, 5], [4, 5, 5], [4, 5, 5], [4, 5, 5], [4, 5, 5], [4, 5, 5], [4, 5, 5], [4, 5, 6], [0, 1, 1], [0, 1, 1], [0, 1, 1], [0, 1, 6], [4, 5, 5], [4, 5, 6], [4, 6, 7], [6, 7, 7], [6, 7, 7], [6, 7, 8], [0, 1, 1], [0, 1, 1], [0, 1, 4], [0, 4, 6], [4, 6, 7], [6, 7, 7], [6, 7, 7], [6, 7, 7], [6, 7, 8], [6, 8, 9], [0, 1, 1], [0, 1, 6], [0, 6, 7], [6, 7, 7], [6, 7, 7], [6, 7, 7], [6, 7, 8], [2, 0, 4], [0, 4, 6], [4, 6, 7], [6, 7, 7], [6, 7, 7], [6, 7, 7], [6, 7, 8], [0, 6, 7], [6, 7, 4], [6, 4, 6], [4, 6, 7], [6, 7, 7], [6, 7, 8], [0, 1, 2], [0, 2, 4], [2, 4, 6], [4, 6, 7], [6, 7, 8], [6, 8, 9], [0, 1, 2], [0, 2, 4], [2, 4, 6], [4, 6, 7], [6, 7, 8], [0, 4, 6], [4, 6, 7], [6, 7, 7], [6, 7, 8], [6, 8, 9], [2, 4, 5], [4, 5, 6], [4, 6, 7], [6, 7, 7], [6, 7, 7], [6, 7, 7], [6, 7, 8], [0, 6, 7], [6, 7, 7], [6, 7, 7], [6, 7, 7], [6, 7, 7], [6, 7, 7], [6, 7, 7], [6, 7, 7], [6, 7, 8], [0, 1, 1], [0, 1, 1], [0, 1, 1], [0, 1, 2], [0, 1, 4], [0, 4, 5], [4, 5, 6], [4, 6, 8], [0, 1, 1], [0, 1, 2], [0, 2, 6], [2, 6, 7], [6, 7, 7], [6, 7, 8], [2, 6, 7], [6, 7, 7], [6, 7, 7], [6, 7, 7], [6, 7, 8], [0, 1, 2], [0, 2, 4], [2, 4, 5], [4, 5, 5], [4, 5, 6], [4, 6, 8], [0, 1, 1], [0, 1, 1], [0, 1, 2], [0, 2, 4], [2, 4, 5], [4, 5, 5], [4, 5, 8], [4, 8, 9], [0, 2, 4], [2, 4, 5], [4, 5, 5], [4, 5, 6], [4, 6, 8], [6, 8, 9]]\n",
            "pred:  [[6, 6, 6], [6, 6, 6], [6, 6, 6], [6, 6, 6], [6, 6, 6], [6, 6, 6], [6, 6, 6], [6, 6, 6], [6, 6, 6], [7, 7, 7], [6, 6, 6], [7, 7, 7], [7, 7, 7], [7, 7, 7], [7, 7, 7], [7, 7, 7], [7, 7, 7], [7, 7, 7], [7, 7, 7], [6, 6, 6], [7, 7, 7], [7, 7, 7], [7, 7, 7], [7, 7, 7], [6, 6, 6], [6, 6, 6], [6, 6, 6], [6, 6, 6], [6, 6, 6], [7, 7, 7], [7, 7, 7], [7, 7, 7], [7, 7, 7], [6, 6, 6], [6, 6, 6], [6, 6, 6], [6, 6, 6], [7, 7, 7], [7, 7, 7], [7, 7, 7], [6, 6, 6], [7, 7, 7], [7, 7, 7], [7, 7, 7], [7, 7, 7], [7, 7, 7], [7, 7, 7], [7, 7, 7], [6, 6, 6], [6, 6, 6], [6, 6, 6], [7, 7, 7], [7, 7, 7], [7, 7, 7], [7, 7, 7], [7, 7, 7], [7, 7, 7], [7, 7, 7], [7, 7, 7], [7, 7, 7], [7, 7, 7], [7, 7, 7], [7, 7, 7], [7, 7, 7], [7, 7, 7], [6, 6, 6], [6, 6, 6], [6, 6, 6], [7, 7, 7], [7, 7, 7], [6, 6, 6], [6, 6, 6], [6, 6, 6], [6, 6, 6], [6, 6, 6], [6, 6, 6], [7, 7, 7], [7, 7, 7], [7, 7, 7], [7, 7, 7], [7, 7, 7], [7, 7, 7], [7, 7, 7], [6, 6, 6], [6, 6, 6], [7, 7, 7], [7, 7, 7], [7, 7, 7], [6, 6, 6], [6, 6, 6], [6, 6, 6], [6, 6, 6], [6, 6, 6], [6, 6, 6], [6, 6, 6], [6, 6, 6], [6, 6, 6], [7, 7, 7], [7, 7, 7], [7, 7, 7], [7, 7, 7], [7, 7, 7], [6, 7, 7], [7, 7, 7], [7, 7, 7], [6, 6, 6], [7, 7, 7], [7, 7, 7], [6, 6, 6], [6, 6, 6], [7, 7, 7], [6, 7, 7], [7, 7, 7], [7, 7, 7], [7, 7, 7], [7, 7, 7], [7, 7, 7], [7, 7, 7], [7, 7, 7], [6, 6, 6], [6, 6, 6], [6, 6, 6], [6, 6, 6], [6, 6, 6], [6, 6, 6], [6, 6, 6], [6, 6, 6], [6, 6, 6], [6, 6, 6], [7, 7, 7], [7, 7, 7], [7, 7, 7], [7, 7, 7], [7, 7, 7], [7, 7, 7], [7, 7, 7], [7, 7, 7], [7, 7, 7], [6, 6, 6], [6, 6, 6], [6, 6, 6], [6, 6, 6], [6, 6, 6], [6, 6, 6], [6, 6, 6], [7, 7, 7], [7, 7, 7], [7, 7, 7], [6, 6, 6], [7, 7, 7], [7, 7, 7], [7, 7, 7], [7, 7, 7], [7, 7, 7], [7, 7, 7], [7, 7, 7], [7, 7, 7], [7, 7, 7], [6, 6, 6], [7, 7, 7], [7, 7, 7], [7, 7, 7], [7, 7, 7], [7, 7, 7], [7, 7, 7], [7, 7, 7], [7, 7, 7], [7, 7, 7], [7, 7, 7], [6, 6, 6], [7, 7, 7], [6, 7, 7], [7, 7, 7], [6, 6, 6], [6, 6, 6], [6, 6, 6], [6, 6, 6], [6, 6, 6], [7, 7, 7], [7, 7, 7], [7, 7, 7], [7, 7, 7], [7, 7, 7], [6, 6, 6], [6, 6, 6], [6, 6, 6], [6, 6, 6], [6, 7, 7], [7, 7, 7], [7, 7, 7], [7, 7, 7], [7, 7, 7], [6, 6, 6], [7, 7, 7], [7, 7, 7], [7, 7, 7], [7, 7, 7], [6, 6, 6], [6, 6, 6], [6, 6, 6], [6, 6, 6], [6, 6, 6], [6, 6, 6], [6, 6, 6], [6, 6, 6], [6, 6, 6], [6, 6, 6], [7, 7, 7], [7, 7, 7], [7, 7, 7], [7, 7, 7], [7, 7, 7], [7, 7, 7], [7, 7, 7], [7, 7, 7], [7, 7, 7], [7, 7, 7], [7, 7, 7], [7, 7, 7], [7, 7, 7], [6, 6, 6], [6, 6, 6], [6, 6, 6], [6, 6, 6], [7, 7, 7], [7, 7, 7], [7, 7, 7], [6, 6, 6], [6, 6, 6], [6, 6, 6], [6, 6, 6], [6, 6, 6], [7, 7, 7], [7, 7, 7], [7, 7, 7], [7, 7, 7], [6, 6, 6], [6, 6, 6], [6, 6, 6], [6, 6, 6], [7, 7, 7], [7, 7, 7], [7, 7, 7], [7, 7, 7], [7, 7, 7], [7, 7, 7], [6, 6, 6], [6, 6, 6], [6, 6, 6], [6, 6, 6], [7, 7, 7], [7, 7, 7], [7, 7, 7], [6, 6, 6], [7, 7, 7], [6, 6, 6], [6, 6, 6], [6, 6, 6], [6, 6, 6], [6, 6, 6], [6, 6, 6], [6, 6, 6], [7, 7, 7], [7, 7, 7], [7, 7, 7], [6, 6, 6], [6, 6, 6], [6, 6, 6], [6, 6, 6], [6, 6, 6], [6, 6, 6], [6, 6, 6], [6, 6, 6], [6, 6, 6], [6, 6, 6], [6, 6, 6], [6, 6, 6], [6, 6, 6], [6, 6, 6], [6, 6, 6], [6, 6, 6], [6, 6, 6], [7, 7, 7], [7, 7, 7], [7, 7, 7], [7, 7, 7], [7, 7, 7], [7, 7, 7], [7, 7, 7], [7, 7, 7], [7, 7, 7], [7, 7, 7], [6, 6, 6], [6, 6, 6], [6, 6, 6], [6, 6, 6], [6, 6, 6], [6, 7, 7], [7, 7, 7], [7, 7, 7], [6, 6, 6], [6, 7, 7], [7, 7, 7], [7, 7, 7], [6, 6, 6], [6, 6, 6], [6, 6, 6], [6, 6, 6], [6, 6, 6], [6, 6, 6], [6, 6, 6], [7, 7, 7], [6, 6, 6], [6, 6, 6], [6, 6, 6], [6, 6, 6], [6, 6, 6], [6, 6, 6], [6, 6, 6], [6, 6, 6], [6, 6, 6], [6, 6, 6], [6, 6, 6], [6, 6, 6], [6, 6, 6], [6, 6, 6], [7, 7, 7], [7, 7, 7], [6, 6, 6], [6, 7, 7], [7, 7, 7], [7, 7, 7], [7, 7, 7], [6, 6, 6], [6, 6, 6], [6, 6, 6], [7, 7, 7], [7, 7, 7], [7, 7, 7], [6, 6, 6], [6, 6, 6], [6, 6, 6], [7, 7, 7], [7, 7, 7], [7, 7, 7], [7, 7, 7], [7, 7, 7], [7, 7, 7], [7, 7, 7], [7, 7, 7], [7, 7, 7], [7, 7, 7], [6, 6, 6], [6, 6, 6], [6, 6, 6], [6, 6, 6], [6, 6, 6], [6, 6, 6], [6, 6, 6], [6, 6, 6], [6, 6, 6], [6, 6, 6], [6, 6, 6], [6, 6, 6], [6, 6, 6], [6, 6, 6], [6, 6, 6], [7, 7, 7], [7, 7, 7], [7, 7, 7], [6, 7, 7], [7, 7, 7], [7, 7, 7], [7, 7, 7], [7, 7, 7], [7, 7, 7], [7, 7, 7], [7, 7, 7], [7, 7, 7], [6, 6, 6], [6, 6, 6], [6, 6, 6], [6, 6, 6], [6, 6, 6], [6, 6, 6], [7, 7, 7], [6, 7, 7], [7, 7, 7], [6, 7, 7], [7, 7, 7], [7, 7, 7], [6, 6, 6], [6, 6, 6], [6, 6, 6], [6, 6, 6], [6, 6, 6], [6, 6, 6], [6, 6, 6], [6, 6, 6], [7, 7, 7], [7, 7, 7], [7, 7, 7], [7, 7, 7], [7, 7, 7], [7, 7, 7], [7, 7, 7], [7, 7, 7], [7, 7, 7], [6, 6, 6], [6, 6, 6], [6, 6, 6], [6, 6, 6], [6, 6, 6], [6, 6, 6], [6, 6, 6], [7, 7, 7], [7, 7, 7], [7, 7, 7], [7, 7, 7], [7, 7, 7], [7, 7, 7], [7, 7, 7], [6, 6, 6], [6, 6, 6], [7, 7, 7], [7, 7, 7], [7, 7, 7], [7, 7, 7], [7, 7, 7], [7, 7, 7], [6, 6, 6], [6, 6, 6], [6, 6, 6], [7, 7, 7], [7, 7, 7], [7, 7, 7], [7, 7, 7], [7, 7, 7], [7, 7, 7], [7, 7, 7], [7, 7, 7], [6, 7, 7], [7, 7, 7], [7, 7, 7], [6, 7, 7], [7, 7, 7], [7, 7, 7], [7, 7, 7], [6, 7, 7], [6, 6, 6], [6, 6, 6], [6, 6, 6], [6, 6, 6], [7, 7, 7], [7, 7, 7], [7, 7, 7], [7, 7, 7], [7, 7, 7], [7, 7, 7], [7, 7, 7], [7, 7, 7], [7, 7, 7], [6, 6, 6], [6, 6, 6], [6, 6, 6], [6, 6, 6], [6, 6, 6], [6, 6, 6], [7, 7, 7], [7, 7, 7], [7, 7, 7], [6, 6, 6], [6, 6, 6], [6, 6, 6], [6, 6, 6], [6, 6, 6], [6, 6, 6], [7, 7, 7], [7, 7, 7], [7, 7, 7], [7, 7, 7], [7, 7, 7], [6, 6, 6], [6, 6, 6], [6, 6, 6], [6, 7, 7], [6, 7, 7], [7, 7, 7], [7, 7, 7], [7, 7, 7], [7, 7, 7], [7, 7, 7], [6, 6, 6], [6, 6, 6], [6, 6, 6], [6, 6, 6], [6, 6, 6], [7, 7, 7], [7, 7, 7], [7, 7, 7], [6, 6, 6], [7, 7, 7], [7, 7, 7], [6, 6, 6], [7, 7, 7], [7, 7, 7], [7, 7, 7], [7, 7, 7], [7, 7, 7], [7, 7, 7], [7, 7, 7], [7, 7, 7], [7, 7, 7], [7, 7, 7], [6, 6, 6], [6, 6, 6], [7, 7, 7], [7, 7, 7], [7, 7, 7], [7, 7, 7], [6, 7, 7], [7, 7, 7], [7, 7, 7], [6, 6, 6], [6, 6, 6], [6, 6, 6], [6, 6, 6], [6, 6, 6], [6, 6, 6], [6, 6, 6], [6, 6, 6], [6, 6, 6], [6, 6, 6], [6, 6, 6], [6, 6, 6], [6, 6, 6], [6, 6, 6], [7, 7, 7], [6, 6, 6], [6, 6, 6], [6, 6, 6], [6, 6, 6], [6, 6, 6], [6, 6, 6], [7, 7, 7], [7, 7, 7], [7, 7, 7], [7, 7, 7], [7, 7, 7], [7, 7, 7], [7, 7, 7], [4, 7, 7], [7, 7, 7], [7, 7, 7], [7, 7, 7], [7, 7, 7], [7, 7, 7], [7, 7, 7], [6, 6, 6], [6, 6, 6], [6, 6, 6], [6, 6, 6], [7, 7, 7], [7, 7, 7], [7, 7, 7], [7, 7, 7], [7, 7, 7], [7, 7, 7], [7, 7, 7], [7, 7, 7], [6, 6, 6], [6, 6, 6], [6, 6, 6], [7, 7, 7], [7, 7, 7], [7, 7, 7], [7, 7, 7], [7, 7, 7], [6, 6, 6], [6, 6, 6], [6, 6, 6], [6, 6, 6], [7, 7, 7], [7, 7, 7], [7, 7, 7], [7, 7, 7], [7, 7, 7], [7, 7, 7], [7, 7, 7], [7, 7, 7], [7, 7, 7], [7, 7, 7], [7, 7, 7], [7, 7, 7], [6, 6, 6], [6, 6, 6], [6, 6, 6], [6, 6, 6], [6, 6, 6], [7, 7, 7], [7, 7, 7], [7, 7, 7], [7, 7, 7], [7, 7, 7], [7, 7, 7], [7, 7, 7], [7, 7, 7], [6, 6, 6], [6, 6, 6], [7, 7, 7], [7, 7, 7], [7, 7, 7], [7, 7, 7], [7, 7, 7], [6, 6, 6], [6, 6, 6], [7, 7, 7], [7, 7, 7], [6, 6, 6], [6, 6, 6], [6, 6, 6], [6, 6, 6], [6, 6, 6], [6, 7, 7], [6, 7, 7], [7, 7, 7], [7, 7, 7], [7, 7, 7], [7, 7, 7], [6, 6, 6], [6, 6, 6], [6, 6, 6], [6, 6, 6], [7, 7, 7], [7, 7, 7], [7, 7, 7], [7, 7, 7], [7, 7, 7], [6, 7, 7], [6, 6, 6], [6, 6, 6], [6, 6, 6], [6, 6, 6], [6, 6, 6], [6, 6, 6], [7, 7, 7], [6, 7, 7], [7, 7, 7], [7, 7, 7], [7, 7, 7], [7, 7, 7], [6, 6, 6], [6, 6, 6], [7, 7, 7], [7, 7, 7], [7, 7, 7], [7, 7, 7], [6, 7, 7], [7, 7, 7], [7, 7, 7], [7, 7, 7], [7, 7, 7], [7, 7, 7], [7, 7, 7], [6, 6, 6], [6, 6, 6], [6, 6, 6], [6, 6, 6], [6, 6, 6], [6, 6, 6], [6, 6, 6], [6, 6, 6], [7, 7, 7], [7, 7, 7], [7, 7, 7], [6, 6, 6], [7, 7, 7], [6, 6, 6], [6, 6, 6], [6, 6, 6], [6, 6, 6], [6, 6, 6], [6, 6, 6], [6, 6, 6], [6, 6, 6], [6, 6, 6], [7, 7, 7], [7, 7, 7], [7, 7, 7], [7, 7, 7], [7, 7, 7], [7, 7, 7], [6, 7, 7], [6, 7, 7], [7, 7, 7], [7, 7, 7], [7, 7, 7], [7, 7, 7], [6, 6, 6], [6, 6, 6], [7, 7, 7], [7, 7, 7], [7, 7, 7], [6, 6, 6], [6, 6, 6], [6, 6, 6], [6, 6, 6], [6, 6, 6], [6, 6, 6], [7, 7, 7], [7, 7, 7], [6, 6, 6], [6, 6, 6], [6, 6, 6], [6, 7, 7], [7, 7, 7], [7, 7, 7], [6, 6, 6], [6, 6, 6], [6, 6, 6], [6, 6, 6], [6, 6, 6], [6, 6, 6], [6, 6, 6], [6, 6, 6], [6, 6, 6], [6, 6, 6], [7, 7, 7], [7, 7, 7], [6, 7, 7], [6, 6, 6], [6, 6, 6], [6, 6, 6], [6, 6, 6], [6, 6, 6], [6, 6, 6], [6, 6, 6], [6, 6, 6], [6, 7, 7], [7, 7, 7], [7, 7, 7], [7, 7, 7], [6, 6, 6], [7, 7, 7], [7, 7, 7], [7, 7, 7], [6, 6, 6], [6, 6, 6], [6, 6, 6], [6, 6, 6], [6, 6, 6], [6, 6, 6], [6, 6, 6], [7, 7, 7], [7, 7, 7], [7, 7, 7], [6, 6, 6], [6, 6, 6], [6, 6, 6], [6, 6, 6], [6, 6, 6], [6, 6, 6], [6, 6, 6], [6, 6, 6], [6, 6, 6], [6, 6, 6], [6, 6, 6], [6, 6, 6], [7, 7, 7], [7, 7, 7], [7, 7, 7], [7, 7, 7], [7, 7, 7], [7, 7, 7], [6, 6, 6], [6, 6, 6], [6, 6, 6], [7, 7, 7], [7, 7, 7], [7, 7, 7], [7, 7, 7], [7, 7, 7], [6, 6, 6], [6, 6, 6], [7, 7, 7], [7, 7, 7], [7, 7, 7], [7, 7, 7], [7, 7, 7], [7, 7, 7], [7, 7, 7], [7, 6, 7], [6, 7, 7], [7, 7, 7], [7, 7, 7], [6, 6, 6], [6, 6, 6], [6, 6, 6], [7, 7, 7], [7, 7, 7], [7, 7, 7], [6, 6, 6], [6, 6, 6], [6, 6, 6], [6, 6, 6], [6, 6, 6], [6, 6, 6], [6, 6, 6], [6, 6, 6], [6, 6, 6], [6, 6, 6], [6, 6, 6], [6, 6, 6], [6, 6, 6], [6, 6, 6], [6, 6, 6], [7, 7, 7], [7, 7, 7], [7, 7, 7], [6, 6, 6], [7, 7, 7], [7, 7, 7], [7, 7, 7], [7, 7, 7], [6, 6, 6], [6, 7, 7], [7, 7, 7], [7, 7, 7], [7, 7, 7], [7, 7, 7], [7, 7, 7], [7, 7, 7], [7, 7, 7], [6, 6, 6], [6, 6, 6], [6, 6, 6], [6, 6, 6], [6, 6, 6], [6, 6, 6], [6, 6, 6], [6, 6, 6], [6, 6, 6], [6, 6, 6], [6, 7, 7], [7, 7, 7], [7, 7, 7], [7, 7, 7], [7, 7, 7], [7, 7, 7], [7, 7, 7], [6, 6, 6], [6, 6, 6], [6, 6, 6], [6, 6, 6], [6, 6, 6], [6, 6, 6], [6, 6, 6], [6, 6, 6], [6, 6, 6], [6, 6, 6], [6, 6, 6], [6, 6, 6], [6, 6, 6], [6, 6, 6], [6, 6, 6], [6, 6, 6], [6, 6, 6], [7, 7, 7], [7, 7, 7], [6, 6, 6], [6, 6, 6], [6, 6, 6], [4, 6, 6], [6, 6, 6], [6, 6, 6]]\n",
            "precision: 0, recall: 0, F1: 0\n",
            "evaluation loss: 1.2342268239368093\n",
            "current acc is 0.0000, best acc is 0.0000\n",
            "***** Running training epoch 2 *****\n"
          ]
        },
        {
          "output_type": "stream",
          "name": "stderr",
          "text": [
            "/usr/local/lib/python3.7/dist-packages/sklearn/metrics/_classification.py:1318: UndefinedMetricWarning: Precision and F-score are ill-defined and being set to 0.0 in labels with no predicted samples. Use `zero_division` parameter to control this behavior.\n",
            "  _warn_prf(average, modifier, msg_start, len(result))\n",
            "/usr/local/lib/python3.7/dist-packages/sklearn/metrics/_classification.py:1318: UndefinedMetricWarning: Precision and F-score are ill-defined and being set to 0.0 in labels with no predicted samples. Use `zero_division` parameter to control this behavior.\n",
            "  _warn_prf(average, modifier, msg_start, len(result))\n",
            "/usr/local/lib/python3.7/dist-packages/sklearn/metrics/_classification.py:1318: UndefinedMetricWarning: Precision and F-score are ill-defined and being set to 0.0 in labels with no predicted samples. Use `zero_division` parameter to control this behavior.\n",
            "  _warn_prf(average, modifier, msg_start, len(result))\n"
          ]
        },
        {
          "output_type": "stream",
          "name": "stdout",
          "text": [
            "running_loss:1.3356353960931302\n",
            "running_loss:1.2814112439751626\n",
            "running_loss:1.1301460929214955\n",
            "running_loss:0.9544509526342153\n",
            "running_loss:1.0747656732797624\n",
            "true:  [[0, 1, 2], [0, 2, 4], [2, 4, 5], [4, 5, 6], [4, 6, 7], [6, 7, 7], [6, 7, 7], [6, 7, 8], [6, 8, 9], [0, 2, 4], [2, 4, 5], [4, 5, 5], [4, 5, 6], [4, 6, 7], [6, 7, 7], [6, 7, 7], [6, 7, 7], [6, 7, 8], [6, 8, 9], [8, 9, 9], [0, 1, 4], [0, 4, 5], [4, 5, 6], [4, 6, 7], [6, 7, 7], [6, 7, 8], [6, 8, 9], [8, 9, 9], [0, 1, 2], [0, 2, 4], [2, 4, 5], [4, 5, 5], [4, 5, 5], [4, 5, 5], [4, 5, 6], [4, 6, 7], [6, 7, 7], [6, 7, 7], [6, 7, 7], [6, 7, 8], [6, 8, 9], [2, 4, 5], [4, 5, 5], [4, 5, 6], [4, 6, 7], [6, 7, 7], [6, 7, 7], [6, 7, 7], [6, 7, 7], [6, 7, 7], [6, 7, 7], [6, 7, 7], [6, 7, 7], [6, 7, 7], [6, 7, 7], [6, 7, 8], [6, 8, 9], [0, 1, 2], [0, 2, 4], [2, 4, 5], [4, 5, 6], [4, 6, 7], [6, 7, 7], [6, 7, 7], [6, 7, 8], [0, 1, 2], [0, 2, 4], [2, 4, 5], [4, 5, 6], [4, 6, 7], [6, 7, 7], [6, 7, 7], [6, 7, 7], [6, 7, 8], [6, 8, 9], [0, 1, 2], [0, 2, 4], [2, 4, 5], [4, 5, 6], [4, 6, 7], [6, 7, 7], [6, 7, 8], [6, 8, 9], [0, 2, 4], [2, 4, 5], [4, 5, 5], [4, 5, 6], [4, 6, 7], [6, 7, 7], [6, 7, 7], [6, 7, 8], [0, 1, 1], [0, 1, 2], [0, 2, 4], [2, 4, 5], [4, 5, 5], [4, 5, 6], [4, 6, 7], [6, 7, 7], [6, 7, 7], [6, 7, 8], [6, 8, 9], [0, 2, 4], [2, 4, 5], [4, 5, 5], [4, 5, 5], [4, 5, 6], [4, 6, 7], [6, 7, 7], [6, 7, 8], [0, 2, 4], [2, 4, 5], [4, 5, 5], [4, 5, 6], [4, 6, 7], [6, 7, 7], [6, 7, 7], [6, 7, 8], [6, 8, 9], [8, 9, 9], [0, 1, 2], [0, 2, 4], [2, 4, 5], [4, 5, 5], [4, 5, 5], [4, 5, 5], [4, 5, 5], [4, 5, 5], [4, 5, 5], [4, 5, 5], [4, 5, 6], [4, 6, 7], [6, 7, 7], [6, 7, 7], [6, 7, 7], [6, 7, 7], [6, 7, 8], [6, 8, 9], [8, 9, 9], [0, 1, 2], [0, 2, 4], [2, 4, 5], [4, 5, 5], [4, 5, 5], [4, 5, 5], [4, 5, 6], [4, 6, 7], [6, 7, 8], [0, 2, 4], [2, 4, 5], [4, 5, 6], [4, 6, 8], [6, 8, 9], [2, 4, 5], [4, 5, 5], [4, 5, 6], [4, 6, 7], [6, 7, 8], [0, 2, 4], [2, 4, 6], [4, 6, 7], [6, 7, 7], [6, 7, 7], [6, 7, 7], [6, 7, 7], [6, 7, 7], [6, 7, 8], [6, 8, 9], [2, 4, 5], [4, 5, 5], [4, 5, 5], [4, 5, 6], [4, 6, 8], [0, 2, 4], [2, 4, 5], [4, 5, 5], [4, 5, 5], [4, 5, 5], [4, 5, 6], [4, 6, 7], [6, 7, 7], [6, 7, 7], [6, 7, 7], [6, 7, 8], [6, 8, 9], [2, 0, 1], [0, 1, 2], [0, 2, 4], [2, 4, 5], [4, 5, 6], [4, 6, 7], [6, 7, 7], [6, 7, 7], [6, 7, 7], [6, 7, 7], [6, 7, 8], [6, 8, 9], [8, 9, 9], [0, 1, 2], [0, 2, 4], [2, 4, 5], [4, 5, 5], [4, 5, 5], [4, 5, 5], [4, 5, 5], [4, 5, 6], [4, 6, 7], [6, 7, 7], [6, 7, 7], [6, 7, 8], [2, 4, 5], [4, 5, 5], [4, 5, 6], [4, 6, 7], [6, 7, 7], [6, 7, 7], [6, 7, 7], [6, 7, 7], [6, 7, 8], [6, 8, 9], [8, 9, 9], [2, 4, 5], [4, 5, 5], [4, 5, 6], [4, 6, 7], [6, 7, 7], [6, 7, 8], [0, 1, 2], [0, 2, 4], [2, 4, 5], [4, 5, 5], [4, 5, 5], [4, 5, 6], [4, 6, 7], [6, 7, 7], [6, 7, 7], [6, 7, 8], [6, 8, 9], [2, 4, 5], [4, 5, 6], [4, 6, 7], [6, 7, 7], [6, 7, 7], [6, 7, 7], [6, 7, 7], [6, 7, 8], [6, 8, 9], [0, 2, 4], [2, 4, 5], [4, 5, 5], [4, 5, 5], [4, 5, 5], [4, 5, 6], [4, 6, 7], [6, 7, 7], [6, 7, 7], [6, 7, 8], [0, 1, 2], [0, 2, 4], [2, 4, 5], [4, 5, 5], [4, 5, 6], [4, 6, 7], [6, 7, 7], [6, 7, 8], [6, 8, 9], [0, 1, 1], [0, 1, 2], [0, 2, 4], [2, 4, 5], [4, 5, 5], [4, 5, 5], [4, 5, 6], [4, 6, 7], [6, 7, 7], [6, 7, 7], [6, 7, 7], [6, 7, 7], [6, 7, 8], [6, 8, 9], [8, 9, 9], [0, 1, 2], [0, 2, 4], [2, 4, 5], [4, 5, 5], [4, 5, 5], [4, 5, 6], [4, 6, 7], [6, 7, 7], [6, 7, 7], [6, 7, 8], [6, 8, 9], [8, 9, 9], [8, 9, 9], [0, 1, 1], [0, 1, 2], [0, 2, 4], [2, 4, 5], [4, 5, 5], [4, 5, 5], [4, 5, 5], [4, 5, 6], [4, 6, 7], [6, 7, 8], [0, 1, 2], [0, 2, 4], [2, 4, 5], [4, 5, 5], [4, 5, 6], [4, 6, 7], [6, 7, 7], [6, 7, 7], [6, 7, 8], [6, 8, 9], [8, 9, 9], [0, 1, 2], [0, 2, 4], [2, 4, 5], [4, 5, 5], [4, 5, 5], [4, 5, 6], [4, 6, 7], [6, 7, 7], [6, 7, 7], [6, 7, 8], [6, 8, 9], [2, 4, 5], [4, 5, 5], [4, 5, 5], [4, 5, 6], [4, 6, 7], [6, 7, 8], [6, 8, 9], [8, 9, 9], [8, 9, 9], [8, 9, 9], [0, 2, 4], [2, 4, 5], [4, 5, 5], [4, 5, 5], [4, 5, 5], [4, 5, 5], [4, 5, 6], [4, 6, 7], [6, 7, 7], [6, 7, 7], [6, 7, 7], [6, 7, 7], [6, 7, 7], [6, 7, 7], [6, 7, 8], [6, 8, 9], [0, 1, 2], [0, 2, 4], [2, 4, 5], [4, 5, 5], [4, 5, 5], [4, 5, 6], [4, 6, 7], [6, 7, 7], [6, 7, 8], [6, 8, 9], [0, 1, 1], [0, 1, 2], [0, 2, 4], [2, 4, 5], [4, 5, 5], [4, 5, 5], [4, 5, 6], [4, 6, 8], [0, 2, 4], [2, 4, 6], [4, 6, 7], [6, 7, 7], [6, 7, 7], [6, 7, 7], [6, 7, 7], [6, 7, 8], [6, 8, 9], [0, 1, 2], [0, 2, 4], [2, 4, 5], [4, 5, 5], [4, 5, 5], [4, 5, 6], [4, 6, 7], [6, 7, 8], [6, 8, 9], [2, 3, 4], [2, 4, 5], [4, 5, 5], [4, 5, 5], [4, 5, 6], [4, 6, 7], [6, 7, 7], [6, 7, 8], [0, 1, 4], [0, 4, 2], [4, 2, 6], [2, 6, 7], [6, 7, 7], [6, 7, 7], [6, 7, 7], [6, 7, 7], [6, 7, 8], [6, 8, 9], [8, 9, 9], [8, 9, 9], [0, 1, 1], [0, 1, 2], [0, 2, 4], [2, 4, 5], [4, 5, 5], [4, 5, 5], [4, 5, 5], [4, 5, 5], [4, 5, 6], [4, 6, 7], [6, 7, 7], [6, 7, 7], [6, 7, 8], [6, 8, 9], [0, 1, 1], [0, 1, 2], [0, 2, 4], [2, 4, 5], [4, 5, 5], [4, 5, 6], [4, 6, 7], [6, 7, 8], [6, 8, 9], [0, 1, 2], [0, 2, 4], [2, 4, 6], [4, 6, 7], [6, 7, 7], [6, 7, 7], [6, 7, 7], [6, 7, 7], [6, 7, 8], [6, 8, 9], [2, 4, 5], [4, 5, 5], [4, 5, 5], [4, 5, 6], [4, 6, 7], [6, 7, 8], [6, 8, 9], [0, 2, 4], [2, 4, 5], [4, 5, 5], [4, 5, 5], [4, 5, 6], [4, 6, 7], [6, 7, 7], [6, 7, 7], [6, 7, 7], [6, 7, 7], [6, 7, 7], [6, 7, 7], [6, 7, 8], [6, 8, 9], [0, 1, 4], [0, 4, 5], [4, 5, 5], [4, 5, 6], [4, 6, 7], [6, 7, 7], [6, 7, 7], [6, 7, 7], [6, 7, 7], [6, 7, 7], [6, 7, 8], [2, 0, 1], [0, 1, 1], [0, 1, 1], [0, 1, 2], [0, 2, 4], [2, 4, 5], [4, 5, 6], [4, 6, 7], [6, 7, 8], [0, 1, 1], [0, 1, 1], [0, 1, 2], [0, 2, 3], [2, 3, 4], [2, 4, 5], [4, 5, 6], [4, 6, 7], [6, 7, 7], [6, 7, 8], [0, 1, 2], [0, 2, 4], [2, 4, 5], [4, 5, 5], [4, 5, 5], [4, 5, 6], [4, 6, 7], [6, 7, 7], [6, 7, 7], [6, 7, 7], [6, 7, 8], [6, 8, 9], [2, 4, 5], [4, 5, 5], [4, 5, 5], [4, 5, 6], [4, 6, 7], [6, 7, 7], [6, 7, 7], [6, 7, 7], [6, 7, 7], [6, 7, 8], [0, 1, 2], [0, 2, 3], [2, 3, 4], [2, 4, 5], [4, 5, 6], [4, 6, 7], [6, 7, 8], [6, 8, 9], [8, 9, 9], [0, 1, 1], [0, 1, 1], [0, 1, 1], [0, 1, 1], [0, 1, 2], [0, 2, 3], [2, 3, 4], [2, 4, 5], [4, 5, 5], [4, 5, 5], [4, 5, 5], [4, 5, 6], [4, 6, 8], [6, 8, 9], [8, 0, 1], [0, 1, 1], [0, 1, 1], [0, 1, 2], [0, 2, 6], [2, 6, 7], [6, 7, 7], [0, 2, 4], [2, 4, 5], [4, 5, 5], [4, 5, 6], [4, 6, 8], [2, 4, 5], [4, 5, 5], [4, 5, 5], [4, 5, 6], [4, 6, 7], [6, 7, 7], [6, 7, 7], [6, 7, 7], [6, 7, 8], [0, 1, 1], [0, 1, 4], [0, 4, 5], [4, 5, 6], [4, 6, 8], [6, 8, 9], [0, 2, 4], [2, 4, 5], [4, 5, 6], [4, 6, 7], [6, 7, 7], [6, 7, 8], [2, 0, 1], [0, 1, 4], [0, 4, 5], [4, 5, 5], [4, 5, 6], [4, 6, 7], [6, 7, 7], [6, 7, 7], [6, 7, 8], [6, 8, 9], [8, 9, 9], [8, 9, 9], [0, 1, 2], [0, 2, 4], [2, 4, 6], [4, 6, 8], [2, 4, 5], [4, 5, 5], [4, 5, 5], [4, 5, 6], [4, 6, 7], [6, 7, 7], [6, 7, 7], [6, 7, 8], [0, 1, 1], [0, 1, 1], [0, 1, 4], [0, 4, 5], [4, 5, 5], [4, 5, 5], [4, 5, 5], [4, 5, 6], [4, 6, 7], [6, 7, 7], [6, 7, 7], [6, 7, 7], [6, 7, 7], [6, 7, 7], [6, 7, 8], [2, 4, 5], [4, 5, 5], [4, 5, 5], [4, 5, 5], [4, 5, 5], [4, 5, 5], [4, 5, 6], [4, 6, 7], [6, 7, 7], [6, 7, 8], [6, 8, 9], [0, 1, 1], [0, 1, 2], [0, 2, 3], [2, 3, 4], [2, 4, 5], [4, 5, 5], [4, 5, 6], [4, 6, 7], [6, 7, 8], [0, 1, 2], [0, 2, 4], [2, 4, 5], [4, 5, 5], [4, 5, 5], [4, 5, 6], [4, 6, 7], [6, 7, 7], [6, 7, 7], [6, 7, 8], [0, 1, 1], [0, 1, 1], [0, 1, 1], [0, 1, 4], [0, 4, 5], [4, 5, 5], [4, 5, 5], [4, 5, 5], [4, 5, 5], [4, 5, 5], [4, 5, 5], [4, 5, 5], [4, 5, 5], [4, 5, 5], [4, 5, 5], [4, 5, 5], [4, 5, 8], [4, 8, 9], [0, 2, 4], [2, 4, 5], [4, 5, 5], [4, 5, 6], [4, 6, 7], [6, 7, 8], [6, 8, 9], [0, 2, 4], [2, 4, 5], [4, 5, 6], [4, 6, 7], [6, 7, 7], [6, 7, 7], [6, 7, 7], [6, 7, 7], [6, 7, 7], [6, 7, 8], [6, 8, 9], [0, 1, 1], [0, 1, 1], [0, 1, 1], [0, 1, 2], [0, 2, 8], [0, 2, 6], [2, 6, 7], [6, 7, 7], [6, 7, 7], [6, 7, 8], [0, 1, 2], [0, 2, 6], [2, 6, 7], [6, 7, 7], [6, 7, 7], [6, 7, 7], [6, 7, 8], [6, 8, 9], [2, 6, 7], [6, 7, 7], [6, 7, 7], [6, 7, 7], [6, 7, 7], [6, 7, 8], [0, 2, 3], [2, 3, 6], [2, 6, 7], [6, 7, 7], [6, 7, 7], [6, 7, 8], [6, 8, 9], [0, 2, 3], [2, 3, 4], [2, 4, 5], [4, 5, 6], [4, 6, 8], [0, 1, 2], [0, 2, 6], [2, 6, 7], [6, 7, 7], [6, 7, 7], [6, 7, 7], [6, 7, 8], [0, 1, 4], [0, 4, 5], [4, 5, 6], [4, 6, 7], [6, 7, 7], [6, 7, 8], [6, 8, 9], [0, 2, 6], [2, 6, 7], [6, 7, 7], [6, 7, 7], [6, 7, 7], [0, 1, 1], [0, 1, 1], [0, 1, 2], [0, 2, 8], [0, 1, 1], [0, 1, 1], [0, 1, 2], [0, 2, 8], [0, 1, 6], [0, 6, 7], [6, 7, 7], [6, 7, 7], [2, 6, 7], [6, 7, 7], [6, 7, 7], [6, 7, 7], [0, 1, 1], [0, 1, 1], [0, 1, 1], [0, 1, 1], [0, 1, 2], [0, 1, 2], [0, 2, 3], [2, 3, 4], [2, 4, 5], [4, 5, 5], [4, 5, 5], [4, 5, 5], [4, 5, 5], [4, 5, 5], [4, 5, 5], [4, 5, 5], [4, 5, 5], [4, 5, 6], [0, 1, 1], [0, 1, 1], [0, 1, 1], [0, 1, 6], [4, 5, 5], [4, 5, 6], [4, 6, 7], [6, 7, 7], [6, 7, 7], [6, 7, 8], [0, 1, 1], [0, 1, 1], [0, 1, 4], [0, 4, 6], [4, 6, 7], [6, 7, 7], [6, 7, 7], [6, 7, 7], [6, 7, 8], [6, 8, 9], [0, 1, 1], [0, 1, 6], [0, 6, 7], [6, 7, 7], [6, 7, 7], [6, 7, 7], [6, 7, 8], [2, 0, 4], [0, 4, 6], [4, 6, 7], [6, 7, 7], [6, 7, 7], [6, 7, 7], [6, 7, 8], [0, 6, 7], [6, 7, 4], [6, 4, 6], [4, 6, 7], [6, 7, 7], [6, 7, 8], [0, 1, 2], [0, 2, 4], [2, 4, 6], [4, 6, 7], [6, 7, 8], [6, 8, 9], [0, 1, 2], [0, 2, 4], [2, 4, 6], [4, 6, 7], [6, 7, 8], [0, 4, 6], [4, 6, 7], [6, 7, 7], [6, 7, 8], [6, 8, 9], [2, 4, 5], [4, 5, 6], [4, 6, 7], [6, 7, 7], [6, 7, 7], [6, 7, 7], [6, 7, 8], [0, 6, 7], [6, 7, 7], [6, 7, 7], [6, 7, 7], [6, 7, 7], [6, 7, 7], [6, 7, 7], [6, 7, 7], [6, 7, 8], [0, 1, 1], [0, 1, 1], [0, 1, 1], [0, 1, 2], [0, 1, 4], [0, 4, 5], [4, 5, 6], [4, 6, 8], [0, 1, 1], [0, 1, 2], [0, 2, 6], [2, 6, 7], [6, 7, 7], [6, 7, 8], [2, 6, 7], [6, 7, 7], [6, 7, 7], [6, 7, 7], [6, 7, 8], [0, 1, 2], [0, 2, 4], [2, 4, 5], [4, 5, 5], [4, 5, 6], [4, 6, 8], [0, 1, 1], [0, 1, 1], [0, 1, 2], [0, 2, 4], [2, 4, 5], [4, 5, 5], [4, 5, 8], [4, 8, 9], [0, 2, 4], [2, 4, 5], [4, 5, 5], [4, 5, 6], [4, 6, 8], [6, 8, 9]]\n",
            "pred:  [[0, 2, 2], [0, 2, 2], [2, 4, 5], [4, 4, 6], [6, 7, 7], [6, 7, 7], [6, 7, 7], [6, 7, 7], [6, 8, 8], [0, 2, 4], [2, 4, 5], [4, 5, 5], [4, 5, 7], [4, 7, 7], [6, 7, 7], [6, 7, 7], [6, 7, 7], [6, 7, 7], [6, 7, 7], [6, 7, 8], [4, 7, 7], [2, 4, 5], [4, 7, 7], [7, 7, 7], [6, 7, 7], [6, 7, 7], [7, 7, 7], [0, 1, 1], [0, 1, 2], [0, 2, 5], [2, 4, 5], [4, 5, 5], [4, 5, 5], [4, 5, 5], [4, 5, 7], [4, 6, 7], [6, 7, 7], [6, 7, 7], [6, 7, 7], [6, 7, 7], [6, 7, 8], [2, 4, 5], [4, 5, 7], [4, 5, 7], [6, 6, 7], [6, 7, 7], [6, 7, 7], [6, 7, 7], [6, 7, 7], [6, 7, 7], [6, 7, 7], [6, 7, 7], [6, 7, 7], [6, 7, 7], [6, 7, 7], [6, 7, 7], [6, 7, 7], [0, 2, 2], [0, 2, 5], [2, 5, 5], [4, 5, 7], [4, 7, 7], [6, 7, 7], [6, 7, 7], [6, 7, 7], [6, 7, 7], [0, 2, 5], [2, 4, 5], [4, 6, 7], [6, 7, 7], [6, 7, 7], [0, 1, 7], [0, 1, 1], [0, 1, 1], [0, 7, 7], [0, 1, 2], [0, 2, 4], [2, 4, 5], [4, 5, 7], [4, 6, 7], [6, 7, 7], [7, 7, 7], [6, 7, 7], [0, 2, 4], [2, 4, 5], [4, 5, 5], [4, 5, 7], [4, 6, 7], [6, 7, 7], [6, 7, 7], [6, 7, 7], [1, 1, 1], [0, 2, 2], [0, 2, 5], [2, 5, 5], [5, 5, 5], [4, 5, 7], [4, 6, 7], [6, 6, 7], [6, 7, 7], [6, 7, 7], [6, 7, 7], [0, 2, 5], [2, 5, 5], [5, 5, 5], [4, 5, 5], [4, 5, 7], [4, 7, 7], [6, 7, 7], [6, 7, 7], [0, 2, 5], [2, 4, 5], [4, 5, 5], [4, 4, 7], [4, 6, 7], [6, 7, 7], [6, 7, 7], [6, 7, 7], [6, 7, 7], [6, 7, 7], [0, 2, 2], [0, 2, 5], [2, 4, 5], [4, 5, 5], [4, 5, 5], [4, 5, 5], [4, 5, 5], [4, 5, 5], [4, 5, 5], [4, 4, 7], [4, 7, 7], [6, 6, 7], [6, 7, 7], [6, 7, 7], [6, 7, 7], [6, 6, 7], [6, 7, 7], [7, 7, 7], [7, 8, 8], [0, 2, 4], [0, 2, 5], [2, 4, 5], [4, 5, 5], [4, 4, 5], [4, 4, 5], [4, 5, 7], [4, 7, 7], [6, 7, 7], [0, 2, 5], [2, 4, 5], [4, 4, 7], [4, 7, 7], [7, 7, 7], [2, 4, 5], [4, 5, 5], [4, 5, 7], [4, 6, 7], [6, 7, 7], [2, 2, 4], [2, 4, 5], [4, 6, 7], [6, 7, 7], [6, 7, 7], [6, 7, 7], [6, 7, 7], [6, 6, 7], [6, 7, 7], [6, 7, 7], [2, 4, 5], [4, 5, 5], [4, 5, 7], [4, 4, 7], [4, 7, 7], [0, 2, 2], [2, 2, 5], [4, 4, 5], [4, 5, 5], [4, 5, 5], [4, 4, 7], [4, 7, 7], [6, 7, 7], [6, 7, 7], [6, 7, 7], [6, 7, 7], [6, 7, 7], [2, 0, 2], [0, 2, 2], [0, 2, 5], [2, 4, 5], [4, 5, 7], [4, 6, 7], [6, 7, 7], [6, 7, 7], [6, 6, 7], [6, 7, 7], [6, 7, 7], [7, 7, 7], [6, 7, 7], [0, 0, 2], [0, 4, 4], [2, 4, 5], [4, 5, 5], [4, 5, 5], [4, 5, 5], [4, 5, 5], [4, 5, 7], [4, 7, 7], [6, 7, 7], [6, 7, 7], [6, 7, 7], [2, 4, 5], [4, 5, 5], [4, 5, 7], [4, 6, 7], [6, 7, 7], [6, 7, 7], [6, 7, 7], [6, 7, 7], [6, 7, 7], [6, 7, 7], [0, 7, 7], [2, 4, 5], [4, 5, 5], [4, 5, 7], [4, 6, 7], [6, 7, 7], [6, 7, 7], [0, 2, 2], [2, 2, 2], [2, 2, 4], [4, 4, 5], [4, 4, 5], [4, 4, 7], [4, 6, 7], [6, 7, 7], [6, 7, 7], [6, 7, 7], [6, 7, 8], [2, 4, 5], [4, 5, 7], [4, 7, 7], [6, 7, 7], [6, 7, 7], [6, 7, 7], [6, 7, 7], [6, 7, 7], [6, 7, 7], [0, 2, 4], [2, 4, 5], [4, 4, 5], [4, 5, 5], [4, 5, 5], [4, 5, 7], [4, 6, 7], [6, 7, 7], [6, 7, 7], [6, 7, 7], [0, 2, 2], [0, 2, 4], [2, 4, 5], [4, 4, 5], [4, 5, 7], [4, 6, 7], [6, 7, 7], [7, 7, 7], [6, 8, 8], [0, 0, 1], [0, 2, 2], [0, 2, 4], [2, 4, 5], [4, 4, 5], [4, 4, 5], [4, 4, 7], [4, 7, 7], [6, 7, 7], [6, 7, 7], [6, 7, 7], [6, 7, 7], [6, 7, 7], [6, 7, 7], [6, 7, 8], [0, 2, 2], [0, 2, 5], [2, 4, 5], [4, 5, 5], [4, 5, 5], [4, 4, 7], [4, 7, 7], [6, 7, 7], [6, 7, 7], [6, 7, 7], [6, 7, 7], [6, 7, 8], [6, 7, 7], [0, 1, 1], [0, 1, 2], [0, 2, 4], [2, 4, 5], [4, 5, 5], [4, 5, 5], [4, 4, 5], [4, 4, 7], [4, 6, 7], [6, 7, 7], [0, 2, 2], [0, 2, 4], [2, 4, 5], [4, 4, 5], [4, 5, 5], [4, 6, 7], [6, 6, 7], [6, 7, 7], [6, 7, 7], [7, 7, 7], [8, 8, 8], [0, 2, 2], [0, 2, 2], [2, 2, 4], [4, 4, 5], [4, 4, 5], [4, 4, 7], [4, 7, 7], [6, 7, 7], [6, 7, 7], [6, 7, 7], [6, 7, 7], [2, 4, 5], [4, 5, 5], [4, 5, 5], [4, 4, 7], [4, 6, 7], [6, 7, 7], [6, 7, 7], [6, 7, 8], [6, 7, 8], [6, 7, 8], [2, 2, 5], [2, 5, 5], [5, 5, 5], [4, 5, 5], [4, 4, 5], [4, 5, 5], [4, 5, 5], [4, 4, 7], [4, 6, 7], [6, 7, 7], [6, 7, 7], [6, 7, 7], [6, 7, 7], [6, 7, 7], [6, 7, 7], [6, 7, 7], [0, 2, 2], [0, 2, 4], [2, 4, 5], [4, 4, 5], [4, 4, 5], [4, 6, 7], [6, 6, 7], [6, 7, 7], [6, 7, 7], [6, 7, 8], [0, 1, 1], [0, 1, 2], [0, 2, 4], [2, 5, 6], [4, 5, 5], [4, 4, 5], [4, 5, 7], [5, 7, 7], [0, 2, 5], [2, 5, 6], [5, 7, 7], [6, 7, 7], [6, 7, 7], [6, 7, 7], [6, 7, 7], [6, 7, 7], [6, 7, 7], [0, 1, 2], [0, 2, 4], [2, 4, 5], [4, 5, 5], [4, 5, 5], [4, 5, 5], [4, 6, 7], [4, 7, 7], [7, 7, 7], [2, 2, 5], [4, 5, 5], [4, 5, 5], [4, 5, 5], [4, 5, 7], [4, 7, 7], [6, 7, 7], [6, 7, 7], [2, 2, 4], [0, 4, 5], [4, 5, 5], [4, 6, 7], [6, 7, 7], [6, 7, 7], [6, 7, 7], [6, 7, 7], [6, 7, 7], [7, 7, 7], [6, 7, 7], [6, 7, 7], [0, 1, 1], [0, 2, 2], [0, 2, 2], [2, 2, 4], [4, 4, 5], [4, 4, 5], [4, 5, 5], [4, 5, 5], [4, 5, 7], [4, 6, 7], [6, 7, 7], [6, 7, 7], [6, 7, 7], [6, 8, 7], [0, 1, 1], [0, 1, 4], [0, 4, 5], [4, 5, 5], [4, 5, 5], [4, 5, 7], [4, 7, 7], [6, 7, 7], [6, 7, 7], [0, 2, 2], [0, 4, 5], [4, 5, 5], [4, 7, 7], [6, 7, 7], [6, 7, 7], [6, 7, 7], [6, 7, 7], [6, 7, 7], [6, 7, 7], [2, 2, 7], [4, 5, 5], [4, 5, 5], [4, 5, 7], [4, 7, 7], [6, 7, 7], [6, 7, 7], [0, 2, 4], [2, 4, 5], [4, 5, 5], [4, 5, 5], [4, 5, 5], [4, 6, 7], [6, 7, 7], [6, 7, 7], [6, 6, 7], [6, 7, 7], [6, 7, 7], [6, 6, 7], [6, 7, 7], [6, 7, 7], [0, 2, 4], [2, 4, 5], [4, 7, 5], [6, 7, 7], [6, 7, 7], [6, 7, 7], [6, 6, 7], [6, 7, 7], [6, 7, 7], [6, 7, 7], [6, 7, 7], [2, 5, 5], [4, 5, 5], [4, 5, 5], [4, 4, 5], [0, 4, 5], [4, 4, 5], [4, 5, 7], [4, 6, 7], [6, 7, 7], [0, 1, 1], [0, 1, 1], [0, 2, 2], [0, 2, 5], [2, 4, 5], [4, 5, 5], [4, 5, 7], [4, 7, 7], [6, 7, 7], [6, 7, 7], [0, 2, 2], [0, 2, 5], [2, 5, 5], [4, 5, 5], [4, 5, 5], [4, 5, 7], [4, 6, 7], [6, 6, 7], [6, 7, 7], [6, 7, 7], [6, 7, 7], [7, 7, 8], [2, 4, 5], [4, 7, 7], [4, 5, 5], [4, 5, 7], [4, 7, 7], [6, 7, 7], [6, 7, 7], [6, 7, 7], [6, 7, 7], [6, 7, 7], [0, 0, 2], [0, 2, 2], [2, 2, 5], [2, 5, 5], [4, 7, 7], [4, 7, 7], [6, 7, 7], [6, 7, 7], [6, 8, 8], [0, 1, 1], [6, 7, 7], [0, 1, 1], [6, 7, 7], [6, 7, 8], [6, 2, 2], [0, 2, 4], [2, 4, 5], [4, 5, 5], [4, 5, 5], [4, 5, 5], [4, 5, 5], [4, 5, 7], [6, 8, 8], [7, 1, 7], [0, 1, 1], [0, 1, 1], [0, 2, 2], [0, 2, 6], [4, 7, 7], [6, 7, 7], [0, 2, 6], [2, 4, 5], [4, 5, 7], [4, 5, 7], [4, 7, 7], [2, 4, 5], [4, 4, 5], [4, 5, 5], [4, 5, 7], [4, 6, 7], [6, 7, 7], [6, 7, 7], [6, 7, 7], [6, 7, 7], [0, 1, 1], [0, 2, 4], [0, 4, 5], [4, 5, 5], [4, 7, 7], [6, 7, 7], [0, 2, 5], [2, 4, 5], [4, 5, 7], [4, 6, 7], [6, 7, 7], [7, 7, 7], [2, 0, 1], [0, 1, 4], [0, 4, 5], [4, 4, 7], [4, 7, 7], [6, 7, 7], [6, 6, 7], [6, 7, 7], [6, 7, 7], [6, 7, 7], [6, 7, 7], [6, 7, 8], [0, 2, 4], [0, 2, 5], [4, 5, 6], [5, 7, 7], [2, 5, 5], [4, 5, 5], [4, 5, 5], [4, 5, 7], [4, 6, 7], [6, 7, 7], [6, 7, 7], [6, 7, 7], [0, 1, 1], [0, 1, 1], [0, 2, 4], [2, 4, 5], [4, 5, 5], [4, 4, 7], [4, 5, 5], [4, 5, 7], [4, 7, 7], [6, 7, 7], [6, 7, 7], [6, 7, 7], [6, 7, 7], [6, 7, 7], [6, 7, 7], [2, 4, 5], [4, 5, 5], [4, 5, 5], [4, 5, 5], [4, 5, 5], [4, 5, 5], [4, 8, 8], [4, 7, 8], [6, 8, 8], [8, 7, 8], [6, 8, 8], [0, 1, 1], [0, 2, 2], [0, 2, 2], [2, 2, 5], [2, 4, 5], [4, 5, 5], [4, 4, 7], [4, 7, 7], [6, 7, 7], [0, 2, 2], [0, 2, 2], [2, 4, 5], [4, 4, 5], [4, 5, 5], [4, 5, 7], [4, 6, 7], [6, 7, 7], [6, 7, 7], [6, 7, 7], [0, 1, 1], [6, 7, 8], [0, 0, 1], [0, 2, 5], [0, 4, 5], [4, 7, 7], [6, 6, 7], [6, 6, 7], [6, 7, 7], [6, 7, 7], [6, 7, 7], [6, 7, 7], [6, 7, 7], [4, 7, 7], [6, 6, 7], [6, 7, 7], [6, 7, 7], [6, 7, 8], [0, 2, 4], [2, 4, 5], [4, 4, 7], [4, 7, 7], [4, 6, 7], [6, 7, 7], [7, 7, 7], [1, 2, 4], [2, 4, 5], [4, 5, 7], [4, 6, 7], [6, 7, 7], [6, 7, 7], [6, 7, 7], [6, 7, 7], [6, 7, 7], [6, 7, 7], [7, 7, 7], [0, 1, 1], [0, 1, 1], [0, 1, 1], [0, 1, 2], [0, 6, 8], [0, 2, 7], [2, 7, 7], [6, 7, 7], [6, 7, 7], [6, 7, 7], [0, 2, 2], [6, 4, 7], [4, 7, 7], [6, 6, 7], [6, 7, 7], [6, 7, 7], [6, 7, 7], [6, 7, 7], [4, 7, 7], [7, 7, 7], [6, 7, 7], [6, 7, 7], [6, 7, 7], [6, 7, 7], [0, 4, 4], [4, 4, 7], [4, 7, 7], [6, 7, 7], [6, 7, 7], [6, 7, 7], [6, 7, 8], [0, 2, 4], [2, 4, 5], [2, 4, 5], [4, 4, 7], [4, 7, 7], [0, 2, 2], [0, 2, 2], [2, 1, 1], [0, 0, 7], [6, 7, 7], [7, 7, 7], [6, 7, 8], [0, 1, 4], [0, 4, 5], [4, 6, 6], [4, 6, 7], [6, 7, 7], [6, 7, 7], [6, 7, 7], [0, 2, 2], [2, 7, 8], [6, 7, 7], [6, 7, 7], [7, 7, 7], [0, 1, 1], [0, 1, 1], [0, 2, 2], [0, 2, 2], [1, 1, 1], [0, 1, 1], [0, 2, 2], [0, 2, 8], [0, 0, 7], [0, 7, 7], [7, 7, 7], [6, 7, 7], [4, 6, 7], [6, 7, 7], [6, 7, 7], [6, 7, 7], [0, 1, 1], [0, 1, 1], [0, 1, 1], [0, 1, 1], [0, 1, 4], [0, 1, 2], [0, 4, 4], [4, 5, 5], [2, 5, 5], [4, 5, 5], [4, 5, 5], [6, 5, 5], [4, 4, 6], [4, 5, 5], [4, 5, 5], [4, 5, 5], [4, 5, 5], [4, 7, 7], [0, 1, 1], [0, 1, 1], [0, 1, 1], [0, 1, 2], [4, 7, 7], [6, 7, 7], [4, 6, 7], [6, 7, 7], [6, 7, 7], [6, 7, 7], [0, 1, 1], [1, 1, 1], [0, 1, 2], [0, 4, 7], [4, 7, 7], [6, 7, 7], [6, 7, 7], [6, 7, 7], [6, 7, 7], [7, 7, 7], [0, 7, 7], [6, 7, 7], [6, 7, 7], [6, 7, 7], [7, 7, 7], [6, 7, 7], [6, 7, 7], [4, 4, 5], [4, 7, 7], [4, 7, 7], [6, 7, 7], [6, 7, 7], [6, 7, 7], [6, 7, 7], [4, 6, 7], [6, 7, 7], [6, 7, 7], [4, 6, 7], [6, 7, 7], [6, 7, 7], [0, 2, 2], [0, 2, 4], [2, 4, 6], [4, 6, 6], [6, 7, 8], [6, 8, 8], [0, 1, 2], [0, 2, 5], [2, 4, 5], [4, 5, 5], [4, 5, 7], [0, 7, 7], [4, 7, 7], [6, 7, 7], [6, 7, 7], [6, 7, 7], [2, 4, 5], [4, 4, 7], [4, 7, 7], [6, 7, 7], [6, 7, 7], [6, 7, 7], [6, 7, 7], [4, 5, 7], [4, 7, 7], [6, 7, 7], [6, 7, 7], [6, 7, 7], [7, 7, 7], [6, 7, 7], [6, 7, 7], [6, 7, 7], [0, 1, 1], [4, 5, 5], [4, 7, 7], [0, 2, 2], [0, 1, 4], [0, 2, 5], [2, 4, 7], [4, 7, 7], [0, 1, 1], [0, 1, 2], [0, 2, 7], [2, 7, 7], [6, 7, 7], [6, 7, 7], [4, 7, 7], [6, 7, 7], [6, 7, 7], [7, 7, 7], [6, 7, 7], [0, 1, 2], [0, 2, 4], [2, 4, 5], [4, 5, 5], [4, 7, 7], [4, 7, 7], [0, 1, 1], [0, 1, 1], [0, 2, 2], [0, 4, 4], [2, 5, 5], [0, 4, 5], [4, 5, 7], [4, 7, 7], [0, 2, 5], [2, 4, 5], [4, 4, 5], [4, 6, 7], [4, 7, 7], [7, 7, 7]]\n",
            "precision: 0.9484536082474226, recall: 0.9484536082474226, F1: 0.9484536082474226\n",
            "evaluation loss: 0.832409333166751\n"
          ]
        },
        {
          "output_type": "stream",
          "name": "stderr",
          "text": [
            "/usr/local/lib/python3.7/dist-packages/sklearn/metrics/_classification.py:1318: UndefinedMetricWarning: Precision and F-score are ill-defined and being set to 0.0 in labels with no predicted samples. Use `zero_division` parameter to control this behavior.\n",
            "  _warn_prf(average, modifier, msg_start, len(result))\n",
            "/usr/local/lib/python3.7/dist-packages/sklearn/metrics/_classification.py:1318: UndefinedMetricWarning: Precision and F-score are ill-defined and being set to 0.0 in labels with no predicted samples. Use `zero_division` parameter to control this behavior.\n",
            "  _warn_prf(average, modifier, msg_start, len(result))\n",
            "/usr/local/lib/python3.7/dist-packages/sklearn/metrics/_classification.py:1318: UndefinedMetricWarning: Precision and F-score are ill-defined and being set to 0.0 in labels with no predicted samples. Use `zero_division` parameter to control this behavior.\n",
            "  _warn_prf(average, modifier, msg_start, len(result))\n"
          ]
        },
        {
          "output_type": "stream",
          "name": "stdout",
          "text": [
            "current acc is 0.9485, best acc is 0.9485\n",
            "***** Running training epoch 3 *****\n",
            "running_loss:0.7428784787654876\n",
            "running_loss:0.6667260344140231\n",
            "running_loss:0.5584997817873955\n",
            "running_loss:0.47183486963622273\n",
            "running_loss:0.762713140854612\n",
            "true:  [[0, 1, 2], [0, 2, 4], [2, 4, 5], [4, 5, 6], [4, 6, 7], [6, 7, 7], [6, 7, 7], [6, 7, 8], [6, 8, 9], [0, 2, 4], [2, 4, 5], [4, 5, 5], [4, 5, 6], [4, 6, 7], [6, 7, 7], [6, 7, 7], [6, 7, 7], [6, 7, 8], [6, 8, 9], [8, 9, 9], [0, 1, 4], [0, 4, 5], [4, 5, 6], [4, 6, 7], [6, 7, 7], [6, 7, 8], [6, 8, 9], [8, 9, 9], [0, 1, 2], [0, 2, 4], [2, 4, 5], [4, 5, 5], [4, 5, 5], [4, 5, 5], [4, 5, 6], [4, 6, 7], [6, 7, 7], [6, 7, 7], [6, 7, 7], [6, 7, 8], [6, 8, 9], [2, 4, 5], [4, 5, 5], [4, 5, 6], [4, 6, 7], [6, 7, 7], [6, 7, 7], [6, 7, 7], [6, 7, 7], [6, 7, 7], [6, 7, 7], [6, 7, 7], [6, 7, 7], [6, 7, 7], [6, 7, 7], [6, 7, 8], [6, 8, 9], [0, 1, 2], [0, 2, 4], [2, 4, 5], [4, 5, 6], [4, 6, 7], [6, 7, 7], [6, 7, 7], [6, 7, 8], [0, 1, 2], [0, 2, 4], [2, 4, 5], [4, 5, 6], [4, 6, 7], [6, 7, 7], [6, 7, 7], [6, 7, 7], [6, 7, 8], [6, 8, 9], [0, 1, 2], [0, 2, 4], [2, 4, 5], [4, 5, 6], [4, 6, 7], [6, 7, 7], [6, 7, 8], [6, 8, 9], [0, 2, 4], [2, 4, 5], [4, 5, 5], [4, 5, 6], [4, 6, 7], [6, 7, 7], [6, 7, 7], [6, 7, 8], [0, 1, 1], [0, 1, 2], [0, 2, 4], [2, 4, 5], [4, 5, 5], [4, 5, 6], [4, 6, 7], [6, 7, 7], [6, 7, 7], [6, 7, 8], [6, 8, 9], [0, 2, 4], [2, 4, 5], [4, 5, 5], [4, 5, 5], [4, 5, 6], [4, 6, 7], [6, 7, 7], [6, 7, 8], [0, 2, 4], [2, 4, 5], [4, 5, 5], [4, 5, 6], [4, 6, 7], [6, 7, 7], [6, 7, 7], [6, 7, 8], [6, 8, 9], [8, 9, 9], [0, 1, 2], [0, 2, 4], [2, 4, 5], [4, 5, 5], [4, 5, 5], [4, 5, 5], [4, 5, 5], [4, 5, 5], [4, 5, 5], [4, 5, 5], [4, 5, 6], [4, 6, 7], [6, 7, 7], [6, 7, 7], [6, 7, 7], [6, 7, 7], [6, 7, 8], [6, 8, 9], [8, 9, 9], [0, 1, 2], [0, 2, 4], [2, 4, 5], [4, 5, 5], [4, 5, 5], [4, 5, 5], [4, 5, 6], [4, 6, 7], [6, 7, 8], [0, 2, 4], [2, 4, 5], [4, 5, 6], [4, 6, 8], [6, 8, 9], [2, 4, 5], [4, 5, 5], [4, 5, 6], [4, 6, 7], [6, 7, 8], [0, 2, 4], [2, 4, 6], [4, 6, 7], [6, 7, 7], [6, 7, 7], [6, 7, 7], [6, 7, 7], [6, 7, 7], [6, 7, 8], [6, 8, 9], [2, 4, 5], [4, 5, 5], [4, 5, 5], [4, 5, 6], [4, 6, 8], [0, 2, 4], [2, 4, 5], [4, 5, 5], [4, 5, 5], [4, 5, 5], [4, 5, 6], [4, 6, 7], [6, 7, 7], [6, 7, 7], [6, 7, 7], [6, 7, 8], [6, 8, 9], [2, 0, 1], [0, 1, 2], [0, 2, 4], [2, 4, 5], [4, 5, 6], [4, 6, 7], [6, 7, 7], [6, 7, 7], [6, 7, 7], [6, 7, 7], [6, 7, 8], [6, 8, 9], [8, 9, 9], [0, 1, 2], [0, 2, 4], [2, 4, 5], [4, 5, 5], [4, 5, 5], [4, 5, 5], [4, 5, 5], [4, 5, 6], [4, 6, 7], [6, 7, 7], [6, 7, 7], [6, 7, 8], [2, 4, 5], [4, 5, 5], [4, 5, 6], [4, 6, 7], [6, 7, 7], [6, 7, 7], [6, 7, 7], [6, 7, 7], [6, 7, 8], [6, 8, 9], [8, 9, 9], [2, 4, 5], [4, 5, 5], [4, 5, 6], [4, 6, 7], [6, 7, 7], [6, 7, 8], [0, 1, 2], [0, 2, 4], [2, 4, 5], [4, 5, 5], [4, 5, 5], [4, 5, 6], [4, 6, 7], [6, 7, 7], [6, 7, 7], [6, 7, 8], [6, 8, 9], [2, 4, 5], [4, 5, 6], [4, 6, 7], [6, 7, 7], [6, 7, 7], [6, 7, 7], [6, 7, 7], [6, 7, 8], [6, 8, 9], [0, 2, 4], [2, 4, 5], [4, 5, 5], [4, 5, 5], [4, 5, 5], [4, 5, 6], [4, 6, 7], [6, 7, 7], [6, 7, 7], [6, 7, 8], [0, 1, 2], [0, 2, 4], [2, 4, 5], [4, 5, 5], [4, 5, 6], [4, 6, 7], [6, 7, 7], [6, 7, 8], [6, 8, 9], [0, 1, 1], [0, 1, 2], [0, 2, 4], [2, 4, 5], [4, 5, 5], [4, 5, 5], [4, 5, 6], [4, 6, 7], [6, 7, 7], [6, 7, 7], [6, 7, 7], [6, 7, 7], [6, 7, 8], [6, 8, 9], [8, 9, 9], [0, 1, 2], [0, 2, 4], [2, 4, 5], [4, 5, 5], [4, 5, 5], [4, 5, 6], [4, 6, 7], [6, 7, 7], [6, 7, 7], [6, 7, 8], [6, 8, 9], [8, 9, 9], [8, 9, 9], [0, 1, 1], [0, 1, 2], [0, 2, 4], [2, 4, 5], [4, 5, 5], [4, 5, 5], [4, 5, 5], [4, 5, 6], [4, 6, 7], [6, 7, 8], [0, 1, 2], [0, 2, 4], [2, 4, 5], [4, 5, 5], [4, 5, 6], [4, 6, 7], [6, 7, 7], [6, 7, 7], [6, 7, 8], [6, 8, 9], [8, 9, 9], [0, 1, 2], [0, 2, 4], [2, 4, 5], [4, 5, 5], [4, 5, 5], [4, 5, 6], [4, 6, 7], [6, 7, 7], [6, 7, 7], [6, 7, 8], [6, 8, 9], [2, 4, 5], [4, 5, 5], [4, 5, 5], [4, 5, 6], [4, 6, 7], [6, 7, 8], [6, 8, 9], [8, 9, 9], [8, 9, 9], [8, 9, 9], [0, 2, 4], [2, 4, 5], [4, 5, 5], [4, 5, 5], [4, 5, 5], [4, 5, 5], [4, 5, 6], [4, 6, 7], [6, 7, 7], [6, 7, 7], [6, 7, 7], [6, 7, 7], [6, 7, 7], [6, 7, 7], [6, 7, 8], [6, 8, 9], [0, 1, 2], [0, 2, 4], [2, 4, 5], [4, 5, 5], [4, 5, 5], [4, 5, 6], [4, 6, 7], [6, 7, 7], [6, 7, 8], [6, 8, 9], [0, 1, 1], [0, 1, 2], [0, 2, 4], [2, 4, 5], [4, 5, 5], [4, 5, 5], [4, 5, 6], [4, 6, 8], [0, 2, 4], [2, 4, 6], [4, 6, 7], [6, 7, 7], [6, 7, 7], [6, 7, 7], [6, 7, 7], [6, 7, 8], [6, 8, 9], [0, 1, 2], [0, 2, 4], [2, 4, 5], [4, 5, 5], [4, 5, 5], [4, 5, 6], [4, 6, 7], [6, 7, 8], [6, 8, 9], [2, 3, 4], [2, 4, 5], [4, 5, 5], [4, 5, 5], [4, 5, 6], [4, 6, 7], [6, 7, 7], [6, 7, 8], [0, 1, 4], [0, 4, 2], [4, 2, 6], [2, 6, 7], [6, 7, 7], [6, 7, 7], [6, 7, 7], [6, 7, 7], [6, 7, 8], [6, 8, 9], [8, 9, 9], [8, 9, 9], [0, 1, 1], [0, 1, 2], [0, 2, 4], [2, 4, 5], [4, 5, 5], [4, 5, 5], [4, 5, 5], [4, 5, 5], [4, 5, 6], [4, 6, 7], [6, 7, 7], [6, 7, 7], [6, 7, 8], [6, 8, 9], [0, 1, 1], [0, 1, 2], [0, 2, 4], [2, 4, 5], [4, 5, 5], [4, 5, 6], [4, 6, 7], [6, 7, 8], [6, 8, 9], [0, 1, 2], [0, 2, 4], [2, 4, 6], [4, 6, 7], [6, 7, 7], [6, 7, 7], [6, 7, 7], [6, 7, 7], [6, 7, 8], [6, 8, 9], [2, 4, 5], [4, 5, 5], [4, 5, 5], [4, 5, 6], [4, 6, 7], [6, 7, 8], [6, 8, 9], [0, 2, 4], [2, 4, 5], [4, 5, 5], [4, 5, 5], [4, 5, 6], [4, 6, 7], [6, 7, 7], [6, 7, 7], [6, 7, 7], [6, 7, 7], [6, 7, 7], [6, 7, 7], [6, 7, 8], [6, 8, 9], [0, 1, 4], [0, 4, 5], [4, 5, 5], [4, 5, 6], [4, 6, 7], [6, 7, 7], [6, 7, 7], [6, 7, 7], [6, 7, 7], [6, 7, 7], [6, 7, 8], [2, 0, 1], [0, 1, 1], [0, 1, 1], [0, 1, 2], [0, 2, 4], [2, 4, 5], [4, 5, 6], [4, 6, 7], [6, 7, 8], [0, 1, 1], [0, 1, 1], [0, 1, 2], [0, 2, 3], [2, 3, 4], [2, 4, 5], [4, 5, 6], [4, 6, 7], [6, 7, 7], [6, 7, 8], [0, 1, 2], [0, 2, 4], [2, 4, 5], [4, 5, 5], [4, 5, 5], [4, 5, 6], [4, 6, 7], [6, 7, 7], [6, 7, 7], [6, 7, 7], [6, 7, 8], [6, 8, 9], [2, 4, 5], [4, 5, 5], [4, 5, 5], [4, 5, 6], [4, 6, 7], [6, 7, 7], [6, 7, 7], [6, 7, 7], [6, 7, 7], [6, 7, 8], [0, 1, 2], [0, 2, 3], [2, 3, 4], [2, 4, 5], [4, 5, 6], [4, 6, 7], [6, 7, 8], [6, 8, 9], [8, 9, 9], [0, 1, 1], [0, 1, 1], [0, 1, 1], [0, 1, 1], [0, 1, 2], [0, 2, 3], [2, 3, 4], [2, 4, 5], [4, 5, 5], [4, 5, 5], [4, 5, 5], [4, 5, 6], [4, 6, 8], [6, 8, 9], [8, 0, 1], [0, 1, 1], [0, 1, 1], [0, 1, 2], [0, 2, 6], [2, 6, 7], [6, 7, 7], [0, 2, 4], [2, 4, 5], [4, 5, 5], [4, 5, 6], [4, 6, 8], [2, 4, 5], [4, 5, 5], [4, 5, 5], [4, 5, 6], [4, 6, 7], [6, 7, 7], [6, 7, 7], [6, 7, 7], [6, 7, 8], [0, 1, 1], [0, 1, 4], [0, 4, 5], [4, 5, 6], [4, 6, 8], [6, 8, 9], [0, 2, 4], [2, 4, 5], [4, 5, 6], [4, 6, 7], [6, 7, 7], [6, 7, 8], [2, 0, 1], [0, 1, 4], [0, 4, 5], [4, 5, 5], [4, 5, 6], [4, 6, 7], [6, 7, 7], [6, 7, 7], [6, 7, 8], [6, 8, 9], [8, 9, 9], [8, 9, 9], [0, 1, 2], [0, 2, 4], [2, 4, 6], [4, 6, 8], [2, 4, 5], [4, 5, 5], [4, 5, 5], [4, 5, 6], [4, 6, 7], [6, 7, 7], [6, 7, 7], [6, 7, 8], [0, 1, 1], [0, 1, 1], [0, 1, 4], [0, 4, 5], [4, 5, 5], [4, 5, 5], [4, 5, 5], [4, 5, 6], [4, 6, 7], [6, 7, 7], [6, 7, 7], [6, 7, 7], [6, 7, 7], [6, 7, 7], [6, 7, 8], [2, 4, 5], [4, 5, 5], [4, 5, 5], [4, 5, 5], [4, 5, 5], [4, 5, 5], [4, 5, 6], [4, 6, 7], [6, 7, 7], [6, 7, 8], [6, 8, 9], [0, 1, 1], [0, 1, 2], [0, 2, 3], [2, 3, 4], [2, 4, 5], [4, 5, 5], [4, 5, 6], [4, 6, 7], [6, 7, 8], [0, 1, 2], [0, 2, 4], [2, 4, 5], [4, 5, 5], [4, 5, 5], [4, 5, 6], [4, 6, 7], [6, 7, 7], [6, 7, 7], [6, 7, 8], [0, 1, 1], [0, 1, 1], [0, 1, 1], [0, 1, 4], [0, 4, 5], [4, 5, 5], [4, 5, 5], [4, 5, 5], [4, 5, 5], [4, 5, 5], [4, 5, 5], [4, 5, 5], [4, 5, 5], [4, 5, 5], [4, 5, 5], [4, 5, 5], [4, 5, 8], [4, 8, 9], [0, 2, 4], [2, 4, 5], [4, 5, 5], [4, 5, 6], [4, 6, 7], [6, 7, 8], [6, 8, 9], [0, 2, 4], [2, 4, 5], [4, 5, 6], [4, 6, 7], [6, 7, 7], [6, 7, 7], [6, 7, 7], [6, 7, 7], [6, 7, 7], [6, 7, 8], [6, 8, 9], [0, 1, 1], [0, 1, 1], [0, 1, 1], [0, 1, 2], [0, 2, 8], [0, 2, 6], [2, 6, 7], [6, 7, 7], [6, 7, 7], [6, 7, 8], [0, 1, 2], [0, 2, 6], [2, 6, 7], [6, 7, 7], [6, 7, 7], [6, 7, 7], [6, 7, 8], [6, 8, 9], [2, 6, 7], [6, 7, 7], [6, 7, 7], [6, 7, 7], [6, 7, 7], [6, 7, 8], [0, 2, 3], [2, 3, 6], [2, 6, 7], [6, 7, 7], [6, 7, 7], [6, 7, 8], [6, 8, 9], [0, 2, 3], [2, 3, 4], [2, 4, 5], [4, 5, 6], [4, 6, 8], [0, 1, 2], [0, 2, 6], [2, 6, 7], [6, 7, 7], [6, 7, 7], [6, 7, 7], [6, 7, 8], [0, 1, 4], [0, 4, 5], [4, 5, 6], [4, 6, 7], [6, 7, 7], [6, 7, 8], [6, 8, 9], [0, 2, 6], [2, 6, 7], [6, 7, 7], [6, 7, 7], [6, 7, 7], [0, 1, 1], [0, 1, 1], [0, 1, 2], [0, 2, 8], [0, 1, 1], [0, 1, 1], [0, 1, 2], [0, 2, 8], [0, 1, 6], [0, 6, 7], [6, 7, 7], [6, 7, 7], [2, 6, 7], [6, 7, 7], [6, 7, 7], [6, 7, 7], [0, 1, 1], [0, 1, 1], [0, 1, 1], [0, 1, 1], [0, 1, 2], [0, 1, 2], [0, 2, 3], [2, 3, 4], [2, 4, 5], [4, 5, 5], [4, 5, 5], [4, 5, 5], [4, 5, 5], [4, 5, 5], [4, 5, 5], [4, 5, 5], [4, 5, 5], [4, 5, 6], [0, 1, 1], [0, 1, 1], [0, 1, 1], [0, 1, 6], [4, 5, 5], [4, 5, 6], [4, 6, 7], [6, 7, 7], [6, 7, 7], [6, 7, 8], [0, 1, 1], [0, 1, 1], [0, 1, 4], [0, 4, 6], [4, 6, 7], [6, 7, 7], [6, 7, 7], [6, 7, 7], [6, 7, 8], [6, 8, 9], [0, 1, 1], [0, 1, 6], [0, 6, 7], [6, 7, 7], [6, 7, 7], [6, 7, 7], [6, 7, 8], [2, 0, 4], [0, 4, 6], [4, 6, 7], [6, 7, 7], [6, 7, 7], [6, 7, 7], [6, 7, 8], [0, 6, 7], [6, 7, 4], [6, 4, 6], [4, 6, 7], [6, 7, 7], [6, 7, 8], [0, 1, 2], [0, 2, 4], [2, 4, 6], [4, 6, 7], [6, 7, 8], [6, 8, 9], [0, 1, 2], [0, 2, 4], [2, 4, 6], [4, 6, 7], [6, 7, 8], [0, 4, 6], [4, 6, 7], [6, 7, 7], [6, 7, 8], [6, 8, 9], [2, 4, 5], [4, 5, 6], [4, 6, 7], [6, 7, 7], [6, 7, 7], [6, 7, 7], [6, 7, 8], [0, 6, 7], [6, 7, 7], [6, 7, 7], [6, 7, 7], [6, 7, 7], [6, 7, 7], [6, 7, 7], [6, 7, 7], [6, 7, 8], [0, 1, 1], [0, 1, 1], [0, 1, 1], [0, 1, 2], [0, 1, 4], [0, 4, 5], [4, 5, 6], [4, 6, 8], [0, 1, 1], [0, 1, 2], [0, 2, 6], [2, 6, 7], [6, 7, 7], [6, 7, 8], [2, 6, 7], [6, 7, 7], [6, 7, 7], [6, 7, 7], [6, 7, 8], [0, 1, 2], [0, 2, 4], [2, 4, 5], [4, 5, 5], [4, 5, 6], [4, 6, 8], [0, 1, 1], [0, 1, 1], [0, 1, 2], [0, 2, 4], [2, 4, 5], [4, 5, 5], [4, 5, 8], [4, 8, 9], [0, 2, 4], [2, 4, 5], [4, 5, 5], [4, 5, 6], [4, 6, 8], [6, 8, 9]]\n",
            "pred:  [[0, 1, 2], [0, 2, 4], [2, 4, 5], [4, 5, 6], [4, 7, 7], [6, 7, 7], [6, 7, 7], [6, 7, 8], [6, 9, 9], [0, 2, 4], [2, 4, 5], [4, 5, 5], [4, 5, 7], [4, 7, 7], [6, 7, 7], [6, 7, 7], [6, 7, 7], [6, 7, 7], [6, 8, 8], [6, 7, 8], [4, 5, 5], [0, 4, 5], [2, 5, 5], [5, 5, 5], [6, 7, 7], [6, 7, 8], [6, 7, 7], [0, 1, 1], [0, 1, 2], [0, 2, 4], [2, 4, 5], [4, 5, 5], [4, 5, 5], [4, 5, 5], [4, 5, 6], [4, 6, 7], [6, 7, 7], [6, 7, 7], [6, 7, 7], [6, 7, 8], [6, 7, 8], [2, 4, 5], [4, 5, 7], [4, 6, 7], [6, 7, 7], [6, 7, 7], [6, 7, 7], [6, 7, 7], [6, 7, 7], [6, 7, 7], [6, 7, 7], [6, 7, 7], [6, 7, 7], [6, 7, 7], [6, 7, 7], [6, 7, 7], [6, 7, 7], [0, 1, 2], [0, 2, 4], [2, 4, 5], [4, 5, 6], [4, 6, 7], [6, 7, 7], [6, 7, 7], [6, 7, 8], [0, 1, 2], [0, 2, 4], [2, 4, 6], [4, 6, 7], [6, 7, 7], [6, 7, 7], [0, 1, 1], [0, 1, 1], [0, 1, 1], [0, 1, 1], [0, 1, 2], [0, 2, 4], [2, 4, 5], [4, 5, 6], [4, 6, 7], [6, 7, 7], [6, 7, 7], [6, 8, 8], [0, 2, 5], [2, 4, 5], [4, 5, 5], [4, 6, 6], [4, 6, 7], [6, 7, 7], [6, 7, 7], [6, 7, 8], [0, 1, 1], [0, 1, 2], [0, 2, 5], [2, 5, 5], [4, 5, 5], [4, 5, 6], [4, 6, 7], [6, 7, 7], [6, 7, 7], [6, 7, 7], [6, 7, 8], [0, 2, 5], [2, 5, 5], [5, 5, 5], [4, 5, 5], [4, 5, 6], [4, 7, 7], [6, 7, 7], [6, 7, 7], [0, 2, 5], [2, 4, 5], [4, 5, 5], [4, 5, 7], [4, 6, 7], [6, 7, 7], [6, 7, 7], [6, 7, 7], [6, 7, 8], [6, 7, 7], [0, 1, 2], [0, 2, 4], [2, 4, 5], [4, 5, 5], [4, 5, 5], [4, 5, 5], [4, 5, 5], [4, 5, 5], [4, 5, 5], [4, 5, 7], [4, 6, 7], [6, 7, 7], [6, 7, 7], [6, 7, 7], [6, 7, 7], [6, 7, 7], [6, 7, 7], [6, 7, 7], [6, 8, 8], [0, 1, 2], [0, 2, 5], [2, 4, 5], [4, 5, 5], [4, 5, 5], [4, 5, 5], [4, 5, 7], [4, 6, 7], [6, 7, 7], [0, 2, 5], [2, 4, 5], [4, 5, 7], [6, 7, 8], [7, 8, 8], [2, 4, 5], [4, 5, 5], [4, 5, 6], [4, 6, 7], [6, 7, 8], [0, 2, 4], [2, 4, 6], [4, 6, 7], [6, 7, 7], [6, 7, 7], [6, 7, 7], [6, 7, 7], [6, 7, 7], [6, 8, 8], [6, 8, 8], [2, 4, 5], [4, 5, 5], [4, 5, 5], [4, 5, 7], [4, 6, 7], [0, 2, 4], [2, 4, 5], [4, 5, 5], [4, 5, 6], [4, 5, 5], [4, 5, 7], [4, 6, 7], [6, 7, 7], [6, 7, 7], [6, 7, 7], [6, 7, 7], [6, 7, 7], [2, 1, 1], [0, 1, 2], [0, 2, 5], [2, 4, 5], [4, 5, 6], [4, 6, 7], [6, 7, 7], [6, 7, 7], [6, 7, 7], [6, 7, 7], [6, 7, 7], [6, 6, 7], [6, 7, 8], [0, 1, 2], [0, 2, 4], [2, 4, 5], [4, 5, 5], [4, 5, 5], [4, 5, 5], [4, 5, 5], [4, 5, 6], [4, 6, 7], [6, 7, 7], [6, 7, 7], [6, 7, 8], [2, 2, 5], [4, 5, 5], [4, 5, 6], [4, 6, 7], [6, 7, 7], [6, 7, 7], [6, 7, 7], [6, 7, 7], [6, 7, 7], [6, 8, 8], [0, 1, 1], [2, 4, 5], [4, 5, 5], [4, 5, 6], [4, 6, 7], [6, 7, 7], [6, 7, 7], [0, 1, 2], [0, 2, 4], [2, 4, 5], [4, 4, 5], [4, 5, 5], [4, 5, 6], [4, 6, 7], [6, 7, 7], [6, 7, 7], [6, 7, 8], [6, 8, 8], [2, 4, 5], [4, 5, 7], [4, 6, 7], [6, 7, 7], [6, 7, 7], [6, 7, 7], [6, 7, 7], [6, 7, 7], [6, 7, 8], [0, 2, 4], [2, 4, 5], [4, 5, 5], [4, 5, 5], [4, 5, 5], [4, 5, 6], [4, 6, 7], [6, 7, 7], [6, 7, 7], [6, 7, 8], [0, 1, 2], [0, 2, 4], [2, 4, 5], [4, 5, 5], [4, 5, 6], [4, 6, 7], [6, 7, 7], [6, 7, 8], [6, 8, 9], [0, 1, 1], [0, 1, 2], [0, 2, 4], [2, 4, 5], [4, 5, 5], [4, 5, 5], [4, 5, 6], [4, 7, 7], [6, 7, 7], [6, 7, 7], [6, 7, 7], [6, 7, 7], [6, 7, 8], [6, 8, 9], [6, 7, 9], [0, 1, 2], [0, 2, 5], [2, 4, 5], [4, 5, 5], [4, 5, 5], [4, 5, 7], [4, 7, 7], [6, 7, 7], [6, 7, 7], [6, 8, 8], [6, 8, 8], [8, 9, 9], [6, 9, 9], [0, 1, 1], [0, 1, 2], [0, 2, 5], [2, 4, 5], [4, 5, 5], [4, 5, 5], [4, 5, 5], [4, 5, 7], [4, 6, 7], [6, 8, 8], [0, 1, 2], [0, 2, 4], [2, 4, 5], [4, 4, 5], [4, 5, 5], [4, 6, 7], [6, 6, 7], [6, 7, 7], [6, 7, 7], [6, 8, 8], [8, 9, 9], [0, 1, 2], [0, 2, 4], [2, 4, 5], [4, 4, 5], [4, 4, 5], [4, 5, 6], [4, 6, 7], [6, 7, 7], [6, 7, 7], [6, 7, 8], [6, 7, 9], [2, 4, 5], [4, 5, 5], [4, 5, 5], [4, 5, 7], [4, 6, 7], [6, 7, 8], [6, 8, 8], [8, 8, 8], [6, 8, 8], [0, 9, 8], [0, 2, 4], [2, 4, 5], [4, 5, 5], [4, 5, 5], [4, 5, 5], [4, 5, 5], [4, 5, 5], [4, 5, 7], [4, 6, 7], [6, 7, 7], [6, 7, 7], [6, 7, 7], [6, 7, 7], [6, 7, 7], [6, 7, 8], [6, 8, 8], [0, 1, 2], [0, 2, 4], [2, 4, 5], [4, 5, 5], [4, 5, 6], [4, 6, 7], [6, 6, 7], [6, 7, 7], [6, 7, 8], [6, 8, 8], [0, 1, 1], [0, 1, 2], [0, 2, 4], [2, 4, 6], [4, 5, 5], [2, 5, 5], [4, 5, 7], [4, 8, 8], [0, 2, 5], [2, 4, 6], [4, 6, 7], [6, 7, 7], [6, 7, 7], [6, 7, 7], [6, 7, 7], [6, 7, 7], [6, 8, 8], [0, 1, 2], [0, 2, 4], [2, 4, 5], [4, 5, 5], [4, 5, 5], [4, 5, 5], [4, 6, 7], [6, 7, 8], [6, 8, 9], [2, 2, 5], [2, 4, 5], [4, 5, 5], [4, 5, 5], [4, 5, 7], [4, 6, 7], [6, 7, 7], [6, 7, 8], [0, 1, 4], [0, 4, 5], [4, 5, 6], [2, 6, 7], [6, 7, 7], [6, 7, 7], [6, 7, 7], [6, 7, 7], [6, 7, 7], [6, 7, 7], [6, 7, 7], [6, 7, 8], [0, 1, 1], [0, 1, 2], [0, 2, 4], [2, 4, 5], [4, 4, 5], [4, 5, 5], [4, 5, 5], [4, 5, 5], [4, 5, 7], [4, 6, 7], [6, 7, 7], [6, 7, 7], [6, 8, 8], [6, 8, 9], [0, 1, 1], [0, 1, 4], [0, 2, 5], [2, 4, 5], [4, 5, 5], [4, 5, 6], [4, 6, 7], [6, 7, 8], [6, 8, 8], [0, 1, 2], [0, 2, 5], [2, 5, 5], [4, 7, 7], [6, 7, 7], [6, 7, 7], [6, 7, 7], [6, 7, 7], [6, 7, 8], [6, 8, 8], [2, 2, 5], [2, 5, 5], [4, 4, 5], [4, 5, 6], [4, 7, 7], [6, 7, 8], [6, 8, 8], [0, 2, 4], [2, 4, 5], [4, 5, 5], [4, 5, 5], [4, 5, 6], [4, 6, 7], [6, 7, 7], [7, 7, 7], [6, 6, 7], [6, 7, 7], [6, 7, 7], [6, 6, 7], [6, 7, 8], [6, 8, 8], [0, 1, 4], [0, 4, 5], [4, 5, 5], [6, 7, 7], [6, 7, 7], [6, 7, 7], [6, 7, 7], [6, 7, 7], [6, 7, 7], [6, 7, 7], [6, 7, 8], [2, 4, 5], [4, 5, 5], [4, 5, 5], [4, 5, 5], [0, 2, 5], [2, 4, 5], [4, 5, 7], [4, 6, 7], [6, 7, 7], [0, 1, 1], [0, 1, 1], [0, 1, 2], [0, 2, 5], [2, 4, 5], [2, 4, 5], [4, 5, 6], [4, 6, 7], [6, 7, 7], [6, 7, 8], [0, 1, 2], [0, 2, 5], [2, 4, 5], [4, 5, 5], [4, 5, 5], [4, 5, 7], [4, 6, 7], [6, 7, 7], [6, 7, 7], [6, 7, 7], [6, 7, 7], [8, 8, 8], [2, 4, 5], [4, 5, 5], [4, 5, 5], [4, 5, 7], [4, 6, 7], [6, 7, 7], [6, 7, 7], [6, 7, 7], [6, 7, 7], [6, 7, 7], [0, 1, 2], [0, 2, 2], [2, 2, 5], [2, 4, 5], [4, 5, 6], [4, 7, 7], [6, 7, 8], [6, 8, 8], [0, 1, 1], [0, 1, 1], [0, 1, 1], [0, 1, 1], [0, 7, 9], [6, 7, 9], [6, 1, 2], [0, 2, 5], [2, 4, 5], [4, 5, 5], [4, 5, 5], [4, 5, 5], [0, 5, 5], [4, 5, 8], [4, 8, 9], [6, 1, 1], [0, 1, 1], [0, 1, 1], [0, 1, 2], [0, 2, 6], [2, 6, 7], [6, 7, 8], [0, 2, 6], [2, 4, 5], [4, 5, 5], [4, 5, 7], [4, 6, 8], [2, 4, 5], [4, 5, 5], [4, 5, 5], [4, 5, 7], [4, 6, 7], [6, 7, 7], [6, 7, 7], [6, 7, 7], [6, 8, 8], [0, 1, 1], [0, 1, 4], [0, 4, 5], [4, 5, 6], [4, 6, 8], [6, 7, 8], [0, 2, 4], [2, 4, 5], [4, 5, 7], [4, 6, 7], [6, 7, 7], [6, 7, 7], [2, 0, 1], [0, 1, 4], [0, 4, 5], [4, 5, 7], [4, 6, 7], [6, 7, 7], [6, 7, 7], [6, 7, 7], [6, 7, 7], [6, 7, 7], [6, 8, 9], [0, 9, 9], [0, 1, 2], [0, 2, 5], [2, 5, 6], [4, 6, 8], [2, 4, 5], [4, 5, 5], [4, 5, 5], [4, 5, 7], [4, 6, 7], [6, 7, 7], [6, 7, 7], [6, 7, 8], [0, 1, 1], [0, 1, 1], [0, 1, 4], [0, 4, 5], [4, 5, 5], [4, 5, 5], [4, 5, 5], [4, 5, 6], [4, 6, 7], [6, 7, 7], [6, 7, 7], [6, 7, 7], [6, 7, 7], [6, 7, 8], [6, 7, 8], [2, 4, 5], [4, 5, 5], [4, 5, 5], [4, 5, 5], [4, 5, 5], [4, 5, 5], [0, 5, 1], [4, 8, 8], [0, 7, 9], [0, 7, 8], [6, 8, 9], [0, 1, 1], [0, 1, 2], [0, 2, 2], [0, 2, 5], [2, 4, 5], [2, 5, 5], [4, 5, 7], [4, 6, 7], [6, 7, 8], [0, 1, 2], [0, 2, 4], [2, 4, 4], [4, 4, 5], [4, 5, 5], [4, 5, 7], [4, 6, 7], [6, 7, 7], [6, 7, 7], [6, 7, 8], [0, 1, 1], [0, 1, 1], [0, 1, 1], [0, 1, 5], [0, 4, 5], [4, 5, 5], [4, 5, 5], [4, 5, 7], [4, 7, 7], [6, 7, 7], [6, 7, 7], [6, 7, 7], [4, 7, 7], [4, 5, 5], [4, 5, 7], [4, 5, 7], [4, 7, 7], [6, 8, 9], [0, 2, 4], [2, 4, 5], [4, 4, 5], [4, 5, 7], [4, 6, 7], [6, 7, 7], [7, 7, 7], [0, 2, 4], [2, 4, 5], [4, 5, 6], [4, 6, 7], [6, 7, 7], [6, 7, 7], [6, 7, 7], [6, 7, 7], [6, 7, 7], [6, 7, 8], [6, 8, 8], [0, 1, 1], [0, 1, 1], [0, 1, 1], [0, 1, 2], [0, 2, 1], [0, 2, 8], [2, 6, 7], [6, 7, 7], [0, 7, 7], [6, 7, 8], [0, 1, 2], [0, 4, 7], [4, 7, 7], [6, 7, 7], [6, 7, 7], [6, 7, 7], [6, 7, 8], [6, 8, 8], [4, 6, 7], [6, 7, 7], [6, 7, 7], [6, 7, 7], [6, 7, 7], [6, 7, 8], [0, 4, 5], [4, 5, 6], [4, 6, 7], [6, 7, 7], [6, 7, 7], [6, 7, 8], [6, 8, 9], [0, 2, 4], [2, 5, 5], [2, 5, 5], [4, 5, 7], [4, 6, 8], [0, 1, 2], [0, 2, 1], [2, 0, 1], [0, 1, 7], [0, 7, 7], [7, 8, 7], [6, 7, 9], [0, 1, 4], [0, 4, 5], [4, 4, 6], [4, 6, 7], [6, 7, 7], [6, 7, 8], [6, 8, 9], [0, 2, 1], [2, 0, 1], [0, 7, 9], [0, 9, 9], [0, 7, 7], [0, 1, 1], [0, 1, 1], [0, 1, 2], [0, 2, 1], [0, 1, 1], [0, 1, 1], [0, 1, 2], [0, 2, 6], [0, 1, 1], [0, 1, 1], [6, 7, 7], [6, 7, 7], [2, 6, 7], [6, 7, 7], [6, 7, 7], [6, 7, 7], [0, 1, 1], [0, 1, 1], [0, 1, 1], [0, 1, 1], [0, 1, 4], [0, 1, 2], [0, 4, 5], [2, 5, 5], [2, 4, 5], [4, 5, 5], [4, 5, 5], [4, 5, 5], [0, 5, 5], [4, 5, 5], [4, 5, 5], [4, 5, 5], [4, 5, 5], [0, 1, 1], [0, 1, 1], [0, 1, 1], [0, 1, 1], [0, 1, 2], [0, 7, 7], [6, 7, 7], [4, 6, 7], [6, 7, 7], [6, 7, 7], [6, 7, 7], [0, 1, 1], [0, 1, 1], [0, 1, 2], [0, 2, 6], [4, 6, 7], [6, 7, 7], [6, 7, 7], [6, 7, 7], [6, 7, 8], [6, 8, 8], [0, 1, 1], [0, 1, 7], [0, 7, 7], [6, 7, 7], [6, 7, 7], [6, 7, 7], [6, 7, 8], [2, 5, 5], [0, 5, 6], [4, 6, 7], [6, 7, 7], [6, 7, 7], [6, 7, 7], [6, 7, 8], [4, 6, 7], [4, 5, 5], [4, 5, 5], [4, 5, 5], [4, 5, 7], [4, 7, 8], [0, 1, 2], [0, 2, 4], [2, 4, 6], [4, 6, 6], [6, 7, 8], [6, 8, 9], [0, 1, 2], [0, 2, 4], [2, 4, 5], [4, 5, 5], [4, 5, 7], [0, 4, 6], [4, 7, 7], [2, 7, 7], [0, 7, 7], [6, 7, 8], [2, 4, 5], [4, 5, 7], [4, 6, 7], [6, 7, 7], [6, 7, 7], [6, 7, 7], [6, 7, 8], [4, 5, 7], [4, 7, 7], [6, 7, 7], [6, 7, 7], [6, 7, 7], [7, 6, 7], [6, 7, 7], [6, 7, 7], [6, 7, 8], [0, 1, 1], [0, 1, 5], [4, 1, 1], [0, 1, 2], [0, 1, 2], [0, 2, 5], [2, 4, 6], [4, 6, 8], [0, 1, 1], [0, 1, 2], [0, 2, 6], [2, 6, 7], [6, 7, 7], [6, 7, 8], [4, 6, 7], [6, 7, 7], [6, 7, 7], [6, 7, 7], [6, 7, 8], [0, 1, 2], [0, 2, 4], [2, 4, 5], [4, 5, 5], [4, 5, 6], [4, 6, 8], [0, 1, 1], [0, 1, 1], [0, 1, 2], [0, 2, 6], [2, 5, 5], [0, 5, 5], [4, 5, 7], [4, 7, 7], [0, 2, 4], [2, 4, 6], [4, 6, 7], [6, 6, 7], [4, 6, 7], [6, 7, 7]]\n",
            "precision: 0.9862068965517241, recall: 1.0, F1: 0.9930555555555556\n",
            "evaluation loss: 0.5643021209969777\n"
          ]
        },
        {
          "output_type": "stream",
          "name": "stderr",
          "text": [
            "/usr/local/lib/python3.7/dist-packages/sklearn/metrics/_classification.py:1318: UndefinedMetricWarning: Precision and F-score are ill-defined and being set to 0.0 in labels with no predicted samples. Use `zero_division` parameter to control this behavior.\n",
            "  _warn_prf(average, modifier, msg_start, len(result))\n",
            "/usr/local/lib/python3.7/dist-packages/sklearn/metrics/_classification.py:1318: UndefinedMetricWarning: Precision and F-score are ill-defined and being set to 0.0 in labels with no predicted samples. Use `zero_division` parameter to control this behavior.\n",
            "  _warn_prf(average, modifier, msg_start, len(result))\n",
            "/usr/local/lib/python3.7/dist-packages/sklearn/metrics/_classification.py:1318: UndefinedMetricWarning: Precision and F-score are ill-defined and being set to 0.0 in labels with no predicted samples. Use `zero_division` parameter to control this behavior.\n",
            "  _warn_prf(average, modifier, msg_start, len(result))\n"
          ]
        },
        {
          "output_type": "stream",
          "name": "stdout",
          "text": [
            "current acc is 0.9931, best acc is 0.9931\n",
            "***** Running training epoch 4 *****\n",
            "running_loss:0.5159475192776881\n",
            "running_loss:0.4388108258368447\n",
            "running_loss:0.4189555502845906\n",
            "running_loss:0.37974651046679353\n",
            "running_loss:0.6106036140583455\n",
            "true:  [[0, 1, 2], [0, 2, 4], [2, 4, 5], [4, 5, 6], [4, 6, 7], [6, 7, 7], [6, 7, 7], [6, 7, 8], [6, 8, 9], [0, 2, 4], [2, 4, 5], [4, 5, 5], [4, 5, 6], [4, 6, 7], [6, 7, 7], [6, 7, 7], [6, 7, 7], [6, 7, 8], [6, 8, 9], [8, 9, 9], [0, 1, 4], [0, 4, 5], [4, 5, 6], [4, 6, 7], [6, 7, 7], [6, 7, 8], [6, 8, 9], [8, 9, 9], [0, 1, 2], [0, 2, 4], [2, 4, 5], [4, 5, 5], [4, 5, 5], [4, 5, 5], [4, 5, 6], [4, 6, 7], [6, 7, 7], [6, 7, 7], [6, 7, 7], [6, 7, 8], [6, 8, 9], [2, 4, 5], [4, 5, 5], [4, 5, 6], [4, 6, 7], [6, 7, 7], [6, 7, 7], [6, 7, 7], [6, 7, 7], [6, 7, 7], [6, 7, 7], [6, 7, 7], [6, 7, 7], [6, 7, 7], [6, 7, 7], [6, 7, 8], [6, 8, 9], [0, 1, 2], [0, 2, 4], [2, 4, 5], [4, 5, 6], [4, 6, 7], [6, 7, 7], [6, 7, 7], [6, 7, 8], [0, 1, 2], [0, 2, 4], [2, 4, 5], [4, 5, 6], [4, 6, 7], [6, 7, 7], [6, 7, 7], [6, 7, 7], [6, 7, 8], [6, 8, 9], [0, 1, 2], [0, 2, 4], [2, 4, 5], [4, 5, 6], [4, 6, 7], [6, 7, 7], [6, 7, 8], [6, 8, 9], [0, 2, 4], [2, 4, 5], [4, 5, 5], [4, 5, 6], [4, 6, 7], [6, 7, 7], [6, 7, 7], [6, 7, 8], [0, 1, 1], [0, 1, 2], [0, 2, 4], [2, 4, 5], [4, 5, 5], [4, 5, 6], [4, 6, 7], [6, 7, 7], [6, 7, 7], [6, 7, 8], [6, 8, 9], [0, 2, 4], [2, 4, 5], [4, 5, 5], [4, 5, 5], [4, 5, 6], [4, 6, 7], [6, 7, 7], [6, 7, 8], [0, 2, 4], [2, 4, 5], [4, 5, 5], [4, 5, 6], [4, 6, 7], [6, 7, 7], [6, 7, 7], [6, 7, 8], [6, 8, 9], [8, 9, 9], [0, 1, 2], [0, 2, 4], [2, 4, 5], [4, 5, 5], [4, 5, 5], [4, 5, 5], [4, 5, 5], [4, 5, 5], [4, 5, 5], [4, 5, 5], [4, 5, 6], [4, 6, 7], [6, 7, 7], [6, 7, 7], [6, 7, 7], [6, 7, 7], [6, 7, 8], [6, 8, 9], [8, 9, 9], [0, 1, 2], [0, 2, 4], [2, 4, 5], [4, 5, 5], [4, 5, 5], [4, 5, 5], [4, 5, 6], [4, 6, 7], [6, 7, 8], [0, 2, 4], [2, 4, 5], [4, 5, 6], [4, 6, 8], [6, 8, 9], [2, 4, 5], [4, 5, 5], [4, 5, 6], [4, 6, 7], [6, 7, 8], [0, 2, 4], [2, 4, 6], [4, 6, 7], [6, 7, 7], [6, 7, 7], [6, 7, 7], [6, 7, 7], [6, 7, 7], [6, 7, 8], [6, 8, 9], [2, 4, 5], [4, 5, 5], [4, 5, 5], [4, 5, 6], [4, 6, 8], [0, 2, 4], [2, 4, 5], [4, 5, 5], [4, 5, 5], [4, 5, 5], [4, 5, 6], [4, 6, 7], [6, 7, 7], [6, 7, 7], [6, 7, 7], [6, 7, 8], [6, 8, 9], [2, 0, 1], [0, 1, 2], [0, 2, 4], [2, 4, 5], [4, 5, 6], [4, 6, 7], [6, 7, 7], [6, 7, 7], [6, 7, 7], [6, 7, 7], [6, 7, 8], [6, 8, 9], [8, 9, 9], [0, 1, 2], [0, 2, 4], [2, 4, 5], [4, 5, 5], [4, 5, 5], [4, 5, 5], [4, 5, 5], [4, 5, 6], [4, 6, 7], [6, 7, 7], [6, 7, 7], [6, 7, 8], [2, 4, 5], [4, 5, 5], [4, 5, 6], [4, 6, 7], [6, 7, 7], [6, 7, 7], [6, 7, 7], [6, 7, 7], [6, 7, 8], [6, 8, 9], [8, 9, 9], [2, 4, 5], [4, 5, 5], [4, 5, 6], [4, 6, 7], [6, 7, 7], [6, 7, 8], [0, 1, 2], [0, 2, 4], [2, 4, 5], [4, 5, 5], [4, 5, 5], [4, 5, 6], [4, 6, 7], [6, 7, 7], [6, 7, 7], [6, 7, 8], [6, 8, 9], [2, 4, 5], [4, 5, 6], [4, 6, 7], [6, 7, 7], [6, 7, 7], [6, 7, 7], [6, 7, 7], [6, 7, 8], [6, 8, 9], [0, 2, 4], [2, 4, 5], [4, 5, 5], [4, 5, 5], [4, 5, 5], [4, 5, 6], [4, 6, 7], [6, 7, 7], [6, 7, 7], [6, 7, 8], [0, 1, 2], [0, 2, 4], [2, 4, 5], [4, 5, 5], [4, 5, 6], [4, 6, 7], [6, 7, 7], [6, 7, 8], [6, 8, 9], [0, 1, 1], [0, 1, 2], [0, 2, 4], [2, 4, 5], [4, 5, 5], [4, 5, 5], [4, 5, 6], [4, 6, 7], [6, 7, 7], [6, 7, 7], [6, 7, 7], [6, 7, 7], [6, 7, 8], [6, 8, 9], [8, 9, 9], [0, 1, 2], [0, 2, 4], [2, 4, 5], [4, 5, 5], [4, 5, 5], [4, 5, 6], [4, 6, 7], [6, 7, 7], [6, 7, 7], [6, 7, 8], [6, 8, 9], [8, 9, 9], [8, 9, 9], [0, 1, 1], [0, 1, 2], [0, 2, 4], [2, 4, 5], [4, 5, 5], [4, 5, 5], [4, 5, 5], [4, 5, 6], [4, 6, 7], [6, 7, 8], [0, 1, 2], [0, 2, 4], [2, 4, 5], [4, 5, 5], [4, 5, 6], [4, 6, 7], [6, 7, 7], [6, 7, 7], [6, 7, 8], [6, 8, 9], [8, 9, 9], [0, 1, 2], [0, 2, 4], [2, 4, 5], [4, 5, 5], [4, 5, 5], [4, 5, 6], [4, 6, 7], [6, 7, 7], [6, 7, 7], [6, 7, 8], [6, 8, 9], [2, 4, 5], [4, 5, 5], [4, 5, 5], [4, 5, 6], [4, 6, 7], [6, 7, 8], [6, 8, 9], [8, 9, 9], [8, 9, 9], [8, 9, 9], [0, 2, 4], [2, 4, 5], [4, 5, 5], [4, 5, 5], [4, 5, 5], [4, 5, 5], [4, 5, 6], [4, 6, 7], [6, 7, 7], [6, 7, 7], [6, 7, 7], [6, 7, 7], [6, 7, 7], [6, 7, 7], [6, 7, 8], [6, 8, 9], [0, 1, 2], [0, 2, 4], [2, 4, 5], [4, 5, 5], [4, 5, 5], [4, 5, 6], [4, 6, 7], [6, 7, 7], [6, 7, 8], [6, 8, 9], [0, 1, 1], [0, 1, 2], [0, 2, 4], [2, 4, 5], [4, 5, 5], [4, 5, 5], [4, 5, 6], [4, 6, 8], [0, 2, 4], [2, 4, 6], [4, 6, 7], [6, 7, 7], [6, 7, 7], [6, 7, 7], [6, 7, 7], [6, 7, 8], [6, 8, 9], [0, 1, 2], [0, 2, 4], [2, 4, 5], [4, 5, 5], [4, 5, 5], [4, 5, 6], [4, 6, 7], [6, 7, 8], [6, 8, 9], [2, 3, 4], [2, 4, 5], [4, 5, 5], [4, 5, 5], [4, 5, 6], [4, 6, 7], [6, 7, 7], [6, 7, 8], [0, 1, 4], [0, 4, 2], [4, 2, 6], [2, 6, 7], [6, 7, 7], [6, 7, 7], [6, 7, 7], [6, 7, 7], [6, 7, 8], [6, 8, 9], [8, 9, 9], [8, 9, 9], [0, 1, 1], [0, 1, 2], [0, 2, 4], [2, 4, 5], [4, 5, 5], [4, 5, 5], [4, 5, 5], [4, 5, 5], [4, 5, 6], [4, 6, 7], [6, 7, 7], [6, 7, 7], [6, 7, 8], [6, 8, 9], [0, 1, 1], [0, 1, 2], [0, 2, 4], [2, 4, 5], [4, 5, 5], [4, 5, 6], [4, 6, 7], [6, 7, 8], [6, 8, 9], [0, 1, 2], [0, 2, 4], [2, 4, 6], [4, 6, 7], [6, 7, 7], [6, 7, 7], [6, 7, 7], [6, 7, 7], [6, 7, 8], [6, 8, 9], [2, 4, 5], [4, 5, 5], [4, 5, 5], [4, 5, 6], [4, 6, 7], [6, 7, 8], [6, 8, 9], [0, 2, 4], [2, 4, 5], [4, 5, 5], [4, 5, 5], [4, 5, 6], [4, 6, 7], [6, 7, 7], [6, 7, 7], [6, 7, 7], [6, 7, 7], [6, 7, 7], [6, 7, 7], [6, 7, 8], [6, 8, 9], [0, 1, 4], [0, 4, 5], [4, 5, 5], [4, 5, 6], [4, 6, 7], [6, 7, 7], [6, 7, 7], [6, 7, 7], [6, 7, 7], [6, 7, 7], [6, 7, 8], [2, 0, 1], [0, 1, 1], [0, 1, 1], [0, 1, 2], [0, 2, 4], [2, 4, 5], [4, 5, 6], [4, 6, 7], [6, 7, 8], [0, 1, 1], [0, 1, 1], [0, 1, 2], [0, 2, 3], [2, 3, 4], [2, 4, 5], [4, 5, 6], [4, 6, 7], [6, 7, 7], [6, 7, 8], [0, 1, 2], [0, 2, 4], [2, 4, 5], [4, 5, 5], [4, 5, 5], [4, 5, 6], [4, 6, 7], [6, 7, 7], [6, 7, 7], [6, 7, 7], [6, 7, 8], [6, 8, 9], [2, 4, 5], [4, 5, 5], [4, 5, 5], [4, 5, 6], [4, 6, 7], [6, 7, 7], [6, 7, 7], [6, 7, 7], [6, 7, 7], [6, 7, 8], [0, 1, 2], [0, 2, 3], [2, 3, 4], [2, 4, 5], [4, 5, 6], [4, 6, 7], [6, 7, 8], [6, 8, 9], [8, 9, 9], [0, 1, 1], [0, 1, 1], [0, 1, 1], [0, 1, 1], [0, 1, 2], [0, 2, 3], [2, 3, 4], [2, 4, 5], [4, 5, 5], [4, 5, 5], [4, 5, 5], [4, 5, 6], [4, 6, 8], [6, 8, 9], [8, 0, 1], [0, 1, 1], [0, 1, 1], [0, 1, 2], [0, 2, 6], [2, 6, 7], [6, 7, 7], [0, 2, 4], [2, 4, 5], [4, 5, 5], [4, 5, 6], [4, 6, 8], [2, 4, 5], [4, 5, 5], [4, 5, 5], [4, 5, 6], [4, 6, 7], [6, 7, 7], [6, 7, 7], [6, 7, 7], [6, 7, 8], [0, 1, 1], [0, 1, 4], [0, 4, 5], [4, 5, 6], [4, 6, 8], [6, 8, 9], [0, 2, 4], [2, 4, 5], [4, 5, 6], [4, 6, 7], [6, 7, 7], [6, 7, 8], [2, 0, 1], [0, 1, 4], [0, 4, 5], [4, 5, 5], [4, 5, 6], [4, 6, 7], [6, 7, 7], [6, 7, 7], [6, 7, 8], [6, 8, 9], [8, 9, 9], [8, 9, 9], [0, 1, 2], [0, 2, 4], [2, 4, 6], [4, 6, 8], [2, 4, 5], [4, 5, 5], [4, 5, 5], [4, 5, 6], [4, 6, 7], [6, 7, 7], [6, 7, 7], [6, 7, 8], [0, 1, 1], [0, 1, 1], [0, 1, 4], [0, 4, 5], [4, 5, 5], [4, 5, 5], [4, 5, 5], [4, 5, 6], [4, 6, 7], [6, 7, 7], [6, 7, 7], [6, 7, 7], [6, 7, 7], [6, 7, 7], [6, 7, 8], [2, 4, 5], [4, 5, 5], [4, 5, 5], [4, 5, 5], [4, 5, 5], [4, 5, 5], [4, 5, 6], [4, 6, 7], [6, 7, 7], [6, 7, 8], [6, 8, 9], [0, 1, 1], [0, 1, 2], [0, 2, 3], [2, 3, 4], [2, 4, 5], [4, 5, 5], [4, 5, 6], [4, 6, 7], [6, 7, 8], [0, 1, 2], [0, 2, 4], [2, 4, 5], [4, 5, 5], [4, 5, 5], [4, 5, 6], [4, 6, 7], [6, 7, 7], [6, 7, 7], [6, 7, 8], [0, 1, 1], [0, 1, 1], [0, 1, 1], [0, 1, 4], [0, 4, 5], [4, 5, 5], [4, 5, 5], [4, 5, 5], [4, 5, 5], [4, 5, 5], [4, 5, 5], [4, 5, 5], [4, 5, 5], [4, 5, 5], [4, 5, 5], [4, 5, 5], [4, 5, 8], [4, 8, 9], [0, 2, 4], [2, 4, 5], [4, 5, 5], [4, 5, 6], [4, 6, 7], [6, 7, 8], [6, 8, 9], [0, 2, 4], [2, 4, 5], [4, 5, 6], [4, 6, 7], [6, 7, 7], [6, 7, 7], [6, 7, 7], [6, 7, 7], [6, 7, 7], [6, 7, 8], [6, 8, 9], [0, 1, 1], [0, 1, 1], [0, 1, 1], [0, 1, 2], [0, 2, 8], [0, 2, 6], [2, 6, 7], [6, 7, 7], [6, 7, 7], [6, 7, 8], [0, 1, 2], [0, 2, 6], [2, 6, 7], [6, 7, 7], [6, 7, 7], [6, 7, 7], [6, 7, 8], [6, 8, 9], [2, 6, 7], [6, 7, 7], [6, 7, 7], [6, 7, 7], [6, 7, 7], [6, 7, 8], [0, 2, 3], [2, 3, 6], [2, 6, 7], [6, 7, 7], [6, 7, 7], [6, 7, 8], [6, 8, 9], [0, 2, 3], [2, 3, 4], [2, 4, 5], [4, 5, 6], [4, 6, 8], [0, 1, 2], [0, 2, 6], [2, 6, 7], [6, 7, 7], [6, 7, 7], [6, 7, 7], [6, 7, 8], [0, 1, 4], [0, 4, 5], [4, 5, 6], [4, 6, 7], [6, 7, 7], [6, 7, 8], [6, 8, 9], [0, 2, 6], [2, 6, 7], [6, 7, 7], [6, 7, 7], [6, 7, 7], [0, 1, 1], [0, 1, 1], [0, 1, 2], [0, 2, 8], [0, 1, 1], [0, 1, 1], [0, 1, 2], [0, 2, 8], [0, 1, 6], [0, 6, 7], [6, 7, 7], [6, 7, 7], [2, 6, 7], [6, 7, 7], [6, 7, 7], [6, 7, 7], [0, 1, 1], [0, 1, 1], [0, 1, 1], [0, 1, 1], [0, 1, 2], [0, 1, 2], [0, 2, 3], [2, 3, 4], [2, 4, 5], [4, 5, 5], [4, 5, 5], [4, 5, 5], [4, 5, 5], [4, 5, 5], [4, 5, 5], [4, 5, 5], [4, 5, 5], [4, 5, 6], [0, 1, 1], [0, 1, 1], [0, 1, 1], [0, 1, 6], [4, 5, 5], [4, 5, 6], [4, 6, 7], [6, 7, 7], [6, 7, 7], [6, 7, 8], [0, 1, 1], [0, 1, 1], [0, 1, 4], [0, 4, 6], [4, 6, 7], [6, 7, 7], [6, 7, 7], [6, 7, 7], [6, 7, 8], [6, 8, 9], [0, 1, 1], [0, 1, 6], [0, 6, 7], [6, 7, 7], [6, 7, 7], [6, 7, 7], [6, 7, 8], [2, 0, 4], [0, 4, 6], [4, 6, 7], [6, 7, 7], [6, 7, 7], [6, 7, 7], [6, 7, 8], [0, 6, 7], [6, 7, 4], [6, 4, 6], [4, 6, 7], [6, 7, 7], [6, 7, 8], [0, 1, 2], [0, 2, 4], [2, 4, 6], [4, 6, 7], [6, 7, 8], [6, 8, 9], [0, 1, 2], [0, 2, 4], [2, 4, 6], [4, 6, 7], [6, 7, 8], [0, 4, 6], [4, 6, 7], [6, 7, 7], [6, 7, 8], [6, 8, 9], [2, 4, 5], [4, 5, 6], [4, 6, 7], [6, 7, 7], [6, 7, 7], [6, 7, 7], [6, 7, 8], [0, 6, 7], [6, 7, 7], [6, 7, 7], [6, 7, 7], [6, 7, 7], [6, 7, 7], [6, 7, 7], [6, 7, 7], [6, 7, 8], [0, 1, 1], [0, 1, 1], [0, 1, 1], [0, 1, 2], [0, 1, 4], [0, 4, 5], [4, 5, 6], [4, 6, 8], [0, 1, 1], [0, 1, 2], [0, 2, 6], [2, 6, 7], [6, 7, 7], [6, 7, 8], [2, 6, 7], [6, 7, 7], [6, 7, 7], [6, 7, 7], [6, 7, 8], [0, 1, 2], [0, 2, 4], [2, 4, 5], [4, 5, 5], [4, 5, 6], [4, 6, 8], [0, 1, 1], [0, 1, 1], [0, 1, 2], [0, 2, 4], [2, 4, 5], [4, 5, 5], [4, 5, 8], [4, 8, 9], [0, 2, 4], [2, 4, 5], [4, 5, 5], [4, 5, 6], [4, 6, 8], [6, 8, 9]]\n",
            "pred:  [[0, 1, 2], [0, 2, 2], [2, 4, 5], [2, 5, 6], [4, 6, 7], [6, 7, 7], [6, 7, 7], [6, 7, 9], [6, 9, 9], [0, 2, 4], [2, 4, 5], [4, 5, 5], [4, 5, 6], [4, 6, 7], [6, 7, 7], [6, 7, 7], [6, 7, 7], [6, 7, 8], [6, 8, 8], [6, 7, 8], [4, 5, 5], [4, 5, 5], [2, 4, 5], [5, 5, 5], [6, 7, 7], [6, 7, 8], [6, 8, 7], [0, 1, 9], [0, 1, 2], [0, 2, 4], [2, 4, 5], [4, 5, 5], [4, 5, 5], [4, 5, 5], [4, 5, 6], [4, 6, 7], [6, 7, 7], [6, 7, 7], [6, 7, 7], [6, 7, 8], [6, 7, 8], [2, 4, 5], [4, 5, 6], [4, 6, 6], [6, 7, 7], [6, 7, 7], [6, 7, 7], [6, 7, 7], [6, 7, 7], [6, 7, 7], [6, 7, 7], [6, 7, 7], [6, 7, 7], [6, 7, 7], [6, 7, 7], [6, 7, 8], [6, 6, 7], [0, 1, 2], [0, 2, 4], [2, 4, 5], [4, 5, 6], [4, 6, 7], [6, 7, 7], [6, 7, 7], [6, 7, 8], [6, 7, 2], [0, 2, 4], [2, 4, 6], [4, 6, 7], [6, 7, 7], [6, 7, 7], [6, 7, 7], [6, 7, 7], [0, 1, 1], [0, 6, 7], [0, 1, 2], [0, 2, 4], [2, 4, 5], [4, 5, 6], [4, 6, 7], [6, 7, 7], [6, 7, 7], [6, 8, 9], [0, 2, 4], [2, 4, 4], [4, 5, 5], [4, 5, 6], [4, 6, 7], [6, 7, 7], [6, 7, 7], [6, 7, 8], [0, 1, 1], [0, 1, 2], [0, 2, 4], [2, 4, 5], [4, 5, 5], [4, 5, 6], [4, 6, 7], [6, 7, 7], [6, 7, 7], [6, 7, 8], [6, 7, 8], [0, 2, 5], [2, 4, 5], [5, 5, 5], [4, 5, 5], [4, 5, 6], [4, 7, 7], [6, 7, 7], [6, 7, 7], [0, 2, 4], [2, 4, 5], [4, 5, 5], [4, 5, 6], [4, 6, 7], [6, 7, 7], [6, 7, 7], [6, 7, 7], [6, 7, 8], [6, 7, 7], [0, 1, 2], [0, 2, 4], [2, 4, 5], [4, 5, 5], [4, 5, 5], [4, 5, 5], [4, 5, 5], [4, 5, 5], [4, 5, 5], [4, 5, 6], [4, 6, 7], [6, 6, 7], [6, 7, 7], [6, 7, 7], [6, 7, 7], [6, 7, 7], [6, 7, 7], [6, 7, 8], [6, 8, 8], [0, 1, 2], [0, 2, 4], [2, 4, 5], [4, 5, 5], [4, 5, 5], [4, 5, 5], [4, 5, 6], [4, 6, 7], [6, 7, 7], [0, 2, 4], [2, 4, 5], [4, 5, 6], [6, 7, 8], [6, 8, 8], [2, 4, 5], [4, 5, 5], [4, 5, 6], [4, 6, 7], [6, 7, 8], [0, 2, 4], [2, 4, 5], [4, 6, 7], [6, 7, 7], [6, 7, 7], [6, 7, 7], [6, 7, 7], [6, 6, 7], [6, 6, 8], [6, 8, 9], [2, 4, 5], [4, 5, 5], [4, 5, 5], [4, 5, 6], [4, 6, 7], [0, 2, 4], [2, 4, 4], [4, 5, 5], [4, 5, 6], [4, 5, 5], [4, 5, 6], [4, 6, 7], [6, 7, 7], [6, 7, 7], [6, 7, 7], [6, 7, 7], [6, 7, 7], [2, 0, 1], [0, 1, 2], [0, 2, 4], [2, 4, 5], [4, 5, 6], [4, 6, 7], [6, 7, 7], [6, 7, 7], [6, 7, 7], [6, 7, 7], [6, 7, 8], [6, 6, 8], [6, 7, 8], [0, 1, 2], [0, 2, 4], [2, 4, 5], [4, 5, 5], [4, 5, 5], [4, 5, 5], [4, 5, 5], [4, 5, 6], [4, 6, 7], [6, 7, 7], [6, 7, 7], [6, 7, 8], [2, 2, 4], [2, 5, 5], [4, 5, 6], [4, 6, 7], [6, 7, 7], [6, 7, 7], [6, 7, 7], [6, 7, 7], [6, 7, 8], [6, 8, 8], [0, 7, 7], [2, 4, 5], [4, 5, 5], [4, 5, 6], [4, 6, 7], [6, 6, 7], [6, 7, 8], [0, 1, 2], [0, 2, 4], [2, 4, 4], [4, 4, 5], [4, 5, 5], [4, 5, 6], [4, 6, 7], [6, 7, 7], [6, 7, 7], [6, 7, 8], [6, 8, 9], [2, 4, 5], [4, 5, 6], [4, 6, 7], [6, 7, 7], [6, 7, 7], [6, 7, 7], [6, 7, 7], [6, 7, 7], [6, 8, 8], [0, 2, 4], [2, 4, 5], [4, 5, 5], [4, 5, 5], [4, 5, 5], [4, 5, 6], [4, 6, 7], [6, 7, 7], [6, 7, 7], [6, 7, 8], [0, 1, 2], [0, 2, 4], [2, 4, 5], [4, 5, 5], [4, 5, 6], [4, 6, 7], [6, 7, 7], [6, 7, 8], [6, 8, 9], [0, 1, 1], [0, 1, 2], [0, 2, 4], [2, 4, 5], [4, 4, 5], [4, 5, 5], [4, 5, 6], [4, 6, 7], [6, 7, 7], [6, 7, 7], [6, 7, 7], [6, 7, 7], [6, 7, 8], [6, 8, 9], [6, 9, 9], [0, 1, 2], [0, 2, 4], [2, 4, 5], [4, 5, 5], [4, 5, 5], [4, 5, 6], [4, 6, 7], [6, 7, 7], [6, 7, 7], [6, 7, 8], [6, 8, 9], [8, 9, 9], [6, 9, 9], [0, 1, 1], [0, 1, 2], [0, 2, 4], [2, 4, 5], [4, 5, 5], [4, 5, 5], [4, 5, 5], [4, 5, 6], [4, 6, 7], [6, 7, 8], [0, 1, 2], [0, 2, 4], [2, 4, 5], [4, 4, 5], [4, 5, 6], [4, 6, 7], [6, 6, 7], [6, 7, 7], [6, 7, 7], [6, 8, 8], [8, 9, 9], [0, 1, 2], [0, 2, 4], [2, 4, 4], [4, 4, 5], [4, 4, 5], [4, 5, 6], [4, 6, 7], [6, 7, 7], [6, 7, 7], [6, 7, 8], [6, 9, 9], [2, 4, 5], [4, 5, 5], [4, 5, 5], [4, 5, 6], [4, 6, 7], [6, 7, 8], [6, 8, 8], [8, 7, 8], [6, 8, 9], [8, 9, 9], [0, 2, 4], [2, 4, 5], [4, 5, 5], [4, 5, 5], [4, 5, 5], [4, 5, 5], [4, 5, 5], [4, 5, 6], [4, 6, 7], [6, 7, 7], [6, 7, 7], [6, 7, 7], [6, 7, 7], [6, 7, 7], [6, 7, 8], [6, 8, 8], [0, 1, 2], [0, 2, 4], [2, 4, 5], [4, 5, 5], [4, 5, 6], [4, 6, 7], [6, 6, 7], [6, 7, 7], [6, 7, 8], [6, 8, 9], [0, 1, 1], [0, 1, 2], [0, 2, 4], [2, 4, 6], [4, 5, 5], [4, 4, 5], [4, 5, 6], [4, 8, 8], [0, 2, 4], [2, 4, 6], [4, 6, 6], [6, 7, 7], [6, 7, 7], [6, 7, 7], [6, 7, 7], [6, 7, 8], [6, 8, 8], [0, 1, 2], [0, 2, 4], [2, 4, 5], [4, 5, 5], [4, 5, 5], [4, 5, 5], [4, 6, 7], [6, 6, 8], [6, 8, 9], [2, 2, 4], [2, 4, 5], [4, 5, 5], [4, 5, 5], [4, 5, 6], [4, 6, 7], [6, 7, 7], [6, 7, 8], [0, 1, 4], [0, 4, 5], [4, 5, 6], [2, 6, 7], [6, 7, 7], [6, 7, 7], [6, 7, 7], [6, 7, 7], [6, 7, 7], [6, 7, 7], [6, 7, 7], [6, 7, 8], [0, 1, 1], [0, 1, 2], [0, 2, 4], [2, 4, 4], [4, 4, 5], [4, 5, 5], [4, 5, 5], [4, 5, 5], [4, 5, 6], [4, 6, 7], [6, 7, 7], [6, 7, 7], [6, 7, 8], [6, 8, 9], [0, 1, 1], [0, 1, 4], [0, 2, 4], [2, 4, 5], [4, 5, 5], [4, 5, 6], [4, 6, 7], [6, 7, 8], [6, 8, 9], [0, 1, 2], [0, 2, 5], [2, 4, 5], [4, 6, 6], [6, 7, 7], [6, 7, 7], [6, 7, 7], [6, 7, 7], [6, 7, 8], [6, 8, 9], [2, 2, 5], [2, 4, 5], [4, 5, 5], [4, 5, 6], [4, 6, 7], [6, 7, 8], [6, 8, 8], [0, 2, 4], [2, 4, 5], [4, 5, 5], [4, 5, 5], [4, 5, 6], [4, 6, 7], [6, 6, 7], [6, 7, 7], [6, 6, 7], [6, 6, 7], [6, 6, 7], [6, 6, 7], [6, 7, 8], [6, 8, 9], [0, 1, 4], [0, 4, 4], [4, 6, 5], [6, 7, 7], [6, 7, 7], [6, 7, 7], [6, 7, 7], [6, 7, 7], [6, 7, 7], [6, 7, 7], [6, 7, 8], [2, 4, 5], [4, 5, 5], [4, 5, 5], [4, 5, 5], [0, 2, 4], [2, 4, 5], [4, 5, 6], [4, 6, 7], [6, 7, 8], [0, 1, 1], [0, 1, 1], [0, 1, 2], [0, 2, 4], [2, 2, 5], [4, 4, 5], [4, 5, 6], [4, 6, 7], [6, 7, 7], [6, 7, 8], [0, 1, 2], [0, 2, 5], [2, 4, 5], [4, 5, 5], [4, 5, 5], [4, 5, 6], [4, 6, 7], [6, 7, 7], [6, 7, 7], [6, 7, 7], [6, 7, 7], [8, 8, 9], [2, 4, 5], [4, 5, 5], [4, 5, 5], [4, 5, 6], [4, 6, 7], [6, 7, 7], [6, 7, 7], [6, 7, 7], [6, 7, 7], [6, 7, 7], [0, 1, 2], [0, 2, 2], [2, 2, 4], [2, 4, 5], [4, 5, 6], [4, 6, 7], [6, 7, 8], [6, 8, 8], [6, 7, 7], [0, 1, 1], [6, 7, 7], [0, 1, 1], [6, 7, 7], [6, 7, 9], [6, 9, 2], [0, 2, 4], [2, 4, 5], [4, 5, 5], [4, 5, 5], [4, 5, 5], [4, 5, 5], [4, 5, 6], [4, 8, 9], [6, 1, 1], [0, 1, 1], [0, 1, 1], [0, 1, 2], [0, 2, 6], [2, 6, 7], [6, 7, 7], [0, 2, 4], [2, 4, 5], [4, 5, 5], [4, 5, 6], [4, 6, 8], [2, 4, 5], [4, 5, 5], [4, 5, 5], [4, 5, 6], [4, 6, 7], [6, 7, 7], [6, 7, 7], [6, 7, 7], [6, 7, 8], [0, 1, 1], [0, 1, 4], [0, 4, 5], [4, 5, 6], [4, 6, 8], [6, 7, 7], [0, 2, 4], [2, 4, 5], [4, 5, 6], [4, 6, 7], [6, 7, 7], [6, 7, 8], [2, 0, 1], [0, 1, 2], [0, 2, 4], [4, 5, 6], [4, 6, 6], [6, 7, 7], [6, 7, 7], [6, 7, 7], [6, 7, 7], [6, 7, 7], [6, 8, 9], [8, 9, 9], [0, 1, 2], [0, 2, 4], [2, 4, 6], [4, 6, 8], [2, 4, 5], [4, 4, 5], [4, 5, 5], [4, 5, 6], [4, 6, 7], [6, 7, 7], [6, 7, 7], [6, 7, 8], [0, 1, 1], [0, 1, 1], [0, 1, 4], [0, 4, 5], [4, 5, 5], [4, 5, 5], [4, 5, 5], [4, 5, 6], [4, 6, 6], [6, 7, 7], [6, 7, 7], [6, 7, 7], [6, 7, 7], [6, 7, 7], [6, 7, 9], [2, 4, 5], [4, 5, 5], [4, 5, 5], [4, 5, 5], [4, 5, 5], [4, 5, 5], [4, 5, 6], [4, 6, 8], [6, 7, 9], [6, 7, 8], [6, 8, 9], [0, 1, 1], [0, 1, 2], [0, 2, 2], [2, 2, 4], [2, 2, 5], [2, 4, 5], [4, 5, 6], [4, 6, 7], [6, 7, 8], [0, 1, 2], [0, 2, 4], [2, 4, 4], [4, 4, 5], [4, 5, 5], [4, 5, 6], [4, 6, 7], [6, 7, 7], [6, 7, 7], [6, 7, 8], [0, 1, 1], [0, 9, 9], [0, 1, 1], [0, 1, 4], [0, 4, 5], [4, 5, 5], [4, 5, 5], [4, 5, 5], [4, 7, 7], [6, 7, 7], [6, 7, 7], [6, 7, 7], [4, 5, 5], [4, 5, 5], [4, 6, 7], [4, 5, 7], [6, 7, 7], [6, 8, 9], [0, 2, 4], [2, 4, 5], [4, 4, 5], [4, 5, 6], [4, 6, 7], [6, 7, 7], [6, 7, 7], [0, 2, 4], [2, 4, 5], [4, 5, 6], [4, 6, 7], [6, 7, 7], [6, 7, 7], [6, 7, 7], [6, 7, 7], [6, 7, 7], [6, 7, 8], [6, 8, 8], [0, 1, 1], [0, 1, 1], [0, 1, 1], [0, 1, 2], [0, 2, 6], [0, 2, 6], [2, 6, 7], [6, 7, 7], [6, 7, 7], [6, 7, 8], [0, 1, 2], [6, 4, 6], [2, 6, 7], [6, 7, 7], [6, 7, 7], [6, 7, 7], [6, 7, 7], [6, 8, 9], [2, 6, 6], [6, 7, 7], [6, 7, 7], [6, 7, 7], [6, 7, 7], [6, 7, 8], [0, 2, 4], [2, 5, 6], [4, 6, 7], [6, 7, 7], [6, 7, 7], [6, 7, 8], [6, 8, 9], [0, 2, 4], [2, 4, 5], [2, 5, 5], [4, 5, 6], [4, 6, 8], [0, 1, 2], [0, 2, 6], [2, 6, 7], [0, 1, 6], [6, 7, 7], [6, 8, 7], [6, 9, 9], [0, 1, 4], [0, 4, 4], [4, 4, 6], [4, 6, 7], [6, 7, 7], [6, 7, 8], [6, 8, 9], [0, 2, 2], [2, 8, 9], [8, 9, 9], [8, 9, 9], [8, 7, 9], [0, 1, 1], [0, 1, 1], [0, 1, 2], [0, 2, 6], [0, 1, 1], [0, 1, 1], [0, 1, 2], [0, 2, 6], [0, 1, 6], [0, 6, 6], [6, 7, 7], [6, 7, 7], [2, 6, 7], [6, 7, 7], [6, 7, 7], [6, 7, 7], [0, 1, 1], [0, 1, 1], [0, 1, 1], [0, 1, 1], [0, 1, 4], [0, 1, 2], [0, 2, 5], [2, 5, 5], [2, 4, 5], [4, 5, 5], [4, 5, 5], [4, 5, 5], [4, 5, 5], [4, 5, 5], [4, 5, 5], [4, 5, 5], [4, 5, 6], [4, 6, 7], [0, 1, 1], [0, 1, 1], [0, 1, 1], [0, 1, 2], [4, 7, 7], [6, 7, 7], [4, 6, 7], [6, 7, 7], [6, 7, 7], [6, 7, 7], [0, 1, 1], [6, 1, 1], [0, 1, 2], [0, 2, 6], [4, 6, 7], [6, 7, 7], [6, 7, 7], [6, 7, 7], [6, 7, 8], [6, 8, 9], [0, 1, 7], [6, 6, 7], [0, 6, 7], [6, 7, 7], [6, 7, 7], [6, 7, 7], [6, 7, 8], [2, 4, 5], [4, 5, 6], [4, 6, 7], [6, 7, 7], [6, 7, 7], [6, 7, 7], [6, 7, 8], [4, 6, 5], [4, 5, 5], [4, 5, 5], [4, 5, 5], [4, 5, 7], [6, 7, 8], [0, 2, 2], [0, 2, 4], [2, 4, 6], [4, 6, 6], [6, 7, 8], [6, 8, 9], [0, 1, 2], [0, 2, 4], [2, 4, 5], [4, 5, 5], [4, 5, 6], [0, 4, 6], [4, 6, 7], [6, 7, 7], [6, 7, 7], [6, 7, 8], [2, 4, 5], [4, 5, 6], [4, 6, 7], [6, 7, 7], [6, 7, 7], [6, 7, 7], [6, 7, 8], [4, 5, 6], [4, 6, 7], [6, 7, 7], [6, 7, 7], [6, 7, 7], [6, 7, 7], [6, 7, 7], [6, 7, 7], [6, 7, 8], [0, 1, 1], [0, 5, 5], [4, 5, 6], [0, 1, 2], [0, 1, 2], [0, 2, 4], [2, 4, 6], [4, 6, 8], [0, 1, 1], [0, 1, 2], [0, 2, 6], [2, 6, 7], [6, 7, 7], [6, 7, 8], [2, 6, 7], [6, 7, 7], [6, 7, 7], [6, 7, 7], [6, 7, 7], [0, 1, 2], [0, 2, 4], [2, 4, 5], [4, 5, 5], [4, 5, 6], [4, 6, 7], [0, 1, 1], [0, 1, 1], [0, 1, 2], [0, 2, 6], [2, 4, 5], [4, 4, 5], [4, 5, 6], [4, 6, 7], [0, 2, 4], [2, 4, 6], [4, 6, 6], [6, 6, 7], [4, 6, 7], [6, 7, 7]]\n",
            "precision: 0.9924812030075187, recall: 1.0, F1: 0.9962264150943396\n",
            "evaluation loss: 0.5251490312755447\n"
          ]
        },
        {
          "output_type": "stream",
          "name": "stderr",
          "text": [
            "/usr/local/lib/python3.7/dist-packages/sklearn/metrics/_classification.py:1318: UndefinedMetricWarning: Precision and F-score are ill-defined and being set to 0.0 in labels with no predicted samples. Use `zero_division` parameter to control this behavior.\n",
            "  _warn_prf(average, modifier, msg_start, len(result))\n",
            "/usr/local/lib/python3.7/dist-packages/sklearn/metrics/_classification.py:1318: UndefinedMetricWarning: Precision and F-score are ill-defined and being set to 0.0 in labels with no predicted samples. Use `zero_division` parameter to control this behavior.\n",
            "  _warn_prf(average, modifier, msg_start, len(result))\n",
            "/usr/local/lib/python3.7/dist-packages/sklearn/metrics/_classification.py:1318: UndefinedMetricWarning: Precision and F-score are ill-defined and being set to 0.0 in labels with no predicted samples. Use `zero_division` parameter to control this behavior.\n",
            "  _warn_prf(average, modifier, msg_start, len(result))\n"
          ]
        },
        {
          "output_type": "stream",
          "name": "stdout",
          "text": [
            "current acc is 0.9962, best acc is 0.9962\n",
            "***** Running training epoch 5 *****\n",
            "running_loss:0.30948053037864154\n",
            "running_loss:0.2871857553196605\n",
            "running_loss:0.21126942476839758\n",
            "running_loss:0.24697397183044814\n",
            "running_loss:0.465782808768563\n",
            "true:  [[0, 1, 2], [0, 2, 4], [2, 4, 5], [4, 5, 6], [4, 6, 7], [6, 7, 7], [6, 7, 7], [6, 7, 8], [6, 8, 9], [0, 2, 4], [2, 4, 5], [4, 5, 5], [4, 5, 6], [4, 6, 7], [6, 7, 7], [6, 7, 7], [6, 7, 7], [6, 7, 8], [6, 8, 9], [8, 9, 9], [0, 1, 4], [0, 4, 5], [4, 5, 6], [4, 6, 7], [6, 7, 7], [6, 7, 8], [6, 8, 9], [8, 9, 9], [0, 1, 2], [0, 2, 4], [2, 4, 5], [4, 5, 5], [4, 5, 5], [4, 5, 5], [4, 5, 6], [4, 6, 7], [6, 7, 7], [6, 7, 7], [6, 7, 7], [6, 7, 8], [6, 8, 9], [2, 4, 5], [4, 5, 5], [4, 5, 6], [4, 6, 7], [6, 7, 7], [6, 7, 7], [6, 7, 7], [6, 7, 7], [6, 7, 7], [6, 7, 7], [6, 7, 7], [6, 7, 7], [6, 7, 7], [6, 7, 7], [6, 7, 8], [6, 8, 9], [0, 1, 2], [0, 2, 4], [2, 4, 5], [4, 5, 6], [4, 6, 7], [6, 7, 7], [6, 7, 7], [6, 7, 8], [0, 1, 2], [0, 2, 4], [2, 4, 5], [4, 5, 6], [4, 6, 7], [6, 7, 7], [6, 7, 7], [6, 7, 7], [6, 7, 8], [6, 8, 9], [0, 1, 2], [0, 2, 4], [2, 4, 5], [4, 5, 6], [4, 6, 7], [6, 7, 7], [6, 7, 8], [6, 8, 9], [0, 2, 4], [2, 4, 5], [4, 5, 5], [4, 5, 6], [4, 6, 7], [6, 7, 7], [6, 7, 7], [6, 7, 8], [0, 1, 1], [0, 1, 2], [0, 2, 4], [2, 4, 5], [4, 5, 5], [4, 5, 6], [4, 6, 7], [6, 7, 7], [6, 7, 7], [6, 7, 8], [6, 8, 9], [0, 2, 4], [2, 4, 5], [4, 5, 5], [4, 5, 5], [4, 5, 6], [4, 6, 7], [6, 7, 7], [6, 7, 8], [0, 2, 4], [2, 4, 5], [4, 5, 5], [4, 5, 6], [4, 6, 7], [6, 7, 7], [6, 7, 7], [6, 7, 8], [6, 8, 9], [8, 9, 9], [0, 1, 2], [0, 2, 4], [2, 4, 5], [4, 5, 5], [4, 5, 5], [4, 5, 5], [4, 5, 5], [4, 5, 5], [4, 5, 5], [4, 5, 5], [4, 5, 6], [4, 6, 7], [6, 7, 7], [6, 7, 7], [6, 7, 7], [6, 7, 7], [6, 7, 8], [6, 8, 9], [8, 9, 9], [0, 1, 2], [0, 2, 4], [2, 4, 5], [4, 5, 5], [4, 5, 5], [4, 5, 5], [4, 5, 6], [4, 6, 7], [6, 7, 8], [0, 2, 4], [2, 4, 5], [4, 5, 6], [4, 6, 8], [6, 8, 9], [2, 4, 5], [4, 5, 5], [4, 5, 6], [4, 6, 7], [6, 7, 8], [0, 2, 4], [2, 4, 6], [4, 6, 7], [6, 7, 7], [6, 7, 7], [6, 7, 7], [6, 7, 7], [6, 7, 7], [6, 7, 8], [6, 8, 9], [2, 4, 5], [4, 5, 5], [4, 5, 5], [4, 5, 6], [4, 6, 8], [0, 2, 4], [2, 4, 5], [4, 5, 5], [4, 5, 5], [4, 5, 5], [4, 5, 6], [4, 6, 7], [6, 7, 7], [6, 7, 7], [6, 7, 7], [6, 7, 8], [6, 8, 9], [2, 0, 1], [0, 1, 2], [0, 2, 4], [2, 4, 5], [4, 5, 6], [4, 6, 7], [6, 7, 7], [6, 7, 7], [6, 7, 7], [6, 7, 7], [6, 7, 8], [6, 8, 9], [8, 9, 9], [0, 1, 2], [0, 2, 4], [2, 4, 5], [4, 5, 5], [4, 5, 5], [4, 5, 5], [4, 5, 5], [4, 5, 6], [4, 6, 7], [6, 7, 7], [6, 7, 7], [6, 7, 8], [2, 4, 5], [4, 5, 5], [4, 5, 6], [4, 6, 7], [6, 7, 7], [6, 7, 7], [6, 7, 7], [6, 7, 7], [6, 7, 8], [6, 8, 9], [8, 9, 9], [2, 4, 5], [4, 5, 5], [4, 5, 6], [4, 6, 7], [6, 7, 7], [6, 7, 8], [0, 1, 2], [0, 2, 4], [2, 4, 5], [4, 5, 5], [4, 5, 5], [4, 5, 6], [4, 6, 7], [6, 7, 7], [6, 7, 7], [6, 7, 8], [6, 8, 9], [2, 4, 5], [4, 5, 6], [4, 6, 7], [6, 7, 7], [6, 7, 7], [6, 7, 7], [6, 7, 7], [6, 7, 8], [6, 8, 9], [0, 2, 4], [2, 4, 5], [4, 5, 5], [4, 5, 5], [4, 5, 5], [4, 5, 6], [4, 6, 7], [6, 7, 7], [6, 7, 7], [6, 7, 8], [0, 1, 2], [0, 2, 4], [2, 4, 5], [4, 5, 5], [4, 5, 6], [4, 6, 7], [6, 7, 7], [6, 7, 8], [6, 8, 9], [0, 1, 1], [0, 1, 2], [0, 2, 4], [2, 4, 5], [4, 5, 5], [4, 5, 5], [4, 5, 6], [4, 6, 7], [6, 7, 7], [6, 7, 7], [6, 7, 7], [6, 7, 7], [6, 7, 8], [6, 8, 9], [8, 9, 9], [0, 1, 2], [0, 2, 4], [2, 4, 5], [4, 5, 5], [4, 5, 5], [4, 5, 6], [4, 6, 7], [6, 7, 7], [6, 7, 7], [6, 7, 8], [6, 8, 9], [8, 9, 9], [8, 9, 9], [0, 1, 1], [0, 1, 2], [0, 2, 4], [2, 4, 5], [4, 5, 5], [4, 5, 5], [4, 5, 5], [4, 5, 6], [4, 6, 7], [6, 7, 8], [0, 1, 2], [0, 2, 4], [2, 4, 5], [4, 5, 5], [4, 5, 6], [4, 6, 7], [6, 7, 7], [6, 7, 7], [6, 7, 8], [6, 8, 9], [8, 9, 9], [0, 1, 2], [0, 2, 4], [2, 4, 5], [4, 5, 5], [4, 5, 5], [4, 5, 6], [4, 6, 7], [6, 7, 7], [6, 7, 7], [6, 7, 8], [6, 8, 9], [2, 4, 5], [4, 5, 5], [4, 5, 5], [4, 5, 6], [4, 6, 7], [6, 7, 8], [6, 8, 9], [8, 9, 9], [8, 9, 9], [8, 9, 9], [0, 2, 4], [2, 4, 5], [4, 5, 5], [4, 5, 5], [4, 5, 5], [4, 5, 5], [4, 5, 6], [4, 6, 7], [6, 7, 7], [6, 7, 7], [6, 7, 7], [6, 7, 7], [6, 7, 7], [6, 7, 7], [6, 7, 8], [6, 8, 9], [0, 1, 2], [0, 2, 4], [2, 4, 5], [4, 5, 5], [4, 5, 5], [4, 5, 6], [4, 6, 7], [6, 7, 7], [6, 7, 8], [6, 8, 9], [0, 1, 1], [0, 1, 2], [0, 2, 4], [2, 4, 5], [4, 5, 5], [4, 5, 5], [4, 5, 6], [4, 6, 8], [0, 2, 4], [2, 4, 6], [4, 6, 7], [6, 7, 7], [6, 7, 7], [6, 7, 7], [6, 7, 7], [6, 7, 8], [6, 8, 9], [0, 1, 2], [0, 2, 4], [2, 4, 5], [4, 5, 5], [4, 5, 5], [4, 5, 6], [4, 6, 7], [6, 7, 8], [6, 8, 9], [2, 3, 4], [2, 4, 5], [4, 5, 5], [4, 5, 5], [4, 5, 6], [4, 6, 7], [6, 7, 7], [6, 7, 8], [0, 1, 4], [0, 4, 2], [4, 2, 6], [2, 6, 7], [6, 7, 7], [6, 7, 7], [6, 7, 7], [6, 7, 7], [6, 7, 8], [6, 8, 9], [8, 9, 9], [8, 9, 9], [0, 1, 1], [0, 1, 2], [0, 2, 4], [2, 4, 5], [4, 5, 5], [4, 5, 5], [4, 5, 5], [4, 5, 5], [4, 5, 6], [4, 6, 7], [6, 7, 7], [6, 7, 7], [6, 7, 8], [6, 8, 9], [0, 1, 1], [0, 1, 2], [0, 2, 4], [2, 4, 5], [4, 5, 5], [4, 5, 6], [4, 6, 7], [6, 7, 8], [6, 8, 9], [0, 1, 2], [0, 2, 4], [2, 4, 6], [4, 6, 7], [6, 7, 7], [6, 7, 7], [6, 7, 7], [6, 7, 7], [6, 7, 8], [6, 8, 9], [2, 4, 5], [4, 5, 5], [4, 5, 5], [4, 5, 6], [4, 6, 7], [6, 7, 8], [6, 8, 9], [0, 2, 4], [2, 4, 5], [4, 5, 5], [4, 5, 5], [4, 5, 6], [4, 6, 7], [6, 7, 7], [6, 7, 7], [6, 7, 7], [6, 7, 7], [6, 7, 7], [6, 7, 7], [6, 7, 8], [6, 8, 9], [0, 1, 4], [0, 4, 5], [4, 5, 5], [4, 5, 6], [4, 6, 7], [6, 7, 7], [6, 7, 7], [6, 7, 7], [6, 7, 7], [6, 7, 7], [6, 7, 8], [2, 0, 1], [0, 1, 1], [0, 1, 1], [0, 1, 2], [0, 2, 4], [2, 4, 5], [4, 5, 6], [4, 6, 7], [6, 7, 8], [0, 1, 1], [0, 1, 1], [0, 1, 2], [0, 2, 3], [2, 3, 4], [2, 4, 5], [4, 5, 6], [4, 6, 7], [6, 7, 7], [6, 7, 8], [0, 1, 2], [0, 2, 4], [2, 4, 5], [4, 5, 5], [4, 5, 5], [4, 5, 6], [4, 6, 7], [6, 7, 7], [6, 7, 7], [6, 7, 7], [6, 7, 8], [6, 8, 9], [2, 4, 5], [4, 5, 5], [4, 5, 5], [4, 5, 6], [4, 6, 7], [6, 7, 7], [6, 7, 7], [6, 7, 7], [6, 7, 7], [6, 7, 8], [0, 1, 2], [0, 2, 3], [2, 3, 4], [2, 4, 5], [4, 5, 6], [4, 6, 7], [6, 7, 8], [6, 8, 9], [8, 9, 9], [0, 1, 1], [0, 1, 1], [0, 1, 1], [0, 1, 1], [0, 1, 2], [0, 2, 3], [2, 3, 4], [2, 4, 5], [4, 5, 5], [4, 5, 5], [4, 5, 5], [4, 5, 6], [4, 6, 8], [6, 8, 9], [8, 0, 1], [0, 1, 1], [0, 1, 1], [0, 1, 2], [0, 2, 6], [2, 6, 7], [6, 7, 7], [0, 2, 4], [2, 4, 5], [4, 5, 5], [4, 5, 6], [4, 6, 8], [2, 4, 5], [4, 5, 5], [4, 5, 5], [4, 5, 6], [4, 6, 7], [6, 7, 7], [6, 7, 7], [6, 7, 7], [6, 7, 8], [0, 1, 1], [0, 1, 4], [0, 4, 5], [4, 5, 6], [4, 6, 8], [6, 8, 9], [0, 2, 4], [2, 4, 5], [4, 5, 6], [4, 6, 7], [6, 7, 7], [6, 7, 8], [2, 0, 1], [0, 1, 4], [0, 4, 5], [4, 5, 5], [4, 5, 6], [4, 6, 7], [6, 7, 7], [6, 7, 7], [6, 7, 8], [6, 8, 9], [8, 9, 9], [8, 9, 9], [0, 1, 2], [0, 2, 4], [2, 4, 6], [4, 6, 8], [2, 4, 5], [4, 5, 5], [4, 5, 5], [4, 5, 6], [4, 6, 7], [6, 7, 7], [6, 7, 7], [6, 7, 8], [0, 1, 1], [0, 1, 1], [0, 1, 4], [0, 4, 5], [4, 5, 5], [4, 5, 5], [4, 5, 5], [4, 5, 6], [4, 6, 7], [6, 7, 7], [6, 7, 7], [6, 7, 7], [6, 7, 7], [6, 7, 7], [6, 7, 8], [2, 4, 5], [4, 5, 5], [4, 5, 5], [4, 5, 5], [4, 5, 5], [4, 5, 5], [4, 5, 6], [4, 6, 7], [6, 7, 7], [6, 7, 8], [6, 8, 9], [0, 1, 1], [0, 1, 2], [0, 2, 3], [2, 3, 4], [2, 4, 5], [4, 5, 5], [4, 5, 6], [4, 6, 7], [6, 7, 8], [0, 1, 2], [0, 2, 4], [2, 4, 5], [4, 5, 5], [4, 5, 5], [4, 5, 6], [4, 6, 7], [6, 7, 7], [6, 7, 7], [6, 7, 8], [0, 1, 1], [0, 1, 1], [0, 1, 1], [0, 1, 4], [0, 4, 5], [4, 5, 5], [4, 5, 5], [4, 5, 5], [4, 5, 5], [4, 5, 5], [4, 5, 5], [4, 5, 5], [4, 5, 5], [4, 5, 5], [4, 5, 5], [4, 5, 5], [4, 5, 8], [4, 8, 9], [0, 2, 4], [2, 4, 5], [4, 5, 5], [4, 5, 6], [4, 6, 7], [6, 7, 8], [6, 8, 9], [0, 2, 4], [2, 4, 5], [4, 5, 6], [4, 6, 7], [6, 7, 7], [6, 7, 7], [6, 7, 7], [6, 7, 7], [6, 7, 7], [6, 7, 8], [6, 8, 9], [0, 1, 1], [0, 1, 1], [0, 1, 1], [0, 1, 2], [0, 2, 8], [0, 2, 6], [2, 6, 7], [6, 7, 7], [6, 7, 7], [6, 7, 8], [0, 1, 2], [0, 2, 6], [2, 6, 7], [6, 7, 7], [6, 7, 7], [6, 7, 7], [6, 7, 8], [6, 8, 9], [2, 6, 7], [6, 7, 7], [6, 7, 7], [6, 7, 7], [6, 7, 7], [6, 7, 8], [0, 2, 3], [2, 3, 6], [2, 6, 7], [6, 7, 7], [6, 7, 7], [6, 7, 8], [6, 8, 9], [0, 2, 3], [2, 3, 4], [2, 4, 5], [4, 5, 6], [4, 6, 8], [0, 1, 2], [0, 2, 6], [2, 6, 7], [6, 7, 7], [6, 7, 7], [6, 7, 7], [6, 7, 8], [0, 1, 4], [0, 4, 5], [4, 5, 6], [4, 6, 7], [6, 7, 7], [6, 7, 8], [6, 8, 9], [0, 2, 6], [2, 6, 7], [6, 7, 7], [6, 7, 7], [6, 7, 7], [0, 1, 1], [0, 1, 1], [0, 1, 2], [0, 2, 8], [0, 1, 1], [0, 1, 1], [0, 1, 2], [0, 2, 8], [0, 1, 6], [0, 6, 7], [6, 7, 7], [6, 7, 7], [2, 6, 7], [6, 7, 7], [6, 7, 7], [6, 7, 7], [0, 1, 1], [0, 1, 1], [0, 1, 1], [0, 1, 1], [0, 1, 2], [0, 1, 2], [0, 2, 3], [2, 3, 4], [2, 4, 5], [4, 5, 5], [4, 5, 5], [4, 5, 5], [4, 5, 5], [4, 5, 5], [4, 5, 5], [4, 5, 5], [4, 5, 5], [4, 5, 6], [0, 1, 1], [0, 1, 1], [0, 1, 1], [0, 1, 6], [4, 5, 5], [4, 5, 6], [4, 6, 7], [6, 7, 7], [6, 7, 7], [6, 7, 8], [0, 1, 1], [0, 1, 1], [0, 1, 4], [0, 4, 6], [4, 6, 7], [6, 7, 7], [6, 7, 7], [6, 7, 7], [6, 7, 8], [6, 8, 9], [0, 1, 1], [0, 1, 6], [0, 6, 7], [6, 7, 7], [6, 7, 7], [6, 7, 7], [6, 7, 8], [2, 0, 4], [0, 4, 6], [4, 6, 7], [6, 7, 7], [6, 7, 7], [6, 7, 7], [6, 7, 8], [0, 6, 7], [6, 7, 4], [6, 4, 6], [4, 6, 7], [6, 7, 7], [6, 7, 8], [0, 1, 2], [0, 2, 4], [2, 4, 6], [4, 6, 7], [6, 7, 8], [6, 8, 9], [0, 1, 2], [0, 2, 4], [2, 4, 6], [4, 6, 7], [6, 7, 8], [0, 4, 6], [4, 6, 7], [6, 7, 7], [6, 7, 8], [6, 8, 9], [2, 4, 5], [4, 5, 6], [4, 6, 7], [6, 7, 7], [6, 7, 7], [6, 7, 7], [6, 7, 8], [0, 6, 7], [6, 7, 7], [6, 7, 7], [6, 7, 7], [6, 7, 7], [6, 7, 7], [6, 7, 7], [6, 7, 7], [6, 7, 8], [0, 1, 1], [0, 1, 1], [0, 1, 1], [0, 1, 2], [0, 1, 4], [0, 4, 5], [4, 5, 6], [4, 6, 8], [0, 1, 1], [0, 1, 2], [0, 2, 6], [2, 6, 7], [6, 7, 7], [6, 7, 8], [2, 6, 7], [6, 7, 7], [6, 7, 7], [6, 7, 7], [6, 7, 8], [0, 1, 2], [0, 2, 4], [2, 4, 5], [4, 5, 5], [4, 5, 6], [4, 6, 8], [0, 1, 1], [0, 1, 1], [0, 1, 2], [0, 2, 4], [2, 4, 5], [4, 5, 5], [4, 5, 8], [4, 8, 9], [0, 2, 4], [2, 4, 5], [4, 5, 5], [4, 5, 6], [4, 6, 8], [6, 8, 9]]\n",
            "pred:  [[0, 1, 2], [0, 2, 4], [2, 4, 5], [2, 5, 6], [4, 7, 9], [6, 7, 7], [6, 7, 7], [6, 7, 9], [6, 9, 9], [0, 2, 4], [2, 4, 5], [4, 5, 5], [4, 5, 6], [4, 6, 7], [6, 7, 7], [6, 7, 7], [6, 7, 7], [6, 7, 8], [6, 8, 9], [6, 7, 8], [4, 5, 5], [4, 5, 5], [2, 4, 5], [5, 5, 5], [6, 7, 7], [6, 7, 8], [6, 8, 9], [0, 9, 9], [0, 1, 2], [0, 2, 4], [2, 4, 5], [4, 5, 5], [4, 5, 5], [4, 5, 5], [4, 5, 6], [4, 6, 7], [6, 7, 7], [6, 7, 7], [6, 7, 7], [6, 7, 8], [6, 9, 9], [2, 4, 5], [4, 5, 5], [4, 5, 7], [6, 7, 7], [6, 7, 7], [6, 7, 7], [6, 7, 7], [6, 7, 7], [6, 7, 7], [6, 7, 7], [6, 7, 7], [6, 7, 7], [6, 7, 7], [6, 7, 7], [6, 7, 8], [6, 8, 8], [0, 1, 2], [0, 2, 4], [2, 4, 5], [4, 5, 6], [4, 6, 7], [6, 7, 7], [6, 7, 7], [6, 7, 8], [6, 7, 2], [0, 2, 4], [2, 4, 5], [4, 6, 7], [6, 7, 7], [6, 7, 7], [6, 7, 7], [6, 7, 9], [0, 1, 1], [0, 6, 9], [0, 1, 2], [0, 2, 4], [2, 4, 5], [4, 5, 6], [4, 6, 7], [6, 7, 7], [6, 7, 8], [6, 8, 9], [0, 2, 4], [2, 4, 5], [4, 5, 5], [4, 5, 6], [4, 6, 7], [6, 7, 7], [6, 7, 7], [6, 7, 9], [0, 1, 1], [0, 1, 2], [0, 2, 4], [2, 4, 5], [4, 5, 5], [4, 5, 6], [4, 6, 7], [6, 7, 7], [6, 7, 7], [6, 7, 8], [6, 8, 9], [0, 2, 5], [2, 5, 5], [5, 5, 5], [4, 5, 5], [4, 5, 6], [4, 7, 7], [6, 7, 7], [6, 7, 7], [0, 2, 4], [2, 4, 5], [4, 5, 5], [4, 5, 6], [4, 6, 7], [6, 7, 7], [6, 7, 7], [6, 7, 8], [6, 8, 8], [6, 7, 7], [0, 1, 2], [0, 2, 4], [2, 4, 5], [4, 5, 5], [4, 5, 5], [4, 5, 5], [4, 5, 5], [4, 5, 5], [4, 5, 5], [4, 5, 6], [4, 6, 7], [6, 6, 7], [6, 7, 7], [6, 7, 7], [6, 7, 7], [6, 7, 7], [6, 7, 7], [6, 7, 8], [6, 8, 9], [0, 1, 2], [0, 2, 4], [2, 4, 5], [4, 5, 5], [4, 5, 5], [4, 5, 5], [4, 5, 6], [4, 6, 7], [6, 7, 8], [0, 2, 4], [2, 4, 5], [4, 5, 7], [6, 7, 8], [6, 8, 9], [2, 4, 5], [4, 5, 5], [4, 5, 6], [4, 6, 7], [6, 7, 8], [0, 2, 4], [2, 4, 5], [4, 5, 7], [6, 7, 7], [6, 7, 7], [6, 7, 7], [6, 7, 7], [6, 7, 7], [6, 6, 8], [6, 8, 9], [2, 4, 5], [4, 5, 5], [4, 5, 5], [4, 5, 6], [4, 6, 8], [0, 2, 4], [2, 4, 5], [4, 5, 5], [4, 5, 5], [4, 5, 5], [4, 5, 6], [4, 6, 7], [6, 7, 7], [6, 7, 7], [6, 7, 7], [6, 7, 7], [6, 7, 9], [2, 0, 1], [0, 1, 2], [0, 2, 4], [2, 4, 5], [4, 5, 6], [4, 6, 7], [6, 7, 7], [6, 7, 7], [6, 7, 7], [6, 7, 7], [6, 7, 8], [6, 8, 8], [6, 7, 8], [0, 1, 2], [0, 2, 4], [2, 4, 5], [4, 5, 5], [4, 5, 5], [4, 5, 5], [4, 5, 5], [4, 5, 6], [4, 6, 7], [6, 7, 7], [6, 7, 7], [6, 8, 9], [2, 2, 4], [4, 5, 5], [4, 5, 6], [4, 6, 7], [6, 7, 7], [6, 7, 7], [6, 7, 7], [6, 7, 7], [6, 7, 8], [6, 8, 9], [0, 9, 9], [2, 4, 5], [4, 5, 5], [4, 5, 6], [4, 6, 7], [6, 7, 7], [6, 7, 8], [0, 1, 2], [0, 2, 4], [2, 4, 5], [4, 5, 5], [4, 5, 5], [4, 5, 6], [4, 6, 7], [6, 7, 7], [6, 7, 8], [6, 7, 8], [6, 8, 9], [2, 4, 5], [4, 5, 6], [4, 6, 7], [6, 7, 7], [6, 7, 7], [6, 7, 7], [6, 7, 7], [6, 7, 8], [6, 8, 8], [0, 2, 4], [2, 4, 5], [4, 5, 5], [4, 5, 5], [4, 5, 5], [4, 5, 6], [4, 6, 7], [6, 7, 7], [6, 7, 7], [6, 7, 8], [0, 1, 2], [0, 2, 4], [2, 4, 5], [4, 5, 5], [4, 5, 6], [4, 6, 7], [6, 7, 7], [6, 7, 8], [6, 8, 9], [0, 1, 1], [0, 1, 2], [0, 2, 4], [2, 4, 5], [4, 5, 5], [4, 5, 5], [4, 5, 6], [4, 6, 7], [6, 7, 7], [6, 7, 7], [6, 7, 7], [6, 7, 7], [6, 7, 8], [6, 8, 9], [8, 9, 9], [0, 1, 2], [0, 2, 4], [2, 4, 5], [4, 5, 5], [4, 5, 5], [4, 5, 6], [4, 6, 7], [6, 7, 7], [6, 7, 7], [6, 7, 8], [6, 8, 9], [8, 9, 9], [8, 9, 9], [0, 1, 1], [0, 1, 2], [0, 2, 4], [2, 4, 5], [4, 5, 5], [4, 5, 5], [4, 5, 5], [4, 5, 6], [4, 6, 7], [6, 7, 8], [0, 1, 2], [0, 2, 4], [2, 4, 5], [4, 4, 5], [4, 5, 6], [4, 6, 7], [6, 7, 7], [6, 7, 7], [6, 7, 8], [6, 8, 9], [8, 9, 9], [0, 1, 2], [0, 2, 4], [2, 4, 4], [4, 4, 5], [4, 5, 5], [4, 5, 6], [4, 6, 7], [6, 7, 7], [6, 7, 9], [6, 7, 9], [6, 9, 9], [2, 4, 5], [4, 5, 5], [4, 5, 5], [4, 5, 6], [4, 6, 7], [6, 7, 8], [6, 8, 8], [8, 8, 9], [8, 8, 9], [8, 9, 9], [0, 2, 4], [2, 4, 5], [4, 5, 5], [4, 5, 5], [4, 5, 5], [4, 5, 5], [4, 5, 5], [4, 5, 6], [4, 6, 7], [6, 7, 7], [6, 7, 7], [6, 7, 7], [6, 7, 7], [6, 7, 7], [6, 7, 8], [6, 8, 8], [0, 1, 2], [0, 2, 4], [2, 4, 5], [4, 5, 5], [4, 5, 6], [4, 6, 7], [4, 6, 7], [6, 7, 7], [6, 7, 8], [6, 8, 9], [0, 1, 1], [0, 1, 2], [0, 2, 4], [2, 4, 6], [4, 5, 5], [4, 5, 5], [4, 5, 6], [4, 8, 9], [0, 2, 4], [2, 4, 6], [4, 6, 6], [6, 7, 7], [6, 7, 7], [6, 7, 7], [6, 7, 7], [6, 7, 8], [6, 8, 9], [0, 1, 2], [0, 2, 4], [2, 4, 5], [4, 5, 5], [4, 5, 5], [4, 5, 5], [4, 6, 7], [6, 7, 8], [6, 8, 9], [2, 2, 4], [2, 5, 5], [4, 5, 5], [4, 5, 5], [4, 5, 6], [4, 6, 7], [6, 7, 7], [6, 7, 8], [0, 1, 4], [0, 4, 5], [4, 5, 6], [2, 6, 7], [6, 7, 7], [6, 7, 7], [6, 7, 7], [6, 7, 7], [6, 7, 7], [6, 7, 8], [6, 7, 9], [6, 7, 9], [0, 1, 1], [0, 1, 2], [0, 2, 4], [2, 4, 5], [4, 4, 5], [4, 5, 5], [4, 5, 5], [4, 5, 5], [4, 5, 6], [4, 6, 7], [6, 7, 7], [6, 7, 7], [6, 7, 8], [6, 8, 9], [0, 1, 1], [0, 1, 4], [0, 2, 4], [2, 4, 5], [4, 5, 5], [4, 5, 6], [4, 6, 7], [6, 7, 8], [6, 8, 9], [0, 1, 2], [0, 2, 5], [2, 5, 5], [4, 6, 6], [6, 7, 7], [6, 7, 7], [6, 7, 7], [6, 7, 7], [6, 7, 8], [6, 8, 9], [2, 2, 5], [4, 5, 5], [4, 5, 5], [4, 5, 6], [4, 6, 7], [6, 7, 8], [6, 8, 9], [0, 2, 4], [2, 4, 5], [4, 5, 5], [4, 5, 5], [4, 5, 6], [4, 6, 7], [6, 7, 7], [6, 7, 7], [6, 6, 7], [6, 7, 7], [6, 7, 7], [6, 6, 7], [6, 7, 8], [6, 8, 9], [0, 1, 4], [0, 4, 5], [4, 5, 5], [6, 7, 7], [6, 7, 7], [6, 7, 7], [6, 7, 7], [6, 7, 7], [6, 7, 8], [6, 7, 7], [6, 7, 8], [2, 4, 5], [4, 5, 5], [4, 5, 5], [4, 5, 5], [0, 2, 5], [2, 4, 5], [4, 5, 6], [4, 6, 7], [6, 7, 8], [0, 1, 1], [0, 1, 1], [0, 1, 2], [0, 2, 4], [2, 4, 5], [4, 4, 5], [4, 5, 6], [4, 6, 7], [6, 7, 7], [6, 7, 8], [0, 1, 2], [0, 2, 5], [2, 4, 5], [4, 5, 5], [4, 5, 5], [4, 5, 6], [4, 6, 7], [6, 7, 7], [6, 7, 7], [6, 7, 7], [6, 7, 9], [8, 9, 9], [2, 4, 5], [4, 5, 5], [4, 5, 5], [4, 5, 6], [4, 6, 7], [6, 7, 7], [6, 7, 7], [6, 7, 7], [6, 7, 7], [6, 7, 7], [0, 1, 2], [0, 2, 2], [2, 2, 4], [2, 4, 5], [4, 5, 6], [4, 6, 7], [6, 7, 8], [6, 8, 9], [6, 7, 9], [0, 1, 1], [6, 7, 7], [0, 1, 1], [6, 7, 9], [6, 9, 9], [6, 9, 2], [0, 2, 4], [2, 4, 5], [4, 5, 5], [4, 5, 5], [4, 5, 5], [4, 5, 5], [4, 5, 8], [4, 8, 9], [6, 1, 1], [0, 1, 1], [0, 1, 1], [0, 1, 2], [0, 2, 6], [2, 6, 7], [6, 7, 8], [0, 2, 4], [2, 4, 5], [4, 5, 5], [4, 5, 6], [4, 6, 8], [2, 4, 5], [4, 5, 5], [4, 5, 5], [4, 5, 6], [4, 6, 7], [6, 7, 7], [6, 7, 7], [6, 7, 7], [6, 7, 8], [0, 1, 1], [0, 1, 4], [0, 4, 5], [4, 5, 6], [4, 6, 8], [6, 7, 9], [0, 2, 4], [2, 4, 5], [4, 5, 6], [4, 6, 7], [6, 7, 7], [6, 7, 8], [2, 0, 1], [0, 1, 2], [0, 2, 4], [4, 5, 6], [4, 6, 7], [6, 7, 7], [6, 7, 7], [6, 7, 7], [6, 7, 7], [6, 7, 8], [6, 8, 9], [8, 9, 9], [0, 1, 2], [0, 2, 4], [2, 5, 6], [4, 6, 8], [2, 4, 5], [4, 5, 5], [4, 5, 5], [4, 5, 6], [4, 6, 7], [6, 7, 7], [6, 7, 7], [6, 7, 8], [0, 1, 1], [0, 1, 1], [0, 1, 4], [0, 4, 5], [4, 5, 5], [4, 5, 5], [4, 5, 5], [4, 5, 6], [4, 6, 7], [6, 7, 7], [6, 7, 7], [6, 7, 7], [6, 7, 7], [6, 7, 8], [6, 8, 9], [2, 4, 5], [4, 5, 5], [4, 5, 5], [4, 5, 5], [4, 5, 5], [4, 5, 5], [4, 5, 6], [4, 8, 8], [6, 9, 9], [6, 9, 8], [6, 8, 9], [0, 1, 1], [0, 1, 2], [0, 2, 2], [2, 2, 4], [2, 4, 5], [4, 5, 5], [4, 5, 6], [4, 6, 7], [6, 7, 8], [0, 1, 2], [0, 2, 4], [2, 4, 5], [4, 5, 5], [4, 5, 5], [4, 5, 6], [4, 6, 7], [6, 7, 7], [6, 7, 7], [6, 7, 8], [0, 1, 1], [0, 9, 9], [0, 1, 1], [0, 1, 4], [0, 4, 5], [4, 5, 5], [4, 5, 5], [4, 5, 5], [4, 7, 7], [6, 7, 7], [6, 7, 7], [6, 7, 7], [4, 5, 5], [4, 5, 5], [4, 6, 7], [4, 5, 7], [6, 7, 8], [6, 8, 9], [0, 2, 4], [2, 4, 5], [4, 5, 5], [4, 5, 6], [4, 6, 7], [6, 7, 7], [6, 8, 8], [0, 2, 4], [2, 4, 5], [4, 5, 6], [4, 6, 7], [6, 7, 7], [6, 7, 7], [6, 7, 7], [6, 7, 7], [6, 7, 7], [6, 7, 8], [6, 8, 9], [0, 1, 1], [0, 1, 1], [0, 1, 1], [0, 1, 2], [0, 2, 6], [0, 2, 6], [2, 6, 7], [6, 7, 7], [6, 7, 7], [6, 7, 8], [0, 1, 2], [6, 2, 6], [2, 6, 7], [6, 7, 7], [6, 7, 7], [6, 7, 7], [6, 7, 8], [6, 8, 9], [2, 6, 7], [6, 7, 7], [6, 7, 7], [6, 7, 7], [6, 7, 7], [6, 7, 8], [0, 2, 4], [2, 5, 6], [4, 6, 7], [6, 7, 7], [6, 7, 7], [6, 7, 8], [6, 8, 9], [0, 2, 4], [2, 4, 5], [2, 5, 5], [4, 5, 6], [4, 6, 8], [0, 1, 2], [0, 2, 6], [2, 6, 1], [0, 1, 7], [6, 7, 8], [6, 8, 9], [6, 9, 9], [0, 1, 4], [0, 4, 5], [4, 6, 6], [4, 6, 7], [6, 7, 7], [6, 7, 8], [6, 8, 9], [0, 2, 2], [2, 8, 9], [8, 9, 9], [8, 9, 9], [8, 9, 9], [0, 1, 1], [0, 1, 1], [0, 1, 2], [0, 2, 6], [0, 1, 1], [0, 1, 1], [0, 1, 2], [0, 2, 6], [0, 1, 6], [0, 6, 7], [6, 7, 7], [6, 7, 7], [2, 6, 7], [6, 7, 7], [6, 7, 7], [6, 7, 7], [0, 1, 1], [0, 1, 1], [0, 1, 1], [0, 1, 1], [0, 1, 4], [0, 1, 2], [0, 2, 4], [2, 5, 5], [2, 5, 5], [4, 5, 5], [4, 5, 5], [4, 5, 5], [4, 5, 5], [4, 5, 5], [4, 5, 5], [4, 5, 5], [4, 5, 6], [4, 7, 8], [0, 1, 1], [0, 1, 1], [0, 1, 1], [0, 1, 2], [4, 7, 7], [6, 7, 7], [4, 6, 7], [6, 7, 7], [6, 7, 7], [6, 7, 7], [0, 1, 1], [6, 1, 1], [0, 1, 2], [0, 2, 6], [4, 6, 7], [6, 7, 7], [6, 7, 8], [6, 7, 7], [6, 7, 8], [6, 8, 9], [0, 1, 1], [6, 7, 7], [0, 7, 7], [6, 7, 7], [6, 7, 7], [6, 7, 7], [6, 7, 8], [2, 5, 5], [4, 5, 6], [4, 6, 7], [6, 7, 7], [6, 7, 7], [6, 7, 7], [6, 7, 9], [4, 5, 5], [4, 5, 5], [4, 5, 5], [4, 5, 5], [4, 5, 7], [6, 7, 8], [0, 2, 2], [0, 2, 4], [2, 4, 6], [4, 6, 7], [6, 7, 9], [6, 9, 9], [0, 1, 2], [0, 2, 4], [2, 4, 5], [4, 5, 5], [4, 5, 6], [0, 4, 6], [4, 6, 7], [6, 7, 7], [6, 7, 7], [6, 7, 8], [2, 4, 5], [4, 5, 6], [4, 6, 7], [6, 7, 7], [6, 7, 7], [6, 7, 7], [6, 7, 8], [4, 5, 6], [4, 6, 7], [6, 7, 7], [6, 7, 7], [6, 7, 7], [6, 7, 7], [6, 7, 7], [6, 7, 7], [6, 7, 8], [0, 1, 1], [0, 5, 5], [4, 5, 7], [0, 1, 2], [0, 1, 2], [0, 2, 4], [2, 4, 6], [4, 6, 8], [0, 1, 1], [0, 1, 2], [0, 2, 6], [2, 6, 7], [6, 7, 7], [6, 7, 8], [2, 6, 7], [6, 7, 7], [6, 7, 7], [6, 7, 8], [6, 7, 8], [0, 1, 2], [0, 2, 4], [2, 4, 5], [4, 5, 5], [4, 5, 6], [4, 6, 8], [0, 1, 1], [0, 1, 1], [0, 1, 2], [0, 2, 6], [2, 5, 5], [4, 5, 5], [4, 5, 6], [4, 7, 9], [0, 2, 4], [2, 4, 6], [4, 6, 5], [6, 6, 7], [4, 6, 7], [6, 7, 7]]\n",
            "precision: 0.9925373134328358, recall: 1.0, F1: 0.9962546816479401\n",
            "evaluation loss: 0.5116520748060959\n"
          ]
        },
        {
          "output_type": "stream",
          "name": "stderr",
          "text": [
            "/usr/local/lib/python3.7/dist-packages/sklearn/metrics/_classification.py:1318: UndefinedMetricWarning: Precision and F-score are ill-defined and being set to 0.0 in labels with no predicted samples. Use `zero_division` parameter to control this behavior.\n",
            "  _warn_prf(average, modifier, msg_start, len(result))\n",
            "/usr/local/lib/python3.7/dist-packages/sklearn/metrics/_classification.py:1318: UndefinedMetricWarning: Precision and F-score are ill-defined and being set to 0.0 in labels with no predicted samples. Use `zero_division` parameter to control this behavior.\n",
            "  _warn_prf(average, modifier, msg_start, len(result))\n",
            "/usr/local/lib/python3.7/dist-packages/sklearn/metrics/_classification.py:1318: UndefinedMetricWarning: Precision and F-score are ill-defined and being set to 0.0 in labels with no predicted samples. Use `zero_division` parameter to control this behavior.\n",
            "  _warn_prf(average, modifier, msg_start, len(result))\n"
          ]
        },
        {
          "output_type": "stream",
          "name": "stdout",
          "text": [
            "current acc is 0.9963, best acc is 0.9963\n"
          ]
        }
      ],
      "source": [
        "grad_acu_steps = 4 \n",
        "num_epochs = 5\n",
        "num_training_steps = num_epochs*len(train_loader_manually)//grad_acu_steps\n",
        "\n",
        "config = BertConfig.from_pretrained(\n",
        "    model_path, max_position_embeddings=maxlen, num_labels=10)  # 18\n",
        "model = BertForTokenClassification.from_pretrained(\n",
        "    model_path, config=config, ignore_mismatched_sizes=True).to(device)\n",
        "#optimizer = AdamW([{'params': model.bert.parameters()},\n",
        "                   #{'params': model.classifier.parameters(), 'lr': 5e-5}], lr=1e-5)\n",
        "\n",
        "no_decay = ['bias', 'LayerNorm']\n",
        "optimizer_grouped_parameters = [\n",
        "    {'params': [p for n, p in model.bert.named_parameters() if not any(nd in n for nd in no_decay)], 'weight_decay': 0.01},\n",
        "    {'params': [p for n, p in model.bert.named_parameters() if any(nd in n for nd in no_decay)], 'weight_decay': 0.0},\n",
        "{'params': [p for n, p in model.classifier.named_parameters() if not any(nd in n for nd in no_decay)], 'weight_decay': 0.01, 'lr': 1e-4},\n",
        "{'params': [p for n, p in model.classifier.named_parameters() if any(nd in n for nd in no_decay)], 'weight_decay': 0.0, 'lr': 1e-4},\n",
        "]\n",
        "\n",
        "optimizer = AdamW(optimizer_grouped_parameters, lr=2e-5)\n",
        "scheduler = get_cosine_schedule_with_warmup(optimizer, num_warmup_steps=200,\n",
        "                                            num_training_steps=num_training_steps, num_cycles=0.5)\n",
        "criterion = GHMC_Loss(bins=10, alpha=0.9)\n",
        "\n",
        "train_and_eval(model, train_loader_manually, eval_loader_manually,\n",
        "               criterion, optimizer, scheduler, num_epochs)"
      ]
    },
    {
      "cell_type": "code",
      "execution_count": null,
      "metadata": {
        "colab": {
          "base_uri": "https://localhost:8080/"
        },
        "id": "qRam6BClBvGr",
        "outputId": "bf54ed5a-7b70-4d9d-9d66-4dee1564ff97"
      },
      "outputs": [
        {
          "output_type": "stream",
          "name": "stdout",
          "text": [
            "true:  [[0, 1, 2], [0, 2, 4], [2, 4, 5], [4, 5, 6], [4, 6, 7], [6, 7, 7], [6, 7, 7], [6, 7, 8], [6, 8, 9], [0, 2, 4], [2, 4, 5], [4, 5, 5], [4, 5, 6], [4, 6, 7], [6, 7, 7], [6, 7, 7], [6, 7, 7], [6, 7, 8], [6, 8, 9], [8, 9, 9], [0, 1, 4], [0, 4, 5], [4, 5, 6], [4, 6, 7], [6, 7, 7], [6, 7, 8], [6, 8, 9], [8, 9, 9], [0, 1, 2], [0, 2, 4], [2, 4, 5], [4, 5, 5], [4, 5, 5], [4, 5, 5], [4, 5, 6], [4, 6, 7], [6, 7, 7], [6, 7, 7], [6, 7, 7], [6, 7, 8], [6, 8, 9], [2, 4, 5], [4, 5, 5], [4, 5, 6], [4, 6, 7], [6, 7, 7], [6, 7, 7], [6, 7, 7], [6, 7, 7], [6, 7, 7], [6, 7, 7], [6, 7, 7], [6, 7, 7], [6, 7, 7], [6, 7, 7], [6, 7, 8], [6, 8, 9], [0, 1, 2], [0, 2, 4], [2, 4, 5], [4, 5, 6], [4, 6, 7], [6, 7, 7], [6, 7, 7], [6, 7, 8], [0, 1, 2], [0, 2, 4], [2, 4, 5], [4, 5, 6], [4, 6, 7], [6, 7, 7], [6, 7, 7], [6, 7, 7], [6, 7, 8], [6, 8, 9], [0, 1, 2], [0, 2, 4], [2, 4, 5], [4, 5, 6], [4, 6, 7], [6, 7, 7], [6, 7, 8], [6, 8, 9], [0, 2, 4], [2, 4, 5], [4, 5, 5], [4, 5, 6], [4, 6, 7], [6, 7, 7], [6, 7, 7], [6, 7, 8], [0, 1, 1], [0, 1, 2], [0, 2, 4], [2, 4, 5], [4, 5, 5], [4, 5, 6], [4, 6, 7], [6, 7, 7], [6, 7, 7], [6, 7, 8], [6, 8, 9], [0, 2, 4], [2, 4, 5], [4, 5, 5], [4, 5, 5], [4, 5, 6], [4, 6, 7], [6, 7, 7], [6, 7, 8], [0, 2, 4], [2, 4, 5], [4, 5, 5], [4, 5, 6], [4, 6, 7], [6, 7, 7], [6, 7, 7], [6, 7, 8], [6, 8, 9], [8, 9, 9], [0, 1, 2], [0, 2, 4], [2, 4, 5], [4, 5, 5], [4, 5, 5], [4, 5, 5], [4, 5, 5], [4, 5, 5], [4, 5, 5], [4, 5, 5], [4, 5, 6], [4, 6, 7], [6, 7, 7], [6, 7, 7], [6, 7, 7], [6, 7, 7], [6, 7, 8], [6, 8, 9], [8, 9, 9], [0, 1, 2], [0, 2, 4], [2, 4, 5], [4, 5, 5], [4, 5, 5], [4, 5, 5], [4, 5, 6], [4, 6, 7], [6, 7, 8], [0, 2, 4], [2, 4, 5], [4, 5, 6], [4, 6, 8], [6, 8, 9], [2, 4, 5], [4, 5, 5], [4, 5, 6], [4, 6, 7], [6, 7, 8], [0, 2, 4], [2, 4, 6], [4, 6, 7], [6, 7, 7], [6, 7, 7], [6, 7, 7], [6, 7, 7], [6, 7, 7], [6, 7, 8], [6, 8, 9], [2, 4, 5], [4, 5, 5], [4, 5, 5], [4, 5, 6], [4, 6, 8], [0, 2, 4], [2, 4, 5], [4, 5, 5], [4, 5, 5], [4, 5, 5], [4, 5, 6], [4, 6, 7], [6, 7, 7], [6, 7, 7], [6, 7, 7], [6, 7, 8], [6, 8, 9], [2, 0, 1], [0, 1, 2], [0, 2, 4], [2, 4, 5], [4, 5, 6], [4, 6, 7], [6, 7, 7], [6, 7, 7], [6, 7, 7], [6, 7, 7], [6, 7, 8], [6, 8, 9], [8, 9, 9], [0, 1, 2], [0, 2, 4], [2, 4, 5], [4, 5, 5], [4, 5, 5], [4, 5, 5], [4, 5, 5], [4, 5, 6], [4, 6, 7], [6, 7, 7], [6, 7, 7], [6, 7, 8], [2, 4, 5], [4, 5, 5], [4, 5, 6], [4, 6, 7], [6, 7, 7], [6, 7, 7], [6, 7, 7], [6, 7, 7], [6, 7, 8], [6, 8, 9], [8, 9, 9], [2, 4, 5], [4, 5, 5], [4, 5, 6], [4, 6, 7], [6, 7, 7], [6, 7, 8], [0, 1, 2], [0, 2, 4], [2, 4, 5], [4, 5, 5], [4, 5, 5], [4, 5, 6], [4, 6, 7], [6, 7, 7], [6, 7, 7], [6, 7, 8], [6, 8, 9], [2, 4, 5], [4, 5, 6], [4, 6, 7], [6, 7, 7], [6, 7, 7], [6, 7, 7], [6, 7, 7], [6, 7, 8], [6, 8, 9], [0, 2, 4], [2, 4, 5], [4, 5, 5], [4, 5, 5], [4, 5, 5], [4, 5, 6], [4, 6, 7], [6, 7, 7], [6, 7, 7], [6, 7, 8], [0, 1, 2], [0, 2, 4], [2, 4, 5], [4, 5, 5], [4, 5, 6], [4, 6, 7], [6, 7, 7], [6, 7, 8], [6, 8, 9], [0, 1, 1], [0, 1, 2], [0, 2, 4], [2, 4, 5], [4, 5, 5], [4, 5, 5], [4, 5, 6], [4, 6, 7], [6, 7, 7], [6, 7, 7], [6, 7, 7], [6, 7, 7], [6, 7, 8], [6, 8, 9], [8, 9, 9], [0, 1, 2], [0, 2, 4], [2, 4, 5], [4, 5, 5], [4, 5, 5], [4, 5, 6], [4, 6, 7], [6, 7, 7], [6, 7, 7], [6, 7, 8], [6, 8, 9], [8, 9, 9], [8, 9, 9], [0, 1, 1], [0, 1, 2], [0, 2, 4], [2, 4, 5], [4, 5, 5], [4, 5, 5], [4, 5, 5], [4, 5, 6], [4, 6, 7], [6, 7, 8], [0, 1, 2], [0, 2, 4], [2, 4, 5], [4, 5, 5], [4, 5, 6], [4, 6, 7], [6, 7, 7], [6, 7, 7], [6, 7, 8], [6, 8, 9], [8, 9, 9], [0, 1, 2], [0, 2, 4], [2, 4, 5], [4, 5, 5], [4, 5, 5], [4, 5, 6], [4, 6, 7], [6, 7, 7], [6, 7, 7], [6, 7, 8], [6, 8, 9], [2, 4, 5], [4, 5, 5], [4, 5, 5], [4, 5, 6], [4, 6, 7], [6, 7, 8], [6, 8, 9], [8, 9, 9], [8, 9, 9], [8, 9, 9], [0, 2, 4], [2, 4, 5], [4, 5, 5], [4, 5, 5], [4, 5, 5], [4, 5, 5], [4, 5, 6], [4, 6, 7], [6, 7, 7], [6, 7, 7], [6, 7, 7], [6, 7, 7], [6, 7, 7], [6, 7, 7], [6, 7, 8], [6, 8, 9], [0, 1, 2], [0, 2, 4], [2, 4, 5], [4, 5, 5], [4, 5, 5], [4, 5, 6], [4, 6, 7], [6, 7, 7], [6, 7, 8], [6, 8, 9], [0, 1, 1], [0, 1, 2], [0, 2, 4], [2, 4, 5], [4, 5, 5], [4, 5, 5], [4, 5, 6], [4, 6, 8], [0, 2, 4], [2, 4, 6], [4, 6, 7], [6, 7, 7], [6, 7, 7], [6, 7, 7], [6, 7, 7], [6, 7, 8], [6, 8, 9], [0, 1, 2], [0, 2, 4], [2, 4, 5], [4, 5, 5], [4, 5, 5], [4, 5, 6], [4, 6, 7], [6, 7, 8], [6, 8, 9], [2, 3, 4], [2, 4, 5], [4, 5, 5], [4, 5, 5], [4, 5, 6], [4, 6, 7], [6, 7, 7], [6, 7, 8], [0, 1, 4], [0, 4, 2], [4, 2, 6], [2, 6, 7], [6, 7, 7], [6, 7, 7], [6, 7, 7], [6, 7, 7], [6, 7, 8], [6, 8, 9], [8, 9, 9], [8, 9, 9], [0, 1, 1], [0, 1, 2], [0, 2, 4], [2, 4, 5], [4, 5, 5], [4, 5, 5], [4, 5, 5], [4, 5, 5], [4, 5, 6], [4, 6, 7], [6, 7, 7], [6, 7, 7], [6, 7, 8], [6, 8, 9], [0, 1, 1], [0, 1, 2], [0, 2, 4], [2, 4, 5], [4, 5, 5], [4, 5, 6], [4, 6, 7], [6, 7, 8], [6, 8, 9], [0, 1, 2], [0, 2, 4], [2, 4, 6], [4, 6, 7], [6, 7, 7], [6, 7, 7], [6, 7, 7], [6, 7, 7], [6, 7, 8], [6, 8, 9], [2, 4, 5], [4, 5, 5], [4, 5, 5], [4, 5, 6], [4, 6, 7], [6, 7, 8], [6, 8, 9], [0, 2, 4], [2, 4, 5], [4, 5, 5], [4, 5, 5], [4, 5, 6], [4, 6, 7], [6, 7, 7], [6, 7, 7], [6, 7, 7], [6, 7, 7], [6, 7, 7], [6, 7, 7], [6, 7, 8], [6, 8, 9], [0, 1, 4], [0, 4, 5], [4, 5, 5], [4, 5, 6], [4, 6, 7], [6, 7, 7], [6, 7, 7], [6, 7, 7], [6, 7, 7], [6, 7, 7], [6, 7, 8], [2, 0, 1], [0, 1, 1], [0, 1, 1], [0, 1, 2], [0, 2, 4], [2, 4, 5], [4, 5, 6], [4, 6, 7], [6, 7, 8], [0, 1, 1], [0, 1, 1], [0, 1, 2], [0, 2, 3], [2, 3, 4], [2, 4, 5], [4, 5, 6], [4, 6, 7], [6, 7, 7], [6, 7, 8], [0, 1, 2], [0, 2, 4], [2, 4, 5], [4, 5, 5], [4, 5, 5], [4, 5, 6], [4, 6, 7], [6, 7, 7], [6, 7, 7], [6, 7, 7], [6, 7, 8], [6, 8, 9], [2, 4, 5], [4, 5, 5], [4, 5, 5], [4, 5, 6], [4, 6, 7], [6, 7, 7], [6, 7, 7], [6, 7, 7], [6, 7, 7], [6, 7, 8], [0, 1, 2], [0, 2, 3], [2, 3, 4], [2, 4, 5], [4, 5, 6], [4, 6, 7], [6, 7, 8], [6, 8, 9], [8, 9, 9], [0, 1, 1], [0, 1, 1], [0, 1, 1], [0, 1, 1], [0, 1, 2], [0, 2, 3], [2, 3, 4], [2, 4, 5], [4, 5, 5], [4, 5, 5], [4, 5, 5], [4, 5, 6], [4, 6, 8], [6, 8, 9], [8, 0, 1], [0, 1, 1], [0, 1, 1], [0, 1, 2], [0, 2, 6], [2, 6, 7], [6, 7, 7], [0, 2, 4], [2, 4, 5], [4, 5, 5], [4, 5, 6], [4, 6, 8], [2, 4, 5], [4, 5, 5], [4, 5, 5], [4, 5, 6], [4, 6, 7], [6, 7, 7], [6, 7, 7], [6, 7, 7], [6, 7, 8], [0, 1, 1], [0, 1, 4], [0, 4, 5], [4, 5, 6], [4, 6, 8], [6, 8, 9], [0, 2, 4], [2, 4, 5], [4, 5, 6], [4, 6, 7], [6, 7, 7], [6, 7, 8], [2, 0, 1], [0, 1, 4], [0, 4, 5], [4, 5, 5], [4, 5, 6], [4, 6, 7], [6, 7, 7], [6, 7, 7], [6, 7, 8], [6, 8, 9], [8, 9, 9], [8, 9, 9], [0, 1, 2], [0, 2, 4], [2, 4, 6], [4, 6, 8], [2, 4, 5], [4, 5, 5], [4, 5, 5], [4, 5, 6], [4, 6, 7], [6, 7, 7], [6, 7, 7], [6, 7, 8], [0, 1, 1], [0, 1, 1], [0, 1, 4], [0, 4, 5], [4, 5, 5], [4, 5, 5], [4, 5, 5], [4, 5, 6], [4, 6, 7], [6, 7, 7], [6, 7, 7], [6, 7, 7], [6, 7, 7], [6, 7, 7], [6, 7, 8], [2, 4, 5], [4, 5, 5], [4, 5, 5], [4, 5, 5], [4, 5, 5], [4, 5, 5], [4, 5, 6], [4, 6, 7], [6, 7, 7], [6, 7, 8], [6, 8, 9], [0, 1, 1], [0, 1, 2], [0, 2, 3], [2, 3, 4], [2, 4, 5], [4, 5, 5], [4, 5, 6], [4, 6, 7], [6, 7, 8], [0, 1, 2], [0, 2, 4], [2, 4, 5], [4, 5, 5], [4, 5, 5], [4, 5, 6], [4, 6, 7], [6, 7, 7], [6, 7, 7], [6, 7, 8], [0, 1, 1], [0, 1, 1], [0, 1, 1], [0, 1, 4], [0, 4, 5], [4, 5, 5], [4, 5, 5], [4, 5, 5], [4, 5, 5], [4, 5, 5], [4, 5, 5], [4, 5, 5], [4, 5, 5], [4, 5, 5], [4, 5, 5], [4, 5, 5], [4, 5, 8], [4, 8, 9], [0, 2, 4], [2, 4, 5], [4, 5, 5], [4, 5, 6], [4, 6, 7], [6, 7, 8], [6, 8, 9], [0, 2, 4], [2, 4, 5], [4, 5, 6], [4, 6, 7], [6, 7, 7], [6, 7, 7], [6, 7, 7], [6, 7, 7], [6, 7, 7], [6, 7, 8], [6, 8, 9], [0, 1, 1], [0, 1, 1], [0, 1, 1], [0, 1, 2], [0, 2, 8], [0, 2, 6], [2, 6, 7], [6, 7, 7], [6, 7, 7], [6, 7, 8], [0, 1, 2], [0, 2, 6], [2, 6, 7], [6, 7, 7], [6, 7, 7], [6, 7, 7], [6, 7, 8], [6, 8, 9], [2, 6, 7], [6, 7, 7], [6, 7, 7], [6, 7, 7], [6, 7, 7], [6, 7, 8], [0, 2, 3], [2, 3, 6], [2, 6, 7], [6, 7, 7], [6, 7, 7], [6, 7, 8], [6, 8, 9], [0, 2, 3], [2, 3, 4], [2, 4, 5], [4, 5, 6], [4, 6, 8], [0, 1, 2], [0, 2, 6], [2, 6, 7], [6, 7, 7], [6, 7, 7], [6, 7, 7], [6, 7, 8], [0, 1, 4], [0, 4, 5], [4, 5, 6], [4, 6, 7], [6, 7, 7], [6, 7, 8], [6, 8, 9], [0, 2, 6], [2, 6, 7], [6, 7, 7], [6, 7, 7], [6, 7, 7], [0, 1, 1], [0, 1, 1], [0, 1, 2], [0, 2, 8], [0, 1, 1], [0, 1, 1], [0, 1, 2], [0, 2, 8], [0, 1, 6], [0, 6, 7], [6, 7, 7], [6, 7, 7], [2, 6, 7], [6, 7, 7], [6, 7, 7], [6, 7, 7], [0, 1, 1], [0, 1, 1], [0, 1, 1], [0, 1, 1], [0, 1, 2], [0, 1, 2], [0, 2, 3], [2, 3, 4], [2, 4, 5], [4, 5, 5], [4, 5, 5], [4, 5, 5], [4, 5, 5], [4, 5, 5], [4, 5, 5], [4, 5, 5], [4, 5, 5], [4, 5, 6], [0, 1, 1], [0, 1, 1], [0, 1, 1], [0, 1, 6], [4, 5, 5], [4, 5, 6], [4, 6, 7], [6, 7, 7], [6, 7, 7], [6, 7, 8], [0, 1, 1], [0, 1, 1], [0, 1, 4], [0, 4, 6], [4, 6, 7], [6, 7, 7], [6, 7, 7], [6, 7, 7], [6, 7, 8], [6, 8, 9], [0, 1, 1], [0, 1, 6], [0, 6, 7], [6, 7, 7], [6, 7, 7], [6, 7, 7], [6, 7, 8], [2, 0, 4], [0, 4, 6], [4, 6, 7], [6, 7, 7], [6, 7, 7], [6, 7, 7], [6, 7, 8], [0, 6, 7], [6, 7, 4], [6, 4, 6], [4, 6, 7], [6, 7, 7], [6, 7, 8], [0, 1, 2], [0, 2, 4], [2, 4, 6], [4, 6, 7], [6, 7, 8], [6, 8, 9], [0, 1, 2], [0, 2, 4], [2, 4, 6], [4, 6, 7], [6, 7, 8], [0, 4, 6], [4, 6, 7], [6, 7, 7], [6, 7, 8], [6, 8, 9], [2, 4, 5], [4, 5, 6], [4, 6, 7], [6, 7, 7], [6, 7, 7], [6, 7, 7], [6, 7, 8], [0, 6, 7], [6, 7, 7], [6, 7, 7], [6, 7, 7], [6, 7, 7], [6, 7, 7], [6, 7, 7], [6, 7, 7], [6, 7, 8], [0, 1, 1], [0, 1, 1], [0, 1, 1], [0, 1, 2], [0, 1, 4], [0, 4, 5], [4, 5, 6], [4, 6, 8], [0, 1, 1], [0, 1, 2], [0, 2, 6], [2, 6, 7], [6, 7, 7], [6, 7, 8], [2, 6, 7], [6, 7, 7], [6, 7, 7], [6, 7, 7], [6, 7, 8], [0, 1, 2], [0, 2, 4], [2, 4, 5], [4, 5, 5], [4, 5, 6], [4, 6, 8], [0, 1, 1], [0, 1, 1], [0, 1, 2], [0, 2, 4], [2, 4, 5], [4, 5, 5], [4, 5, 8], [4, 8, 9], [0, 2, 4], [2, 4, 5], [4, 5, 5], [4, 5, 6], [4, 6, 8], [6, 8, 9]]\n",
            "pred:  [[0, 1, 2], [0, 2, 4], [2, 4, 5], [2, 5, 6], [4, 7, 9], [6, 7, 7], [6, 7, 7], [6, 7, 9], [6, 9, 9], [0, 2, 4], [2, 4, 5], [4, 5, 5], [4, 5, 6], [4, 6, 7], [6, 7, 7], [6, 7, 7], [6, 7, 7], [6, 7, 8], [6, 8, 9], [6, 7, 8], [4, 5, 5], [4, 5, 5], [2, 4, 5], [5, 5, 5], [6, 7, 7], [6, 7, 8], [6, 8, 9], [0, 9, 9], [0, 1, 2], [0, 2, 4], [2, 4, 5], [4, 5, 5], [4, 5, 5], [4, 5, 5], [4, 5, 6], [4, 6, 7], [6, 7, 7], [6, 7, 7], [6, 7, 7], [6, 7, 8], [6, 9, 9], [2, 4, 5], [4, 5, 5], [4, 5, 7], [6, 7, 7], [6, 7, 7], [6, 7, 7], [6, 7, 7], [6, 7, 7], [6, 7, 7], [6, 7, 7], [6, 7, 7], [6, 7, 7], [6, 7, 7], [6, 7, 7], [6, 7, 8], [6, 8, 8], [0, 1, 2], [0, 2, 4], [2, 4, 5], [4, 5, 6], [4, 6, 7], [6, 7, 7], [6, 7, 7], [6, 7, 8], [6, 7, 2], [0, 2, 4], [2, 4, 5], [4, 6, 7], [6, 7, 7], [6, 7, 7], [6, 7, 7], [6, 7, 9], [0, 1, 1], [0, 6, 9], [0, 1, 2], [0, 2, 4], [2, 4, 5], [4, 5, 6], [4, 6, 7], [6, 7, 7], [6, 7, 8], [6, 8, 9], [0, 2, 4], [2, 4, 5], [4, 5, 5], [4, 5, 6], [4, 6, 7], [6, 7, 7], [6, 7, 7], [6, 7, 9], [0, 1, 1], [0, 1, 2], [0, 2, 4], [2, 4, 5], [4, 5, 5], [4, 5, 6], [4, 6, 7], [6, 7, 7], [6, 7, 7], [6, 7, 8], [6, 8, 9], [0, 2, 5], [2, 5, 5], [5, 5, 5], [4, 5, 5], [4, 5, 6], [4, 7, 7], [6, 7, 7], [6, 7, 7], [0, 2, 4], [2, 4, 5], [4, 5, 5], [4, 5, 6], [4, 6, 7], [6, 7, 7], [6, 7, 7], [6, 7, 8], [6, 8, 8], [6, 7, 7], [0, 1, 2], [0, 2, 4], [2, 4, 5], [4, 5, 5], [4, 5, 5], [4, 5, 5], [4, 5, 5], [4, 5, 5], [4, 5, 5], [4, 5, 6], [4, 6, 7], [6, 6, 7], [6, 7, 7], [6, 7, 7], [6, 7, 7], [6, 7, 7], [6, 7, 7], [6, 7, 8], [6, 8, 9], [0, 1, 2], [0, 2, 4], [2, 4, 5], [4, 5, 5], [4, 5, 5], [4, 5, 5], [4, 5, 6], [4, 6, 7], [6, 7, 8], [0, 2, 4], [2, 4, 5], [4, 5, 7], [6, 7, 8], [6, 8, 9], [2, 4, 5], [4, 5, 5], [4, 5, 6], [4, 6, 7], [6, 7, 8], [0, 2, 4], [2, 4, 5], [4, 5, 7], [6, 7, 7], [6, 7, 7], [6, 7, 7], [6, 7, 7], [6, 7, 7], [6, 6, 8], [6, 8, 9], [2, 4, 5], [4, 5, 5], [4, 5, 5], [4, 5, 6], [4, 6, 8], [0, 2, 4], [2, 4, 5], [4, 5, 5], [4, 5, 5], [4, 5, 5], [4, 5, 6], [4, 6, 7], [6, 7, 7], [6, 7, 7], [6, 7, 7], [6, 7, 7], [6, 7, 9], [2, 0, 1], [0, 1, 2], [0, 2, 4], [2, 4, 5], [4, 5, 6], [4, 6, 7], [6, 7, 7], [6, 7, 7], [6, 7, 7], [6, 7, 7], [6, 7, 8], [6, 8, 8], [6, 7, 8], [0, 1, 2], [0, 2, 4], [2, 4, 5], [4, 5, 5], [4, 5, 5], [4, 5, 5], [4, 5, 5], [4, 5, 6], [4, 6, 7], [6, 7, 7], [6, 7, 7], [6, 8, 9], [2, 2, 4], [4, 5, 5], [4, 5, 6], [4, 6, 7], [6, 7, 7], [6, 7, 7], [6, 7, 7], [6, 7, 7], [6, 7, 8], [6, 8, 9], [0, 9, 9], [2, 4, 5], [4, 5, 5], [4, 5, 6], [4, 6, 7], [6, 7, 7], [6, 7, 8], [0, 1, 2], [0, 2, 4], [2, 4, 5], [4, 5, 5], [4, 5, 5], [4, 5, 6], [4, 6, 7], [6, 7, 7], [6, 7, 8], [6, 7, 8], [6, 8, 9], [2, 4, 5], [4, 5, 6], [4, 6, 7], [6, 7, 7], [6, 7, 7], [6, 7, 7], [6, 7, 7], [6, 7, 8], [6, 8, 8], [0, 2, 4], [2, 4, 5], [4, 5, 5], [4, 5, 5], [4, 5, 5], [4, 5, 6], [4, 6, 7], [6, 7, 7], [6, 7, 7], [6, 7, 8], [0, 1, 2], [0, 2, 4], [2, 4, 5], [4, 5, 5], [4, 5, 6], [4, 6, 7], [6, 7, 7], [6, 7, 8], [6, 8, 9], [0, 1, 1], [0, 1, 2], [0, 2, 4], [2, 4, 5], [4, 5, 5], [4, 5, 5], [4, 5, 6], [4, 6, 7], [6, 7, 7], [6, 7, 7], [6, 7, 7], [6, 7, 7], [6, 7, 8], [6, 8, 9], [8, 9, 9], [0, 1, 2], [0, 2, 4], [2, 4, 5], [4, 5, 5], [4, 5, 5], [4, 5, 6], [4, 6, 7], [6, 7, 7], [6, 7, 7], [6, 7, 8], [6, 8, 9], [8, 9, 9], [8, 9, 9], [0, 1, 1], [0, 1, 2], [0, 2, 4], [2, 4, 5], [4, 5, 5], [4, 5, 5], [4, 5, 5], [4, 5, 6], [4, 6, 7], [6, 7, 8], [0, 1, 2], [0, 2, 4], [2, 4, 5], [4, 4, 5], [4, 5, 6], [4, 6, 7], [6, 7, 7], [6, 7, 7], [6, 7, 8], [6, 8, 9], [8, 9, 9], [0, 1, 2], [0, 2, 4], [2, 4, 4], [4, 4, 5], [4, 5, 5], [4, 5, 6], [4, 6, 7], [6, 7, 7], [6, 7, 9], [6, 7, 9], [6, 9, 9], [2, 4, 5], [4, 5, 5], [4, 5, 5], [4, 5, 6], [4, 6, 7], [6, 7, 8], [6, 8, 8], [8, 8, 9], [8, 8, 9], [8, 9, 9], [0, 2, 4], [2, 4, 5], [4, 5, 5], [4, 5, 5], [4, 5, 5], [4, 5, 5], [4, 5, 5], [4, 5, 6], [4, 6, 7], [6, 7, 7], [6, 7, 7], [6, 7, 7], [6, 7, 7], [6, 7, 7], [6, 7, 8], [6, 8, 8], [0, 1, 2], [0, 2, 4], [2, 4, 5], [4, 5, 5], [4, 5, 6], [4, 6, 7], [4, 6, 7], [6, 7, 7], [6, 7, 8], [6, 8, 9], [0, 1, 1], [0, 1, 2], [0, 2, 4], [2, 4, 6], [4, 5, 5], [4, 5, 5], [4, 5, 6], [4, 8, 9], [0, 2, 4], [2, 4, 6], [4, 6, 6], [6, 7, 7], [6, 7, 7], [6, 7, 7], [6, 7, 7], [6, 7, 8], [6, 8, 9], [0, 1, 2], [0, 2, 4], [2, 4, 5], [4, 5, 5], [4, 5, 5], [4, 5, 5], [4, 6, 7], [6, 7, 8], [6, 8, 9], [2, 2, 4], [2, 5, 5], [4, 5, 5], [4, 5, 5], [4, 5, 6], [4, 6, 7], [6, 7, 7], [6, 7, 8], [0, 1, 4], [0, 4, 5], [4, 5, 6], [2, 6, 7], [6, 7, 7], [6, 7, 7], [6, 7, 7], [6, 7, 7], [6, 7, 7], [6, 7, 8], [6, 7, 9], [6, 7, 9], [0, 1, 1], [0, 1, 2], [0, 2, 4], [2, 4, 5], [4, 4, 5], [4, 5, 5], [4, 5, 5], [4, 5, 5], [4, 5, 6], [4, 6, 7], [6, 7, 7], [6, 7, 7], [6, 7, 8], [6, 8, 9], [0, 1, 1], [0, 1, 4], [0, 2, 4], [2, 4, 5], [4, 5, 5], [4, 5, 6], [4, 6, 7], [6, 7, 8], [6, 8, 9], [0, 1, 2], [0, 2, 5], [2, 5, 5], [4, 6, 6], [6, 7, 7], [6, 7, 7], [6, 7, 7], [6, 7, 7], [6, 7, 8], [6, 8, 9], [2, 2, 5], [4, 5, 5], [4, 5, 5], [4, 5, 6], [4, 6, 7], [6, 7, 8], [6, 8, 9], [0, 2, 4], [2, 4, 5], [4, 5, 5], [4, 5, 5], [4, 5, 6], [4, 6, 7], [6, 7, 7], [6, 7, 7], [6, 6, 7], [6, 7, 7], [6, 7, 7], [6, 6, 7], [6, 7, 8], [6, 8, 9], [0, 1, 4], [0, 4, 5], [4, 5, 5], [6, 7, 7], [6, 7, 7], [6, 7, 7], [6, 7, 7], [6, 7, 7], [6, 7, 8], [6, 7, 7], [6, 7, 8], [2, 4, 5], [4, 5, 5], [4, 5, 5], [4, 5, 5], [0, 2, 5], [2, 4, 5], [4, 5, 6], [4, 6, 7], [6, 7, 8], [0, 1, 1], [0, 1, 1], [0, 1, 2], [0, 2, 4], [2, 4, 5], [4, 4, 5], [4, 5, 6], [4, 6, 7], [6, 7, 7], [6, 7, 8], [0, 1, 2], [0, 2, 5], [2, 4, 5], [4, 5, 5], [4, 5, 5], [4, 5, 6], [4, 6, 7], [6, 7, 7], [6, 7, 7], [6, 7, 7], [6, 7, 9], [8, 9, 9], [2, 4, 5], [4, 5, 5], [4, 5, 5], [4, 5, 6], [4, 6, 7], [6, 7, 7], [6, 7, 7], [6, 7, 7], [6, 7, 7], [6, 7, 7], [0, 1, 2], [0, 2, 2], [2, 2, 4], [2, 4, 5], [4, 5, 6], [4, 6, 7], [6, 7, 8], [6, 8, 9], [6, 7, 9], [0, 1, 1], [6, 7, 7], [0, 1, 1], [6, 7, 9], [6, 9, 9], [6, 9, 2], [0, 2, 4], [2, 4, 5], [4, 5, 5], [4, 5, 5], [4, 5, 5], [4, 5, 5], [4, 5, 8], [4, 8, 9], [6, 1, 1], [0, 1, 1], [0, 1, 1], [0, 1, 2], [0, 2, 6], [2, 6, 7], [6, 7, 8], [0, 2, 4], [2, 4, 5], [4, 5, 5], [4, 5, 6], [4, 6, 8], [2, 4, 5], [4, 5, 5], [4, 5, 5], [4, 5, 6], [4, 6, 7], [6, 7, 7], [6, 7, 7], [6, 7, 7], [6, 7, 8], [0, 1, 1], [0, 1, 4], [0, 4, 5], [4, 5, 6], [4, 6, 8], [6, 7, 9], [0, 2, 4], [2, 4, 5], [4, 5, 6], [4, 6, 7], [6, 7, 7], [6, 7, 8], [2, 0, 1], [0, 1, 2], [0, 2, 4], [4, 5, 6], [4, 6, 7], [6, 7, 7], [6, 7, 7], [6, 7, 7], [6, 7, 7], [6, 7, 8], [6, 8, 9], [8, 9, 9], [0, 1, 2], [0, 2, 4], [2, 5, 6], [4, 6, 8], [2, 4, 5], [4, 5, 5], [4, 5, 5], [4, 5, 6], [4, 6, 7], [6, 7, 7], [6, 7, 7], [6, 7, 8], [0, 1, 1], [0, 1, 1], [0, 1, 4], [0, 4, 5], [4, 5, 5], [4, 5, 5], [4, 5, 5], [4, 5, 6], [4, 6, 7], [6, 7, 7], [6, 7, 7], [6, 7, 7], [6, 7, 7], [6, 7, 8], [6, 8, 9], [2, 4, 5], [4, 5, 5], [4, 5, 5], [4, 5, 5], [4, 5, 5], [4, 5, 5], [4, 5, 6], [4, 8, 8], [6, 9, 9], [6, 9, 8], [6, 8, 9], [0, 1, 1], [0, 1, 2], [0, 2, 2], [2, 2, 4], [2, 4, 5], [4, 5, 5], [4, 5, 6], [4, 6, 7], [6, 7, 8], [0, 1, 2], [0, 2, 4], [2, 4, 5], [4, 5, 5], [4, 5, 5], [4, 5, 6], [4, 6, 7], [6, 7, 7], [6, 7, 7], [6, 7, 8], [0, 1, 1], [0, 9, 9], [0, 1, 1], [0, 1, 4], [0, 4, 5], [4, 5, 5], [4, 5, 5], [4, 5, 5], [4, 7, 7], [6, 7, 7], [6, 7, 7], [6, 7, 7], [4, 5, 5], [4, 5, 5], [4, 6, 7], [4, 5, 7], [6, 7, 8], [6, 8, 9], [0, 2, 4], [2, 4, 5], [4, 5, 5], [4, 5, 6], [4, 6, 7], [6, 7, 7], [6, 8, 8], [0, 2, 4], [2, 4, 5], [4, 5, 6], [4, 6, 7], [6, 7, 7], [6, 7, 7], [6, 7, 7], [6, 7, 7], [6, 7, 7], [6, 7, 8], [6, 8, 9], [0, 1, 1], [0, 1, 1], [0, 1, 1], [0, 1, 2], [0, 2, 6], [0, 2, 6], [2, 6, 7], [6, 7, 7], [6, 7, 7], [6, 7, 8], [0, 1, 2], [6, 2, 6], [2, 6, 7], [6, 7, 7], [6, 7, 7], [6, 7, 7], [6, 7, 8], [6, 8, 9], [2, 6, 7], [6, 7, 7], [6, 7, 7], [6, 7, 7], [6, 7, 7], [6, 7, 8], [0, 2, 4], [2, 5, 6], [4, 6, 7], [6, 7, 7], [6, 7, 7], [6, 7, 8], [6, 8, 9], [0, 2, 4], [2, 4, 5], [2, 5, 5], [4, 5, 6], [4, 6, 8], [0, 1, 2], [0, 2, 6], [2, 6, 1], [0, 1, 7], [6, 7, 8], [6, 8, 9], [6, 9, 9], [0, 1, 4], [0, 4, 5], [4, 6, 6], [4, 6, 7], [6, 7, 7], [6, 7, 8], [6, 8, 9], [0, 2, 2], [2, 8, 9], [8, 9, 9], [8, 9, 9], [8, 9, 9], [0, 1, 1], [0, 1, 1], [0, 1, 2], [0, 2, 6], [0, 1, 1], [0, 1, 1], [0, 1, 2], [0, 2, 6], [0, 1, 6], [0, 6, 7], [6, 7, 7], [6, 7, 7], [2, 6, 7], [6, 7, 7], [6, 7, 7], [6, 7, 7], [0, 1, 1], [0, 1, 1], [0, 1, 1], [0, 1, 1], [0, 1, 4], [0, 1, 2], [0, 2, 4], [2, 5, 5], [2, 5, 5], [4, 5, 5], [4, 5, 5], [4, 5, 5], [4, 5, 5], [4, 5, 5], [4, 5, 5], [4, 5, 5], [4, 5, 6], [4, 7, 8], [0, 1, 1], [0, 1, 1], [0, 1, 1], [0, 1, 2], [4, 7, 7], [6, 7, 7], [4, 6, 7], [6, 7, 7], [6, 7, 7], [6, 7, 7], [0, 1, 1], [6, 1, 1], [0, 1, 2], [0, 2, 6], [4, 6, 7], [6, 7, 7], [6, 7, 8], [6, 7, 7], [6, 7, 8], [6, 8, 9], [0, 1, 1], [6, 7, 7], [0, 7, 7], [6, 7, 7], [6, 7, 7], [6, 7, 7], [6, 7, 8], [2, 5, 5], [4, 5, 6], [4, 6, 7], [6, 7, 7], [6, 7, 7], [6, 7, 7], [6, 7, 9], [4, 5, 5], [4, 5, 5], [4, 5, 5], [4, 5, 5], [4, 5, 7], [6, 7, 8], [0, 2, 2], [0, 2, 4], [2, 4, 6], [4, 6, 7], [6, 7, 9], [6, 9, 9], [0, 1, 2], [0, 2, 4], [2, 4, 5], [4, 5, 5], [4, 5, 6], [0, 4, 6], [4, 6, 7], [6, 7, 7], [6, 7, 7], [6, 7, 8], [2, 4, 5], [4, 5, 6], [4, 6, 7], [6, 7, 7], [6, 7, 7], [6, 7, 7], [6, 7, 8], [4, 5, 6], [4, 6, 7], [6, 7, 7], [6, 7, 7], [6, 7, 7], [6, 7, 7], [6, 7, 7], [6, 7, 7], [6, 7, 8], [0, 1, 1], [0, 5, 5], [4, 5, 7], [0, 1, 2], [0, 1, 2], [0, 2, 4], [2, 4, 6], [4, 6, 8], [0, 1, 1], [0, 1, 2], [0, 2, 6], [2, 6, 7], [6, 7, 7], [6, 7, 8], [2, 6, 7], [6, 7, 7], [6, 7, 7], [6, 7, 8], [6, 7, 8], [0, 1, 2], [0, 2, 4], [2, 4, 5], [4, 5, 5], [4, 5, 6], [4, 6, 8], [0, 1, 1], [0, 1, 1], [0, 1, 2], [0, 2, 6], [2, 5, 5], [4, 5, 5], [4, 5, 6], [4, 7, 9], [0, 2, 4], [2, 4, 6], [4, 6, 5], [6, 6, 7], [4, 6, 7], [6, 7, 7]]\n",
            "precision: 0.9925373134328358, recall: 1.0, F1: 0.9962546816479401\n"
          ]
        },
        {
          "output_type": "stream",
          "name": "stderr",
          "text": [
            "/usr/local/lib/python3.7/dist-packages/sklearn/metrics/_classification.py:1318: UndefinedMetricWarning: Precision and F-score are ill-defined and being set to 0.0 in labels with no predicted samples. Use `zero_division` parameter to control this behavior.\n",
            "  _warn_prf(average, modifier, msg_start, len(result))\n",
            "/usr/local/lib/python3.7/dist-packages/sklearn/metrics/_classification.py:1318: UndefinedMetricWarning: Precision and F-score are ill-defined and being set to 0.0 in labels with no predicted samples. Use `zero_division` parameter to control this behavior.\n",
            "  _warn_prf(average, modifier, msg_start, len(result))\n",
            "/usr/local/lib/python3.7/dist-packages/sklearn/metrics/_classification.py:1318: UndefinedMetricWarning: Precision and F-score are ill-defined and being set to 0.0 in labels with no predicted samples. Use `zero_division` parameter to control this behavior.\n",
            "  _warn_prf(average, modifier, msg_start, len(result))\n"
          ]
        }
      ],
      "source": [
        " f1, eval_loss, confusion_matrix_eval, classificaiton_report_eval = evaluate(model, eval_loader_manually, criterion)\n",
        " "
      ]
    },
    {
      "cell_type": "code",
      "execution_count": null,
      "metadata": {
        "id": "7zQsgHOaByHB"
      },
      "outputs": [],
      "source": [
        "model.eval()\n",
        "val_true, val_pred = [], []\n",
        "all_true, all_pred = [], []\n",
        "i = 0\n",
        "eval_loss = 0\n",
        "for batch in eval_loader_manually:\n",
        "    i += 1\n",
        "    batch = {k: v.to(device) for k, v in batch.items()}\n",
        "    with torch.no_grad():\n",
        "        outputs = model(**batch)\n",
        "        logits = outputs.logits\n",
        "        eval_loss += criterion(logits.view(-1, 10),\n",
        "                                batch['labels'].view(-1)).item()\n",
        "    y_pred = torch.argmax(logits, dim=-1).detach().cpu().numpy().tolist()\n",
        "    y_true = batch['labels'].detach().cpu().numpy().tolist()  # .squeeze()\n",
        "    real_len = torch.sum(batch['attention_mask'],\n",
        "                          1).detach().cpu().numpy().tolist()\n",
        "    for j in range(len(real_len)):\n",
        "        pred_tmp = []\n",
        "        true_tmp = []\n",
        "        for k in range(real_len[j]):  # range(len(y_true[j])):\n",
        "            if y_true[j][k] != ignore_label_id:\n",
        "                pred_tmp.append(y_pred[j][k])\n",
        "                true_tmp.append(y_true[j][k])\n",
        "        val_true.append(true_tmp)\n",
        "        val_pred.append(pred_tmp)\n",
        "        all_true.extend(true_tmp)\n",
        "        all_pred.extend(pred_tmp)"
      ]
    },
    {
      "cell_type": "code",
      "execution_count": null,
      "metadata": {
        "colab": {
          "base_uri": "https://localhost:8080/"
        },
        "id": "3JNL753r-s9L",
        "outputId": "172d9e60-b358-4c84-8e88-065f41702e90"
      },
      "outputs": [
        {
          "output_type": "execute_result",
          "data": {
            "text/plain": [
              "875"
            ]
          },
          "metadata": {},
          "execution_count": 30
        }
      ],
      "source": [
        "len(val_pred)"
      ]
    },
    {
      "cell_type": "code",
      "execution_count": null,
      "metadata": {
        "id": "DrL8cuprS1DX"
      },
      "outputs": [],
      "source": [
        "def back_to_single(pred, true, l1):\n",
        "  return_l_true = []\n",
        "  return_l_pred = []\n",
        "  marker = 0\n",
        "  for i in l1: \n",
        "    new_l_true = []\n",
        "    new_l_pred = []\n",
        "    add = len(i) - 2\n",
        "    pred_single = pred[marker : marker + add]\n",
        "    true_single = true[marker : marker + add]\n",
        "    marker = marker + add\n",
        "    for j in range(len(pred_single)):\n",
        "      new_l_pred.append(pred_single[j][0])\n",
        "      new_l_true.append(true_single[j][0])\n",
        "    new_l_pred.append(pred_single[-1][1])\n",
        "    new_l_pred.append(pred_single[-1][2])\n",
        "    new_l_true.append(true_single[-1][1])\n",
        "    new_l_true.append(true_single[-1][2])\n",
        "    return_l_true.append(new_l_true)\n",
        "    return_l_pred.append(new_l_pred)\n",
        "  return return_l_pred, return_l_true\n",
        "\n",
        "def map_to_normal(seq_label):\n",
        "  normal_map = {\n",
        "    \"0\": \"B\",\n",
        "    \"1\": \"B\",\n",
        "    \"2\": \"O\",\n",
        "    \"3\": \"O\",\n",
        "    \"4\": \"M\",\n",
        "    \"5\": \"M\",\n",
        "    \"6\": \"R\", \n",
        "    \"7\": \"R\",\n",
        "    \"8\": \"C\",\n",
        "    \"9\": \"C\"\n",
        "  }\n",
        "  return [[normal_map[str(y)] for y in x ] for x in seq_label]\n"
      ]
    },
    {
      "cell_type": "markdown",
      "metadata": {
        "id": "wwkfNUa4Spvn"
      },
      "source": [
        "*test* on whole testing set"
      ]
    },
    {
      "cell_type": "code",
      "execution_count": null,
      "metadata": {
        "id": "xX6Jhahn8MWr"
      },
      "outputs": [],
      "source": [
        "pred_single, true_single = back_to_single(val_pred, val_true, test_y)"
      ]
    },
    {
      "cell_type": "code",
      "execution_count": null,
      "metadata": {
        "id": "M191MaUR-gUZ"
      },
      "outputs": [],
      "source": [
        "pred_single_normal = map_to_normal(pred_single)\n",
        "true_single_normal = map_to_normal(true_single)\n",
        "pred_final = [j for i in pred_single_normal for j in i ]\n",
        "true_final = [j for i in true_single_normal for j in i ]"
      ]
    },
    {
      "cell_type": "code",
      "execution_count": null,
      "metadata": {
        "colab": {
          "base_uri": "https://localhost:8080/"
        },
        "id": "1CQvrVLJFZLu",
        "outputId": "985f1dc4-1602-446c-c8a7-dbcf0f00f128"
      },
      "outputs": [
        {
          "output_type": "stream",
          "name": "stdout",
          "text": [
            "              precision    recall  f1-score   support\n",
            "\n",
            "           B       0.97      0.91      0.94       186\n",
            "           C       0.92      0.81      0.86       161\n",
            "           M       0.93      0.93      0.93       271\n",
            "           O       0.96      0.96      0.96        95\n",
            "           R       0.87      0.93      0.90       362\n",
            "\n",
            "    accuracy                           0.91      1075\n",
            "   macro avg       0.93      0.91      0.92      1075\n",
            "weighted avg       0.91      0.91      0.91      1075\n",
            "\n"
          ]
        }
      ],
      "source": [
        "cm_labels = [ \"B\",\"C\",\"M\",\"O\", \"R\"]\n",
        "print(classification_report(true_final, pred_final,target_names=cm_labels))"
      ]
    },
    {
      "cell_type": "code",
      "execution_count": null,
      "metadata": {
        "id": "aHOtN5AfHlqA",
        "colab": {
          "base_uri": "https://localhost:8080/"
        },
        "outputId": "225ee253-209a-4219-8743-7b9b44d04cc3"
      },
      "outputs": [
        {
          "output_type": "execute_result",
          "data": {
            "text/plain": [
              "array([[169,   0,   9,   0,   8],\n",
              "       [  2, 130,   0,   0,  29],\n",
              "       [  0,   0, 253,   3,  15],\n",
              "       [  1,   0,   3,  91,   0],\n",
              "       [  3,  12,   8,   1, 338]])"
            ]
          },
          "metadata": {},
          "execution_count": 35
        }
      ],
      "source": [
        "from sklearn.metrics import confusion_matrix\n",
        "confusion_matrix(true_final, pred_final)"
      ]
    },
    {
      "cell_type": "code",
      "execution_count": null,
      "metadata": {
        "id": "v2qNyqhzKECB"
      },
      "outputs": [],
      "source": [
        ""
      ]
    },
    {
      "cell_type": "markdown",
      "metadata": {
        "id": "6Gebwp6LSyPQ"
      },
      "source": [
        "*test* on structured testing set"
      ]
    },
    {
      "cell_type": "code",
      "execution_count": null,
      "metadata": {
        "id": "R088GM9IydZt"
      },
      "outputs": [],
      "source": [
        "model.eval()\n",
        "val_true_structured, val_pred_structured = [], []\n",
        "all_true_structured, all_pred_structured = [], []\n",
        "i = 0\n",
        "eval_loss = 0\n",
        "for batch in eval_loader_manually_structured:\n",
        "    i += 1\n",
        "    batch = {k: v.to(device) for k, v in batch.items()}\n",
        "    with torch.no_grad():\n",
        "        outputs = model(**batch)\n",
        "        logits = outputs.logits\n",
        "        eval_loss += criterion(logits.view(-1, 10),\n",
        "                                batch['labels'].view(-1)).item()\n",
        "    y_pred = torch.argmax(logits, dim=-1).detach().cpu().numpy().tolist()\n",
        "    y_true = batch['labels'].detach().cpu().numpy().tolist()  # .squeeze()\n",
        "    real_len = torch.sum(batch['attention_mask'],\n",
        "                          1).detach().cpu().numpy().tolist()\n",
        "    for j in range(len(real_len)):\n",
        "        pred_tmp = []\n",
        "        true_tmp = []\n",
        "        for k in range(real_len[j]):  # range(len(y_true[j])):\n",
        "            if y_true[j][k] != ignore_label_id:\n",
        "                pred_tmp.append(y_pred[j][k])\n",
        "                true_tmp.append(y_true[j][k])\n",
        "        val_true_structured.append(true_tmp)\n",
        "        val_pred_structured.append(pred_tmp)\n",
        "        all_true_structured.extend(true_tmp)\n",
        "        all_pred_structured.extend(pred_tmp)"
      ]
    },
    {
      "cell_type": "code",
      "source": [
        ""
      ],
      "metadata": {
        "id": "lqsGiE5pxy8P"
      },
      "execution_count": null,
      "outputs": []
    },
    {
      "cell_type": "code",
      "execution_count": null,
      "metadata": {
        "id": "16mCVxNcS0ws",
        "colab": {
          "base_uri": "https://localhost:8080/"
        },
        "outputId": "c1ec51a8-fba0-4781-eb7b-d09f46abee0f"
      },
      "outputs": [
        {
          "output_type": "stream",
          "name": "stdout",
          "text": [
            "              precision    recall  f1-score   support\n",
            "\n",
            "           B       0.95      0.91      0.93       116\n",
            "           C       0.95      0.83      0.89       127\n",
            "           M       0.97      0.94      0.95       235\n",
            "           O       0.97      0.97      0.97        69\n",
            "           R       0.87      0.97      0.92       262\n",
            "\n",
            "    accuracy                           0.93       809\n",
            "   macro avg       0.94      0.92      0.93       809\n",
            "weighted avg       0.93      0.93      0.93       809\n",
            "\n"
          ]
        }
      ],
      "source": [
        "pred_single, true_single = back_to_single(val_pred_structured, val_true_structured, test_y_structured)\n",
        "pred_single_normal = map_to_normal(pred_single)\n",
        "true_single_normal = map_to_normal(true_single)\n",
        "pred_final = [j for i in pred_single_normal for j in i ]\n",
        "true_final = [j for i in true_single_normal for j in i ]\n",
        "cm_labels = [ \"B\",\"C\",\"M\",\"O\", \"R\"]\n",
        "print(classification_report(true_final, pred_final,target_names=cm_labels))"
      ]
    },
    {
      "cell_type": "code",
      "execution_count": null,
      "metadata": {
        "id": "OCriF6oGS7Nd",
        "colab": {
          "base_uri": "https://localhost:8080/"
        },
        "outputId": "e6dcb842-9d44-4f0c-dfec-f501f979064f"
      },
      "outputs": [
        {
          "output_type": "execute_result",
          "data": {
            "text/plain": [
              "array([[106,   0,   5,   0,   5],\n",
              "       [  2, 105,   0,   0,  20],\n",
              "       [  0,   0, 221,   2,  12],\n",
              "       [  1,   0,   1,  67,   0],\n",
              "       [  2,   5,   2,   0, 253]])"
            ]
          },
          "metadata": {},
          "execution_count": 38
        }
      ],
      "source": [
        "from sklearn.metrics import confusion_matrix\n",
        "confusion_matrix(true_final, pred_final)"
      ]
    },
    {
      "cell_type": "code",
      "execution_count": null,
      "metadata": {
        "id": "xiH1RL3sS88T"
      },
      "outputs": [],
      "source": [
        ""
      ]
    },
    {
      "cell_type": "markdown",
      "metadata": {
        "id": "E3bku6MVS_II"
      },
      "source": [
        "test on unstructured testing set "
      ]
    },
    {
      "cell_type": "code",
      "execution_count": null,
      "metadata": {
        "id": "_JmUfMDs1YZ_"
      },
      "outputs": [],
      "source": [
        "model.eval()\n",
        "val_true_unstructured, val_pred_unstructured = [], []\n",
        "all_true_unstructured, all_pred_unstructured = [], []\n",
        "i = 0\n",
        "eval_loss = 0\n",
        "for batch in eval_loader_manually_unstructured:\n",
        "    i += 1\n",
        "    batch = {k: v.to(device) for k, v in batch.items()}\n",
        "    with torch.no_grad():\n",
        "        outputs = model(**batch)\n",
        "        logits = outputs.logits\n",
        "        eval_loss += criterion(logits.view(-1, 10),\n",
        "                                batch['labels'].view(-1)).item()\n",
        "    y_pred = torch.argmax(logits, dim=-1).detach().cpu().numpy().tolist()\n",
        "    y_true = batch['labels'].detach().cpu().numpy().tolist()  # .squeeze()\n",
        "    real_len = torch.sum(batch['attention_mask'],\n",
        "                          1).detach().cpu().numpy().tolist()\n",
        "    for j in range(len(real_len)):\n",
        "        pred_tmp = []\n",
        "        true_tmp = []\n",
        "        for k in range(real_len[j]):  # range(len(y_true[j])):\n",
        "            if y_true[j][k] != ignore_label_id:\n",
        "                pred_tmp.append(y_pred[j][k])\n",
        "                true_tmp.append(y_true[j][k])\n",
        "        val_true_unstructured.append(true_tmp)\n",
        "        val_pred_unstructured.append(pred_tmp)\n",
        "        all_true_unstructured.extend(true_tmp)\n",
        "        all_pred_unstructured.extend(pred_tmp)"
      ]
    },
    {
      "cell_type": "code",
      "execution_count": null,
      "metadata": {
        "id": "IBuMLuc7TCP_",
        "colab": {
          "base_uri": "https://localhost:8080/"
        },
        "outputId": "a81b2be4-d30d-4174-87f0-d1e75ef5bf99"
      },
      "outputs": [
        {
          "output_type": "stream",
          "name": "stdout",
          "text": [
            "              precision    recall  f1-score   support\n",
            "\n",
            "           B       0.98      0.90      0.94        70\n",
            "           C       0.78      0.74      0.76        34\n",
            "           M       0.73      0.89      0.80        36\n",
            "           O       0.92      0.92      0.92        26\n",
            "           R       0.85      0.85      0.85       100\n",
            "\n",
            "    accuracy                           0.86       266\n",
            "   macro avg       0.85      0.86      0.85       266\n",
            "weighted avg       0.87      0.86      0.86       266\n",
            "\n"
          ]
        }
      ],
      "source": [
        "pred_single, true_single = back_to_single(val_pred_unstructured, val_true_unstructured, test_y_unstructured)\n",
        "pred_single_normal = map_to_normal(pred_single)\n",
        "true_single_normal = map_to_normal(true_single)\n",
        "pred_final = [j for i in pred_single_normal for j in i ]\n",
        "true_final = [j for i in true_single_normal for j in i ]\n",
        "cm_labels = [ \"B\",\"C\",\"M\",\"O\", \"R\"]\n",
        "print(classification_report(true_final, pred_final,target_names=cm_labels))"
      ]
    },
    {
      "cell_type": "code",
      "execution_count": null,
      "metadata": {
        "id": "D1w8W9iNTE9O",
        "colab": {
          "base_uri": "https://localhost:8080/"
        },
        "outputId": "d6dbebd0-2ee3-4b89-cc28-d31dd2aa58b4"
      },
      "outputs": [
        {
          "output_type": "execute_result",
          "data": {
            "text/plain": [
              "array([[63,  0,  4,  0,  3],\n",
              "       [ 0, 25,  0,  0,  9],\n",
              "       [ 0,  0, 32,  1,  3],\n",
              "       [ 0,  0,  2, 24,  0],\n",
              "       [ 1,  7,  6,  1, 85]])"
            ]
          },
          "metadata": {},
          "execution_count": 41
        }
      ],
      "source": [
        "from sklearn.metrics import confusion_matrix\n",
        "confusion_matrix(true_final, pred_final)"
      ]
    },
    {
      "cell_type": "markdown",
      "metadata": {
        "id": "LtVSqe4RBXHD"
      },
      "source": [
        "*test* on PubMed 20k RCT"
      ]
    },
    {
      "cell_type": "code",
      "execution_count": null,
      "metadata": {
        "id": "uA6_K6dIsLJS"
      },
      "outputs": [],
      "source": [
        "model.eval()\n",
        "val_true_pubmed, val_pred_pubmed = [], []\n",
        "all_true_pubmed, all_pred_pubmed = [], []\n",
        "i = 0\n",
        "eval_loss = 0\n",
        "for batch in eval_loader_pubmed:\n",
        "    i += 1\n",
        "    batch = {k: v.to(device) for k, v in batch.items()}\n",
        "    with torch.no_grad():\n",
        "        outputs = model(**batch)\n",
        "        logits = outputs.logits\n",
        "        eval_loss += criterion(logits.view(-1, 10),\n",
        "                                batch['labels'].view(-1)).item()\n",
        "    y_pred = torch.argmax(logits, dim=-1).detach().cpu().numpy().tolist()\n",
        "    y_true = batch['labels'].detach().cpu().numpy().tolist()  # .squeeze()\n",
        "    real_len = torch.sum(batch['attention_mask'],\n",
        "                          1).detach().cpu().numpy().tolist()\n",
        "    for j in range(len(real_len)):\n",
        "        pred_tmp = []\n",
        "        true_tmp = []\n",
        "        for k in range(real_len[j]):  # range(len(y_true[j])):\n",
        "            if y_true[j][k] != ignore_label_id:\n",
        "                pred_tmp.append(y_pred[j][k])\n",
        "                true_tmp.append(y_true[j][k])\n",
        "        val_true_pubmed.append(true_tmp)\n",
        "        val_pred_pubmed.append(pred_tmp)\n",
        "        all_true_pubmed.extend(true_tmp)\n",
        "        all_pred_pubmed.extend(pred_tmp)"
      ]
    },
    {
      "cell_type": "code",
      "execution_count": null,
      "metadata": {
        "id": "hW_FI1yHBgYj"
      },
      "outputs": [],
      "source": [
        "pred_single, true_single = back_to_single(val_pred_pubmed, val_true_pubmed, test_y_pubmed)\n",
        "pred_single_normal = map_to_normal(pred_single)\n",
        "true_single_normal = map_to_normal(true_single)\n",
        "pred_final = [j for i in pred_single_normal for j in i ]\n",
        "true_final = [j for i in true_single_normal for j in i ]\n",
        "cm_labels = [ \"B\",\"C\",\"M\",\"O\", \"R\"]\n",
        "print(classification_report(true_final, pred_final,target_names=cm_labels))"
      ]
    },
    {
      "cell_type": "code",
      "execution_count": null,
      "metadata": {
        "id": "BUIi734CFgqX"
      },
      "outputs": [],
      "source": [
        "from sklearn.metrics import confusion_matrix\n",
        "confusion_matrix(true_final, pred_final)"
      ]
    },
    {
      "cell_type": "code",
      "execution_count": null,
      "metadata": {
        "id": "KS1iWZYLFow5"
      },
      "outputs": [],
      "source": [
        "df_three_window_train[:10]\n"
      ]
    },
    {
      "cell_type": "code",
      "execution_count": null,
      "metadata": {
        "id": "LROae9crOc60"
      },
      "outputs": [],
      "source": [
        ""
      ]
    }
  ],
  "metadata": {
    "accelerator": "GPU",
    "colab": {
      "collapsed_sections": [],
      "name": "3_window_sc_",
      "provenance": []
    },
    "kernelspec": {
      "display_name": "Python 3",
      "name": "python3"
    },
    "language_info": {
      "name": "python"
    },
    "widgets": {
      "application/vnd.jupyter.widget-state+json": {
        "176ca1868acb494fb92264cf600256b4": {
          "model_module": "@jupyter-widgets/controls",
          "model_name": "HBoxModel",
          "model_module_version": "1.5.0",
          "state": {
            "_view_name": "HBoxView",
            "_dom_classes": [],
            "_model_name": "HBoxModel",
            "_view_module": "@jupyter-widgets/controls",
            "_model_module_version": "1.5.0",
            "_view_count": null,
            "_view_module_version": "1.5.0",
            "box_style": "",
            "layout": "IPY_MODEL_f4ea0bc51e9b4c9898a31e5e7bb5a964",
            "_model_module": "@jupyter-widgets/controls",
            "children": [
              "IPY_MODEL_a92358e460bf4e97ae4271b8b918e099",
              "IPY_MODEL_17fb5acd828946afa62e94d755599132",
              "IPY_MODEL_8c1b8e0d2f564daab36782a8c8f09352"
            ]
          }
        },
        "f4ea0bc51e9b4c9898a31e5e7bb5a964": {
          "model_module": "@jupyter-widgets/base",
          "model_name": "LayoutModel",
          "model_module_version": "1.2.0",
          "state": {
            "_view_name": "LayoutView",
            "grid_template_rows": null,
            "right": null,
            "justify_content": null,
            "_view_module": "@jupyter-widgets/base",
            "overflow": null,
            "_model_module_version": "1.2.0",
            "_view_count": null,
            "flex_flow": null,
            "width": null,
            "min_width": null,
            "border": null,
            "align_items": null,
            "bottom": null,
            "_model_module": "@jupyter-widgets/base",
            "top": null,
            "grid_column": null,
            "overflow_y": null,
            "overflow_x": null,
            "grid_auto_flow": null,
            "grid_area": null,
            "grid_template_columns": null,
            "flex": null,
            "_model_name": "LayoutModel",
            "justify_items": null,
            "grid_row": null,
            "max_height": null,
            "align_content": null,
            "visibility": null,
            "align_self": null,
            "height": null,
            "min_height": null,
            "padding": null,
            "grid_auto_rows": null,
            "grid_gap": null,
            "max_width": null,
            "order": null,
            "_view_module_version": "1.2.0",
            "grid_template_areas": null,
            "object_position": null,
            "object_fit": null,
            "grid_auto_columns": null,
            "margin": null,
            "display": null,
            "left": null
          }
        },
        "a92358e460bf4e97ae4271b8b918e099": {
          "model_module": "@jupyter-widgets/controls",
          "model_name": "HTMLModel",
          "model_module_version": "1.5.0",
          "state": {
            "_view_name": "HTMLView",
            "style": "IPY_MODEL_2631d9e1d0534e7980aad6f6b8a3067e",
            "_dom_classes": [],
            "description": "",
            "_model_name": "HTMLModel",
            "placeholder": "​",
            "_view_module": "@jupyter-widgets/controls",
            "_model_module_version": "1.5.0",
            "value": " 99%",
            "_view_count": null,
            "_view_module_version": "1.5.0",
            "description_tooltip": null,
            "_model_module": "@jupyter-widgets/controls",
            "layout": "IPY_MODEL_823aee64f43c47af87174cabbf2e8c10"
          }
        },
        "17fb5acd828946afa62e94d755599132": {
          "model_module": "@jupyter-widgets/controls",
          "model_name": "FloatProgressModel",
          "model_module_version": "1.5.0",
          "state": {
            "_view_name": "ProgressView",
            "style": "IPY_MODEL_3f7377b4e0d24ae89d9e294ed1e56a71",
            "_dom_classes": [],
            "description": "",
            "_model_name": "FloatProgressModel",
            "bar_style": "",
            "max": 563,
            "_view_module": "@jupyter-widgets/controls",
            "_model_module_version": "1.5.0",
            "value": 560,
            "_view_count": null,
            "_view_module_version": "1.5.0",
            "orientation": "horizontal",
            "min": 0,
            "description_tooltip": null,
            "_model_module": "@jupyter-widgets/controls",
            "layout": "IPY_MODEL_bedf987edb4c4fbc826b822d69722dd7"
          }
        },
        "8c1b8e0d2f564daab36782a8c8f09352": {
          "model_module": "@jupyter-widgets/controls",
          "model_name": "HTMLModel",
          "model_module_version": "1.5.0",
          "state": {
            "_view_name": "HTMLView",
            "style": "IPY_MODEL_4959d86bc99d4189be582eb149b5cd89",
            "_dom_classes": [],
            "description": "",
            "_model_name": "HTMLModel",
            "placeholder": "​",
            "_view_module": "@jupyter-widgets/controls",
            "_model_module_version": "1.5.0",
            "value": " 560/563 [09:49&lt;00:02,  1.09it/s]",
            "_view_count": null,
            "_view_module_version": "1.5.0",
            "description_tooltip": null,
            "_model_module": "@jupyter-widgets/controls",
            "layout": "IPY_MODEL_5cfc075728cd49ee9044b5fe2b4d5afc"
          }
        },
        "2631d9e1d0534e7980aad6f6b8a3067e": {
          "model_module": "@jupyter-widgets/controls",
          "model_name": "DescriptionStyleModel",
          "model_module_version": "1.5.0",
          "state": {
            "_view_name": "StyleView",
            "_model_name": "DescriptionStyleModel",
            "description_width": "",
            "_view_module": "@jupyter-widgets/base",
            "_model_module_version": "1.5.0",
            "_view_count": null,
            "_view_module_version": "1.2.0",
            "_model_module": "@jupyter-widgets/controls"
          }
        },
        "823aee64f43c47af87174cabbf2e8c10": {
          "model_module": "@jupyter-widgets/base",
          "model_name": "LayoutModel",
          "model_module_version": "1.2.0",
          "state": {
            "_view_name": "LayoutView",
            "grid_template_rows": null,
            "right": null,
            "justify_content": null,
            "_view_module": "@jupyter-widgets/base",
            "overflow": null,
            "_model_module_version": "1.2.0",
            "_view_count": null,
            "flex_flow": null,
            "width": null,
            "min_width": null,
            "border": null,
            "align_items": null,
            "bottom": null,
            "_model_module": "@jupyter-widgets/base",
            "top": null,
            "grid_column": null,
            "overflow_y": null,
            "overflow_x": null,
            "grid_auto_flow": null,
            "grid_area": null,
            "grid_template_columns": null,
            "flex": null,
            "_model_name": "LayoutModel",
            "justify_items": null,
            "grid_row": null,
            "max_height": null,
            "align_content": null,
            "visibility": null,
            "align_self": null,
            "height": null,
            "min_height": null,
            "padding": null,
            "grid_auto_rows": null,
            "grid_gap": null,
            "max_width": null,
            "order": null,
            "_view_module_version": "1.2.0",
            "grid_template_areas": null,
            "object_position": null,
            "object_fit": null,
            "grid_auto_columns": null,
            "margin": null,
            "display": null,
            "left": null
          }
        },
        "3f7377b4e0d24ae89d9e294ed1e56a71": {
          "model_module": "@jupyter-widgets/controls",
          "model_name": "ProgressStyleModel",
          "model_module_version": "1.5.0",
          "state": {
            "_view_name": "StyleView",
            "_model_name": "ProgressStyleModel",
            "description_width": "",
            "_view_module": "@jupyter-widgets/base",
            "_model_module_version": "1.5.0",
            "_view_count": null,
            "_view_module_version": "1.2.0",
            "bar_color": null,
            "_model_module": "@jupyter-widgets/controls"
          }
        },
        "bedf987edb4c4fbc826b822d69722dd7": {
          "model_module": "@jupyter-widgets/base",
          "model_name": "LayoutModel",
          "model_module_version": "1.2.0",
          "state": {
            "_view_name": "LayoutView",
            "grid_template_rows": null,
            "right": null,
            "justify_content": null,
            "_view_module": "@jupyter-widgets/base",
            "overflow": null,
            "_model_module_version": "1.2.0",
            "_view_count": null,
            "flex_flow": null,
            "width": null,
            "min_width": null,
            "border": null,
            "align_items": null,
            "bottom": null,
            "_model_module": "@jupyter-widgets/base",
            "top": null,
            "grid_column": null,
            "overflow_y": null,
            "overflow_x": null,
            "grid_auto_flow": null,
            "grid_area": null,
            "grid_template_columns": null,
            "flex": null,
            "_model_name": "LayoutModel",
            "justify_items": null,
            "grid_row": null,
            "max_height": null,
            "align_content": null,
            "visibility": null,
            "align_self": null,
            "height": null,
            "min_height": null,
            "padding": null,
            "grid_auto_rows": null,
            "grid_gap": null,
            "max_width": null,
            "order": null,
            "_view_module_version": "1.2.0",
            "grid_template_areas": null,
            "object_position": null,
            "object_fit": null,
            "grid_auto_columns": null,
            "margin": null,
            "display": null,
            "left": null
          }
        },
        "4959d86bc99d4189be582eb149b5cd89": {
          "model_module": "@jupyter-widgets/controls",
          "model_name": "DescriptionStyleModel",
          "model_module_version": "1.5.0",
          "state": {
            "_view_name": "StyleView",
            "_model_name": "DescriptionStyleModel",
            "description_width": "",
            "_view_module": "@jupyter-widgets/base",
            "_model_module_version": "1.5.0",
            "_view_count": null,
            "_view_module_version": "1.2.0",
            "_model_module": "@jupyter-widgets/controls"
          }
        },
        "5cfc075728cd49ee9044b5fe2b4d5afc": {
          "model_module": "@jupyter-widgets/base",
          "model_name": "LayoutModel",
          "model_module_version": "1.2.0",
          "state": {
            "_view_name": "LayoutView",
            "grid_template_rows": null,
            "right": null,
            "justify_content": null,
            "_view_module": "@jupyter-widgets/base",
            "overflow": null,
            "_model_module_version": "1.2.0",
            "_view_count": null,
            "flex_flow": null,
            "width": null,
            "min_width": null,
            "border": null,
            "align_items": null,
            "bottom": null,
            "_model_module": "@jupyter-widgets/base",
            "top": null,
            "grid_column": null,
            "overflow_y": null,
            "overflow_x": null,
            "grid_auto_flow": null,
            "grid_area": null,
            "grid_template_columns": null,
            "flex": null,
            "_model_name": "LayoutModel",
            "justify_items": null,
            "grid_row": null,
            "max_height": null,
            "align_content": null,
            "visibility": null,
            "align_self": null,
            "height": null,
            "min_height": null,
            "padding": null,
            "grid_auto_rows": null,
            "grid_gap": null,
            "max_width": null,
            "order": null,
            "_view_module_version": "1.2.0",
            "grid_template_areas": null,
            "object_position": null,
            "object_fit": null,
            "grid_auto_columns": null,
            "margin": null,
            "display": null,
            "left": null
          }
        }
      }
    }
  },
  "nbformat": 4,
  "nbformat_minor": 0
}